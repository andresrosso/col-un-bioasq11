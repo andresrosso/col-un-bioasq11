{
 "cells": [
  {
   "cell_type": "markdown",
   "id": "e53ce500-3a40-4334-be58-eb38965a2714",
   "metadata": {},
   "source": [
    "# Imports and Commons"
   ]
  },
  {
   "cell_type": "code",
   "execution_count": 3,
   "id": "830c74ff-2958-4adf-8517-e05e960388b4",
   "metadata": {},
   "outputs": [
    {
     "name": "stdout",
     "output_type": "stream",
     "text": [
      "Home path : /opt/bioasq/col-un-bioasq11\n",
      "Eval path : /opt/bioasq/Evaluation-Measures\n"
     ]
    }
   ],
   "source": [
    "%load_ext autoreload\n",
    "%autoreload 2\n",
    "import os\n",
    "import re\n",
    "import json\n",
    "import copy\n",
    "import sys\n",
    "from tqdm import tqdm\n",
    "from pprint import pprint\n",
    "\n",
    "import matplotlib.pyplot as plt\n",
    "import seaborn as sns\n",
    "\n",
    "import pytrec_eval\n",
    "import numpy as np\n",
    "import pandas as pd\n",
    "from elasticsearch import Elasticsearch\n",
    "from haystack.pipelines import Pipeline\n",
    "from haystack.nodes import BM25Retriever, ElasticsearchRetriever\n",
    "from haystack.document_stores import ElasticsearchDocumentStore\n",
    "from haystack.nodes import BM25Retriever, SentenceTransformersRanker\n",
    "from haystack.nodes.reader import FARMReader\n",
    "from haystack.utils import print_answers\n",
    "import warnings\n",
    "warnings.filterwarnings('ignore')\n",
    "\n",
    "sys.path.append('../../')\n",
    "import globals\n",
    "from elastic_search_utils import elastic_utils\n",
    "from haystack_utils.retrievers import BioASQ_Retriever\n",
    "import bioasq_eval\n",
    "import haystack_util\n",
    "\n",
    "working_folder = globals.PATH.home + '/data/working_folder'\n",
    "eval_home = globals.PATH.eval_home + '/'\n",
    "gs_google_docs = eval_home + '/examples/aueb_google_docs/aueb_nlp-bioasq6b-submissions/'\n",
    "index_name = globals.BIOASQ.index + 'working_folder'\n",
    "model_id = 'doc_retrieval_test'\n",
    "\n",
    "es = Elasticsearch(globals.ES.server)\n",
    "\n",
    "# set document store\n",
    "document_store = ElasticsearchDocumentStore()"
   ]
  },
  {
   "cell_type": "markdown",
   "id": "5bc630c8",
   "metadata": {},
   "source": [
    "# Set Eval or Prediction"
   ]
  },
  {
   "cell_type": "code",
   "execution_count": 4,
   "id": "8d87dd1d-3f32-43cb-80ee-11fd43169ce2",
   "metadata": {},
   "outputs": [],
   "source": [
    "batch_fn = 'BioASQ-task11bPhaseA-testset3.json'\n",
    "test_batch_doc = f'{globals.PATH.home}/data/11b_testset/{batch_fn}'\n",
    "test_batch_json = json.load(open(test_batch_doc))"
   ]
  },
  {
   "cell_type": "code",
   "execution_count": 5,
   "id": "bf02b859",
   "metadata": {},
   "outputs": [],
   "source": [
    "is_eval = False"
   ]
  },
  {
   "cell_type": "markdown",
   "id": "8d7c1d3f",
   "metadata": {},
   "source": [
    "# Document Retrieval"
   ]
  },
  {
   "cell_type": "markdown",
   "id": "3e87321f-c975-43b4-88d0-4637beb40422",
   "metadata": {},
   "source": [
    "## BM25"
   ]
  },
  {
   "cell_type": "code",
   "execution_count": 6,
   "id": "c60a81f9",
   "metadata": {},
   "outputs": [
    {
     "name": "stderr",
     "output_type": "stream",
     "text": [
      "100%|███████████████████████████████████████████████████████████████████████████████████████████████████████████| 90/90 [00:36<00:00,  2.49it/s]\n"
     ]
    }
   ],
   "source": [
    "model_id = 'bm25-10docs'\n",
    "num_docs = 10\n",
    "num_passages = 10\n",
    "\n",
    "# create the retriever\n",
    "retriever = BioASQ_Retriever(document_store = document_store)\n",
    "# create the Query Pipeline\n",
    "bm25_pipeline = Pipeline()\n",
    "bm25_pipeline.add_node(component=retriever, name=\"Retriever\", inputs=[\"Query\"])\n",
    "pipeline_params = {\"Retriever\": {\"top_k\": num_docs}}\n",
    "\n",
    "docs_submission = haystack_util.evaluate_bioasq_phaseA_haystack_pipeline(\n",
    "    batch_json = test_batch_json, \n",
    "    batch_json_fname = batch_fn,\n",
    "    pipeline = bm25_pipeline, \n",
    "    pipeline_params = pipeline_params, \n",
    "    method_id = model_id, \n",
    "    max_num_docs = num_docs, \n",
    "    max_num_passages = num_passages,\n",
    "    is_eval=is_eval)\n",
    "\n",
    "submission_file_name = f'{globals.PATH.home}/data/processed/{batch_fn.replace(\".json\",\"\")}_model_{model_id}.json'\n",
    "json.dump(docs_submission, open(submission_file_name, 'w'))"
   ]
  },
  {
   "cell_type": "markdown",
   "id": "4c795bb1",
   "metadata": {},
   "source": [
    "## BM25 with 100 documents"
   ]
  },
  {
   "cell_type": "code",
   "execution_count": 7,
   "id": "81a403b4",
   "metadata": {},
   "outputs": [
    {
     "name": "stderr",
     "output_type": "stream",
     "text": [
      "100%|███████████████████████████████████████████████████████████████████████████████████████████████████████████| 90/90 [00:59<00:00,  1.50it/s]\n"
     ]
    }
   ],
   "source": [
    "model_id = 'bm25-100docs'\n",
    "num_docs = 100\n",
    "num_passages = 10\n",
    "\n",
    "# create the retriever\n",
    "retriever = BioASQ_Retriever(document_store = document_store)\n",
    "# create the Query Pipeline\n",
    "bm25_pipeline = Pipeline()\n",
    "bm25_pipeline.add_node(component=retriever, name=\"Retriever\", inputs=[\"Query\"])\n",
    "pipeline_params = {\"Retriever\": {\"top_k\": num_docs}}\n",
    "\n",
    "docs_submission = haystack_util.evaluate_bioasq_phaseA_haystack_pipeline(\n",
    "    batch_json = test_batch_json, \n",
    "    batch_json_fname = batch_fn,\n",
    "    pipeline = bm25_pipeline, \n",
    "    pipeline_params = pipeline_params, \n",
    "    method_id = model_id, \n",
    "    max_num_docs = num_docs, \n",
    "    max_num_passages = num_passages,\n",
    "    is_eval=is_eval)\n",
    "\n",
    "submission_file_name = f'{globals.PATH.home}/data/processed/{batch_fn.replace(\".json\",\"\")}_model_{model_id}.json'\n",
    "json.dump(docs_submission, open(submission_file_name, 'w'))"
   ]
  },
  {
   "cell_type": "markdown",
   "id": "48fe033b",
   "metadata": {},
   "source": [
    "## BM25 + MiniLM-L-12-v2 Ranker"
   ]
  },
  {
   "cell_type": "code",
   "execution_count": 8,
   "id": "34e8d9bf",
   "metadata": {},
   "outputs": [
    {
     "name": "stderr",
     "output_type": "stream",
     "text": [
      "100%|███████████████████████████████████████████████████████████████████████████████████████████████████████████| 90/90 [05:10<00:00,  3.45s/it]\n"
     ]
    }
   ],
   "source": [
    "model_id = 'bm25-cross-encoder-MiniLM'\n",
    "num_docs = 100\n",
    "num_passages = 10\n",
    "\n",
    "# create the retriever\n",
    "retriever = BioASQ_Retriever(document_store = document_store)\n",
    "ranker = SentenceTransformersRanker(model_name_or_path=\"cross-encoder/ms-marco-MiniLM-L-12-v2\")\n",
    "# create the Query Pipeline\n",
    "pipeline_bm25_ranker = Pipeline()\n",
    "pipeline_bm25_ranker.add_node(component=retriever, name=\"BM25Retriever\", inputs=[\"Query\"])\n",
    "pipeline_bm25_ranker.add_node(component=ranker, name=\"Ranker\", inputs=[\"BM25Retriever\"])\n",
    "pipeline_params = {\"BM25Retriever\": {\"top_k\": 100}, \"Ranker\": {\"top_k\": num_docs}}\n",
    "\n",
    "docs_submission = haystack_util.evaluate_bioasq_phaseA_haystack_pipeline(\n",
    "    batch_json = test_batch_json, \n",
    "    batch_json_fname = batch_fn,\n",
    "    pipeline = pipeline_bm25_ranker, \n",
    "    pipeline_params = pipeline_params, \n",
    "    method_id = model_id, \n",
    "    max_num_docs = num_docs, \n",
    "    max_num_passages = num_passages,\n",
    "    is_eval = is_eval)\n",
    "\n",
    "submission_file_name = f'{globals.PATH.home}/data/processed/{batch_fn.replace(\".json\",\"\")}_model_{model_id}.json'\n",
    "json.dump(docs_submission, open(submission_file_name, 'w'))"
   ]
  },
  {
   "cell_type": "markdown",
   "id": "52aecb93",
   "metadata": {},
   "source": [
    "## BM25 + MiniLM-L-12-v2 Ranker"
   ]
  },
  {
   "cell_type": "code",
   "execution_count": 9,
   "id": "38e34271",
   "metadata": {},
   "outputs": [
    {
     "name": "stderr",
     "output_type": "stream",
     "text": [
      "Some weights of DistilBertForSequenceClassification were not initialized from the model checkpoint at sentence-transformers/distilbert-base-nli-stsb-quora-ranking and are newly initialized: ['pre_classifier.weight', 'classifier.bias', 'classifier.weight', 'pre_classifier.bias']\n",
      "You should probably TRAIN this model on a down-stream task to be able to use it for predictions and inference.\n",
      "100%|███████████████████████████████████████████████████████████████████████████████████████████████████████████| 90/90 [06:55<00:00,  4.62s/it]\n"
     ]
    }
   ],
   "source": [
    "model_id = 'bm25-distilbert'\n",
    "num_docs = 100\n",
    "num_passages = 10\n",
    "\n",
    "# create the retriever\n",
    "retriever = BioASQ_Retriever(document_store = document_store)\n",
    "ranker = SentenceTransformersRanker(model_name_or_path=\"sentence-transformers/distilbert-base-nli-stsb-quora-ranking\")\n",
    "# create the Query Pipeline\n",
    "pipeline_bm25_ranker = Pipeline()\n",
    "pipeline_bm25_ranker.add_node(component=retriever, name=\"BM25Retriever\", inputs=[\"Query\"])\n",
    "pipeline_bm25_ranker.add_node(component=ranker, name=\"Ranker\", inputs=[\"BM25Retriever\"])\n",
    "pipeline_params = {\"BM25Retriever\": {\"top_k\": 100}, \"Ranker\": {\"top_k\": num_docs}}\n",
    "\n",
    "docs_submission = haystack_util.evaluate_bioasq_phaseA_haystack_pipeline(\n",
    "    batch_json = test_batch_json, \n",
    "    batch_json_fname = batch_fn,\n",
    "    pipeline = pipeline_bm25_ranker, \n",
    "    pipeline_params = pipeline_params, \n",
    "    method_id = model_id, \n",
    "    max_num_docs = num_docs, \n",
    "    max_num_passages = num_passages,\n",
    "    is_eval = is_eval)\n",
    "\n",
    "submission_file_name = f'{globals.PATH.home}/data/processed/{batch_fn.replace(\".json\",\"\")}_model_{model_id}.json'\n",
    "json.dump(docs_submission, open(submission_file_name, 'w'))"
   ]
  },
  {
   "cell_type": "code",
   "execution_count": null,
   "id": "7230b31c",
   "metadata": {},
   "outputs": [],
   "source": []
  },
  {
   "cell_type": "code",
   "execution_count": null,
   "id": "2edc8074",
   "metadata": {},
   "outputs": [],
   "source": []
  }
 ],
 "metadata": {
  "kernelspec": {
   "display_name": "haystack-py310",
   "language": "python",
   "name": "haystack-py310"
  },
  "language_info": {
   "codemirror_mode": {
    "name": "ipython",
    "version": 3
   },
   "file_extension": ".py",
   "mimetype": "text/x-python",
   "name": "python",
   "nbconvert_exporter": "python",
   "pygments_lexer": "ipython3",
   "version": "3.10.10"
  }
 },
 "nbformat": 4,
 "nbformat_minor": 5
}
