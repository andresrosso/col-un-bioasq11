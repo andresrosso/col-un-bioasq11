{
 "cells": [
  {
   "cell_type": "markdown",
   "id": "e53ce500-3a40-4334-be58-eb38965a2714",
   "metadata": {},
   "source": [
    "# Imports and Commons"
   ]
  },
  {
   "cell_type": "code",
   "execution_count": 4,
   "id": "830c74ff-2958-4adf-8517-e05e960388b4",
   "metadata": {},
   "outputs": [
    {
     "name": "stdout",
     "output_type": "stream",
     "text": [
      "The autoreload extension is already loaded. To reload it, use:\n",
      "  %reload_ext autoreload\n"
     ]
    }
   ],
   "source": [
    "%load_ext autoreload\n",
    "%autoreload 2\n",
    "import os\n",
    "import re\n",
    "import json\n",
    "import copy\n",
    "import sys\n",
    "from tqdm import tqdm\n",
    "from pprint import pprint\n",
    "\n",
    "import matplotlib.pyplot as plt\n",
    "import seaborn as sns\n",
    "\n",
    "import pytrec_eval\n",
    "import numpy as np\n",
    "import pandas as pd\n",
    "from elasticsearch import Elasticsearch\n",
    "from haystack.pipelines import Pipeline\n",
    "from haystack.nodes import BM25Retriever, ElasticsearchRetriever\n",
    "from haystack.document_stores import ElasticsearchDocumentStore\n",
    "from haystack.nodes import BM25Retriever, SentenceTransformersRanker\n",
    "from haystack.nodes.reader import FARMReader\n",
    "from haystack.utils import print_answers\n",
    "import warnings\n",
    "warnings.filterwarnings('ignore')\n",
    "\n",
    "sys.path.append('../../')\n",
    "import globals\n",
    "from elastic_search_utils import elastic_utils\n",
    "from haystack_utils.retrievers import BioASQ_Retriever\n",
    "import bioasq_eval\n",
    "import haystack_util\n",
    "\n",
    "working_folder = globals.PATH.home + '/data/working_folder'\n",
    "eval_home = globals.PATH.eval_home + '/'\n",
    "gs_google_docs = eval_home + '/examples/aueb_google_docs/aueb_nlp-bioasq6b-submissions/'\n",
    "index_name = globals.BIOASQ.index + 'working_folder'\n",
    "model_id = 'doc_retrieval_test'\n",
    "\n",
    "es = Elasticsearch(globals.ES.server)\n",
    "\n",
    "# set document store\n",
    "document_store = ElasticsearchDocumentStore()"
   ]
  },
  {
   "cell_type": "markdown",
   "id": "7e74e388",
   "metadata": {},
   "source": [
    "# Set Eval or Prediction"
   ]
  },
  {
   "cell_type": "code",
   "execution_count": 5,
   "id": "64fead96",
   "metadata": {},
   "outputs": [],
   "source": [
    "#evaluate over aueb documents\n",
    "test_batch_docs = [ #('','8b5_ES_30_full.json')\n",
    "                ('6B1_golden.json', gs_google_docs+'1-aueb-nlp-4.json'),\n",
    "                ('6B2_golden.json', gs_google_docs+'2-aueb-nlp-4.json'),\n",
    "                ('6B3_golden.json', gs_google_docs+'3-aueb-nlp-4.json'),\n",
    "                ('6B4_golden.json', gs_google_docs+'4-aueb-nlp-4.json'),\n",
    "                ('6B5_golden.json', gs_google_docs+'5-aueb-nlp-4.json')\n",
    "               ]"
   ]
  },
  {
   "cell_type": "code",
   "execution_count": 6,
   "id": "8d87dd1d-3f32-43cb-80ee-11fd43169ce2",
   "metadata": {},
   "outputs": [],
   "source": [
    "test_batch_doc = f'{working_folder}/test11b/BioASQ-task11bPhaseA-testset1.json'\n",
    "test_batch_json = json.load(open(test_batch_doc))"
   ]
  },
  {
   "cell_type": "code",
   "execution_count": 7,
   "id": "504e2ffc",
   "metadata": {},
   "outputs": [],
   "source": [
    "is_eval = True"
   ]
  },
  {
   "cell_type": "markdown",
   "id": "d687e039",
   "metadata": {},
   "source": [
    "# Document Retrieval"
   ]
  },
  {
   "cell_type": "markdown",
   "id": "3e87321f-c975-43b4-88d0-4637beb40422",
   "metadata": {},
   "source": [
    "## BM25"
   ]
  },
  {
   "cell_type": "code",
   "execution_count": 5,
   "id": "044a9de6-4ae5-4a24-bc95-11b46aa21e01",
   "metadata": {},
   "outputs": [],
   "source": [
    "# create the retriever\n",
    "retriever = BioASQ_Retriever(document_store = document_store)\n",
    "# create the Query Pipeline\n",
    "bm25_pipeline = Pipeline()\n",
    "bm25_pipeline.add_node(component=retriever, name=\"Retriever\", inputs=[\"Query\"])"
   ]
  },
  {
   "cell_type": "markdown",
   "id": "0295707b",
   "metadata": {},
   "source": [
    "### Evaluate Results"
   ]
  },
  {
   "cell_type": "code",
   "execution_count": 6,
   "id": "b0aec120",
   "metadata": {},
   "outputs": [
    {
     "name": "stderr",
     "output_type": "stream",
     "text": [
      "100%|█████████████████████████████████████████████████████████████████████████████████████████████████████████| 100/100 [00:24<00:00,  4.06it/s]\n",
      "100%|█████████████████████████████████████████████████████████████████████████████████████████████████████████| 100/100 [00:26<00:00,  3.84it/s]\n",
      "100%|█████████████████████████████████████████████████████████████████████████████████████████████████████████| 100/100 [00:28<00:00,  3.54it/s]\n",
      "100%|█████████████████████████████████████████████████████████████████████████████████████████████████████████| 100/100 [00:21<00:00,  4.69it/s]\n",
      "100%|█████████████████████████████████████████████████████████████████████████████████████████████████████████| 100/100 [00:23<00:00,  4.34it/s]\n"
     ]
    }
   ],
   "source": [
    "pipeline_params = {\"Retriever\": {\"top_k\": 10}}\n",
    "docs_scores, pass_scores = haystack_util.evaluate_batch_list(test_batch_docs, bm25_pipeline, pipeline_params, 'bm25', max_num_docs = 10, max_num_passages = 10)\n",
    "#df.to_csv(working_folder + \"/\" + model_id+'.csv', index=False)"
   ]
  },
  {
   "cell_type": "code",
   "execution_count": 7,
   "id": "3258e6a1",
   "metadata": {},
   "outputs": [
    {
     "data": {
      "text/html": [
       "<div>\n",
       "<style scoped>\n",
       "    .dataframe tbody tr th:only-of-type {\n",
       "        vertical-align: middle;\n",
       "    }\n",
       "\n",
       "    .dataframe tbody tr th {\n",
       "        vertical-align: top;\n",
       "    }\n",
       "\n",
       "    .dataframe thead th {\n",
       "        text-align: right;\n",
       "    }\n",
       "</style>\n",
       "<table border=\"1\" class=\"dataframe\">\n",
       "  <thead>\n",
       "    <tr style=\"text-align: right;\">\n",
       "      <th></th>\n",
       "      <th>Batch</th>\n",
       "      <th>Method</th>\n",
       "      <th>Mean precision</th>\n",
       "      <th>Recall</th>\n",
       "      <th>F-Measure</th>\n",
       "      <th>MAP</th>\n",
       "      <th>GMAP</th>\n",
       "    </tr>\n",
       "  </thead>\n",
       "  <tbody>\n",
       "    <tr>\n",
       "      <th>0</th>\n",
       "      <td>1-aueb-nlp-4.json</td>\n",
       "      <td>bm25</td>\n",
       "      <td>0.186</td>\n",
       "      <td>0.4315</td>\n",
       "      <td>0.2129</td>\n",
       "      <td>0.1143</td>\n",
       "      <td>0.0118</td>\n",
       "    </tr>\n",
       "    <tr>\n",
       "      <th>1</th>\n",
       "      <td>2-aueb-nlp-4.json</td>\n",
       "      <td>bm25</td>\n",
       "      <td>0.175</td>\n",
       "      <td>0.4186</td>\n",
       "      <td>0.1948</td>\n",
       "      <td>0.1105</td>\n",
       "      <td>0.0098</td>\n",
       "    </tr>\n",
       "    <tr>\n",
       "      <th>2</th>\n",
       "      <td>3-aueb-nlp-4.json</td>\n",
       "      <td>bm25</td>\n",
       "      <td>0.198</td>\n",
       "      <td>0.4364</td>\n",
       "      <td>0.2037</td>\n",
       "      <td>0.1209</td>\n",
       "      <td>0.0170</td>\n",
       "    </tr>\n",
       "    <tr>\n",
       "      <th>3</th>\n",
       "      <td>4-aueb-nlp-4.json</td>\n",
       "      <td>bm25</td>\n",
       "      <td>0.135</td>\n",
       "      <td>0.3880</td>\n",
       "      <td>0.1570</td>\n",
       "      <td>0.0846</td>\n",
       "      <td>0.0033</td>\n",
       "    </tr>\n",
       "    <tr>\n",
       "      <th>4</th>\n",
       "      <td>5-aueb-nlp-4.json</td>\n",
       "      <td>bm25</td>\n",
       "      <td>0.114</td>\n",
       "      <td>0.2074</td>\n",
       "      <td>0.1232</td>\n",
       "      <td>0.0606</td>\n",
       "      <td>0.0011</td>\n",
       "    </tr>\n",
       "  </tbody>\n",
       "</table>\n",
       "</div>"
      ],
      "text/plain": [
       "               Batch Method  Mean precision  Recall  F-Measure     MAP    GMAP\n",
       "0  1-aueb-nlp-4.json   bm25           0.186  0.4315     0.2129  0.1143  0.0118\n",
       "1  2-aueb-nlp-4.json   bm25           0.175  0.4186     0.1948  0.1105  0.0098\n",
       "2  3-aueb-nlp-4.json   bm25           0.198  0.4364     0.2037  0.1209  0.0170\n",
       "3  4-aueb-nlp-4.json   bm25           0.135  0.3880     0.1570  0.0846  0.0033\n",
       "4  5-aueb-nlp-4.json   bm25           0.114  0.2074     0.1232  0.0606  0.0011"
      ]
     },
     "metadata": {},
     "output_type": "display_data"
    }
   ],
   "source": [
    "display(docs_scores)"
   ]
  },
  {
   "cell_type": "code",
   "execution_count": 8,
   "id": "b7324b3e",
   "metadata": {},
   "outputs": [
    {
     "data": {
      "text/html": [
       "<div>\n",
       "<style scoped>\n",
       "    .dataframe tbody tr th:only-of-type {\n",
       "        vertical-align: middle;\n",
       "    }\n",
       "\n",
       "    .dataframe tbody tr th {\n",
       "        vertical-align: top;\n",
       "    }\n",
       "\n",
       "    .dataframe thead th {\n",
       "        text-align: right;\n",
       "    }\n",
       "</style>\n",
       "<table border=\"1\" class=\"dataframe\">\n",
       "  <thead>\n",
       "    <tr style=\"text-align: right;\">\n",
       "      <th></th>\n",
       "      <th>Batch</th>\n",
       "      <th>Method</th>\n",
       "      <th>Mean precision</th>\n",
       "      <th>Recall</th>\n",
       "      <th>F-Measure</th>\n",
       "      <th>MAP</th>\n",
       "      <th>GMAP</th>\n",
       "    </tr>\n",
       "  </thead>\n",
       "  <tbody>\n",
       "    <tr>\n",
       "      <th>0</th>\n",
       "      <td>1-aueb-nlp-4.json</td>\n",
       "      <td>bm25</td>\n",
       "      <td>0.2127</td>\n",
       "      <td>0.2501</td>\n",
       "      <td>0.1924</td>\n",
       "      <td>0.1659</td>\n",
       "      <td>0.0111</td>\n",
       "    </tr>\n",
       "    <tr>\n",
       "      <th>1</th>\n",
       "      <td>2-aueb-nlp-4.json</td>\n",
       "      <td>bm25</td>\n",
       "      <td>0.2873</td>\n",
       "      <td>0.2146</td>\n",
       "      <td>0.1850</td>\n",
       "      <td>0.2337</td>\n",
       "      <td>0.0231</td>\n",
       "    </tr>\n",
       "    <tr>\n",
       "      <th>2</th>\n",
       "      <td>3-aueb-nlp-4.json</td>\n",
       "      <td>bm25</td>\n",
       "      <td>0.2600</td>\n",
       "      <td>0.2607</td>\n",
       "      <td>0.2298</td>\n",
       "      <td>0.2306</td>\n",
       "      <td>0.0359</td>\n",
       "    </tr>\n",
       "    <tr>\n",
       "      <th>3</th>\n",
       "      <td>4-aueb-nlp-4.json</td>\n",
       "      <td>bm25</td>\n",
       "      <td>0.1761</td>\n",
       "      <td>0.2367</td>\n",
       "      <td>0.1646</td>\n",
       "      <td>0.1479</td>\n",
       "      <td>0.0033</td>\n",
       "    </tr>\n",
       "    <tr>\n",
       "      <th>4</th>\n",
       "      <td>5-aueb-nlp-4.json</td>\n",
       "      <td>bm25</td>\n",
       "      <td>0.1409</td>\n",
       "      <td>0.1849</td>\n",
       "      <td>0.1285</td>\n",
       "      <td>0.1007</td>\n",
       "      <td>0.0024</td>\n",
       "    </tr>\n",
       "  </tbody>\n",
       "</table>\n",
       "</div>"
      ],
      "text/plain": [
       "               Batch Method  Mean precision  Recall  F-Measure     MAP    GMAP\n",
       "0  1-aueb-nlp-4.json   bm25          0.2127  0.2501     0.1924  0.1659  0.0111\n",
       "1  2-aueb-nlp-4.json   bm25          0.2873  0.2146     0.1850  0.2337  0.0231\n",
       "2  3-aueb-nlp-4.json   bm25          0.2600  0.2607     0.2298  0.2306  0.0359\n",
       "3  4-aueb-nlp-4.json   bm25          0.1761  0.2367     0.1646  0.1479  0.0033\n",
       "4  5-aueb-nlp-4.json   bm25          0.1409  0.1849     0.1285  0.1007  0.0024"
      ]
     },
     "metadata": {},
     "output_type": "display_data"
    }
   ],
   "source": [
    "display(pass_scores)"
   ]
  },
  {
   "cell_type": "markdown",
   "id": "42a3699f",
   "metadata": {},
   "source": [
    "## BM25 with 100 documents"
   ]
  },
  {
   "cell_type": "code",
   "execution_count": 9,
   "id": "617c3ba5",
   "metadata": {},
   "outputs": [
    {
     "name": "stderr",
     "output_type": "stream",
     "text": [
      "100%|█████████████████████████████████████████████████████████████████████████████████████████████████████████| 100/100 [00:43<00:00,  2.28it/s]\n",
      "100%|█████████████████████████████████████████████████████████████████████████████████████████████████████████| 100/100 [00:45<00:00,  2.20it/s]\n",
      "100%|█████████████████████████████████████████████████████████████████████████████████████████████████████████| 100/100 [00:46<00:00,  2.13it/s]\n",
      "100%|█████████████████████████████████████████████████████████████████████████████████████████████████████████| 100/100 [00:34<00:00,  2.89it/s]\n",
      "100%|█████████████████████████████████████████████████████████████████████████████████████████████████████████| 100/100 [00:39<00:00,  2.54it/s]\n"
     ]
    }
   ],
   "source": [
    "# create the retriever\n",
    "retriever = BioASQ_Retriever(document_store = document_store)\n",
    "# create the Query Pipeline\n",
    "bm25_pipeline = Pipeline()\n",
    "bm25_pipeline.add_node(component=retriever, name=\"Retriever\", inputs=[\"Query\"])\n",
    "# run the pipeline\n",
    "pipeline_params = {\"Retriever\": {\"top_k\": 100}}\n",
    "docs_scores, pass_scores = haystack_util.evaluate_batch_list(test_batch_docs, bm25_pipeline, pipeline_params, method_id = 'bm25', max_num_docs = 100, max_num_passages = 10)"
   ]
  },
  {
   "cell_type": "code",
   "execution_count": 10,
   "id": "ba181795",
   "metadata": {},
   "outputs": [
    {
     "data": {
      "text/html": [
       "<div>\n",
       "<style scoped>\n",
       "    .dataframe tbody tr th:only-of-type {\n",
       "        vertical-align: middle;\n",
       "    }\n",
       "\n",
       "    .dataframe tbody tr th {\n",
       "        vertical-align: top;\n",
       "    }\n",
       "\n",
       "    .dataframe thead th {\n",
       "        text-align: right;\n",
       "    }\n",
       "</style>\n",
       "<table border=\"1\" class=\"dataframe\">\n",
       "  <thead>\n",
       "    <tr style=\"text-align: right;\">\n",
       "      <th></th>\n",
       "      <th>Batch</th>\n",
       "      <th>Method</th>\n",
       "      <th>Mean precision</th>\n",
       "      <th>Recall</th>\n",
       "      <th>F-Measure</th>\n",
       "      <th>MAP</th>\n",
       "      <th>GMAP</th>\n",
       "    </tr>\n",
       "  </thead>\n",
       "  <tbody>\n",
       "    <tr>\n",
       "      <th>0</th>\n",
       "      <td>1-aueb-nlp-4.json</td>\n",
       "      <td>bm25</td>\n",
       "      <td>0.0406</td>\n",
       "      <td>0.7396</td>\n",
       "      <td>0.0741</td>\n",
       "      <td>0.1657</td>\n",
       "      <td>0.0469</td>\n",
       "    </tr>\n",
       "    <tr>\n",
       "      <th>1</th>\n",
       "      <td>2-aueb-nlp-4.json</td>\n",
       "      <td>bm25</td>\n",
       "      <td>0.0432</td>\n",
       "      <td>0.7236</td>\n",
       "      <td>0.0772</td>\n",
       "      <td>0.1710</td>\n",
       "      <td>0.0381</td>\n",
       "    </tr>\n",
       "    <tr>\n",
       "      <th>2</th>\n",
       "      <td>3-aueb-nlp-4.json</td>\n",
       "      <td>bm25</td>\n",
       "      <td>0.0509</td>\n",
       "      <td>0.7248</td>\n",
       "      <td>0.0887</td>\n",
       "      <td>0.1877</td>\n",
       "      <td>0.0621</td>\n",
       "    </tr>\n",
       "    <tr>\n",
       "      <th>3</th>\n",
       "      <td>4-aueb-nlp-4.json</td>\n",
       "      <td>bm25</td>\n",
       "      <td>0.0333</td>\n",
       "      <td>0.6672</td>\n",
       "      <td>0.0601</td>\n",
       "      <td>0.1254</td>\n",
       "      <td>0.0119</td>\n",
       "    </tr>\n",
       "    <tr>\n",
       "      <th>4</th>\n",
       "      <td>5-aueb-nlp-4.json</td>\n",
       "      <td>bm25</td>\n",
       "      <td>0.0364</td>\n",
       "      <td>0.5822</td>\n",
       "      <td>0.0656</td>\n",
       "      <td>0.1038</td>\n",
       "      <td>0.0111</td>\n",
       "    </tr>\n",
       "  </tbody>\n",
       "</table>\n",
       "</div>"
      ],
      "text/plain": [
       "               Batch Method  Mean precision  Recall  F-Measure     MAP    GMAP\n",
       "0  1-aueb-nlp-4.json   bm25          0.0406  0.7396     0.0741  0.1657  0.0469\n",
       "1  2-aueb-nlp-4.json   bm25          0.0432  0.7236     0.0772  0.1710  0.0381\n",
       "2  3-aueb-nlp-4.json   bm25          0.0509  0.7248     0.0887  0.1877  0.0621\n",
       "3  4-aueb-nlp-4.json   bm25          0.0333  0.6672     0.0601  0.1254  0.0119\n",
       "4  5-aueb-nlp-4.json   bm25          0.0364  0.5822     0.0656  0.1038  0.0111"
      ]
     },
     "metadata": {},
     "output_type": "display_data"
    }
   ],
   "source": [
    "display(docs_scores)"
   ]
  },
  {
   "cell_type": "markdown",
   "id": "c8608555",
   "metadata": {},
   "source": [
    "## BM25 + Ranker"
   ]
  },
  {
   "cell_type": "code",
   "execution_count": 11,
   "id": "94e44259",
   "metadata": {},
   "outputs": [],
   "source": [
    "retriever = BioASQ_Retriever(document_store = document_store)\n",
    "# create the Sentence Transformer Ranker\n",
    "#sentence-transformers/distilbert-base-nli-stsb-quora-ranking\n",
    "#ranker = SentenceTransformersRanker(model_name_or_path=\"sentence-transformers/distilbert-base-nli-stsb-quora-ranking\")\n",
    "ranker = SentenceTransformersRanker(model_name_or_path=\"cross-encoder/ms-marco-MiniLM-L-12-v2\")\n",
    "\n",
    "# create the Query Pipeline\n",
    "pipeline_bm25_ranker = Pipeline()\n",
    "\n",
    "# add bm25 retriever\n",
    "pipeline_bm25_ranker.add_node(component=retriever, name=\"BM25Retriever\", inputs=[\"Query\"])\n",
    "pipeline_bm25_ranker.add_node(component=ranker, name=\"Ranker\", inputs=[\"BM25Retriever\"])"
   ]
  },
  {
   "cell_type": "code",
   "execution_count": null,
   "id": "d9c582b2",
   "metadata": {},
   "outputs": [
    {
     "name": "stderr",
     "output_type": "stream",
     "text": [
      "100%|█████████████████████████████████████████████████████████████████████████████████████████████████████████| 100/100 [05:42<00:00,  3.43s/it]\n",
      "100%|█████████████████████████████████████████████████████████████████████████████████████████████████████████| 100/100 [05:43<00:00,  3.44s/it]\n",
      " 79%|███████████████████████████████████████████████████████████████████████████████████▋                      | 79/100 [04:30<01:12,  3.44s/it]"
     ]
    }
   ],
   "source": [
    "pipeline_params = {\"BM25Retriever\": {\"top_k\": 100}}\n",
    "docs_scores, pass_scores = haystack_util.evaluate_batch_list(test_batch_docs, pipeline_bm25_ranker, pipeline_params, method_id = 'bm25', max_num_docs = 100, max_num_passages = 10)"
   ]
  },
  {
   "cell_type": "code",
   "execution_count": null,
   "id": "e4f5acc3",
   "metadata": {},
   "outputs": [],
   "source": [
    "pipeline_params = {\"Retriever\": {\"top_k\": 10}}\n",
    "docs_scores, pass_scores = haystack_util.evaluate_batch_list(test_batch_docs, bm25_pipeline, pipeline_params, 'bm25')\n",
    "\n",
    "# run the pipeline\n",
    "prediction = pipeline.run(query=\"covid\", params=)\n",
    "\n",
    "# predict\n",
    "print([p.id for p in prediction['documents']])"
   ]
  },
  {
   "cell_type": "code",
   "execution_count": null,
   "id": "dce5ec56",
   "metadata": {},
   "outputs": [],
   "source": []
  },
  {
   "cell_type": "code",
   "execution_count": null,
   "id": "4196c63f",
   "metadata": {},
   "outputs": [],
   "source": []
  },
  {
   "cell_type": "code",
   "execution_count": null,
   "id": "3e58701c",
   "metadata": {},
   "outputs": [],
   "source": []
  },
  {
   "cell_type": "code",
   "execution_count": null,
   "id": "48d2066a",
   "metadata": {},
   "outputs": [],
   "source": []
  },
  {
   "cell_type": "code",
   "execution_count": null,
   "id": "1c81c6ac",
   "metadata": {},
   "outputs": [],
   "source": []
  }
 ],
 "metadata": {
  "kernelspec": {
   "display_name": "haystack-py310",
   "language": "python",
   "name": "haystack-py310"
  },
  "language_info": {
   "codemirror_mode": {
    "name": "ipython",
    "version": 3
   },
   "file_extension": ".py",
   "mimetype": "text/x-python",
   "name": "python",
   "nbconvert_exporter": "python",
   "pygments_lexer": "ipython3",
   "version": "3.10.10"
  }
 },
 "nbformat": 4,
 "nbformat_minor": 5
}
