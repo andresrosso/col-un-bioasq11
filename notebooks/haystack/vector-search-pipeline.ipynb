{
 "cells": [
  {
   "cell_type": "code",
   "execution_count": 3,
   "id": "120d389c",
   "metadata": {},
   "outputs": [],
   "source": [
    "from haystack.document_stores import FAISSDocumentStore\n",
    "from haystack.utils import convert_files_to_docs, fetch_archive_from_http, clean_wiki_text\n",
    "from haystack.nodes import DensePassageRetriever\n",
    "from haystack.nodes import Seq2SeqGenerator\n",
    "from haystack.pipelines import GenerativeQAPipeline\n",
    "import os"
   ]
  },
  {
   "cell_type": "code",
   "execution_count": 4,
   "id": "cc07c347",
   "metadata": {},
   "outputs": [],
   "source": [
    "if os.path.exists('fais.db'):\n",
    "    faiss_ds = FAISSDocumentStore.load('fais.db')\n",
    "else:\n",
    "    faiss_ds = FAISSDocumentStore(embedding_dim=768, faiss_index_factory_str=\"Flat\", index='bioasq-2ndrank')"
   ]
  },
  {
   "cell_type": "markdown",
   "id": "000aa421",
   "metadata": {},
   "source": [
    "# Example with Wiki Documents"
   ]
  },
  {
   "cell_type": "code",
   "execution_count": 3,
   "id": "f375ee97",
   "metadata": {},
   "outputs": [
    {
     "ename": "NameError",
     "evalue": "name 'faiss_ds' is not defined",
     "output_type": "error",
     "traceback": [
      "\u001b[0;31m---------------------------------------------------------------------------\u001b[0m",
      "\u001b[0;31mNameError\u001b[0m                                 Traceback (most recent call last)",
      "Cell \u001b[0;32mIn[3], line 10\u001b[0m\n\u001b[1;32m      7\u001b[0m docs \u001b[38;5;241m=\u001b[39m convert_files_to_docs(dir_path\u001b[38;5;241m=\u001b[39mdoc_dir, clean_func\u001b[38;5;241m=\u001b[39mclean_wiki_text, split_paragraphs\u001b[38;5;241m=\u001b[39m\u001b[38;5;28;01mTrue\u001b[39;00m)\n\u001b[1;32m      9\u001b[0m \u001b[38;5;66;03m# Now, let's write the dicts containing documents to our DB.\u001b[39;00m\n\u001b[0;32m---> 10\u001b[0m \u001b[43mfaiss_ds\u001b[49m\u001b[38;5;241m.\u001b[39mwrite_documents(docs)\n",
      "\u001b[0;31mNameError\u001b[0m: name 'faiss_ds' is not defined"
     ]
    }
   ],
   "source": [
    "# Let's first get some files that we want to use\n",
    "doc_dir = \"data/tutorial12\"\n",
    "s3_url = \"https://s3.eu-central-1.amazonaws.com/deepset.ai-farm-qa/datasets/documents/wiki_gameofthrones_txt12.zip\"\n",
    "fetch_archive_from_http(url=s3_url, output_dir=doc_dir)\n",
    "\n",
    "# Convert files to dicts\n",
    "docs = convert_files_to_docs(dir_path=doc_dir, clean_func=clean_wiki_text, split_paragraphs=True)\n",
    "\n",
    "# Now, let's write the dicts containing documents to our DB.\n",
    "faiss_ds.write_documents(docs)"
   ]
  },
  {
   "cell_type": "code",
   "execution_count": null,
   "id": "c9d882eb",
   "metadata": {},
   "outputs": [],
   "source": [
    "retriever = DensePassageRetriever(\n",
    "    document_store=document_store,\n",
    "    query_embedding_model=\"vblagoje/dpr-question_encoder-single-lfqa-wiki\",\n",
    "    passage_embedding_model=\"vblagoje/dpr-ctx_encoder-single-lfqa-wiki\",\n",
    ")\n",
    "\n",
    "document_store.update_embeddings(retriever)"
   ]
  },
  {
   "cell_type": "code",
   "execution_count": null,
   "id": "eb6ac51b",
   "metadata": {},
   "outputs": [],
   "source": [
    "generator = Seq2SeqGenerator(model_name_or_path=\"vblagoje/bart_lfqa\")"
   ]
  },
  {
   "cell_type": "code",
   "execution_count": null,
   "id": "ad82455a",
   "metadata": {},
   "outputs": [],
   "source": [
    "pipe = GenerativeQAPipeline(generator, retriever)"
   ]
  },
  {
   "cell_type": "code",
   "execution_count": null,
   "id": "559e0582",
   "metadata": {},
   "outputs": [],
   "source": [
    "pipe.run(\n",
    "    query=\"How did Arya Stark's character get portrayed in a television adaptation?\", params={\"Retriever\": {\"top_k\": 3}}\n",
    ")"
   ]
  },
  {
   "cell_type": "markdown",
   "id": "44304dad",
   "metadata": {},
   "source": [
    "# Example with BioASQ"
   ]
  },
  {
   "cell_type": "code",
   "execution_count": 8,
   "id": "a73037ff",
   "metadata": {},
   "outputs": [
    {
     "data": {
      "text/plain": [
       "haystack.schema.Document"
      ]
     },
     "execution_count": 8,
     "metadata": {},
     "output_type": "execute_result"
    }
   ],
   "source": [
    "type(docs[0])"
   ]
  },
  {
   "cell_type": "code",
   "execution_count": 9,
   "id": "9ea58a3d",
   "metadata": {},
   "outputs": [
    {
     "ename": "NameError",
     "evalue": "name 'prediction' is not defined",
     "output_type": "error",
     "traceback": [
      "\u001b[0;31m---------------------------------------------------------------------------\u001b[0m",
      "\u001b[0;31mNameError\u001b[0m                                 Traceback (most recent call last)",
      "Cell \u001b[0;32mIn[9], line 1\u001b[0m\n\u001b[0;32m----> 1\u001b[0m \u001b[38;5;28mtype\u001b[39m(\u001b[43mprediction\u001b[49m[\u001b[38;5;124m'\u001b[39m\u001b[38;5;124mdocuments\u001b[39m\u001b[38;5;124m'\u001b[39m][\u001b[38;5;241m0\u001b[39m])\n",
      "\u001b[0;31mNameError\u001b[0m: name 'prediction' is not defined"
     ]
    }
   ],
   "source": [
    "type(prediction['documents'][0])"
   ]
  },
  {
   "cell_type": "code",
   "execution_count": 10,
   "id": "7b03ab4d",
   "metadata": {},
   "outputs": [
    {
     "ename": "NameError",
     "evalue": "name 'document_store' is not defined",
     "output_type": "error",
     "traceback": [
      "\u001b[0;31m---------------------------------------------------------------------------\u001b[0m",
      "\u001b[0;31mNameError\u001b[0m                                 Traceback (most recent call last)",
      "Cell \u001b[0;32mIn[10], line 1\u001b[0m\n\u001b[0;32m----> 1\u001b[0m \u001b[43mdocument_store\u001b[49m\u001b[38;5;241m.\u001b[39mdelete_documents()\n",
      "\u001b[0;31mNameError\u001b[0m: name 'document_store' is not defined"
     ]
    }
   ],
   "source": [
    "document_store.delete_documents()"
   ]
  },
  {
   "cell_type": "code",
   "execution_count": 11,
   "id": "90f2375b",
   "metadata": {},
   "outputs": [
    {
     "ename": "NameError",
     "evalue": "name 'document_store' is not defined",
     "output_type": "error",
     "traceback": [
      "\u001b[0;31m---------------------------------------------------------------------------\u001b[0m",
      "\u001b[0;31mNameError\u001b[0m                                 Traceback (most recent call last)",
      "Cell \u001b[0;32mIn[11], line 1\u001b[0m\n\u001b[0;32m----> 1\u001b[0m \u001b[43mdocument_store\u001b[49m\u001b[38;5;241m.\u001b[39mget_document_count()\n",
      "\u001b[0;31mNameError\u001b[0m: name 'document_store' is not defined"
     ]
    }
   ],
   "source": [
    "document_store.get_document_count()"
   ]
  },
  {
   "cell_type": "code",
   "execution_count": 12,
   "id": "5c4f736d",
   "metadata": {},
   "outputs": [
    {
     "ename": "NameError",
     "evalue": "name 'document_store' is not defined",
     "output_type": "error",
     "traceback": [
      "\u001b[0;31m---------------------------------------------------------------------------\u001b[0m",
      "\u001b[0;31mNameError\u001b[0m                                 Traceback (most recent call last)",
      "Cell \u001b[0;32mIn[12], line 2\u001b[0m\n\u001b[1;32m      1\u001b[0m \u001b[38;5;66;03m# Write bm25 docs to our DB.\u001b[39;00m\n\u001b[0;32m----> 2\u001b[0m \u001b[43mdocument_store\u001b[49m\u001b[38;5;241m.\u001b[39mwrite_documents(prediction[\u001b[38;5;124m'\u001b[39m\u001b[38;5;124mdocuments\u001b[39m\u001b[38;5;124m'\u001b[39m])\n",
      "\u001b[0;31mNameError\u001b[0m: name 'document_store' is not defined"
     ]
    }
   ],
   "source": [
    "# Write bm25 docs to our DB.\n",
    "document_store.write_documents(prediction['documents'])"
   ]
  },
  {
   "cell_type": "code",
   "execution_count": 13,
   "id": "345ae3ba",
   "metadata": {},
   "outputs": [
    {
     "ename": "NameError",
     "evalue": "name 'DocumentSearchPipeline' is not defined",
     "output_type": "error",
     "traceback": [
      "\u001b[0;31m---------------------------------------------------------------------------\u001b[0m",
      "\u001b[0;31mNameError\u001b[0m                                 Traceback (most recent call last)",
      "Cell \u001b[0;32mIn[13], line 1\u001b[0m\n\u001b[0;32m----> 1\u001b[0m p_retrieval \u001b[38;5;241m=\u001b[39m \u001b[43mDocumentSearchPipeline\u001b[49m(retriever)\n\u001b[1;32m      2\u001b[0m res \u001b[38;5;241m=\u001b[39m p_retrieval\u001b[38;5;241m.\u001b[39mrun(query\u001b[38;5;241m=\u001b[39m\u001b[38;5;124m\"\u001b[39m\u001b[38;5;124mTell me something about Arya Stark?\u001b[39m\u001b[38;5;124m\"\u001b[39m, params\u001b[38;5;241m=\u001b[39m{\u001b[38;5;124m\"\u001b[39m\u001b[38;5;124mRetriever\u001b[39m\u001b[38;5;124m\"\u001b[39m: {\u001b[38;5;124m\"\u001b[39m\u001b[38;5;124mtop_k\u001b[39m\u001b[38;5;124m\"\u001b[39m: \u001b[38;5;241m10\u001b[39m}})\n\u001b[1;32m      3\u001b[0m print_documents(res, max_text_len\u001b[38;5;241m=\u001b[39m\u001b[38;5;241m512\u001b[39m)\n",
      "\u001b[0;31mNameError\u001b[0m: name 'DocumentSearchPipeline' is not defined"
     ]
    }
   ],
   "source": [
    "p_retrieval = DocumentSearchPipeline(retriever)\n",
    "res = p_retrieval.run(query=\"Tell me something about Arya Stark?\", params={\"Retriever\": {\"top_k\": 10}})\n",
    "print_documents(res, max_text_len=512)"
   ]
  },
  {
   "cell_type": "markdown",
   "id": "da45bc3a",
   "metadata": {},
   "source": [
    "# Search with BM25 (100 docs)"
   ]
  },
  {
   "cell_type": "code",
   "execution_count": 5,
   "id": "f0b8ea6a",
   "metadata": {},
   "outputs": [
    {
     "name": "stdout",
     "output_type": "stream",
     "text": [
      "Home path : /opt/bioasq/col-un-bioasq11\n",
      "Eval path : /opt/bioasq/Evaluation-Measures\n"
     ]
    }
   ],
   "source": [
    "%load_ext autoreload\n",
    "%autoreload 2\n",
    "import os\n",
    "import re\n",
    "import json\n",
    "import copy\n",
    "import sys\n",
    "from tqdm import tqdm\n",
    "from pprint import pprint\n",
    "\n",
    "import matplotlib.pyplot as plt\n",
    "import seaborn as sns\n",
    "\n",
    "import pytrec_eval\n",
    "import numpy as np\n",
    "import pandas as pd\n",
    "from elasticsearch import Elasticsearch\n",
    "from haystack.pipelines import Pipeline\n",
    "from haystack.nodes import BM25Retriever, ElasticsearchRetriever\n",
    "from haystack.document_stores import ElasticsearchDocumentStore\n",
    "from haystack.nodes import BM25Retriever, SentenceTransformersRanker\n",
    "from haystack.nodes.reader import FARMReader\n",
    "from haystack.utils import print_answers\n",
    "import warnings\n",
    "warnings.filterwarnings('ignore')\n",
    "\n",
    "sys.path.append('../../')\n",
    "import globals\n",
    "from elastic_search_utils import elastic_utils\n",
    "from haystack_utils.retrievers import BioASQ_Retriever\n",
    "import bioasq_eval\n",
    "import haystack_util\n",
    "\n",
    "working_folder = globals.PATH.home + '/data/working_folder'\n",
    "eval_home = globals.PATH.eval_home + '/'\n",
    "gs_google_docs = eval_home + '/examples/aueb_google_docs/aueb_nlp-bioasq6b-submissions/'\n",
    "index_name = globals.BIOASQ.index + 'working_folder'\n",
    "model_id = 'doc_retrieval_test'\n",
    "\n",
    "es = Elasticsearch(globals.ES.server)\n",
    "\n",
    "# set document store\n",
    "document_store = ElasticsearchDocumentStore()"
   ]
  },
  {
   "cell_type": "code",
   "execution_count": 6,
   "id": "c4a21357",
   "metadata": {},
   "outputs": [],
   "source": [
    "#evaluate over aueb documents\n",
    "test_batch_docs = [ #('','8b5_ES_30_full.json')\n",
    "                ('6B1_golden.json', gs_google_docs+'1-aueb-nlp-4.json'),\n",
    "                ('6B2_golden.json', gs_google_docs+'2-aueb-nlp-4.json'),\n",
    "                ('6B3_golden.json', gs_google_docs+'3-aueb-nlp-4.json'),\n",
    "                ('6B4_golden.json', gs_google_docs+'4-aueb-nlp-4.json'),\n",
    "                ('6B5_golden.json', gs_google_docs+'5-aueb-nlp-4.json')\n",
    "               ]"
   ]
  },
  {
   "cell_type": "code",
   "execution_count": 7,
   "id": "81e6487b",
   "metadata": {},
   "outputs": [],
   "source": [
    "chat_gpt_file = f'{eval_home}/golden_docs/6B1_gpt.json'\n",
    "chat_gpt = json.load(open(chat_gpt_file,mode='r'))\n",
    "chatgpt_questions = dict((elem['id'],elem) for elem in chat_gpt['questions'])"
   ]
  },
  {
   "cell_type": "code",
   "execution_count": 30,
   "id": "47cebdee",
   "metadata": {},
   "outputs": [],
   "source": [
    "scores = []\n",
    "def search_bm25_faiss(q, bm25_retriever, faiss_ds, faiss_retriever, sample_id=None):\n",
    "    docs_bm25 = bm25_retriever.retrieve(q, top_k = 50)\n",
    "    chat_gpt_q = q\n",
    "    if sample_id:\n",
    "        chat_gpt_q = chatgpt_questions[sample_id]['short']\n",
    "    faiss_ds.delete_documents()\n",
    "    faiss_ds.write_documents(docs_bm25)\n",
    "    faiss_ds.update_embeddings(faiss_retriever)\n",
    "    print(q)\n",
    "    print(chat_gpt_q)\n",
    "    faiss_docs = faiss_retriever.retrieve(query=q, top_k = 5)\n",
    "    for d in docs_bm25:\n",
    "        scores.append(d.score)\n",
    "    final_docs = docs_bm25[0:5] + faiss_docs\n",
    "    return final_docs"
   ]
  },
  {
   "cell_type": "raw",
   "id": "92633192",
   "metadata": {},
   "source": [
    "scores = []\n",
    "def search_bm25_faiss(q, bm25_retriever, faiss_ds, faiss_retriever, sample_id=None):\n",
    "    chat_gpt_q = q\n",
    "    if sample_id:\n",
    "        chat_gpt_q = q + chatgpt_questions[sample_id]['clave']\n",
    "    print(chat_gpt_q)\n",
    "    return bm25_retriever.retrieve(chat_gpt_q, top_k = 10)"
   ]
  },
  {
   "cell_type": "code",
   "execution_count": 21,
   "id": "91e8da85",
   "metadata": {},
   "outputs": [],
   "source": [
    "docs_test = bm25_retriever.retrieve('what are the symptoms of covid', top_k = 10)"
   ]
  },
  {
   "cell_type": "code",
   "execution_count": 22,
   "id": "65ff71fb",
   "metadata": {},
   "outputs": [],
   "source": [
    "from haystack.nodes import BM25Retriever, ElasticsearchRetriever, EmbeddingRetriever"
   ]
  },
  {
   "cell_type": "code",
   "execution_count": 27,
   "id": "e47b121f",
   "metadata": {},
   "outputs": [],
   "source": [
    "# create the retriever\n",
    "bm25_retriever = BioASQ_Retriever(document_store = document_store)\n",
    "faiss_retriever = EmbeddingRetriever(\n",
    "    document_store = faiss_ds,\n",
    "    embedding_model=\"sentence-transformers/multi-qa-mpnet-base-dot-v1\",\n",
    ")\n",
    "# 768 - sentence-transformers/msmarco-distilbert-base-dot-prod-v3\n",
    "# 328 - multi-qa-MiniLM-L6-cos-v1\n",
    "# 768 - multi-qa-distilbert-cos-v1\n",
    "# 768 - msmarco-distilbert-base-dot-prod-v3\n",
    "\n",
    "#faiss_retriever = EmbeddingRetriever(\n",
    "#    document_store = faiss_ds,\n",
    "#    embedding_model = 'distilroberta-base-msmarco-v2', \n",
    "#    model_format = 'sentence_transformers'\n",
    "#)\n",
    "#search_bm25_faiss('covid',bm25_retriever,faiss_ds,faiss_retriever)"
   ]
  },
  {
   "cell_type": "code",
   "execution_count": 28,
   "id": "d81b65fb",
   "metadata": {},
   "outputs": [
    {
     "data": {
      "application/vnd.jupyter.widget-view+json": {
       "model_id": "c030fac37ccc41dea82dcdcc88f2dec5",
       "version_major": 2,
       "version_minor": 0
      },
      "text/plain": [
       "Writing Documents:   0%|          | 0/50 [00:00<?, ?it/s]"
      ]
     },
     "metadata": {},
     "output_type": "display_data"
    },
    {
     "data": {
      "application/vnd.jupyter.widget-view+json": {
       "model_id": "4ffbe781761f4adeae7782f15f19be33",
       "version_major": 2,
       "version_minor": 0
      },
      "text/plain": [
       "Updating Embedding:   0%|          | 0/50 [00:00<?, ? docs/s]"
      ]
     },
     "metadata": {},
     "output_type": "display_data"
    },
    {
     "data": {
      "application/vnd.jupyter.widget-view+json": {
       "model_id": "641e13336a404fdeb553ce17bb3f7a10",
       "version_major": 2,
       "version_minor": 0
      },
      "text/plain": [
       "Batches:   0%|          | 0/2 [00:00<?, ?it/s]"
      ]
     },
     "metadata": {},
     "output_type": "display_data"
    },
    {
     "name": "stdout",
     "output_type": "stream",
     "text": [
      "what are the symtoms of covid\n",
      "what are the symtoms of covid\n"
     ]
    },
    {
     "data": {
      "application/vnd.jupyter.widget-view+json": {
       "model_id": "3181ca6bebee41bd9ea7e7669a321d49",
       "version_major": 2,
       "version_minor": 0
      },
      "text/plain": [
       "Batches:   0%|          | 0/1 [00:00<?, ?it/s]"
      ]
     },
     "metadata": {},
     "output_type": "display_data"
    },
    {
     "ename": "TypeError",
     "evalue": "unhashable type: 'Document'",
     "output_type": "error",
     "traceback": [
      "\u001b[0;31m---------------------------------------------------------------------------\u001b[0m",
      "\u001b[0;31mTypeError\u001b[0m                                 Traceback (most recent call last)",
      "Cell \u001b[0;32mIn[28], line 1\u001b[0m\n\u001b[0;32m----> 1\u001b[0m docs \u001b[38;5;241m=\u001b[39m \u001b[43msearch_bm25_faiss\u001b[49m\u001b[43m(\u001b[49m\u001b[38;5;124;43m'\u001b[39;49m\u001b[38;5;124;43mwhat are the symtoms of covid\u001b[39;49m\u001b[38;5;124;43m'\u001b[39;49m\u001b[43m,\u001b[49m\u001b[43mbm25_retriever\u001b[49m\u001b[43m,\u001b[49m\u001b[43mfaiss_ds\u001b[49m\u001b[43m,\u001b[49m\u001b[43mfaiss_retriever\u001b[49m\u001b[43m)\u001b[49m\n",
      "Cell \u001b[0;32mIn[26], line 15\u001b[0m, in \u001b[0;36msearch_bm25_faiss\u001b[0;34m(q, bm25_retriever, faiss_ds, faiss_retriever, sample_id)\u001b[0m\n\u001b[1;32m     13\u001b[0m \u001b[38;5;28;01mfor\u001b[39;00m d \u001b[38;5;129;01min\u001b[39;00m docs_bm25:\n\u001b[1;32m     14\u001b[0m     scores\u001b[38;5;241m.\u001b[39mappend(d\u001b[38;5;241m.\u001b[39mscore)\n\u001b[0;32m---> 15\u001b[0m final_docs \u001b[38;5;241m=\u001b[39m \u001b[38;5;28;43mset\u001b[39;49m\u001b[43m(\u001b[49m\u001b[43mdocs_bm25\u001b[49m\u001b[43m[\u001b[49m\u001b[38;5;241;43m0\u001b[39;49m\u001b[43m:\u001b[49m\u001b[38;5;241;43m5\u001b[39;49m\u001b[43m]\u001b[49m\u001b[43m \u001b[49m\u001b[38;5;241;43m+\u001b[39;49m\u001b[43m \u001b[49m\u001b[43mfaiss_docs\u001b[49m\u001b[43m)\u001b[49m\n\u001b[1;32m     16\u001b[0m \u001b[38;5;28;01mreturn\u001b[39;00m final_docs\n",
      "\u001b[0;31mTypeError\u001b[0m: unhashable type: 'Document'"
     ]
    }
   ],
   "source": [
    "docs = search_bm25_faiss('what are the symtoms of covid',bm25_retriever,faiss_ds,faiss_retriever)"
   ]
  },
  {
   "cell_type": "code",
   "execution_count": null,
   "id": "5d9f920a",
   "metadata": {},
   "outputs": [],
   "source": [
    "docs[0].score"
   ]
  },
  {
   "cell_type": "code",
   "execution_count": null,
   "id": "1ce59852",
   "metadata": {},
   "outputs": [],
   "source": [
    "search_bm25_faiss('what are the principal symtomps of covid',bm25_retriever,faiss_ds,faiss_retriever)"
   ]
  },
  {
   "cell_type": "code",
   "execution_count": null,
   "id": "bd513cf5",
   "metadata": {},
   "outputs": [],
   "source": [
    "# search_bm25_faiss('what are the principal symtomps of covid',bm25_retriever,faiss_ds,faiss_retriever)"
   ]
  },
  {
   "cell_type": "code",
   "execution_count": 31,
   "id": "a48d353b",
   "metadata": {},
   "outputs": [
    {
     "name": "stderr",
     "output_type": "stream",
     "text": [
      "\r",
      "  0%|                                                                                                                   | 0/100 [00:00<?, ?it/s]"
     ]
    },
    {
     "data": {
      "application/vnd.jupyter.widget-view+json": {
       "model_id": "65094adaf3f247faac32558f0f2597c9",
       "version_major": 2,
       "version_minor": 0
      },
      "text/plain": [
       "Writing Documents:   0%|          | 0/50 [00:00<?, ?it/s]"
      ]
     },
     "metadata": {},
     "output_type": "display_data"
    },
    {
     "data": {
      "application/vnd.jupyter.widget-view+json": {
       "model_id": "43e833b2eab548e99d6b5195ec927327",
       "version_major": 2,
       "version_minor": 0
      },
      "text/plain": [
       "Updating Embedding:   0%|          | 0/50 [00:00<?, ? docs/s]"
      ]
     },
     "metadata": {},
     "output_type": "display_data"
    },
    {
     "data": {
      "application/vnd.jupyter.widget-view+json": {
       "model_id": "b7571b8e550b4008ad0619bdb20754e1",
       "version_major": 2,
       "version_minor": 0
      },
      "text/plain": [
       "Batches:   0%|          | 0/2 [00:00<?, ?it/s]"
      ]
     },
     "metadata": {},
     "output_type": "display_data"
    },
    {
     "name": "stdout",
     "output_type": "stream",
     "text": [
      "Does echinacea increase anaphylaxis risk?\n",
      "No, there is no evidence that echinacea increases anaphylaxis risk. Studies have found that echinacea is generally safe and does not increase the risk of anaphylaxis.\n"
     ]
    },
    {
     "data": {
      "application/vnd.jupyter.widget-view+json": {
       "model_id": "cc24bdc5491f4543b6140885ea3b5fd6",
       "version_major": 2,
       "version_minor": 0
      },
      "text/plain": [
       "Batches:   0%|          | 0/1 [00:00<?, ?it/s]"
      ]
     },
     "metadata": {},
     "output_type": "display_data"
    },
    {
     "name": "stderr",
     "output_type": "stream",
     "text": [
      "\r",
      "  1%|█                                                                                                          | 1/100 [00:04<07:37,  4.62s/it]"
     ]
    },
    {
     "name": "stdout",
     "output_type": "stream",
     "text": [
      "10\n"
     ]
    },
    {
     "data": {
      "application/vnd.jupyter.widget-view+json": {
       "model_id": "fd17ef24e2dd49b8a3ff67944607dd62",
       "version_major": 2,
       "version_minor": 0
      },
      "text/plain": [
       "Writing Documents:   0%|          | 0/50 [00:00<?, ?it/s]"
      ]
     },
     "metadata": {},
     "output_type": "display_data"
    },
    {
     "data": {
      "application/vnd.jupyter.widget-view+json": {
       "model_id": "036c1889a8124a258ad12a167d262c52",
       "version_major": 2,
       "version_minor": 0
      },
      "text/plain": [
       "Updating Embedding:   0%|          | 0/50 [00:00<?, ? docs/s]"
      ]
     },
     "metadata": {},
     "output_type": "display_data"
    },
    {
     "data": {
      "application/vnd.jupyter.widget-view+json": {
       "model_id": "75b1dd23687548d88aa9c2942565b2fa",
       "version_major": 2,
       "version_minor": 0
      },
      "text/plain": [
       "Batches:   0%|          | 0/2 [00:00<?, ?it/s]"
      ]
     },
     "metadata": {},
     "output_type": "display_data"
    },
    {
     "name": "stdout",
     "output_type": "stream",
     "text": [
      "Do cephalopods use RNA editing less frequently than other species?\n",
      "No, cephalopods use RNA editing just as frequently as other species. They have been found to use RNA editing to modify proteins and regulate gene expression.\n"
     ]
    },
    {
     "data": {
      "application/vnd.jupyter.widget-view+json": {
       "model_id": "40455bf3ee8f4ca6804fedb4dc901a69",
       "version_major": 2,
       "version_minor": 0
      },
      "text/plain": [
       "Batches:   0%|          | 0/1 [00:00<?, ?it/s]"
      ]
     },
     "metadata": {},
     "output_type": "display_data"
    },
    {
     "name": "stderr",
     "output_type": "stream",
     "text": [
      "\r",
      "  2%|██▏                                                                                                        | 2/100 [00:09<08:02,  4.93s/it]"
     ]
    },
    {
     "name": "stdout",
     "output_type": "stream",
     "text": [
      "10\n"
     ]
    },
    {
     "data": {
      "application/vnd.jupyter.widget-view+json": {
       "model_id": "2a17a15189a945979b2cfaa6b384a905",
       "version_major": 2,
       "version_minor": 0
      },
      "text/plain": [
       "Writing Documents:   0%|          | 0/50 [00:00<?, ?it/s]"
      ]
     },
     "metadata": {},
     "output_type": "display_data"
    },
    {
     "data": {
      "application/vnd.jupyter.widget-view+json": {
       "model_id": "a489543583264c91a1856f74149a8de5",
       "version_major": 2,
       "version_minor": 0
      },
      "text/plain": [
       "Updating Embedding:   0%|          | 0/50 [00:00<?, ? docs/s]"
      ]
     },
     "metadata": {},
     "output_type": "display_data"
    },
    {
     "data": {
      "application/vnd.jupyter.widget-view+json": {
       "model_id": "e36f12f9c33740148a7b34b879448975",
       "version_major": 2,
       "version_minor": 0
      },
      "text/plain": [
       "Batches:   0%|          | 0/2 [00:00<?, ?it/s]"
      ]
     },
     "metadata": {},
     "output_type": "display_data"
    },
    {
     "name": "stdout",
     "output_type": "stream",
     "text": [
      "Which algorithm is available for computing minimal absent words using external memory?\n",
      "The External Memory Minimal Absent Words (EMMAW) algorithm is available for computing minimal absent words using external memory. It uses a two-level indexing structure to efficiently store and retrieve minimal absent words from external memory.\n"
     ]
    },
    {
     "data": {
      "application/vnd.jupyter.widget-view+json": {
       "model_id": "977d63c559db4e78a7c23e46b7a2762d",
       "version_major": 2,
       "version_minor": 0
      },
      "text/plain": [
       "Batches:   0%|          | 0/1 [00:00<?, ?it/s]"
      ]
     },
     "metadata": {},
     "output_type": "display_data"
    },
    {
     "name": "stderr",
     "output_type": "stream",
     "text": [
      "\r",
      "  3%|███▏                                                                                                       | 3/100 [00:14<07:54,  4.89s/it]"
     ]
    },
    {
     "name": "stdout",
     "output_type": "stream",
     "text": [
      "10\n"
     ]
    },
    {
     "data": {
      "application/vnd.jupyter.widget-view+json": {
       "model_id": "e2c5675dc4764beea0b2ad50af7c4cfb",
       "version_major": 2,
       "version_minor": 0
      },
      "text/plain": [
       "Writing Documents:   0%|          | 0/50 [00:00<?, ?it/s]"
      ]
     },
     "metadata": {},
     "output_type": "display_data"
    },
    {
     "data": {
      "application/vnd.jupyter.widget-view+json": {
       "model_id": "6abce89a63d747a1ab50b318969ca639",
       "version_major": 2,
       "version_minor": 0
      },
      "text/plain": [
       "Updating Embedding:   0%|          | 0/50 [00:00<?, ? docs/s]"
      ]
     },
     "metadata": {},
     "output_type": "display_data"
    },
    {
     "data": {
      "application/vnd.jupyter.widget-view+json": {
       "model_id": "e388c4a6e2a5430392367326207c373a",
       "version_major": 2,
       "version_minor": 0
      },
      "text/plain": [
       "Batches:   0%|          | 0/2 [00:00<?, ?it/s]"
      ]
     },
     "metadata": {},
     "output_type": "display_data"
    },
    {
     "name": "stdout",
     "output_type": "stream",
     "text": [
      "Is there an RNAi drug being developed to treat amyloidosis?\n",
      "Yes, there is an RNAi drug being developed to treat amyloidosis. It is called ALN-AGT and is designed to reduce the production of the protein that causes amyloidosis.\n"
     ]
    },
    {
     "data": {
      "application/vnd.jupyter.widget-view+json": {
       "model_id": "387f0eaa8b014cffb933ed71b35f032d",
       "version_major": 2,
       "version_minor": 0
      },
      "text/plain": [
       "Batches:   0%|          | 0/1 [00:00<?, ?it/s]"
      ]
     },
     "metadata": {},
     "output_type": "display_data"
    },
    {
     "name": "stderr",
     "output_type": "stream",
     "text": [
      "\r",
      "  4%|████▎                                                                                                      | 4/100 [00:19<07:52,  4.92s/it]"
     ]
    },
    {
     "name": "stdout",
     "output_type": "stream",
     "text": [
      "10\n"
     ]
    },
    {
     "data": {
      "application/vnd.jupyter.widget-view+json": {
       "model_id": "26ec337be4c841028a075d3c54ee4dfe",
       "version_major": 2,
       "version_minor": 0
      },
      "text/plain": [
       "Writing Documents:   0%|          | 0/50 [00:00<?, ?it/s]"
      ]
     },
     "metadata": {},
     "output_type": "display_data"
    },
    {
     "data": {
      "application/vnd.jupyter.widget-view+json": {
       "model_id": "058c25ebd198448795369db6ce2b71f9",
       "version_major": 2,
       "version_minor": 0
      },
      "text/plain": [
       "Updating Embedding:   0%|          | 0/50 [00:00<?, ? docs/s]"
      ]
     },
     "metadata": {},
     "output_type": "display_data"
    },
    {
     "data": {
      "application/vnd.jupyter.widget-view+json": {
       "model_id": "3fe85e69149f4a1f8c94f85301df9519",
       "version_major": 2,
       "version_minor": 0
      },
      "text/plain": [
       "Batches:   0%|          | 0/2 [00:00<?, ?it/s]"
      ]
     },
     "metadata": {},
     "output_type": "display_data"
    },
    {
     "name": "stdout",
     "output_type": "stream",
     "text": [
      "Which main ribotype of Clostridium difficile is responsible of the recent outbreak?\n",
      "The main ribotype responsible for the recent outbreak is ribotype 027, which is a hypervirulent strain of C. difficile.\n"
     ]
    },
    {
     "data": {
      "application/vnd.jupyter.widget-view+json": {
       "model_id": "ea287c3d587245c5a400a2afeb97a944",
       "version_major": 2,
       "version_minor": 0
      },
      "text/plain": [
       "Batches:   0%|          | 0/1 [00:00<?, ?it/s]"
      ]
     },
     "metadata": {},
     "output_type": "display_data"
    },
    {
     "name": "stderr",
     "output_type": "stream",
     "text": [
      "\r",
      "  5%|█████▎                                                                                                     | 5/100 [00:24<07:44,  4.88s/it]"
     ]
    },
    {
     "name": "stdout",
     "output_type": "stream",
     "text": [
      "10\n"
     ]
    },
    {
     "data": {
      "application/vnd.jupyter.widget-view+json": {
       "model_id": "997460233f6e4378880e73646b2a849d",
       "version_major": 2,
       "version_minor": 0
      },
      "text/plain": [
       "Writing Documents:   0%|          | 0/50 [00:00<?, ?it/s]"
      ]
     },
     "metadata": {},
     "output_type": "display_data"
    },
    {
     "data": {
      "application/vnd.jupyter.widget-view+json": {
       "model_id": "eaae931ef7f8481b8125ec4d7db6a8a3",
       "version_major": 2,
       "version_minor": 0
      },
      "text/plain": [
       "Updating Embedding:   0%|          | 0/50 [00:00<?, ? docs/s]"
      ]
     },
     "metadata": {},
     "output_type": "display_data"
    },
    {
     "data": {
      "application/vnd.jupyter.widget-view+json": {
       "model_id": "2f4def0e4b904361aed78010f76a65fb",
       "version_major": 2,
       "version_minor": 0
      },
      "text/plain": [
       "Batches:   0%|          | 0/2 [00:00<?, ?it/s]"
      ]
     },
     "metadata": {},
     "output_type": "display_data"
    },
    {
     "name": "stdout",
     "output_type": "stream",
     "text": [
      "Is there an association between carcinoid syndrome and mitral valve disease?\n",
      "No, there is no known association between carcinoid syndrome and mitral valve disease.\n"
     ]
    },
    {
     "data": {
      "application/vnd.jupyter.widget-view+json": {
       "model_id": "24e5e75529f14c9f888341d6fef0c9fe",
       "version_major": 2,
       "version_minor": 0
      },
      "text/plain": [
       "Batches:   0%|          | 0/1 [00:00<?, ?it/s]"
      ]
     },
     "metadata": {},
     "output_type": "display_data"
    },
    {
     "name": "stderr",
     "output_type": "stream",
     "text": [
      "\r",
      "  6%|██████▍                                                                                                    | 6/100 [00:29<07:33,  4.83s/it]"
     ]
    },
    {
     "name": "stdout",
     "output_type": "stream",
     "text": [
      "10\n"
     ]
    },
    {
     "data": {
      "application/vnd.jupyter.widget-view+json": {
       "model_id": "15ea362f92f04e6aa4d38e45bd1191dd",
       "version_major": 2,
       "version_minor": 0
      },
      "text/plain": [
       "Writing Documents:   0%|          | 0/50 [00:00<?, ?it/s]"
      ]
     },
     "metadata": {},
     "output_type": "display_data"
    },
    {
     "data": {
      "application/vnd.jupyter.widget-view+json": {
       "model_id": "ccc1d277d2054106afce0fa3bad8d2b0",
       "version_major": 2,
       "version_minor": 0
      },
      "text/plain": [
       "Updating Embedding:   0%|          | 0/50 [00:00<?, ? docs/s]"
      ]
     },
     "metadata": {},
     "output_type": "display_data"
    },
    {
     "data": {
      "application/vnd.jupyter.widget-view+json": {
       "model_id": "62f02d5d5b4f4fb2b6a09a2b12d883be",
       "version_major": 2,
       "version_minor": 0
      },
      "text/plain": [
       "Batches:   0%|          | 0/2 [00:00<?, ?it/s]"
      ]
     },
     "metadata": {},
     "output_type": "display_data"
    },
    {
     "name": "stdout",
     "output_type": "stream",
     "text": [
      "Do origins of replication close to yeast centromeres fire early or late?\n",
      "Origins of replication close to yeast centromeres tend to fire late in the S-phase of the cell cycle.\n"
     ]
    },
    {
     "data": {
      "application/vnd.jupyter.widget-view+json": {
       "model_id": "67c3dccb20864210b1287e63af750c29",
       "version_major": 2,
       "version_minor": 0
      },
      "text/plain": [
       "Batches:   0%|          | 0/1 [00:00<?, ?it/s]"
      ]
     },
     "metadata": {},
     "output_type": "display_data"
    },
    {
     "name": "stderr",
     "output_type": "stream",
     "text": [
      "\r",
      "  7%|███████▍                                                                                                   | 7/100 [00:33<07:29,  4.84s/it]"
     ]
    },
    {
     "name": "stdout",
     "output_type": "stream",
     "text": [
      "10\n"
     ]
    },
    {
     "data": {
      "application/vnd.jupyter.widget-view+json": {
       "model_id": "edd8641c5137476ab90c84a13ef30ec1",
       "version_major": 2,
       "version_minor": 0
      },
      "text/plain": [
       "Writing Documents:   0%|          | 0/50 [00:00<?, ?it/s]"
      ]
     },
     "metadata": {},
     "output_type": "display_data"
    },
    {
     "data": {
      "application/vnd.jupyter.widget-view+json": {
       "model_id": "a07451c0477448f2bd4a9570f75df601",
       "version_major": 2,
       "version_minor": 0
      },
      "text/plain": [
       "Updating Embedding:   0%|          | 0/50 [00:00<?, ? docs/s]"
      ]
     },
     "metadata": {},
     "output_type": "display_data"
    },
    {
     "data": {
      "application/vnd.jupyter.widget-view+json": {
       "model_id": "9cc59b7d2cbe48f29354357e5d58a62b",
       "version_major": 2,
       "version_minor": 0
      },
      "text/plain": [
       "Batches:   0%|          | 0/2 [00:00<?, ?it/s]"
      ]
     },
     "metadata": {},
     "output_type": "display_data"
    },
    {
     "name": "stdout",
     "output_type": "stream",
     "text": [
      "Is there any role of 5hmC in T-cell development and differentiation?\n",
      "Yes, 5hmC plays a role in T-cell development and differentiation. It is involved in the regulation of gene expression, epigenetic reprogramming, and the control of lineage commitment.\n"
     ]
    },
    {
     "data": {
      "application/vnd.jupyter.widget-view+json": {
       "model_id": "f4dad718a7d54b0490fdd4d361e633c6",
       "version_major": 2,
       "version_minor": 0
      },
      "text/plain": [
       "Batches:   0%|          | 0/1 [00:00<?, ?it/s]"
      ]
     },
     "metadata": {},
     "output_type": "display_data"
    },
    {
     "name": "stderr",
     "output_type": "stream",
     "text": [
      "\r",
      "  8%|████████▌                                                                                                  | 8/100 [00:40<08:03,  5.26s/it]"
     ]
    },
    {
     "name": "stdout",
     "output_type": "stream",
     "text": [
      "10\n"
     ]
    },
    {
     "data": {
      "application/vnd.jupyter.widget-view+json": {
       "model_id": "375a673785a4489383d98e0f767eca56",
       "version_major": 2,
       "version_minor": 0
      },
      "text/plain": [
       "Writing Documents:   0%|          | 0/50 [00:00<?, ?it/s]"
      ]
     },
     "metadata": {},
     "output_type": "display_data"
    },
    {
     "data": {
      "application/vnd.jupyter.widget-view+json": {
       "model_id": "775b24b967104e4bbb99bf601c730a69",
       "version_major": 2,
       "version_minor": 0
      },
      "text/plain": [
       "Updating Embedding:   0%|          | 0/50 [00:00<?, ? docs/s]"
      ]
     },
     "metadata": {},
     "output_type": "display_data"
    },
    {
     "data": {
      "application/vnd.jupyter.widget-view+json": {
       "model_id": "5b301859e1484bc79648a74f78a19385",
       "version_major": 2,
       "version_minor": 0
      },
      "text/plain": [
       "Batches:   0%|          | 0/2 [00:00<?, ?it/s]"
      ]
     },
     "metadata": {},
     "output_type": "display_data"
    },
    {
     "name": "stdout",
     "output_type": "stream",
     "text": [
      "Are there RNAi approaches considered for the treatment of kidney injury?\n",
      "Yes, RNAi approaches are being considered for the treatment of kidney injury. These approaches involve using small interfering RNAs to target and silence specific genes that are involved in the development of kidney injury.\n"
     ]
    },
    {
     "data": {
      "application/vnd.jupyter.widget-view+json": {
       "model_id": "f9ef80eb147e4415b80d4d9e7cf71a98",
       "version_major": 2,
       "version_minor": 0
      },
      "text/plain": [
       "Batches:   0%|          | 0/1 [00:00<?, ?it/s]"
      ]
     },
     "metadata": {},
     "output_type": "display_data"
    },
    {
     "name": "stderr",
     "output_type": "stream",
     "text": [
      "\r",
      "  9%|█████████▋                                                                                                 | 9/100 [00:45<08:01,  5.29s/it]"
     ]
    },
    {
     "name": "stdout",
     "output_type": "stream",
     "text": [
      "10\n"
     ]
    },
    {
     "data": {
      "application/vnd.jupyter.widget-view+json": {
       "model_id": "d7b86c48cce84fc2bcc1325a8c760a86",
       "version_major": 2,
       "version_minor": 0
      },
      "text/plain": [
       "Writing Documents:   0%|          | 0/50 [00:00<?, ?it/s]"
      ]
     },
     "metadata": {},
     "output_type": "display_data"
    },
    {
     "data": {
      "application/vnd.jupyter.widget-view+json": {
       "model_id": "91e6d20da5a64fed859f38b0268a5edd",
       "version_major": 2,
       "version_minor": 0
      },
      "text/plain": [
       "Updating Embedding:   0%|          | 0/50 [00:00<?, ? docs/s]"
      ]
     },
     "metadata": {},
     "output_type": "display_data"
    },
    {
     "data": {
      "application/vnd.jupyter.widget-view+json": {
       "model_id": "0c5a6a3e599c47a49d17e90da0cbb766",
       "version_major": 2,
       "version_minor": 0
      },
      "text/plain": [
       "Batches:   0%|          | 0/2 [00:00<?, ?it/s]"
      ]
     },
     "metadata": {},
     "output_type": "display_data"
    },
    {
     "name": "stdout",
     "output_type": "stream",
     "text": [
      "Which is the transcriptome of RNA polymerase III?\n",
      "The transcriptome of RNA polymerase III is composed of small nuclear RNAs (snRNAs) and transfer RNAs (tRNAs) which are involved in the regulation of gene expression and protein synthesis.\n"
     ]
    },
    {
     "data": {
      "application/vnd.jupyter.widget-view+json": {
       "model_id": "a75ee213cabc4272b5a4259b0055db1c",
       "version_major": 2,
       "version_minor": 0
      },
      "text/plain": [
       "Batches:   0%|          | 0/1 [00:00<?, ?it/s]"
      ]
     },
     "metadata": {},
     "output_type": "display_data"
    },
    {
     "name": "stderr",
     "output_type": "stream",
     "text": [
      "\r",
      " 10%|██████████▌                                                                                               | 10/100 [00:50<07:41,  5.12s/it]"
     ]
    },
    {
     "name": "stdout",
     "output_type": "stream",
     "text": [
      "10\n"
     ]
    },
    {
     "data": {
      "application/vnd.jupyter.widget-view+json": {
       "model_id": "c286e4d961d14d2098762b9f473455de",
       "version_major": 2,
       "version_minor": 0
      },
      "text/plain": [
       "Writing Documents:   0%|          | 0/50 [00:00<?, ?it/s]"
      ]
     },
     "metadata": {},
     "output_type": "display_data"
    },
    {
     "data": {
      "application/vnd.jupyter.widget-view+json": {
       "model_id": "310d0293ec3047d08ae363834dcc27db",
       "version_major": 2,
       "version_minor": 0
      },
      "text/plain": [
       "Updating Embedding:   0%|          | 0/50 [00:00<?, ? docs/s]"
      ]
     },
     "metadata": {},
     "output_type": "display_data"
    },
    {
     "data": {
      "application/vnd.jupyter.widget-view+json": {
       "model_id": "992c058a4b654ac3864c064be7707aaf",
       "version_major": 2,
       "version_minor": 0
      },
      "text/plain": [
       "Batches:   0%|          | 0/2 [00:00<?, ?it/s]"
      ]
     },
     "metadata": {},
     "output_type": "display_data"
    },
    {
     "name": "stdout",
     "output_type": "stream",
     "text": [
      "Is propranolol used for treatment of infantile hemangioma?\n",
      "Yes, propranolol is used for treatment of infantile hemangioma. It is a beta-blocker that helps reduce the size of the hemangioma and prevent complications.\n"
     ]
    },
    {
     "data": {
      "application/vnd.jupyter.widget-view+json": {
       "model_id": "b9b3d62e60a842fb956731dbe5125c4b",
       "version_major": 2,
       "version_minor": 0
      },
      "text/plain": [
       "Batches:   0%|          | 0/1 [00:00<?, ?it/s]"
      ]
     },
     "metadata": {},
     "output_type": "display_data"
    },
    {
     "name": "stderr",
     "output_type": "stream",
     "text": [
      "\r",
      " 11%|███████████▋                                                                                              | 11/100 [00:54<07:21,  4.96s/it]"
     ]
    },
    {
     "name": "stdout",
     "output_type": "stream",
     "text": [
      "10\n"
     ]
    },
    {
     "data": {
      "application/vnd.jupyter.widget-view+json": {
       "model_id": "9a874748862840138a324a829118fbc3",
       "version_major": 2,
       "version_minor": 0
      },
      "text/plain": [
       "Writing Documents:   0%|          | 0/50 [00:00<?, ?it/s]"
      ]
     },
     "metadata": {},
     "output_type": "display_data"
    },
    {
     "data": {
      "application/vnd.jupyter.widget-view+json": {
       "model_id": "e829799e6f52439e82c4e5cbe39dc5b9",
       "version_major": 2,
       "version_minor": 0
      },
      "text/plain": [
       "Updating Embedding:   0%|          | 0/50 [00:00<?, ? docs/s]"
      ]
     },
     "metadata": {},
     "output_type": "display_data"
    },
    {
     "data": {
      "application/vnd.jupyter.widget-view+json": {
       "model_id": "a5a895c615d74791bae428f93404d556",
       "version_major": 2,
       "version_minor": 0
      },
      "text/plain": [
       "Batches:   0%|          | 0/2 [00:00<?, ?it/s]"
      ]
     },
     "metadata": {},
     "output_type": "display_data"
    },
    {
     "name": "stdout",
     "output_type": "stream",
     "text": [
      "What is the genetic basis of the Delayed Sleep-Phase Syndrome (DSPS)?\n",
      "DSPS is caused by a mutation in the gene hPer2, which affects the body's circadian rhythm, leading to a delay in the onset of sleep.\n"
     ]
    },
    {
     "data": {
      "application/vnd.jupyter.widget-view+json": {
       "model_id": "f44cf357ccd242ec88460d361f4af4f3",
       "version_major": 2,
       "version_minor": 0
      },
      "text/plain": [
       "Batches:   0%|          | 0/1 [00:00<?, ?it/s]"
      ]
     },
     "metadata": {},
     "output_type": "display_data"
    },
    {
     "name": "stderr",
     "output_type": "stream",
     "text": [
      "\r",
      " 12%|████████████▋                                                                                             | 12/100 [00:59<07:04,  4.83s/it]"
     ]
    },
    {
     "name": "stdout",
     "output_type": "stream",
     "text": [
      "10\n"
     ]
    },
    {
     "data": {
      "application/vnd.jupyter.widget-view+json": {
       "model_id": "b5701fcc09c945f4b0d1dc65ce991147",
       "version_major": 2,
       "version_minor": 0
      },
      "text/plain": [
       "Writing Documents:   0%|          | 0/50 [00:00<?, ?it/s]"
      ]
     },
     "metadata": {},
     "output_type": "display_data"
    },
    {
     "data": {
      "application/vnd.jupyter.widget-view+json": {
       "model_id": "c7a2fe8b0c134bfe862960ba31518718",
       "version_major": 2,
       "version_minor": 0
      },
      "text/plain": [
       "Updating Embedding:   0%|          | 0/50 [00:00<?, ? docs/s]"
      ]
     },
     "metadata": {},
     "output_type": "display_data"
    },
    {
     "data": {
      "application/vnd.jupyter.widget-view+json": {
       "model_id": "47294113ecc144dab5415a6d813aa1f6",
       "version_major": 2,
       "version_minor": 0
      },
      "text/plain": [
       "Batches:   0%|          | 0/2 [00:00<?, ?it/s]"
      ]
     },
     "metadata": {},
     "output_type": "display_data"
    },
    {
     "name": "stdout",
     "output_type": "stream",
     "text": [
      "Which factors drive replisome disassembly during DNA replication termination and mitosis?\n",
      "Replisome disassembly is driven by the binding of termination proteins to the DNA, which triggers the release of the replisome components and the separation of the two daughter strands.\n"
     ]
    },
    {
     "data": {
      "application/vnd.jupyter.widget-view+json": {
       "model_id": "83d9f7f330ff41e6b8eccdee6aa64c63",
       "version_major": 2,
       "version_minor": 0
      },
      "text/plain": [
       "Batches:   0%|          | 0/1 [00:00<?, ?it/s]"
      ]
     },
     "metadata": {},
     "output_type": "display_data"
    },
    {
     "name": "stderr",
     "output_type": "stream",
     "text": [
      "\r",
      " 13%|█████████████▊                                                                                            | 13/100 [01:03<06:42,  4.63s/it]"
     ]
    },
    {
     "name": "stdout",
     "output_type": "stream",
     "text": [
      "10\n"
     ]
    },
    {
     "data": {
      "application/vnd.jupyter.widget-view+json": {
       "model_id": "c9c3757a62004343ac1c0f7dd5587de3",
       "version_major": 2,
       "version_minor": 0
      },
      "text/plain": [
       "Writing Documents:   0%|          | 0/50 [00:00<?, ?it/s]"
      ]
     },
     "metadata": {},
     "output_type": "display_data"
    },
    {
     "data": {
      "application/vnd.jupyter.widget-view+json": {
       "model_id": "33bddc611ba9442e8f667a946f3aef10",
       "version_major": 2,
       "version_minor": 0
      },
      "text/plain": [
       "Updating Embedding:   0%|          | 0/50 [00:00<?, ? docs/s]"
      ]
     },
     "metadata": {},
     "output_type": "display_data"
    },
    {
     "data": {
      "application/vnd.jupyter.widget-view+json": {
       "model_id": "bce447d693a94f1b8f375e7ae609fea9",
       "version_major": 2,
       "version_minor": 0
      },
      "text/plain": [
       "Batches:   0%|          | 0/2 [00:00<?, ?it/s]"
      ]
     },
     "metadata": {},
     "output_type": "display_data"
    },
    {
     "name": "stdout",
     "output_type": "stream",
     "text": [
      "Can the CEP290 gene mutations be targeted by AAV-mediated gene therapy?\n",
      "Yes, AAV-mediated gene therapy has been used to target CEP290 gene mutations. It involves delivering a healthy copy of the gene to the cells to replace the mutated gene.\n"
     ]
    },
    {
     "data": {
      "application/vnd.jupyter.widget-view+json": {
       "model_id": "22b3ab4e1ba44fa7b44d6f5c08d4ae50",
       "version_major": 2,
       "version_minor": 0
      },
      "text/plain": [
       "Batches:   0%|          | 0/1 [00:00<?, ?it/s]"
      ]
     },
     "metadata": {},
     "output_type": "display_data"
    },
    {
     "name": "stderr",
     "output_type": "stream",
     "text": [
      "\r",
      " 14%|██████████████▊                                                                                           | 14/100 [01:08<06:50,  4.77s/it]"
     ]
    },
    {
     "name": "stdout",
     "output_type": "stream",
     "text": [
      "10\n"
     ]
    },
    {
     "data": {
      "application/vnd.jupyter.widget-view+json": {
       "model_id": "59d0f26150fd4ad0804b1eaf59beeb7b",
       "version_major": 2,
       "version_minor": 0
      },
      "text/plain": [
       "Writing Documents:   0%|          | 0/50 [00:00<?, ?it/s]"
      ]
     },
     "metadata": {},
     "output_type": "display_data"
    },
    {
     "data": {
      "application/vnd.jupyter.widget-view+json": {
       "model_id": "8ccf890e70f54ef4977d388b0fe35150",
       "version_major": 2,
       "version_minor": 0
      },
      "text/plain": [
       "Updating Embedding:   0%|          | 0/50 [00:00<?, ? docs/s]"
      ]
     },
     "metadata": {},
     "output_type": "display_data"
    },
    {
     "data": {
      "application/vnd.jupyter.widget-view+json": {
       "model_id": "cd0ac0450adf4d7b91a0eafee825c0a1",
       "version_major": 2,
       "version_minor": 0
      },
      "text/plain": [
       "Batches:   0%|          | 0/2 [00:00<?, ?it/s]"
      ]
     },
     "metadata": {},
     "output_type": "display_data"
    },
    {
     "name": "stdout",
     "output_type": "stream",
     "text": [
      "What is a coligo?\n",
      "Coligo is a cloud-based platform that enables users to create, manage, and share interactive 3D product experiences. It helps businesses create immersive 3D product experiences to engage customers and drive sales.\n"
     ]
    },
    {
     "data": {
      "application/vnd.jupyter.widget-view+json": {
       "model_id": "8494b4dfb4b1429fbd091fd96d7d429e",
       "version_major": 2,
       "version_minor": 0
      },
      "text/plain": [
       "Batches:   0%|          | 0/1 [00:00<?, ?it/s]"
      ]
     },
     "metadata": {},
     "output_type": "display_data"
    },
    {
     "name": "stderr",
     "output_type": "stream",
     "text": [
      "\r",
      " 15%|███████████████▉                                                                                          | 15/100 [01:12<06:21,  4.48s/it]"
     ]
    },
    {
     "name": "stdout",
     "output_type": "stream",
     "text": [
      "10\n"
     ]
    },
    {
     "data": {
      "application/vnd.jupyter.widget-view+json": {
       "model_id": "00cb17b922a5487fa4e677daac16b4d4",
       "version_major": 2,
       "version_minor": 0
      },
      "text/plain": [
       "Writing Documents:   0%|          | 0/50 [00:00<?, ?it/s]"
      ]
     },
     "metadata": {},
     "output_type": "display_data"
    },
    {
     "data": {
      "application/vnd.jupyter.widget-view+json": {
       "model_id": "797160029f7647109d63e98e4a07c021",
       "version_major": 2,
       "version_minor": 0
      },
      "text/plain": [
       "Updating Embedding:   0%|          | 0/50 [00:00<?, ? docs/s]"
      ]
     },
     "metadata": {},
     "output_type": "display_data"
    },
    {
     "data": {
      "application/vnd.jupyter.widget-view+json": {
       "model_id": "f39f1b412169417f89bfe6317b6df275",
       "version_major": 2,
       "version_minor": 0
      },
      "text/plain": [
       "Batches:   0%|          | 0/2 [00:00<?, ?it/s]"
      ]
     },
     "metadata": {},
     "output_type": "display_data"
    },
    {
     "name": "stdout",
     "output_type": "stream",
     "text": [
      "Which type of urinary incontinence is diagnosed with the Q tip test?\n",
      "The Q tip test is used to diagnose stress incontinence, which is the involuntary leakage of urine during physical activity or when coughing or sneezing.\n"
     ]
    },
    {
     "data": {
      "application/vnd.jupyter.widget-view+json": {
       "model_id": "3bf5bf5d865e4b709c588ece3e38d02a",
       "version_major": 2,
       "version_minor": 0
      },
      "text/plain": [
       "Batches:   0%|          | 0/1 [00:00<?, ?it/s]"
      ]
     },
     "metadata": {},
     "output_type": "display_data"
    },
    {
     "name": "stderr",
     "output_type": "stream",
     "text": [
      "\r",
      " 16%|████████████████▉                                                                                         | 16/100 [01:17<06:30,  4.65s/it]"
     ]
    },
    {
     "name": "stdout",
     "output_type": "stream",
     "text": [
      "10\n"
     ]
    },
    {
     "data": {
      "application/vnd.jupyter.widget-view+json": {
       "model_id": "33ef8bc95086472aa7cfb6a0b26a32c2",
       "version_major": 2,
       "version_minor": 0
      },
      "text/plain": [
       "Writing Documents:   0%|          | 0/50 [00:00<?, ?it/s]"
      ]
     },
     "metadata": {},
     "output_type": "display_data"
    },
    {
     "data": {
      "application/vnd.jupyter.widget-view+json": {
       "model_id": "eb3d4c9a43f04f67834f64271d912824",
       "version_major": 2,
       "version_minor": 0
      },
      "text/plain": [
       "Updating Embedding:   0%|          | 0/50 [00:00<?, ? docs/s]"
      ]
     },
     "metadata": {},
     "output_type": "display_data"
    },
    {
     "data": {
      "application/vnd.jupyter.widget-view+json": {
       "model_id": "33a6c71973a64d4da314bf9ec99f3116",
       "version_major": 2,
       "version_minor": 0
      },
      "text/plain": [
       "Batches:   0%|          | 0/2 [00:00<?, ?it/s]"
      ]
     },
     "metadata": {},
     "output_type": "display_data"
    },
    {
     "name": "stdout",
     "output_type": "stream",
     "text": [
      "How many genes constitute the DosR regulon, controlled by the dormancy survival regulator (DosR) in Mycobacterium tuberculosis?\n",
      "The DosR regulon in Mycobacterium tuberculosis consists of over 200 genes, which are involved in various processes such as dormancy, stress response, and metabolism.\n"
     ]
    },
    {
     "data": {
      "application/vnd.jupyter.widget-view+json": {
       "model_id": "19c7f25008d54313ac7a7fe24baebfb9",
       "version_major": 2,
       "version_minor": 0
      },
      "text/plain": [
       "Batches:   0%|          | 0/1 [00:00<?, ?it/s]"
      ]
     },
     "metadata": {},
     "output_type": "display_data"
    },
    {
     "name": "stderr",
     "output_type": "stream",
     "text": [
      "\r",
      " 17%|██████████████████                                                                                        | 17/100 [01:22<06:36,  4.78s/it]"
     ]
    },
    {
     "name": "stdout",
     "output_type": "stream",
     "text": [
      "10\n"
     ]
    },
    {
     "data": {
      "application/vnd.jupyter.widget-view+json": {
       "model_id": "83ae96bc867646e49134023ee3eb6fa7",
       "version_major": 2,
       "version_minor": 0
      },
      "text/plain": [
       "Writing Documents:   0%|          | 0/50 [00:00<?, ?it/s]"
      ]
     },
     "metadata": {},
     "output_type": "display_data"
    },
    {
     "data": {
      "application/vnd.jupyter.widget-view+json": {
       "model_id": "4514dadd38074a8da735dbea54b49731",
       "version_major": 2,
       "version_minor": 0
      },
      "text/plain": [
       "Updating Embedding:   0%|          | 0/50 [00:00<?, ? docs/s]"
      ]
     },
     "metadata": {},
     "output_type": "display_data"
    },
    {
     "data": {
      "application/vnd.jupyter.widget-view+json": {
       "model_id": "fc3083be61b54438b8972991a49ce8c3",
       "version_major": 2,
       "version_minor": 0
      },
      "text/plain": [
       "Batches:   0%|          | 0/2 [00:00<?, ?it/s]"
      ]
     },
     "metadata": {},
     "output_type": "display_data"
    },
    {
     "name": "stdout",
     "output_type": "stream",
     "text": [
      "List the partners of budding yeast Cdc48 that are important for disassembly of ubiquitylated CMG helicase at the end of chromosome replication\n",
      "The partners of budding yeast Cdc48 important for disassembly of ubiquitylated CMG helicase at the end of chromosome replication are Ufd1-Npl4, Rad23, and Dsk2.\n"
     ]
    },
    {
     "data": {
      "application/vnd.jupyter.widget-view+json": {
       "model_id": "50fc526955b64000bcbbb455098a17d3",
       "version_major": 2,
       "version_minor": 0
      },
      "text/plain": [
       "Batches:   0%|          | 0/1 [00:00<?, ?it/s]"
      ]
     },
     "metadata": {},
     "output_type": "display_data"
    },
    {
     "name": "stderr",
     "output_type": "stream",
     "text": [
      "\r",
      " 18%|███████████████████                                                                                       | 18/100 [01:27<06:32,  4.78s/it]"
     ]
    },
    {
     "name": "stdout",
     "output_type": "stream",
     "text": [
      "10\n"
     ]
    },
    {
     "data": {
      "application/vnd.jupyter.widget-view+json": {
       "model_id": "8958553b872e47ea828f7efaadc9a619",
       "version_major": 2,
       "version_minor": 0
      },
      "text/plain": [
       "Writing Documents:   0%|          | 0/50 [00:00<?, ?it/s]"
      ]
     },
     "metadata": {},
     "output_type": "display_data"
    },
    {
     "data": {
      "application/vnd.jupyter.widget-view+json": {
       "model_id": "fb25e9693b8149a6afa32a61af29642f",
       "version_major": 2,
       "version_minor": 0
      },
      "text/plain": [
       "Updating Embedding:   0%|          | 0/50 [00:00<?, ? docs/s]"
      ]
     },
     "metadata": {},
     "output_type": "display_data"
    },
    {
     "data": {
      "application/vnd.jupyter.widget-view+json": {
       "model_id": "689bcfef15534deaab81771833cca9e1",
       "version_major": 2,
       "version_minor": 0
      },
      "text/plain": [
       "Batches:   0%|          | 0/2 [00:00<?, ?it/s]"
      ]
     },
     "metadata": {},
     "output_type": "display_data"
    },
    {
     "name": "stdout",
     "output_type": "stream",
     "text": [
      "What are jakinibs?\n",
      "Jakinibs are traditional Indian garments worn by women. They are usually made of cotton or silk and feature intricate embroidery and embellishments. They are worn as a symbol of modesty and grace.\n"
     ]
    },
    {
     "data": {
      "application/vnd.jupyter.widget-view+json": {
       "model_id": "93a810efbc4548da8329432032fbb1af",
       "version_major": 2,
       "version_minor": 0
      },
      "text/plain": [
       "Batches:   0%|          | 0/1 [00:00<?, ?it/s]"
      ]
     },
     "metadata": {},
     "output_type": "display_data"
    },
    {
     "name": "stderr",
     "output_type": "stream",
     "text": [
      "\r",
      " 19%|████████████████████▏                                                                                     | 19/100 [01:32<06:24,  4.75s/it]"
     ]
    },
    {
     "name": "stdout",
     "output_type": "stream",
     "text": [
      "10\n"
     ]
    },
    {
     "data": {
      "application/vnd.jupyter.widget-view+json": {
       "model_id": "3657e89a0b0d45e5acb22b3ebb29f116",
       "version_major": 2,
       "version_minor": 0
      },
      "text/plain": [
       "Writing Documents:   0%|          | 0/50 [00:00<?, ?it/s]"
      ]
     },
     "metadata": {},
     "output_type": "display_data"
    },
    {
     "data": {
      "application/vnd.jupyter.widget-view+json": {
       "model_id": "8adde3ecd3144ac581abc03d8ce4e902",
       "version_major": 2,
       "version_minor": 0
      },
      "text/plain": [
       "Updating Embedding:   0%|          | 0/50 [00:00<?, ? docs/s]"
      ]
     },
     "metadata": {},
     "output_type": "display_data"
    },
    {
     "data": {
      "application/vnd.jupyter.widget-view+json": {
       "model_id": "d2a9fda424ac4cbaaeba10e47f32fea7",
       "version_major": 2,
       "version_minor": 0
      },
      "text/plain": [
       "Batches:   0%|          | 0/2 [00:00<?, ?it/s]"
      ]
     },
     "metadata": {},
     "output_type": "display_data"
    },
    {
     "name": "stdout",
     "output_type": "stream",
     "text": [
      "Are mutations in the nf1 gene associated with memory?\n",
      "Yes, mutations in the NF1 gene have been associated with memory deficits, including impaired working memory, verbal memory, and executive functioning.\n"
     ]
    },
    {
     "data": {
      "application/vnd.jupyter.widget-view+json": {
       "model_id": "6f6ae0ab73634b2eba49cd46e13d0664",
       "version_major": 2,
       "version_minor": 0
      },
      "text/plain": [
       "Batches:   0%|          | 0/1 [00:00<?, ?it/s]"
      ]
     },
     "metadata": {},
     "output_type": "display_data"
    },
    {
     "name": "stderr",
     "output_type": "stream",
     "text": [
      "\r",
      " 20%|█████████████████████▏                                                                                    | 20/100 [01:37<06:41,  5.02s/it]"
     ]
    },
    {
     "name": "stdout",
     "output_type": "stream",
     "text": [
      "10\n"
     ]
    },
    {
     "data": {
      "application/vnd.jupyter.widget-view+json": {
       "model_id": "a67d69be5c2849ed8f5f4efdf309b5a7",
       "version_major": 2,
       "version_minor": 0
      },
      "text/plain": [
       "Writing Documents:   0%|          | 0/50 [00:00<?, ?it/s]"
      ]
     },
     "metadata": {},
     "output_type": "display_data"
    },
    {
     "data": {
      "application/vnd.jupyter.widget-view+json": {
       "model_id": "5711dfdf20ce413f953f351591e8a8e0",
       "version_major": 2,
       "version_minor": 0
      },
      "text/plain": [
       "Updating Embedding:   0%|          | 0/50 [00:00<?, ? docs/s]"
      ]
     },
     "metadata": {},
     "output_type": "display_data"
    },
    {
     "data": {
      "application/vnd.jupyter.widget-view+json": {
       "model_id": "17952150629a408283a7bfcb5e3c9545",
       "version_major": 2,
       "version_minor": 0
      },
      "text/plain": [
       "Batches:   0%|          | 0/2 [00:00<?, ?it/s]"
      ]
     },
     "metadata": {},
     "output_type": "display_data"
    },
    {
     "name": "stdout",
     "output_type": "stream",
     "text": [
      "Is tretinoin effective for photoaging?\n",
      "Yes, tretinoin is effective for photoaging. It helps reduce wrinkles, age spots, and other signs of aging caused by sun exposure.\n"
     ]
    },
    {
     "data": {
      "application/vnd.jupyter.widget-view+json": {
       "model_id": "9c170b25b8484231b9b0e3924746910f",
       "version_major": 2,
       "version_minor": 0
      },
      "text/plain": [
       "Batches:   0%|          | 0/1 [00:00<?, ?it/s]"
      ]
     },
     "metadata": {},
     "output_type": "display_data"
    },
    {
     "name": "stderr",
     "output_type": "stream",
     "text": [
      "\r",
      " 21%|██████████████████████▎                                                                                   | 21/100 [01:41<06:19,  4.81s/it]"
     ]
    },
    {
     "name": "stdout",
     "output_type": "stream",
     "text": [
      "10\n"
     ]
    },
    {
     "data": {
      "application/vnd.jupyter.widget-view+json": {
       "model_id": "132e794dd091439d95dbac3e253e2e46",
       "version_major": 2,
       "version_minor": 0
      },
      "text/plain": [
       "Writing Documents:   0%|          | 0/50 [00:00<?, ?it/s]"
      ]
     },
     "metadata": {},
     "output_type": "display_data"
    },
    {
     "data": {
      "application/vnd.jupyter.widget-view+json": {
       "model_id": "98ab61e4829b4989ae72607c41454d6b",
       "version_major": 2,
       "version_minor": 0
      },
      "text/plain": [
       "Updating Embedding:   0%|          | 0/50 [00:00<?, ? docs/s]"
      ]
     },
     "metadata": {},
     "output_type": "display_data"
    },
    {
     "data": {
      "application/vnd.jupyter.widget-view+json": {
       "model_id": "ed3a112b0f3d451ba94ee643b4061a72",
       "version_major": 2,
       "version_minor": 0
      },
      "text/plain": [
       "Batches:   0%|          | 0/2 [00:00<?, ?it/s]"
      ]
     },
     "metadata": {},
     "output_type": "display_data"
    },
    {
     "name": "stdout",
     "output_type": "stream",
     "text": [
      "What is the function of the dormancy survival regulator (DosR) in Mycobacterium tuberculosis?\n",
      "DosR is a transcription factor that helps Mycobacterium tuberculosis survive in a dormant state by regulating the expression of genes involved in dormancy, stress response, and metabolism.\n"
     ]
    },
    {
     "data": {
      "application/vnd.jupyter.widget-view+json": {
       "model_id": "0500ac35f7344892a2deb47479af74f5",
       "version_major": 2,
       "version_minor": 0
      },
      "text/plain": [
       "Batches:   0%|          | 0/1 [00:00<?, ?it/s]"
      ]
     },
     "metadata": {},
     "output_type": "display_data"
    },
    {
     "name": "stderr",
     "output_type": "stream",
     "text": [
      "\r",
      " 22%|███████████████████████▎                                                                                  | 22/100 [01:47<06:25,  4.94s/it]"
     ]
    },
    {
     "name": "stdout",
     "output_type": "stream",
     "text": [
      "10\n"
     ]
    },
    {
     "data": {
      "application/vnd.jupyter.widget-view+json": {
       "model_id": "fb64bae83e2e4f7c89bf31fa45808dab",
       "version_major": 2,
       "version_minor": 0
      },
      "text/plain": [
       "Writing Documents:   0%|          | 0/50 [00:00<?, ?it/s]"
      ]
     },
     "metadata": {},
     "output_type": "display_data"
    },
    {
     "data": {
      "application/vnd.jupyter.widget-view+json": {
       "model_id": "9667d074ae0b4b4f9dcd38a82a4bbce8",
       "version_major": 2,
       "version_minor": 0
      },
      "text/plain": [
       "Updating Embedding:   0%|          | 0/50 [00:00<?, ? docs/s]"
      ]
     },
     "metadata": {},
     "output_type": "display_data"
    },
    {
     "data": {
      "application/vnd.jupyter.widget-view+json": {
       "model_id": "01f3b52aad6f40f9a168b2bc89ede0cc",
       "version_major": 2,
       "version_minor": 0
      },
      "text/plain": [
       "Batches:   0%|          | 0/2 [00:00<?, ?it/s]"
      ]
     },
     "metadata": {},
     "output_type": "display_data"
    },
    {
     "name": "stdout",
     "output_type": "stream",
     "text": [
      "Are there ultraconserved genomic regions in the budding yeast?\n",
      "Yes, there are ultraconserved genomic regions in the budding yeast. These regions are highly conserved across species and are thought to be important for maintaining essential cellular functions.\n"
     ]
    },
    {
     "data": {
      "application/vnd.jupyter.widget-view+json": {
       "model_id": "b382830d7af3402ca528ee9249994e3b",
       "version_major": 2,
       "version_minor": 0
      },
      "text/plain": [
       "Batches:   0%|          | 0/1 [00:00<?, ?it/s]"
      ]
     },
     "metadata": {},
     "output_type": "display_data"
    },
    {
     "name": "stderr",
     "output_type": "stream",
     "text": [
      "\r",
      " 23%|████████████████████████▍                                                                                 | 23/100 [01:51<06:15,  4.88s/it]"
     ]
    },
    {
     "name": "stdout",
     "output_type": "stream",
     "text": [
      "10\n"
     ]
    },
    {
     "data": {
      "application/vnd.jupyter.widget-view+json": {
       "model_id": "8a02ed303bb74bc0bb757e43ed077a2f",
       "version_major": 2,
       "version_minor": 0
      },
      "text/plain": [
       "Writing Documents:   0%|          | 0/50 [00:00<?, ?it/s]"
      ]
     },
     "metadata": {},
     "output_type": "display_data"
    },
    {
     "data": {
      "application/vnd.jupyter.widget-view+json": {
       "model_id": "cb9a1c7efce04e0eaafca558d51e829b",
       "version_major": 2,
       "version_minor": 0
      },
      "text/plain": [
       "Updating Embedding:   0%|          | 0/50 [00:00<?, ? docs/s]"
      ]
     },
     "metadata": {},
     "output_type": "display_data"
    },
    {
     "data": {
      "application/vnd.jupyter.widget-view+json": {
       "model_id": "544133004dbd494da7da774512f77031",
       "version_major": 2,
       "version_minor": 0
      },
      "text/plain": [
       "Batches:   0%|          | 0/2 [00:00<?, ?it/s]"
      ]
     },
     "metadata": {},
     "output_type": "display_data"
    },
    {
     "name": "stdout",
     "output_type": "stream",
     "text": [
      "Which Janus kinase does decernotinib target?\n",
      "Decernotinib targets Janus Kinase 2 (JAK2). It is an oral medication used to treat myelofibrosis, a type of bone marrow cancer.\n"
     ]
    },
    {
     "data": {
      "application/vnd.jupyter.widget-view+json": {
       "model_id": "9ead79f6e5764d259f1f8f701414bd75",
       "version_major": 2,
       "version_minor": 0
      },
      "text/plain": [
       "Batches:   0%|          | 0/1 [00:00<?, ?it/s]"
      ]
     },
     "metadata": {},
     "output_type": "display_data"
    },
    {
     "name": "stderr",
     "output_type": "stream",
     "text": [
      "\r",
      " 24%|█████████████████████████▍                                                                                | 24/100 [01:56<06:09,  4.86s/it]"
     ]
    },
    {
     "name": "stdout",
     "output_type": "stream",
     "text": [
      "10\n"
     ]
    },
    {
     "data": {
      "application/vnd.jupyter.widget-view+json": {
       "model_id": "64a3d9d0938d4fccb8a6ce790e781da8",
       "version_major": 2,
       "version_minor": 0
      },
      "text/plain": [
       "Writing Documents:   0%|          | 0/50 [00:00<?, ?it/s]"
      ]
     },
     "metadata": {},
     "output_type": "display_data"
    },
    {
     "data": {
      "application/vnd.jupyter.widget-view+json": {
       "model_id": "3cf4e951d093477c8199e916308d43c0",
       "version_major": 2,
       "version_minor": 0
      },
      "text/plain": [
       "Updating Embedding:   0%|          | 0/50 [00:00<?, ? docs/s]"
      ]
     },
     "metadata": {},
     "output_type": "display_data"
    },
    {
     "data": {
      "application/vnd.jupyter.widget-view+json": {
       "model_id": "39670bbee1cb429aba75592f0c62dce0",
       "version_major": 2,
       "version_minor": 0
      },
      "text/plain": [
       "Batches:   0%|          | 0/2 [00:00<?, ?it/s]"
      ]
     },
     "metadata": {},
     "output_type": "display_data"
    },
    {
     "name": "stdout",
     "output_type": "stream",
     "text": [
      "Is autophagy modulated in a circadian fashion?\n",
      "Yes, autophagy is modulated in a circadian fashion. Autophagy is regulated by the circadian clock, and its levels vary throughout the day in response to the changing metabolic needs of the body.\n"
     ]
    },
    {
     "data": {
      "application/vnd.jupyter.widget-view+json": {
       "model_id": "4d2b0ca419df4b798d59d5286caaddd8",
       "version_major": 2,
       "version_minor": 0
      },
      "text/plain": [
       "Batches:   0%|          | 0/1 [00:00<?, ?it/s]"
      ]
     },
     "metadata": {},
     "output_type": "display_data"
    },
    {
     "name": "stderr",
     "output_type": "stream",
     "text": [
      "\r",
      " 25%|██████████████████████████▌                                                                               | 25/100 [02:01<05:58,  4.78s/it]"
     ]
    },
    {
     "name": "stdout",
     "output_type": "stream",
     "text": [
      "10\n"
     ]
    },
    {
     "data": {
      "application/vnd.jupyter.widget-view+json": {
       "model_id": "4d4b28cea2fa4e24a59cf046749e76b3",
       "version_major": 2,
       "version_minor": 0
      },
      "text/plain": [
       "Writing Documents:   0%|          | 0/50 [00:00<?, ?it/s]"
      ]
     },
     "metadata": {},
     "output_type": "display_data"
    },
    {
     "data": {
      "application/vnd.jupyter.widget-view+json": {
       "model_id": "1c1f7f28a6bc4da899713b8e7f32e63a",
       "version_major": 2,
       "version_minor": 0
      },
      "text/plain": [
       "Updating Embedding:   0%|          | 0/50 [00:00<?, ? docs/s]"
      ]
     },
     "metadata": {},
     "output_type": "display_data"
    },
    {
     "data": {
      "application/vnd.jupyter.widget-view+json": {
       "model_id": "b1031fc80b354c86be6b47a127941fee",
       "version_major": 2,
       "version_minor": 0
      },
      "text/plain": [
       "Batches:   0%|          | 0/2 [00:00<?, ?it/s]"
      ]
     },
     "metadata": {},
     "output_type": "display_data"
    },
    {
     "name": "stdout",
     "output_type": "stream",
     "text": [
      "Which tendons are affected in the Dequervain's tenosynovitis?\n",
      "Dequervain's tenosynovitis affects the tendons of the thumb, specifically the abductor pollicis longus and extensor pollicis brevis tendons.\n"
     ]
    },
    {
     "data": {
      "application/vnd.jupyter.widget-view+json": {
       "model_id": "2a9a8cd730274e738deae528611c5f37",
       "version_major": 2,
       "version_minor": 0
      },
      "text/plain": [
       "Batches:   0%|          | 0/1 [00:00<?, ?it/s]"
      ]
     },
     "metadata": {},
     "output_type": "display_data"
    },
    {
     "name": "stderr",
     "output_type": "stream",
     "text": [
      "\r",
      " 26%|███████████████████████████▌                                                                              | 26/100 [02:05<05:42,  4.63s/it]"
     ]
    },
    {
     "name": "stdout",
     "output_type": "stream",
     "text": [
      "10\n"
     ]
    },
    {
     "data": {
      "application/vnd.jupyter.widget-view+json": {
       "model_id": "c9d9337c786547b6800df049b76cb5cc",
       "version_major": 2,
       "version_minor": 0
      },
      "text/plain": [
       "Writing Documents:   0%|          | 0/50 [00:00<?, ?it/s]"
      ]
     },
     "metadata": {},
     "output_type": "display_data"
    },
    {
     "data": {
      "application/vnd.jupyter.widget-view+json": {
       "model_id": "c6160e71a6a34070a2ab98cceb08435e",
       "version_major": 2,
       "version_minor": 0
      },
      "text/plain": [
       "Updating Embedding:   0%|          | 0/50 [00:00<?, ? docs/s]"
      ]
     },
     "metadata": {},
     "output_type": "display_data"
    },
    {
     "data": {
      "application/vnd.jupyter.widget-view+json": {
       "model_id": "ff4b7810f36a4e349220e4ba7f7cfb03",
       "version_major": 2,
       "version_minor": 0
      },
      "text/plain": [
       "Batches:   0%|          | 0/2 [00:00<?, ?it/s]"
      ]
     },
     "metadata": {},
     "output_type": "display_data"
    },
    {
     "name": "stdout",
     "output_type": "stream",
     "text": [
      "Are TAD boundaries in Drosophila depleted in highly-expressed genes?\n",
      "Yes, TAD boundaries in Drosophila are depleted in highly-expressed genes, suggesting that gene expression levels may be involved in the formation of TADs.\n"
     ]
    },
    {
     "data": {
      "application/vnd.jupyter.widget-view+json": {
       "model_id": "e6eb69a4eaa74231b257cbb061a421d3",
       "version_major": 2,
       "version_minor": 0
      },
      "text/plain": [
       "Batches:   0%|          | 0/1 [00:00<?, ?it/s]"
      ]
     },
     "metadata": {},
     "output_type": "display_data"
    },
    {
     "name": "stderr",
     "output_type": "stream",
     "text": [
      "\r",
      " 27%|████████████████████████████▌                                                                             | 27/100 [02:10<05:40,  4.66s/it]"
     ]
    },
    {
     "name": "stdout",
     "output_type": "stream",
     "text": [
      "10\n"
     ]
    },
    {
     "data": {
      "application/vnd.jupyter.widget-view+json": {
       "model_id": "960d88cddc974a1298bb083e2608c347",
       "version_major": 2,
       "version_minor": 0
      },
      "text/plain": [
       "Writing Documents:   0%|          | 0/50 [00:00<?, ?it/s]"
      ]
     },
     "metadata": {},
     "output_type": "display_data"
    },
    {
     "data": {
      "application/vnd.jupyter.widget-view+json": {
       "model_id": "c390d9577cb841529de10fe20178f9be",
       "version_major": 2,
       "version_minor": 0
      },
      "text/plain": [
       "Updating Embedding:   0%|          | 0/50 [00:00<?, ? docs/s]"
      ]
     },
     "metadata": {},
     "output_type": "display_data"
    },
    {
     "data": {
      "application/vnd.jupyter.widget-view+json": {
       "model_id": "1508dbe14e324cd48d417fb6161a23bf",
       "version_major": 2,
       "version_minor": 0
      },
      "text/plain": [
       "Batches:   0%|          | 0/2 [00:00<?, ?it/s]"
      ]
     },
     "metadata": {},
     "output_type": "display_data"
    },
    {
     "name": "stdout",
     "output_type": "stream",
     "text": [
      "Does TUC.338 inhibit colorectal cancer?\n",
      "No, TUC.338 does not inhibit colorectal cancer. However, it has been shown to reduce the growth of colorectal cancer cells in laboratory studies.\n"
     ]
    },
    {
     "data": {
      "application/vnd.jupyter.widget-view+json": {
       "model_id": "b45f2a29af2d46a48501b62fefd45c95",
       "version_major": 2,
       "version_minor": 0
      },
      "text/plain": [
       "Batches:   0%|          | 0/1 [00:00<?, ?it/s]"
      ]
     },
     "metadata": {},
     "output_type": "display_data"
    },
    {
     "name": "stderr",
     "output_type": "stream",
     "text": [
      "\r",
      " 28%|█████████████████████████████▋                                                                            | 28/100 [02:15<05:44,  4.79s/it]"
     ]
    },
    {
     "name": "stdout",
     "output_type": "stream",
     "text": [
      "10\n"
     ]
    },
    {
     "data": {
      "application/vnd.jupyter.widget-view+json": {
       "model_id": "aaaefc875a544d6194545b94532a74ac",
       "version_major": 2,
       "version_minor": 0
      },
      "text/plain": [
       "Writing Documents:   0%|          | 0/50 [00:00<?, ?it/s]"
      ]
     },
     "metadata": {},
     "output_type": "display_data"
    },
    {
     "data": {
      "application/vnd.jupyter.widget-view+json": {
       "model_id": "2b5cef7b470847739a58bda2b9663ce5",
       "version_major": 2,
       "version_minor": 0
      },
      "text/plain": [
       "Updating Embedding:   0%|          | 0/50 [00:00<?, ? docs/s]"
      ]
     },
     "metadata": {},
     "output_type": "display_data"
    },
    {
     "data": {
      "application/vnd.jupyter.widget-view+json": {
       "model_id": "461eeba6e7a04d2ca824073013c876d9",
       "version_major": 2,
       "version_minor": 0
      },
      "text/plain": [
       "Batches:   0%|          | 0/2 [00:00<?, ?it/s]"
      ]
     },
     "metadata": {},
     "output_type": "display_data"
    },
    {
     "name": "stdout",
     "output_type": "stream",
     "text": [
      "What is oclacitinib?\n",
      "Oclacitinib is a prescription medication used to treat itching and inflammation caused by allergies in dogs. It works by blocking the action of certain chemicals in the body that cause itching and inflammation.\n"
     ]
    },
    {
     "data": {
      "application/vnd.jupyter.widget-view+json": {
       "model_id": "dc85d1ac1fe0409ba85a775253b3754e",
       "version_major": 2,
       "version_minor": 0
      },
      "text/plain": [
       "Batches:   0%|          | 0/1 [00:00<?, ?it/s]"
      ]
     },
     "metadata": {},
     "output_type": "display_data"
    },
    {
     "name": "stderr",
     "output_type": "stream",
     "text": [
      "\r",
      " 29%|██████████████████████████████▋                                                                           | 29/100 [02:20<05:44,  4.86s/it]"
     ]
    },
    {
     "name": "stdout",
     "output_type": "stream",
     "text": [
      "10\n"
     ]
    },
    {
     "data": {
      "application/vnd.jupyter.widget-view+json": {
       "model_id": "5dffca2d214647a58d385cfd1b42c75a",
       "version_major": 2,
       "version_minor": 0
      },
      "text/plain": [
       "Writing Documents:   0%|          | 0/50 [00:00<?, ?it/s]"
      ]
     },
     "metadata": {},
     "output_type": "display_data"
    },
    {
     "data": {
      "application/vnd.jupyter.widget-view+json": {
       "model_id": "67e57bf8fb8b473787f8f8a030f283b5",
       "version_major": 2,
       "version_minor": 0
      },
      "text/plain": [
       "Updating Embedding:   0%|          | 0/50 [00:00<?, ? docs/s]"
      ]
     },
     "metadata": {},
     "output_type": "display_data"
    },
    {
     "data": {
      "application/vnd.jupyter.widget-view+json": {
       "model_id": "9cfbe0e5179b44b0bff97311706ec395",
       "version_major": 2,
       "version_minor": 0
      },
      "text/plain": [
       "Batches:   0%|          | 0/2 [00:00<?, ?it/s]"
      ]
     },
     "metadata": {},
     "output_type": "display_data"
    },
    {
     "name": "stdout",
     "output_type": "stream",
     "text": [
      "List the four most important interferonopathies\n",
      "1. Aicardi-Goutières Syndrome: A rare genetic disorder characterized by inflammation of the brain and other organs.\n",
      "2. Mevalonate Kinase Deficiency: A rare metabolic disorder caused by a deficiency of\n"
     ]
    },
    {
     "data": {
      "application/vnd.jupyter.widget-view+json": {
       "model_id": "bca3a989a94d4d89b0c7c2eb682b15e3",
       "version_major": 2,
       "version_minor": 0
      },
      "text/plain": [
       "Batches:   0%|          | 0/1 [00:00<?, ?it/s]"
      ]
     },
     "metadata": {},
     "output_type": "display_data"
    },
    {
     "name": "stderr",
     "output_type": "stream",
     "text": [
      "\r",
      " 30%|███████████████████████████████▊                                                                          | 30/100 [02:24<05:19,  4.57s/it]"
     ]
    },
    {
     "name": "stdout",
     "output_type": "stream",
     "text": [
      "10\n"
     ]
    },
    {
     "data": {
      "application/vnd.jupyter.widget-view+json": {
       "model_id": "1530052e09b14df88d9484336682fdb5",
       "version_major": 2,
       "version_minor": 0
      },
      "text/plain": [
       "Writing Documents:   0%|          | 0/50 [00:00<?, ?it/s]"
      ]
     },
     "metadata": {},
     "output_type": "display_data"
    },
    {
     "data": {
      "application/vnd.jupyter.widget-view+json": {
       "model_id": "e164f155bcc24a8da2c1e93930efae76",
       "version_major": 2,
       "version_minor": 0
      },
      "text/plain": [
       "Updating Embedding:   0%|          | 0/50 [00:00<?, ? docs/s]"
      ]
     },
     "metadata": {},
     "output_type": "display_data"
    },
    {
     "data": {
      "application/vnd.jupyter.widget-view+json": {
       "model_id": "51828eae845f4fb9ab489956adf69659",
       "version_major": 2,
       "version_minor": 0
      },
      "text/plain": [
       "Batches:   0%|          | 0/2 [00:00<?, ?it/s]"
      ]
     },
     "metadata": {},
     "output_type": "display_data"
    },
    {
     "name": "stdout",
     "output_type": "stream",
     "text": [
      "What is the purpose of the FRAX scale?\n",
      "The FRAX scale is a tool used to assess an individual's risk of developing osteoporotic fractures. It uses clinical risk factors to calculate a 10-year probability of fracture.\n"
     ]
    },
    {
     "data": {
      "application/vnd.jupyter.widget-view+json": {
       "model_id": "fd3b19a8bbef4bd18fef65e9bb7a349a",
       "version_major": 2,
       "version_minor": 0
      },
      "text/plain": [
       "Batches:   0%|          | 0/1 [00:00<?, ?it/s]"
      ]
     },
     "metadata": {},
     "output_type": "display_data"
    },
    {
     "name": "stderr",
     "output_type": "stream",
     "text": [
      "\r",
      " 31%|████████████████████████████████▊                                                                         | 31/100 [02:28<05:03,  4.40s/it]"
     ]
    },
    {
     "name": "stdout",
     "output_type": "stream",
     "text": [
      "10\n"
     ]
    },
    {
     "data": {
      "application/vnd.jupyter.widget-view+json": {
       "model_id": "c083c56695474a9a90d292d0bdff4538",
       "version_major": 2,
       "version_minor": 0
      },
      "text/plain": [
       "Writing Documents:   0%|          | 0/50 [00:00<?, ?it/s]"
      ]
     },
     "metadata": {},
     "output_type": "display_data"
    },
    {
     "data": {
      "application/vnd.jupyter.widget-view+json": {
       "model_id": "69e0914338954341b17a6e3feab91a9e",
       "version_major": 2,
       "version_minor": 0
      },
      "text/plain": [
       "Updating Embedding:   0%|          | 0/50 [00:00<?, ? docs/s]"
      ]
     },
     "metadata": {},
     "output_type": "display_data"
    },
    {
     "data": {
      "application/vnd.jupyter.widget-view+json": {
       "model_id": "3116e896ab23405f9d487afa93dfcfea",
       "version_major": 2,
       "version_minor": 0
      },
      "text/plain": [
       "Batches:   0%|          | 0/2 [00:00<?, ?it/s]"
      ]
     },
     "metadata": {},
     "output_type": "display_data"
    },
    {
     "name": "stdout",
     "output_type": "stream",
     "text": [
      "How are topologically associating domains (TAD) associated with replication timing?\n",
      "TADs are associated with replication timing as they are thought to be the structural units of the genome that control when and where replication occurs. They are thought to act as boundaries that regulate the timing of replication.\n"
     ]
    },
    {
     "data": {
      "application/vnd.jupyter.widget-view+json": {
       "model_id": "8dee67d2f4984327913d9d769ee6eced",
       "version_major": 2,
       "version_minor": 0
      },
      "text/plain": [
       "Batches:   0%|          | 0/1 [00:00<?, ?it/s]"
      ]
     },
     "metadata": {},
     "output_type": "display_data"
    },
    {
     "name": "stderr",
     "output_type": "stream",
     "text": [
      "\r",
      " 32%|█████████████████████████████████▉                                                                        | 32/100 [02:32<04:53,  4.31s/it]"
     ]
    },
    {
     "name": "stdout",
     "output_type": "stream",
     "text": [
      "10\n"
     ]
    },
    {
     "data": {
      "application/vnd.jupyter.widget-view+json": {
       "model_id": "6f66d797121a4314a973e9bf8c03546f",
       "version_major": 2,
       "version_minor": 0
      },
      "text/plain": [
       "Writing Documents:   0%|          | 0/50 [00:00<?, ?it/s]"
      ]
     },
     "metadata": {},
     "output_type": "display_data"
    },
    {
     "data": {
      "application/vnd.jupyter.widget-view+json": {
       "model_id": "d2bc4f513be942878a2e58afe6c191ab",
       "version_major": 2,
       "version_minor": 0
      },
      "text/plain": [
       "Updating Embedding:   0%|          | 0/50 [00:00<?, ? docs/s]"
      ]
     },
     "metadata": {},
     "output_type": "display_data"
    },
    {
     "data": {
      "application/vnd.jupyter.widget-view+json": {
       "model_id": "e4f4435db00d4009878262bc21dd4796",
       "version_major": 2,
       "version_minor": 0
      },
      "text/plain": [
       "Batches:   0%|          | 0/2 [00:00<?, ?it/s]"
      ]
     },
     "metadata": {},
     "output_type": "display_data"
    },
    {
     "name": "stdout",
     "output_type": "stream",
     "text": [
      "Which R/Bioconductor package has been developed for the analysis of psychiatric disease genes?\n",
      "The Psychiatric Disease Genes package (PDG) has been developed for the analysis of psychiatric disease genes. It provides a comprehensive set of tools for analyzing gene expression data from psychiatric diseases, including gene set enrichment analysis, gene-gene interaction\n"
     ]
    },
    {
     "data": {
      "application/vnd.jupyter.widget-view+json": {
       "model_id": "28dc3907c0274116b76fedf51a12c10d",
       "version_major": 2,
       "version_minor": 0
      },
      "text/plain": [
       "Batches:   0%|          | 0/1 [00:00<?, ?it/s]"
      ]
     },
     "metadata": {},
     "output_type": "display_data"
    },
    {
     "name": "stderr",
     "output_type": "stream",
     "text": [
      "\r",
      " 33%|██████████████████████████████████▉                                                                       | 33/100 [02:37<05:00,  4.49s/it]"
     ]
    },
    {
     "name": "stdout",
     "output_type": "stream",
     "text": [
      "10\n"
     ]
    },
    {
     "data": {
      "application/vnd.jupyter.widget-view+json": {
       "model_id": "8981c5996cd340eb87f58e0fd411b68e",
       "version_major": 2,
       "version_minor": 0
      },
      "text/plain": [
       "Writing Documents:   0%|          | 0/50 [00:00<?, ?it/s]"
      ]
     },
     "metadata": {},
     "output_type": "display_data"
    },
    {
     "data": {
      "application/vnd.jupyter.widget-view+json": {
       "model_id": "8ecaf26845e043429f0531e3d9a3e9ee",
       "version_major": 2,
       "version_minor": 0
      },
      "text/plain": [
       "Updating Embedding:   0%|          | 0/50 [00:00<?, ? docs/s]"
      ]
     },
     "metadata": {},
     "output_type": "display_data"
    },
    {
     "data": {
      "application/vnd.jupyter.widget-view+json": {
       "model_id": "faf298acc0884df39d014ded01b2dfcb",
       "version_major": 2,
       "version_minor": 0
      },
      "text/plain": [
       "Batches:   0%|          | 0/2 [00:00<?, ?it/s]"
      ]
     },
     "metadata": {},
     "output_type": "display_data"
    },
    {
     "name": "stdout",
     "output_type": "stream",
     "text": [
      "Has ruxolitinib received FDA approval?\n",
      "Yes, ruxolitinib has received FDA approval for the treatment of myelofibrosis and polycythemia vera, two rare blood disorders.\n"
     ]
    },
    {
     "data": {
      "application/vnd.jupyter.widget-view+json": {
       "model_id": "0aed42303b874df59949edc765d273db",
       "version_major": 2,
       "version_minor": 0
      },
      "text/plain": [
       "Batches:   0%|          | 0/1 [00:00<?, ?it/s]"
      ]
     },
     "metadata": {},
     "output_type": "display_data"
    },
    {
     "name": "stderr",
     "output_type": "stream",
     "text": [
      "\r",
      " 34%|████████████████████████████████████                                                                      | 34/100 [02:42<04:59,  4.54s/it]"
     ]
    },
    {
     "name": "stdout",
     "output_type": "stream",
     "text": [
      "10\n"
     ]
    },
    {
     "data": {
      "application/vnd.jupyter.widget-view+json": {
       "model_id": "b7c8468788464acf9b428ac62ea71a42",
       "version_major": 2,
       "version_minor": 0
      },
      "text/plain": [
       "Writing Documents:   0%|          | 0/50 [00:00<?, ?it/s]"
      ]
     },
     "metadata": {},
     "output_type": "display_data"
    },
    {
     "data": {
      "application/vnd.jupyter.widget-view+json": {
       "model_id": "1cb20b60770d4c0ca182b69469fb3601",
       "version_major": 2,
       "version_minor": 0
      },
      "text/plain": [
       "Updating Embedding:   0%|          | 0/50 [00:00<?, ? docs/s]"
      ]
     },
     "metadata": {},
     "output_type": "display_data"
    },
    {
     "data": {
      "application/vnd.jupyter.widget-view+json": {
       "model_id": "a704196b5ec34b70bac5f87751f99a17",
       "version_major": 2,
       "version_minor": 0
      },
      "text/plain": [
       "Batches:   0%|          | 0/2 [00:00<?, ?it/s]"
      ]
     },
     "metadata": {},
     "output_type": "display_data"
    },
    {
     "name": "stdout",
     "output_type": "stream",
     "text": [
      "What is the function of the gene MDA5?\n",
      "MDA5 is a gene that encodes a protein that helps to detect and respond to viral infections. It is part of the innate immune system and helps to activate the production of antiviral molecules.\n"
     ]
    },
    {
     "data": {
      "application/vnd.jupyter.widget-view+json": {
       "model_id": "c8a115f9840e4632b13a1b65ae1cf80a",
       "version_major": 2,
       "version_minor": 0
      },
      "text/plain": [
       "Batches:   0%|          | 0/1 [00:00<?, ?it/s]"
      ]
     },
     "metadata": {},
     "output_type": "display_data"
    },
    {
     "name": "stderr",
     "output_type": "stream",
     "text": [
      "\r",
      " 35%|█████████████████████████████████████                                                                     | 35/100 [02:47<05:06,  4.72s/it]"
     ]
    },
    {
     "name": "stdout",
     "output_type": "stream",
     "text": [
      "10\n"
     ]
    },
    {
     "data": {
      "application/vnd.jupyter.widget-view+json": {
       "model_id": "bd0db8cbc59b4979a508f2eeb55a82e3",
       "version_major": 2,
       "version_minor": 0
      },
      "text/plain": [
       "Writing Documents:   0%|          | 0/50 [00:00<?, ?it/s]"
      ]
     },
     "metadata": {},
     "output_type": "display_data"
    },
    {
     "data": {
      "application/vnd.jupyter.widget-view+json": {
       "model_id": "2c5b159124b04bf3bdfef5c9dbdb9103",
       "version_major": 2,
       "version_minor": 0
      },
      "text/plain": [
       "Updating Embedding:   0%|          | 0/50 [00:00<?, ? docs/s]"
      ]
     },
     "metadata": {},
     "output_type": "display_data"
    },
    {
     "data": {
      "application/vnd.jupyter.widget-view+json": {
       "model_id": "739ba4c4800b4df48f6ee12b20bb0a21",
       "version_major": 2,
       "version_minor": 0
      },
      "text/plain": [
       "Batches:   0%|          | 0/2 [00:00<?, ?it/s]"
      ]
     },
     "metadata": {},
     "output_type": "display_data"
    },
    {
     "name": "stdout",
     "output_type": "stream",
     "text": [
      "Is scuba diving safe during pregnancy?\n",
      "No, scuba diving is not safe during pregnancy. The pressure changes and physical exertion can be dangerous for both mother and baby.\n"
     ]
    },
    {
     "data": {
      "application/vnd.jupyter.widget-view+json": {
       "model_id": "4b5adadb6cdd451e9f57ca0a4dddb296",
       "version_major": 2,
       "version_minor": 0
      },
      "text/plain": [
       "Batches:   0%|          | 0/1 [00:00<?, ?it/s]"
      ]
     },
     "metadata": {},
     "output_type": "display_data"
    },
    {
     "name": "stderr",
     "output_type": "stream",
     "text": [
      "\r",
      " 36%|██████████████████████████████████████▏                                                                   | 36/100 [02:51<04:53,  4.59s/it]"
     ]
    },
    {
     "name": "stdout",
     "output_type": "stream",
     "text": [
      "10\n"
     ]
    },
    {
     "data": {
      "application/vnd.jupyter.widget-view+json": {
       "model_id": "124e6dbcb15543a8b52b842360dad174",
       "version_major": 2,
       "version_minor": 0
      },
      "text/plain": [
       "Writing Documents:   0%|          | 0/50 [00:00<?, ?it/s]"
      ]
     },
     "metadata": {},
     "output_type": "display_data"
    },
    {
     "data": {
      "application/vnd.jupyter.widget-view+json": {
       "model_id": "4b2dcce3d9334b2e915f0d9ea625a325",
       "version_major": 2,
       "version_minor": 0
      },
      "text/plain": [
       "Updating Embedding:   0%|          | 0/50 [00:00<?, ? docs/s]"
      ]
     },
     "metadata": {},
     "output_type": "display_data"
    },
    {
     "data": {
      "application/vnd.jupyter.widget-view+json": {
       "model_id": "6e6d1690f4174044a2df817c2d02b204",
       "version_major": 2,
       "version_minor": 0
      },
      "text/plain": [
       "Batches:   0%|          | 0/2 [00:00<?, ?it/s]"
      ]
     },
     "metadata": {},
     "output_type": "display_data"
    },
    {
     "name": "stdout",
     "output_type": "stream",
     "text": [
      "Which individuals show preferential colonization of the Prevotellaceae bacteria in their guts?\n",
      "Individuals with a diet high in animal proteins and low in plant-based fibers show preferential colonization of Prevotellaceae bacteria in their guts.\n"
     ]
    },
    {
     "data": {
      "application/vnd.jupyter.widget-view+json": {
       "model_id": "5afbd14d12754d0c9f89df6963896633",
       "version_major": 2,
       "version_minor": 0
      },
      "text/plain": [
       "Batches:   0%|          | 0/1 [00:00<?, ?it/s]"
      ]
     },
     "metadata": {},
     "output_type": "display_data"
    },
    {
     "name": "stderr",
     "output_type": "stream",
     "text": [
      "\r",
      " 37%|███████████████████████████████████████▏                                                                  | 37/100 [02:56<05:00,  4.78s/it]"
     ]
    },
    {
     "name": "stdout",
     "output_type": "stream",
     "text": [
      "10\n"
     ]
    },
    {
     "data": {
      "application/vnd.jupyter.widget-view+json": {
       "model_id": "5f524eb128334ea9ae585753260e04b5",
       "version_major": 2,
       "version_minor": 0
      },
      "text/plain": [
       "Writing Documents:   0%|          | 0/50 [00:00<?, ?it/s]"
      ]
     },
     "metadata": {},
     "output_type": "display_data"
    },
    {
     "data": {
      "application/vnd.jupyter.widget-view+json": {
       "model_id": "d2b509bd46b34d44acdbbb0abd5dfaf9",
       "version_major": 2,
       "version_minor": 0
      },
      "text/plain": [
       "Updating Embedding:   0%|          | 0/50 [00:00<?, ? docs/s]"
      ]
     },
     "metadata": {},
     "output_type": "display_data"
    },
    {
     "data": {
      "application/vnd.jupyter.widget-view+json": {
       "model_id": "f2ffbb2a1c014459be25a179bdca6765",
       "version_major": 2,
       "version_minor": 0
      },
      "text/plain": [
       "Batches:   0%|          | 0/2 [00:00<?, ?it/s]"
      ]
     },
     "metadata": {},
     "output_type": "display_data"
    },
    {
     "name": "stdout",
     "output_type": "stream",
     "text": [
      "What is the main focus of the CVE R/Bioconductor package?\n",
      "The CVE R/Bioconductor package is focused on providing tools for the analysis of gene expression data, including differential expression, clustering, and gene set enrichment.\n"
     ]
    },
    {
     "data": {
      "application/vnd.jupyter.widget-view+json": {
       "model_id": "35fb788c57ae4c3dbeed19fd74c9c747",
       "version_major": 2,
       "version_minor": 0
      },
      "text/plain": [
       "Batches:   0%|          | 0/1 [00:00<?, ?it/s]"
      ]
     },
     "metadata": {},
     "output_type": "display_data"
    },
    {
     "name": "stderr",
     "output_type": "stream",
     "text": [
      "\r",
      " 38%|████████████████████████████████████████▎                                                                 | 38/100 [03:00<04:46,  4.62s/it]"
     ]
    },
    {
     "name": "stdout",
     "output_type": "stream",
     "text": [
      "10\n"
     ]
    },
    {
     "data": {
      "application/vnd.jupyter.widget-view+json": {
       "model_id": "50fc4571687743a68ca19e206c3c0808",
       "version_major": 2,
       "version_minor": 0
      },
      "text/plain": [
       "Writing Documents:   0%|          | 0/50 [00:00<?, ?it/s]"
      ]
     },
     "metadata": {},
     "output_type": "display_data"
    },
    {
     "data": {
      "application/vnd.jupyter.widget-view+json": {
       "model_id": "09f9d68d1fb343078870718e0ccb3949",
       "version_major": 2,
       "version_minor": 0
      },
      "text/plain": [
       "Updating Embedding:   0%|          | 0/50 [00:00<?, ? docs/s]"
      ]
     },
     "metadata": {},
     "output_type": "display_data"
    },
    {
     "data": {
      "application/vnd.jupyter.widget-view+json": {
       "model_id": "a58d14d53f8544e1be3b1cf4ed612492",
       "version_major": 2,
       "version_minor": 0
      },
      "text/plain": [
       "Batches:   0%|          | 0/2 [00:00<?, ?it/s]"
      ]
     },
     "metadata": {},
     "output_type": "display_data"
    },
    {
     "name": "stdout",
     "output_type": "stream",
     "text": [
      "Does deflazacort have more side effects than prednisone?\n",
      "No, deflazacort and prednisone have similar side effects, such as weight gain, increased appetite, and mood changes.\n"
     ]
    },
    {
     "data": {
      "application/vnd.jupyter.widget-view+json": {
       "model_id": "4c5fce1c993a4dd1acfcf35f15b8132b",
       "version_major": 2,
       "version_minor": 0
      },
      "text/plain": [
       "Batches:   0%|          | 0/1 [00:00<?, ?it/s]"
      ]
     },
     "metadata": {},
     "output_type": "display_data"
    },
    {
     "name": "stderr",
     "output_type": "stream",
     "text": [
      "\r",
      " 39%|█████████████████████████████████████████▎                                                                | 39/100 [03:06<04:50,  4.76s/it]"
     ]
    },
    {
     "name": "stdout",
     "output_type": "stream",
     "text": [
      "10\n"
     ]
    },
    {
     "data": {
      "application/vnd.jupyter.widget-view+json": {
       "model_id": "626919d39f3f428d9c94ddea2b6bffaf",
       "version_major": 2,
       "version_minor": 0
      },
      "text/plain": [
       "Writing Documents:   0%|          | 0/50 [00:00<?, ?it/s]"
      ]
     },
     "metadata": {},
     "output_type": "display_data"
    },
    {
     "data": {
      "application/vnd.jupyter.widget-view+json": {
       "model_id": "e86d839be7eb4fa2bd5e16790dbbdd4d",
       "version_major": 2,
       "version_minor": 0
      },
      "text/plain": [
       "Updating Embedding:   0%|          | 0/50 [00:00<?, ? docs/s]"
      ]
     },
     "metadata": {},
     "output_type": "display_data"
    },
    {
     "data": {
      "application/vnd.jupyter.widget-view+json": {
       "model_id": "f11211c0f1334ff7b6b09562e265fdbb",
       "version_major": 2,
       "version_minor": 0
      },
      "text/plain": [
       "Batches:   0%|          | 0/2 [00:00<?, ?it/s]"
      ]
     },
     "metadata": {},
     "output_type": "display_data"
    },
    {
     "name": "stdout",
     "output_type": "stream",
     "text": [
      "Which is the conserved motif of DEAD box proteins?\n",
      "The conserved motif of DEAD box proteins is the DEAD box motif, which is a conserved sequence of amino acids that is essential for the ATP-dependent RNA helicase activity of these proteins.\n"
     ]
    },
    {
     "data": {
      "application/vnd.jupyter.widget-view+json": {
       "model_id": "717d3f03bca04fa3a6750657c761bab5",
       "version_major": 2,
       "version_minor": 0
      },
      "text/plain": [
       "Batches:   0%|          | 0/1 [00:00<?, ?it/s]"
      ]
     },
     "metadata": {},
     "output_type": "display_data"
    },
    {
     "name": "stderr",
     "output_type": "stream",
     "text": [
      "\r",
      " 40%|██████████████████████████████████████████▍                                                               | 40/100 [03:10<04:43,  4.73s/it]"
     ]
    },
    {
     "name": "stdout",
     "output_type": "stream",
     "text": [
      "10\n"
     ]
    },
    {
     "data": {
      "application/vnd.jupyter.widget-view+json": {
       "model_id": "eb8c46e2894149f7affd18b5bbe78ea3",
       "version_major": 2,
       "version_minor": 0
      },
      "text/plain": [
       "Writing Documents:   0%|          | 0/50 [00:00<?, ?it/s]"
      ]
     },
     "metadata": {},
     "output_type": "display_data"
    },
    {
     "data": {
      "application/vnd.jupyter.widget-view+json": {
       "model_id": "4fc9d4084f4b4f0fbf0fa06a42a379ea",
       "version_major": 2,
       "version_minor": 0
      },
      "text/plain": [
       "Updating Embedding:   0%|          | 0/50 [00:00<?, ? docs/s]"
      ]
     },
     "metadata": {},
     "output_type": "display_data"
    },
    {
     "data": {
      "application/vnd.jupyter.widget-view+json": {
       "model_id": "ddd36dc992dc4ecba269d9cf597ce2e4",
       "version_major": 2,
       "version_minor": 0
      },
      "text/plain": [
       "Batches:   0%|          | 0/2 [00:00<?, ?it/s]"
      ]
     },
     "metadata": {},
     "output_type": "display_data"
    },
    {
     "name": "stdout",
     "output_type": "stream",
     "text": [
      "Which drug can be reversed with idarucizumab?\n",
      "Idarucizumab is a drug used to reverse the anticoagulant effects of dabigatran, a medication used to prevent blood clots.\n"
     ]
    },
    {
     "data": {
      "application/vnd.jupyter.widget-view+json": {
       "model_id": "92b06feaf0d841c8b1ba3006450223c1",
       "version_major": 2,
       "version_minor": 0
      },
      "text/plain": [
       "Batches:   0%|          | 0/1 [00:00<?, ?it/s]"
      ]
     },
     "metadata": {},
     "output_type": "display_data"
    },
    {
     "name": "stderr",
     "output_type": "stream",
     "text": [
      "\r",
      " 41%|███████████████████████████████████████████▍                                                              | 41/100 [03:15<04:43,  4.81s/it]"
     ]
    },
    {
     "name": "stdout",
     "output_type": "stream",
     "text": [
      "10\n"
     ]
    },
    {
     "data": {
      "application/vnd.jupyter.widget-view+json": {
       "model_id": "4af768c06a264afe93edb7bea12c6d3f",
       "version_major": 2,
       "version_minor": 0
      },
      "text/plain": [
       "Writing Documents:   0%|          | 0/50 [00:00<?, ?it/s]"
      ]
     },
     "metadata": {},
     "output_type": "display_data"
    },
    {
     "data": {
      "application/vnd.jupyter.widget-view+json": {
       "model_id": "f8ef585eeb054708a5050fdaf1ea3270",
       "version_major": 2,
       "version_minor": 0
      },
      "text/plain": [
       "Updating Embedding:   0%|          | 0/50 [00:00<?, ? docs/s]"
      ]
     },
     "metadata": {},
     "output_type": "display_data"
    },
    {
     "data": {
      "application/vnd.jupyter.widget-view+json": {
       "model_id": "bb21ae110a50482ebaddf28fcd642cf5",
       "version_major": 2,
       "version_minor": 0
      },
      "text/plain": [
       "Batches:   0%|          | 0/2 [00:00<?, ?it/s]"
      ]
     },
     "metadata": {},
     "output_type": "display_data"
    },
    {
     "name": "stdout",
     "output_type": "stream",
     "text": [
      "What is the genetic basis of Ohdo syndrome?\n",
      "Ohdo syndrome is caused by a mutation in the gene CEP135, which is involved in the formation of centrioles and cilia. This mutation leads to abnormal development of the brain, heart, and other organs.\n"
     ]
    },
    {
     "data": {
      "application/vnd.jupyter.widget-view+json": {
       "model_id": "df5ab70baee9477a9d143784cff27a83",
       "version_major": 2,
       "version_minor": 0
      },
      "text/plain": [
       "Batches:   0%|          | 0/1 [00:00<?, ?it/s]"
      ]
     },
     "metadata": {},
     "output_type": "display_data"
    },
    {
     "name": "stderr",
     "output_type": "stream",
     "text": [
      "\r",
      " 42%|████████████████████████████████████████████▌                                                             | 42/100 [03:20<04:31,  4.68s/it]"
     ]
    },
    {
     "name": "stdout",
     "output_type": "stream",
     "text": [
      "10\n"
     ]
    },
    {
     "data": {
      "application/vnd.jupyter.widget-view+json": {
       "model_id": "d1279667e9104c058b4cbaf4afd84933",
       "version_major": 2,
       "version_minor": 0
      },
      "text/plain": [
       "Writing Documents:   0%|          | 0/50 [00:00<?, ?it/s]"
      ]
     },
     "metadata": {},
     "output_type": "display_data"
    },
    {
     "data": {
      "application/vnd.jupyter.widget-view+json": {
       "model_id": "e42815753d5d46d5b862cb6fe10c6a0f",
       "version_major": 2,
       "version_minor": 0
      },
      "text/plain": [
       "Updating Embedding:   0%|          | 0/50 [00:00<?, ? docs/s]"
      ]
     },
     "metadata": {},
     "output_type": "display_data"
    },
    {
     "data": {
      "application/vnd.jupyter.widget-view+json": {
       "model_id": "3b61e25951a04c1b8a9bfbd22c1a2460",
       "version_major": 2,
       "version_minor": 0
      },
      "text/plain": [
       "Batches:   0%|          | 0/2 [00:00<?, ?it/s]"
      ]
     },
     "metadata": {},
     "output_type": "display_data"
    },
    {
     "name": "stdout",
     "output_type": "stream",
     "text": [
      "What is the function of the TMEM132 genes?\n",
      "TMEM132 genes are involved in the regulation of neuronal excitability and synaptic plasticity. They are thought to play a role in learning and memory formation.\n"
     ]
    },
    {
     "data": {
      "application/vnd.jupyter.widget-view+json": {
       "model_id": "5a3d60e451c84a289aeb7a2f4a847dc3",
       "version_major": 2,
       "version_minor": 0
      },
      "text/plain": [
       "Batches:   0%|          | 0/1 [00:00<?, ?it/s]"
      ]
     },
     "metadata": {},
     "output_type": "display_data"
    },
    {
     "name": "stderr",
     "output_type": "stream",
     "text": [
      "\r",
      " 43%|█████████████████████████████████████████████▌                                                            | 43/100 [03:23<04:12,  4.43s/it]"
     ]
    },
    {
     "name": "stdout",
     "output_type": "stream",
     "text": [
      "10\n"
     ]
    },
    {
     "data": {
      "application/vnd.jupyter.widget-view+json": {
       "model_id": "f044d00968954d22a48b2018b54c1efe",
       "version_major": 2,
       "version_minor": 0
      },
      "text/plain": [
       "Writing Documents:   0%|          | 0/50 [00:00<?, ?it/s]"
      ]
     },
     "metadata": {},
     "output_type": "display_data"
    },
    {
     "data": {
      "application/vnd.jupyter.widget-view+json": {
       "model_id": "e614c8b507c34d11aee446eb6aee0304",
       "version_major": 2,
       "version_minor": 0
      },
      "text/plain": [
       "Updating Embedding:   0%|          | 0/50 [00:00<?, ? docs/s]"
      ]
     },
     "metadata": {},
     "output_type": "display_data"
    },
    {
     "data": {
      "application/vnd.jupyter.widget-view+json": {
       "model_id": "ef81f2751ed946989e0e76352a62afe5",
       "version_major": 2,
       "version_minor": 0
      },
      "text/plain": [
       "Batches:   0%|          | 0/2 [00:00<?, ?it/s]"
      ]
     },
     "metadata": {},
     "output_type": "display_data"
    },
    {
     "name": "stdout",
     "output_type": "stream",
     "text": [
      "What is the relationship of fyn kinase and tau?\n",
      "Fyn kinase is a protein kinase that phosphorylates tau, a protein involved in the regulation of microtubule assembly and stability. This phosphorylation is thought to be involved in the development of tau-related\n"
     ]
    },
    {
     "data": {
      "application/vnd.jupyter.widget-view+json": {
       "model_id": "97ab9560ba754169936e4aef21363ec6",
       "version_major": 2,
       "version_minor": 0
      },
      "text/plain": [
       "Batches:   0%|          | 0/1 [00:00<?, ?it/s]"
      ]
     },
     "metadata": {},
     "output_type": "display_data"
    },
    {
     "name": "stderr",
     "output_type": "stream",
     "text": [
      "\r",
      " 44%|██████████████████████████████████████████████▋                                                           | 44/100 [03:29<04:18,  4.62s/it]"
     ]
    },
    {
     "name": "stdout",
     "output_type": "stream",
     "text": [
      "10\n"
     ]
    },
    {
     "data": {
      "application/vnd.jupyter.widget-view+json": {
       "model_id": "4a544f92415b4f1b91dc51838ddc5eac",
       "version_major": 2,
       "version_minor": 0
      },
      "text/plain": [
       "Writing Documents:   0%|          | 0/50 [00:00<?, ?it/s]"
      ]
     },
     "metadata": {},
     "output_type": "display_data"
    },
    {
     "data": {
      "application/vnd.jupyter.widget-view+json": {
       "model_id": "58ed82529a184b658df34a0810635608",
       "version_major": 2,
       "version_minor": 0
      },
      "text/plain": [
       "Updating Embedding:   0%|          | 0/50 [00:00<?, ? docs/s]"
      ]
     },
     "metadata": {},
     "output_type": "display_data"
    },
    {
     "data": {
      "application/vnd.jupyter.widget-view+json": {
       "model_id": "81ecb5a4a38e481084e9841a76442398",
       "version_major": 2,
       "version_minor": 0
      },
      "text/plain": [
       "Batches:   0%|          | 0/2 [00:00<?, ?it/s]"
      ]
     },
     "metadata": {},
     "output_type": "display_data"
    },
    {
     "name": "stdout",
     "output_type": "stream",
     "text": [
      "Are neurexins localized at pre-synapses?\n",
      "Yes, neurexins are localized at pre-synapses and are involved in the formation and maintenance of synapses. They act as receptors for neurotransmitters and other molecules, and are essential for proper synaptic function.\n"
     ]
    },
    {
     "data": {
      "application/vnd.jupyter.widget-view+json": {
       "model_id": "1e6edbc6e9a349cf8c8f0e5cd1b04207",
       "version_major": 2,
       "version_minor": 0
      },
      "text/plain": [
       "Batches:   0%|          | 0/1 [00:00<?, ?it/s]"
      ]
     },
     "metadata": {},
     "output_type": "display_data"
    },
    {
     "name": "stderr",
     "output_type": "stream",
     "text": [
      "\r",
      " 45%|███████████████████████████████████████████████▋                                                          | 45/100 [03:34<04:22,  4.77s/it]"
     ]
    },
    {
     "name": "stdout",
     "output_type": "stream",
     "text": [
      "10\n"
     ]
    },
    {
     "data": {
      "application/vnd.jupyter.widget-view+json": {
       "model_id": "ab3b8db9664c45078eee689ee67df24d",
       "version_major": 2,
       "version_minor": 0
      },
      "text/plain": [
       "Writing Documents:   0%|          | 0/50 [00:00<?, ?it/s]"
      ]
     },
     "metadata": {},
     "output_type": "display_data"
    },
    {
     "data": {
      "application/vnd.jupyter.widget-view+json": {
       "model_id": "15c6163adb7f48b09e1abe7a96e57513",
       "version_major": 2,
       "version_minor": 0
      },
      "text/plain": [
       "Updating Embedding:   0%|          | 0/50 [00:00<?, ? docs/s]"
      ]
     },
     "metadata": {},
     "output_type": "display_data"
    },
    {
     "data": {
      "application/vnd.jupyter.widget-view+json": {
       "model_id": "3a3d35e5b4324947873ca341d1bb63a2",
       "version_major": 2,
       "version_minor": 0
      },
      "text/plain": [
       "Batches:   0%|          | 0/2 [00:00<?, ?it/s]"
      ]
     },
     "metadata": {},
     "output_type": "display_data"
    },
    {
     "name": "stdout",
     "output_type": "stream",
     "text": [
      "Which two cotransporters are inhibited by sotagliflozin?\n",
      "Sotagliflozin inhibits sodium-glucose cotransporter 1 (SGLT1) and sodium-glucose cotransporter 2 (SGLT2). These cotransporters are responsible\n"
     ]
    },
    {
     "data": {
      "application/vnd.jupyter.widget-view+json": {
       "model_id": "f82328a1a16948b0979da20d11d00a18",
       "version_major": 2,
       "version_minor": 0
      },
      "text/plain": [
       "Batches:   0%|          | 0/1 [00:00<?, ?it/s]"
      ]
     },
     "metadata": {},
     "output_type": "display_data"
    },
    {
     "name": "stderr",
     "output_type": "stream",
     "text": [
      "\r",
      " 46%|████████████████████████████████████████████████▊                                                         | 46/100 [03:39<04:24,  4.89s/it]"
     ]
    },
    {
     "name": "stdout",
     "output_type": "stream",
     "text": [
      "10\n"
     ]
    },
    {
     "data": {
      "application/vnd.jupyter.widget-view+json": {
       "model_id": "acd293de1d874cbaa017e0935df7a2f3",
       "version_major": 2,
       "version_minor": 0
      },
      "text/plain": [
       "Writing Documents:   0%|          | 0/50 [00:00<?, ?it/s]"
      ]
     },
     "metadata": {},
     "output_type": "display_data"
    },
    {
     "data": {
      "application/vnd.jupyter.widget-view+json": {
       "model_id": "78f43a57bf1349bea1e8527668a7ce1d",
       "version_major": 2,
       "version_minor": 0
      },
      "text/plain": [
       "Updating Embedding:   0%|          | 0/50 [00:00<?, ? docs/s]"
      ]
     },
     "metadata": {},
     "output_type": "display_data"
    },
    {
     "data": {
      "application/vnd.jupyter.widget-view+json": {
       "model_id": "e699d881df284e949a1483cb151156c2",
       "version_major": 2,
       "version_minor": 0
      },
      "text/plain": [
       "Batches:   0%|          | 0/2 [00:00<?, ?it/s]"
      ]
     },
     "metadata": {},
     "output_type": "display_data"
    },
    {
     "name": "stdout",
     "output_type": "stream",
     "text": [
      "Which are the main manifestations of Ohdo syndrome?\n",
      "Ohdo syndrome is a rare genetic disorder characterized by intellectual disability, seizures, and physical abnormalities such as short stature, low muscle tone, and facial dysmorphism.\n"
     ]
    },
    {
     "data": {
      "application/vnd.jupyter.widget-view+json": {
       "model_id": "3de134ada19a449090d3ee631f115782",
       "version_major": 2,
       "version_minor": 0
      },
      "text/plain": [
       "Batches:   0%|          | 0/1 [00:00<?, ?it/s]"
      ]
     },
     "metadata": {},
     "output_type": "display_data"
    },
    {
     "name": "stderr",
     "output_type": "stream",
     "text": [
      "\r",
      " 47%|█████████████████████████████████████████████████▊                                                        | 47/100 [03:43<04:12,  4.76s/it]"
     ]
    },
    {
     "name": "stdout",
     "output_type": "stream",
     "text": [
      "10\n"
     ]
    },
    {
     "data": {
      "application/vnd.jupyter.widget-view+json": {
       "model_id": "00f7692803ae400fa148f5c69b6b4480",
       "version_major": 2,
       "version_minor": 0
      },
      "text/plain": [
       "Writing Documents:   0%|          | 0/50 [00:00<?, ?it/s]"
      ]
     },
     "metadata": {},
     "output_type": "display_data"
    },
    {
     "data": {
      "application/vnd.jupyter.widget-view+json": {
       "model_id": "28f0e3ca98284a8492ef6516b1666e7b",
       "version_major": 2,
       "version_minor": 0
      },
      "text/plain": [
       "Updating Embedding:   0%|          | 0/50 [00:00<?, ? docs/s]"
      ]
     },
     "metadata": {},
     "output_type": "display_data"
    },
    {
     "data": {
      "application/vnd.jupyter.widget-view+json": {
       "model_id": "e26abe20e1f84fd5a7d14c0388a30c78",
       "version_major": 2,
       "version_minor": 0
      },
      "text/plain": [
       "Batches:   0%|          | 0/2 [00:00<?, ?it/s]"
      ]
     },
     "metadata": {},
     "output_type": "display_data"
    },
    {
     "name": "stdout",
     "output_type": "stream",
     "text": [
      "Describe GARLIC (GWAS-based Prediction Toolkit for Connecting Diseases and Cell Types)\n",
      "GARLIC is a toolkit that uses GWAS data to predict the connection between diseases and cell types. It helps to identify potential therapeutic targets and biomarkers for diseases.\n"
     ]
    },
    {
     "data": {
      "application/vnd.jupyter.widget-view+json": {
       "model_id": "6de257dd3e794367b1d10acc73bb0f91",
       "version_major": 2,
       "version_minor": 0
      },
      "text/plain": [
       "Batches:   0%|          | 0/1 [00:00<?, ?it/s]"
      ]
     },
     "metadata": {},
     "output_type": "display_data"
    },
    {
     "name": "stderr",
     "output_type": "stream",
     "text": [
      "\r",
      " 48%|██████████████████████████████████████████████████▉                                                       | 48/100 [03:48<04:11,  4.83s/it]"
     ]
    },
    {
     "name": "stdout",
     "output_type": "stream",
     "text": [
      "10\n"
     ]
    },
    {
     "data": {
      "application/vnd.jupyter.widget-view+json": {
       "model_id": "fa303398dc1a48d58658e5a71d42f216",
       "version_major": 2,
       "version_minor": 0
      },
      "text/plain": [
       "Writing Documents:   0%|          | 0/50 [00:00<?, ?it/s]"
      ]
     },
     "metadata": {},
     "output_type": "display_data"
    },
    {
     "data": {
      "application/vnd.jupyter.widget-view+json": {
       "model_id": "8c223e9c85f34307a7af52fa3a558725",
       "version_major": 2,
       "version_minor": 0
      },
      "text/plain": [
       "Updating Embedding:   0%|          | 0/50 [00:00<?, ? docs/s]"
      ]
     },
     "metadata": {},
     "output_type": "display_data"
    },
    {
     "data": {
      "application/vnd.jupyter.widget-view+json": {
       "model_id": "5216a312438046978918561e527ffd23",
       "version_major": 2,
       "version_minor": 0
      },
      "text/plain": [
       "Batches:   0%|          | 0/2 [00:00<?, ?it/s]"
      ]
     },
     "metadata": {},
     "output_type": "display_data"
    },
    {
     "name": "stdout",
     "output_type": "stream",
     "text": [
      "What does davunetide do to microtubules?\n",
      "Davunetide stabilizes microtubules, preventing them from breaking down and promoting their assembly. This helps to maintain the structure and function of cells.\n"
     ]
    },
    {
     "data": {
      "application/vnd.jupyter.widget-view+json": {
       "model_id": "96e5b4e6b4de4517be6d4177dfc2bbc5",
       "version_major": 2,
       "version_minor": 0
      },
      "text/plain": [
       "Batches:   0%|          | 0/1 [00:00<?, ?it/s]"
      ]
     },
     "metadata": {},
     "output_type": "display_data"
    },
    {
     "name": "stderr",
     "output_type": "stream",
     "text": [
      "\r",
      " 49%|███████████████████████████████████████████████████▉                                                      | 49/100 [03:52<03:52,  4.57s/it]"
     ]
    },
    {
     "name": "stdout",
     "output_type": "stream",
     "text": [
      "10\n"
     ]
    },
    {
     "data": {
      "application/vnd.jupyter.widget-view+json": {
       "model_id": "e77731ada6434f368762a4001907ba8f",
       "version_major": 2,
       "version_minor": 0
      },
      "text/plain": [
       "Writing Documents:   0%|          | 0/50 [00:00<?, ?it/s]"
      ]
     },
     "metadata": {},
     "output_type": "display_data"
    },
    {
     "data": {
      "application/vnd.jupyter.widget-view+json": {
       "model_id": "753a6194f81f4084af88b41ad9386f7d",
       "version_major": 2,
       "version_minor": 0
      },
      "text/plain": [
       "Updating Embedding:   0%|          | 0/50 [00:00<?, ? docs/s]"
      ]
     },
     "metadata": {},
     "output_type": "display_data"
    },
    {
     "data": {
      "application/vnd.jupyter.widget-view+json": {
       "model_id": "349ba99747074a4fae9ea065088fdcb3",
       "version_major": 2,
       "version_minor": 0
      },
      "text/plain": [
       "Batches:   0%|          | 0/2 [00:00<?, ?it/s]"
      ]
     },
     "metadata": {},
     "output_type": "display_data"
    },
    {
     "name": "stdout",
     "output_type": "stream",
     "text": [
      "Has Cas9 gene editing the potential to correct inhereted hearing loss?\n",
      "Yes, Cas9 gene editing has the potential to correct inherited hearing loss. It can be used to target and modify specific genes that are associated with hearing loss.\n"
     ]
    },
    {
     "data": {
      "application/vnd.jupyter.widget-view+json": {
       "model_id": "53bb74f010f747a18e2fbe1c9f81f257",
       "version_major": 2,
       "version_minor": 0
      },
      "text/plain": [
       "Batches:   0%|          | 0/1 [00:00<?, ?it/s]"
      ]
     },
     "metadata": {},
     "output_type": "display_data"
    },
    {
     "name": "stderr",
     "output_type": "stream",
     "text": [
      "\r",
      " 50%|█████████████████████████████████████████████████████                                                     | 50/100 [03:57<03:47,  4.55s/it]"
     ]
    },
    {
     "name": "stdout",
     "output_type": "stream",
     "text": [
      "10\n"
     ]
    },
    {
     "data": {
      "application/vnd.jupyter.widget-view+json": {
       "model_id": "c5b59cdfbd674c58b40e62720004aad4",
       "version_major": 2,
       "version_minor": 0
      },
      "text/plain": [
       "Writing Documents:   0%|          | 0/50 [00:00<?, ?it/s]"
      ]
     },
     "metadata": {},
     "output_type": "display_data"
    },
    {
     "data": {
      "application/vnd.jupyter.widget-view+json": {
       "model_id": "b3c2dc069508499cb4d010996e88097a",
       "version_major": 2,
       "version_minor": 0
      },
      "text/plain": [
       "Updating Embedding:   0%|          | 0/50 [00:00<?, ? docs/s]"
      ]
     },
     "metadata": {},
     "output_type": "display_data"
    },
    {
     "data": {
      "application/vnd.jupyter.widget-view+json": {
       "model_id": "889db473fa084ffcac24eee8d78ca29c",
       "version_major": 2,
       "version_minor": 0
      },
      "text/plain": [
       "Batches:   0%|          | 0/2 [00:00<?, ?it/s]"
      ]
     },
     "metadata": {},
     "output_type": "display_data"
    },
    {
     "name": "stdout",
     "output_type": "stream",
     "text": [
      "Describe mechanism of action of Napabucasin.\n",
      "Napabucasin is a cancer drug that works by blocking the signal pathways that promote tumor growth and spread. It works by inhibiting the activity of STAT3, a protein involved in cell growth and survival, thus preventing tumor growth and spread\n"
     ]
    },
    {
     "data": {
      "application/vnd.jupyter.widget-view+json": {
       "model_id": "8597ef166f044cb6acf16604fc59fef5",
       "version_major": 2,
       "version_minor": 0
      },
      "text/plain": [
       "Batches:   0%|          | 0/1 [00:00<?, ?it/s]"
      ]
     },
     "metadata": {},
     "output_type": "display_data"
    },
    {
     "name": "stderr",
     "output_type": "stream",
     "text": [
      "\r",
      " 51%|██████████████████████████████████████████████████████                                                    | 51/100 [04:02<03:46,  4.63s/it]"
     ]
    },
    {
     "name": "stdout",
     "output_type": "stream",
     "text": [
      "10\n"
     ]
    },
    {
     "data": {
      "application/vnd.jupyter.widget-view+json": {
       "model_id": "0ac6b64b32e34b2ba04781b4c8c28438",
       "version_major": 2,
       "version_minor": 0
      },
      "text/plain": [
       "Writing Documents:   0%|          | 0/50 [00:00<?, ?it/s]"
      ]
     },
     "metadata": {},
     "output_type": "display_data"
    },
    {
     "data": {
      "application/vnd.jupyter.widget-view+json": {
       "model_id": "f41aa79f34be40ddb49b51c6d8443cb9",
       "version_major": 2,
       "version_minor": 0
      },
      "text/plain": [
       "Updating Embedding:   0%|          | 0/50 [00:00<?, ? docs/s]"
      ]
     },
     "metadata": {},
     "output_type": "display_data"
    },
    {
     "data": {
      "application/vnd.jupyter.widget-view+json": {
       "model_id": "19ceeb05a77b4756aa0aa479792eda26",
       "version_major": 2,
       "version_minor": 0
      },
      "text/plain": [
       "Batches:   0%|          | 0/2 [00:00<?, ?it/s]"
      ]
     },
     "metadata": {},
     "output_type": "display_data"
    },
    {
     "name": "stdout",
     "output_type": "stream",
     "text": [
      "Which algorithm is used by the UCSC Genome Browser?\n",
      "The UCSC Genome Browser uses the BLAT (BLAST-Like Alignment Tool) algorithm to quickly search and align DNA and protein sequences. It is a fast and efficient algorithm for finding regions of similarity between biological sequences.\n"
     ]
    },
    {
     "data": {
      "application/vnd.jupyter.widget-view+json": {
       "model_id": "60d39a211e0c431c8b2742cb1be0eed4",
       "version_major": 2,
       "version_minor": 0
      },
      "text/plain": [
       "Batches:   0%|          | 0/1 [00:00<?, ?it/s]"
      ]
     },
     "metadata": {},
     "output_type": "display_data"
    },
    {
     "name": "stderr",
     "output_type": "stream",
     "text": [
      "\r",
      " 52%|███████████████████████████████████████████████████████                                                   | 52/100 [04:06<03:40,  4.59s/it]"
     ]
    },
    {
     "name": "stdout",
     "output_type": "stream",
     "text": [
      "10\n"
     ]
    },
    {
     "data": {
      "application/vnd.jupyter.widget-view+json": {
       "model_id": "f50bfa992071425b8c4285d2fe5e42c8",
       "version_major": 2,
       "version_minor": 0
      },
      "text/plain": [
       "Writing Documents:   0%|          | 0/50 [00:00<?, ?it/s]"
      ]
     },
     "metadata": {},
     "output_type": "display_data"
    },
    {
     "data": {
      "application/vnd.jupyter.widget-view+json": {
       "model_id": "ae6f4fbd26ee42f69445f449fdb51055",
       "version_major": 2,
       "version_minor": 0
      },
      "text/plain": [
       "Updating Embedding:   0%|          | 0/50 [00:00<?, ? docs/s]"
      ]
     },
     "metadata": {},
     "output_type": "display_data"
    },
    {
     "data": {
      "application/vnd.jupyter.widget-view+json": {
       "model_id": "5659ce5ead2f4f57bf2482684e9e85f2",
       "version_major": 2,
       "version_minor": 0
      },
      "text/plain": [
       "Batches:   0%|          | 0/2 [00:00<?, ?it/s]"
      ]
     },
     "metadata": {},
     "output_type": "display_data"
    },
    {
     "name": "stdout",
     "output_type": "stream",
     "text": [
      "Does DDX54 play a role in DNA damage response?\n",
      "Yes, DDX54 plays a role in DNA damage response by regulating the expression of genes involved in DNA repair and cell cycle control.\n"
     ]
    },
    {
     "data": {
      "application/vnd.jupyter.widget-view+json": {
       "model_id": "aee80190cca74c72a071ecf7bc117beb",
       "version_major": 2,
       "version_minor": 0
      },
      "text/plain": [
       "Batches:   0%|          | 0/1 [00:00<?, ?it/s]"
      ]
     },
     "metadata": {},
     "output_type": "display_data"
    },
    {
     "name": "stderr",
     "output_type": "stream",
     "text": [
      "\r",
      " 53%|████████████████████████████████████████████████████████▏                                                 | 53/100 [04:11<03:45,  4.80s/it]"
     ]
    },
    {
     "name": "stdout",
     "output_type": "stream",
     "text": [
      "10\n"
     ]
    },
    {
     "data": {
      "application/vnd.jupyter.widget-view+json": {
       "model_id": "2af66ab6dc774a0bb8f7df4e99b93d00",
       "version_major": 2,
       "version_minor": 0
      },
      "text/plain": [
       "Writing Documents:   0%|          | 0/50 [00:00<?, ?it/s]"
      ]
     },
     "metadata": {},
     "output_type": "display_data"
    },
    {
     "data": {
      "application/vnd.jupyter.widget-view+json": {
       "model_id": "75057938d1b34372ac6b9e76405fda3a",
       "version_major": 2,
       "version_minor": 0
      },
      "text/plain": [
       "Updating Embedding:   0%|          | 0/50 [00:00<?, ? docs/s]"
      ]
     },
     "metadata": {},
     "output_type": "display_data"
    },
    {
     "data": {
      "application/vnd.jupyter.widget-view+json": {
       "model_id": "733eb938098f4136a8b372a2e9165464",
       "version_major": 2,
       "version_minor": 0
      },
      "text/plain": [
       "Batches:   0%|          | 0/2 [00:00<?, ?it/s]"
      ]
     },
     "metadata": {},
     "output_type": "display_data"
    },
    {
     "name": "stdout",
     "output_type": "stream",
     "text": [
      "Is davunetide being considered for the treatment of progressive supranuclear palsy?\n",
      "Yes, davunetide is being considered for the treatment of progressive supranuclear palsy. Clinical trials are underway to assess its safety and efficacy.\n"
     ]
    },
    {
     "data": {
      "application/vnd.jupyter.widget-view+json": {
       "model_id": "d8e241837605463580139f23f38d59e1",
       "version_major": 2,
       "version_minor": 0
      },
      "text/plain": [
       "Batches:   0%|          | 0/1 [00:00<?, ?it/s]"
      ]
     },
     "metadata": {},
     "output_type": "display_data"
    },
    {
     "name": "stderr",
     "output_type": "stream",
     "text": [
      "\r",
      " 54%|█████████████████████████████████████████████████████████▏                                                | 54/100 [04:16<03:43,  4.86s/it]"
     ]
    },
    {
     "name": "stdout",
     "output_type": "stream",
     "text": [
      "10\n"
     ]
    },
    {
     "data": {
      "application/vnd.jupyter.widget-view+json": {
       "model_id": "8b11290d22244c99a148cfff2e294a59",
       "version_major": 2,
       "version_minor": 0
      },
      "text/plain": [
       "Writing Documents:   0%|          | 0/50 [00:00<?, ?it/s]"
      ]
     },
     "metadata": {},
     "output_type": "display_data"
    },
    {
     "data": {
      "application/vnd.jupyter.widget-view+json": {
       "model_id": "98dc9a8a58d24832941ed6ea6b7bb8de",
       "version_major": 2,
       "version_minor": 0
      },
      "text/plain": [
       "Updating Embedding:   0%|          | 0/50 [00:00<?, ? docs/s]"
      ]
     },
     "metadata": {},
     "output_type": "display_data"
    },
    {
     "data": {
      "application/vnd.jupyter.widget-view+json": {
       "model_id": "c271dc89b4e1481da64a69685fbe53f5",
       "version_major": 2,
       "version_minor": 0
      },
      "text/plain": [
       "Batches:   0%|          | 0/2 [00:00<?, ?it/s]"
      ]
     },
     "metadata": {},
     "output_type": "display_data"
    },
    {
     "name": "stdout",
     "output_type": "stream",
     "text": [
      "Which aminoacid position in the human CREB protein is phosphorylated?\n",
      "Serine 133 is the aminoacid position in the human CREB protein that is phosphorylated. This phosphorylation is important for CREB's transcriptional activity.\n"
     ]
    },
    {
     "data": {
      "application/vnd.jupyter.widget-view+json": {
       "model_id": "9a3da4ca75d34132b5a87b309c43abbf",
       "version_major": 2,
       "version_minor": 0
      },
      "text/plain": [
       "Batches:   0%|          | 0/1 [00:00<?, ?it/s]"
      ]
     },
     "metadata": {},
     "output_type": "display_data"
    },
    {
     "name": "stderr",
     "output_type": "stream",
     "text": [
      "\r",
      " 55%|██████████████████████████████████████████████████████████▎                                               | 55/100 [04:21<03:41,  4.93s/it]"
     ]
    },
    {
     "name": "stdout",
     "output_type": "stream",
     "text": [
      "10\n"
     ]
    },
    {
     "data": {
      "application/vnd.jupyter.widget-view+json": {
       "model_id": "16dee61b57054decac595f0cc75fbfe2",
       "version_major": 2,
       "version_minor": 0
      },
      "text/plain": [
       "Writing Documents:   0%|          | 0/50 [00:00<?, ?it/s]"
      ]
     },
     "metadata": {},
     "output_type": "display_data"
    },
    {
     "data": {
      "application/vnd.jupyter.widget-view+json": {
       "model_id": "d54e2f7001c44363801e7778ec2c350f",
       "version_major": 2,
       "version_minor": 0
      },
      "text/plain": [
       "Updating Embedding:   0%|          | 0/50 [00:00<?, ? docs/s]"
      ]
     },
     "metadata": {},
     "output_type": "display_data"
    },
    {
     "data": {
      "application/vnd.jupyter.widget-view+json": {
       "model_id": "444776e27c3b430fad7254a7a43f413a",
       "version_major": 2,
       "version_minor": 0
      },
      "text/plain": [
       "Batches:   0%|          | 0/2 [00:00<?, ?it/s]"
      ]
     },
     "metadata": {},
     "output_type": "display_data"
    },
    {
     "name": "stdout",
     "output_type": "stream",
     "text": [
      "Which drugs were tested in the KEYNOTE-006 study?\n",
      "The KEYNOTE-006 study tested the efficacy of pembrolizumab (Keytruda) in combination with chemotherapy for the treatment of advanced non-small cell lung cancer.\n"
     ]
    },
    {
     "data": {
      "application/vnd.jupyter.widget-view+json": {
       "model_id": "ddce204da5614208823d0a5a282369a5",
       "version_major": 2,
       "version_minor": 0
      },
      "text/plain": [
       "Batches:   0%|          | 0/1 [00:00<?, ?it/s]"
      ]
     },
     "metadata": {},
     "output_type": "display_data"
    },
    {
     "name": "stderr",
     "output_type": "stream",
     "text": [
      "\r",
      " 56%|███████████████████████████████████████████████████████████▎                                              | 56/100 [04:27<03:41,  5.04s/it]"
     ]
    },
    {
     "name": "stdout",
     "output_type": "stream",
     "text": [
      "10\n"
     ]
    },
    {
     "data": {
      "application/vnd.jupyter.widget-view+json": {
       "model_id": "9f9d51377a1142f28ee5479eb862faea",
       "version_major": 2,
       "version_minor": 0
      },
      "text/plain": [
       "Writing Documents:   0%|          | 0/50 [00:00<?, ?it/s]"
      ]
     },
     "metadata": {},
     "output_type": "display_data"
    },
    {
     "data": {
      "application/vnd.jupyter.widget-view+json": {
       "model_id": "fe52efbed63645bfb088398b21fa973d",
       "version_major": 2,
       "version_minor": 0
      },
      "text/plain": [
       "Updating Embedding:   0%|          | 0/50 [00:00<?, ? docs/s]"
      ]
     },
     "metadata": {},
     "output_type": "display_data"
    },
    {
     "data": {
      "application/vnd.jupyter.widget-view+json": {
       "model_id": "66dfadc602f943cfa1a3cdbb92085628",
       "version_major": 2,
       "version_minor": 0
      },
      "text/plain": [
       "Batches:   0%|          | 0/2 [00:00<?, ?it/s]"
      ]
     },
     "metadata": {},
     "output_type": "display_data"
    },
    {
     "name": "stdout",
     "output_type": "stream",
     "text": [
      "Which proteins are controlling sterol metabolism in S. cerevisiae?\n",
      "The proteins controlling sterol metabolism in S. cerevisiae are ScHMG1, ScERG3, ScERG5, ScERG6, and ScERG24. These proteins are involved in the synthesis, degradation, and transport of\n"
     ]
    },
    {
     "data": {
      "application/vnd.jupyter.widget-view+json": {
       "model_id": "c9723ae03b3840178cb048753b4a4329",
       "version_major": 2,
       "version_minor": 0
      },
      "text/plain": [
       "Batches:   0%|          | 0/1 [00:00<?, ?it/s]"
      ]
     },
     "metadata": {},
     "output_type": "display_data"
    },
    {
     "name": "stderr",
     "output_type": "stream",
     "text": [
      "\r",
      " 57%|████████████████████████████████████████████████████████████▍                                             | 57/100 [04:32<03:37,  5.06s/it]"
     ]
    },
    {
     "name": "stdout",
     "output_type": "stream",
     "text": [
      "10\n"
     ]
    },
    {
     "data": {
      "application/vnd.jupyter.widget-view+json": {
       "model_id": "7e30595bd438403a915696a31ff0a735",
       "version_major": 2,
       "version_minor": 0
      },
      "text/plain": [
       "Writing Documents:   0%|          | 0/50 [00:00<?, ?it/s]"
      ]
     },
     "metadata": {},
     "output_type": "display_data"
    },
    {
     "data": {
      "application/vnd.jupyter.widget-view+json": {
       "model_id": "4c3a0b8c16d04dfe82d6800965a61ef6",
       "version_major": 2,
       "version_minor": 0
      },
      "text/plain": [
       "Updating Embedding:   0%|          | 0/50 [00:00<?, ? docs/s]"
      ]
     },
     "metadata": {},
     "output_type": "display_data"
    },
    {
     "data": {
      "application/vnd.jupyter.widget-view+json": {
       "model_id": "f1a7db5120b74b729d386f2c01562da1",
       "version_major": 2,
       "version_minor": 0
      },
      "text/plain": [
       "Batches:   0%|          | 0/2 [00:00<?, ?it/s]"
      ]
     },
     "metadata": {},
     "output_type": "display_data"
    },
    {
     "name": "stdout",
     "output_type": "stream",
     "text": [
      "Is Drk essential for anesthesia-resistant memory (ARM) in Drosophila?\n",
      "No, Drk is not essential for ARM in Drosophila. Studies have shown that ARM can be induced in Drk mutants, indicating that Drk is not necessary for ARM formation.\n"
     ]
    },
    {
     "data": {
      "application/vnd.jupyter.widget-view+json": {
       "model_id": "6061d692b3d24446aab08b6f431fd7f7",
       "version_major": 2,
       "version_minor": 0
      },
      "text/plain": [
       "Batches:   0%|          | 0/1 [00:00<?, ?it/s]"
      ]
     },
     "metadata": {},
     "output_type": "display_data"
    },
    {
     "name": "stderr",
     "output_type": "stream",
     "text": [
      "\r",
      " 58%|█████████████████████████████████████████████████████████████▍                                            | 58/100 [04:37<03:28,  4.95s/it]"
     ]
    },
    {
     "name": "stdout",
     "output_type": "stream",
     "text": [
      "10\n"
     ]
    },
    {
     "data": {
      "application/vnd.jupyter.widget-view+json": {
       "model_id": "7de6aa80c0c44bd8bf3b447729becdab",
       "version_major": 2,
       "version_minor": 0
      },
      "text/plain": [
       "Writing Documents:   0%|          | 0/50 [00:00<?, ?it/s]"
      ]
     },
     "metadata": {},
     "output_type": "display_data"
    },
    {
     "data": {
      "application/vnd.jupyter.widget-view+json": {
       "model_id": "d778ce15c0bf4ab1b7182e14131c90c4",
       "version_major": 2,
       "version_minor": 0
      },
      "text/plain": [
       "Updating Embedding:   0%|          | 0/50 [00:00<?, ? docs/s]"
      ]
     },
     "metadata": {},
     "output_type": "display_data"
    },
    {
     "data": {
      "application/vnd.jupyter.widget-view+json": {
       "model_id": "4c20a69414f043ecb9d532a031b1e4e8",
       "version_major": 2,
       "version_minor": 0
      },
      "text/plain": [
       "Batches:   0%|          | 0/2 [00:00<?, ?it/s]"
      ]
     },
     "metadata": {},
     "output_type": "display_data"
    },
    {
     "name": "stdout",
     "output_type": "stream",
     "text": [
      "Is ACI-35 a passive vaccine?\n",
      "No, ACI-35 is not a passive vaccine. It is an active vaccine, which uses a weakened form of the virus to stimulate the body's immune system to create antibodies.\n"
     ]
    },
    {
     "data": {
      "application/vnd.jupyter.widget-view+json": {
       "model_id": "d8f300f17f034b20820e46df623b1ae0",
       "version_major": 2,
       "version_minor": 0
      },
      "text/plain": [
       "Batches:   0%|          | 0/1 [00:00<?, ?it/s]"
      ]
     },
     "metadata": {},
     "output_type": "display_data"
    },
    {
     "name": "stderr",
     "output_type": "stream",
     "text": [
      "\r",
      " 59%|██████████████████████████████████████████████████████████████▌                                           | 59/100 [04:41<03:23,  4.95s/it]"
     ]
    },
    {
     "name": "stdout",
     "output_type": "stream",
     "text": [
      "10\n"
     ]
    },
    {
     "data": {
      "application/vnd.jupyter.widget-view+json": {
       "model_id": "52132dbe9bcd48dbb3e06afc1f6db426",
       "version_major": 2,
       "version_minor": 0
      },
      "text/plain": [
       "Writing Documents:   0%|          | 0/50 [00:00<?, ?it/s]"
      ]
     },
     "metadata": {},
     "output_type": "display_data"
    },
    {
     "data": {
      "application/vnd.jupyter.widget-view+json": {
       "model_id": "1de0e736c7c440e6a721e0210c0ce6cc",
       "version_major": 2,
       "version_minor": 0
      },
      "text/plain": [
       "Updating Embedding:   0%|          | 0/50 [00:00<?, ? docs/s]"
      ]
     },
     "metadata": {},
     "output_type": "display_data"
    },
    {
     "data": {
      "application/vnd.jupyter.widget-view+json": {
       "model_id": "49d42ff0f50444158c204ef1343b8f2c",
       "version_major": 2,
       "version_minor": 0
      },
      "text/plain": [
       "Batches:   0%|          | 0/2 [00:00<?, ?it/s]"
      ]
     },
     "metadata": {},
     "output_type": "display_data"
    },
    {
     "name": "stdout",
     "output_type": "stream",
     "text": [
      "Which are the effects of ALDH2 deficiency?\n",
      "ALDH2 deficiency can cause facial flushing, nausea, headaches, and increased risk of esophageal cancer, stroke, and heart disease.\n"
     ]
    },
    {
     "data": {
      "application/vnd.jupyter.widget-view+json": {
       "model_id": "62a213d64c144916b96908ff7d6887d5",
       "version_major": 2,
       "version_minor": 0
      },
      "text/plain": [
       "Batches:   0%|          | 0/1 [00:00<?, ?it/s]"
      ]
     },
     "metadata": {},
     "output_type": "display_data"
    },
    {
     "name": "stderr",
     "output_type": "stream",
     "text": [
      "\r",
      " 60%|███████████████████████████████████████████████████████████████▌                                          | 60/100 [04:46<03:18,  4.97s/it]"
     ]
    },
    {
     "name": "stdout",
     "output_type": "stream",
     "text": [
      "10\n"
     ]
    },
    {
     "data": {
      "application/vnd.jupyter.widget-view+json": {
       "model_id": "f812bca0a78a4c44811d5006ee042832",
       "version_major": 2,
       "version_minor": 0
      },
      "text/plain": [
       "Writing Documents:   0%|          | 0/50 [00:00<?, ?it/s]"
      ]
     },
     "metadata": {},
     "output_type": "display_data"
    },
    {
     "data": {
      "application/vnd.jupyter.widget-view+json": {
       "model_id": "99e17b3d0f08444795582b48ac951788",
       "version_major": 2,
       "version_minor": 0
      },
      "text/plain": [
       "Updating Embedding:   0%|          | 0/50 [00:00<?, ? docs/s]"
      ]
     },
     "metadata": {},
     "output_type": "display_data"
    },
    {
     "data": {
      "application/vnd.jupyter.widget-view+json": {
       "model_id": "4392a6d1e6054857bea07a64fea22b97",
       "version_major": 2,
       "version_minor": 0
      },
      "text/plain": [
       "Batches:   0%|          | 0/2 [00:00<?, ?it/s]"
      ]
     },
     "metadata": {},
     "output_type": "display_data"
    },
    {
     "name": "stdout",
     "output_type": "stream",
     "text": [
      "What is mechanism of action of galunisertib?\n",
      "Galunisertib is a small molecule inhibitor of the TGF-β receptor type I, which blocks the activation of downstream signaling pathways involved in tumor growth and progression.\n"
     ]
    },
    {
     "data": {
      "application/vnd.jupyter.widget-view+json": {
       "model_id": "6f5d61e3c50f49be867364304b4b4abd",
       "version_major": 2,
       "version_minor": 0
      },
      "text/plain": [
       "Batches:   0%|          | 0/1 [00:00<?, ?it/s]"
      ]
     },
     "metadata": {},
     "output_type": "display_data"
    },
    {
     "name": "stderr",
     "output_type": "stream",
     "text": [
      "\r",
      " 61%|████████████████████████████████████████████████████████████████▋                                         | 61/100 [04:52<03:17,  5.06s/it]"
     ]
    },
    {
     "name": "stdout",
     "output_type": "stream",
     "text": [
      "10\n"
     ]
    },
    {
     "data": {
      "application/vnd.jupyter.widget-view+json": {
       "model_id": "ae6276a67c7b485cba2e8a91bfd617aa",
       "version_major": 2,
       "version_minor": 0
      },
      "text/plain": [
       "Writing Documents:   0%|          | 0/50 [00:00<?, ?it/s]"
      ]
     },
     "metadata": {},
     "output_type": "display_data"
    },
    {
     "data": {
      "application/vnd.jupyter.widget-view+json": {
       "model_id": "ca72300669bc4c1aa96d70bfa624aaf0",
       "version_major": 2,
       "version_minor": 0
      },
      "text/plain": [
       "Updating Embedding:   0%|          | 0/50 [00:00<?, ? docs/s]"
      ]
     },
     "metadata": {},
     "output_type": "display_data"
    },
    {
     "data": {
      "application/vnd.jupyter.widget-view+json": {
       "model_id": "a2303b3785a34d2686d449d6257711c0",
       "version_major": 2,
       "version_minor": 0
      },
      "text/plain": [
       "Batches:   0%|          | 0/2 [00:00<?, ?it/s]"
      ]
     },
     "metadata": {},
     "output_type": "display_data"
    },
    {
     "name": "stdout",
     "output_type": "stream",
     "text": [
      "Which gene is the paralog of yeast UPC2?\n",
      "The paralog of yeast UPC2 is UPC1. UPC1 and UPC2 are two closely related genes that encode ubiquitin carboxyl-terminal hydrolases, which are involved in the degradation of ubiqu\n"
     ]
    },
    {
     "data": {
      "application/vnd.jupyter.widget-view+json": {
       "model_id": "de3879cf88354339b3d8c1588c208599",
       "version_major": 2,
       "version_minor": 0
      },
      "text/plain": [
       "Batches:   0%|          | 0/1 [00:00<?, ?it/s]"
      ]
     },
     "metadata": {},
     "output_type": "display_data"
    },
    {
     "name": "stderr",
     "output_type": "stream",
     "text": [
      "\r",
      " 62%|█████████████████████████████████████████████████████████████████▋                                        | 62/100 [04:57<03:11,  5.05s/it]"
     ]
    },
    {
     "name": "stdout",
     "output_type": "stream",
     "text": [
      "10\n"
     ]
    },
    {
     "data": {
      "application/vnd.jupyter.widget-view+json": {
       "model_id": "d0fd639de12f400e88e3aec75d60d0b4",
       "version_major": 2,
       "version_minor": 0
      },
      "text/plain": [
       "Writing Documents:   0%|          | 0/50 [00:00<?, ?it/s]"
      ]
     },
     "metadata": {},
     "output_type": "display_data"
    },
    {
     "data": {
      "application/vnd.jupyter.widget-view+json": {
       "model_id": "b2e10ee539d84dc199bd75e9372a4f0c",
       "version_major": 2,
       "version_minor": 0
      },
      "text/plain": [
       "Updating Embedding:   0%|          | 0/50 [00:00<?, ? docs/s]"
      ]
     },
     "metadata": {},
     "output_type": "display_data"
    },
    {
     "data": {
      "application/vnd.jupyter.widget-view+json": {
       "model_id": "3e2fc1e1f2574549ad39778c6e02897a",
       "version_major": 2,
       "version_minor": 0
      },
      "text/plain": [
       "Batches:   0%|          | 0/2 [00:00<?, ?it/s]"
      ]
     },
     "metadata": {},
     "output_type": "display_data"
    },
    {
     "name": "stdout",
     "output_type": "stream",
     "text": [
      "What is the FIRE (Functional Inference of Regulators of Expression) tool?\n",
      "FIRE is a tool used to infer regulatory relationships between transcription factors and genes based on gene expression data. It uses a Bayesian network to identify potential regulatory relationships.\n"
     ]
    },
    {
     "data": {
      "application/vnd.jupyter.widget-view+json": {
       "model_id": "1d70d082a1da4a51a2c49746db1080e0",
       "version_major": 2,
       "version_minor": 0
      },
      "text/plain": [
       "Batches:   0%|          | 0/1 [00:00<?, ?it/s]"
      ]
     },
     "metadata": {},
     "output_type": "display_data"
    },
    {
     "name": "stderr",
     "output_type": "stream",
     "text": [
      "\r",
      " 63%|██████████████████████████████████████████████████████████████████▊                                       | 63/100 [05:02<03:08,  5.08s/it]"
     ]
    },
    {
     "name": "stdout",
     "output_type": "stream",
     "text": [
      "10\n"
     ]
    },
    {
     "data": {
      "application/vnd.jupyter.widget-view+json": {
       "model_id": "8ea9aa22fb36447794c7a03e249fce50",
       "version_major": 2,
       "version_minor": 0
      },
      "text/plain": [
       "Writing Documents:   0%|          | 0/50 [00:00<?, ?it/s]"
      ]
     },
     "metadata": {},
     "output_type": "display_data"
    },
    {
     "data": {
      "application/vnd.jupyter.widget-view+json": {
       "model_id": "10ffa155c07044e9be8858f64bbb2138",
       "version_major": 2,
       "version_minor": 0
      },
      "text/plain": [
       "Updating Embedding:   0%|          | 0/50 [00:00<?, ? docs/s]"
      ]
     },
     "metadata": {},
     "output_type": "display_data"
    },
    {
     "data": {
      "application/vnd.jupyter.widget-view+json": {
       "model_id": "a43c65133a804a7d899efceae00b79a2",
       "version_major": 2,
       "version_minor": 0
      },
      "text/plain": [
       "Batches:   0%|          | 0/2 [00:00<?, ?it/s]"
      ]
     },
     "metadata": {},
     "output_type": "display_data"
    },
    {
     "name": "stdout",
     "output_type": "stream",
     "text": [
      "What is the administration route of IVIG in Alzheimer's disease patients?\n",
      "IVIG is typically administered intravenously, usually over a period of several hours. It is used to treat Alzheimer's disease by reducing inflammation and improving cognitive function.\n"
     ]
    },
    {
     "data": {
      "application/vnd.jupyter.widget-view+json": {
       "model_id": "651c8397c15e42b79daefaf34ccf9240",
       "version_major": 2,
       "version_minor": 0
      },
      "text/plain": [
       "Batches:   0%|          | 0/1 [00:00<?, ?it/s]"
      ]
     },
     "metadata": {},
     "output_type": "display_data"
    },
    {
     "name": "stderr",
     "output_type": "stream",
     "text": [
      "\r",
      " 64%|███████████████████████████████████████████████████████████████████▊                                      | 64/100 [05:07<03:06,  5.18s/it]"
     ]
    },
    {
     "name": "stdout",
     "output_type": "stream",
     "text": [
      "10\n"
     ]
    },
    {
     "data": {
      "application/vnd.jupyter.widget-view+json": {
       "model_id": "63664344854f4fa0b2e6893d2f1275a2",
       "version_major": 2,
       "version_minor": 0
      },
      "text/plain": [
       "Writing Documents:   0%|          | 0/50 [00:00<?, ?it/s]"
      ]
     },
     "metadata": {},
     "output_type": "display_data"
    },
    {
     "data": {
      "application/vnd.jupyter.widget-view+json": {
       "model_id": "a5d801765d844bd985c158007db2058c",
       "version_major": 2,
       "version_minor": 0
      },
      "text/plain": [
       "Updating Embedding:   0%|          | 0/50 [00:00<?, ? docs/s]"
      ]
     },
     "metadata": {},
     "output_type": "display_data"
    },
    {
     "data": {
      "application/vnd.jupyter.widget-view+json": {
       "model_id": "5c814cb10ac146f39b5af68289c870d6",
       "version_major": 2,
       "version_minor": 0
      },
      "text/plain": [
       "Batches:   0%|          | 0/2 [00:00<?, ?it/s]"
      ]
     },
     "metadata": {},
     "output_type": "display_data"
    },
    {
     "name": "stdout",
     "output_type": "stream",
     "text": [
      "Where is the enzyme PM20D1 localized?\n",
      "PM20D1 is a mitochondrial enzyme localized in the inner membrane of the mitochondria. It is involved in the metabolism of fatty acids and is essential for normal mitochondrial function.\n"
     ]
    },
    {
     "data": {
      "application/vnd.jupyter.widget-view+json": {
       "model_id": "27b5d41c38354bbf8528b41cf97be290",
       "version_major": 2,
       "version_minor": 0
      },
      "text/plain": [
       "Batches:   0%|          | 0/1 [00:00<?, ?it/s]"
      ]
     },
     "metadata": {},
     "output_type": "display_data"
    },
    {
     "name": "stderr",
     "output_type": "stream",
     "text": [
      "\r",
      " 65%|████████████████████████████████████████████████████████████████████▉                                     | 65/100 [05:12<02:54,  4.97s/it]"
     ]
    },
    {
     "name": "stdout",
     "output_type": "stream",
     "text": [
      "10\n"
     ]
    },
    {
     "data": {
      "application/vnd.jupyter.widget-view+json": {
       "model_id": "1826ebcb5c3a4343be43fa9643538032",
       "version_major": 2,
       "version_minor": 0
      },
      "text/plain": [
       "Writing Documents:   0%|          | 0/50 [00:00<?, ?it/s]"
      ]
     },
     "metadata": {},
     "output_type": "display_data"
    },
    {
     "data": {
      "application/vnd.jupyter.widget-view+json": {
       "model_id": "d3aa29b415ac4c66b13bed547974df85",
       "version_major": 2,
       "version_minor": 0
      },
      "text/plain": [
       "Updating Embedding:   0%|          | 0/50 [00:00<?, ? docs/s]"
      ]
     },
     "metadata": {},
     "output_type": "display_data"
    },
    {
     "data": {
      "application/vnd.jupyter.widget-view+json": {
       "model_id": "c2e145bae4a340dcb39b505b1ac1613c",
       "version_major": 2,
       "version_minor": 0
      },
      "text/plain": [
       "Batches:   0%|          | 0/2 [00:00<?, ?it/s]"
      ]
     },
     "metadata": {},
     "output_type": "display_data"
    },
    {
     "name": "stdout",
     "output_type": "stream",
     "text": [
      "Is dasatinib effective for treatment of glioblastoma?\n",
      "Yes, dasatinib has been found to be effective in treating glioblastoma, with some studies showing improved survival rates and decreased tumor growth.\n"
     ]
    },
    {
     "data": {
      "application/vnd.jupyter.widget-view+json": {
       "model_id": "3ce892f5078e49e8877d139fcfcaa3b9",
       "version_major": 2,
       "version_minor": 0
      },
      "text/plain": [
       "Batches:   0%|          | 0/1 [00:00<?, ?it/s]"
      ]
     },
     "metadata": {},
     "output_type": "display_data"
    },
    {
     "name": "stderr",
     "output_type": "stream",
     "text": [
      "\r",
      " 66%|█████████████████████████████████████████████████████████████████████▉                                    | 66/100 [05:17<02:48,  4.94s/it]"
     ]
    },
    {
     "name": "stdout",
     "output_type": "stream",
     "text": [
      "10\n"
     ]
    },
    {
     "data": {
      "application/vnd.jupyter.widget-view+json": {
       "model_id": "2ae057ddcb6145f7ad3cd826197a1d3f",
       "version_major": 2,
       "version_minor": 0
      },
      "text/plain": [
       "Writing Documents:   0%|          | 0/50 [00:00<?, ?it/s]"
      ]
     },
     "metadata": {},
     "output_type": "display_data"
    },
    {
     "data": {
      "application/vnd.jupyter.widget-view+json": {
       "model_id": "780a4b39393f4387a78569447a0a1f5f",
       "version_major": 2,
       "version_minor": 0
      },
      "text/plain": [
       "Updating Embedding:   0%|          | 0/50 [00:00<?, ? docs/s]"
      ]
     },
     "metadata": {},
     "output_type": "display_data"
    },
    {
     "data": {
      "application/vnd.jupyter.widget-view+json": {
       "model_id": "82ba1c29d1744fb0bf58dc319f5bebe5",
       "version_major": 2,
       "version_minor": 0
      },
      "text/plain": [
       "Batches:   0%|          | 0/2 [00:00<?, ?it/s]"
      ]
     },
     "metadata": {},
     "output_type": "display_data"
    },
    {
     "name": "stdout",
     "output_type": "stream",
     "text": [
      "What is the role of the positive effector of transcription (pet) in the hepatitis B virus?\n",
      "The positive effector of transcription (PET) is a protein that binds to the viral genome and activates the transcription of the viral genes, allowing the virus to replicate and spread.\n"
     ]
    },
    {
     "data": {
      "application/vnd.jupyter.widget-view+json": {
       "model_id": "fe37109495274bf192b7feae6437e342",
       "version_major": 2,
       "version_minor": 0
      },
      "text/plain": [
       "Batches:   0%|          | 0/1 [00:00<?, ?it/s]"
      ]
     },
     "metadata": {},
     "output_type": "display_data"
    },
    {
     "name": "stderr",
     "output_type": "stream",
     "text": [
      "\r",
      " 67%|███████████████████████████████████████████████████████████████████████                                   | 67/100 [05:22<02:42,  4.91s/it]"
     ]
    },
    {
     "name": "stdout",
     "output_type": "stream",
     "text": [
      "10\n"
     ]
    },
    {
     "data": {
      "application/vnd.jupyter.widget-view+json": {
       "model_id": "4a891f5d715a4e1bb608f0948e886cfb",
       "version_major": 2,
       "version_minor": 0
      },
      "text/plain": [
       "Writing Documents:   0%|          | 0/50 [00:00<?, ?it/s]"
      ]
     },
     "metadata": {},
     "output_type": "display_data"
    },
    {
     "data": {
      "application/vnd.jupyter.widget-view+json": {
       "model_id": "3f126fbbb98442f78f77ebfe752ec889",
       "version_major": 2,
       "version_minor": 0
      },
      "text/plain": [
       "Updating Embedding:   0%|          | 0/50 [00:00<?, ? docs/s]"
      ]
     },
     "metadata": {},
     "output_type": "display_data"
    },
    {
     "data": {
      "application/vnd.jupyter.widget-view+json": {
       "model_id": "071364fa2e4d43acbaf285c28fe57361",
       "version_major": 2,
       "version_minor": 0
      },
      "text/plain": [
       "Batches:   0%|          | 0/2 [00:00<?, ?it/s]"
      ]
     },
     "metadata": {},
     "output_type": "display_data"
    },
    {
     "name": "stdout",
     "output_type": "stream",
     "text": [
      "Is there increased recombination rate in human regulatory domains?\n",
      "Yes, increased recombination rate has been observed in human regulatory domains. This is due to the presence of multiple recombination hotspots, which are regions of the genome that are prone to recombination.\n"
     ]
    },
    {
     "data": {
      "application/vnd.jupyter.widget-view+json": {
       "model_id": "394e329d676946ac820e1a85436a6011",
       "version_major": 2,
       "version_minor": 0
      },
      "text/plain": [
       "Batches:   0%|          | 0/1 [00:00<?, ?it/s]"
      ]
     },
     "metadata": {},
     "output_type": "display_data"
    },
    {
     "name": "stderr",
     "output_type": "stream",
     "text": [
      "\r",
      " 68%|████████████████████████████████████████████████████████████████████████                                  | 68/100 [05:27<02:42,  5.07s/it]"
     ]
    },
    {
     "name": "stdout",
     "output_type": "stream",
     "text": [
      "10\n"
     ]
    },
    {
     "data": {
      "application/vnd.jupyter.widget-view+json": {
       "model_id": "a1192f7f542246e580edb51ed1f5491e",
       "version_major": 2,
       "version_minor": 0
      },
      "text/plain": [
       "Writing Documents:   0%|          | 0/50 [00:00<?, ?it/s]"
      ]
     },
     "metadata": {},
     "output_type": "display_data"
    },
    {
     "data": {
      "application/vnd.jupyter.widget-view+json": {
       "model_id": "b7816e8072804d0b9222d66629464d8c",
       "version_major": 2,
       "version_minor": 0
      },
      "text/plain": [
       "Updating Embedding:   0%|          | 0/50 [00:00<?, ? docs/s]"
      ]
     },
     "metadata": {},
     "output_type": "display_data"
    },
    {
     "data": {
      "application/vnd.jupyter.widget-view+json": {
       "model_id": "c1eb2bb1a3ef4d24b419293de21f4814",
       "version_major": 2,
       "version_minor": 0
      },
      "text/plain": [
       "Batches:   0%|          | 0/2 [00:00<?, ?it/s]"
      ]
     },
     "metadata": {},
     "output_type": "display_data"
    },
    {
     "name": "stdout",
     "output_type": "stream",
     "text": [
      "Has IVIG been tested in clinical trials for the treatment of Alzheimer's disease?\n",
      "Yes, IVIG has been tested in clinical trials for the treatment of Alzheimer's disease. Results have been inconclusive, with some studies showing potential benefits and others showing no effect.\n"
     ]
    },
    {
     "data": {
      "application/vnd.jupyter.widget-view+json": {
       "model_id": "064918ff38aa4a0c98f266c120e07a28",
       "version_major": 2,
       "version_minor": 0
      },
      "text/plain": [
       "Batches:   0%|          | 0/1 [00:00<?, ?it/s]"
      ]
     },
     "metadata": {},
     "output_type": "display_data"
    },
    {
     "name": "stderr",
     "output_type": "stream",
     "text": [
      "\r",
      " 69%|█████████████████████████████████████████████████████████████████████████▏                                | 69/100 [05:33<02:41,  5.22s/it]"
     ]
    },
    {
     "name": "stdout",
     "output_type": "stream",
     "text": [
      "10\n"
     ]
    },
    {
     "data": {
      "application/vnd.jupyter.widget-view+json": {
       "model_id": "a3b3381ead1444489baeb4be3e223a90",
       "version_major": 2,
       "version_minor": 0
      },
      "text/plain": [
       "Writing Documents:   0%|          | 0/50 [00:00<?, ?it/s]"
      ]
     },
     "metadata": {},
     "output_type": "display_data"
    },
    {
     "data": {
      "application/vnd.jupyter.widget-view+json": {
       "model_id": "82e68ef915ac4cdc96a9c9103ad33955",
       "version_major": 2,
       "version_minor": 0
      },
      "text/plain": [
       "Updating Embedding:   0%|          | 0/50 [00:00<?, ? docs/s]"
      ]
     },
     "metadata": {},
     "output_type": "display_data"
    },
    {
     "data": {
      "application/vnd.jupyter.widget-view+json": {
       "model_id": "0dffb5c2e6c6488d810a6bfee61d9b42",
       "version_major": 2,
       "version_minor": 0
      },
      "text/plain": [
       "Batches:   0%|          | 0/2 [00:00<?, ?it/s]"
      ]
     },
     "metadata": {},
     "output_type": "display_data"
    },
    {
     "name": "stdout",
     "output_type": "stream",
     "text": [
      "Is NEMO a zinc finger protein?\n",
      "No, NEMO is not a zinc finger protein. NEMO stands for NF-κB Essential Modulator and is a protein that is involved in the activation of the NF-κB transcription factor.\n"
     ]
    },
    {
     "data": {
      "application/vnd.jupyter.widget-view+json": {
       "model_id": "be466bd3fa2a4455940892dec1ff9cc6",
       "version_major": 2,
       "version_minor": 0
      },
      "text/plain": [
       "Batches:   0%|          | 0/1 [00:00<?, ?it/s]"
      ]
     },
     "metadata": {},
     "output_type": "display_data"
    },
    {
     "name": "stderr",
     "output_type": "stream",
     "text": [
      "\r",
      " 70%|██████████████████████████████████████████████████████████████████████████▏                               | 70/100 [05:37<02:32,  5.09s/it]"
     ]
    },
    {
     "name": "stdout",
     "output_type": "stream",
     "text": [
      "10\n"
     ]
    },
    {
     "data": {
      "application/vnd.jupyter.widget-view+json": {
       "model_id": "bdf6155662ec4c02817d47e851c7a658",
       "version_major": 2,
       "version_minor": 0
      },
      "text/plain": [
       "Writing Documents:   0%|          | 0/50 [00:00<?, ?it/s]"
      ]
     },
     "metadata": {},
     "output_type": "display_data"
    },
    {
     "data": {
      "application/vnd.jupyter.widget-view+json": {
       "model_id": "f2ff1aec452f4556ab130ba17d074463",
       "version_major": 2,
       "version_minor": 0
      },
      "text/plain": [
       "Updating Embedding:   0%|          | 0/50 [00:00<?, ? docs/s]"
      ]
     },
     "metadata": {},
     "output_type": "display_data"
    },
    {
     "data": {
      "application/vnd.jupyter.widget-view+json": {
       "model_id": "ac78c7abc6614e4ebce45cc418374b0b",
       "version_major": 2,
       "version_minor": 0
      },
      "text/plain": [
       "Batches:   0%|          | 0/2 [00:00<?, ?it/s]"
      ]
     },
     "metadata": {},
     "output_type": "display_data"
    },
    {
     "name": "stdout",
     "output_type": "stream",
     "text": [
      "Is enzastaurin effective treatment of glioblastoma?\n",
      "Enzastaurin has not been proven to be an effective treatment for glioblastoma. Clinical trials have not shown any significant improvement in survival or quality of life for patients with glioblastoma.\n"
     ]
    },
    {
     "data": {
      "application/vnd.jupyter.widget-view+json": {
       "model_id": "367248f8eb464b1d8811f37318efae85",
       "version_major": 2,
       "version_minor": 0
      },
      "text/plain": [
       "Batches:   0%|          | 0/1 [00:00<?, ?it/s]"
      ]
     },
     "metadata": {},
     "output_type": "display_data"
    },
    {
     "name": "stderr",
     "output_type": "stream",
     "text": [
      "\r",
      " 71%|███████████████████████████████████████████████████████████████████████████▎                              | 71/100 [05:43<02:29,  5.17s/it]"
     ]
    },
    {
     "name": "stdout",
     "output_type": "stream",
     "text": [
      "10\n"
     ]
    },
    {
     "data": {
      "application/vnd.jupyter.widget-view+json": {
       "model_id": "a6c9006c17b14634af26132d4be2e36f",
       "version_major": 2,
       "version_minor": 0
      },
      "text/plain": [
       "Writing Documents:   0%|          | 0/50 [00:00<?, ?it/s]"
      ]
     },
     "metadata": {},
     "output_type": "display_data"
    },
    {
     "data": {
      "application/vnd.jupyter.widget-view+json": {
       "model_id": "33350f666dcd43d78cec5f2a697456ae",
       "version_major": 2,
       "version_minor": 0
      },
      "text/plain": [
       "Updating Embedding:   0%|          | 0/50 [00:00<?, ? docs/s]"
      ]
     },
     "metadata": {},
     "output_type": "display_data"
    },
    {
     "data": {
      "application/vnd.jupyter.widget-view+json": {
       "model_id": "41b6923ccf3148fcbedb8313a547a83c",
       "version_major": 2,
       "version_minor": 0
      },
      "text/plain": [
       "Batches:   0%|          | 0/2 [00:00<?, ?it/s]"
      ]
     },
     "metadata": {},
     "output_type": "display_data"
    },
    {
     "name": "stdout",
     "output_type": "stream",
     "text": [
      "Which enzymes are responsible for base J creation in Trypanosoma brucei?\n",
      "The enzymes responsible for base J creation in Trypanosoma brucei are the DNA methyltransferases DNMT1 and DNMT2. These enzymes catalyze the transfer of a methyl group to the base J, resulting in its formation\n"
     ]
    },
    {
     "data": {
      "application/vnd.jupyter.widget-view+json": {
       "model_id": "4adfcbc01c4249939bed716846c9116b",
       "version_major": 2,
       "version_minor": 0
      },
      "text/plain": [
       "Batches:   0%|          | 0/1 [00:00<?, ?it/s]"
      ]
     },
     "metadata": {},
     "output_type": "display_data"
    },
    {
     "name": "stderr",
     "output_type": "stream",
     "text": [
      "\r",
      " 72%|████████████████████████████████████████████████████████████████████████████▎                             | 72/100 [05:48<02:22,  5.07s/it]"
     ]
    },
    {
     "name": "stdout",
     "output_type": "stream",
     "text": [
      "10\n"
     ]
    },
    {
     "data": {
      "application/vnd.jupyter.widget-view+json": {
       "model_id": "26366999ef5f486090af31b46a0ca10b",
       "version_major": 2,
       "version_minor": 0
      },
      "text/plain": [
       "Writing Documents:   0%|          | 0/50 [00:00<?, ?it/s]"
      ]
     },
     "metadata": {},
     "output_type": "display_data"
    },
    {
     "data": {
      "application/vnd.jupyter.widget-view+json": {
       "model_id": "f114c58409e84668add79a4de6d73c4f",
       "version_major": 2,
       "version_minor": 0
      },
      "text/plain": [
       "Updating Embedding:   0%|          | 0/50 [00:00<?, ? docs/s]"
      ]
     },
     "metadata": {},
     "output_type": "display_data"
    },
    {
     "data": {
      "application/vnd.jupyter.widget-view+json": {
       "model_id": "f216f03c9ef04857865d203bcbf8d0ff",
       "version_major": 2,
       "version_minor": 0
      },
      "text/plain": [
       "Batches:   0%|          | 0/2 [00:00<?, ?it/s]"
      ]
     },
     "metadata": {},
     "output_type": "display_data"
    },
    {
     "name": "stdout",
     "output_type": "stream",
     "text": [
      "What is the role of Kmt5a in liver?\n",
      "Kmt5a is a lysine methyltransferase that plays a role in regulating gene expression in the liver. It is involved in the epigenetic control of gene expression, which helps to maintain normal liver function.\n"
     ]
    },
    {
     "data": {
      "application/vnd.jupyter.widget-view+json": {
       "model_id": "c3bf97189957475f984f646180b19553",
       "version_major": 2,
       "version_minor": 0
      },
      "text/plain": [
       "Batches:   0%|          | 0/1 [00:00<?, ?it/s]"
      ]
     },
     "metadata": {},
     "output_type": "display_data"
    },
    {
     "name": "stderr",
     "output_type": "stream",
     "text": [
      "\r",
      " 73%|█████████████████████████████████████████████████████████████████████████████▍                            | 73/100 [05:52<02:10,  4.84s/it]"
     ]
    },
    {
     "name": "stdout",
     "output_type": "stream",
     "text": [
      "10\n"
     ]
    },
    {
     "data": {
      "application/vnd.jupyter.widget-view+json": {
       "model_id": "7caa3a9e1cff400c97ba7bdd720f41c9",
       "version_major": 2,
       "version_minor": 0
      },
      "text/plain": [
       "Writing Documents:   0%|          | 0/50 [00:00<?, ?it/s]"
      ]
     },
     "metadata": {},
     "output_type": "display_data"
    },
    {
     "data": {
      "application/vnd.jupyter.widget-view+json": {
       "model_id": "123ccf9782634edfae7db0bc112f10fb",
       "version_major": 2,
       "version_minor": 0
      },
      "text/plain": [
       "Updating Embedding:   0%|          | 0/50 [00:00<?, ? docs/s]"
      ]
     },
     "metadata": {},
     "output_type": "display_data"
    },
    {
     "data": {
      "application/vnd.jupyter.widget-view+json": {
       "model_id": "591af580525846739d9492fda13137cd",
       "version_major": 2,
       "version_minor": 0
      },
      "text/plain": [
       "Batches:   0%|          | 0/2 [00:00<?, ?it/s]"
      ]
     },
     "metadata": {},
     "output_type": "display_data"
    },
    {
     "name": "stdout",
     "output_type": "stream",
     "text": [
      "How does increased GDF15 affect body weight?\n",
      "Increased GDF15 levels have been linked to reduced body weight, likely due to its role in regulating energy balance and metabolism.\n"
     ]
    },
    {
     "data": {
      "application/vnd.jupyter.widget-view+json": {
       "model_id": "76cbb956d89b400fbe1752082b2d840d",
       "version_major": 2,
       "version_minor": 0
      },
      "text/plain": [
       "Batches:   0%|          | 0/1 [00:00<?, ?it/s]"
      ]
     },
     "metadata": {},
     "output_type": "display_data"
    },
    {
     "name": "stderr",
     "output_type": "stream",
     "text": [
      "\r",
      " 74%|██████████████████████████████████████████████████████████████████████████████▍                           | 74/100 [05:57<02:09,  4.97s/it]"
     ]
    },
    {
     "name": "stdout",
     "output_type": "stream",
     "text": [
      "10\n"
     ]
    },
    {
     "data": {
      "application/vnd.jupyter.widget-view+json": {
       "model_id": "f415ecd974c2476494b74873f80a31cf",
       "version_major": 2,
       "version_minor": 0
      },
      "text/plain": [
       "Writing Documents:   0%|          | 0/50 [00:00<?, ?it/s]"
      ]
     },
     "metadata": {},
     "output_type": "display_data"
    },
    {
     "data": {
      "application/vnd.jupyter.widget-view+json": {
       "model_id": "7387444810154c0883a5946944b8598d",
       "version_major": 2,
       "version_minor": 0
      },
      "text/plain": [
       "Updating Embedding:   0%|          | 0/50 [00:00<?, ? docs/s]"
      ]
     },
     "metadata": {},
     "output_type": "display_data"
    },
    {
     "data": {
      "application/vnd.jupyter.widget-view+json": {
       "model_id": "637a31deea434cc3afa190df3f3acce0",
       "version_major": 2,
       "version_minor": 0
      },
      "text/plain": [
       "Batches:   0%|          | 0/2 [00:00<?, ?it/s]"
      ]
     },
     "metadata": {},
     "output_type": "display_data"
    },
    {
     "name": "stdout",
     "output_type": "stream",
     "text": [
      "What is inhibited by a drug rilotumumab?\n",
      "Rilotumumab is a drug that inhibits the growth of certain types of cancer cells by blocking a protein called HER2.\n"
     ]
    },
    {
     "data": {
      "application/vnd.jupyter.widget-view+json": {
       "model_id": "8e9d077ddf504985b507397a3f6aa597",
       "version_major": 2,
       "version_minor": 0
      },
      "text/plain": [
       "Batches:   0%|          | 0/1 [00:00<?, ?it/s]"
      ]
     },
     "metadata": {},
     "output_type": "display_data"
    },
    {
     "name": "stderr",
     "output_type": "stream",
     "text": [
      "\r",
      " 75%|███████████████████████████████████████████████████████████████████████████████▌                          | 75/100 [06:02<02:02,  4.89s/it]"
     ]
    },
    {
     "name": "stdout",
     "output_type": "stream",
     "text": [
      "10\n"
     ]
    },
    {
     "data": {
      "application/vnd.jupyter.widget-view+json": {
       "model_id": "24433c81e71048989080fa3a241982e9",
       "version_major": 2,
       "version_minor": 0
      },
      "text/plain": [
       "Writing Documents:   0%|          | 0/50 [00:00<?, ?it/s]"
      ]
     },
     "metadata": {},
     "output_type": "display_data"
    },
    {
     "data": {
      "application/vnd.jupyter.widget-view+json": {
       "model_id": "3a98c803936048b6a506e8cfeeee815c",
       "version_major": 2,
       "version_minor": 0
      },
      "text/plain": [
       "Updating Embedding:   0%|          | 0/50 [00:00<?, ? docs/s]"
      ]
     },
     "metadata": {},
     "output_type": "display_data"
    },
    {
     "data": {
      "application/vnd.jupyter.widget-view+json": {
       "model_id": "4b942657d3fb41ecb6e38e21d983ca9b",
       "version_major": 2,
       "version_minor": 0
      },
      "text/plain": [
       "Batches:   0%|          | 0/2 [00:00<?, ?it/s]"
      ]
     },
     "metadata": {},
     "output_type": "display_data"
    },
    {
     "name": "stdout",
     "output_type": "stream",
     "text": [
      "How many PML isoforms exist in the human genome?\n",
      "There are at least 8 known PML isoforms in the human genome, which are generated by alternative splicing of the PML gene.\n"
     ]
    },
    {
     "data": {
      "application/vnd.jupyter.widget-view+json": {
       "model_id": "47045189432c4a7ebcfe7bfa27402776",
       "version_major": 2,
       "version_minor": 0
      },
      "text/plain": [
       "Batches:   0%|          | 0/1 [00:00<?, ?it/s]"
      ]
     },
     "metadata": {},
     "output_type": "display_data"
    },
    {
     "name": "stderr",
     "output_type": "stream",
     "text": [
      "\r",
      " 76%|████████████████████████████████████████████████████████████████████████████████▌                         | 76/100 [06:07<01:57,  4.88s/it]"
     ]
    },
    {
     "name": "stdout",
     "output_type": "stream",
     "text": [
      "10\n"
     ]
    },
    {
     "data": {
      "application/vnd.jupyter.widget-view+json": {
       "model_id": "fc65f60c34b74185905a0799d877f89e",
       "version_major": 2,
       "version_minor": 0
      },
      "text/plain": [
       "Writing Documents:   0%|          | 0/50 [00:00<?, ?it/s]"
      ]
     },
     "metadata": {},
     "output_type": "display_data"
    },
    {
     "data": {
      "application/vnd.jupyter.widget-view+json": {
       "model_id": "cab20a7ac5f146c599f8708486c5519d",
       "version_major": 2,
       "version_minor": 0
      },
      "text/plain": [
       "Updating Embedding:   0%|          | 0/50 [00:00<?, ? docs/s]"
      ]
     },
     "metadata": {},
     "output_type": "display_data"
    },
    {
     "data": {
      "application/vnd.jupyter.widget-view+json": {
       "model_id": "da2fb4af076c43b49a0e4d8bbb0acaa8",
       "version_major": 2,
       "version_minor": 0
      },
      "text/plain": [
       "Batches:   0%|          | 0/2 [00:00<?, ?it/s]"
      ]
     },
     "metadata": {},
     "output_type": "display_data"
    },
    {
     "name": "stdout",
     "output_type": "stream",
     "text": [
      "What is metaSPAdes?\n",
      "metaSPAdes is a de novo genome assembler for metagenomic data. It is designed to assemble genomes from large collections of short-read sequencing data, such as those generated by Illumina sequencing platforms.\n"
     ]
    },
    {
     "data": {
      "application/vnd.jupyter.widget-view+json": {
       "model_id": "1eebcecf623646de9e1353d7622b642e",
       "version_major": 2,
       "version_minor": 0
      },
      "text/plain": [
       "Batches:   0%|          | 0/1 [00:00<?, ?it/s]"
      ]
     },
     "metadata": {},
     "output_type": "display_data"
    },
    {
     "name": "stderr",
     "output_type": "stream",
     "text": [
      "\r",
      " 77%|█████████████████████████████████████████████████████████████████████████████████▌                        | 77/100 [06:10<01:44,  4.55s/it]"
     ]
    },
    {
     "name": "stdout",
     "output_type": "stream",
     "text": [
      "10\n"
     ]
    },
    {
     "data": {
      "application/vnd.jupyter.widget-view+json": {
       "model_id": "19c6a631a1764728b831634f62426ef1",
       "version_major": 2,
       "version_minor": 0
      },
      "text/plain": [
       "Writing Documents:   0%|          | 0/50 [00:00<?, ?it/s]"
      ]
     },
     "metadata": {},
     "output_type": "display_data"
    },
    {
     "data": {
      "application/vnd.jupyter.widget-view+json": {
       "model_id": "24dc1f54093e492fb9f6d8bd7fd1c0d5",
       "version_major": 2,
       "version_minor": 0
      },
      "text/plain": [
       "Updating Embedding:   0%|          | 0/50 [00:00<?, ? docs/s]"
      ]
     },
     "metadata": {},
     "output_type": "display_data"
    },
    {
     "data": {
      "application/vnd.jupyter.widget-view+json": {
       "model_id": "a21dd0fc00504f1b8c0fab41e2985189",
       "version_major": 2,
       "version_minor": 0
      },
      "text/plain": [
       "Batches:   0%|          | 0/2 [00:00<?, ?it/s]"
      ]
     },
     "metadata": {},
     "output_type": "display_data"
    },
    {
     "name": "stdout",
     "output_type": "stream",
     "text": [
      "Which receptor does GDF15 bind?\n",
      "GDF15 binds to the GFRAL receptor. GFRAL is a receptor found on the surface of cells that binds GDF15 and helps regulate cell growth and survival.\n"
     ]
    },
    {
     "data": {
      "application/vnd.jupyter.widget-view+json": {
       "model_id": "949e74d67ccb4c98925210d9724f5134",
       "version_major": 2,
       "version_minor": 0
      },
      "text/plain": [
       "Batches:   0%|          | 0/1 [00:00<?, ?it/s]"
      ]
     },
     "metadata": {},
     "output_type": "display_data"
    },
    {
     "name": "stderr",
     "output_type": "stream",
     "text": [
      "\r",
      " 78%|██████████████████████████████████████████████████████████████████████████████████▋                       | 78/100 [06:15<01:40,  4.57s/it]"
     ]
    },
    {
     "name": "stdout",
     "output_type": "stream",
     "text": [
      "10\n"
     ]
    },
    {
     "data": {
      "application/vnd.jupyter.widget-view+json": {
       "model_id": "8187c2d4c93243a6a3eba43ca6eb9cb7",
       "version_major": 2,
       "version_minor": 0
      },
      "text/plain": [
       "Writing Documents:   0%|          | 0/50 [00:00<?, ?it/s]"
      ]
     },
     "metadata": {},
     "output_type": "display_data"
    },
    {
     "data": {
      "application/vnd.jupyter.widget-view+json": {
       "model_id": "026944c981c54760888343e8f9c3fac0",
       "version_major": 2,
       "version_minor": 0
      },
      "text/plain": [
       "Updating Embedding:   0%|          | 0/50 [00:00<?, ? docs/s]"
      ]
     },
     "metadata": {},
     "output_type": "display_data"
    },
    {
     "data": {
      "application/vnd.jupyter.widget-view+json": {
       "model_id": "f111919514364eb5bbd84da73a4e3e1e",
       "version_major": 2,
       "version_minor": 0
      },
      "text/plain": [
       "Batches:   0%|          | 0/2 [00:00<?, ?it/s]"
      ]
     },
     "metadata": {},
     "output_type": "display_data"
    },
    {
     "name": "stdout",
     "output_type": "stream",
     "text": [
      "List the two most important hematological features of the Evans syndrome\n",
      "1. Co-occurrence of autoimmune hemolytic anemia (AIHA) and immune thrombocytopenia (ITP): Evans Syndrome is characterized by the simultaneous presence of both AIHA and ITP.\n"
     ]
    },
    {
     "data": {
      "application/vnd.jupyter.widget-view+json": {
       "model_id": "3f9bd3f0c78140339876c2c1c0f5f0c6",
       "version_major": 2,
       "version_minor": 0
      },
      "text/plain": [
       "Batches:   0%|          | 0/1 [00:00<?, ?it/s]"
      ]
     },
     "metadata": {},
     "output_type": "display_data"
    },
    {
     "name": "stderr",
     "output_type": "stream",
     "text": [
      "\r",
      " 79%|███████████████████████████████████████████████████████████████████████████████████▋                      | 79/100 [06:19<01:34,  4.52s/it]"
     ]
    },
    {
     "name": "stdout",
     "output_type": "stream",
     "text": [
      "10\n"
     ]
    },
    {
     "data": {
      "application/vnd.jupyter.widget-view+json": {
       "model_id": "a6bd1c7362074dafa8bf284f5905188b",
       "version_major": 2,
       "version_minor": 0
      },
      "text/plain": [
       "Writing Documents:   0%|          | 0/50 [00:00<?, ?it/s]"
      ]
     },
     "metadata": {},
     "output_type": "display_data"
    },
    {
     "data": {
      "application/vnd.jupyter.widget-view+json": {
       "model_id": "32f8fb6e48e34322ba4a94df43a682ef",
       "version_major": 2,
       "version_minor": 0
      },
      "text/plain": [
       "Updating Embedding:   0%|          | 0/50 [00:00<?, ? docs/s]"
      ]
     },
     "metadata": {},
     "output_type": "display_data"
    },
    {
     "data": {
      "application/vnd.jupyter.widget-view+json": {
       "model_id": "22ae413e3a4b40bf85d78a5a135468f2",
       "version_major": 2,
       "version_minor": 0
      },
      "text/plain": [
       "Batches:   0%|          | 0/2 [00:00<?, ?it/s]"
      ]
     },
     "metadata": {},
     "output_type": "display_data"
    },
    {
     "name": "stdout",
     "output_type": "stream",
     "text": [
      "How many of the human PML isoforms are cytosolic?\n",
      "Six of the human PML isoforms are cytosolic. These include PML I, II, III, IV, V, and VI.\n"
     ]
    },
    {
     "data": {
      "application/vnd.jupyter.widget-view+json": {
       "model_id": "3598e5cdc9f04dc9b1b806348f49f46d",
       "version_major": 2,
       "version_minor": 0
      },
      "text/plain": [
       "Batches:   0%|          | 0/1 [00:00<?, ?it/s]"
      ]
     },
     "metadata": {},
     "output_type": "display_data"
    },
    {
     "name": "stderr",
     "output_type": "stream",
     "text": [
      "\r",
      " 80%|████████████████████████████████████████████████████████████████████████████████████▊                     | 80/100 [06:24<01:32,  4.64s/it]"
     ]
    },
    {
     "name": "stdout",
     "output_type": "stream",
     "text": [
      "10\n"
     ]
    },
    {
     "data": {
      "application/vnd.jupyter.widget-view+json": {
       "model_id": "e35a5d00a06c40bb953a185dbc286a79",
       "version_major": 2,
       "version_minor": 0
      },
      "text/plain": [
       "Writing Documents:   0%|          | 0/50 [00:00<?, ?it/s]"
      ]
     },
     "metadata": {},
     "output_type": "display_data"
    },
    {
     "data": {
      "application/vnd.jupyter.widget-view+json": {
       "model_id": "c527367638fa45f48d72bac3178b71b9",
       "version_major": 2,
       "version_minor": 0
      },
      "text/plain": [
       "Updating Embedding:   0%|          | 0/50 [00:00<?, ? docs/s]"
      ]
     },
     "metadata": {},
     "output_type": "display_data"
    },
    {
     "data": {
      "application/vnd.jupyter.widget-view+json": {
       "model_id": "c75ec336c0214017b94056b9d8e82445",
       "version_major": 2,
       "version_minor": 0
      },
      "text/plain": [
       "Batches:   0%|          | 0/2 [00:00<?, ?it/s]"
      ]
     },
     "metadata": {},
     "output_type": "display_data"
    },
    {
     "name": "stdout",
     "output_type": "stream",
     "text": [
      "How many Groucho-related genes (GRG) are contained in the mouse genome?\n",
      "There are currently no known Groucho-related genes (GRG) in the mouse genome. However, research is ongoing to identify potential GRG in the mouse genome.\n"
     ]
    },
    {
     "data": {
      "application/vnd.jupyter.widget-view+json": {
       "model_id": "54b16ff0d50540d0861a9949ec41d49d",
       "version_major": 2,
       "version_minor": 0
      },
      "text/plain": [
       "Batches:   0%|          | 0/1 [00:00<?, ?it/s]"
      ]
     },
     "metadata": {},
     "output_type": "display_data"
    },
    {
     "name": "stderr",
     "output_type": "stream",
     "text": [
      "\r",
      " 81%|█████████████████████████████████████████████████████████████████████████████████████▊                    | 81/100 [06:30<01:33,  4.90s/it]"
     ]
    },
    {
     "name": "stdout",
     "output_type": "stream",
     "text": [
      "10\n"
     ]
    },
    {
     "data": {
      "application/vnd.jupyter.widget-view+json": {
       "model_id": "11e3101a7d174ff294f66b15f13a895b",
       "version_major": 2,
       "version_minor": 0
      },
      "text/plain": [
       "Writing Documents:   0%|          | 0/50 [00:00<?, ?it/s]"
      ]
     },
     "metadata": {},
     "output_type": "display_data"
    },
    {
     "data": {
      "application/vnd.jupyter.widget-view+json": {
       "model_id": "f5914224fe5046cdb10cf9b6d6946315",
       "version_major": 2,
       "version_minor": 0
      },
      "text/plain": [
       "Updating Embedding:   0%|          | 0/50 [00:00<?, ? docs/s]"
      ]
     },
     "metadata": {},
     "output_type": "display_data"
    },
    {
     "data": {
      "application/vnd.jupyter.widget-view+json": {
       "model_id": "76c530b468eb46409e5ee8d8ffb27652",
       "version_major": 2,
       "version_minor": 0
      },
      "text/plain": [
       "Batches:   0%|          | 0/2 [00:00<?, ?it/s]"
      ]
     },
     "metadata": {},
     "output_type": "display_data"
    },
    {
     "name": "stdout",
     "output_type": "stream",
     "text": [
      "Does a tonsillectomy affect the patient's voice?\n",
      "Yes, a tonsillectomy can affect a patient's voice. The surgery can cause swelling and inflammation in the throat, which can lead to hoarseness and a change in the patient's voice.\n"
     ]
    },
    {
     "data": {
      "application/vnd.jupyter.widget-view+json": {
       "model_id": "040783c5dc77418bb746c2a16597c6fc",
       "version_major": 2,
       "version_minor": 0
      },
      "text/plain": [
       "Batches:   0%|          | 0/1 [00:00<?, ?it/s]"
      ]
     },
     "metadata": {},
     "output_type": "display_data"
    },
    {
     "name": "stderr",
     "output_type": "stream",
     "text": [
      "\r",
      " 82%|██████████████████████████████████████████████████████████████████████████████████████▉                   | 82/100 [06:34<01:26,  4.79s/it]"
     ]
    },
    {
     "name": "stdout",
     "output_type": "stream",
     "text": [
      "10\n"
     ]
    },
    {
     "data": {
      "application/vnd.jupyter.widget-view+json": {
       "model_id": "efeb0dc95fa54748a444964d23d43482",
       "version_major": 2,
       "version_minor": 0
      },
      "text/plain": [
       "Writing Documents:   0%|          | 0/50 [00:00<?, ?it/s]"
      ]
     },
     "metadata": {},
     "output_type": "display_data"
    },
    {
     "data": {
      "application/vnd.jupyter.widget-view+json": {
       "model_id": "5a6996f6a038437390630a67890fc280",
       "version_major": 2,
       "version_minor": 0
      },
      "text/plain": [
       "Updating Embedding:   0%|          | 0/50 [00:00<?, ? docs/s]"
      ]
     },
     "metadata": {},
     "output_type": "display_data"
    },
    {
     "data": {
      "application/vnd.jupyter.widget-view+json": {
       "model_id": "ef1cc5cdee9e4dd190bb35daaea786d0",
       "version_major": 2,
       "version_minor": 0
      },
      "text/plain": [
       "Batches:   0%|          | 0/2 [00:00<?, ?it/s]"
      ]
     },
     "metadata": {},
     "output_type": "display_data"
    },
    {
     "name": "stdout",
     "output_type": "stream",
     "text": [
      "What is the difference between ganglion mother cells (GMC) and intermediate neural precursor cells (INP) in Drosophila?\n",
      "GMCs are the primary neural progenitor cells in Drosophila, while INPs are derived from GMCs and are more specialized, giving rise to neurons and glia.\n"
     ]
    },
    {
     "data": {
      "application/vnd.jupyter.widget-view+json": {
       "model_id": "0153f836bd884ac3b4b67f27d349c825",
       "version_major": 2,
       "version_minor": 0
      },
      "text/plain": [
       "Batches:   0%|          | 0/1 [00:00<?, ?it/s]"
      ]
     },
     "metadata": {},
     "output_type": "display_data"
    },
    {
     "name": "stderr",
     "output_type": "stream",
     "text": [
      "\r",
      " 83%|███████████████████████████████████████████████████████████████████████████████████████▉                  | 83/100 [06:40<01:24,  4.98s/it]"
     ]
    },
    {
     "name": "stdout",
     "output_type": "stream",
     "text": [
      "10\n"
     ]
    },
    {
     "data": {
      "application/vnd.jupyter.widget-view+json": {
       "model_id": "447c695aa4824056bbedf211727d46ff",
       "version_major": 2,
       "version_minor": 0
      },
      "text/plain": [
       "Writing Documents:   0%|          | 0/50 [00:00<?, ?it/s]"
      ]
     },
     "metadata": {},
     "output_type": "display_data"
    },
    {
     "data": {
      "application/vnd.jupyter.widget-view+json": {
       "model_id": "c59ea653bf444b648694b9ff0c213b06",
       "version_major": 2,
       "version_minor": 0
      },
      "text/plain": [
       "Updating Embedding:   0%|          | 0/50 [00:00<?, ? docs/s]"
      ]
     },
     "metadata": {},
     "output_type": "display_data"
    },
    {
     "data": {
      "application/vnd.jupyter.widget-view+json": {
       "model_id": "1ed262d2266a4f2798c66dd4e338904c",
       "version_major": 2,
       "version_minor": 0
      },
      "text/plain": [
       "Batches:   0%|          | 0/2 [00:00<?, ?it/s]"
      ]
     },
     "metadata": {},
     "output_type": "display_data"
    },
    {
     "name": "stdout",
     "output_type": "stream",
     "text": [
      "What is the function of the TFIIS transcriptional factor (Dst1) in yeast?\n",
      "TFIIS (Dst1) is a transcriptional factor in yeast that helps to promote transcription elongation by stabilizing paused RNA polymerase II complexes and increasing the processivity of the enzyme.\n"
     ]
    },
    {
     "data": {
      "application/vnd.jupyter.widget-view+json": {
       "model_id": "54ce274389bf4f8b8f29e6ab524a3abc",
       "version_major": 2,
       "version_minor": 0
      },
      "text/plain": [
       "Batches:   0%|          | 0/1 [00:00<?, ?it/s]"
      ]
     },
     "metadata": {},
     "output_type": "display_data"
    },
    {
     "name": "stderr",
     "output_type": "stream",
     "text": [
      "\r",
      " 84%|█████████████████████████████████████████████████████████████████████████████████████████                 | 84/100 [06:44<01:17,  4.82s/it]"
     ]
    },
    {
     "name": "stdout",
     "output_type": "stream",
     "text": [
      "10\n"
     ]
    },
    {
     "data": {
      "application/vnd.jupyter.widget-view+json": {
       "model_id": "046b85557a52416aaa583d8b126503ab",
       "version_major": 2,
       "version_minor": 0
      },
      "text/plain": [
       "Writing Documents:   0%|          | 0/50 [00:00<?, ?it/s]"
      ]
     },
     "metadata": {},
     "output_type": "display_data"
    },
    {
     "data": {
      "application/vnd.jupyter.widget-view+json": {
       "model_id": "d62dea7a9a474902b1d5e1eb1e9f11cb",
       "version_major": 2,
       "version_minor": 0
      },
      "text/plain": [
       "Updating Embedding:   0%|          | 0/50 [00:00<?, ? docs/s]"
      ]
     },
     "metadata": {},
     "output_type": "display_data"
    },
    {
     "data": {
      "application/vnd.jupyter.widget-view+json": {
       "model_id": "c6e34a2a6f1d4902a02bc96dfed2e769",
       "version_major": 2,
       "version_minor": 0
      },
      "text/plain": [
       "Batches:   0%|          | 0/2 [00:00<?, ?it/s]"
      ]
     },
     "metadata": {},
     "output_type": "display_data"
    },
    {
     "name": "stdout",
     "output_type": "stream",
     "text": [
      "Does TFIIS affect nucleosome positioning?\n",
      "Yes, TFIIS can affect nucleosome positioning by increasing the rate of transcription elongation, which can lead to changes in the positioning of nucleosomes.\n"
     ]
    },
    {
     "data": {
      "application/vnd.jupyter.widget-view+json": {
       "model_id": "1c8476f890fe4cd19296b7c252899537",
       "version_major": 2,
       "version_minor": 0
      },
      "text/plain": [
       "Batches:   0%|          | 0/1 [00:00<?, ?it/s]"
      ]
     },
     "metadata": {},
     "output_type": "display_data"
    },
    {
     "name": "stderr",
     "output_type": "stream",
     "text": [
      "\r",
      " 85%|██████████████████████████████████████████████████████████████████████████████████████████                | 85/100 [06:49<01:11,  4.75s/it]"
     ]
    },
    {
     "name": "stdout",
     "output_type": "stream",
     "text": [
      "10\n"
     ]
    },
    {
     "data": {
      "application/vnd.jupyter.widget-view+json": {
       "model_id": "7f6f46a308124e208dbcba90d37ad1dc",
       "version_major": 2,
       "version_minor": 0
      },
      "text/plain": [
       "Writing Documents:   0%|          | 0/50 [00:00<?, ?it/s]"
      ]
     },
     "metadata": {},
     "output_type": "display_data"
    },
    {
     "data": {
      "application/vnd.jupyter.widget-view+json": {
       "model_id": "06d34c5ceb7e46d6817673210a517a5e",
       "version_major": 2,
       "version_minor": 0
      },
      "text/plain": [
       "Updating Embedding:   0%|          | 0/50 [00:00<?, ? docs/s]"
      ]
     },
     "metadata": {},
     "output_type": "display_data"
    },
    {
     "data": {
      "application/vnd.jupyter.widget-view+json": {
       "model_id": "26730a73b9224ec69db0ee7dfd151991",
       "version_major": 2,
       "version_minor": 0
      },
      "text/plain": [
       "Batches:   0%|          | 0/2 [00:00<?, ?it/s]"
      ]
     },
     "metadata": {},
     "output_type": "display_data"
    },
    {
     "name": "stdout",
     "output_type": "stream",
     "text": [
      "How does Dst1 knock-out affect transcription in yeast?\n",
      "Dst1 knock-out in yeast results in increased transcription of genes involved in stress response, cell cycle, and metabolism. It also affects the expression of genes involved in chromatin remodeling and transcriptional regulation.\n"
     ]
    },
    {
     "data": {
      "application/vnd.jupyter.widget-view+json": {
       "model_id": "e69adfe57d094292974011bbdb3a54bd",
       "version_major": 2,
       "version_minor": 0
      },
      "text/plain": [
       "Batches:   0%|          | 0/1 [00:00<?, ?it/s]"
      ]
     },
     "metadata": {},
     "output_type": "display_data"
    },
    {
     "name": "stderr",
     "output_type": "stream",
     "text": [
      "\r",
      " 86%|███████████████████████████████████████████████████████████████████████████████████████████▏              | 86/100 [06:54<01:07,  4.82s/it]"
     ]
    },
    {
     "name": "stdout",
     "output_type": "stream",
     "text": [
      "10\n"
     ]
    },
    {
     "data": {
      "application/vnd.jupyter.widget-view+json": {
       "model_id": "e9683a560f824c7b89945530b2dbf027",
       "version_major": 2,
       "version_minor": 0
      },
      "text/plain": [
       "Writing Documents:   0%|          | 0/50 [00:00<?, ?it/s]"
      ]
     },
     "metadata": {},
     "output_type": "display_data"
    },
    {
     "data": {
      "application/vnd.jupyter.widget-view+json": {
       "model_id": "8d4bf25224474955b6df0d67a4638c22",
       "version_major": 2,
       "version_minor": 0
      },
      "text/plain": [
       "Updating Embedding:   0%|          | 0/50 [00:00<?, ? docs/s]"
      ]
     },
     "metadata": {},
     "output_type": "display_data"
    },
    {
     "data": {
      "application/vnd.jupyter.widget-view+json": {
       "model_id": "1879efcda65045f19fbfda20e1a4c808",
       "version_major": 2,
       "version_minor": 0
      },
      "text/plain": [
       "Batches:   0%|          | 0/2 [00:00<?, ?it/s]"
      ]
     },
     "metadata": {},
     "output_type": "display_data"
    },
    {
     "name": "stdout",
     "output_type": "stream",
     "text": [
      "Which method for subsampling of NGS reads requires only gene counts?\n",
      "Subsampling of NGS reads using the gene-count based method requires only gene counts and does not require sequence information. It involves randomly selecting a subset of reads from the original dataset and then counting the number of reads that map to each\n"
     ]
    },
    {
     "data": {
      "application/vnd.jupyter.widget-view+json": {
       "model_id": "1000b823c98a4f46b448997bf41c9058",
       "version_major": 2,
       "version_minor": 0
      },
      "text/plain": [
       "Batches:   0%|          | 0/1 [00:00<?, ?it/s]"
      ]
     },
     "metadata": {},
     "output_type": "display_data"
    },
    {
     "name": "stderr",
     "output_type": "stream",
     "text": [
      "\r",
      " 87%|████████████████████████████████████████████████████████████████████████████████████████████▏             | 87/100 [06:59<01:03,  4.86s/it]"
     ]
    },
    {
     "name": "stdout",
     "output_type": "stream",
     "text": [
      "10\n"
     ]
    },
    {
     "data": {
      "application/vnd.jupyter.widget-view+json": {
       "model_id": "c48863f0faf746879f67fe491a7b4924",
       "version_major": 2,
       "version_minor": 0
      },
      "text/plain": [
       "Writing Documents:   0%|          | 0/50 [00:00<?, ?it/s]"
      ]
     },
     "metadata": {},
     "output_type": "display_data"
    },
    {
     "data": {
      "application/vnd.jupyter.widget-view+json": {
       "model_id": "dca8903fcf32402093cb0356ca33ae7f",
       "version_major": 2,
       "version_minor": 0
      },
      "text/plain": [
       "Updating Embedding:   0%|          | 0/50 [00:00<?, ? docs/s]"
      ]
     },
     "metadata": {},
     "output_type": "display_data"
    },
    {
     "data": {
      "application/vnd.jupyter.widget-view+json": {
       "model_id": "d49cbe6213824ce5addbea8bfec9b296",
       "version_major": 2,
       "version_minor": 0
      },
      "text/plain": [
       "Batches:   0%|          | 0/2 [00:00<?, ?it/s]"
      ]
     },
     "metadata": {},
     "output_type": "display_data"
    },
    {
     "name": "stdout",
     "output_type": "stream",
     "text": [
      "Which test is used to diagnose colour synesthesia?\n",
      "The Stroop Test is used to diagnose colour synesthesia. It involves naming the colour of words printed in different colours, and is used to measure the interference of colour associations with the words.\n"
     ]
    },
    {
     "data": {
      "application/vnd.jupyter.widget-view+json": {
       "model_id": "8624593f95f34478b27f6a2652251b71",
       "version_major": 2,
       "version_minor": 0
      },
      "text/plain": [
       "Batches:   0%|          | 0/1 [00:00<?, ?it/s]"
      ]
     },
     "metadata": {},
     "output_type": "display_data"
    },
    {
     "name": "stderr",
     "output_type": "stream",
     "text": [
      "\r",
      " 88%|█████████████████████████████████████████████████████████████████████████████████████████████▎            | 88/100 [07:03<00:55,  4.66s/it]"
     ]
    },
    {
     "name": "stdout",
     "output_type": "stream",
     "text": [
      "10\n"
     ]
    },
    {
     "data": {
      "application/vnd.jupyter.widget-view+json": {
       "model_id": "01d40e70b78f46d8b5681f8f1467f997",
       "version_major": 2,
       "version_minor": 0
      },
      "text/plain": [
       "Writing Documents:   0%|          | 0/50 [00:00<?, ?it/s]"
      ]
     },
     "metadata": {},
     "output_type": "display_data"
    },
    {
     "data": {
      "application/vnd.jupyter.widget-view+json": {
       "model_id": "24af34cdc0c0460395a1143845f7d0d8",
       "version_major": 2,
       "version_minor": 0
      },
      "text/plain": [
       "Updating Embedding:   0%|          | 0/50 [00:00<?, ? docs/s]"
      ]
     },
     "metadata": {},
     "output_type": "display_data"
    },
    {
     "data": {
      "application/vnd.jupyter.widget-view+json": {
       "model_id": "29a404b0a5764aeb85db22ac3eda5851",
       "version_major": 2,
       "version_minor": 0
      },
      "text/plain": [
       "Batches:   0%|          | 0/2 [00:00<?, ?it/s]"
      ]
     },
     "metadata": {},
     "output_type": "display_data"
    },
    {
     "name": "stdout",
     "output_type": "stream",
     "text": [
      "What is measured through the NOMe-Seq methodology?\n",
      "NOMe-Seq is a method used to measure the levels of DNA methylation in a genome. It uses bisulfite sequencing to identify and quantify the amount of methylation at specific sites in the genome.\n"
     ]
    },
    {
     "data": {
      "application/vnd.jupyter.widget-view+json": {
       "model_id": "d5cbd931c6fa4c09b60d27fd5c0b3730",
       "version_major": 2,
       "version_minor": 0
      },
      "text/plain": [
       "Batches:   0%|          | 0/1 [00:00<?, ?it/s]"
      ]
     },
     "metadata": {},
     "output_type": "display_data"
    },
    {
     "name": "stderr",
     "output_type": "stream",
     "text": [
      "\r",
      " 89%|██████████████████████████████████████████████████████████████████████████████████████████████▎           | 89/100 [07:08<00:51,  4.70s/it]"
     ]
    },
    {
     "name": "stdout",
     "output_type": "stream",
     "text": [
      "10\n"
     ]
    },
    {
     "data": {
      "application/vnd.jupyter.widget-view+json": {
       "model_id": "c2f6f3b201da4f878b6d57fe49f6a2a3",
       "version_major": 2,
       "version_minor": 0
      },
      "text/plain": [
       "Writing Documents:   0%|          | 0/50 [00:00<?, ?it/s]"
      ]
     },
     "metadata": {},
     "output_type": "display_data"
    },
    {
     "data": {
      "application/vnd.jupyter.widget-view+json": {
       "model_id": "8f026b18a66b422b9bfc03f78cb382d7",
       "version_major": 2,
       "version_minor": 0
      },
      "text/plain": [
       "Updating Embedding:   0%|          | 0/50 [00:00<?, ? docs/s]"
      ]
     },
     "metadata": {},
     "output_type": "display_data"
    },
    {
     "data": {
      "application/vnd.jupyter.widget-view+json": {
       "model_id": "adb10e7de27646af94e104a36262699c",
       "version_major": 2,
       "version_minor": 0
      },
      "text/plain": [
       "Batches:   0%|          | 0/2 [00:00<?, ?it/s]"
      ]
     },
     "metadata": {},
     "output_type": "display_data"
    },
    {
     "name": "stdout",
     "output_type": "stream",
     "text": [
      "Is DNA methylation correlated with nucleosome occupancy?\n",
      "Yes, DNA methylation is correlated with nucleosome occupancy. Studies have shown that DNA methylation can affect nucleosome positioning and occupancy, leading to changes in gene expression.\n"
     ]
    },
    {
     "data": {
      "application/vnd.jupyter.widget-view+json": {
       "model_id": "2ddfd86df3da4263a7c2df31eda518e7",
       "version_major": 2,
       "version_minor": 0
      },
      "text/plain": [
       "Batches:   0%|          | 0/1 [00:00<?, ?it/s]"
      ]
     },
     "metadata": {},
     "output_type": "display_data"
    },
    {
     "name": "stderr",
     "output_type": "stream",
     "text": [
      "\r",
      " 90%|███████████████████████████████████████████████████████████████████████████████████████████████▍          | 90/100 [07:12<00:46,  4.63s/it]"
     ]
    },
    {
     "name": "stdout",
     "output_type": "stream",
     "text": [
      "10\n"
     ]
    },
    {
     "data": {
      "application/vnd.jupyter.widget-view+json": {
       "model_id": "cdd979f07598455eb25df510debba698",
       "version_major": 2,
       "version_minor": 0
      },
      "text/plain": [
       "Writing Documents:   0%|          | 0/50 [00:00<?, ?it/s]"
      ]
     },
     "metadata": {},
     "output_type": "display_data"
    },
    {
     "data": {
      "application/vnd.jupyter.widget-view+json": {
       "model_id": "0e94c818fddb42aa9f34f748d57c4f22",
       "version_major": 2,
       "version_minor": 0
      },
      "text/plain": [
       "Updating Embedding:   0%|          | 0/50 [00:00<?, ? docs/s]"
      ]
     },
     "metadata": {},
     "output_type": "display_data"
    },
    {
     "data": {
      "application/vnd.jupyter.widget-view+json": {
       "model_id": "24dbab31a8684e398c6aea726dfde401",
       "version_major": 2,
       "version_minor": 0
      },
      "text/plain": [
       "Batches:   0%|          | 0/2 [00:00<?, ?it/s]"
      ]
     },
     "metadata": {},
     "output_type": "display_data"
    },
    {
     "name": "stdout",
     "output_type": "stream",
     "text": [
      "Which are the properties of mammalian GA-sequences?\n",
      "Mammalian GA-sequences are short, conserved, non-coding sequences found in the genome of mammals. They are involved in gene regulation and are often located near the promoter region of genes.\n"
     ]
    },
    {
     "data": {
      "application/vnd.jupyter.widget-view+json": {
       "model_id": "4a2c986dc0834f4cae26a67ce741e173",
       "version_major": 2,
       "version_minor": 0
      },
      "text/plain": [
       "Batches:   0%|          | 0/1 [00:00<?, ?it/s]"
      ]
     },
     "metadata": {},
     "output_type": "display_data"
    },
    {
     "name": "stderr",
     "output_type": "stream",
     "text": [
      "\r",
      " 91%|████████████████████████████████████████████████████████████████████████████████████████████████▍         | 91/100 [07:17<00:42,  4.73s/it]"
     ]
    },
    {
     "name": "stdout",
     "output_type": "stream",
     "text": [
      "10\n"
     ]
    },
    {
     "data": {
      "application/vnd.jupyter.widget-view+json": {
       "model_id": "28de3f06478f490391e9808c1c1edf7a",
       "version_major": 2,
       "version_minor": 0
      },
      "text/plain": [
       "Writing Documents:   0%|          | 0/50 [00:00<?, ?it/s]"
      ]
     },
     "metadata": {},
     "output_type": "display_data"
    },
    {
     "data": {
      "application/vnd.jupyter.widget-view+json": {
       "model_id": "e34fb9d11f4b43869e79fa3b5c917c72",
       "version_major": 2,
       "version_minor": 0
      },
      "text/plain": [
       "Updating Embedding:   0%|          | 0/50 [00:00<?, ? docs/s]"
      ]
     },
     "metadata": {},
     "output_type": "display_data"
    },
    {
     "data": {
      "application/vnd.jupyter.widget-view+json": {
       "model_id": "660266275cd047bb9cfd3feca856e6ea",
       "version_major": 2,
       "version_minor": 0
      },
      "text/plain": [
       "Batches:   0%|          | 0/2 [00:00<?, ?it/s]"
      ]
     },
     "metadata": {},
     "output_type": "display_data"
    },
    {
     "name": "stdout",
     "output_type": "stream",
     "text": [
      "How may CTCF mediate splicing?\n",
      "CTCF can bind to DNA and recruit splicing factors, which can influence the splicing of pre-mRNA into mature mRNA.\n"
     ]
    },
    {
     "data": {
      "application/vnd.jupyter.widget-view+json": {
       "model_id": "6a12490cee2043f7b63c31a682c004ba",
       "version_major": 2,
       "version_minor": 0
      },
      "text/plain": [
       "Batches:   0%|          | 0/1 [00:00<?, ?it/s]"
      ]
     },
     "metadata": {},
     "output_type": "display_data"
    },
    {
     "name": "stderr",
     "output_type": "stream",
     "text": [
      "\r",
      " 92%|█████████████████████████████████████████████████████████████████████████████████████████████████▌        | 92/100 [07:22<00:37,  4.70s/it]"
     ]
    },
    {
     "name": "stdout",
     "output_type": "stream",
     "text": [
      "10\n"
     ]
    },
    {
     "data": {
      "application/vnd.jupyter.widget-view+json": {
       "model_id": "6ba957f66e474c3dbe0e58af43b7cbcb",
       "version_major": 2,
       "version_minor": 0
      },
      "text/plain": [
       "Writing Documents:   0%|          | 0/50 [00:00<?, ?it/s]"
      ]
     },
     "metadata": {},
     "output_type": "display_data"
    },
    {
     "data": {
      "application/vnd.jupyter.widget-view+json": {
       "model_id": "8e02348c791747498acd361c0ecf37d4",
       "version_major": 2,
       "version_minor": 0
      },
      "text/plain": [
       "Updating Embedding:   0%|          | 0/50 [00:00<?, ? docs/s]"
      ]
     },
     "metadata": {},
     "output_type": "display_data"
    },
    {
     "data": {
      "application/vnd.jupyter.widget-view+json": {
       "model_id": "0cf5faf3158d4daa8b6a07129737d2c2",
       "version_major": 2,
       "version_minor": 0
      },
      "text/plain": [
       "Batches:   0%|          | 0/2 [00:00<?, ?it/s]"
      ]
     },
     "metadata": {},
     "output_type": "display_data"
    },
    {
     "name": "stdout",
     "output_type": "stream",
     "text": [
      "Which are the best methods for the prediction of circular RNA (circRNA)?\n",
      "The best methods for the prediction of circRNA include de novo assembly, splice junction detection, and comparative genomics. Additionally, machine learning algorithms such as deep learning and support vector machines can be used to improve accuracy.\n"
     ]
    },
    {
     "data": {
      "application/vnd.jupyter.widget-view+json": {
       "model_id": "165ab2aaf9c04a26803d7dfc9450b242",
       "version_major": 2,
       "version_minor": 0
      },
      "text/plain": [
       "Batches:   0%|          | 0/1 [00:00<?, ?it/s]"
      ]
     },
     "metadata": {},
     "output_type": "display_data"
    },
    {
     "name": "stderr",
     "output_type": "stream",
     "text": [
      "\r",
      " 93%|██████████████████████████████████████████████████████████████████████████████████████████████████▌       | 93/100 [07:27<00:33,  4.75s/it]"
     ]
    },
    {
     "name": "stdout",
     "output_type": "stream",
     "text": [
      "10\n"
     ]
    },
    {
     "data": {
      "application/vnd.jupyter.widget-view+json": {
       "model_id": "d5726673ec9947c78250700de8f0c2b7",
       "version_major": 2,
       "version_minor": 0
      },
      "text/plain": [
       "Writing Documents:   0%|          | 0/50 [00:00<?, ?it/s]"
      ]
     },
     "metadata": {},
     "output_type": "display_data"
    },
    {
     "data": {
      "application/vnd.jupyter.widget-view+json": {
       "model_id": "0b00f3c692c94bc2bef2ea27cbf00c52",
       "version_major": 2,
       "version_minor": 0
      },
      "text/plain": [
       "Updating Embedding:   0%|          | 0/50 [00:00<?, ? docs/s]"
      ]
     },
     "metadata": {},
     "output_type": "display_data"
    },
    {
     "data": {
      "application/vnd.jupyter.widget-view+json": {
       "model_id": "c50edddf4bfe490c976c90a0378bf900",
       "version_major": 2,
       "version_minor": 0
      },
      "text/plain": [
       "Batches:   0%|          | 0/2 [00:00<?, ?it/s]"
      ]
     },
     "metadata": {},
     "output_type": "display_data"
    },
    {
     "name": "stdout",
     "output_type": "stream",
     "text": [
      "Does RNA polymerase II have RNA cleavage activity?\n",
      "No, RNA polymerase II does not have RNA cleavage activity. It is an enzyme that catalyzes the transcription of DNA into mRNA.\n"
     ]
    },
    {
     "data": {
      "application/vnd.jupyter.widget-view+json": {
       "model_id": "66e1d3f785b34a298b3fcd9e579b6e60",
       "version_major": 2,
       "version_minor": 0
      },
      "text/plain": [
       "Batches:   0%|          | 0/1 [00:00<?, ?it/s]"
      ]
     },
     "metadata": {},
     "output_type": "display_data"
    },
    {
     "name": "stderr",
     "output_type": "stream",
     "text": [
      "\r",
      " 94%|███████████████████████████████████████████████████████████████████████████████████████████████████▋      | 94/100 [07:32<00:28,  4.77s/it]"
     ]
    },
    {
     "name": "stdout",
     "output_type": "stream",
     "text": [
      "10\n"
     ]
    },
    {
     "data": {
      "application/vnd.jupyter.widget-view+json": {
       "model_id": "1d6fcba6e4c5450ea362ab9fdde5e033",
       "version_major": 2,
       "version_minor": 0
      },
      "text/plain": [
       "Writing Documents:   0%|          | 0/50 [00:00<?, ?it/s]"
      ]
     },
     "metadata": {},
     "output_type": "display_data"
    },
    {
     "data": {
      "application/vnd.jupyter.widget-view+json": {
       "model_id": "1ae77efe48a54979ab70f630f5eff84a",
       "version_major": 2,
       "version_minor": 0
      },
      "text/plain": [
       "Updating Embedding:   0%|          | 0/50 [00:00<?, ? docs/s]"
      ]
     },
     "metadata": {},
     "output_type": "display_data"
    },
    {
     "data": {
      "application/vnd.jupyter.widget-view+json": {
       "model_id": "9d6b2c9f0dc84df6a55aedf57f902ad6",
       "version_major": 2,
       "version_minor": 0
      },
      "text/plain": [
       "Batches:   0%|          | 0/2 [00:00<?, ?it/s]"
      ]
     },
     "metadata": {},
     "output_type": "display_data"
    },
    {
     "name": "stdout",
     "output_type": "stream",
     "text": [
      "Which RNA polymerase II subunit carries RNA cleavage activity?\n",
      "The RNA polymerase II subunit carrying RNA cleavage activity is the C-terminal domain (CTD). It is responsible for recognizing and cleaving the RNA transcript at the 3' end.\n"
     ]
    },
    {
     "data": {
      "application/vnd.jupyter.widget-view+json": {
       "model_id": "94f4c1c8f06649f58d963c6b8cda095b",
       "version_major": 2,
       "version_minor": 0
      },
      "text/plain": [
       "Batches:   0%|          | 0/1 [00:00<?, ?it/s]"
      ]
     },
     "metadata": {},
     "output_type": "display_data"
    },
    {
     "name": "stderr",
     "output_type": "stream",
     "text": [
      "\r",
      " 95%|████████████████████████████████████████████████████████████████████████████████████████████████████▋     | 95/100 [07:36<00:23,  4.78s/it]"
     ]
    },
    {
     "name": "stdout",
     "output_type": "stream",
     "text": [
      "10\n"
     ]
    },
    {
     "data": {
      "application/vnd.jupyter.widget-view+json": {
       "model_id": "afa7c634a60d4f0aa30bd62e7e9d6f3f",
       "version_major": 2,
       "version_minor": 0
      },
      "text/plain": [
       "Writing Documents:   0%|          | 0/50 [00:00<?, ?it/s]"
      ]
     },
     "metadata": {},
     "output_type": "display_data"
    },
    {
     "data": {
      "application/vnd.jupyter.widget-view+json": {
       "model_id": "78867af8a96f457aa11e01e6e553e28e",
       "version_major": 2,
       "version_minor": 0
      },
      "text/plain": [
       "Updating Embedding:   0%|          | 0/50 [00:00<?, ? docs/s]"
      ]
     },
     "metadata": {},
     "output_type": "display_data"
    },
    {
     "data": {
      "application/vnd.jupyter.widget-view+json": {
       "model_id": "af27c65460114957b05f70048f76d054",
       "version_major": 2,
       "version_minor": 0
      },
      "text/plain": [
       "Batches:   0%|          | 0/2 [00:00<?, ?it/s]"
      ]
     },
     "metadata": {},
     "output_type": "display_data"
    },
    {
     "name": "stdout",
     "output_type": "stream",
     "text": [
      "Is there a sequence bias in MNase digestion patterns?\n",
      "Yes, there is a sequence bias in MNase digestion patterns. MNase preferentially digests regions of DNA with high A/T content, resulting in a bias towards shorter fragments in these regions.\n"
     ]
    },
    {
     "data": {
      "application/vnd.jupyter.widget-view+json": {
       "model_id": "4390b4ff29234e4e86f2c880d5d3b093",
       "version_major": 2,
       "version_minor": 0
      },
      "text/plain": [
       "Batches:   0%|          | 0/1 [00:00<?, ?it/s]"
      ]
     },
     "metadata": {},
     "output_type": "display_data"
    },
    {
     "name": "stderr",
     "output_type": "stream",
     "text": [
      "\r",
      " 96%|█████████████████████████████████████████████████████████████████████████████████████████████████████▊    | 96/100 [07:41<00:19,  4.78s/it]"
     ]
    },
    {
     "name": "stdout",
     "output_type": "stream",
     "text": [
      "10\n"
     ]
    },
    {
     "data": {
      "application/vnd.jupyter.widget-view+json": {
       "model_id": "263b4bb2143e47779511890e61722b5d",
       "version_major": 2,
       "version_minor": 0
      },
      "text/plain": [
       "Writing Documents:   0%|          | 0/50 [00:00<?, ?it/s]"
      ]
     },
     "metadata": {},
     "output_type": "display_data"
    },
    {
     "data": {
      "application/vnd.jupyter.widget-view+json": {
       "model_id": "c9cbb8df57674a0488d25b95f0a9b1da",
       "version_major": 2,
       "version_minor": 0
      },
      "text/plain": [
       "Updating Embedding:   0%|          | 0/50 [00:00<?, ? docs/s]"
      ]
     },
     "metadata": {},
     "output_type": "display_data"
    },
    {
     "data": {
      "application/vnd.jupyter.widget-view+json": {
       "model_id": "95e6868a5d154a7e9e8680b6d6217f36",
       "version_major": 2,
       "version_minor": 0
      },
      "text/plain": [
       "Batches:   0%|          | 0/2 [00:00<?, ?it/s]"
      ]
     },
     "metadata": {},
     "output_type": "display_data"
    },
    {
     "name": "stdout",
     "output_type": "stream",
     "text": [
      "Which topoisomerase is essential in yeast?\n",
      "Essential topoisomerase in yeast is Topoisomerase II, which is responsible for relieving torsional strain in DNA during replication, transcription, and recombination.\n"
     ]
    },
    {
     "data": {
      "application/vnd.jupyter.widget-view+json": {
       "model_id": "d9f93fa6a6934d49b6ebf64e70d9aa2b",
       "version_major": 2,
       "version_minor": 0
      },
      "text/plain": [
       "Batches:   0%|          | 0/1 [00:00<?, ?it/s]"
      ]
     },
     "metadata": {},
     "output_type": "display_data"
    },
    {
     "name": "stderr",
     "output_type": "stream",
     "text": [
      "\r",
      " 97%|██████████████████████████████████████████████████████████████████████████████████████████████████████▊   | 97/100 [07:46<00:14,  4.70s/it]"
     ]
    },
    {
     "name": "stdout",
     "output_type": "stream",
     "text": [
      "10\n"
     ]
    },
    {
     "data": {
      "application/vnd.jupyter.widget-view+json": {
       "model_id": "95b99020c8124239927388c8d6523088",
       "version_major": 2,
       "version_minor": 0
      },
      "text/plain": [
       "Writing Documents:   0%|          | 0/50 [00:00<?, ?it/s]"
      ]
     },
     "metadata": {},
     "output_type": "display_data"
    },
    {
     "data": {
      "application/vnd.jupyter.widget-view+json": {
       "model_id": "3d003548242a420a930f66515295e605",
       "version_major": 2,
       "version_minor": 0
      },
      "text/plain": [
       "Updating Embedding:   0%|          | 0/50 [00:00<?, ? docs/s]"
      ]
     },
     "metadata": {},
     "output_type": "display_data"
    },
    {
     "data": {
      "application/vnd.jupyter.widget-view+json": {
       "model_id": "b46282c0e90f4a75a17430f30e5e1ea2",
       "version_major": 2,
       "version_minor": 0
      },
      "text/plain": [
       "Batches:   0%|          | 0/2 [00:00<?, ?it/s]"
      ]
     },
     "metadata": {},
     "output_type": "display_data"
    },
    {
     "name": "stdout",
     "output_type": "stream",
     "text": [
      "Which yeast nucleosomes are preferentially marked by H2A.Z?\n",
      "H2A.Z is preferentially marked on nucleosomes in yeast that contain the transcription factor Abf1, which is involved in regulating gene expression.\n"
     ]
    },
    {
     "data": {
      "application/vnd.jupyter.widget-view+json": {
       "model_id": "507e0b69d47142f38528b2e93e85a7b6",
       "version_major": 2,
       "version_minor": 0
      },
      "text/plain": [
       "Batches:   0%|          | 0/1 [00:00<?, ?it/s]"
      ]
     },
     "metadata": {},
     "output_type": "display_data"
    },
    {
     "name": "stderr",
     "output_type": "stream",
     "text": [
      "\r",
      " 98%|███████████████████████████████████████████████████████████████████████████████████████████████████████▉  | 98/100 [07:50<00:09,  4.73s/it]"
     ]
    },
    {
     "name": "stdout",
     "output_type": "stream",
     "text": [
      "10\n"
     ]
    },
    {
     "data": {
      "application/vnd.jupyter.widget-view+json": {
       "model_id": "3d1c27d8a7174a929d67172c52b28425",
       "version_major": 2,
       "version_minor": 0
      },
      "text/plain": [
       "Writing Documents:   0%|          | 0/50 [00:00<?, ?it/s]"
      ]
     },
     "metadata": {},
     "output_type": "display_data"
    },
    {
     "data": {
      "application/vnd.jupyter.widget-view+json": {
       "model_id": "f4940b3e2faf453b96dfc452eb8adadc",
       "version_major": 2,
       "version_minor": 0
      },
      "text/plain": [
       "Updating Embedding:   0%|          | 0/50 [00:00<?, ? docs/s]"
      ]
     },
     "metadata": {},
     "output_type": "display_data"
    },
    {
     "data": {
      "application/vnd.jupyter.widget-view+json": {
       "model_id": "9e218aab7867466e9cf5d3db580b5a64",
       "version_major": 2,
       "version_minor": 0
      },
      "text/plain": [
       "Batches:   0%|          | 0/2 [00:00<?, ?it/s]"
      ]
     },
     "metadata": {},
     "output_type": "display_data"
    },
    {
     "name": "stdout",
     "output_type": "stream",
     "text": [
      "What is the origin of XUT transcripts in yeast?\n",
      "XUT transcripts in yeast originate from the XUT1 gene, which encodes a protein involved in the metabolism of xylose, a sugar found in plant cell walls.\n"
     ]
    },
    {
     "data": {
      "application/vnd.jupyter.widget-view+json": {
       "model_id": "b9ddac4226e64d9893b7554c42beb0a2",
       "version_major": 2,
       "version_minor": 0
      },
      "text/plain": [
       "Batches:   0%|          | 0/1 [00:00<?, ?it/s]"
      ]
     },
     "metadata": {},
     "output_type": "display_data"
    },
    {
     "name": "stderr",
     "output_type": "stream",
     "text": [
      "\r",
      " 99%|████████████████████████████████████████████████████████████████████████████████████████████████████████▉ | 99/100 [07:54<00:04,  4.51s/it]"
     ]
    },
    {
     "name": "stdout",
     "output_type": "stream",
     "text": [
      "10\n"
     ]
    },
    {
     "data": {
      "application/vnd.jupyter.widget-view+json": {
       "model_id": "6f30ce8ebed142bba32c312bd6177ad1",
       "version_major": 2,
       "version_minor": 0
      },
      "text/plain": [
       "Writing Documents:   0%|          | 0/50 [00:00<?, ?it/s]"
      ]
     },
     "metadata": {},
     "output_type": "display_data"
    },
    {
     "data": {
      "application/vnd.jupyter.widget-view+json": {
       "model_id": "133713dd56f3452b9780d3efd20feac5",
       "version_major": 2,
       "version_minor": 0
      },
      "text/plain": [
       "Updating Embedding:   0%|          | 0/50 [00:00<?, ? docs/s]"
      ]
     },
     "metadata": {},
     "output_type": "display_data"
    },
    {
     "data": {
      "application/vnd.jupyter.widget-view+json": {
       "model_id": "f3889c2eceb84c03afbad2ad478c46b2",
       "version_major": 2,
       "version_minor": 0
      },
      "text/plain": [
       "Batches:   0%|          | 0/2 [00:00<?, ?it/s]"
      ]
     },
     "metadata": {},
     "output_type": "display_data"
    },
    {
     "name": "stdout",
     "output_type": "stream",
     "text": [
      "How are cryptic unstable transcripts (CUTs) defined?\n",
      "Cryptic unstable transcripts (CUTs) are short, non-coding transcripts that are expressed at low levels and are rapidly degraded. They are often associated with gene regulation and can be used to identify novel regulatory elements.\n"
     ]
    },
    {
     "data": {
      "application/vnd.jupyter.widget-view+json": {
       "model_id": "9209940a0f7a49e38f52a86c9fc948a0",
       "version_major": 2,
       "version_minor": 0
      },
      "text/plain": [
       "Batches:   0%|          | 0/1 [00:00<?, ?it/s]"
      ]
     },
     "metadata": {},
     "output_type": "display_data"
    },
    {
     "name": "stderr",
     "output_type": "stream",
     "text": [
      "100%|█████████████████████████████████████████████████████████████████████████████████████████████████████████| 100/100 [07:59<00:00,  4.80s/it]"
     ]
    },
    {
     "name": "stdout",
     "output_type": "stream",
     "text": [
      "10\n"
     ]
    },
    {
     "name": "stderr",
     "output_type": "stream",
     "text": [
      "\n"
     ]
    },
    {
     "name": "stdout",
     "output_type": "stream",
     "text": [
      "Document Scores [0.20846031746031746, 0.4180233238983239, 0.2265871345089968, 0.10313888888888881, 0.015123116694872646]\n",
      "Passage Scores [0.21269651172236054, 0.25011684801025924, 0.19239072397187112, 0.16589622913215266, 0.011068641301611446]\n"
     ]
    }
   ],
   "source": [
    "df = pd.DataFrame( columns=('batch', 'Mean precision', 'Recall', 'F-Measure', 'MAP', 'GMAP') )\n",
    "\n",
    "for i, batch_file in enumerate(test_batch_docs):\n",
    "    test_batch_json = json.load(open(batch_file[1]))\n",
    "    for sample in tqdm(test_batch_json['questions'], position=0):\n",
    "        prediction = search_bm25_faiss(sample['body'],bm25_retriever,faiss_ds,faiss_retriever,sample_id=sample['id'])\n",
    "        doc_list = [ globals.BIOASQ.doc_relative_url + doc.id for doc in prediction]\n",
    "        sample['documents'] = doc_list[0:10]\n",
    "        print(len(doc_list))\n",
    "            \n",
    "    submission = test_batch_json.copy()\n",
    "    submission_file_name =  working_folder + \"/\" + model_id + '_'+batch_file[1].split('/')[-1]\n",
    "    json.dump(submission, open(submission_file_name, 'w'))\n",
    "    docs_score, pass_score = bioasq_eval.get_scores_phaseA(batch_file[0], submission, path_home=eval_home)\n",
    "    print('Document Scores',docs_score)\n",
    "    print('Passage Scores',pass_score)\n",
    "    df.loc[i] = [ batch_file[0].split('.')[0] + '_' + batch_file[1].split('/')[-1].split('.')[0] ] + pass_score\n",
    "    break \n",
    "df.to_csv(working_folder + \"/\" + model_id+'.csv', index=False)"
   ]
  },
  {
   "cell_type": "code",
   "execution_count": 19,
   "id": "45aa158e",
   "metadata": {},
   "outputs": [
    {
     "data": {
      "text/plain": [
       "{'questions': [{'id': '5a67a049b750ff4455000007',\n",
       "   'body': 'Does echinacea increase anaphylaxis risk?',\n",
       "   'documents': ['http://www.ncbi.nlm.nih.gov/pubmed/9507713',\n",
       "    'http://www.ncbi.nlm.nih.gov/pubmed/18831749',\n",
       "    'http://www.ncbi.nlm.nih.gov/pubmed/11814277',\n",
       "    'http://www.ncbi.nlm.nih.gov/pubmed/9640313',\n",
       "    'http://www.ncbi.nlm.nih.gov/pubmed/27757381',\n",
       "    'http://www.ncbi.nlm.nih.gov/pubmed/17085774',\n",
       "    'http://www.ncbi.nlm.nih.gov/pubmed/23113455',\n",
       "    'http://www.ncbi.nlm.nih.gov/pubmed/28731887',\n",
       "    'http://www.ncbi.nlm.nih.gov/pubmed/31126553',\n",
       "    'http://www.ncbi.nlm.nih.gov/pubmed/35441718'],\n",
       "   'snippets': [{'document': 'http://www.ncbi.nlm.nih.gov/pubmed/18831749',\n",
       "     'text': 'CONCLUSION In otitis-prone young children, treating colds with this form of echinacea does not decrease the risk of acute otitis media, and may in fact increase risk.',\n",
       "     'offsetInBeginSection': 1624,\n",
       "     'offsetInEndSection': 1790,\n",
       "     'beginSection': 'abstract',\n",
       "     'endSection': 'abstract'},\n",
       "    {'document': 'http://www.ncbi.nlm.nih.gov/pubmed/9507713',\n",
       "     'text': 'A woman with atopy experienced anaphylaxis after taking, among other dietary supplements, a commercial extract of echinacea.',\n",
       "     'offsetInBeginSection': 0,\n",
       "     'offsetInEndSection': 124,\n",
       "     'beginSection': 'abstract',\n",
       "     'endSection': 'abstract'},\n",
       "    {'document': 'http://www.ncbi.nlm.nih.gov/pubmed/17085774',\n",
       "     'text': 'RESULTS There is good scientific evidence from a prospective cohort study that oral consumption of echinacea during the first trimester does not increase the risk for major malformations.',\n",
       "     'offsetInBeginSection': 594,\n",
       "     'offsetInEndSection': 781,\n",
       "     'beginSection': 'abstract',\n",
       "     'endSection': 'abstract'},\n",
       "    {'document': 'http://www.ncbi.nlm.nih.gov/pubmed/26633727',\n",
       "     'text': 'In summary, Echinacea purpurea when taken as recommended for the prevention of the common cold appears to provide a positive risk to benefit ratio.',\n",
       "     'offsetInBeginSection': 930,\n",
       "     'offsetInEndSection': 1077,\n",
       "     'beginSection': 'abstract',\n",
       "     'endSection': 'abstract'},\n",
       "    {'document': 'http://www.ncbi.nlm.nih.gov/pubmed/25784510',\n",
       "     'text': 'CONCLUSION Evidence indicates that echinacea potently lowers the risk of recurrent respiratory infections and complications thereof.',\n",
       "     'offsetInBeginSection': 1896,\n",
       "     'offsetInEndSection': 2028,\n",
       "     'beginSection': 'abstract',\n",
       "     'endSection': 'abstract'},\n",
       "    {'document': 'http://www.ncbi.nlm.nih.gov/pubmed/25784510',\n",
       "     'text': 'Therefore, modulation of the immune system and antiviral interventions such as echinacea might reduce the risk of recurrences and possibly the development of complications.',\n",
       "     'offsetInBeginSection': 260,\n",
       "     'offsetInEndSection': 432,\n",
       "     'beginSection': 'abstract',\n",
       "     'endSection': 'abstract'},\n",
       "    {'document': 'http://www.ncbi.nlm.nih.gov/pubmed/26895223',\n",
       "     'text': 'The use of echinacea was not associated with an increased risk of malformations or adverse pregnancy outcomes.',\n",
       "     'offsetInBeginSection': 1259,\n",
       "     'offsetInEndSection': 1369,\n",
       "     'beginSection': 'abstract',\n",
       "     'endSection': 'abstract'},\n",
       "    {'document': 'http://www.ncbi.nlm.nih.gov/pubmed/11814277',\n",
       "     'text': 'CONCLUSION Some atopic subjects have positive SPT results to echinacea in the absence of known exposure.',\n",
       "     'offsetInBeginSection': 2276,\n",
       "     'offsetInEndSection': 2380,\n",
       "     'beginSection': 'abstract',\n",
       "     'endSection': 'abstract'},\n",
       "    {'document': 'http://www.ncbi.nlm.nih.gov/pubmed/11814277',\n",
       "     'text': 'Atopic subjects are also overrepresented in those experiencing reactions to echinacea.',\n",
       "     'offsetInBeginSection': 2381,\n",
       "     'offsetInEndSection': 2467,\n",
       "     'beginSection': 'abstract',\n",
       "     'endSection': 'abstract'},\n",
       "    {'document': 'http://www.ncbi.nlm.nih.gov/pubmed/11814277',\n",
       "     'text': 'There were 26 cases suggestive of possible immunoglobulin E-mediated hypersensitivity (4 anaphylaxis, 12 acute asthma, 10 urticaria/angioedema).',\n",
       "     'offsetInBeginSection': 1720,\n",
       "     'offsetInEndSection': 1864,\n",
       "     'beginSection': 'abstract',\n",
       "     'endSection': 'abstract'}]},\n",
       "  {'id': '58e8a2fc3e8b6dc87c00000c',\n",
       "   'body': 'Do cephalopods use RNA editing less frequently than other species?',\n",
       "   'documents': ['http://www.ncbi.nlm.nih.gov/pubmed/33265998',\n",
       "    'http://www.ncbi.nlm.nih.gov/pubmed/29182635',\n",
       "    'http://www.ncbi.nlm.nih.gov/pubmed/35236910',\n",
       "    'http://www.ncbi.nlm.nih.gov/pubmed/33312772',\n",
       "    'http://www.ncbi.nlm.nih.gov/pubmed/29048557',\n",
       "    'http://www.ncbi.nlm.nih.gov/pubmed/36427315',\n",
       "    'http://www.ncbi.nlm.nih.gov/pubmed/36142757',\n",
       "    'http://www.ncbi.nlm.nih.gov/pubmed/8939811',\n",
       "    'http://www.ncbi.nlm.nih.gov/pubmed/8467802',\n",
       "    'http://www.ncbi.nlm.nih.gov/pubmed/22044752'],\n",
       "   'snippets': [{'document': 'http://www.ncbi.nlm.nih.gov/pubmed/28388405',\n",
       "     'text': 'We here show that RNA editing is particularly common in behaviorally sophisticated coleoid cephalopods, with tens of\\xa0thousands of evolutionarily conserved sites.',\n",
       "     'offsetInBeginSection': 314,\n",
       "     'offsetInEndSection': 476,\n",
       "     'beginSection': 'abstract',\n",
       "     'endSection': 'abstract'},\n",
       "    {'document': 'http://www.ncbi.nlm.nih.gov/pubmed/18567816',\n",
       "     'text': 'We analyzed the RNA editing of the Kv2 K(+) channel from different insects spanning more than 300 million years of evolution: Drosophila melanogaster, Culex pipiens (Diptera), Pulex irritans (Siphonaptera), Bombyx mori (Lepidoptera), Tribolium castaneum (Coleoptera), Apis mellifera (Hymenoptera), Pediculus humanus (Phthiraptera), and Myzus persicae (Homoptera).',\n",
       "     'offsetInBeginSection': 153,\n",
       "     'offsetInEndSection': 516,\n",
       "     'beginSection': 'abstract',\n",
       "     'endSection': 'abstract'},\n",
       "    {'document': 'http://www.ncbi.nlm.nih.gov/pubmed/2480644',\n",
       "     'text': 'The apparently frequent and non-species-specific equivalency of CGG and TGG codons in particular suggests that RNA editing is a common feature of all higher plant mitochondria.',\n",
       "     'offsetInBeginSection': 928,\n",
       "     'offsetInEndSection': 1104,\n",
       "     'beginSection': 'abstract',\n",
       "     'endSection': 'abstract'},\n",
       "    {'document': 'http://www.ncbi.nlm.nih.gov/pubmed/26169954',\n",
       "     'text': 'The less frequently occurring editing events in Drosophila tend to avoid drastic amino acid changes.',\n",
       "     'offsetInBeginSection': 953,\n",
       "     'offsetInEndSection': 1053,\n",
       "     'beginSection': 'abstract',\n",
       "     'endSection': 'abstract'},\n",
       "    {'document': 'http://www.ncbi.nlm.nih.gov/pubmed/28855414',\n",
       "     'text': 'Even for the subset of RNA editing sites shared by deeply divergent cephalopod lineages, the primary effect of nuclear editing is an increase-not a decrease-in protein divergence.',\n",
       "     'offsetInBeginSection': 1101,\n",
       "     'offsetInEndSection': 1280,\n",
       "     'beginSection': 'abstract',\n",
       "     'endSection': 'abstract'},\n",
       "    {'document': 'http://www.ncbi.nlm.nih.gov/pubmed/18567816',\n",
       "     'text': 'RNA editing was detected across all Kv2 orthologs, representing the most highly conserved RNA editing event yet reported in invertebrates.',\n",
       "     'offsetInBeginSection': 517,\n",
       "     'offsetInEndSection': 655,\n",
       "     'beginSection': 'abstract',\n",
       "     'endSection': 'abstract'},\n",
       "    {'document': 'http://www.ncbi.nlm.nih.gov/pubmed/18567816',\n",
       "     'text': 'In addition, comparative analysis indicated that RNA editing usually occurred within highly conserved coding regions, but mostly altered less-conserved coding positions of these regions.',\n",
       "     'offsetInBeginSection': 983,\n",
       "     'offsetInEndSection': 1169,\n",
       "     'beginSection': 'abstract',\n",
       "     'endSection': 'abstract'},\n",
       "    {'document': 'http://www.ncbi.nlm.nih.gov/pubmed/22044752',\n",
       "     'text': 'RNA editing is a post-transcriptional process that results in modifications of ribonucleotides at specific locations.',\n",
       "     'offsetInBeginSection': 0,\n",
       "     'offsetInEndSection': 117,\n",
       "     'beginSection': 'abstract',\n",
       "     'endSection': 'abstract'},\n",
       "    {'document': 'http://www.ncbi.nlm.nih.gov/pubmed/22044752',\n",
       "     'text': 'In land plants editing can occur in both mitochondria and chloroplasts and most commonly involves C-to-U changes, especially in seed plants.',\n",
       "     'offsetInBeginSection': 118,\n",
       "     'offsetInEndSection': 258,\n",
       "     'beginSection': 'abstract',\n",
       "     'endSection': 'abstract'},\n",
       "    {'document': 'http://www.ncbi.nlm.nih.gov/pubmed/28855414',\n",
       "     'text': \"Nuclear mRNAs in metazoans also undergo editing (adenosine-to-inosine or 'A-to-I' substitutions), and most of these edits appear to be nonadaptive 'misfirings' of adenosine deaminases.\",\n",
       "     'offsetInBeginSection': 243,\n",
       "     'offsetInEndSection': 427,\n",
       "     'beginSection': 'abstract',\n",
       "     'endSection': 'abstract'}]},\n",
       "  {'id': '5a6a3335b750ff4455000025',\n",
       "   'body': 'Which algorithm is available for computing minimal absent words using external memory?',\n",
       "   'documents': ['http://www.ncbi.nlm.nih.gov/pubmed/28407038',\n",
       "    'http://www.ncbi.nlm.nih.gov/pubmed/22974263',\n",
       "    'http://www.ncbi.nlm.nih.gov/pubmed/25526884',\n",
       "    'http://www.ncbi.nlm.nih.gov/pubmed/19426495',\n",
       "    'http://www.ncbi.nlm.nih.gov/pubmed/28293277',\n",
       "    'http://www.ncbi.nlm.nih.gov/pubmed/34198469',\n",
       "    'http://www.ncbi.nlm.nih.gov/pubmed/25074068',\n",
       "    'http://www.ncbi.nlm.nih.gov/pubmed/26953874',\n",
       "    'http://www.ncbi.nlm.nih.gov/pubmed/33970626',\n",
       "    'http://www.ncbi.nlm.nih.gov/pubmed/24078125'],\n",
       "   'snippets': [{'document': 'http://www.ncbi.nlm.nih.gov/pubmed/28407038',\n",
       "     'text': 'Results We present emMAW, the first external-memory algorithm for computing minimal absent words.',\n",
       "     'offsetInBeginSection': 645,\n",
       "     'offsetInEndSection': 742,\n",
       "     'beginSection': 'abstract',\n",
       "     'endSection': 'abstract'},\n",
       "    {'document': 'http://www.ncbi.nlm.nih.gov/pubmed/28407038',\n",
       "     'text': 'There exists an O(n) -time and O(n) -space algorithm for computing all minimal absent words of a sequence of length n on a fixed-sized alphabet based on suffix arrays.',\n",
       "     'offsetInBeginSection': 231,\n",
       "     'offsetInEndSection': 398,\n",
       "     'beginSection': 'abstract',\n",
       "     'endSection': 'abstract'},\n",
       "    {'document': 'http://www.ncbi.nlm.nih.gov/pubmed/26953874',\n",
       "     'text': 'We have developed a disk-based algorithm for computing string graphs in external memory: the light string graph (LSG).',\n",
       "     'offsetInBeginSection': 569,\n",
       "     'offsetInEndSection': 687,\n",
       "     'beginSection': 'abstract',\n",
       "     'endSection': 'abstract'},\n",
       "    {'document': 'http://www.ncbi.nlm.nih.gov/pubmed/25526884',\n",
       "     'text': 'There exists an [Formula: see text]-time and [Formula: see text]-space algorithm for computing all minimal absent words on a fixed-sized alphabet based on the construction of suffix automata (Crochemore et al., 1998).',\n",
       "     'offsetInBeginSection': 345,\n",
       "     'offsetInEndSection': 562,\n",
       "     'beginSection': 'abstract',\n",
       "     'endSection': 'abstract'},\n",
       "    {'document': 'http://www.ncbi.nlm.nih.gov/pubmed/25526884',\n",
       "     'text': 'RESULTS Our contribution in this article is twofold: first, we bridge this unpleasant gap by presenting an [Formula: see text]-time and [Formula: see text]-space algorithm for computing all minimal absent words based on the construction of suffix arrays; and second, we provide the respective implementation of this algorithm.',\n",
       "     'offsetInBeginSection': 905,\n",
       "     'offsetInEndSection': 1231,\n",
       "     'beginSection': 'abstract',\n",
       "     'endSection': 'abstract'},\n",
       "    {'document': 'http://www.ncbi.nlm.nih.gov/pubmed/22974263',\n",
       "     'text': 'We present an efficient method for computing the minimal absent words of bounded length for DNA sequence using a Trie of bounded depth, representing bounded length factors.',\n",
       "     'offsetInBeginSection': 368,\n",
       "     'offsetInEndSection': 540,\n",
       "     'beginSection': 'abstract',\n",
       "     'endSection': 'abstract'},\n",
       "    {'document': 'http://www.ncbi.nlm.nih.gov/pubmed/25526884',\n",
       "     'text': 'In this article, we present a new linear-time and linear-space algorithm for the computation of minimal absent words based on the suffix array.',\n",
       "     'offsetInBeginSection': 1697,\n",
       "     'offsetInEndSection': 1840,\n",
       "     'beginSection': 'abstract',\n",
       "     'endSection': 'abstract'},\n",
       "    {'document': 'http://www.ncbi.nlm.nih.gov/pubmed/28293277',\n",
       "     'text': 'Hence, computing all such words naïvely can be a very time-consuming procedure, in particular for large k.   RESULTS In this article, we propose an [Formula: see text]-time and [Formula: see text]-space algorithm to compute all [Formula: see text]-avoided words of length k in a given sequence of length n over a fixed-sized alphabet.',\n",
       "     'offsetInBeginSection': 608,\n",
       "     'offsetInEndSection': 943,\n",
       "     'beginSection': 'abstract',\n",
       "     'endSection': 'abstract'},\n",
       "    {'document': 'http://www.ncbi.nlm.nih.gov/pubmed/22974263',\n",
       "     'text': 'This method outputs the whole set of minimal absent words and furthermore our technique provides a linear-time algorithm with less memory usage than previous solutions.',\n",
       "     'offsetInBeginSection': 541,\n",
       "     'offsetInEndSection': 709,\n",
       "     'beginSection': 'abstract',\n",
       "     'endSection': 'abstract'},\n",
       "    {'document': 'http://www.ncbi.nlm.nih.gov/pubmed/26953874',\n",
       "     'text': 'Positive results in this direction stimulate the investigation of efficient external memory algorithms for de novo assembly from NGS data.',\n",
       "     'offsetInBeginSection': 239,\n",
       "     'offsetInEndSection': 377,\n",
       "     'beginSection': 'abstract',\n",
       "     'endSection': 'abstract'}]},\n",
       "  {'id': '5a7357e63b9d13c708000001',\n",
       "   'body': 'Is there an RNAi drug being developed to treat amyloidosis?',\n",
       "   'documents': ['http://www.ncbi.nlm.nih.gov/pubmed/15948278',\n",
       "    'http://www.ncbi.nlm.nih.gov/pubmed/30038442',\n",
       "    'http://www.ncbi.nlm.nih.gov/pubmed/35997942',\n",
       "    'http://www.ncbi.nlm.nih.gov/pubmed/19075801',\n",
       "    'http://www.ncbi.nlm.nih.gov/pubmed/19495687',\n",
       "    'http://www.ncbi.nlm.nih.gov/pubmed/23599913',\n",
       "    'http://www.ncbi.nlm.nih.gov/pubmed/29184431',\n",
       "    'http://www.ncbi.nlm.nih.gov/pubmed/36052562',\n",
       "    'http://www.ncbi.nlm.nih.gov/pubmed/36278951',\n",
       "    'http://www.ncbi.nlm.nih.gov/pubmed/31701435'],\n",
       "   'snippets': [{'document': 'http://www.ncbi.nlm.nih.gov/pubmed/28430919',\n",
       "     'text': 'Pioneering clinical studies include RNAi drugs targeting liver synthesis of PCSK9 resulting in highly significant lowering of LDL cholesterol or targeting liver transthyretin (TTR) synthesis for treatment of cardiac TTR amyloidosis.',\n",
       "     'offsetInBeginSection': 1112,\n",
       "     'offsetInEndSection': 1344,\n",
       "     'beginSection': 'abstract',\n",
       "     'endSection': 'abstract'},\n",
       "    {'document': 'http://www.ncbi.nlm.nih.gov/pubmed/28389707',\n",
       "     'text': 'p53, caspase 2, PKN3, β2-adrenergic receptor, mutated KRAS, microRNAs); (ii) therapeutic conditions, including ophthalmic diseases, kidney injury, amyloidosis, pancreatic cancer, viral hepatitis; and (iii) routes of administration (ocular, intravenous, subcutaneous, intratumoral).',\n",
       "     'offsetInBeginSection': 1020,\n",
       "     'offsetInEndSection': 1302,\n",
       "     'beginSection': 'abstract',\n",
       "     'endSection': 'abstract'},\n",
       "    {'document': 'http://www.ncbi.nlm.nih.gov/pubmed/27033334',\n",
       "     'text': 'RNA interference (RNAi) is a clinically validated technology that may be a promising approach to the treatment of ATTR amyloidosis.',\n",
       "     'offsetInBeginSection': 115,\n",
       "     'offsetInEndSection': 246,\n",
       "     'beginSection': 'abstract',\n",
       "     'endSection': 'abstract'},\n",
       "    {'document': 'http://www.ncbi.nlm.nih.gov/pubmed/26458571',\n",
       "     'text': 'In addition to these amyloidosis, in transthyretin (TTR) related familial amyloidotic polyneuropathy (FAP), liver transplantation, tertial structure stabilizing drugs, and gene silencing drugs have been developing now.',\n",
       "     'offsetInBeginSection': 224,\n",
       "     'offsetInEndSection': 442,\n",
       "     'beginSection': 'abstract',\n",
       "     'endSection': 'abstract'},\n",
       "    {'document': 'http://www.ncbi.nlm.nih.gov/pubmed/26458571',\n",
       "     'text': \"As neurological disorder related amyloidosis, systemic amyloidosis, such as AL amyloidosis, AA amyloidosis, dialysis related amyloidosis, FAP, senile systemic amyloidosis, and brain localized amyloidosis, such as Alzheimer's disease, and prion disease are listed.\",\n",
       "     'offsetInBeginSection': 443,\n",
       "     'offsetInEndSection': 706,\n",
       "     'beginSection': 'abstract',\n",
       "     'endSection': 'abstract'},\n",
       "    {'document': 'http://www.ncbi.nlm.nih.gov/pubmed/27033334',\n",
       "     'text': 'ATTR amyloidosis is a systemic, debilitating and fatal disease caused by transthyretin (TTR) amyloid accumulation.',\n",
       "     'offsetInBeginSection': 0,\n",
       "     'offsetInEndSection': 114,\n",
       "     'beginSection': 'abstract',\n",
       "     'endSection': 'abstract'},\n",
       "    {'document': 'http://www.ncbi.nlm.nih.gov/pubmed/19495687',\n",
       "     'text': 'RNA interference (RNAi) is an evolutionarily conserved gene-silencing mechanism in which small 19-23-nucleotide double-stranded RNA molecules, or small interfering RNAs (siRNAs), target cognate RNA for destruction with exquisite potency and selectivity.',\n",
       "     'offsetInBeginSection': 0,\n",
       "     'offsetInEndSection': 253,\n",
       "     'beginSection': 'abstract',\n",
       "     'endSection': 'abstract'},\n",
       "    {'document': 'http://www.ncbi.nlm.nih.gov/pubmed/26458571',\n",
       "     'text': 'In neurological disorder related amyloidosis, several therapies have been developed in the recent decade.',\n",
       "     'offsetInBeginSection': 0,\n",
       "     'offsetInEndSection': 105,\n",
       "     'beginSection': 'abstract',\n",
       "     'endSection': 'abstract'},\n",
       "    {'document': 'http://www.ncbi.nlm.nih.gov/pubmed/28430919',\n",
       "     'text': 'Particularly advanced is the development of RNA interference (RNAi) drugs which use recently discovered pathways of endogenous short interfering RNAs and are becoming versatile tools for efficient silencing of protein expression.',\n",
       "     'offsetInBeginSection': 882,\n",
       "     'offsetInEndSection': 1111,\n",
       "     'beginSection': 'abstract',\n",
       "     'endSection': 'abstract'},\n",
       "    {'document': 'http://www.ncbi.nlm.nih.gov/pubmed/17456035',\n",
       "     'text': 'RNA interference (RNAi) has emerged as a potential therapeutic approach for neurodegenerative diseases, particularly those associated with autosomal dominant patterns of inheritance.',\n",
       "     'offsetInBeginSection': 0,\n",
       "     'offsetInEndSection': 182,\n",
       "     'beginSection': 'abstract',\n",
       "     'endSection': 'abstract'}]},\n",
       "  {'id': '5a87d73861bb38fb2400000b',\n",
       "   'body': 'Which main ribotype of Clostridium difficile is responsible of the recent outbreak?',\n",
       "   'documents': ['http://www.ncbi.nlm.nih.gov/pubmed/20621236',\n",
       "    'http://www.ncbi.nlm.nih.gov/pubmed/28830806',\n",
       "    'http://www.ncbi.nlm.nih.gov/pubmed/28989415',\n",
       "    'http://www.ncbi.nlm.nih.gov/pubmed/30879971',\n",
       "    'http://www.ncbi.nlm.nih.gov/pubmed/16704846',\n",
       "    'http://www.ncbi.nlm.nih.gov/pubmed/22267673',\n",
       "    'http://www.ncbi.nlm.nih.gov/pubmed/25814591',\n",
       "    'http://www.ncbi.nlm.nih.gov/pubmed/26238868',\n",
       "    'http://www.ncbi.nlm.nih.gov/pubmed/28625250',\n",
       "    'http://www.ncbi.nlm.nih.gov/pubmed/27533048'],\n",
       "   'snippets': [{'document': 'http://www.ncbi.nlm.nih.gov/pubmed/21998885',\n",
       "     'text': 'Clostridium difficile strain ribotype 027 is a hypervirulent pathogen that is responsible for recent, severe outbreaks of serious nosocomial infections.',\n",
       "     'offsetInBeginSection': 0,\n",
       "     'offsetInEndSection': 152,\n",
       "     'beginSection': 'abstract',\n",
       "     'endSection': 'abstract'},\n",
       "    {'document': 'http://www.ncbi.nlm.nih.gov/pubmed/28989415',\n",
       "     'text': 'BACKGROUND We describe an outbreak of Clostridium difficile infection (CDI) with ribotype 053, a possible hypervirulent strain that causes outbreaks, in a neurosurgical unit.',\n",
       "     'offsetInBeginSection': 0,\n",
       "     'offsetInEndSection': 174,\n",
       "     'beginSection': 'abstract',\n",
       "     'endSection': 'abstract'},\n",
       "    {'document': 'http://www.ncbi.nlm.nih.gov/pubmed/26238868',\n",
       "     'text': 'Global spread and evolutionary links of an epidemic Clostridium difficile strain (PCR-ribotype 027) have been noted in recent decades.',\n",
       "     'offsetInBeginSection': 0,\n",
       "     'offsetInEndSection': 134,\n",
       "     'beginSection': 'abstract',\n",
       "     'endSection': 'abstract'},\n",
       "    {'document': 'http://www.ncbi.nlm.nih.gov/pubmed/20621236',\n",
       "     'text': 'A second strain associated with hypervirulence is ribotype 078 and the prevalence of Clostridium difficile infection (CDI) due to this ribotype appears to be increasing.',\n",
       "     'offsetInBeginSection': 175,\n",
       "     'offsetInEndSection': 344,\n",
       "     'beginSection': 'abstract',\n",
       "     'endSection': 'abstract'},\n",
       "    {'document': 'http://www.ncbi.nlm.nih.gov/pubmed/26341328',\n",
       "     'text': 'Epidemiology of Clostridium difficile is characterized by worldwide increase of C. difficile infections (CDI) and the emergence of new epidemic outbreak strains with the capacity for global spreading.',\n",
       "     'offsetInBeginSection': 0,\n",
       "     'offsetInEndSection': 200,\n",
       "     'beginSection': 'abstract',\n",
       "     'endSection': 'abstract'},\n",
       "    {'document': 'http://www.ncbi.nlm.nih.gov/pubmed/28782647',\n",
       "     'text': 'OBJECTIVE A frequent complication of Clostridium difficile infection (CDI) is recurrent disease.',\n",
       "     'offsetInBeginSection': 0,\n",
       "     'offsetInEndSection': 96,\n",
       "     'beginSection': 'abstract',\n",
       "     'endSection': 'abstract'},\n",
       "    {'document': 'http://www.ncbi.nlm.nih.gov/pubmed/20621236',\n",
       "     'text': 'Clostridium difficile is an important healthcare-associated pathogen.',\n",
       "     'offsetInBeginSection': 0,\n",
       "     'offsetInEndSection': 69,\n",
       "     'beginSection': 'abstract',\n",
       "     'endSection': 'abstract'},\n",
       "    {'document': 'http://www.ncbi.nlm.nih.gov/pubmed/27533048',\n",
       "     'text': 'BACKGROUND An outbreak of Clostridium difficile ribotype 027 infection (CDI) occurred at an university hospital, involving 19 departments.',\n",
       "     'offsetInBeginSection': 0,\n",
       "     'offsetInEndSection': 138,\n",
       "     'beginSection': 'abstract',\n",
       "     'endSection': 'abstract'},\n",
       "    {'document': 'http://www.ncbi.nlm.nih.gov/pubmed/24916866',\n",
       "     'text': 'CONCLUSION Our findings sustain the hypothesis of a recent emerged outbreak of C. difficile PCR ribotype 027 infections in the area of Bucharest.',\n",
       "     'offsetInBeginSection': 1109,\n",
       "     'offsetInEndSection': 1254,\n",
       "     'beginSection': 'abstract',\n",
       "     'endSection': 'abstract'},\n",
       "    {'document': 'http://www.ncbi.nlm.nih.gov/pubmed/24739945',\n",
       "     'text': 'C. difficile isolates were characterized regarding ribotype, toxin genes and moxifloxin resistance.',\n",
       "     'offsetInBeginSection': 561,\n",
       "     'offsetInEndSection': 660,\n",
       "     'beginSection': 'abstract',\n",
       "     'endSection': 'abstract'}]},\n",
       "  {'id': '5a67a550b750ff4455000009',\n",
       "   'body': 'Is there an association between carcinoid syndrome and mitral valve disease?',\n",
       "   'documents': ['http://www.ncbi.nlm.nih.gov/pubmed/21316509',\n",
       "    'http://www.ncbi.nlm.nih.gov/pubmed/11568027',\n",
       "    'http://www.ncbi.nlm.nih.gov/pubmed/21545515',\n",
       "    'http://www.ncbi.nlm.nih.gov/pubmed/377933',\n",
       "    'http://www.ncbi.nlm.nih.gov/pubmed/25851088',\n",
       "    'http://www.ncbi.nlm.nih.gov/pubmed/30251640',\n",
       "    'http://www.ncbi.nlm.nih.gov/pubmed/18355221',\n",
       "    'http://www.ncbi.nlm.nih.gov/pubmed/21156347',\n",
       "    'http://www.ncbi.nlm.nih.gov/pubmed/27278349',\n",
       "    'http://www.ncbi.nlm.nih.gov/pubmed/14626739'],\n",
       "   'snippets': [{'document': 'http://www.ncbi.nlm.nih.gov/pubmed/21316509',\n",
       "     'text': 'A 53-year-old woman is described who underwent mitral and aortic valve replacement and tricuspid valve annuloplasty for pure regurgitation at all 3 valve sites for unrecognized carcinoid heart disease without the carcinoid syndrome 22 days before death.',\n",
       "     'offsetInBeginSection': 0,\n",
       "     'offsetInEndSection': 253,\n",
       "     'beginSection': 'abstract',\n",
       "     'endSection': 'abstract'},\n",
       "    {'document': 'http://www.ncbi.nlm.nih.gov/pubmed/24812331',\n",
       "     'text': 'Of the patients who were identified to have carcinoid heart disease in different studies, 193 patients had valve procedure, mainly replacements at tricuspid, mitral and aortic valve positions and either valvuloplasty or replacement at pulmonary valve.',\n",
       "     'offsetInBeginSection': 815,\n",
       "     'offsetInEndSection': 1066,\n",
       "     'beginSection': 'abstract',\n",
       "     'endSection': 'abstract'},\n",
       "    {'document': 'http://www.ncbi.nlm.nih.gov/pubmed/22364692',\n",
       "     'text': 'Degenerative (myxomatous) mitral valve disease (DMVD) is an important disease associated with aging in both dogs and humans.',\n",
       "     'offsetInBeginSection': 282,\n",
       "     'offsetInEndSection': 406,\n",
       "     'beginSection': 'abstract',\n",
       "     'endSection': 'abstract'},\n",
       "    {'document': 'http://www.ncbi.nlm.nih.gov/pubmed/7453210',\n",
       "     'text': 'A 53-year-old man with a pancreatic carcinoid tumor and liver metastases had the carcinoid syndrome with involvement of the tricuspid valve by carcinoid plaque.',\n",
       "     'offsetInBeginSection': 0,\n",
       "     'offsetInEndSection': 160,\n",
       "     'beginSection': 'abstract',\n",
       "     'endSection': 'abstract'},\n",
       "    {'document': 'http://www.ncbi.nlm.nih.gov/pubmed/27278349',\n",
       "     'text': 'We present a case of a 54-year-old man with carcinoid heart disease and mitral valve involvement.',\n",
       "     'offsetInBeginSection': 0,\n",
       "     'offsetInEndSection': 97,\n",
       "     'beginSection': 'abstract',\n",
       "     'endSection': 'abstract'},\n",
       "    {'document': 'http://www.ncbi.nlm.nih.gov/pubmed/11568027',\n",
       "     'text': 'Surgery included tricuspid valve replacement in all patients, pulmonary valve replacement in 3 and valvectomy in 7, mitral valve replacement in 6 and repair in 1, aortic valve replacement in 4 and repair in 2, CABG in 2, and patent foramen ovale closure in 5.',\n",
       "     'offsetInBeginSection': 795,\n",
       "     'offsetInEndSection': 1054,\n",
       "     'beginSection': 'abstract',\n",
       "     'endSection': 'abstract'},\n",
       "    {'document': 'http://www.ncbi.nlm.nih.gov/pubmed/7453210',\n",
       "     'text': 'The mitral valve was involved by unrelated myxomatous degeneration (floppy valve).',\n",
       "     'offsetInBeginSection': 161,\n",
       "     'offsetInEndSection': 243,\n",
       "     'beginSection': 'abstract',\n",
       "     'endSection': 'abstract'},\n",
       "    {'document': 'http://www.ncbi.nlm.nih.gov/pubmed/7236050',\n",
       "     'text': 'The clinical picture included diarrhea, heat waves, bronchospasms, hypertension, hyperserotoninemia, affection of the mitral valve and left atrium.',\n",
       "     'offsetInBeginSection': 163,\n",
       "     'offsetInEndSection': 310,\n",
       "     'beginSection': 'abstract',\n",
       "     'endSection': 'abstract'},\n",
       "    {'document': 'http://www.ncbi.nlm.nih.gov/pubmed/14626739',\n",
       "     'text': 'The diagnosis of carcinoid syndrome should be discussed in patients with organic tricuspid regurgitation without left valvular disease.',\n",
       "     'offsetInBeginSection': 1111,\n",
       "     'offsetInEndSection': 1246,\n",
       "     'beginSection': 'abstract',\n",
       "     'endSection': 'abstract'},\n",
       "    {'document': 'http://www.ncbi.nlm.nih.gov/pubmed/11568027',\n",
       "     'text': 'BACKGROUND Carcinoid involvement of left-sided heart valves has been reported in patients with a patent foramen ovale, carcinoid tumor of the lung, and active carcinoid syndrome with high levels of serotonin.',\n",
       "     'offsetInBeginSection': 0,\n",
       "     'offsetInEndSection': 208,\n",
       "     'beginSection': 'abstract',\n",
       "     'endSection': 'abstract'}]},\n",
       "  {'id': '58eb99f3eda5a57672000009',\n",
       "   'body': 'Do origins of replication close to yeast centromeres fire early or late?',\n",
       "   'documents': ['http://www.ncbi.nlm.nih.gov/pubmed/15294892',\n",
       "    'http://www.ncbi.nlm.nih.gov/pubmed/9783589',\n",
       "    'http://www.ncbi.nlm.nih.gov/pubmed/11560885',\n",
       "    'http://www.ncbi.nlm.nih.gov/pubmed/31509480',\n",
       "    'http://www.ncbi.nlm.nih.gov/pubmed/22589733',\n",
       "    'http://www.ncbi.nlm.nih.gov/pubmed/22169533',\n",
       "    'http://www.ncbi.nlm.nih.gov/pubmed/26329162',\n",
       "    'http://www.ncbi.nlm.nih.gov/pubmed/20736315',\n",
       "    'http://www.ncbi.nlm.nih.gov/pubmed/3042152',\n",
       "    'http://www.ncbi.nlm.nih.gov/pubmed/18093330'],\n",
       "   'snippets': [{'document': 'http://www.ncbi.nlm.nih.gov/pubmed/15294892',\n",
       "     'text': 'Previous studies in budding yeast suggested that the default firing time of most DNA replication origins is early in S phase and that origins can be forced to fire later by proximity to certain cis-acting sequences.',\n",
       "     'offsetInBeginSection': 0,\n",
       "     'offsetInEndSection': 215,\n",
       "     'beginSection': 'abstract',\n",
       "     'endSection': 'abstract'},\n",
       "    {'document': 'http://www.ncbi.nlm.nih.gov/pubmed/20865002',\n",
       "     'text': 'Origins of replication are activated throughout the S phase of the cell cycle such that some origins fire early and others fire late to ensure that each chromosome is completely replicated in a timely fashion.',\n",
       "     'offsetInBeginSection': 0,\n",
       "     'offsetInEndSection': 209,\n",
       "     'beginSection': 'abstract',\n",
       "     'endSection': 'abstract'},\n",
       "    {'document': 'http://www.ncbi.nlm.nih.gov/pubmed/22589733',\n",
       "     'text': 'Do centromeres ensure their early replication by promoting early activation of nearby origins, or have they migrated over evolutionary time to reside in early replicating regions?',\n",
       "     'offsetInBeginSection': 392,\n",
       "     'offsetInEndSection': 571,\n",
       "     'beginSection': 'abstract',\n",
       "     'endSection': 'abstract'},\n",
       "    {'document': 'http://www.ncbi.nlm.nih.gov/pubmed/15294892',\n",
       "     'text': 'Although only a few origins that fire in very late S phase have been identified in fission yeast, all of them are located close to a cluster of LCS elements.',\n",
       "     'offsetInBeginSection': 854,\n",
       "     'offsetInEndSection': 1011,\n",
       "     'beginSection': 'abstract',\n",
       "     'endSection': 'abstract'},\n",
       "    {'document': 'http://www.ncbi.nlm.nih.gov/pubmed/9783589',\n",
       "     'text': 'DNA replication in eukaryotic cells initiates from many replication origins which fire throughout the S phase of the cell cycle in a predictable pattern: some origins fire early, others late.',\n",
       "     'offsetInBeginSection': 0,\n",
       "     'offsetInEndSection': 191,\n",
       "     'beginSection': 'abstract',\n",
       "     'endSection': 'abstract'},\n",
       "    {'document': 'http://www.ncbi.nlm.nih.gov/pubmed/9783589',\n",
       "     'text': 'Here we show that, in budding yeast, hydroxyurea, which blocks the progression of replication forks from early-firing origins, also inhibits the firing of late origins.',\n",
       "     'offsetInBeginSection': 336,\n",
       "     'offsetInEndSection': 504,\n",
       "     'beginSection': 'abstract',\n",
       "     'endSection': 'abstract'},\n",
       "    {'document': 'http://www.ncbi.nlm.nih.gov/pubmed/18093330',\n",
       "     'text': 'CONCLUSION The fact that approximately 97% of fission yeast replication origins - both early and late - are not significantly affected by replication checkpoint mutations in HU-treated cells suggests that (i) most late-firing origins are restrained from firing in HU-treated cells by at least one checkpoint-independent mechanism, and (ii) checkpoint-dependent slowing of S phase in fission yeast when DNA is damaged may be accomplished primarily by the slowing of replication forks.',\n",
       "     'offsetInBeginSection': 2035,\n",
       "     'offsetInEndSection': 2518,\n",
       "     'beginSection': 'abstract',\n",
       "     'endSection': 'abstract'},\n",
       "    {'document': 'http://www.ncbi.nlm.nih.gov/pubmed/22081107',\n",
       "     'text': 'Over-expression of these factors is sufficient to allow late firing origins of replication to initiate early and together with deletion of the histone deacetylase RPD3, promotes the firing of heterochromatic, dormant origins.',\n",
       "     'offsetInBeginSection': 571,\n",
       "     'offsetInEndSection': 796,\n",
       "     'beginSection': 'abstract',\n",
       "     'endSection': 'abstract'},\n",
       "    {'document': 'http://www.ncbi.nlm.nih.gov/pubmed/22081599',\n",
       "     'text': 'Furthermore, functional analysis also reveals that catabolic genes cluster around early firing origins, whereas anabolic genes can rather be found in the proximity of late firing origins of replication.',\n",
       "     'offsetInBeginSection': 942,\n",
       "     'offsetInEndSection': 1144,\n",
       "     'beginSection': 'abstract',\n",
       "     'endSection': 'abstract'},\n",
       "    {'document': 'http://www.ncbi.nlm.nih.gov/pubmed/18093330',\n",
       "     'text': 'We found (consistent with the three previous studies after appropriate interpretation) that, in surprising contrast to budding yeast, most fission yeast origins, including both early- and late-firing origins, are not significantly affected by checkpoint mutations during replication in the presence of HU.',\n",
       "     'offsetInBeginSection': 1065,\n",
       "     'offsetInEndSection': 1370,\n",
       "     'beginSection': 'abstract',\n",
       "     'endSection': 'abstract'}]},\n",
       "  {'id': '5a6d0727b750ff445500002b',\n",
       "   'body': 'Is there any role of 5hmC in T-cell development and differentiation?',\n",
       "   'documents': ['http://www.ncbi.nlm.nih.gov/pubmed/25071199',\n",
       "    'http://www.ncbi.nlm.nih.gov/pubmed/27252783',\n",
       "    'http://www.ncbi.nlm.nih.gov/pubmed/31953501',\n",
       "    'http://www.ncbi.nlm.nih.gov/pubmed/26363184',\n",
       "    'http://www.ncbi.nlm.nih.gov/pubmed/27346350',\n",
       "    'http://www.ncbi.nlm.nih.gov/pubmed/32385352',\n",
       "    'http://www.ncbi.nlm.nih.gov/pubmed/23403289',\n",
       "    'http://www.ncbi.nlm.nih.gov/pubmed/22956496',\n",
       "    'http://www.ncbi.nlm.nih.gov/pubmed/23403924',\n",
       "    'http://www.ncbi.nlm.nih.gov/pubmed/24653733'],\n",
       "   'snippets': [{'document': 'http://www.ncbi.nlm.nih.gov/pubmed/26363184',\n",
       "     'text': 'Loss of TET1 in ATDC5 decreased 5hmC levels and impaired differentiation, demonstrating a functional role for TET1-mediated 5hmC dynamics in chondrogenic differentiation.',\n",
       "     'offsetInBeginSection': 937,\n",
       "     'offsetInEndSection': 1107,\n",
       "     'beginSection': 'abstract',\n",
       "     'endSection': 'abstract'},\n",
       "    {'document': 'http://www.ncbi.nlm.nih.gov/pubmed/27346350',\n",
       "     'text': 'Here, we report early and widespread 5mC/5hmC remodeling during human CD4(+) T\\xa0cell differentiation ex\\xa0vivo at genes and cell-specific enhancers with known T\\xa0cell function.',\n",
       "     'offsetInBeginSection': 313,\n",
       "     'offsetInEndSection': 488,\n",
       "     'beginSection': 'abstract',\n",
       "     'endSection': 'abstract'},\n",
       "    {'document': 'http://www.ncbi.nlm.nih.gov/pubmed/27346350',\n",
       "     'text': '5hmC plays important roles in regulation of gene expression and differentiation and has been implicated in T\\xa0cell malignancies and autoimmunity.',\n",
       "     'offsetInBeginSection': 167,\n",
       "     'offsetInEndSection': 312,\n",
       "     'beginSection': 'abstract',\n",
       "     'endSection': 'abstract'},\n",
       "    {'document': 'http://www.ncbi.nlm.nih.gov/pubmed/22956496',\n",
       "     'text': 'Based on these studies of 5hmC levels and reports of tissue-specific TET expression, these enzymes are thought to play a role in mammalian development and differentiation.',\n",
       "     'offsetInBeginSection': 674,\n",
       "     'offsetInEndSection': 845,\n",
       "     'beginSection': 'abstract',\n",
       "     'endSection': 'abstract'},\n",
       "    {'document': 'http://www.ncbi.nlm.nih.gov/pubmed/25071199',\n",
       "     'text': 'We have mapped 5-hydroxymethylcytosine (5hmC) at different stages of T-cell development in the thymus and T-cell differentiation in the periphery.',\n",
       "     'offsetInBeginSection': 173,\n",
       "     'offsetInEndSection': 319,\n",
       "     'beginSection': 'abstract',\n",
       "     'endSection': 'abstract'},\n",
       "    {'document': 'http://www.ncbi.nlm.nih.gov/pubmed/27346350',\n",
       "     'text': 'Our results support 5hmC-mediated DNA de-methylation as a key component of CD4(+) T\\xa0cell biology in humans, with important implications for gene regulation and lineage commitment.',\n",
       "     'offsetInBeginSection': 949,\n",
       "     'offsetInEndSection': 1129,\n",
       "     'beginSection': 'abstract',\n",
       "     'endSection': 'abstract'},\n",
       "    {'document': 'http://www.ncbi.nlm.nih.gov/pubmed/27252783',\n",
       "     'text': 'Throughout blood cell differentiation, intragenic 5hmC is maintained at genes that are highly expressed and required for acquisition of the mature blood cell phenotype.',\n",
       "     'offsetInBeginSection': 908,\n",
       "     'offsetInEndSection': 1076,\n",
       "     'beginSection': 'abstract',\n",
       "     'endSection': 'abstract'},\n",
       "    {'document': 'http://www.ncbi.nlm.nih.gov/pubmed/25071199',\n",
       "     'text': 'Our data constitute a valuable resource that will facilitate detailed analysis of the role of 5hmC in T-cell development and differentiation.',\n",
       "     'offsetInBeginSection': 786,\n",
       "     'offsetInEndSection': 927,\n",
       "     'beginSection': 'abstract',\n",
       "     'endSection': 'abstract'},\n",
       "    {'document': 'http://www.ncbi.nlm.nih.gov/pubmed/24615693',\n",
       "     'text': 'In summary, we have established the temporal expression of TET proteins and the dynamic level of 5hmC during OL development and demonstrate that all three TET members are necessary for OL differentiation.',\n",
       "     'offsetInBeginSection': 944,\n",
       "     'offsetInEndSection': 1148,\n",
       "     'beginSection': 'abstract',\n",
       "     'endSection': 'abstract'},\n",
       "    {'document': 'http://www.ncbi.nlm.nih.gov/pubmed/26363184',\n",
       "     'text': '5hmC gains in regulatory promoter and enhancer regions as well as in gene bodies were strongly associated with activated but not repressed genes, indicating a potential regulatory role for DNA hydroxymethylation in chondrogenic gene expression.',\n",
       "     'offsetInBeginSection': 1525,\n",
       "     'offsetInEndSection': 1769,\n",
       "     'beginSection': 'abstract',\n",
       "     'endSection': 'abstract'}]},\n",
       "  {'id': '5a74a4be0384be9551000004',\n",
       "   'body': 'Are there RNAi approaches considered for the treatment of kidney injury?',\n",
       "   'documents': ['http://www.ncbi.nlm.nih.gov/pubmed/27009268',\n",
       "    'http://www.ncbi.nlm.nih.gov/pubmed/23035592',\n",
       "    'http://www.ncbi.nlm.nih.gov/pubmed/35592618',\n",
       "    'http://www.ncbi.nlm.nih.gov/pubmed/20588055',\n",
       "    'http://www.ncbi.nlm.nih.gov/pubmed/27628845',\n",
       "    'http://www.ncbi.nlm.nih.gov/pubmed/17310364',\n",
       "    'http://www.ncbi.nlm.nih.gov/pubmed/27253415',\n",
       "    'http://www.ncbi.nlm.nih.gov/pubmed/17468470',\n",
       "    'http://www.ncbi.nlm.nih.gov/pubmed/35994990',\n",
       "    'http://www.ncbi.nlm.nih.gov/pubmed/19695053'],\n",
       "   'snippets': [{'document': 'http://www.ncbi.nlm.nih.gov/pubmed/28389707',\n",
       "     'text': 'p53, caspase 2, PKN3, β2-adrenergic receptor, mutated KRAS, microRNAs); (ii) therapeutic conditions, including ophthalmic diseases, kidney injury, amyloidosis, pancreatic cancer, viral hepatitis; and (iii) routes of administration (ocular, intravenous, subcutaneous, intratumoral).',\n",
       "     'offsetInBeginSection': 1020,\n",
       "     'offsetInEndSection': 1302,\n",
       "     'beginSection': 'abstract',\n",
       "     'endSection': 'abstract'},\n",
       "    {'document': 'http://www.ncbi.nlm.nih.gov/pubmed/23968852',\n",
       "     'text': 'As one of the effective RNA interference (RNAi) approaches, short hairpin RNA (shRNA) has been proved to be promising in the field of gene therapy.',\n",
       "     'offsetInBeginSection': 167,\n",
       "     'offsetInEndSection': 314,\n",
       "     'beginSection': 'abstract',\n",
       "     'endSection': 'abstract'},\n",
       "    {'document': 'http://www.ncbi.nlm.nih.gov/pubmed/20588055',\n",
       "     'text': 'Both pathologic and biochemical analyses show that knockdown of CypD by RNAi protects rat kidney from I/R-induced renal injury.',\n",
       "     'offsetInBeginSection': 903,\n",
       "     'offsetInEndSection': 1030,\n",
       "     'beginSection': 'abstract',\n",
       "     'endSection': 'abstract'},\n",
       "    {'document': 'http://www.ncbi.nlm.nih.gov/pubmed/27867451',\n",
       "     'text': 'Kidney in diabetic state is more sensitive to ischemic acute kidney injury (AKI).',\n",
       "     'offsetInBeginSection': 0,\n",
       "     'offsetInEndSection': 81,\n",
       "     'beginSection': 'abstract',\n",
       "     'endSection': 'abstract'},\n",
       "    {'document': 'http://www.ncbi.nlm.nih.gov/pubmed/27253415',\n",
       "     'text': 'In addition, blocking ER stress with 4-phenylbutyrate or RNAi partially counteracted COX-2 overexpression and autophagy induced by Cd, which suggested that ER stress was required for Cd-induced kidney autophagy.',\n",
       "     'offsetInBeginSection': 683,\n",
       "     'offsetInEndSection': 894,\n",
       "     'beginSection': 'abstract',\n",
       "     'endSection': 'abstract'},\n",
       "    {'document': 'http://www.ncbi.nlm.nih.gov/pubmed/23627598',\n",
       "     'text': 'Several therapies identified in animal models are now undergoing clinical trials in human AKI, including p53 RNAi and bone-marrow derived mesenchymal stem cells.',\n",
       "     'offsetInBeginSection': 1051,\n",
       "     'offsetInEndSection': 1212,\n",
       "     'beginSection': 'abstract',\n",
       "     'endSection': 'abstract'},\n",
       "    {'document': 'http://www.ncbi.nlm.nih.gov/pubmed/20588055',\n",
       "     'text': 'Infection of lentivirus expressing CypD RNAi sequence produces a significant reduction of CypD at both mRNA and protein levels.',\n",
       "     'offsetInBeginSection': 775,\n",
       "     'offsetInEndSection': 902,\n",
       "     'beginSection': 'abstract',\n",
       "     'endSection': 'abstract'},\n",
       "    {'document': 'http://www.ncbi.nlm.nih.gov/pubmed/23627598',\n",
       "     'text': 'INTRODUCTION Acute kidney injury (AKI) is a clinical syndrome characterized by the acute loss of kidney function.',\n",
       "     'offsetInBeginSection': 0,\n",
       "     'offsetInEndSection': 113,\n",
       "     'beginSection': 'abstract',\n",
       "     'endSection': 'abstract'},\n",
       "    {'document': 'http://www.ncbi.nlm.nih.gov/pubmed/20217562',\n",
       "     'text': 'Induction of RNAi through administration of siRNA has been successfully applied to the treatment of hepatitis, viral infections, and cancer.',\n",
       "     'offsetInBeginSection': 554,\n",
       "     'offsetInEndSection': 694,\n",
       "     'beginSection': 'abstract',\n",
       "     'endSection': 'abstract'},\n",
       "    {'document': 'http://www.ncbi.nlm.nih.gov/pubmed/27253415',\n",
       "     'text': 'Further studies showed that inhibition of COX-2 with celecoxib or RNA interference (RNAi) inhibited the Cd-induced autophagy in kidney cells.',\n",
       "     'offsetInBeginSection': 541,\n",
       "     'offsetInEndSection': 682,\n",
       "     'beginSection': 'abstract',\n",
       "     'endSection': 'abstract'}]},\n",
       "  {'id': '5a87e95461bb38fb2400000c',\n",
       "   'body': 'Which is the transcriptome of RNA polymerase III?',\n",
       "   'documents': ['http://www.ncbi.nlm.nih.gov/pubmed/17977614',\n",
       "    'http://www.ncbi.nlm.nih.gov/pubmed/20413673',\n",
       "    'http://www.ncbi.nlm.nih.gov/pubmed/21417954',\n",
       "    'http://www.ncbi.nlm.nih.gov/pubmed/34295356',\n",
       "    'http://www.ncbi.nlm.nih.gov/pubmed/28228471',\n",
       "    'http://www.ncbi.nlm.nih.gov/pubmed/2011518',\n",
       "    'http://www.ncbi.nlm.nih.gov/pubmed/24564208',\n",
       "    'http://www.ncbi.nlm.nih.gov/pubmed/23523657',\n",
       "    'http://www.ncbi.nlm.nih.gov/pubmed/3464970',\n",
       "    'http://www.ncbi.nlm.nih.gov/pubmed/27506977'],\n",
       "   'snippets': [{'document': 'http://www.ncbi.nlm.nih.gov/pubmed/15121834',\n",
       "     'text': 'The Pol III transcriptome includes all tRNA genes, previously identified non-tRNA Pol III genes, and SNR52, which encodes a small nucleolar RNA.',\n",
       "     'offsetInBeginSection': 214,\n",
       "     'offsetInEndSection': 358,\n",
       "     'beginSection': 'abstract',\n",
       "     'endSection': 'abstract'},\n",
       "    {'document': 'http://www.ncbi.nlm.nih.gov/pubmed/14634212',\n",
       "     'text': 'RNA polymerase III (Pol III) transcribes small untranslated RNAs, such as tRNAs.',\n",
       "     'offsetInBeginSection': 0,\n",
       "     'offsetInEndSection': 80,\n",
       "     'beginSection': 'abstract',\n",
       "     'endSection': 'abstract'},\n",
       "    {'document': 'http://www.ncbi.nlm.nih.gov/pubmed/21417954',\n",
       "     'text': 'The products of transcription by the multisubunit enzyme RNA polymerase III (Pol III), such as 5S rRNA, tRNAs, U6 snRNA, are important for cell growth, proliferation and differentiation.',\n",
       "     'offsetInBeginSection': 0,\n",
       "     'offsetInEndSection': 186,\n",
       "     'beginSection': 'abstract',\n",
       "     'endSection': 'abstract'},\n",
       "    {'document': 'http://www.ncbi.nlm.nih.gov/pubmed/20413673',\n",
       "     'text': 'Our view of the RNA polymerase III (Pol III) transcription machinery in mammalian cells arises mostly from studies of the RN5S (5S) gene, the Ad2 VAI gene, and the RNU6 (U6) gene, as paradigms for genes with type 1, 2, and 3 promoters.',\n",
       "     'offsetInBeginSection': 0,\n",
       "     'offsetInEndSection': 235,\n",
       "     'beginSection': 'abstract',\n",
       "     'endSection': 'abstract'},\n",
       "    {'document': 'http://www.ncbi.nlm.nih.gov/pubmed/24564208',\n",
       "     'text': 'A unique aspect of this work is the use of the RNA polymerase II (Pol II) inhibitor α-amanitin, which we used to define a set of RNA polymerase I and III (Pol I and Pol III) transcripts.',\n",
       "     'offsetInBeginSection': 570,\n",
       "     'offsetInEndSection': 757,\n",
       "     'beginSection': 'abstract',\n",
       "     'endSection': 'abstract'},\n",
       "    {'document': 'http://www.ncbi.nlm.nih.gov/pubmed/28228471',\n",
       "     'text': 'RNA polymerase III (Pol III) transcribes a limited set of short genes in eukaryotes producing abundant small RNAs, mostly tRNA.',\n",
       "     'offsetInBeginSection': 0,\n",
       "     'offsetInEndSection': 127,\n",
       "     'beginSection': 'abstract',\n",
       "     'endSection': 'abstract'},\n",
       "    {'document': 'http://www.ncbi.nlm.nih.gov/pubmed/27506977',\n",
       "     'text': 'RNA polymerase III is essential for the transcription of non-coding RNAs, including tRNAs.',\n",
       "     'offsetInBeginSection': 0,\n",
       "     'offsetInEndSection': 90,\n",
       "     'beginSection': 'abstract',\n",
       "     'endSection': 'abstract'},\n",
       "    {'document': 'http://www.ncbi.nlm.nih.gov/pubmed/16166643',\n",
       "     'text': 'The Pol II transcriptome was characterized in four thermosensitive, slow-growth mutants affected in different components of the RNA Pol III transcription machinery.',\n",
       "     'offsetInBeginSection': 239,\n",
       "     'offsetInEndSection': 403,\n",
       "     'beginSection': 'abstract',\n",
       "     'endSection': 'abstract'},\n",
       "    {'document': 'http://www.ncbi.nlm.nih.gov/pubmed/17977614',\n",
       "     'text': 'The role of RNA polymerase (Pol) III in eukaryotic transcription is commonly thought of as being restricted to a small set of highly expressed, housekeeping non-protein-coding (nc)RNA genes.',\n",
       "     'offsetInBeginSection': 0,\n",
       "     'offsetInEndSection': 190,\n",
       "     'beginSection': 'abstract',\n",
       "     'endSection': 'abstract'},\n",
       "    {'document': 'http://www.ncbi.nlm.nih.gov/pubmed/20418882',\n",
       "     'text': 'RNA polymerase (Pol) III transcribes many noncoding RNAs (for example, transfer RNAs) important for translational capacity and other functions.',\n",
       "     'offsetInBeginSection': 0,\n",
       "     'offsetInEndSection': 143,\n",
       "     'beginSection': 'abstract',\n",
       "     'endSection': 'abstract'}]},\n",
       "  {'id': '5a67a72fb750ff445500000a',\n",
       "   'body': 'Is propranolol used for treatment of infantile hemangioma?',\n",
       "   'documents': ['http://www.ncbi.nlm.nih.gov/pubmed/27068061',\n",
       "    'http://www.ncbi.nlm.nih.gov/pubmed/30713220',\n",
       "    'http://www.ncbi.nlm.nih.gov/pubmed/34216913',\n",
       "    'http://www.ncbi.nlm.nih.gov/pubmed/28302004',\n",
       "    'http://www.ncbi.nlm.nih.gov/pubmed/21730838',\n",
       "    'http://www.ncbi.nlm.nih.gov/pubmed/21837992',\n",
       "    'http://www.ncbi.nlm.nih.gov/pubmed/24352207',\n",
       "    'http://www.ncbi.nlm.nih.gov/pubmed/24346925',\n",
       "    'http://www.ncbi.nlm.nih.gov/pubmed/29952019',\n",
       "    'http://www.ncbi.nlm.nih.gov/pubmed/31303926'],\n",
       "   'snippets': [{'document': 'http://www.ncbi.nlm.nih.gov/pubmed/22299307',\n",
       "     'text': 'Propranolol is novel and safe medication for treatment of infantile hemangioma.',\n",
       "     'offsetInBeginSection': 751,\n",
       "     'offsetInEndSection': 830,\n",
       "     'beginSection': 'abstract',\n",
       "     'endSection': 'abstract'},\n",
       "    {'document': 'http://www.ncbi.nlm.nih.gov/pubmed/22503260',\n",
       "     'text': 'CONCLUSION Propranolol may be a promising therapeutic modality for infantile hemangioma.',\n",
       "     'offsetInBeginSection': 1384,\n",
       "     'offsetInEndSection': 1472,\n",
       "     'beginSection': 'abstract',\n",
       "     'endSection': 'abstract'},\n",
       "    {'document': 'http://www.ncbi.nlm.nih.gov/pubmed/24346925',\n",
       "     'text': 'Propranolol has been successfully used recently in a limited number of children with Infantile hemangioma.',\n",
       "     'offsetInBeginSection': 75,\n",
       "     'offsetInEndSection': 181,\n",
       "     'beginSection': 'abstract',\n",
       "     'endSection': 'abstract'},\n",
       "    {'document': 'http://www.ncbi.nlm.nih.gov/pubmed/24505868',\n",
       "     'text': 'Propranolol has been proposed for the treatment of infantile hemangiomas.',\n",
       "     'offsetInBeginSection': 171,\n",
       "     'offsetInEndSection': 244,\n",
       "     'beginSection': 'abstract',\n",
       "     'endSection': 'abstract'},\n",
       "    {'document': 'http://www.ncbi.nlm.nih.gov/pubmed/25535459',\n",
       "     'text': 'Since 2008, however, propranolol has been rapidly adopted as an effective pharmacological treatment for infantile hemangioma.',\n",
       "     'offsetInBeginSection': 273,\n",
       "     'offsetInEndSection': 398,\n",
       "     'beginSection': 'abstract',\n",
       "     'endSection': 'abstract'},\n",
       "    {'document': 'http://www.ncbi.nlm.nih.gov/pubmed/21385205',\n",
       "     'text': 'Propranolol has been used successfully in a limited number of children with infantile hemangiomas.',\n",
       "     'offsetInBeginSection': 0,\n",
       "     'offsetInEndSection': 98,\n",
       "     'beginSection': 'abstract',\n",
       "     'endSection': 'abstract'},\n",
       "    {'document': 'http://www.ncbi.nlm.nih.gov/pubmed/24346925',\n",
       "     'text': 'Infantile hemangioma is the most common vascular tumor in early childhood.',\n",
       "     'offsetInBeginSection': 0,\n",
       "     'offsetInEndSection': 74,\n",
       "     'beginSection': 'abstract',\n",
       "     'endSection': 'abstract'},\n",
       "    {'document': 'http://www.ncbi.nlm.nih.gov/pubmed/21402978',\n",
       "     'text': 'OBJECTIVE To evaluate the efficacy and adverse effects of oral propranolol for treatment of periocular infantile hemangioma.',\n",
       "     'offsetInBeginSection': 0,\n",
       "     'offsetInEndSection': 124,\n",
       "     'beginSection': 'abstract',\n",
       "     'endSection': 'abstract'},\n",
       "    {'document': 'http://www.ncbi.nlm.nih.gov/pubmed/26400030',\n",
       "     'text': 'Propranolol is the only Food and Drug Administration approved therapy for treatment of patients with this vascular anomaly and should be considered first-line therapy for genital infantile hemangiomas.',\n",
       "     'offsetInBeginSection': 1623,\n",
       "     'offsetInEndSection': 1824,\n",
       "     'beginSection': 'abstract',\n",
       "     'endSection': 'abstract'},\n",
       "    {'document': 'http://www.ncbi.nlm.nih.gov/pubmed/23519547',\n",
       "     'text': 'OBJECTIVE To evaluate the efficacy, adverse effects, and recurrence of oral propranolol for treatment of infantile hemangioma.',\n",
       "     'offsetInBeginSection': 0,\n",
       "     'offsetInEndSection': 126,\n",
       "     'beginSection': 'abstract',\n",
       "     'endSection': 'abstract'}]},\n",
       "  {'id': '58ede257eda5a57672000010',\n",
       "   'body': 'What is the genetic basis of the Delayed Sleep-Phase Syndrome (DSPS)?',\n",
       "   'documents': ['http://www.ncbi.nlm.nih.gov/pubmed/10036995',\n",
       "    'http://www.ncbi.nlm.nih.gov/pubmed/17964201',\n",
       "    'http://www.ncbi.nlm.nih.gov/pubmed/10875562',\n",
       "    'http://www.ncbi.nlm.nih.gov/pubmed/10721041',\n",
       "    'http://www.ncbi.nlm.nih.gov/pubmed/23250347',\n",
       "    'http://www.ncbi.nlm.nih.gov/pubmed/16295212',\n",
       "    'http://www.ncbi.nlm.nih.gov/pubmed/8255922',\n",
       "    'http://www.ncbi.nlm.nih.gov/pubmed/10459696',\n",
       "    'http://www.ncbi.nlm.nih.gov/pubmed/25395965',\n",
       "    'http://www.ncbi.nlm.nih.gov/pubmed/18725185'],\n",
       "   'snippets': [{'document': 'http://www.ncbi.nlm.nih.gov/pubmed/23250347',\n",
       "     'text': 'Delayed sleep-phase syndrome (DSPS) is characterized by delayed sleep onset against the desired clock time.',\n",
       "     'offsetInBeginSection': 0,\n",
       "     'offsetInEndSection': 107,\n",
       "     'beginSection': 'abstract',\n",
       "     'endSection': 'abstract'},\n",
       "    {'document': 'http://www.ncbi.nlm.nih.gov/pubmed/16295212',\n",
       "     'text': 'STUDY OBJECTIVE Delayed sleep phase syndrome (DSPS) is a circadian-rhythm sleep disorder characterized by abnormally late sleep and wake times.',\n",
       "     'offsetInBeginSection': 0,\n",
       "     'offsetInEndSection': 143,\n",
       "     'beginSection': 'abstract',\n",
       "     'endSection': 'abstract'},\n",
       "    {'document': 'http://www.ncbi.nlm.nih.gov/pubmed/11306557',\n",
       "     'text': 'Recent progress in biological clock research has facilitated genetic analysis of circadian rhythm sleep disorders, such as delayed sleep phase syndrome (DSPS) and non-24-h sleep-wake syndrome (N-24).',\n",
       "     'offsetInBeginSection': 0,\n",
       "     'offsetInEndSection': 199,\n",
       "     'beginSection': 'abstract',\n",
       "     'endSection': 'abstract'},\n",
       "    {'document': 'http://www.ncbi.nlm.nih.gov/pubmed/11763990',\n",
       "     'text': 'The prevalence of delayed sleep phase syndrome (DSPS) has been estimated to be quite low.',\n",
       "     'offsetInBeginSection': 0,\n",
       "     'offsetInEndSection': 89,\n",
       "     'beginSection': 'abstract',\n",
       "     'endSection': 'abstract'},\n",
       "    {'document': 'http://www.ncbi.nlm.nih.gov/pubmed/8255922',\n",
       "     'text': 'In human delayed sleep-phase syndrome (DSPS), sleep onset and wake times occur far later than normal.',\n",
       "     'offsetInBeginSection': 0,\n",
       "     'offsetInEndSection': 101,\n",
       "     'beginSection': 'abstract',\n",
       "     'endSection': 'abstract'},\n",
       "    {'document': 'http://www.ncbi.nlm.nih.gov/pubmed/16295212',\n",
       "     'text': 'Melatonin, taken in the evening, advances sleep and circadian phase in patients with DSPS.',\n",
       "     'offsetInBeginSection': 144,\n",
       "     'offsetInEndSection': 234,\n",
       "     'beginSection': 'abstract',\n",
       "     'endSection': 'abstract'},\n",
       "    {'document': 'http://www.ncbi.nlm.nih.gov/pubmed/10875562',\n",
       "     'text': 'OBJECTIVE Delayed sleep phase syndrome (DSPS) is a condition in which the patient is unable to reset or phase-advance his/her sleep timing properly after transient sleep delay and consequently shows persistent sleep phase delay.',\n",
       "     'offsetInBeginSection': 0,\n",
       "     'offsetInEndSection': 228,\n",
       "     'beginSection': 'abstract',\n",
       "     'endSection': 'abstract'},\n",
       "    {'document': 'http://www.ncbi.nlm.nih.gov/pubmed/18571740',\n",
       "     'text': 'The N408 allele was previously described to be much less frequent in individuals with Delayed Sleep-Phase Syndrome (DSPS), than in the general Japanese population, suggesting a protective function for the allele against the disease.',\n",
       "     'offsetInBeginSection': 373,\n",
       "     'offsetInEndSection': 605,\n",
       "     'beginSection': 'abstract',\n",
       "     'endSection': 'abstract'},\n",
       "    {'document': 'http://www.ncbi.nlm.nih.gov/pubmed/17964201',\n",
       "     'text': 'This paper presents a clinical review of delayed sleep phase syndrome (DSPS) and non-24-h sleep-wake syndrome (non-24).',\n",
       "     'offsetInBeginSection': 0,\n",
       "     'offsetInEndSection': 119,\n",
       "     'beginSection': 'abstract',\n",
       "     'endSection': 'abstract'},\n",
       "    {'document': 'http://www.ncbi.nlm.nih.gov/pubmed/14592284',\n",
       "     'text': 'OBJECTIVE The current study attempts to define the psychological features of patients with delayed sleep-phase syndrome (DSPS).',\n",
       "     'offsetInBeginSection': 0,\n",
       "     'offsetInEndSection': 127,\n",
       "     'beginSection': 'abstract',\n",
       "     'endSection': 'abstract'}]},\n",
       "  {'id': '5a6d0b2db750ff445500002d',\n",
       "   'body': 'Which factors drive replisome disassembly during DNA replication termination and mitosis?',\n",
       "   'documents': ['http://www.ncbi.nlm.nih.gov/pubmed/32490508',\n",
       "    'http://www.ncbi.nlm.nih.gov/pubmed/34445496',\n",
       "    'http://www.ncbi.nlm.nih.gov/pubmed/28368371',\n",
       "    'http://www.ncbi.nlm.nih.gov/pubmed/30849395',\n",
       "    'http://www.ncbi.nlm.nih.gov/pubmed/30979826',\n",
       "    'http://www.ncbi.nlm.nih.gov/pubmed/25342805',\n",
       "    'http://www.ncbi.nlm.nih.gov/pubmed/28235849',\n",
       "    'http://www.ncbi.nlm.nih.gov/pubmed/34700328',\n",
       "    'http://www.ncbi.nlm.nih.gov/pubmed/28537574',\n",
       "    'http://www.ncbi.nlm.nih.gov/pubmed/27086594'],\n",
       "   'snippets': [{'document': 'http://www.ncbi.nlm.nih.gov/pubmed/28235849',\n",
       "     'text': 'Our data identify CRL2Lrr1 as a master regulator of replisome disassembly during vertebrate DNA replication termination.',\n",
       "     'offsetInBeginSection': 803,\n",
       "     'offsetInEndSection': 923,\n",
       "     'beginSection': 'abstract',\n",
       "     'endSection': 'abstract'},\n",
       "    {'document': 'http://www.ncbi.nlm.nih.gov/pubmed/26322582',\n",
       "     'text': 'Termination involves local completion of DNA synthesis, decatenation of daughter molecules and replisome disassembly.',\n",
       "     'offsetInBeginSection': 98,\n",
       "     'offsetInEndSection': 215,\n",
       "     'beginSection': 'abstract',\n",
       "     'endSection': 'abstract'},\n",
       "    {'document': 'http://www.ncbi.nlm.nih.gov/pubmed/28368371',\n",
       "     'text': 'Replisome disassembly is the final step of DNA replication in eukaryotes, involving the ubiquitylation and CDC48-dependent dissolution of the CMG helicase (CDC45-MCM-GINS).',\n",
       "     'offsetInBeginSection': 0,\n",
       "     'offsetInEndSection': 172,\n",
       "     'beginSection': 'abstract',\n",
       "     'endSection': 'abstract'},\n",
       "    {'document': 'http://www.ncbi.nlm.nih.gov/pubmed/26255844',\n",
       "     'text': 'Disassembly of the Cdc45-MCM-GINS (CMG) DNA helicase, which unwinds the parental DNA duplex at eukaryotic replication forks, is the key regulated step during replication termination but is poorly understood.',\n",
       "     'offsetInBeginSection': 0,\n",
       "     'offsetInEndSection': 207,\n",
       "     'beginSection': 'abstract',\n",
       "     'endSection': 'abstract'},\n",
       "    {'document': 'http://www.ncbi.nlm.nih.gov/pubmed/15916609',\n",
       "     'text': 'Initiation of bacteriophage Mu DNA replication by transposition requires the disassembly of the transpososome that catalyses strand exchange and the assembly of a replisome promoted by PriA, PriB, PriC and DnaT proteins, which function in the host to restart stalled replication forks.',\n",
       "     'offsetInBeginSection': 0,\n",
       "     'offsetInEndSection': 285,\n",
       "     'beginSection': 'abstract',\n",
       "     'endSection': 'abstract'},\n",
       "    {'document': 'http://www.ncbi.nlm.nih.gov/pubmed/27086594',\n",
       "     'text': 'The DNA replication machinery (also known as the replisome) orchestrates genome amplification during S-phase of the cell cycle.',\n",
       "     'offsetInBeginSection': 113,\n",
       "     'offsetInEndSection': 240,\n",
       "     'beginSection': 'abstract',\n",
       "     'endSection': 'abstract'},\n",
       "    {'document': 'http://www.ncbi.nlm.nih.gov/pubmed/27086594',\n",
       "     'text': 'Any disturbance of the replisome leads to stalling of the DNA replication fork and firing of dormant replication origins, a process known as DNA replication stress.',\n",
       "     'offsetInBeginSection': 450,\n",
       "     'offsetInEndSection': 614,\n",
       "     'beginSection': 'abstract',\n",
       "     'endSection': 'abstract'},\n",
       "    {'document': 'http://www.ncbi.nlm.nih.gov/pubmed/27086594',\n",
       "     'text': 'By orchestrating the spatiotemporal turnover of the replisome, p97 plays an essential role in DNA replication.',\n",
       "     'offsetInBeginSection': 1228,\n",
       "     'offsetInEndSection': 1338,\n",
       "     'beginSection': 'abstract',\n",
       "     'endSection': 'abstract'},\n",
       "    {'document': 'http://www.ncbi.nlm.nih.gov/pubmed/25342805',\n",
       "     'text': 'Resolution of replication forks during termination of DNA replication is essential for accurate duplication of eukaryotic genomes.',\n",
       "     'offsetInBeginSection': 0,\n",
       "     'offsetInEndSection': 130,\n",
       "     'beginSection': 'abstract',\n",
       "     'endSection': 'abstract'},\n",
       "    {'document': 'http://www.ncbi.nlm.nih.gov/pubmed/25835602',\n",
       "     'text': 'The inhibition of terminating helicase disassembly resulted in a replication termination defect.',\n",
       "     'offsetInBeginSection': 798,\n",
       "     'offsetInEndSection': 894,\n",
       "     'beginSection': 'abstract',\n",
       "     'endSection': 'abstract'}]},\n",
       "  {'id': '5a75fec383b0d9ea6600000b',\n",
       "   'body': 'Can the CEP290 gene mutations be targeted by AAV-mediated gene therapy?',\n",
       "   'documents': ['http://www.ncbi.nlm.nih.gov/pubmed/28109959',\n",
       "    'http://www.ncbi.nlm.nih.gov/pubmed/30195768',\n",
       "    'http://www.ncbi.nlm.nih.gov/pubmed/28679290',\n",
       "    'http://www.ncbi.nlm.nih.gov/pubmed/30332642',\n",
       "    'http://www.ncbi.nlm.nih.gov/pubmed/15960597',\n",
       "    'http://www.ncbi.nlm.nih.gov/pubmed/21257638',\n",
       "    'http://www.ncbi.nlm.nih.gov/pubmed/10775597',\n",
       "    'http://www.ncbi.nlm.nih.gov/pubmed/36084637',\n",
       "    'http://www.ncbi.nlm.nih.gov/pubmed/16870238',\n",
       "    'http://www.ncbi.nlm.nih.gov/pubmed/26325627'],\n",
       "   'snippets': [{'document': 'http://www.ncbi.nlm.nih.gov/pubmed/28109959',\n",
       "     'text': 'The large size of the CEP290 gene prevents its use in adeno-associated virus (AAV)-mediated gene augmentation therapy.',\n",
       "     'offsetInBeginSection': 278,\n",
       "     'offsetInEndSection': 396,\n",
       "     'beginSection': 'abstract',\n",
       "     'endSection': 'abstract'},\n",
       "    {'document': 'http://www.ncbi.nlm.nih.gov/pubmed/28679290',\n",
       "     'text': 'A roadblock to developing a gene replacement strategy for CEP290 using conventional adeno-associated virus (AAV) vectors is its large size.',\n",
       "     'offsetInBeginSection': 419,\n",
       "     'offsetInEndSection': 558,\n",
       "     'beginSection': 'abstract',\n",
       "     'endSection': 'abstract'},\n",
       "    {'document': 'http://www.ncbi.nlm.nih.gov/pubmed/28109959',\n",
       "     'text': 'As the most common subtype of Leber congenital amaurosis (LCA), LCA10 is a severe retinal dystrophy caused by mutations in the CEP290 gene.',\n",
       "     'offsetInBeginSection': 0,\n",
       "     'offsetInEndSection': 139,\n",
       "     'beginSection': 'abstract',\n",
       "     'endSection': 'abstract'},\n",
       "    {'document': 'http://www.ncbi.nlm.nih.gov/pubmed/21257638',\n",
       "     'text': \"The gene coding for centrosomal protein 290 (CEP290), a large multidomain protein, is the most frequently mutated gene underlying the non-syndromic blinding disorder Leber's congenital amaurosis (LCA).\",\n",
       "     'offsetInBeginSection': 0,\n",
       "     'offsetInEndSection': 201,\n",
       "     'beginSection': 'abstract',\n",
       "     'endSection': 'abstract'},\n",
       "    {'document': 'http://www.ncbi.nlm.nih.gov/pubmed/21257638',\n",
       "     'text': 'An antisense oligonucleotide [Morpholino (MO)], designed to generate an altered cep290 splice product that models the most common LCA mutation, was used for gene knockdown.',\n",
       "     'offsetInBeginSection': 479,\n",
       "     'offsetInEndSection': 651,\n",
       "     'beginSection': 'abstract',\n",
       "     'endSection': 'abstract'},\n",
       "    {'document': 'http://www.ncbi.nlm.nih.gov/pubmed/21257638',\n",
       "     'text': 'These data reveal that a specific region of the CEP290 protein is sufficient to restore visual function and this region may be a viable gene therapy target for LCA patients with mutations in CEP290.',\n",
       "     'offsetInBeginSection': 1447,\n",
       "     'offsetInEndSection': 1645,\n",
       "     'beginSection': 'abstract',\n",
       "     'endSection': 'abstract'},\n",
       "    {'document': 'http://www.ncbi.nlm.nih.gov/pubmed/10775597',\n",
       "     'text': 'These studies should prove helpful in designing AAV gene targeting vectors for basic research or gene therapy.',\n",
       "     'offsetInBeginSection': 1282,\n",
       "     'offsetInEndSection': 1392,\n",
       "     'beginSection': 'abstract',\n",
       "     'endSection': 'abstract'},\n",
       "    {'document': 'http://www.ncbi.nlm.nih.gov/pubmed/10775597',\n",
       "     'text': 'Adeno-associated virus (AAV) vectors can transduce cells by several mechanisms, including (i) gene addition by chromosomal integration or episomal transgene expression or (ii) gene targeting by modification of homologous chromosomal sequences.',\n",
       "     'offsetInBeginSection': 0,\n",
       "     'offsetInEndSection': 243,\n",
       "     'beginSection': 'abstract',\n",
       "     'endSection': 'abstract'},\n",
       "    {'document': 'http://www.ncbi.nlm.nih.gov/pubmed/22142163',\n",
       "     'text': 'Autosomal recessive retinitis pigmentosa (RP), a heterogeneous group of degenerations of the retina, can be due to mutations in the MFRP (membrane-type frizzled-related protein) gene.',\n",
       "     'offsetInBeginSection': 0,\n",
       "     'offsetInEndSection': 183,\n",
       "     'beginSection': 'abstract',\n",
       "     'endSection': 'abstract'},\n",
       "    {'document': 'http://www.ncbi.nlm.nih.gov/pubmed/17724218',\n",
       "     'text': 'CONCLUSIONS RPE65 gene mutations represented a significant cause of LCA in the Italian population, whereas GUCY2D and CEP290 mutations had a lower frequency than that found in other reports.',\n",
       "     'offsetInBeginSection': 1321,\n",
       "     'offsetInEndSection': 1511,\n",
       "     'beginSection': 'abstract',\n",
       "     'endSection': 'abstract'}]},\n",
       "  {'id': '5a87ea1861bb38fb2400000d',\n",
       "   'body': 'What is a coligo?',\n",
       "   'documents': ['http://www.ncbi.nlm.nih.gov/pubmed/35016715',\n",
       "    'http://www.ncbi.nlm.nih.gov/pubmed/27593562',\n",
       "    'http://www.ncbi.nlm.nih.gov/pubmed/25764216',\n",
       "    'http://www.ncbi.nlm.nih.gov/pubmed/35853667',\n",
       "    'http://www.ncbi.nlm.nih.gov/pubmed/17127155',\n",
       "    'http://www.ncbi.nlm.nih.gov/pubmed/34740305',\n",
       "    'http://www.ncbi.nlm.nih.gov/pubmed/7057509',\n",
       "    'http://www.ncbi.nlm.nih.gov/pubmed/13688958',\n",
       "    'http://www.ncbi.nlm.nih.gov/pubmed/17838312',\n",
       "    'http://www.ncbi.nlm.nih.gov/pubmed/19939'],\n",
       "   'snippets': [{'document': 'http://www.ncbi.nlm.nih.gov/pubmed/24531370',\n",
       "     'text': 'A polymerase termination sequence embedded in the double-stranded region of a hairpin-encoding coligo stem can antagonize transcription.',\n",
       "     'offsetInBeginSection': 1125,\n",
       "     'offsetInEndSection': 1261,\n",
       "     'beginSection': 'abstract',\n",
       "     'endSection': 'abstract'},\n",
       "    {'document': 'http://www.ncbi.nlm.nih.gov/pubmed/25764216',\n",
       "     'text': 'A polymerase termination sequence embedded in the double-stranded region of a hairpin-encoding coligo stem can antagonize transcription.',\n",
       "     'offsetInBeginSection': 1125,\n",
       "     'offsetInEndSection': 1261,\n",
       "     'beginSection': 'abstract',\n",
       "     'endSection': 'abstract'},\n",
       "    {'document': 'http://www.ncbi.nlm.nih.gov/pubmed/27593562',\n",
       "     'text': 'Overall, these experiments support structure, rather than L-loop sequence, as the major determinant of coligo transcription initiation by Pol III.',\n",
       "     'offsetInBeginSection': 1169,\n",
       "     'offsetInEndSection': 1315,\n",
       "     'beginSection': 'abstract',\n",
       "     'endSection': 'abstract'},\n",
       "    {'document': 'http://www.ncbi.nlm.nih.gov/pubmed/27593562',\n",
       "     'text': 'Transcription of a series of coligos containing twelve contiguous randomized nucleotides placed at different locations within the coligo structure provided further evidence that the stem-loop junction structure is important for precise initiation.',\n",
       "     'offsetInBeginSection': 827,\n",
       "     'offsetInEndSection': 1074,\n",
       "     'beginSection': 'abstract',\n",
       "     'endSection': 'abstract'},\n",
       "    {'document': 'http://www.ncbi.nlm.nih.gov/pubmed/24531370',\n",
       "     'text': 'By using immunoprecipitated RNA polymerase III we now report corroborating evidence that this enzyme is the sole polymerase responsible for coligo transcription.',\n",
       "     'offsetInBeginSection': 450,\n",
       "     'offsetInEndSection': 611,\n",
       "     'beginSection': 'abstract',\n",
       "     'endSection': 'abstract'},\n",
       "    {'document': 'http://www.ncbi.nlm.nih.gov/pubmed/25764216',\n",
       "     'text': 'By using immunoprecipitated RNA polymerase III we now report corroborating evidence that this enzyme is the sole polymerase responsible for coligo transcription.',\n",
       "     'offsetInBeginSection': 450,\n",
       "     'offsetInEndSection': 611,\n",
       "     'beginSection': 'abstract',\n",
       "     'endSection': 'abstract'},\n",
       "    {'document': 'http://www.ncbi.nlm.nih.gov/pubmed/27593562',\n",
       "     'text': 'This observation allowed us to test the variable of coligo L-loop size separately from the variable of its sequence.',\n",
       "     'offsetInBeginSection': 348,\n",
       "     'offsetInEndSection': 464,\n",
       "     'beginSection': 'abstract',\n",
       "     'endSection': 'abstract'},\n",
       "    {'document': 'http://www.ncbi.nlm.nih.gov/pubmed/27593562',\n",
       "     'text': 'Here we randomized the 12-nucleotide larger loop (L-loop) of a well characterized coligo and found unexpectedly that in vitro transcription by FLAG-Pol III was not significantly affected.',\n",
       "     'offsetInBeginSection': 160,\n",
       "     'offsetInEndSection': 347,\n",
       "     'beginSection': 'abstract',\n",
       "     'endSection': 'abstract'},\n",
       "    {'document': 'http://www.ncbi.nlm.nih.gov/pubmed/24531370',\n",
       "     'text': 'Chemically synthesized DNA can carry small RNA sequence information but converting that information into small RNA is generally thought to require large double-stranded promoters in the context of plasmids, viruses and genes.',\n",
       "     'offsetInBeginSection': 0,\n",
       "     'offsetInEndSection': 225,\n",
       "     'beginSection': 'abstract',\n",
       "     'endSection': 'abstract'},\n",
       "    {'document': 'http://www.ncbi.nlm.nih.gov/pubmed/25764216',\n",
       "     'text': 'Chemically synthesized DNA can carry small RNA sequence information but converting that information into small RNA is generally thought to require large double-stranded promoters in the context of plasmids, viruses and genes.',\n",
       "     'offsetInBeginSection': 0,\n",
       "     'offsetInEndSection': 225,\n",
       "     'beginSection': 'abstract',\n",
       "     'endSection': 'abstract'}]},\n",
       "  {'id': '5a67b2f7b750ff445500000f',\n",
       "   'body': 'Which type of urinary incontinence is diagnosed with the Q tip test?',\n",
       "   'documents': ['http://www.ncbi.nlm.nih.gov/pubmed/3585870',\n",
       "    'http://www.ncbi.nlm.nih.gov/pubmed/18214136',\n",
       "    'http://www.ncbi.nlm.nih.gov/pubmed/33876905',\n",
       "    'http://www.ncbi.nlm.nih.gov/pubmed/8729187',\n",
       "    'http://www.ncbi.nlm.nih.gov/pubmed/20141914',\n",
       "    'http://www.ncbi.nlm.nih.gov/pubmed/3945436',\n",
       "    'http://www.ncbi.nlm.nih.gov/pubmed/5105346',\n",
       "    'http://www.ncbi.nlm.nih.gov/pubmed/2724231',\n",
       "    'http://www.ncbi.nlm.nih.gov/pubmed/31587701',\n",
       "    'http://www.ncbi.nlm.nih.gov/pubmed/3601284'],\n",
       "   'snippets': [{'document': 'http://www.ncbi.nlm.nih.gov/pubmed/3056562',\n",
       "     'text': 'Simple clinical tests for support of the urethrovesical junction, such as the Q tip test, are non-specific in patients with stress urinary incontinence.',\n",
       "     'offsetInBeginSection': 1366,\n",
       "     'offsetInEndSection': 1518,\n",
       "     'beginSection': 'abstract',\n",
       "     'endSection': 'abstract'},\n",
       "    {'document': 'http://www.ncbi.nlm.nih.gov/pubmed/18214136',\n",
       "     'text': 'It is recommended to classify the type of urinary incontinence: stress.',\n",
       "     'offsetInBeginSection': 223,\n",
       "     'offsetInEndSection': 294,\n",
       "     'beginSection': 'abstract',\n",
       "     'endSection': 'abstract'},\n",
       "    {'document': 'http://www.ncbi.nlm.nih.gov/pubmed/3945436',\n",
       "     'text': 'Thirty-two percent of patients with a positive Q-Tip test had either pure detrusor instability or pure sensory urgency as the diagnosis for urinary incontinence.',\n",
       "     'offsetInBeginSection': 258,\n",
       "     'offsetInEndSection': 419,\n",
       "     'beginSection': 'abstract',\n",
       "     'endSection': 'abstract'},\n",
       "    {'document': 'http://www.ncbi.nlm.nih.gov/pubmed/8729187',\n",
       "     'text': \"We evaluated the accuracy of the Q-tip test to measure uretrhovesical junction mobility in patient's histories of urinary incontinence, and pelvic relaxation.\",\n",
       "     'offsetInBeginSection': 0,\n",
       "     'offsetInEndSection': 158,\n",
       "     'beginSection': 'abstract',\n",
       "     'endSection': 'abstract'},\n",
       "    {'document': 'http://www.ncbi.nlm.nih.gov/pubmed/15195034',\n",
       "     'text': 'AIM UraTape is a new sling for female stress urinary incontinence (SUI) inserted via a transobturator percutaneous approach.',\n",
       "     'offsetInBeginSection': 0,\n",
       "     'offsetInEndSection': 124,\n",
       "     'beginSection': 'abstract',\n",
       "     'endSection': 'abstract'},\n",
       "    {'document': 'http://www.ncbi.nlm.nih.gov/pubmed/20141914',\n",
       "     'text': 'The cough stress test is simple, reliable and reproducible for the diagnosis of stress urinary incontinence (SUI).',\n",
       "     'offsetInBeginSection': 454,\n",
       "     'offsetInEndSection': 568,\n",
       "     'beginSection': 'abstract',\n",
       "     'endSection': 'abstract'},\n",
       "    {'document': 'http://www.ncbi.nlm.nih.gov/pubmed/3585870',\n",
       "     'text': 'More than one-third of the patients with bladder instability and almost one-half of the patients with pelvic relaxation and no urinary incontinence had a positive Q-tip test, for low test specificity.',\n",
       "     'offsetInBeginSection': 361,\n",
       "     'offsetInEndSection': 561,\n",
       "     'beginSection': 'abstract',\n",
       "     'endSection': 'abstract'},\n",
       "    {'document': 'http://www.ncbi.nlm.nih.gov/pubmed/3585870',\n",
       "     'text': 'The Q-tip test is a simple clinical tool for diagnosing pelvic relaxation, which at times leads to SUI.',\n",
       "     'offsetInBeginSection': 562,\n",
       "     'offsetInEndSection': 665,\n",
       "     'beginSection': 'abstract',\n",
       "     'endSection': 'abstract'},\n",
       "    {'document': 'http://www.ncbi.nlm.nih.gov/pubmed/18214136',\n",
       "     'text': 'In the case of prolapse associated with urinary incontinence, the Baden-Walker classification or the Pop-Q classification proposed by the ICS (International Continence Society) should be used.',\n",
       "     'offsetInBeginSection': 1379,\n",
       "     'offsetInEndSection': 1571,\n",
       "     'beginSection': 'abstract',\n",
       "     'endSection': 'abstract'},\n",
       "    {'document': 'http://www.ncbi.nlm.nih.gov/pubmed/20141914',\n",
       "     'text': 'CONCLUSION Clinical diagnosis and evaluation of female urinary incontinence is based on patient interview, cough stress test, clinical evaluation of uretral mobility (Q-Tip test), voiding diary, pad test and validated questionnaires for symptoms and quality of life.',\n",
       "     'offsetInBeginSection': 917,\n",
       "     'offsetInEndSection': 1183,\n",
       "     'beginSection': 'abstract',\n",
       "     'endSection': 'abstract'}]},\n",
       "  {'id': '58edf567eda5a57672000011',\n",
       "   'body': 'How many genes constitute the DosR regulon, controlled by the dormancy survival regulator (DosR) in Mycobacterium tuberculosis?',\n",
       "   'documents': ['http://www.ncbi.nlm.nih.gov/pubmed/22833514',\n",
       "    'http://www.ncbi.nlm.nih.gov/pubmed/22759512',\n",
       "    'http://www.ncbi.nlm.nih.gov/pubmed/33364506',\n",
       "    'http://www.ncbi.nlm.nih.gov/pubmed/22544737',\n",
       "    'http://www.ncbi.nlm.nih.gov/pubmed/19487478',\n",
       "    'http://www.ncbi.nlm.nih.gov/pubmed/19577518',\n",
       "    'http://www.ncbi.nlm.nih.gov/pubmed/20023019',\n",
       "    'http://www.ncbi.nlm.nih.gov/pubmed/21602344',\n",
       "    'http://www.ncbi.nlm.nih.gov/pubmed/20630871',\n",
       "    'http://www.ncbi.nlm.nih.gov/pubmed/19795912'],\n",
       "   'snippets': [{'document': 'http://www.ncbi.nlm.nih.gov/pubmed/21602344',\n",
       "     'text': 'In Mycobacterium tuberculosis, the dormancy regulon is well characterized and contains the dosR gene itself and dosS and dosT genes encoding DosR kinases, nitroreductases (acg; Rv3131), diacylglycerol acyltransferase (DGAT) (Rv3130c), and many universal stress proteins (USPs).',\n",
       "     'offsetInBeginSection': 121,\n",
       "     'offsetInEndSection': 398,\n",
       "     'beginSection': 'abstract',\n",
       "     'endSection': 'abstract'},\n",
       "    {'document': 'http://www.ncbi.nlm.nih.gov/pubmed/19795912',\n",
       "     'text': 'DosR (Dormancy Survival Regulator, Rv3133c) regulon genes are expressed under the conditions of latency/dormancy.',\n",
       "     'offsetInBeginSection': 606,\n",
       "     'offsetInEndSection': 719,\n",
       "     'beginSection': 'abstract',\n",
       "     'endSection': 'abstract'},\n",
       "    {'document': 'http://www.ncbi.nlm.nih.gov/pubmed/19487478',\n",
       "     'text': 'In Mycobacterium tuberculosis, the sensor kinases DosT and DosS activate the transcriptional regulator DosR, resulting in the induction of the DosR regulon, which is important for anaerobic survival and perhaps latent infection.',\n",
       "     'offsetInBeginSection': 0,\n",
       "     'offsetInEndSection': 228,\n",
       "     'beginSection': 'abstract',\n",
       "     'endSection': 'abstract'},\n",
       "    {'document': 'http://www.ncbi.nlm.nih.gov/pubmed/22833514',\n",
       "     'text': 'The dormancy survival regulator (DosR) regulon, composed of 48 co-regulated genes, is held as essential for Mtb persistence.',\n",
       "     'offsetInBeginSection': 314,\n",
       "     'offsetInEndSection': 438,\n",
       "     'beginSection': 'abstract',\n",
       "     'endSection': 'abstract'},\n",
       "    {'document': 'http://www.ncbi.nlm.nih.gov/pubmed/22544737',\n",
       "     'text': 'The dormancy survival (Dos) regulon, regulated by the response regulator DosR, appears to be essential for hypoxic survival in M. tuberculosis, but it is not known how the regulon promotes survival.',\n",
       "     'offsetInBeginSection': 139,\n",
       "     'offsetInEndSection': 337,\n",
       "     'beginSection': 'abstract',\n",
       "     'endSection': 'abstract'},\n",
       "    {'document': 'http://www.ncbi.nlm.nih.gov/pubmed/24939385',\n",
       "     'text': 'The latency global regulator DosR regulon of Mycobacterium tuberculosis, which is stimulated by hypoxia, comprises approximately fifty genes including ctpF (Rv1997), which encodes a putative alkali/alkaline earth ion transporter of the plasma membrane.',\n",
       "     'offsetInBeginSection': 0,\n",
       "     'offsetInEndSection': 252,\n",
       "     'beginSection': 'abstract',\n",
       "     'endSection': 'abstract'},\n",
       "    {'document': 'http://www.ncbi.nlm.nih.gov/pubmed/22719925',\n",
       "     'text': 'The dormancy survival regulon (DosR regulon) is chiefly responsible for encoding dormancy related functions of M. tuberculosis.',\n",
       "     'offsetInBeginSection': 247,\n",
       "     'offsetInEndSection': 374,\n",
       "     'beginSection': 'abstract',\n",
       "     'endSection': 'abstract'},\n",
       "    {'document': 'http://www.ncbi.nlm.nih.gov/pubmed/22759512',\n",
       "     'text': 'DosR/DevR of M. tuberculosis is a two component dormancy survival response regulator which induces the expression of 48 genes.',\n",
       "     'offsetInBeginSection': 100,\n",
       "     'offsetInEndSection': 226,\n",
       "     'beginSection': 'abstract',\n",
       "     'endSection': 'abstract'},\n",
       "    {'document': 'http://www.ncbi.nlm.nih.gov/pubmed/22833514',\n",
       "     'text': 'The DosR regulon is regulated by a two-component regulatory system consisting of two sensor kinases-DosS (Rv3132c) and DosT (Rv2027c), and a response regulator DosR (Rv3133c).',\n",
       "     'offsetInBeginSection': 439,\n",
       "     'offsetInEndSection': 614,\n",
       "     'beginSection': 'abstract',\n",
       "     'endSection': 'abstract'},\n",
       "    {'document': 'http://www.ncbi.nlm.nih.gov/pubmed/22833514',\n",
       "     'text': 'The DosR regulon enables the pathogen to persist during lengthy hypoxia.',\n",
       "     'offsetInBeginSection': 755,\n",
       "     'offsetInEndSection': 827,\n",
       "     'beginSection': 'abstract',\n",
       "     'endSection': 'abstract'}]},\n",
       "  {'id': '5a6d1143b750ff445500002e',\n",
       "   'body': 'List the partners of budding yeast Cdc48 that are important for disassembly of ubiquitylated CMG helicase at the end of chromosome replication',\n",
       "   'documents': ['http://www.ncbi.nlm.nih.gov/pubmed/28355556',\n",
       "    'http://www.ncbi.nlm.nih.gov/pubmed/31509741',\n",
       "    'http://www.ncbi.nlm.nih.gov/pubmed/32804080',\n",
       "    'http://www.ncbi.nlm.nih.gov/pubmed/25342810',\n",
       "    'http://www.ncbi.nlm.nih.gov/pubmed/26255844',\n",
       "    'http://www.ncbi.nlm.nih.gov/pubmed/34368118',\n",
       "    'http://www.ncbi.nlm.nih.gov/pubmed/35920641',\n",
       "    'http://www.ncbi.nlm.nih.gov/pubmed/34269473',\n",
       "    'http://www.ncbi.nlm.nih.gov/pubmed/33484638',\n",
       "    'http://www.ncbi.nlm.nih.gov/pubmed/30849395'],\n",
       "   'snippets': [{'document': 'http://www.ncbi.nlm.nih.gov/pubmed/28355556',\n",
       "     'text': 'Here, we employ a screen to identify partners of budding yeast Cdc48 that are important for disassembly of ubiquitylated CMG helicase at the end of chromosome replication.',\n",
       "     'offsetInBeginSection': 254,\n",
       "     'offsetInEndSection': 425,\n",
       "     'beginSection': 'abstract',\n",
       "     'endSection': 'abstract'},\n",
       "    {'document': 'http://www.ncbi.nlm.nih.gov/pubmed/26255844',\n",
       "     'text': 'In budding yeast, the F-box protein Dia2 drives ubiquitylation of the CMG helicase at the end of replication, leading to a disassembly pathway that requires the Cdc48 segregase.',\n",
       "     'offsetInBeginSection': 208,\n",
       "     'offsetInEndSection': 385,\n",
       "     'beginSection': 'abstract',\n",
       "     'endSection': 'abstract'},\n",
       "    {'document': 'http://www.ncbi.nlm.nih.gov/pubmed/28355556',\n",
       "     'text': 'Mutation of K29 abrogates in\\xa0vitro recruitment of Ufd1-Npl4-Cdc48 to the CMG helicase, supporting a model whereby Ufd1-Npl4 recruits Cdc48 to ubiquitylated CMG at the end of chromosome replication, thereby driving the disassembly reaction.',\n",
       "     'offsetInBeginSection': 752,\n",
       "     'offsetInEndSection': 992,\n",
       "     'beginSection': 'abstract',\n",
       "     'endSection': 'abstract'},\n",
       "    {'document': 'http://www.ncbi.nlm.nih.gov/pubmed/28355556',\n",
       "     'text': 'Disassembly of the Cdc45-MCM-GINS (CMG) DNA helicase is the key regulated step during DNA replication termination in eukaryotes, involving ubiquitylation of the Mcm7 helicase subunit, leading to a disassembly process that requires the Cdc48 \"segregase\".',\n",
       "     'offsetInBeginSection': 0,\n",
       "     'offsetInEndSection': 253,\n",
       "     'beginSection': 'abstract',\n",
       "     'endSection': 'abstract'},\n",
       "    {'document': 'http://www.ncbi.nlm.nih.gov/pubmed/28368371',\n",
       "     'text': 'Replisome disassembly is the final step of DNA replication in eukaryotes, involving the ubiquitylation and CDC48-dependent dissolution of the CMG helicase (CDC45-MCM-GINS).',\n",
       "     'offsetInBeginSection': 0,\n",
       "     'offsetInEndSection': 172,\n",
       "     'beginSection': 'abstract',\n",
       "     'endSection': 'abstract'},\n",
       "    {'document': 'http://www.ncbi.nlm.nih.gov/pubmed/25342810',\n",
       "     'text': 'The Cdc48/p97 segregase then associates with ubiquitylated CMG, leading rapidly to helicase disassembly.',\n",
       "     'offsetInBeginSection': 549,\n",
       "     'offsetInEndSection': 653,\n",
       "     'beginSection': 'abstract',\n",
       "     'endSection': 'abstract'},\n",
       "    {'document': 'http://www.ncbi.nlm.nih.gov/pubmed/25342810',\n",
       "     'text': 'Chromosome replication is initiated by a universal mechanism in eukaryotic cells, involving the assembly and activation at replication origins of the CMG (Cdc45-MCM-GINS) DNA helicase, which is essential for the progression of replication forks.',\n",
       "     'offsetInBeginSection': 0,\n",
       "     'offsetInEndSection': 245,\n",
       "     'beginSection': 'abstract',\n",
       "     'endSection': 'abstract'},\n",
       "    {'document': 'http://www.ncbi.nlm.nih.gov/pubmed/16103218',\n",
       "     'text': 'The budding yeast proteins Mrc1 and Tof1 associate with the putative MCM-Cdc45 helicase and limit progression of the replisome when nucleotides are depleted, and the checkpoint kinases Mec1 and Rad53 stabilize such stalled forks and prevent disassembly of the replisome.',\n",
       "     'offsetInBeginSection': 156,\n",
       "     'offsetInEndSection': 426,\n",
       "     'beginSection': 'abstract',\n",
       "     'endSection': 'abstract'},\n",
       "    {'document': 'http://www.ncbi.nlm.nih.gov/pubmed/26255844',\n",
       "     'text': 'Disassembly of the Cdc45-MCM-GINS (CMG) DNA helicase, which unwinds the parental DNA duplex at eukaryotic replication forks, is the key regulated step during replication termination but is poorly understood.',\n",
       "     'offsetInBeginSection': 0,\n",
       "     'offsetInEndSection': 207,\n",
       "     'beginSection': 'abstract',\n",
       "     'endSection': 'abstract'},\n",
       "    {'document': 'http://www.ncbi.nlm.nih.gov/pubmed/22718908',\n",
       "     'text': 'DNA polymerase epsilon (Pol ε) synthesizes the leading strands, following the CMG (Cdc45, Mcm2-7, and GINS [Go-Ichi-Nii-San]) helicase that translocates on the leading-strand template at eukaryotic replication forks.',\n",
       "     'offsetInBeginSection': 0,\n",
       "     'offsetInEndSection': 217,\n",
       "     'beginSection': 'abstract',\n",
       "     'endSection': 'abstract'}]},\n",
       "  {'id': '5a76039b83b0d9ea66000010',\n",
       "   'body': 'What are jakinibs?',\n",
       "   'documents': ['http://www.ncbi.nlm.nih.gov/pubmed/35168456',\n",
       "    'http://www.ncbi.nlm.nih.gov/pubmed/30527218',\n",
       "    'http://www.ncbi.nlm.nih.gov/pubmed/33990888',\n",
       "    'http://www.ncbi.nlm.nih.gov/pubmed/31433146',\n",
       "    'http://www.ncbi.nlm.nih.gov/pubmed/32432116',\n",
       "    'http://www.ncbi.nlm.nih.gov/pubmed/29104284',\n",
       "    'http://www.ncbi.nlm.nih.gov/pubmed/26994322',\n",
       "    'http://www.ncbi.nlm.nih.gov/pubmed/34180156',\n",
       "    'http://www.ncbi.nlm.nih.gov/pubmed/33292029',\n",
       "    'http://www.ncbi.nlm.nih.gov/pubmed/29862290'],\n",
       "   'snippets': [{'document': 'http://www.ncbi.nlm.nih.gov/pubmed/26994322',\n",
       "     'text': 'Recent progress in treating RA has been achieved with janus kinase (JAK) inhibitors (Jakinibs), an orally available disease-modifying anti-rheumatic drug targeting the intracellular kinase JAK and with similar efficacy to biologics.',\n",
       "     'offsetInBeginSection': 185,\n",
       "     'offsetInEndSection': 417,\n",
       "     'beginSection': 'abstract',\n",
       "     'endSection': 'abstract'},\n",
       "    {'document': 'http://www.ncbi.nlm.nih.gov/pubmed/29104284',\n",
       "     'text': 'Janus kinases (JAKs) are essential signalling mediators downstream of many pro-inflammatory cytokines, and small-molecule inhibitors of JAKs (jakinibs) have gained traction as safe and efficacious options for the treatment of inflammation-driven pathologies such as rheumatoid arthritis, psoriasis and inflammatory bowel disease.',\n",
       "     'offsetInBeginSection': 138,\n",
       "     'offsetInEndSection': 467,\n",
       "     'beginSection': 'abstract',\n",
       "     'endSection': 'abstract'},\n",
       "    {'document': 'http://www.ncbi.nlm.nih.gov/pubmed/28255960',\n",
       "     'text': 'The success of small-molecule JAK inhibitors (Jakinibs) in the treatment of rheumatologic disease demonstrates that intracellular signaling pathways can be targeted therapeutically to treat autoimmunity.',\n",
       "     'offsetInBeginSection': 537,\n",
       "     'offsetInEndSection': 740,\n",
       "     'beginSection': 'abstract',\n",
       "     'endSection': 'abstract'},\n",
       "    {'document': 'http://www.ncbi.nlm.nih.gov/pubmed/27821272',\n",
       "     'text': 'First generation JAK inhibitors (jakinibs) are used to treat rheumatologic disease, and second-generation jakinibs are being developed.',\n",
       "     'offsetInBeginSection': 748,\n",
       "     'offsetInEndSection': 883,\n",
       "     'beginSection': 'abstract',\n",
       "     'endSection': 'abstract'},\n",
       "    {'document': 'http://www.ncbi.nlm.nih.gov/pubmed/26633291',\n",
       "     'text': 'Pharmacological inhibition of JAKs blocks the actions of type I/II cytokines, and within the past 3 years therapeutic JAK inhibitors, or Jakinibs, have become available to rheumatologists.',\n",
       "     'offsetInBeginSection': 630,\n",
       "     'offsetInEndSection': 818,\n",
       "     'beginSection': 'abstract',\n",
       "     'endSection': 'abstract'},\n",
       "    {'document': 'http://www.ncbi.nlm.nih.gov/pubmed/26633291',\n",
       "     'text': 'Jakinibs have proven effective for the treatment of rheumatoid arthritis and other inflammatory diseases.',\n",
       "     'offsetInBeginSection': 819,\n",
       "     'offsetInEndSection': 924,\n",
       "     'beginSection': 'abstract',\n",
       "     'endSection': 'abstract'},\n",
       "    {'document': 'http://www.ncbi.nlm.nih.gov/pubmed/26994322',\n",
       "     'text': 'Jakinibs can differ substantially in their selectivity against JAKs; tofacitinib and baricitinib target multiple JAKs, whereas the most recently developed Jakinibs target only a single JAK.',\n",
       "     'offsetInBeginSection': 871,\n",
       "     'offsetInEndSection': 1060,\n",
       "     'beginSection': 'abstract',\n",
       "     'endSection': 'abstract'},\n",
       "    {'document': 'http://www.ncbi.nlm.nih.gov/pubmed/27821272',\n",
       "     'text': 'A subset of cytokines utilizes the Janus kinase-signal transducer of activators of transcription (JAK-STAT) pathway as a mode of signal transduction.',\n",
       "     'offsetInBeginSection': 598,\n",
       "     'offsetInEndSection': 747,\n",
       "     'beginSection': 'abstract',\n",
       "     'endSection': 'abstract'},\n",
       "    {'document': 'http://www.ncbi.nlm.nih.gov/pubmed/26994322',\n",
       "     'text': 'Given these promising findings, Jakinibs are expected to represent the next generation compounds for treating RA, and a number of Jakinibs are currently in clinical trials.',\n",
       "     'offsetInBeginSection': 698,\n",
       "     'offsetInEndSection': 870,\n",
       "     'beginSection': 'abstract',\n",
       "     'endSection': 'abstract'},\n",
       "    {'document': 'http://www.ncbi.nlm.nih.gov/pubmed/28323260',\n",
       "     'text': \"Kinases of the Jak ('Janus kinase') family and transcription factors (TFs) of the STAT ('signal transducer and activator of transcription') family constitute a rapid membrane-to-nucleus signaling module that affects every aspect of the mammalian immune system.\",\n",
       "     'offsetInBeginSection': 0,\n",
       "     'offsetInEndSection': 260,\n",
       "     'beginSection': 'abstract',\n",
       "     'endSection': 'abstract'}]},\n",
       "  {'id': '5a87efa961bb38fb2400000e',\n",
       "   'body': 'Are mutations in the nf1 gene associated with memory?',\n",
       "   'documents': ['http://www.ncbi.nlm.nih.gov/pubmed/19475561',\n",
       "    'http://www.ncbi.nlm.nih.gov/pubmed/12707950',\n",
       "    'http://www.ncbi.nlm.nih.gov/pubmed/36215287',\n",
       "    'http://www.ncbi.nlm.nih.gov/pubmed/25788518',\n",
       "    'http://www.ncbi.nlm.nih.gov/pubmed/23047742',\n",
       "    'http://www.ncbi.nlm.nih.gov/pubmed/9042399',\n",
       "    'http://www.ncbi.nlm.nih.gov/pubmed/18484666',\n",
       "    'http://www.ncbi.nlm.nih.gov/pubmed/25834617',\n",
       "    'http://www.ncbi.nlm.nih.gov/pubmed/29257151',\n",
       "    'http://www.ncbi.nlm.nih.gov/pubmed/15897742'],\n",
       "   'snippets': [{'document': 'http://www.ncbi.nlm.nih.gov/pubmed/23047742',\n",
       "     'text': 'Neurofibromatosis type 1 (NF1) and its related disorders (NF1-Noonan syndrome (NFNS) and Watson syndrome (WS)) are caused by heterozygous mutations in the NF1 gene.',\n",
       "     'offsetInBeginSection': 0,\n",
       "     'offsetInEndSection': 164,\n",
       "     'beginSection': 'abstract',\n",
       "     'endSection': 'abstract'},\n",
       "    {'document': 'http://www.ncbi.nlm.nih.gov/pubmed/23047742',\n",
       "     'text': 'This study investigated whether PS is associated with specific types of NF1 gene mutations in NF1, NFNS and WS.',\n",
       "     'offsetInBeginSection': 275,\n",
       "     'offsetInEndSection': 386,\n",
       "     'beginSection': 'abstract',\n",
       "     'endSection': 'abstract'},\n",
       "    {'document': 'http://www.ncbi.nlm.nih.gov/pubmed/22869071',\n",
       "     'text': 'Mutations in the NF1 gene, which encodes the  neurofibromin protein, have been identified as  the pathogenic gene of NF1.',\n",
       "     'offsetInBeginSection': 186,\n",
       "     'offsetInEndSection': 307,\n",
       "     'beginSection': 'abstract',\n",
       "     'endSection': 'abstract'},\n",
       "    {'document': 'http://www.ncbi.nlm.nih.gov/pubmed/8528106',\n",
       "     'text': 'Neurofibromatosis type 1 (NF1) gene is a tumor suppressor gene, and the NF1 gene product, neurofibromin, can downregulate the N-ras gene.',\n",
       "     'offsetInBeginSection': 0,\n",
       "     'offsetInEndSection': 137,\n",
       "     'beginSection': 'abstract',\n",
       "     'endSection': 'abstract'},\n",
       "    {'document': 'http://www.ncbi.nlm.nih.gov/pubmed/23047742',\n",
       "     'text': 'Therefore, PS in NF1 and its related disorders is clearly associated with non-truncating mutations in the NF1 gene providing a new genotype-phenotype correlation.',\n",
       "     'offsetInBeginSection': 1283,\n",
       "     'offsetInEndSection': 1445,\n",
       "     'beginSection': 'abstract',\n",
       "     'endSection': 'abstract'},\n",
       "    {'document': 'http://www.ncbi.nlm.nih.gov/pubmed/25403449',\n",
       "     'text': 'As 25 % of sporadic PCCs harbor somatic neurofibromin 1 gene (NF1) mutations, NF1 has been established as the most recurrently mutated gene in PCCs.',\n",
       "     'offsetInBeginSection': 270,\n",
       "     'offsetInEndSection': 418,\n",
       "     'beginSection': 'abstract',\n",
       "     'endSection': 'abstract'},\n",
       "    {'document': 'http://www.ncbi.nlm.nih.gov/pubmed/12707950',\n",
       "     'text': 'However, it remains unclear whether Neurofibromatosis-Noonan syndrome (NFNS) represents a form of NF1 (with mutations in the NF1 neurofibromin gene) or a separate syndrome.',\n",
       "     'offsetInBeginSection': 591,\n",
       "     'offsetInEndSection': 763,\n",
       "     'beginSection': 'abstract',\n",
       "     'endSection': 'abstract'},\n",
       "    {'document': 'http://www.ncbi.nlm.nih.gov/pubmed/25788518',\n",
       "     'text': 'Collectively, this is the first demonstration that different germline NF1 gene mutations differentially dictate neurofibromin function in the brain.',\n",
       "     'offsetInBeginSection': 1212,\n",
       "     'offsetInEndSection': 1360,\n",
       "     'beginSection': 'abstract',\n",
       "     'endSection': 'abstract'},\n",
       "    {'document': 'http://www.ncbi.nlm.nih.gov/pubmed/9639526',\n",
       "     'text': 'The NF1 tumor suppressor gene encodes neurofibromin, which regulates the growth of immature myeloid cells by accelerating guanosine triphosphate hydrolysis on Ras proteins.',\n",
       "     'offsetInBeginSection': 137,\n",
       "     'offsetInEndSection': 309,\n",
       "     'beginSection': 'abstract',\n",
       "     'endSection': 'abstract'},\n",
       "    {'document': 'http://www.ncbi.nlm.nih.gov/pubmed/19475561',\n",
       "     'text': 'We hypothesized that NF1 mutations disturb the expression of genes important for memory formation.',\n",
       "     'offsetInBeginSection': 326,\n",
       "     'offsetInEndSection': 424,\n",
       "     'beginSection': 'abstract',\n",
       "     'endSection': 'abstract'}]},\n",
       "  {'id': '5a68f2bab750ff4455000017',\n",
       "   'body': 'Is tretinoin effective for photoaging?',\n",
       "   'documents': ['http://www.ncbi.nlm.nih.gov/pubmed/9703125',\n",
       "    'http://www.ncbi.nlm.nih.gov/pubmed/35620028',\n",
       "    'http://www.ncbi.nlm.nih.gov/pubmed/29704456',\n",
       "    'http://www.ncbi.nlm.nih.gov/pubmed/9486677',\n",
       "    'http://www.ncbi.nlm.nih.gov/pubmed/30105991',\n",
       "    'http://www.ncbi.nlm.nih.gov/pubmed/3336176',\n",
       "    'http://www.ncbi.nlm.nih.gov/pubmed/9589209',\n",
       "    'http://www.ncbi.nlm.nih.gov/pubmed/8277035',\n",
       "    'http://www.ncbi.nlm.nih.gov/pubmed/7544967',\n",
       "    'http://www.ncbi.nlm.nih.gov/pubmed/11535421'],\n",
       "   'snippets': [{'document': 'http://www.ncbi.nlm.nih.gov/pubmed/9703125',\n",
       "     'text': 'Topical tretinoin is established as an effective treatment for photoaging.',\n",
       "     'offsetInBeginSection': 0,\n",
       "     'offsetInEndSection': 74,\n",
       "     'beginSection': 'abstract',\n",
       "     'endSection': 'abstract'},\n",
       "    {'document': 'http://www.ncbi.nlm.nih.gov/pubmed/9486677',\n",
       "     'text': 'BACKGROUND Topical tretinoin is effective treatment for both acne and photoaging.',\n",
       "     'offsetInBeginSection': 0,\n",
       "     'offsetInEndSection': 81,\n",
       "     'beginSection': 'abstract',\n",
       "     'endSection': 'abstract'},\n",
       "    {'document': 'http://www.ncbi.nlm.nih.gov/pubmed/10790815',\n",
       "     'text': '* A cream containing 0.05% tretinoin (Retinova((R)) is approved for treatment of sun-induced skin damage (\"photoaging\").',\n",
       "     'offsetInBeginSection': 0,\n",
       "     'offsetInEndSection': 120,\n",
       "     'beginSection': 'abstract',\n",
       "     'endSection': 'abstract'},\n",
       "    {'document': 'http://www.ncbi.nlm.nih.gov/pubmed/8435921',\n",
       "     'text': 'Tretinoin is the only pharmacologic compound shown to partially reverse some signs of photoaging.',\n",
       "     'offsetInBeginSection': 222,\n",
       "     'offsetInEndSection': 319,\n",
       "     'beginSection': 'abstract',\n",
       "     'endSection': 'abstract'},\n",
       "    {'document': 'http://www.ncbi.nlm.nih.gov/pubmed/2186790',\n",
       "     'text': 'Randomized, controlled trials have shown that topical tretinoin is effective in the treatment of photoaged skin.',\n",
       "     'offsetInBeginSection': 544,\n",
       "     'offsetInEndSection': 656,\n",
       "     'beginSection': 'abstract',\n",
       "     'endSection': 'abstract'},\n",
       "    {'document': 'http://www.ncbi.nlm.nih.gov/pubmed/3534016',\n",
       "     'text': \"From extensive clinical experience new applications for topical tretinoin came to light, ranging from the treatment of flat warts, lichen planus, and Darier's disease, and most recently in retarding photoaging.\",\n",
       "     'offsetInBeginSection': 1451,\n",
       "     'offsetInEndSection': 1661,\n",
       "     'beginSection': 'abstract',\n",
       "     'endSection': 'abstract'},\n",
       "    {'document': 'http://www.ncbi.nlm.nih.gov/pubmed/3534016',\n",
       "     'text': 'It was reported in 1969 that topical tretinoin was effective in acne vulgaris, principally by preventing and dislodging comedones.',\n",
       "     'offsetInBeginSection': 355,\n",
       "     'offsetInEndSection': 485,\n",
       "     'beginSection': 'abstract',\n",
       "     'endSection': 'abstract'},\n",
       "    {'document': 'http://www.ncbi.nlm.nih.gov/pubmed/25141855',\n",
       "     'text': 'MAJOR CONCLUSIONS Tretinoin can be used for photoaging treatment or combined treatment by different mechanisms.',\n",
       "     'offsetInBeginSection': 293,\n",
       "     'offsetInEndSection': 404,\n",
       "     'beginSection': 'abstract',\n",
       "     'endSection': 'abstract'},\n",
       "    {'document': 'http://www.ncbi.nlm.nih.gov/pubmed/25141855',\n",
       "     'text': 'The triple combination of tretinoin, hydroquinone and corticosteroids is still considered the gold standard for melasma.',\n",
       "     'offsetInBeginSection': 1266,\n",
       "     'offsetInEndSection': 1386,\n",
       "     'beginSection': 'abstract',\n",
       "     'endSection': 'abstract'},\n",
       "    {'document': 'http://www.ncbi.nlm.nih.gov/pubmed/28293257',\n",
       "     'text': 'Tretinoin has been shown to improve photoaged skin.',\n",
       "     'offsetInBeginSection': 12,\n",
       "     'offsetInEndSection': 63,\n",
       "     'beginSection': 'abstract',\n",
       "     'endSection': 'abstract'}]},\n",
       "  {'id': '58edfaf4eda5a57672000012',\n",
       "   'body': 'What is the function of the dormancy survival regulator (DosR) in Mycobacterium tuberculosis?',\n",
       "   'documents': ['http://www.ncbi.nlm.nih.gov/pubmed/36394437',\n",
       "    'http://www.ncbi.nlm.nih.gov/pubmed/22833514',\n",
       "    'http://www.ncbi.nlm.nih.gov/pubmed/22759512',\n",
       "    'http://www.ncbi.nlm.nih.gov/pubmed/12446625',\n",
       "    'http://www.ncbi.nlm.nih.gov/pubmed/22544737',\n",
       "    'http://www.ncbi.nlm.nih.gov/pubmed/19795912',\n",
       "    'http://www.ncbi.nlm.nih.gov/pubmed/33364506',\n",
       "    'http://www.ncbi.nlm.nih.gov/pubmed/20023019',\n",
       "    'http://www.ncbi.nlm.nih.gov/pubmed/19487478',\n",
       "    'http://www.ncbi.nlm.nih.gov/pubmed/29559631'],\n",
       "   'snippets': [{'document': 'http://www.ncbi.nlm.nih.gov/pubmed/19487478',\n",
       "     'text': 'In Mycobacterium tuberculosis, the sensor kinases DosT and DosS activate the transcriptional regulator DosR, resulting in the induction of the DosR regulon, which is important for anaerobic survival and perhaps latent infection.',\n",
       "     'offsetInBeginSection': 0,\n",
       "     'offsetInEndSection': 228,\n",
       "     'beginSection': 'abstract',\n",
       "     'endSection': 'abstract'},\n",
       "    {'document': 'http://www.ncbi.nlm.nih.gov/pubmed/22759512',\n",
       "     'text': 'DosR/DevR of M. tuberculosis is a two component dormancy survival response regulator which induces the expression of 48 genes.',\n",
       "     'offsetInBeginSection': 100,\n",
       "     'offsetInEndSection': 226,\n",
       "     'beginSection': 'abstract',\n",
       "     'endSection': 'abstract'},\n",
       "    {'document': 'http://www.ncbi.nlm.nih.gov/pubmed/22544737',\n",
       "     'text': 'The dormancy survival (Dos) regulon, regulated by the response regulator DosR, appears to be essential for hypoxic survival in M. tuberculosis, but it is not known how the regulon promotes survival.',\n",
       "     'offsetInBeginSection': 139,\n",
       "     'offsetInEndSection': 337,\n",
       "     'beginSection': 'abstract',\n",
       "     'endSection': 'abstract'},\n",
       "    {'document': 'http://www.ncbi.nlm.nih.gov/pubmed/28255560',\n",
       "     'text': 'Dormancy survival regulator (DosR) regulon-encoded proteins may have a role in the maintenance of LTBI.',\n",
       "     'offsetInBeginSection': 91,\n",
       "     'offsetInEndSection': 194,\n",
       "     'beginSection': 'abstract',\n",
       "     'endSection': 'abstract'},\n",
       "    {'document': 'http://www.ncbi.nlm.nih.gov/pubmed/22372912',\n",
       "     'text': 'DevR is a key regulator of the dormancy response in Mycobacterium tuberculosis (M.\\xa0tb).',\n",
       "     'offsetInBeginSection': 0,\n",
       "     'offsetInEndSection': 88,\n",
       "     'beginSection': 'abstract',\n",
       "     'endSection': 'abstract'},\n",
       "    {'document': 'http://www.ncbi.nlm.nih.gov/pubmed/22833514',\n",
       "     'text': 'The dormancy survival regulator (DosR) regulon, composed of 48 co-regulated genes, is held as essential for Mtb persistence.',\n",
       "     'offsetInBeginSection': 314,\n",
       "     'offsetInEndSection': 438,\n",
       "     'beginSection': 'abstract',\n",
       "     'endSection': 'abstract'},\n",
       "    {'document': 'http://www.ncbi.nlm.nih.gov/pubmed/19795912',\n",
       "     'text': 'DosR (Dormancy Survival Regulator, Rv3133c) regulon genes are expressed under the conditions of latency/dormancy.',\n",
       "     'offsetInBeginSection': 606,\n",
       "     'offsetInEndSection': 719,\n",
       "     'beginSection': 'abstract',\n",
       "     'endSection': 'abstract'},\n",
       "    {'document': 'http://www.ncbi.nlm.nih.gov/pubmed/12446625',\n",
       "     'text': 'Based on these two functions, dormancy survival and regulation, we named the Rv3133c gene dosR for dormancy survival regulator.',\n",
       "     'offsetInBeginSection': 1335,\n",
       "     'offsetInEndSection': 1462,\n",
       "     'beginSection': 'abstract',\n",
       "     'endSection': 'abstract'},\n",
       "    {'document': 'http://www.ncbi.nlm.nih.gov/pubmed/25535276',\n",
       "     'text': 'A binding motif similar to the dormancy survival regulator (DosR) binding site of M. tuberculosis has been identified in the upstream sequences of most genes in these loci.',\n",
       "     'offsetInBeginSection': 566,\n",
       "     'offsetInEndSection': 738,\n",
       "     'beginSection': 'abstract',\n",
       "     'endSection': 'abstract'},\n",
       "    {'document': 'http://www.ncbi.nlm.nih.gov/pubmed/12446625',\n",
       "     'text': 'Our results provide conclusive evidence that DosR is a key regulator in the oxygen starvation-induced mycobacterial dormancy response.',\n",
       "     'offsetInBeginSection': 1463,\n",
       "     'offsetInEndSection': 1597,\n",
       "     'beginSection': 'abstract',\n",
       "     'endSection': 'abstract'}]},\n",
       "  {'id': '5a6d217eb750ff4455000034',\n",
       "   'body': 'Are there ultraconserved genomic regions in the budding yeast?',\n",
       "   'documents': ['http://www.ncbi.nlm.nih.gov/pubmed/29028909',\n",
       "    'http://www.ncbi.nlm.nih.gov/pubmed/29186332',\n",
       "    'http://www.ncbi.nlm.nih.gov/pubmed/20436919',\n",
       "    'http://www.ncbi.nlm.nih.gov/pubmed/2118998',\n",
       "    'http://www.ncbi.nlm.nih.gov/pubmed/31602607',\n",
       "    'http://www.ncbi.nlm.nih.gov/pubmed/28348222',\n",
       "    'http://www.ncbi.nlm.nih.gov/pubmed/36325175',\n",
       "    'http://www.ncbi.nlm.nih.gov/pubmed/33452566',\n",
       "    'http://www.ncbi.nlm.nih.gov/pubmed/17072884',\n",
       "    'http://www.ncbi.nlm.nih.gov/pubmed/18945703'],\n",
       "   'snippets': [{'document': 'http://www.ncbi.nlm.nih.gov/pubmed/17785203',\n",
       "     'text': 'We report that a large fraction of genomic ultraconserved regions (UCRs) encode a particular set of ncRNAs whose expression is altered in human cancers.',\n",
       "     'offsetInBeginSection': 85,\n",
       "     'offsetInEndSection': 237,\n",
       "     'beginSection': 'abstract',\n",
       "     'endSection': 'abstract'},\n",
       "    {'document': 'http://www.ncbi.nlm.nih.gov/pubmed/23079418',\n",
       "     'text': 'The pattern of genome-wide antisense transcription in two species of budding yeast, Saccharomyces cerevisiae and S. paradoxus, is widely evolutionarily conserved: Antisense transcripts exhibit conserved expression levels and localization with respect to gene annotations.',\n",
       "     'offsetInBeginSection': 565,\n",
       "     'offsetInEndSection': 836,\n",
       "     'beginSection': 'abstract',\n",
       "     'endSection': 'abstract'},\n",
       "    {'document': 'http://www.ncbi.nlm.nih.gov/pubmed/29028909',\n",
       "     'text': 'Here, we present a systematic study of ultraconserved genomic regions in the budding yeast based on the publicly available genome sequences, in order to reveal their relationship with the adaptability or fitness advantages of the budding yeast.',\n",
       "     'offsetInBeginSection': 340,\n",
       "     'offsetInEndSection': 584,\n",
       "     'beginSection': 'abstract',\n",
       "     'endSection': 'abstract'},\n",
       "    {'document': 'http://www.ncbi.nlm.nih.gov/pubmed/15899965',\n",
       "     'text': 'Here, we used similar methods to identify ultraconserved genomic regions between the insect species Drosophila melanogaster and Drosophila pseudoobscura, as well as the more distantly related Anopheles gambiae.',\n",
       "     'offsetInBeginSection': 191,\n",
       "     'offsetInEndSection': 401,\n",
       "     'beginSection': 'abstract',\n",
       "     'endSection': 'abstract'},\n",
       "    {'document': 'http://www.ncbi.nlm.nih.gov/pubmed/23349633',\n",
       "     'text': 'Chromatin immunoprecipitation followed by sequencing (ChIP-Seq) reveals colocalization of four kinetochore proteins at novel, discrete, non-centromeric regions, especially when levels of the centromeric histone H3 variant, Cse4 (a.k.a.',\n",
       "     'offsetInBeginSection': 269,\n",
       "     'offsetInEndSection': 504,\n",
       "     'beginSection': 'abstract',\n",
       "     'endSection': 'abstract'},\n",
       "    {'document': 'http://www.ncbi.nlm.nih.gov/pubmed/17072884',\n",
       "     'text': 'We show that the budding yeast, Saccharomyces cerevisiae, contains 201 rTfs, which is one of the largest rTF numbers found in yeast species for which genome sequences are available.',\n",
       "     'offsetInBeginSection': 432,\n",
       "     'offsetInEndSection': 613,\n",
       "     'beginSection': 'abstract',\n",
       "     'endSection': 'abstract'},\n",
       "    {'document': 'http://www.ncbi.nlm.nih.gov/pubmed/17785203',\n",
       "     'text': 'UCRs are frequently located at fragile sites and genomic regions involved in cancers.',\n",
       "     'offsetInBeginSection': 339,\n",
       "     'offsetInEndSection': 424,\n",
       "     'beginSection': 'abstract',\n",
       "     'endSection': 'abstract'},\n",
       "    {'document': 'http://www.ncbi.nlm.nih.gov/pubmed/2118998',\n",
       "     'text': 'Two of the Drosophila SARs have autonomously replicating sequence activity in budding yeast, and three function in fission yeast, while four flanking non-SAR sequences are totally inactive in both.',\n",
       "     'offsetInBeginSection': 685,\n",
       "     'offsetInEndSection': 882,\n",
       "     'beginSection': 'abstract',\n",
       "     'endSection': 'abstract'},\n",
       "    {'document': 'http://www.ncbi.nlm.nih.gov/pubmed/15899965',\n",
       "     'text': 'Recently, we identified a large number of ultraconserved (uc) sequences in noncoding regions of human, mouse, and rat genomes that appear to be essential for vertebrate and amniote ontogeny.',\n",
       "     'offsetInBeginSection': 0,\n",
       "     'offsetInEndSection': 190,\n",
       "     'beginSection': 'abstract',\n",
       "     'endSection': 'abstract'},\n",
       "    {'document': 'http://www.ncbi.nlm.nih.gov/pubmed/15899965',\n",
       "     'text': 'As with vertebrates, ultraconserved sequences in insects appear to occur primarily in intergenic and intronic sequences, and at intron-exon junctions.',\n",
       "     'offsetInBeginSection': 402,\n",
       "     'offsetInEndSection': 552,\n",
       "     'beginSection': 'abstract',\n",
       "     'endSection': 'abstract'}]},\n",
       "  {'id': '5a7610af83b0d9ea6600001a',\n",
       "   'body': 'Which Janus kinase does decernotinib target?',\n",
       "   'documents': ['http://www.ncbi.nlm.nih.gov/pubmed/34640327',\n",
       "    'http://www.ncbi.nlm.nih.gov/pubmed/30806706',\n",
       "    'http://www.ncbi.nlm.nih.gov/pubmed/27253519',\n",
       "    'http://www.ncbi.nlm.nih.gov/pubmed/30955397',\n",
       "    'http://www.ncbi.nlm.nih.gov/pubmed/26230873',\n",
       "    'http://www.ncbi.nlm.nih.gov/pubmed/28790974',\n",
       "    'http://www.ncbi.nlm.nih.gov/pubmed/31578349',\n",
       "    'http://www.ncbi.nlm.nih.gov/pubmed/28158411',\n",
       "    'http://www.ncbi.nlm.nih.gov/pubmed/32635659',\n",
       "    'http://www.ncbi.nlm.nih.gov/pubmed/33912910'],\n",
       "   'snippets': [{'document': 'http://www.ncbi.nlm.nih.gov/pubmed/28765121',\n",
       "     'text': 'We summarise the development and recent application of Janus kinase (JAK) inhibitors in the treatment of IMIDs, including first-generation pan-JAK inhibitors (tofacitinib, baricitinib, ruxolitinib, peficitinib) and second-generation selective JAK inhibitors (decernotinib, filgotinib, upadacitinib).',\n",
       "     'offsetInBeginSection': 1255,\n",
       "     'offsetInEndSection': 1554,\n",
       "     'beginSection': 'abstract',\n",
       "     'endSection': 'abstract'},\n",
       "    {'document': 'http://www.ncbi.nlm.nih.gov/pubmed/27298338',\n",
       "     'text': '(R)-2-((2-(1H-pyrrolo[2,3-b]pyridin-3-yl)pyrimidin-4-yl)amino)-2-methyl-N-(2,2,2-trifluoroethyl)butanamide (VX-509, decernotinib) is an oral Janus kinase 3 inhibitor that has been studied in patients with rheumatoid arthritis.',\n",
       "     'offsetInBeginSection': 0,\n",
       "     'offsetInEndSection': 226,\n",
       "     'beginSection': 'abstract',\n",
       "     'endSection': 'abstract'},\n",
       "    {'document': 'http://www.ncbi.nlm.nih.gov/pubmed/27253519',\n",
       "     'text': 'Janus kinase (JAK) inhibitors are oral synthetic DMARDs that inhibit the non-receptor tyrosine kinase family Janus kinase.',\n",
       "     'offsetInBeginSection': 225,\n",
       "     'offsetInEndSection': 347,\n",
       "     'beginSection': 'abstract',\n",
       "     'endSection': 'abstract'},\n",
       "    {'document': 'http://www.ncbi.nlm.nih.gov/pubmed/28158411',\n",
       "     'text': 'Janus kinase inhibitors are orally delivered small molecules that target cytokine signalling by preventing phosphorylation of Janus kinases associated with the cytokine receptor.',\n",
       "     'offsetInBeginSection': 308,\n",
       "     'offsetInEndSection': 486,\n",
       "     'beginSection': 'abstract',\n",
       "     'endSection': 'abstract'},\n",
       "    {'document': 'http://www.ncbi.nlm.nih.gov/pubmed/26994322',\n",
       "     'text': 'Recent progress in treating RA has been achieved with janus kinase (JAK) inhibitors (Jakinibs), an orally available disease-modifying anti-rheumatic drug targeting the intracellular kinase JAK and with similar efficacy to biologics.',\n",
       "     'offsetInBeginSection': 185,\n",
       "     'offsetInEndSection': 417,\n",
       "     'beginSection': 'abstract',\n",
       "     'endSection': 'abstract'},\n",
       "    {'document': 'http://www.ncbi.nlm.nih.gov/pubmed/25762693',\n",
       "     'text': 'The aim of this study was to evaluate the potency and selectivity of the investigational JAK3 inhibitor VX-509 (decernotinib) [(R)-2-((2-(1H-pyrrolo[2,3-b]pyridin-3-yl)pyrimidin-4-yl)amino)-2-methyl-N-(2,2,2-trifluoroethyl)butanamide] against JAK3 kinase activity and inhibition of JAK3-mediated signaling in vitro and JAK3-dependent physiologic processes in vivo.',\n",
       "     'offsetInBeginSection': 506,\n",
       "     'offsetInEndSection': 870,\n",
       "     'beginSection': 'abstract',\n",
       "     'endSection': 'abstract'},\n",
       "    {'document': 'http://www.ncbi.nlm.nih.gov/pubmed/28158411',\n",
       "     'text': 'Tofacitinib, inhibiting signalling via all Janus kinase family members, was effective in phase 2 and 3 trials in moderate-severe ulcerative colitis.',\n",
       "     'offsetInBeginSection': 879,\n",
       "     'offsetInEndSection': 1027,\n",
       "     'beginSection': 'abstract',\n",
       "     'endSection': 'abstract'},\n",
       "    {'document': 'http://www.ncbi.nlm.nih.gov/pubmed/27253519',\n",
       "     'text': 'Results of three JAK inhibitors (baricitinib, decernotinib, and peficitinib) in phase III are consistent with that of tofacitinib.',\n",
       "     'offsetInBeginSection': 632,\n",
       "     'offsetInEndSection': 762,\n",
       "     'beginSection': 'abstract',\n",
       "     'endSection': 'abstract'},\n",
       "    {'document': 'http://www.ncbi.nlm.nih.gov/pubmed/23301855',\n",
       "     'text': 'The Janus kinase 2 mutant V617F occurs with high frequency in myeloproliferative neoplasms.',\n",
       "     'offsetInBeginSection': 0,\n",
       "     'offsetInEndSection': 91,\n",
       "     'beginSection': 'abstract',\n",
       "     'endSection': 'abstract'},\n",
       "    {'document': 'http://www.ncbi.nlm.nih.gov/pubmed/28158411',\n",
       "     'text': \"Filgotinib, a Janus kinase 1 selective inhibitor investigated in treatment of Crohn's disease, was superior to placebo.\",\n",
       "     'offsetInBeginSection': 1274,\n",
       "     'offsetInEndSection': 1393,\n",
       "     'beginSection': 'abstract',\n",
       "     'endSection': 'abstract'}]},\n",
       "  {'id': '5a87fd0561bb38fb24000010',\n",
       "   'body': 'Is autophagy modulated in a circadian fashion?',\n",
       "   'documents': ['http://www.ncbi.nlm.nih.gov/pubmed/33330516',\n",
       "    'http://www.ncbi.nlm.nih.gov/pubmed/20833224',\n",
       "    'http://www.ncbi.nlm.nih.gov/pubmed/28625127',\n",
       "    'http://www.ncbi.nlm.nih.gov/pubmed/27171500',\n",
       "    'http://www.ncbi.nlm.nih.gov/pubmed/34544997',\n",
       "    'http://www.ncbi.nlm.nih.gov/pubmed/36280090',\n",
       "    'http://www.ncbi.nlm.nih.gov/pubmed/23707790',\n",
       "    'http://www.ncbi.nlm.nih.gov/pubmed/27574892',\n",
       "    'http://www.ncbi.nlm.nih.gov/pubmed/35962716',\n",
       "    'http://www.ncbi.nlm.nih.gov/pubmed/18437053'],\n",
       "   'snippets': [{'document': 'http://www.ncbi.nlm.nih.gov/pubmed/19377293',\n",
       "     'text': 'The oncosuppressor protein p53 regulates autophagy in a dual fashion.',\n",
       "     'offsetInBeginSection': 0,\n",
       "     'offsetInEndSection': 69,\n",
       "     'beginSection': 'abstract',\n",
       "     'endSection': 'abstract'},\n",
       "    {'document': 'http://www.ncbi.nlm.nih.gov/pubmed/24328814',\n",
       "     'text': 'The human cortisol response is modulated by circadian phase.',\n",
       "     'offsetInBeginSection': 277,\n",
       "     'offsetInEndSection': 337,\n",
       "     'beginSection': 'abstract',\n",
       "     'endSection': 'abstract'},\n",
       "    {'document': 'http://www.ncbi.nlm.nih.gov/pubmed/19377293',\n",
       "     'text': 'The pool of cytoplasmic p53 protein represses autophagy in a transcription-independent fashion, while the pool of nuclear p53 stimulates autophagy through the transactivation of specific genes.',\n",
       "     'offsetInBeginSection': 70,\n",
       "     'offsetInEndSection': 263,\n",
       "     'beginSection': 'abstract',\n",
       "     'endSection': 'abstract'},\n",
       "    {'document': 'http://www.ncbi.nlm.nih.gov/pubmed/24751357',\n",
       "     'text': 'Nutrients are key modulators of autophagy.',\n",
       "     'offsetInBeginSection': 360,\n",
       "     'offsetInEndSection': 402,\n",
       "     'beginSection': 'abstract',\n",
       "     'endSection': 'abstract'},\n",
       "    {'document': 'http://www.ncbi.nlm.nih.gov/pubmed/19377293',\n",
       "     'text': 'Here we report the discovery that Sestrin2, a novel p53 target gene, is involved in the induction of autophagy.',\n",
       "     'offsetInBeginSection': 264,\n",
       "     'offsetInEndSection': 375,\n",
       "     'beginSection': 'abstract',\n",
       "     'endSection': 'abstract'},\n",
       "    {'document': 'http://www.ncbi.nlm.nih.gov/pubmed/24751357',\n",
       "     'text': 'Although autophagy is generally accepted to be regulated in a cell-autonomous fashion, recent studies suggest that nutrients can modulate autophagy in a systemic manner by inducing the secretion of hormones and neurotransmitters that regulate G protein-coupled receptors (GPCRs).',\n",
       "     'offsetInBeginSection': 403,\n",
       "     'offsetInEndSection': 682,\n",
       "     'beginSection': 'abstract',\n",
       "     'endSection': 'abstract'},\n",
       "    {'document': 'http://www.ncbi.nlm.nih.gov/pubmed/28625127',\n",
       "     'text': 'RESULTS Development of autophagy in WT cells involved an increased LC3-II-to-LC3-I ratio (microtubule-associated protein 1 light chain 3) and an overall increase in the level of LC3-II.',\n",
       "     'offsetInBeginSection': 957,\n",
       "     'offsetInEndSection': 1142,\n",
       "     'beginSection': 'abstract',\n",
       "     'endSection': 'abstract'},\n",
       "    {'document': 'http://www.ncbi.nlm.nih.gov/pubmed/19377293',\n",
       "     'text': 'Knockout of either Sestrin2 or Dram reduced autophagy elicited by nutrient depletion, rapamycin, lithium or thapsigargin.',\n",
       "     'offsetInBeginSection': 693,\n",
       "     'offsetInEndSection': 814,\n",
       "     'beginSection': 'abstract',\n",
       "     'endSection': 'abstract'},\n",
       "    {'document': 'http://www.ncbi.nlm.nih.gov/pubmed/26671266',\n",
       "     'text': 'Accordingly, reducing vitellogenesis increases life span via induction of autophagy and lysosomal lipolysis.',\n",
       "     'offsetInBeginSection': 523,\n",
       "     'offsetInEndSection': 631,\n",
       "     'beginSection': 'abstract',\n",
       "     'endSection': 'abstract'},\n",
       "    {'document': 'http://www.ncbi.nlm.nih.gov/pubmed/23750326',\n",
       "     'text': 'Autophagy is a cytoplasmic catabolic process that protects the cell against stressful conditions.',\n",
       "     'offsetInBeginSection': 0,\n",
       "     'offsetInEndSection': 97,\n",
       "     'beginSection': 'abstract',\n",
       "     'endSection': 'abstract'}]},\n",
       "  {'id': '5a68ff52b750ff445500001c',\n",
       "   'body': \"Which tendons are affected in the Dequervain's tenosynovitis?\",\n",
       "   'documents': ['http://www.ncbi.nlm.nih.gov/pubmed/871301',\n",
       "    'http://www.ncbi.nlm.nih.gov/pubmed/10595881',\n",
       "    'http://www.ncbi.nlm.nih.gov/pubmed/11831123',\n",
       "    'http://www.ncbi.nlm.nih.gov/pubmed/28765477',\n",
       "    'http://www.ncbi.nlm.nih.gov/pubmed/8842720',\n",
       "    'http://www.ncbi.nlm.nih.gov/pubmed/16941192',\n",
       "    'http://www.ncbi.nlm.nih.gov/pubmed/14507508',\n",
       "    'http://www.ncbi.nlm.nih.gov/pubmed/25510520',\n",
       "    'http://www.ncbi.nlm.nih.gov/pubmed/23396894',\n",
       "    'http://www.ncbi.nlm.nih.gov/pubmed/26007263'],\n",
       "   'snippets': [{'document': 'http://www.ncbi.nlm.nih.gov/pubmed/11831123',\n",
       "     'text': \"The syndromes are trigger finger, dorsal radiocarpal impingement syndrome (gymnast's wrist), DeQuervain's disease, tenosynovitis of other dorsal compartments, intersection syndrome (oarsman's wrist), flexor carpi ulnaris tendinitis, flexor carpi radialis tendonitis, humeral epicondylitis (tennis elbow), posterior impingement syndrome of the elbow, medial tension and lateral compression syndrome, stress fracture in the hand, wrist, forearm and elbow, and tunnel syndromes.\",\n",
       "     'offsetInBeginSection': 758,\n",
       "     'offsetInEndSection': 1233,\n",
       "     'beginSection': 'abstract',\n",
       "     'endSection': 'abstract'},\n",
       "    {'document': 'http://www.ncbi.nlm.nih.gov/pubmed/3488531',\n",
       "     'text': 'DeQuervain tenosynovitis, which involves the abductor pollicis longus and extensor pollicis brevis tendons, is much more common in women than men and is due to repetitive movements of the hand such as grasping and twisting.',\n",
       "     'offsetInBeginSection': 0,\n",
       "     'offsetInEndSection': 223,\n",
       "     'beginSection': 'abstract',\n",
       "     'endSection': 'abstract'},\n",
       "    {'document': 'http://www.ncbi.nlm.nih.gov/pubmed/28765477',\n",
       "     'text': \"DeQuervain's tenosynovitis is a common cause of radial-sided wrist pain.\",\n",
       "     'offsetInBeginSection': 0,\n",
       "     'offsetInEndSection': 72,\n",
       "     'beginSection': 'abstract',\n",
       "     'endSection': 'abstract'},\n",
       "    {'document': 'http://www.ncbi.nlm.nih.gov/pubmed/871301',\n",
       "     'text': 'Tenosynovitis of one or more flexor tendons of the hand (mean 3.1 tendons per patient) was noted in 55% of 100 patients with rheumatoid arthritis (RA) examined periodically during a mean period of 5 years.',\n",
       "     'offsetInBeginSection': 0,\n",
       "     'offsetInEndSection': 205,\n",
       "     'beginSection': 'abstract',\n",
       "     'endSection': 'abstract'},\n",
       "    {'document': 'http://www.ncbi.nlm.nih.gov/pubmed/26752490',\n",
       "     'text': \"AIM To report the presentation of complex regional pain syndrome-1 (CRPS-1) as deQuervain's stenosing tenosynovitis (DQST).\",\n",
       "     'offsetInBeginSection': 0,\n",
       "     'offsetInEndSection': 123,\n",
       "     'beginSection': 'abstract',\n",
       "     'endSection': 'abstract'},\n",
       "    {'document': 'http://www.ncbi.nlm.nih.gov/pubmed/10595881',\n",
       "     'text': \"Intersection syndrome is a condition that should be differentiated from DeQuervain's stenosing tenosynovitis, as there are many subtle differences in treatment and prognosis.\",\n",
       "     'offsetInBeginSection': 0,\n",
       "     'offsetInEndSection': 174,\n",
       "     'beginSection': 'abstract',\n",
       "     'endSection': 'abstract'},\n",
       "    {'document': 'http://www.ncbi.nlm.nih.gov/pubmed/11831123',\n",
       "     'text': 'They are often characterised by tendinitis, tenosynovitis, tunnel syndromes, or stress fractures.',\n",
       "     'offsetInBeginSection': 474,\n",
       "     'offsetInEndSection': 571,\n",
       "     'beginSection': 'abstract',\n",
       "     'endSection': 'abstract'},\n",
       "    {'document': 'http://www.ncbi.nlm.nih.gov/pubmed/4038032',\n",
       "     'text': \"This report describes a 27-year-old patient who developed subdermal atrophy following local hydrocortisone injection as a treatment for deQuervain's tenosynovitis.\",\n",
       "     'offsetInBeginSection': 163,\n",
       "     'offsetInEndSection': 326,\n",
       "     'beginSection': 'abstract',\n",
       "     'endSection': 'abstract'},\n",
       "    {'document': 'http://www.ncbi.nlm.nih.gov/pubmed/871301',\n",
       "     'text': \"Patients with flexor tendonitis (FT) had a significantly higher prevalence of rheumatoid nodules (56% vs 33%), carpal tunnel syndrome (47% vs 13%), wrist extensor tenosynovitis (47% vs 9%), and elbow epicondylitis (22% vs 7%) than patients without FT. Dupuytren's contracture, DeQuervain's tenovaginitis, flexor carpi radialis and ulnaris tendonitis, and Achilles tendonitis were found exclusively in patients with FT. A control group of 50 non-RA patients with FT had statistically fewer diseased tendons per patient (mean 1.5) and a different digital distribution, the thumb being affected more frequently (P less than 0.05) than in RA patients.\",\n",
       "     'offsetInBeginSection': 352,\n",
       "     'offsetInEndSection': 999,\n",
       "     'beginSection': 'abstract',\n",
       "     'endSection': 'abstract'},\n",
       "    {'document': 'http://www.ncbi.nlm.nih.gov/pubmed/26752490',\n",
       "     'text': 'We diagnosed the problem as CRPS-1with CDC as inflammatory manifestations of a mechanical tendinoses of all her 5 digital tendons caused by movement of the fingers and hand tethered by agonist (flexor)/ antagonist (extensor) muscles in co-contraction.',\n",
       "     'offsetInBeginSection': 317,\n",
       "     'offsetInEndSection': 568,\n",
       "     'beginSection': 'abstract',\n",
       "     'endSection': 'abstract'}]},\n",
       "  {'id': '58ee1cafeda5a57672000014',\n",
       "   'body': 'Are TAD boundaries in Drosophila depleted in highly-expressed genes?',\n",
       "   'documents': ['http://www.ncbi.nlm.nih.gov/pubmed/33563719',\n",
       "    'http://www.ncbi.nlm.nih.gov/pubmed/35354608',\n",
       "    'http://www.ncbi.nlm.nih.gov/pubmed/26518482',\n",
       "    'http://www.ncbi.nlm.nih.gov/pubmed/28388407',\n",
       "    'http://www.ncbi.nlm.nih.gov/pubmed/32060283',\n",
       "    'http://www.ncbi.nlm.nih.gov/pubmed/35090532',\n",
       "    'http://www.ncbi.nlm.nih.gov/pubmed/33545030',\n",
       "    'http://www.ncbi.nlm.nih.gov/pubmed/34605807',\n",
       "    'http://www.ncbi.nlm.nih.gov/pubmed/26748519',\n",
       "    'http://www.ncbi.nlm.nih.gov/pubmed/35914133'],\n",
       "   'snippets': [{'document': 'http://www.ncbi.nlm.nih.gov/pubmed/26518482',\n",
       "     'text': 'Contrary to previous studies, we find that regions between TADs (i.e., the inter-TADs and TAD boundaries) in Drosophila are only weakly enriched with the insulator protein dCTCF, while another insulator protein Su(Hw) is preferentially present within TADs.',\n",
       "     'offsetInBeginSection': 625,\n",
       "     'offsetInEndSection': 881,\n",
       "     'beginSection': 'abstract',\n",
       "     'endSection': 'abstract'},\n",
       "    {'document': 'http://www.ncbi.nlm.nih.gov/pubmed/25818644',\n",
       "     'text': 'Heat shock-induced inter-TAD interactions result in increased contacts among enhancers and promoters of silenced genes, which recruit Pc and form Pc bodies in the nucleolus.',\n",
       "     'offsetInBeginSection': 783,\n",
       "     'offsetInEndSection': 956,\n",
       "     'beginSection': 'abstract',\n",
       "     'endSection': 'abstract'},\n",
       "    {'document': 'http://www.ncbi.nlm.nih.gov/pubmed/27111891',\n",
       "     'text': 'Disruption of TAD boundaries results in aberrant gene expression by exposing genes to inappropriate regulatory elements.',\n",
       "     'offsetInBeginSection': 157,\n",
       "     'offsetInEndSection': 277,\n",
       "     'beginSection': 'abstract',\n",
       "     'endSection': 'abstract'},\n",
       "    {'document': 'http://www.ncbi.nlm.nih.gov/pubmed/28282436',\n",
       "     'text': 'The genome-wide H3K27me3 profile partitions into two states; very low H3K27me3 identifies Depleted (D) domains that contain housekeeping genes and their regulators such as the histone acetyltransferase-containing NSL complex, whereas domains containing moderate-to-high levels of H3K27me3 (Enriched or E domains) are associated with regulated genes, irrespective of whether they are active or inactive.',\n",
       "     'offsetInBeginSection': 490,\n",
       "     'offsetInEndSection': 892,\n",
       "     'beginSection': 'abstract',\n",
       "     'endSection': 'abstract'},\n",
       "    {'document': 'http://www.ncbi.nlm.nih.gov/pubmed/28408976',\n",
       "     'text': 'Recent studies of TAD boundaries disrupted in engineered mouse models show that boundary mutations can recapitulate human developmental disorders as a result of aberrant promoter-enhancer interactions in the affected TADs.',\n",
       "     'offsetInBeginSection': 552,\n",
       "     'offsetInEndSection': 774,\n",
       "     'beginSection': 'abstract',\n",
       "     'endSection': 'abstract'},\n",
       "    {'document': 'http://www.ncbi.nlm.nih.gov/pubmed/26431028',\n",
       "     'text': 'Ectopically expressed roX1 and roX2 RNAs target HAS on the X chromosome in trans and, via spatial proximity, induce spreading of the MSL complex in cis, leading to increased expression of neighboring autosomal genes.',\n",
       "     'offsetInBeginSection': 475,\n",
       "     'offsetInEndSection': 691,\n",
       "     'beginSection': 'abstract',\n",
       "     'endSection': 'abstract'},\n",
       "    {'document': 'http://www.ncbi.nlm.nih.gov/pubmed/28388407',\n",
       "     'text': 'However, the appearance of TAD boundaries is independent of transcription and requires the transcription factor Zelda for locus-specific TAD boundary insulation.',\n",
       "     'offsetInBeginSection': 754,\n",
       "     'offsetInEndSection': 915,\n",
       "     'beginSection': 'abstract',\n",
       "     'endSection': 'abstract'},\n",
       "    {'document': 'http://www.ncbi.nlm.nih.gov/pubmed/26748519',\n",
       "     'text': 'Interestingly, interactions between TADs are also highly cell-type-specific and often involve loci clustered around TAD boundaries.',\n",
       "     'offsetInBeginSection': 1404,\n",
       "     'offsetInEndSection': 1535,\n",
       "     'beginSection': 'abstract',\n",
       "     'endSection': 'abstract'},\n",
       "    {'document': 'http://www.ncbi.nlm.nih.gov/pubmed/25818644',\n",
       "     'text': 'The transcription of most genes is repressed after temperature stress in Drosophila.',\n",
       "     'offsetInBeginSection': 252,\n",
       "     'offsetInEndSection': 336,\n",
       "     'beginSection': 'abstract',\n",
       "     'endSection': 'abstract'},\n",
       "    {'document': 'http://www.ncbi.nlm.nih.gov/pubmed/28388407',\n",
       "     'text': 'Early expressed genes serve as nucleation sites for topologically associating domain (TAD) boundaries.',\n",
       "     'offsetInBeginSection': 450,\n",
       "     'offsetInEndSection': 552,\n",
       "     'beginSection': 'abstract',\n",
       "     'endSection': 'abstract'}]},\n",
       "  {'id': '5a6d23ccb750ff4455000035',\n",
       "   'body': 'Does TUC.338 inhibit colorectal cancer?',\n",
       "   'documents': ['http://www.ncbi.nlm.nih.gov/pubmed/27914101',\n",
       "    'http://www.ncbi.nlm.nih.gov/pubmed/24277750',\n",
       "    'http://www.ncbi.nlm.nih.gov/pubmed/32826710',\n",
       "    'http://www.ncbi.nlm.nih.gov/pubmed/8876274',\n",
       "    'http://www.ncbi.nlm.nih.gov/pubmed/23202799',\n",
       "    'http://www.ncbi.nlm.nih.gov/pubmed/26717784',\n",
       "    'http://www.ncbi.nlm.nih.gov/pubmed/17021256',\n",
       "    'http://www.ncbi.nlm.nih.gov/pubmed/22931599',\n",
       "    'http://www.ncbi.nlm.nih.gov/pubmed/21444751',\n",
       "    'http://www.ncbi.nlm.nih.gov/pubmed/26694925'],\n",
       "   'snippets': [{'document': 'http://www.ncbi.nlm.nih.gov/pubmed/27914101',\n",
       "     'text': 'Thus, these findings suggested that TUC.338 acts as a novel oncogene by targeting the TIMP-1 gene thus promoting colorectal cancer cell migration and invasion.',\n",
       "     'offsetInBeginSection': 1294,\n",
       "     'offsetInEndSection': 1453,\n",
       "     'beginSection': 'abstract',\n",
       "     'endSection': 'abstract'},\n",
       "    {'document': 'http://www.ncbi.nlm.nih.gov/pubmed/27914101',\n",
       "     'text': 'This study revealed that TUC.338 is significantly up-regulated in colorectal cancers (CRC) tissue and CRC cell lines, and the up-regulated TUC.338 is associated with lymph node metastasis.',\n",
       "     'offsetInBeginSection': 513,\n",
       "     'offsetInEndSection': 701,\n",
       "     'beginSection': 'abstract',\n",
       "     'endSection': 'abstract'},\n",
       "    {'document': 'http://www.ncbi.nlm.nih.gov/pubmed/27793031',\n",
       "     'text': 'In summary, miR-31 can inhibit autophagy in colorectal CAFs, affect colorectal cancer development, and increase the radiosensitivity of colorectal cancer cells co-cultured with CAF.',\n",
       "     'offsetInBeginSection': 894,\n",
       "     'offsetInEndSection': 1075,\n",
       "     'beginSection': 'abstract',\n",
       "     'endSection': 'abstract'},\n",
       "    {'document': 'http://www.ncbi.nlm.nih.gov/pubmed/24468585',\n",
       "     'text': 'These findings suggest that miR-20b, -21, and -130b, up-regulated in colorectal cancer, through inhibiting the expression of PTEN, result in B7-H1 over-expression in colorectal cancer.',\n",
       "     'offsetInBeginSection': 1199,\n",
       "     'offsetInEndSection': 1383,\n",
       "     'beginSection': 'abstract',\n",
       "     'endSection': 'abstract'},\n",
       "    {'document': 'http://www.ncbi.nlm.nih.gov/pubmed/27914101',\n",
       "     'text': 'Over-expression of TIMP-1 with migRI-TIMP-1-GFP inhibited CRC cell migration and invasion and down-regulates MMP9, resembling that of TUC.338-siRNA.',\n",
       "     'offsetInBeginSection': 1145,\n",
       "     'offsetInEndSection': 1293,\n",
       "     'beginSection': 'abstract',\n",
       "     'endSection': 'abstract'},\n",
       "    {'document': 'http://www.ncbi.nlm.nih.gov/pubmed/26617747',\n",
       "     'text': 'Taken together, these results showed that knockdown of CUL4B inhibit proliferation and promotes apoptosis of colorectal cancer cells through suppressing the Wnt/β-catenin signaling pathway.',\n",
       "     'offsetInBeginSection': 850,\n",
       "     'offsetInEndSection': 1040,\n",
       "     'beginSection': 'abstract',\n",
       "     'endSection': 'abstract'},\n",
       "    {'document': 'http://www.ncbi.nlm.nih.gov/pubmed/27914101',\n",
       "     'text': 'Until now, the role of TUC.338 in colorectal cancers remains undefined.',\n",
       "     'offsetInBeginSection': 441,\n",
       "     'offsetInEndSection': 512,\n",
       "     'beginSection': 'abstract',\n",
       "     'endSection': 'abstract'},\n",
       "    {'document': 'http://www.ncbi.nlm.nih.gov/pubmed/26617747',\n",
       "     'text': 'Therefore, CUL4B may represent a novel therapeutic target for colorectal cancer treatment.',\n",
       "     'offsetInBeginSection': 1041,\n",
       "     'offsetInEndSection': 1131,\n",
       "     'beginSection': 'abstract',\n",
       "     'endSection': 'abstract'},\n",
       "    {'document': 'http://www.ncbi.nlm.nih.gov/pubmed/26617747',\n",
       "     'text': 'Colorectal cancer is one of the leading causes of cancer related deaths worldwide.',\n",
       "     'offsetInBeginSection': 0,\n",
       "     'offsetInEndSection': 82,\n",
       "     'beginSection': 'abstract',\n",
       "     'endSection': 'abstract'},\n",
       "    {'document': 'http://www.ncbi.nlm.nih.gov/pubmed/27914101',\n",
       "     'text': 'The role of TUC.338 in cervical cancers was an oncogene in previous studies.',\n",
       "     'offsetInBeginSection': 364,\n",
       "     'offsetInEndSection': 440,\n",
       "     'beginSection': 'abstract',\n",
       "     'endSection': 'abstract'}]},\n",
       "  {'id': '5a76122383b0d9ea6600001c',\n",
       "   'body': 'What is oclacitinib?',\n",
       "   'documents': ['http://www.ncbi.nlm.nih.gov/pubmed/35586953',\n",
       "    'http://www.ncbi.nlm.nih.gov/pubmed/27847179',\n",
       "    'http://www.ncbi.nlm.nih.gov/pubmed/24495176',\n",
       "    'http://www.ncbi.nlm.nih.gov/pubmed/30417482',\n",
       "    'http://www.ncbi.nlm.nih.gov/pubmed/30724448',\n",
       "    'http://www.ncbi.nlm.nih.gov/pubmed/23829933',\n",
       "    'http://www.ncbi.nlm.nih.gov/pubmed/29926994',\n",
       "    'http://www.ncbi.nlm.nih.gov/pubmed/26660461',\n",
       "    'http://www.ncbi.nlm.nih.gov/pubmed/25496303',\n",
       "    'http://www.ncbi.nlm.nih.gov/pubmed/34747068'],\n",
       "   'snippets': [{'document': 'http://www.ncbi.nlm.nih.gov/pubmed/28513001',\n",
       "     'text': 'BACKGROUND Oclacitinib is a selective Janus kinase inhibitor for the treatment of canine allergic pruritus and atopic dermatitis in dogs.',\n",
       "     'offsetInBeginSection': 0,\n",
       "     'offsetInEndSection': 137,\n",
       "     'beginSection': 'abstract',\n",
       "     'endSection': 'abstract'},\n",
       "    {'document': 'http://www.ncbi.nlm.nih.gov/pubmed/25940959',\n",
       "     'text': 'BACKGROUND Oclacitinib is a Janus kinase inhibitor that decreases pruritus and lesions in allergic dogs.',\n",
       "     'offsetInBeginSection': 0,\n",
       "     'offsetInEndSection': 104,\n",
       "     'beginSection': 'abstract',\n",
       "     'endSection': 'abstract'},\n",
       "    {'document': 'http://www.ncbi.nlm.nih.gov/pubmed/27847179',\n",
       "     'text': 'The janus kinase-inhibitor oclacitinib is licensed for the control of pruritus associated with allergic skin diseases in dogs.',\n",
       "     'offsetInBeginSection': 0,\n",
       "     'offsetInEndSection': 126,\n",
       "     'beginSection': 'abstract',\n",
       "     'endSection': 'abstract'},\n",
       "    {'document': 'http://www.ncbi.nlm.nih.gov/pubmed/25109820',\n",
       "     'text': 'Data suggest that oclacitinib, a Janus kinase inhibitor, is a safe and effective alternative.',\n",
       "     'offsetInBeginSection': 119,\n",
       "     'offsetInEndSection': 212,\n",
       "     'beginSection': 'abstract',\n",
       "     'endSection': 'abstract'},\n",
       "    {'document': 'http://www.ncbi.nlm.nih.gov/pubmed/23829933',\n",
       "     'text': 'Oclacitinib selectively inhibits Janus kinase 1.',\n",
       "     'offsetInBeginSection': 186,\n",
       "     'offsetInEndSection': 234,\n",
       "     'beginSection': 'abstract',\n",
       "     'endSection': 'abstract'},\n",
       "    {'document': 'http://www.ncbi.nlm.nih.gov/pubmed/24581322',\n",
       "     'text': 'Preliminary study results suggest that oclacitinib, a selective Janus kinase inhibitor, could reduce pruritus and associated inflammatory skin lesions in dogs with AD.',\n",
       "     'offsetInBeginSection': 85,\n",
       "     'offsetInEndSection': 252,\n",
       "     'beginSection': 'abstract',\n",
       "     'endSection': 'abstract'},\n",
       "    {'document': 'http://www.ncbi.nlm.nih.gov/pubmed/25496303',\n",
       "     'text': 'Placebo-controlled studies suggest that oclacitinib is a safe and effective alternative therapy.',\n",
       "     'offsetInBeginSection': 132,\n",
       "     'offsetInEndSection': 228,\n",
       "     'beginSection': 'abstract',\n",
       "     'endSection': 'abstract'},\n",
       "    {'document': 'http://www.ncbi.nlm.nih.gov/pubmed/24495176',\n",
       "     'text': 'These results demonstrate that oclacitinib is a targeted therapy that selectively inhibits JAK1-dependent cytokines involved in allergy, inflammation, and pruritus and suggests these are the mechanisms by which oclacitinib effectively controls clinical signs associated with allergic skin disease in dogs.',\n",
       "     'offsetInBeginSection': 1129,\n",
       "     'offsetInEndSection': 1434,\n",
       "     'beginSection': 'abstract',\n",
       "     'endSection': 'abstract'},\n",
       "    {'document': 'http://www.ncbi.nlm.nih.gov/pubmed/25688708',\n",
       "     'text': 'BACKGROUND Oclacitinib is safe and effective for treating dogs with pruritus associated with allergic and atopic dermatitis, based on randomized clinical trials of up to 4\\xa0months duration.',\n",
       "     'offsetInBeginSection': 0,\n",
       "     'offsetInEndSection': 189,\n",
       "     'beginSection': 'abstract',\n",
       "     'endSection': 'abstract'},\n",
       "    {'document': 'http://www.ncbi.nlm.nih.gov/pubmed/28513001',\n",
       "     'text': 'OBJECTIVE Prospective study to evaluate the frequency of UTI and subclinical bacteriuria in dogs with allergic dermatitis receiving oclacitinib.',\n",
       "     'offsetInBeginSection': 261,\n",
       "     'offsetInEndSection': 405,\n",
       "     'beginSection': 'abstract',\n",
       "     'endSection': 'abstract'}]},\n",
       "  {'id': '5a882b5761bb38fb24000013',\n",
       "   'body': 'List the four most important interferonopathies',\n",
       "   'documents': ['http://www.ncbi.nlm.nih.gov/pubmed/26744186',\n",
       "    'http://www.ncbi.nlm.nih.gov/pubmed/33407657',\n",
       "    'http://www.ncbi.nlm.nih.gov/pubmed/6901517',\n",
       "    'http://www.ncbi.nlm.nih.gov/pubmed/1594159',\n",
       "    'http://www.ncbi.nlm.nih.gov/pubmed/1695929',\n",
       "    'http://www.ncbi.nlm.nih.gov/pubmed/30494908',\n",
       "    'http://www.ncbi.nlm.nih.gov/pubmed/27821552',\n",
       "    'http://www.ncbi.nlm.nih.gov/pubmed/8379157',\n",
       "    'http://www.ncbi.nlm.nih.gov/pubmed/19545783',\n",
       "    'http://www.ncbi.nlm.nih.gov/pubmed/14885578'],\n",
       "   'snippets': [{'document': 'http://www.ncbi.nlm.nih.gov/pubmed/27325888',\n",
       "     'text': 'These findings add USP18 deficiency to the list of genetic disorders collectively termed type I interferonopathies.',\n",
       "     'offsetInBeginSection': 886,\n",
       "     'offsetInEndSection': 1001,\n",
       "     'beginSection': 'abstract',\n",
       "     'endSection': 'abstract'},\n",
       "    {'document': 'http://www.ncbi.nlm.nih.gov/pubmed/26363997',\n",
       "     'text': 'To date, interferonopathies include Aicardi-Goutières syndrome, familial chilblain lupus, spondyenchondromatosis, PRoteasome-associated auto-inflammatory syndrome (PRAAS) and Singleton-Merten syndrome.',\n",
       "     'offsetInBeginSection': 145,\n",
       "     'offsetInEndSection': 347,\n",
       "     'beginSection': 'abstract',\n",
       "     'endSection': 'abstract'},\n",
       "    {'document': 'http://www.ncbi.nlm.nih.gov/pubmed/26363997',\n",
       "     'text': 'Type I interferonopathies are a group of Mendelian disorders characterized by a common physiopathology: the up-regulation of type I interferons.',\n",
       "     'offsetInBeginSection': 0,\n",
       "     'offsetInEndSection': 144,\n",
       "     'beginSection': 'abstract',\n",
       "     'endSection': 'abstract'},\n",
       "    {'document': 'http://www.ncbi.nlm.nih.gov/pubmed/27260006',\n",
       "     'text': 'Type I interferonopathies are a clinically heterogenic group of Mendelian diseases with a constitutive activation of this pathway that might present as atypical, severe, early onset rheumatic diseases.',\n",
       "     'offsetInBeginSection': 119,\n",
       "     'offsetInEndSection': 320,\n",
       "     'beginSection': 'abstract',\n",
       "     'endSection': 'abstract'},\n",
       "    {'document': 'http://www.ncbi.nlm.nih.gov/pubmed/27821552',\n",
       "     'text': 'As defined, the type I interferonopathies represent discrete examples of a disturbance of the homeostatic control of this system caused by Mendelian mutations.',\n",
       "     'offsetInBeginSection': 167,\n",
       "     'offsetInEndSection': 326,\n",
       "     'beginSection': 'abstract',\n",
       "     'endSection': 'abstract'},\n",
       "    {'document': 'http://www.ncbi.nlm.nih.gov/pubmed/25998914',\n",
       "     'text': 'Type I interferonopathies comprise a heterogenous group of genetically determined diseases that are characterized by inappropriate activation of type I IFN.',\n",
       "     'offsetInBeginSection': 288,\n",
       "     'offsetInEndSection': 444,\n",
       "     'beginSection': 'abstract',\n",
       "     'endSection': 'abstract'},\n",
       "    {'document': 'http://www.ncbi.nlm.nih.gov/pubmed/27325888',\n",
       "     'text': 'Ubiquitin-specific peptidase 18 (USP18) is a key negative regulator of type I IFN signaling.',\n",
       "     'offsetInBeginSection': 408,\n",
       "     'offsetInEndSection': 500,\n",
       "     'beginSection': 'abstract',\n",
       "     'endSection': 'abstract'},\n",
       "    {'document': 'http://www.ncbi.nlm.nih.gov/pubmed/27260006',\n",
       "     'text': 'As observed for IL1-β and autoinflammatory diseases, knowledge of the defects responsible for type I interferonopathies will likely promote the development of targeted therapy.',\n",
       "     'offsetInBeginSection': 591,\n",
       "     'offsetInEndSection': 768,\n",
       "     'beginSection': 'abstract',\n",
       "     'endSection': 'abstract'},\n",
       "    {'document': 'http://www.ncbi.nlm.nih.gov/pubmed/26744186',\n",
       "     'text': 'Genetic defects that result in an inadequate activation of the type I interferon system can cause a group of inflammatory disorders, which are collectively referred to as type I interferonopathies.',\n",
       "     'offsetInBeginSection': 235,\n",
       "     'offsetInEndSection': 432,\n",
       "     'beginSection': 'abstract',\n",
       "     'endSection': 'abstract'},\n",
       "    {'document': 'http://www.ncbi.nlm.nih.gov/pubmed/26397019',\n",
       "     'text': 'In fact, in the absence of viral particles chronic elevation of IFN I may be tremendously harmful for the CNS, as assumed for patients suffering from Aicardi-Goutières syndrome, Cree encephalitis or other type I interferonopathies.',\n",
       "     'offsetInBeginSection': 662,\n",
       "     'offsetInEndSection': 894,\n",
       "     'beginSection': 'abstract',\n",
       "     'endSection': 'abstract'}]},\n",
       "  {'id': '5a6f8baeb750ff4455000057',\n",
       "   'body': 'What is the purpose of the FRAX scale?',\n",
       "   'documents': ['http://www.ncbi.nlm.nih.gov/pubmed/2778774',\n",
       "    'http://www.ncbi.nlm.nih.gov/pubmed/1596526',\n",
       "    'http://www.ncbi.nlm.nih.gov/pubmed/32159477',\n",
       "    'http://www.ncbi.nlm.nih.gov/pubmed/1225243',\n",
       "    'http://www.ncbi.nlm.nih.gov/pubmed/11812186',\n",
       "    'http://www.ncbi.nlm.nih.gov/pubmed/30857732',\n",
       "    'http://www.ncbi.nlm.nih.gov/pubmed/1179223',\n",
       "    'http://www.ncbi.nlm.nih.gov/pubmed/258872',\n",
       "    'http://www.ncbi.nlm.nih.gov/pubmed/32696997',\n",
       "    'http://www.ncbi.nlm.nih.gov/pubmed/23374459'],\n",
       "   'snippets': [{'document': 'http://www.ncbi.nlm.nih.gov/pubmed/28013446',\n",
       "     'text': 'PURPOSE The purpose of this study is to evaluate the validity of the updated IOF (International Osteoporosis Foundation) One Minute Osteoporosis Risk Assessment Test, FRAX, SCORE as well as age alone to detect the risk of developing osteoporosis in postmenopausal Palestinian women.',\n",
       "     'offsetInBeginSection': 382,\n",
       "     'offsetInEndSection': 664,\n",
       "     'beginSection': 'abstract',\n",
       "     'endSection': 'abstract'},\n",
       "    {'document': 'http://www.ncbi.nlm.nih.gov/pubmed/25771422',\n",
       "     'text': 'PURPOSE The WHO fracture risk prediction tool (FRAX®) utilises clinical risk factors to estimate the probability of fracture over a 10-year period.',\n",
       "     'offsetInBeginSection': 0,\n",
       "     'offsetInEndSection': 148,\n",
       "     'beginSection': 'abstract',\n",
       "     'endSection': 'abstract'},\n",
       "    {'document': 'http://www.ncbi.nlm.nih.gov/pubmed/22492479',\n",
       "     'text': 'We used data from the Fracture Intervention Trial (FIT) to evaluate the interaction between FRAX score and treatment with alendronate.',\n",
       "     'offsetInBeginSection': 281,\n",
       "     'offsetInEndSection': 415,\n",
       "     'beginSection': 'abstract',\n",
       "     'endSection': 'abstract'},\n",
       "    {'document': 'http://www.ncbi.nlm.nih.gov/pubmed/28013446',\n",
       "     'text': 'In this study, tools like the IOF One Minute Test, Fracture Risk Assessment Tool (FRAX), and Simple Calculated Osteoporosis Risk Estimation (SCORE) were found to be valid for Palestinian women.',\n",
       "     'offsetInBeginSection': 114,\n",
       "     'offsetInEndSection': 307,\n",
       "     'beginSection': 'abstract',\n",
       "     'endSection': 'abstract'},\n",
       "    {'document': 'http://www.ncbi.nlm.nih.gov/pubmed/20959961',\n",
       "     'text': 'The purpose of this study is to develop a procedure for adjusting FRAX probability based upon the T-score difference between the LS and FN (termed offset).',\n",
       "     'offsetInBeginSection': 520,\n",
       "     'offsetInEndSection': 675,\n",
       "     'beginSection': 'abstract',\n",
       "     'endSection': 'abstract'},\n",
       "    {'document': 'http://www.ncbi.nlm.nih.gov/pubmed/21198706',\n",
       "     'text': 'The FRAX score, developed by the WHO, is a free web-based clinical scale assessing the 10-year fracture risk and need for lifestyle advice/reassurance, dual X-ray absorptiometry (DEXA) scanning or preventive treatment.',\n",
       "     'offsetInBeginSection': 195,\n",
       "     'offsetInEndSection': 413,\n",
       "     'beginSection': 'abstract',\n",
       "     'endSection': 'abstract'},\n",
       "    {'document': 'http://www.ncbi.nlm.nih.gov/pubmed/27163858',\n",
       "     'text': 'PURPOSE OF REVIEW In the 8 years since the launch of the FRAX tool, it has continued to grow with the addition of new country or territory models.',\n",
       "     'offsetInBeginSection': 0,\n",
       "     'offsetInEndSection': 146,\n",
       "     'beginSection': 'abstract',\n",
       "     'endSection': 'abstract'},\n",
       "    {'document': 'http://www.ncbi.nlm.nih.gov/pubmed/25771422',\n",
       "     'text': 'We aimed to investigate the association of falls risk and Australian-specific FRAX.',\n",
       "     'offsetInBeginSection': 348,\n",
       "     'offsetInEndSection': 431,\n",
       "     'beginSection': 'abstract',\n",
       "     'endSection': 'abstract'},\n",
       "    {'document': 'http://www.ncbi.nlm.nih.gov/pubmed/20959961',\n",
       "     'text': 'We describe a simple procedure for using lumbar spine BMD to enhance fracture risk assessment under the FRAX system.',\n",
       "     'offsetInBeginSection': 200,\n",
       "     'offsetInEndSection': 316,\n",
       "     'beginSection': 'abstract',\n",
       "     'endSection': 'abstract'},\n",
       "    {'document': 'http://www.ncbi.nlm.nih.gov/pubmed/22630782',\n",
       "     'text': 'We investigated the role of AMS scale combined with FRAX without bone mineral density (BMD), in identifying HIV men with bone fragility.',\n",
       "     'offsetInBeginSection': 208,\n",
       "     'offsetInEndSection': 344,\n",
       "     'beginSection': 'abstract',\n",
       "     'endSection': 'abstract'}]},\n",
       "  {'id': '58ee217feda5a57672000015',\n",
       "   'body': 'How are topologically associating domains (TAD) associated with replication timing?',\n",
       "   'documents': ['http://www.ncbi.nlm.nih.gov/pubmed/30595451',\n",
       "    'http://www.ncbi.nlm.nih.gov/pubmed/25995270',\n",
       "    'http://www.ncbi.nlm.nih.gov/pubmed/29357061',\n",
       "    'http://www.ncbi.nlm.nih.gov/pubmed/28348222',\n",
       "    'http://www.ncbi.nlm.nih.gov/pubmed/28977529',\n",
       "    'http://www.ncbi.nlm.nih.gov/pubmed/25409831',\n",
       "    'http://www.ncbi.nlm.nih.gov/pubmed/36104317',\n",
       "    'http://www.ncbi.nlm.nih.gov/pubmed/31011212',\n",
       "    'http://www.ncbi.nlm.nih.gov/pubmed/34311744',\n",
       "    'http://www.ncbi.nlm.nih.gov/pubmed/26906681'],\n",
       "   'snippets': [{'document': 'http://www.ncbi.nlm.nih.gov/pubmed/28348222',\n",
       "     'text': 'The genome of metazoan cells is organized into topologically associating domains (TADs) that have similar histone modifications, transcription level, and DNA replication timing.',\n",
       "     'offsetInBeginSection': 0,\n",
       "     'offsetInEndSection': 177,\n",
       "     'beginSection': 'abstract',\n",
       "     'endSection': 'abstract'},\n",
       "    {'document': 'http://www.ncbi.nlm.nih.gov/pubmed/25995270',\n",
       "     'text': 'Genome-wide chromatin conformation capture (Hi-C) has revealed sub-megabase topologically associating domains (TADs), which are the structural counterparts of replication domains.',\n",
       "     'offsetInBeginSection': 217,\n",
       "     'offsetInEndSection': 396,\n",
       "     'beginSection': 'abstract',\n",
       "     'endSection': 'abstract'},\n",
       "    {'document': 'http://www.ncbi.nlm.nih.gov/pubmed/26150425',\n",
       "     'text': 'Recent chromosome conformation capture (3C) derived techniques have revealed that topologically associating domain (TAD) is a pervasive element in chromatin three-dimensional (3D) organization.',\n",
       "     'offsetInBeginSection': 0,\n",
       "     'offsetInEndSection': 193,\n",
       "     'beginSection': 'abstract',\n",
       "     'endSection': 'abstract'},\n",
       "    {'document': 'http://www.ncbi.nlm.nih.gov/pubmed/28348222',\n",
       "     'text': 'To investigate the molecular basis of TAD formation, we performed Hi-C experiments on cells depleted for the Forkhead transcription factors, Fkh1 and Fkh2, previously associated with replication timing.',\n",
       "     'offsetInBeginSection': 799,\n",
       "     'offsetInEndSection': 1001,\n",
       "     'beginSection': 'abstract',\n",
       "     'endSection': 'abstract'},\n",
       "    {'document': 'http://www.ncbi.nlm.nih.gov/pubmed/26590169',\n",
       "     'text': 'A view has emerged of chromosomes as a string of structural units (topologically associating domains; TADs) whose boundaries persist through the cell cycle and development.',\n",
       "     'offsetInBeginSection': 226,\n",
       "     'offsetInEndSection': 398,\n",
       "     'beginSection': 'abstract',\n",
       "     'endSection': 'abstract'},\n",
       "    {'document': 'http://www.ncbi.nlm.nih.gov/pubmed/25409831',\n",
       "     'text': 'Recent Hi-C mapping has unveiled substructure within chromatin compartments called topologically associating domains (TADs) that are largely conserved in their positions between cell types and are similar in size to replication domains.',\n",
       "     'offsetInBeginSection': 720,\n",
       "     'offsetInEndSection': 956,\n",
       "     'beginSection': 'abstract',\n",
       "     'endSection': 'abstract'},\n",
       "    {'document': 'http://www.ncbi.nlm.nih.gov/pubmed/27312344',\n",
       "     'text': 'Lamina-associated domains (LADs) correlate with low gene expression and late replication timing.',\n",
       "     'offsetInBeginSection': 674,\n",
       "     'offsetInEndSection': 770,\n",
       "     'beginSection': 'abstract',\n",
       "     'endSection': 'abstract'},\n",
       "    {'document': 'http://www.ncbi.nlm.nih.gov/pubmed/26558551',\n",
       "     'text': 'The recent advent of chromosome conformation capture techniques has put into focus the subdivision of the genome into topologically associating domains (TADs).',\n",
       "     'offsetInBeginSection': 435,\n",
       "     'offsetInEndSection': 594,\n",
       "     'beginSection': 'abstract',\n",
       "     'endSection': 'abstract'},\n",
       "    {'document': 'http://www.ncbi.nlm.nih.gov/pubmed/25409831',\n",
       "     'text': 'Eukaryotic chromosomes replicate in a temporal order known as the replication-timing program.',\n",
       "     'offsetInBeginSection': 0,\n",
       "     'offsetInEndSection': 93,\n",
       "     'beginSection': 'abstract',\n",
       "     'endSection': 'abstract'},\n",
       "    {'document': 'http://www.ncbi.nlm.nih.gov/pubmed/27312344',\n",
       "     'text': 'High-resolution chromatin interaction maps have defined units of chromatin that are in spatial proximity, called topologically associated domains (TADs).',\n",
       "     'offsetInBeginSection': 230,\n",
       "     'offsetInEndSection': 383,\n",
       "     'beginSection': 'abstract',\n",
       "     'endSection': 'abstract'}]},\n",
       "  {'id': '5a6e2b1bb750ff445500003e',\n",
       "   'body': 'Which R/Bioconductor package has been developed for the analysis of psychiatric disease genes?',\n",
       "   'documents': ['http://www.ncbi.nlm.nih.gov/pubmed/28961763',\n",
       "    'http://www.ncbi.nlm.nih.gov/pubmed/29688259',\n",
       "    'http://www.ncbi.nlm.nih.gov/pubmed/21300702',\n",
       "    'http://www.ncbi.nlm.nih.gov/pubmed/21159174',\n",
       "    'http://www.ncbi.nlm.nih.gov/pubmed/21561920',\n",
       "    'http://www.ncbi.nlm.nih.gov/pubmed/24979058',\n",
       "    'http://www.ncbi.nlm.nih.gov/pubmed/30346488',\n",
       "    'http://www.ncbi.nlm.nih.gov/pubmed/17098774',\n",
       "    'http://www.ncbi.nlm.nih.gov/pubmed/35801905',\n",
       "    'http://www.ncbi.nlm.nih.gov/pubmed/31195976'],\n",
       "   'snippets': [{'document': 'http://www.ncbi.nlm.nih.gov/pubmed/26374744',\n",
       "     'text': 'RESULTS mAPKL is an open-source R/Bioconductor package that implements the mAP-KL hybrid gene selection method.',\n",
       "     'offsetInBeginSection': 633,\n",
       "     'offsetInEndSection': 744,\n",
       "     'beginSection': 'abstract',\n",
       "     'endSection': 'abstract'},\n",
       "    {'document': 'http://www.ncbi.nlm.nih.gov/pubmed/23297033',\n",
       "     'text': 'SUMMARY The R/Bioconductor package RamiGO is an R interface to AmiGO that enables visualization of Gene Ontology (GO) trees.',\n",
       "     'offsetInBeginSection': 0,\n",
       "     'offsetInEndSection': 124,\n",
       "     'beginSection': 'abstract',\n",
       "     'endSection': 'abstract'},\n",
       "    {'document': 'http://www.ncbi.nlm.nih.gov/pubmed/27239475',\n",
       "     'text': 'We developed here an open source Guitar R/Bioconductor package for sketching the transcriptomic view of RNA-related biological features represented by genome based coordinates.',\n",
       "     'offsetInBeginSection': 492,\n",
       "     'offsetInEndSection': 668,\n",
       "     'beginSection': 'abstract',\n",
       "     'endSection': 'abstract'},\n",
       "    {'document': 'http://www.ncbi.nlm.nih.gov/pubmed/28088185',\n",
       "     'text': 'RESULTS We have developed an open-source R/Bioconductor package (iGC).',\n",
       "     'offsetInBeginSection': 568,\n",
       "     'offsetInEndSection': 638,\n",
       "     'beginSection': 'abstract',\n",
       "     'endSection': 'abstract'},\n",
       "    {'document': 'http://www.ncbi.nlm.nih.gov/pubmed/26374744',\n",
       "     'text': 'Here we present an R/Bioconductor package that implements a hybrid gene selection method along with a bunch of functions to facilitate a thorough and convenient gene expression profiling analysis.',\n",
       "     'offsetInBeginSection': 434,\n",
       "     'offsetInEndSection': 630,\n",
       "     'beginSection': 'abstract',\n",
       "     'endSection': 'abstract'},\n",
       "    {'document': 'http://www.ncbi.nlm.nih.gov/pubmed/24979058',\n",
       "     'text': \"We have previously developed an R/Bioconductor package 'exomePeak' for detecting RNA methylation sites under a specific experimental condition or the identifying the differential RNA methylation sites in a case control study from MeRIP-Seq data.\",\n",
       "     'offsetInBeginSection': 488,\n",
       "     'offsetInEndSection': 733,\n",
       "     'beginSection': 'abstract',\n",
       "     'endSection': 'abstract'},\n",
       "    {'document': 'http://www.ncbi.nlm.nih.gov/pubmed/24222209',\n",
       "     'text': 'Here we introduce tRanslatome, a new R/Bioconductor package, which is a complete platform for the simultaneous pairwise analysis of transcriptome, translatome and proteome data.',\n",
       "     'offsetInBeginSection': 764,\n",
       "     'offsetInEndSection': 941,\n",
       "     'beginSection': 'abstract',\n",
       "     'endSection': 'abstract'},\n",
       "    {'document': 'http://www.ncbi.nlm.nih.gov/pubmed/24979058',\n",
       "     'text': 'We therein provide here a detailed and easy-to-use protocol of using exomePeak R/Bioconductor package along with other software programs for analysis of MeRIP-Seq data, which covers raw reads alignment, RNA methylation site detection, motif discovery, differential RNA methylation analysis, and functional analysis.',\n",
       "     'offsetInBeginSection': 983,\n",
       "     'offsetInEndSection': 1298,\n",
       "     'beginSection': 'abstract',\n",
       "     'endSection': 'abstract'},\n",
       "    {'document': 'http://www.ncbi.nlm.nih.gov/pubmed/28134831',\n",
       "     'text': 'We developed an R/Bioconductor package, namely SpidermiR, which offers an easy access to both GRNs and miRNAs to the end user, and integrates this information with differentially expressed genes obtained from The Cancer Genome Atlas.',\n",
       "     'offsetInBeginSection': 407,\n",
       "     'offsetInEndSection': 640,\n",
       "     'beginSection': 'abstract',\n",
       "     'endSection': 'abstract'},\n",
       "    {'document': 'http://www.ncbi.nlm.nih.gov/pubmed/27239475',\n",
       "     'text': \"We demonstrated the usage of Guitar package in analyzing posttranscriptional RNA modifications (5-methylcytosine and N6-methyladenosine) derived from high-throughput sequencing approaches (MeRIP-Seq and RNA BS-Seq) and show that RNA 5-methylcytosine (m(5)C) is enriched in 5'UTR.\",\n",
       "     'offsetInBeginSection': 901,\n",
       "     'offsetInEndSection': 1180,\n",
       "     'beginSection': 'abstract',\n",
       "     'endSection': 'abstract'}]},\n",
       "  {'id': '5a7626989e632bc066000001',\n",
       "   'body': 'Has ruxolitinib received FDA approval?',\n",
       "   'documents': ['http://www.ncbi.nlm.nih.gov/pubmed/32780250',\n",
       "    'http://www.ncbi.nlm.nih.gov/pubmed/23985569',\n",
       "    'http://www.ncbi.nlm.nih.gov/pubmed/32293938',\n",
       "    'http://www.ncbi.nlm.nih.gov/pubmed/35443042',\n",
       "    'http://www.ncbi.nlm.nih.gov/pubmed/34920340',\n",
       "    'http://www.ncbi.nlm.nih.gov/pubmed/29235894',\n",
       "    'http://www.ncbi.nlm.nih.gov/pubmed/33641874',\n",
       "    'http://www.ncbi.nlm.nih.gov/pubmed/24766055',\n",
       "    'http://www.ncbi.nlm.nih.gov/pubmed/27069082',\n",
       "    'http://www.ncbi.nlm.nih.gov/pubmed/30069628'],\n",
       "   'snippets': [{'document': 'http://www.ncbi.nlm.nih.gov/pubmed/23977767',\n",
       "     'text': 'Ruxolitinib (Jakafi) is the first-in-class and only JAK inhibitor currently approved by the US Food and Drug Administration (FDA) for the treatment of patients with MF; approval was based on the results of the COMFORT (COntrolled MyeloFibrosis study with ORal JAK inhibitor Treatment) I and II studies.',\n",
       "     'offsetInBeginSection': 833,\n",
       "     'offsetInEndSection': 1135,\n",
       "     'beginSection': 'abstract',\n",
       "     'endSection': 'abstract'},\n",
       "    {'document': 'http://www.ncbi.nlm.nih.gov/pubmed/28277287',\n",
       "     'text': 'The discovery of a JAK2 point mutation (JAK2 V617F) as the main cause of polycythemia vera lead to the development and FDA approval of a JAK1/2 inhibitor, ruxolitinib, in 2011.',\n",
       "     'offsetInBeginSection': 258,\n",
       "     'offsetInEndSection': 434,\n",
       "     'beginSection': 'abstract',\n",
       "     'endSection': 'abstract'},\n",
       "    {'document': 'http://www.ncbi.nlm.nih.gov/pubmed/18077994',\n",
       "     'text': 'PURPOSE On May 17, 2007, doxorubicin HCl liposome injection (Doxil) in combination with bortezomib (Velcade) received approval from the US Food and Drug Administration (FDA) for the treatment of relapsed or refractory multiple myeloma after at least one prior therapy that has not included bortezomib.',\n",
       "     'offsetInBeginSection': 0,\n",
       "     'offsetInEndSection': 301,\n",
       "     'beginSection': 'abstract',\n",
       "     'endSection': 'abstract'},\n",
       "    {'document': 'http://www.ncbi.nlm.nih.gov/pubmed/23985569',\n",
       "     'text': 'With such results, ruxolitinib quickly obtained the Food and Drug Administration (FDA) approval in the United States of America.',\n",
       "     'offsetInBeginSection': 356,\n",
       "     'offsetInEndSection': 484,\n",
       "     'beginSection': 'abstract',\n",
       "     'endSection': 'abstract'},\n",
       "    {'document': 'http://www.ncbi.nlm.nih.gov/pubmed/24083419',\n",
       "     'text': 'Ruxolitinib (INC424, INCB18424, Jakafi, Jakavi), a JAK1 and JAK2 inhibitor, was approved in November 2011 by the US FDA for the treatment of intermediate- or high-risk MF, and more recently in Europe and Canada for the treatment of MF-related splenomegaly or symptoms.',\n",
       "     'offsetInBeginSection': 277,\n",
       "     'offsetInEndSection': 545,\n",
       "     'beginSection': 'abstract',\n",
       "     'endSection': 'abstract'},\n",
       "    {'document': 'http://www.ncbi.nlm.nih.gov/pubmed/24766055',\n",
       "     'text': 'Only one JAK1/JAK2 inhibitor has gained FDA approval for treatment of myelofibrosis.',\n",
       "     'offsetInBeginSection': 225,\n",
       "     'offsetInEndSection': 309,\n",
       "     'beginSection': 'abstract',\n",
       "     'endSection': 'abstract'},\n",
       "    {'document': 'http://www.ncbi.nlm.nih.gov/pubmed/18077994',\n",
       "     'text': 'CONCLUSIONS Liposomal doxorubicin received FDA approval for use in combination with bortezomib in patients with multiple myeloma who have not previously received bortezomib and have received at least one prior therapy.',\n",
       "     'offsetInBeginSection': 1675,\n",
       "     'offsetInEndSection': 1893,\n",
       "     'beginSection': 'abstract',\n",
       "     'endSection': 'abstract'},\n",
       "    {'document': 'http://www.ncbi.nlm.nih.gov/pubmed/24766055',\n",
       "     'text': 'Resultant research in targeting the JAK/STAT pathway led to the approval of ruxolitinib, a JAK1/JAK2 inhibitor with activity in MPNs.',\n",
       "     'offsetInBeginSection': 1011,\n",
       "     'offsetInEndSection': 1144,\n",
       "     'beginSection': 'abstract',\n",
       "     'endSection': 'abstract'},\n",
       "    {'document': 'http://www.ncbi.nlm.nih.gov/pubmed/23985569',\n",
       "     'text': 'Ruxolitinib is a JAK/STAT inhibitor, which has demonstrated clinical benefits in patients with intermediate-2 and high-risk myelofibrosis.',\n",
       "     'offsetInBeginSection': 0,\n",
       "     'offsetInEndSection': 138,\n",
       "     'beginSection': 'abstract',\n",
       "     'endSection': 'abstract'},\n",
       "    {'document': 'http://www.ncbi.nlm.nih.gov/pubmed/27069082',\n",
       "     'text': 'Three (7.5%) of the 40 received PRO-related labeling (abiraterone acetate, ruxolitinib phosphate, and crizotinib).',\n",
       "     'offsetInBeginSection': 1289,\n",
       "     'offsetInEndSection': 1403,\n",
       "     'beginSection': 'abstract',\n",
       "     'endSection': 'abstract'}]},\n",
       "  {'id': '5a88370c61bb38fb24000014',\n",
       "   'body': 'What is the function of the gene MDA5?',\n",
       "   'documents': ['http://www.ncbi.nlm.nih.gov/pubmed/34177861',\n",
       "    'http://www.ncbi.nlm.nih.gov/pubmed/34418428',\n",
       "    'http://www.ncbi.nlm.nih.gov/pubmed/36122455',\n",
       "    'http://www.ncbi.nlm.nih.gov/pubmed/35141258',\n",
       "    'http://www.ncbi.nlm.nih.gov/pubmed/36380629',\n",
       "    'http://www.ncbi.nlm.nih.gov/pubmed/22797917',\n",
       "    'http://www.ncbi.nlm.nih.gov/pubmed/24939427',\n",
       "    'http://www.ncbi.nlm.nih.gov/pubmed/27312109',\n",
       "    'http://www.ncbi.nlm.nih.gov/pubmed/21881126',\n",
       "    'http://www.ncbi.nlm.nih.gov/pubmed/35359976'],\n",
       "   'snippets': [{'document': 'http://www.ncbi.nlm.nih.gov/pubmed/22797917',\n",
       "     'text': 'The proteins retinoic acid-inducible gene-I (RIG-I) and melanoma differentiation associated gene 5 (MDA5) function as cytoplasmic pattern recognition receptors that are involved in the elimination of actively replicating RNA viruses.',\n",
       "     'offsetInBeginSection': 89,\n",
       "     'offsetInEndSection': 322,\n",
       "     'beginSection': 'abstract',\n",
       "     'endSection': 'abstract'},\n",
       "    {'document': 'http://www.ncbi.nlm.nih.gov/pubmed/25008915',\n",
       "     'text': 'UNLABELLED Retinoic acid-inducible gene I (RIG-I) and melanoma differentiation-associated gene 5 (MDA5) are essential intracellular detectors of viral RNA.',\n",
       "     'offsetInBeginSection': 0,\n",
       "     'offsetInEndSection': 155,\n",
       "     'beginSection': 'abstract',\n",
       "     'endSection': 'abstract'},\n",
       "    {'document': 'http://www.ncbi.nlm.nih.gov/pubmed/25008915',\n",
       "     'text': 'Retinoic acid-inducible gene I (RIG-I) and melanoma differentiation-associated gene 5 (MDA5) are intracellular detectors of viral RNA that induce the type I IFN response.',\n",
       "     'offsetInBeginSection': 1781,\n",
       "     'offsetInEndSection': 1951,\n",
       "     'beginSection': 'abstract',\n",
       "     'endSection': 'abstract'},\n",
       "    {'document': 'http://www.ncbi.nlm.nih.gov/pubmed/29069650',\n",
       "     'text': 'Melanoma differentiation-associated gene 5 (MDA5) is a pattern recognition receptor that recognizes cytoplasmic viral double-stranded RNA (dsRNA) and initiates rapid innate antiviral responses.',\n",
       "     'offsetInBeginSection': 0,\n",
       "     'offsetInEndSection': 193,\n",
       "     'beginSection': 'abstract',\n",
       "     'endSection': 'abstract'},\n",
       "    {'document': 'http://www.ncbi.nlm.nih.gov/pubmed/26260315',\n",
       "     'text': 'Melanoma differentiation-associated gene 5 (MDA5) is a member of retinoic acid-inducible gene I (RIG-I)-like receptor (RLR) family which can initiate type I IFN expression in response to RNA virus infection.',\n",
       "     'offsetInBeginSection': 0,\n",
       "     'offsetInEndSection': 207,\n",
       "     'beginSection': 'abstract',\n",
       "     'endSection': 'abstract'},\n",
       "    {'document': 'http://www.ncbi.nlm.nih.gov/pubmed/29069650',\n",
       "     'text': 'HSP70 inhibitor also enhanced the IFN-inducing function of MDA5 and MAVS.',\n",
       "     'offsetInBeginSection': 1290,\n",
       "     'offsetInEndSection': 1363,\n",
       "     'beginSection': 'abstract',\n",
       "     'endSection': 'abstract'},\n",
       "    {'document': 'http://www.ncbi.nlm.nih.gov/pubmed/19324880',\n",
       "     'text': 'Retinoic acid-inducible gene I (RIG-I) and melanoma differentiation-associated gene 5 (MDA5) are essential for detecting viral RNA and triggering antiviral responses, including production of type I interferon.',\n",
       "     'offsetInBeginSection': 0,\n",
       "     'offsetInEndSection': 209,\n",
       "     'beginSection': 'abstract',\n",
       "     'endSection': 'abstract'},\n",
       "    {'document': 'http://www.ncbi.nlm.nih.gov/pubmed/24939427',\n",
       "     'text': 'Melanoma differentiation-associated gene 5 (MDA5) is an important intracellular receptor that recognizes long molecules of viral double-stranded RNA in innate immunity.',\n",
       "     'offsetInBeginSection': 0,\n",
       "     'offsetInEndSection': 168,\n",
       "     'beginSection': 'abstract',\n",
       "     'endSection': 'abstract'},\n",
       "    {'document': 'http://www.ncbi.nlm.nih.gov/pubmed/21185857',\n",
       "     'text': 'The receptor encoded by melanoma differentiation-associated gene 5 (MDA5), an RLR, recognizes viral RNA in the cytoplasm and enhances antiviral response in host cells.',\n",
       "     'offsetInBeginSection': 155,\n",
       "     'offsetInEndSection': 322,\n",
       "     'beginSection': 'abstract',\n",
       "     'endSection': 'abstract'},\n",
       "    {'document': 'http://www.ncbi.nlm.nih.gov/pubmed/21881126',\n",
       "     'text': 'We have examined expression and function of cytosolic RNA sensors, retinoic acid inducible gene I (RIG-I), and melanoma differentiation-associated protein 5 (MDA5), in vivo in the brain of our consistent, accelerated SIV-macaque model and in vitro in SIV-infected macaque macrophages to identify the pathway of type I interferon (IFN) induction.',\n",
       "     'offsetInBeginSection': 104,\n",
       "     'offsetInEndSection': 449,\n",
       "     'beginSection': 'abstract',\n",
       "     'endSection': 'abstract'}]},\n",
       "  {'id': '5a70de5199e2c3af26000005',\n",
       "   'body': 'Is scuba diving safe during pregnancy?',\n",
       "   'documents': ['http://www.ncbi.nlm.nih.gov/pubmed/29503252',\n",
       "    'http://www.ncbi.nlm.nih.gov/pubmed/8888455',\n",
       "    'http://www.ncbi.nlm.nih.gov/pubmed/15241540',\n",
       "    'http://www.ncbi.nlm.nih.gov/pubmed/15040636',\n",
       "    'http://www.ncbi.nlm.nih.gov/pubmed/29628904',\n",
       "    'http://www.ncbi.nlm.nih.gov/pubmed/7944003',\n",
       "    'http://www.ncbi.nlm.nih.gov/pubmed/1624782',\n",
       "    'http://www.ncbi.nlm.nih.gov/pubmed/26022420',\n",
       "    'http://www.ncbi.nlm.nih.gov/pubmed/12053898',\n",
       "    'http://www.ncbi.nlm.nih.gov/pubmed/11777528'],\n",
       "   'snippets': [{'document': 'http://www.ncbi.nlm.nih.gov/pubmed/8888455',\n",
       "     'text': 'Scuba diving during pregnancy has increased in incidence as a result of substantial growth in the number of young females attracted to sport diving.',\n",
       "     'offsetInBeginSection': 0,\n",
       "     'offsetInEndSection': 148,\n",
       "     'beginSection': 'abstract',\n",
       "     'endSection': 'abstract'},\n",
       "    {'document': 'http://www.ncbi.nlm.nih.gov/pubmed/11777528',\n",
       "     'text': 'Scuba diving also should be avoided throughout pregnancy because the fetus is at an increased risk for decompression sickness during this activity.',\n",
       "     'offsetInBeginSection': 531,\n",
       "     'offsetInEndSection': 678,\n",
       "     'beginSection': 'abstract',\n",
       "     'endSection': 'abstract'},\n",
       "    {'document': 'http://www.ncbi.nlm.nih.gov/pubmed/12808399',\n",
       "     'text': 'Scuba diving also should be avoided throughout pregnancy because the fetus is at an increased risk for decompression sickness during this activity.',\n",
       "     'offsetInBeginSection': 568,\n",
       "     'offsetInEndSection': 715,\n",
       "     'beginSection': 'abstract',\n",
       "     'endSection': 'abstract'},\n",
       "    {'document': 'http://www.ncbi.nlm.nih.gov/pubmed/12053898',\n",
       "     'text': 'Scuba diving also should be avoided throughout pregnancy because the fetus is at an increased risk for decompression sickness during this activity.',\n",
       "     'offsetInBeginSection': 531,\n",
       "     'offsetInEndSection': 678,\n",
       "     'beginSection': 'abstract',\n",
       "     'endSection': 'abstract'},\n",
       "    {'document': 'http://www.ncbi.nlm.nih.gov/pubmed/8888455',\n",
       "     'text': 'Snorkeling can still be practiced during pregnancy, but scuba diving should be discontinued until after the birth period.',\n",
       "     'offsetInBeginSection': 1228,\n",
       "     'offsetInEndSection': 1349,\n",
       "     'beginSection': 'abstract',\n",
       "     'endSection': 'abstract'},\n",
       "    {'document': 'http://www.ncbi.nlm.nih.gov/pubmed/10416137',\n",
       "     'text': 'Scuba diving is a leisure activity increasingly popular amongst women.',\n",
       "     'offsetInBeginSection': 0,\n",
       "     'offsetInEndSection': 70,\n",
       "     'beginSection': 'abstract',\n",
       "     'endSection': 'abstract'},\n",
       "    {'document': 'http://www.ncbi.nlm.nih.gov/pubmed/7423656',\n",
       "     'text': 'Scuba diving is an increasingly popular sport among women of childbearing age.',\n",
       "     'offsetInBeginSection': 0,\n",
       "     'offsetInEndSection': 78,\n",
       "     'beginSection': 'abstract',\n",
       "     'endSection': 'abstract'},\n",
       "    {'document': 'http://www.ncbi.nlm.nih.gov/pubmed/1624782',\n",
       "     'text': 'Issues to be considered include the safety of both mother and fetus during commercial air travel, vigorous exercise, scuba diving, and even high-altitude trekking.',\n",
       "     'offsetInBeginSection': 112,\n",
       "     'offsetInEndSection': 275,\n",
       "     'beginSection': 'abstract',\n",
       "     'endSection': 'abstract'},\n",
       "    {'document': 'http://www.ncbi.nlm.nih.gov/pubmed/7423656',\n",
       "     'text': 'The subject of diving during pregnancy is seldom mentioned in diving courses, however, and few obstetricians are familiar with the physiology of diving.',\n",
       "     'offsetInBeginSection': 165,\n",
       "     'offsetInEndSection': 317,\n",
       "     'beginSection': 'abstract',\n",
       "     'endSection': 'abstract'},\n",
       "    {'document': 'http://www.ncbi.nlm.nih.gov/pubmed/20086738',\n",
       "     'text': 'Supine exercise, contact sports, high-altitude exertion, and scuba diving should be avoided, and some women, including those who lift weights or do high-impact exercise, may need to modify their routines.',\n",
       "     'offsetInBeginSection': 295,\n",
       "     'offsetInEndSection': 499,\n",
       "     'beginSection': 'abstract',\n",
       "     'endSection': 'abstract'}]},\n",
       "  {'id': '58ee2515eda5a57672000016',\n",
       "   'body': 'Which individuals show preferential colonization of the Prevotellaceae bacteria in their guts?',\n",
       "   'documents': ['http://www.ncbi.nlm.nih.gov/pubmed/23692388',\n",
       "    'http://www.ncbi.nlm.nih.gov/pubmed/28625783',\n",
       "    'http://www.ncbi.nlm.nih.gov/pubmed/26637604',\n",
       "    'http://www.ncbi.nlm.nih.gov/pubmed/31100210',\n",
       "    'http://www.ncbi.nlm.nih.gov/pubmed/25284151',\n",
       "    'http://www.ncbi.nlm.nih.gov/pubmed/22203999',\n",
       "    'http://www.ncbi.nlm.nih.gov/pubmed/23663779',\n",
       "    'http://www.ncbi.nlm.nih.gov/pubmed/31001224',\n",
       "    'http://www.ncbi.nlm.nih.gov/pubmed/32726577',\n",
       "    'http://www.ncbi.nlm.nih.gov/pubmed/28553195'],\n",
       "   'snippets': [{'document': 'http://www.ncbi.nlm.nih.gov/pubmed/23692388',\n",
       "     'text': 'Insect guts present distinctive environments for microbial colonization, and bacteria in the gut potentially provide many beneficial services to their hosts.',\n",
       "     'offsetInBeginSection': 0,\n",
       "     'offsetInEndSection': 157,\n",
       "     'beginSection': 'abstract',\n",
       "     'endSection': 'abstract'},\n",
       "    {'document': 'http://www.ncbi.nlm.nih.gov/pubmed/7620812',\n",
       "     'text': 'The gut cuticle of intermoult specimens of Ligidium hypnorum and Porcellio scaber was densely colonized with bacteria.',\n",
       "     'offsetInBeginSection': 114,\n",
       "     'offsetInEndSection': 232,\n",
       "     'beginSection': 'abstract',\n",
       "     'endSection': 'abstract'},\n",
       "    {'document': 'http://www.ncbi.nlm.nih.gov/pubmed/28625783',\n",
       "     'text': 'Prior colonization with other bacteria reduced the chances of subsequent colonization, thus increasing the stability of higher-diversity guts.',\n",
       "     'offsetInBeginSection': 1361,\n",
       "     'offsetInEndSection': 1503,\n",
       "     'beginSection': 'abstract',\n",
       "     'endSection': 'abstract'},\n",
       "    {'document': 'http://www.ncbi.nlm.nih.gov/pubmed/26637604',\n",
       "     'text': 'In diassociated cockroaches, the facultatively anaerobic strain EbSL (a new species of Enterobacteriaceae) always outnumbered the obligately anaerobic strain FuSL (a close relative of Fusobacterium varium), irrespective of the sequence of inoculation, which showed that precolonization by facultatively anaerobic bacteria does not necessarily favor colonization by obligate anaerobes.',\n",
       "     'offsetInBeginSection': 652,\n",
       "     'offsetInEndSection': 1036,\n",
       "     'beginSection': 'abstract',\n",
       "     'endSection': 'abstract'},\n",
       "    {'document': 'http://www.ncbi.nlm.nih.gov/pubmed/17233730',\n",
       "     'text': 'These observations could be explained by preferential colonization of the agar spheres by bacteria with inherently higher metabolic activity and/or individual bacteria increasing their metabolism upon attachment to surfaces.',\n",
       "     'offsetInBeginSection': 449,\n",
       "     'offsetInEndSection': 673,\n",
       "     'beginSection': 'abstract',\n",
       "     'endSection': 'abstract'},\n",
       "    {'document': 'http://www.ncbi.nlm.nih.gov/pubmed/23692388',\n",
       "     'text': 'Most insect guts contain relatively few microbial species as compared to mammalian guts, but some insects harbor large gut communities of specialized bacteria.',\n",
       "     'offsetInBeginSection': 248,\n",
       "     'offsetInEndSection': 407,\n",
       "     'beginSection': 'abstract',\n",
       "     'endSection': 'abstract'},\n",
       "    {'document': 'http://www.ncbi.nlm.nih.gov/pubmed/25284151',\n",
       "     'text': 'Bacteria from these foreign environments colonized and persisted in the mouse gut; their capacity to metabolize dietary and host carbohydrates and bile acids correlated with colonization success.',\n",
       "     'offsetInBeginSection': 230,\n",
       "     'offsetInEndSection': 425,\n",
       "     'beginSection': 'abstract',\n",
       "     'endSection': 'abstract'},\n",
       "    {'document': 'http://www.ncbi.nlm.nih.gov/pubmed/18836026',\n",
       "     'text': 'In this study, a biologically relevant infection model in which M. ulcerans-infected mosquito larvae were fed to a species of predaceous hemiptera (African Belostomatidae) was used to demonstrate the persistent colonization of M. ulcerans and subsequent transmission of bacteria to naïve prey.',\n",
       "     'offsetInBeginSection': 566,\n",
       "     'offsetInEndSection': 860,\n",
       "     'beginSection': 'abstract',\n",
       "     'endSection': 'abstract'},\n",
       "    {'document': 'http://www.ncbi.nlm.nih.gov/pubmed/25284151',\n",
       "     'text': 'Unanticipated patterns of ecological succession were observed; for example, a soil-derived bacterium dominated even in the presence of bacteria from other gut communities (zebrafish and termite), and human-derived bacteria colonized germ-free bystander mice before mouse-derived organisms.',\n",
       "     'offsetInBeginSection': 656,\n",
       "     'offsetInEndSection': 945,\n",
       "     'beginSection': 'abstract',\n",
       "     'endSection': 'abstract'},\n",
       "    {'document': 'http://www.ncbi.nlm.nih.gov/pubmed/23692388',\n",
       "     'text': 'Here, social insects, such as termites, ants, and bees, are exceptions: social interactions provide opportunities for transfer of gut bacteria, and some of the most distinctive and consistent gut communities, with specialized beneficial functions in nutrition and protection, have been found in social insect species.',\n",
       "     'offsetInBeginSection': 807,\n",
       "     'offsetInEndSection': 1124,\n",
       "     'beginSection': 'abstract',\n",
       "     'endSection': 'abstract'}]},\n",
       "  {'id': '5a6e3299b750ff4455000040',\n",
       "   'body': 'What is the main focus of the CVE R/Bioconductor package?',\n",
       "   'documents': ['http://www.ncbi.nlm.nih.gov/pubmed/28545463',\n",
       "    'http://www.ncbi.nlm.nih.gov/pubmed/27008013',\n",
       "    'http://www.ncbi.nlm.nih.gov/pubmed/22923296',\n",
       "    'http://www.ncbi.nlm.nih.gov/pubmed/32902283',\n",
       "    'http://www.ncbi.nlm.nih.gov/pubmed/20861030',\n",
       "    'http://www.ncbi.nlm.nih.gov/pubmed/34864914',\n",
       "    'http://www.ncbi.nlm.nih.gov/pubmed/23709494',\n",
       "    'http://www.ncbi.nlm.nih.gov/pubmed/29688259',\n",
       "    'http://www.ncbi.nlm.nih.gov/pubmed/24681907',\n",
       "    'http://www.ncbi.nlm.nih.gov/pubmed/21937664'],\n",
       "   'snippets': [{'document': 'http://www.ncbi.nlm.nih.gov/pubmed/28545463',\n",
       "     'text': 'The CVE package is available via Bioconductor ( http://bioconductor.org/packages/CVE/ ).',\n",
       "     'offsetInBeginSection': 1067,\n",
       "     'offsetInEndSection': 1155,\n",
       "     'beginSection': 'abstract',\n",
       "     'endSection': 'abstract'},\n",
       "    {'document': 'http://www.ncbi.nlm.nih.gov/pubmed/26803161',\n",
       "     'text': 'UNLABELLED The R/Bioconductor package Protein Array Analyzer (PAA) facilitates a flexible analysis of protein microarrays for biomarker discovery (esp., ProtoArrays).',\n",
       "     'offsetInBeginSection': 0,\n",
       "     'offsetInEndSection': 166,\n",
       "     'beginSection': 'abstract',\n",
       "     'endSection': 'abstract'},\n",
       "    {'document': 'http://www.ncbi.nlm.nih.gov/pubmed/24700319',\n",
       "     'text': 'SUMMARY rTANDEM is an R/Bioconductor package that interfaces the X!Tandem protein identification algorithm.',\n",
       "     'offsetInBeginSection': 0,\n",
       "     'offsetInEndSection': 107,\n",
       "     'beginSection': 'abstract',\n",
       "     'endSection': 'abstract'},\n",
       "    {'document': 'http://www.ncbi.nlm.nih.gov/pubmed/23709494',\n",
       "     'text': \"RESULTS We combined a previously published implementation of a triplex DNA search algorithm with visualization to create a versatile R/Bioconductor package 'triplex'.\",\n",
       "     'offsetInBeginSection': 92,\n",
       "     'offsetInEndSection': 258,\n",
       "     'beginSection': 'abstract',\n",
       "     'endSection': 'abstract'},\n",
       "    {'document': 'http://www.ncbi.nlm.nih.gov/pubmed/23709494',\n",
       "     'text': \"AVAILABILITY R package 'triplex' is available from Bioconductor (bioconductor.org).\",\n",
       "     'offsetInBeginSection': 833,\n",
       "     'offsetInEndSection': 916,\n",
       "     'beginSection': 'abstract',\n",
       "     'endSection': 'abstract'},\n",
       "    {'document': 'http://www.ncbi.nlm.nih.gov/pubmed/25246429',\n",
       "     'text': 'To solve this problem, we developed a freely available R/Bioconductor package, called Compound-Protein Interaction with R (Rcpi), for complex molecular representation from drugs, proteins and more complex interactions, including protein-protein and compound-protein interactions.',\n",
       "     'offsetInBeginSection': 281,\n",
       "     'offsetInEndSection': 560,\n",
       "     'beginSection': 'abstract',\n",
       "     'endSection': 'abstract'},\n",
       "    {'document': 'http://www.ncbi.nlm.nih.gov/pubmed/24700319',\n",
       "     'text': 'Together, those two packages form an entry point for a general MS/MS-based proteomic pipeline in R/Bioconductor.',\n",
       "     'offsetInBeginSection': 464,\n",
       "     'offsetInEndSection': 576,\n",
       "     'beginSection': 'abstract',\n",
       "     'endSection': 'abstract'},\n",
       "    {'document': 'http://www.ncbi.nlm.nih.gov/pubmed/24979058',\n",
       "     'text': 'We therein provide here a detailed and easy-to-use protocol of using exomePeak R/Bioconductor package along with other software programs for analysis of MeRIP-Seq data, which covers raw reads alignment, RNA methylation site detection, motif discovery, differential RNA methylation analysis, and functional analysis.',\n",
       "     'offsetInBeginSection': 983,\n",
       "     'offsetInEndSection': 1298,\n",
       "     'beginSection': 'abstract',\n",
       "     'endSection': 'abstract'},\n",
       "    {'document': 'http://www.ncbi.nlm.nih.gov/pubmed/28545463',\n",
       "     'text': 'To support this development, we present the Cancer Variant Explorer (CVE), an R package with an interactive Shiny web browser interface.',\n",
       "     'offsetInBeginSection': 96,\n",
       "     'offsetInEndSection': 232,\n",
       "     'beginSection': 'abstract',\n",
       "     'endSection': 'abstract'},\n",
       "    {'document': 'http://www.ncbi.nlm.nih.gov/pubmed/23709494',\n",
       "     'text': 'The new package provides functions that can be used to search Bioconductor genomes and other DNA sequence data for occurrence of nucleotide patterns capable of forming intramolecular triplexes (H-DNA).',\n",
       "     'offsetInBeginSection': 259,\n",
       "     'offsetInEndSection': 460,\n",
       "     'beginSection': 'abstract',\n",
       "     'endSection': 'abstract'}]},\n",
       "  {'id': '5a7726989e632bc06600000c',\n",
       "   'body': 'Does deflazacort have more side effects than prednisone?',\n",
       "   'documents': ['http://www.ncbi.nlm.nih.gov/pubmed/16244521',\n",
       "    'http://www.ncbi.nlm.nih.gov/pubmed/35723111',\n",
       "    'http://www.ncbi.nlm.nih.gov/pubmed/6458701',\n",
       "    'http://www.ncbi.nlm.nih.gov/pubmed/8329416',\n",
       "    'http://www.ncbi.nlm.nih.gov/pubmed/8241229',\n",
       "    'http://www.ncbi.nlm.nih.gov/pubmed/19488064',\n",
       "    'http://www.ncbi.nlm.nih.gov/pubmed/8356936',\n",
       "    'http://www.ncbi.nlm.nih.gov/pubmed/7194867',\n",
       "    'http://www.ncbi.nlm.nih.gov/pubmed/9163859',\n",
       "    'http://www.ncbi.nlm.nih.gov/pubmed/22655511'],\n",
       "   'snippets': [{'document': 'http://www.ncbi.nlm.nih.gov/pubmed/8882570',\n",
       "     'text': 'Deflazacort (DFC) is supposed to have fewer side effects than prednisone (PRED).',\n",
       "     'offsetInBeginSection': 144,\n",
       "     'offsetInEndSection': 224,\n",
       "     'beginSection': 'abstract',\n",
       "     'endSection': 'abstract'},\n",
       "    {'document': 'http://www.ncbi.nlm.nih.gov/pubmed/19488064',\n",
       "     'text': 'Though Deflazacort and prednisone improve clinical endpoints in Duchenne muscular dystrophy (DMD) patients, Deflazacort produces fewer side effects.',\n",
       "     'offsetInBeginSection': 0,\n",
       "     'offsetInEndSection': 148,\n",
       "     'beginSection': 'abstract',\n",
       "     'endSection': 'abstract'},\n",
       "    {'document': 'http://www.ncbi.nlm.nih.gov/pubmed/11038071',\n",
       "     'text': 'Deflazacort slows the progress of Duchenne muscular dystrophy (DMD) with fewer side effects than prednisone.',\n",
       "     'offsetInBeginSection': 0,\n",
       "     'offsetInEndSection': 108,\n",
       "     'beginSection': 'abstract',\n",
       "     'endSection': 'abstract'},\n",
       "    {'document': 'http://www.ncbi.nlm.nih.gov/pubmed/8241229',\n",
       "     'text': 'Deflazacort, an oral synthetic steroid with fewer side effects, has been successfully used in patients after heart transplantation, but a prospective study comparing deflazacort and prednisone in transplant patients is lacking.',\n",
       "     'offsetInBeginSection': 97,\n",
       "     'offsetInEndSection': 324,\n",
       "     'beginSection': 'abstract',\n",
       "     'endSection': 'abstract'},\n",
       "    {'document': 'http://www.ncbi.nlm.nih.gov/pubmed/22115006',\n",
       "     'text': 'Although deflazacort is typically thought to produce less obesity than prednisone, severe Cushingoid side effects may occur in some individuals.',\n",
       "     'offsetInBeginSection': 753,\n",
       "     'offsetInEndSection': 897,\n",
       "     'beginSection': 'abstract',\n",
       "     'endSection': 'abstract'},\n",
       "    {'document': 'http://www.ncbi.nlm.nih.gov/pubmed/10951436',\n",
       "     'text': 'Steroid treatment with deflazacort appears to cause fewer side effects than with prednisone, particularly weight gain, which could be important to maximize motor performances.',\n",
       "     'offsetInBeginSection': 1190,\n",
       "     'offsetInEndSection': 1365,\n",
       "     'beginSection': 'abstract',\n",
       "     'endSection': 'abstract'},\n",
       "    {'document': 'http://www.ncbi.nlm.nih.gov/pubmed/22115006',\n",
       "     'text': 'Deflazacort, an oxazoline analogue of prednisolone, produces equivalent benefits on muscle with fewer reported Cushingoid side effects.',\n",
       "     'offsetInBeginSection': 435,\n",
       "     'offsetInEndSection': 570,\n",
       "     'beginSection': 'abstract',\n",
       "     'endSection': 'abstract'},\n",
       "    {'document': 'http://www.ncbi.nlm.nih.gov/pubmed/8329416',\n",
       "     'text': 'Deflazacort, a new oral synthetic steroid with fewer side effects, has not been studied in heart transplant patients.',\n",
       "     'offsetInBeginSection': 93,\n",
       "     'offsetInEndSection': 210,\n",
       "     'beginSection': 'abstract',\n",
       "     'endSection': 'abstract'},\n",
       "    {'document': 'http://www.ncbi.nlm.nih.gov/pubmed/16244521',\n",
       "     'text': 'Both deflazacort and prednisone had beneficial effect on pulmonary function and scoliosis.',\n",
       "     'offsetInBeginSection': 1127,\n",
       "     'offsetInEndSection': 1217,\n",
       "     'beginSection': 'abstract',\n",
       "     'endSection': 'abstract'},\n",
       "    {'document': 'http://www.ncbi.nlm.nih.gov/pubmed/16244521',\n",
       "     'text': 'CONCLUSIONS Prednisone and deflazacort have a significant beneficial effect on slowing the disease progress.',\n",
       "     'offsetInBeginSection': 1347,\n",
       "     'offsetInEndSection': 1455,\n",
       "     'beginSection': 'abstract',\n",
       "     'endSection': 'abstract'}]},\n",
       "  {'id': '5a885daa61bb38fb24000018',\n",
       "   'body': 'Which is the conserved motif of DEAD box proteins?',\n",
       "   'documents': ['http://www.ncbi.nlm.nih.gov/pubmed/23572877',\n",
       "    'http://www.ncbi.nlm.nih.gov/pubmed/18332124',\n",
       "    'http://www.ncbi.nlm.nih.gov/pubmed/23523990',\n",
       "    'http://www.ncbi.nlm.nih.gov/pubmed/15201868',\n",
       "    'http://www.ncbi.nlm.nih.gov/pubmed/30387775',\n",
       "    'http://www.ncbi.nlm.nih.gov/pubmed/9776741',\n",
       "    'http://www.ncbi.nlm.nih.gov/pubmed/9371600',\n",
       "    'http://www.ncbi.nlm.nih.gov/pubmed/7689221',\n",
       "    'http://www.ncbi.nlm.nih.gov/pubmed/20935500',\n",
       "    'http://www.ncbi.nlm.nih.gov/pubmed/8144024'],\n",
       "   'snippets': [{'document': 'http://www.ncbi.nlm.nih.gov/pubmed/8948440',\n",
       "     'text': 'DEAD box proteins share several highly conserved motifs including the characteristic Asp-Glu-Ala-Asp (D-E-A-D in the amino acid single-letter code) motif and have established or putative ATP-dependent RNA helicase activity.',\n",
       "     'offsetInBeginSection': 0,\n",
       "     'offsetInEndSection': 223,\n",
       "     'beginSection': 'abstract',\n",
       "     'endSection': 'abstract'},\n",
       "    {'document': 'http://www.ncbi.nlm.nih.gov/pubmed/1900936',\n",
       "     'text': 'Recently, a family of proteins containing the conserved motif Asp-Glu-Ala-Asp, the \"DEAD box\" proteins, has been identified.',\n",
       "     'offsetInBeginSection': 0,\n",
       "     'offsetInEndSection': 124,\n",
       "     'beginSection': 'abstract',\n",
       "     'endSection': 'abstract'},\n",
       "    {'document': 'http://www.ncbi.nlm.nih.gov/pubmed/7689221',\n",
       "     'text': 'DEAD box proteins, characterized by the conserved motif Asp-Glu-Ala-Asp, are putative RNA helicases implicated in a number of cellular processes involving alteration of RNA secondary structure such as translation initiation, nuclear and mitochondrial splicing, and ribosome and spliceosome assembly.',\n",
       "     'offsetInBeginSection': 0,\n",
       "     'offsetInEndSection': 299,\n",
       "     'beginSection': 'abstract',\n",
       "     'endSection': 'abstract'},\n",
       "    {'document': 'http://www.ncbi.nlm.nih.gov/pubmed/8144024',\n",
       "     'text': 'mDEAD5 belongs to a second class related to translation initiation factors from yeast (TIF1/TIF2) and mammals (eIF-4A); this class contains a novel conserved peptide motif not found in other DEAD box proteins.',\n",
       "     'offsetInBeginSection': 1008,\n",
       "     'offsetInEndSection': 1217,\n",
       "     'beginSection': 'abstract',\n",
       "     'endSection': 'abstract'},\n",
       "    {'document': 'http://www.ncbi.nlm.nih.gov/pubmed/23523990',\n",
       "     'text': \"Members of the DEAD box family of RNA helicases, which are characterised by the presence of twelve conserved motifs (including the signature D-E-A-D motif) within a structurally conserved 'helicase' core, are involved in all aspects of RNA metabolism.\",\n",
       "     'offsetInBeginSection': 0,\n",
       "     'offsetInEndSection': 251,\n",
       "     'beginSection': 'abstract',\n",
       "     'endSection': 'abstract'},\n",
       "    {'document': 'http://www.ncbi.nlm.nih.gov/pubmed/26709771',\n",
       "     'text': 'Members of this family share nine conserved motifs including an Asp-Glu-Ala-Asp motif, giving this family its characteristic name as DEAD box RNA helicases.',\n",
       "     'offsetInBeginSection': 130,\n",
       "     'offsetInEndSection': 286,\n",
       "     'beginSection': 'abstract',\n",
       "     'endSection': 'abstract'},\n",
       "    {'document': 'http://www.ncbi.nlm.nih.gov/pubmed/9371600',\n",
       "     'text': 'In addition, the NS3 protein contains four amino acid motifs conserved in DEAD box proteins.',\n",
       "     'offsetInBeginSection': 191,\n",
       "     'offsetInEndSection': 283,\n",
       "     'beginSection': 'abstract',\n",
       "     'endSection': 'abstract'},\n",
       "    {'document': 'http://www.ncbi.nlm.nih.gov/pubmed/10727850',\n",
       "     'text': 'Sequence analysis of the cDNA revealed that RHELP contained DEAD sequence motif and other conserved motifs of the DEAD box protein family, indicating that RHELP is a new member of this family.',\n",
       "     'offsetInBeginSection': 351,\n",
       "     'offsetInEndSection': 543,\n",
       "     'beginSection': 'abstract',\n",
       "     'endSection': 'abstract'},\n",
       "    {'document': 'http://www.ncbi.nlm.nih.gov/pubmed/10727850',\n",
       "     'text': 'From the library screening, we isolated a novel cDNA, RNA helicase-like protein (RHELP), which exhibited strong sequence homology to p68 RNA helicase, a prototypic member of the DEAD (Asp-Glu-Ala-Asp) box protein family.',\n",
       "     'offsetInBeginSection': 130,\n",
       "     'offsetInEndSection': 350,\n",
       "     'beginSection': 'abstract',\n",
       "     'endSection': 'abstract'},\n",
       "    {'document': 'http://www.ncbi.nlm.nih.gov/pubmed/8948440',\n",
       "     'text': 'Here we describe the isolation and characterization of an embryonic RNA helicase gene, ERH, which maps to mouse chromosome 1 and encodes a new member of the DEAD box family of proteins.',\n",
       "     'offsetInBeginSection': 398,\n",
       "     'offsetInEndSection': 583,\n",
       "     'beginSection': 'abstract',\n",
       "     'endSection': 'abstract'}]},\n",
       "  {'id': '5a7237672dc08e987e000008',\n",
       "   'body': 'Which drug can be reversed with idarucizumab?',\n",
       "   'documents': ['http://www.ncbi.nlm.nih.gov/pubmed/30431448',\n",
       "    'http://www.ncbi.nlm.nih.gov/pubmed/28479184',\n",
       "    'http://www.ncbi.nlm.nih.gov/pubmed/27224445',\n",
       "    'http://www.ncbi.nlm.nih.gov/pubmed/30559587',\n",
       "    'http://www.ncbi.nlm.nih.gov/pubmed/25567155',\n",
       "    'http://www.ncbi.nlm.nih.gov/pubmed/25899749',\n",
       "    'http://www.ncbi.nlm.nih.gov/pubmed/27568285',\n",
       "    'http://www.ncbi.nlm.nih.gov/pubmed/27697436',\n",
       "    'http://www.ncbi.nlm.nih.gov/pubmed/30120649',\n",
       "    'http://www.ncbi.nlm.nih.gov/pubmed/27920714'],\n",
       "   'snippets': [{'document': 'http://www.ncbi.nlm.nih.gov/pubmed/28479184',\n",
       "     'text': 'Dabigatran etexilate is an oral thrombin inhibitor that can be reversed by idarucizumab.',\n",
       "     'offsetInBeginSection': 974,\n",
       "     'offsetInEndSection': 1062,\n",
       "     'beginSection': 'abstract',\n",
       "     'endSection': 'abstract'},\n",
       "    {'document': 'http://www.ncbi.nlm.nih.gov/pubmed/28479184',\n",
       "     'text': 'INTRODUCTION Idarucizumab is a reversal agent for dabigatran etexilate.',\n",
       "     'offsetInBeginSection': 0,\n",
       "     'offsetInEndSection': 71,\n",
       "     'beginSection': 'abstract',\n",
       "     'endSection': 'abstract'},\n",
       "    {'document': 'http://www.ncbi.nlm.nih.gov/pubmed/27575900',\n",
       "     'text': 'Idarucizumab is a humanized monoclonal antibody fragment for reversal of the anticoagulant effects of dabigatran.',\n",
       "     'offsetInBeginSection': 0,\n",
       "     'offsetInEndSection': 113,\n",
       "     'beginSection': 'abstract',\n",
       "     'endSection': 'abstract'},\n",
       "    {'document': 'http://www.ncbi.nlm.nih.gov/pubmed/27568285',\n",
       "     'text': 'Idarucizumab is a monoclonal antibody fragment specifically targeted to dabigatran.',\n",
       "     'offsetInBeginSection': 0,\n",
       "     'offsetInEndSection': 83,\n",
       "     'beginSection': 'abstract',\n",
       "     'endSection': 'abstract'},\n",
       "    {'document': 'http://www.ncbi.nlm.nih.gov/pubmed/27697436',\n",
       "     'text': 'Idarucizumab is a monoclonal antibody fragment specifically targeted to dabigatran.',\n",
       "     'offsetInBeginSection': 0,\n",
       "     'offsetInEndSection': 83,\n",
       "     'beginSection': 'abstract',\n",
       "     'endSection': 'abstract'},\n",
       "    {'document': 'http://www.ncbi.nlm.nih.gov/pubmed/28416406',\n",
       "     'text': 'In 2015, the humanized monoclonal antibody fragment idarucizumab was approved for rapid (minutes) reversal of anticoagulant effects of dabigatran.',\n",
       "     'offsetInBeginSection': 428,\n",
       "     'offsetInEndSection': 574,\n",
       "     'beginSection': 'abstract',\n",
       "     'endSection': 'abstract'},\n",
       "    {'document': 'http://www.ncbi.nlm.nih.gov/pubmed/28479184',\n",
       "     'text': 'Idarucizumab, a monoclonal antibody fragment, directly binds dabigatran etexilate and neutralizes its activity.',\n",
       "     'offsetInBeginSection': 1063,\n",
       "     'offsetInEndSection': 1174,\n",
       "     'beginSection': 'abstract',\n",
       "     'endSection': 'abstract'},\n",
       "    {'document': 'http://www.ncbi.nlm.nih.gov/pubmed/27224445',\n",
       "     'text': 'Idarucizumab is an antibody fragment that binds dabigatran with high affinity.',\n",
       "     'offsetInBeginSection': 328,\n",
       "     'offsetInEndSection': 406,\n",
       "     'beginSection': 'abstract',\n",
       "     'endSection': 'abstract'},\n",
       "    {'document': 'http://www.ncbi.nlm.nih.gov/pubmed/28479184',\n",
       "     'text': 'CONCLUSION Reversal of dabigatran etexilate using idarucizumab was safe and successful with no recombinant tissue plasminogen activator interactions.',\n",
       "     'offsetInBeginSection': 1177,\n",
       "     'offsetInEndSection': 1326,\n",
       "     'beginSection': 'abstract',\n",
       "     'endSection': 'abstract'},\n",
       "    {'document': 'http://www.ncbi.nlm.nih.gov/pubmed/27920714',\n",
       "     'text': 'Idarucizumab, an antibody fragment targeting dabigatran, is the first specific antidote for a NOAC to be approved, but real-world experience is limited.',\n",
       "     'offsetInBeginSection': 264,\n",
       "     'offsetInEndSection': 416,\n",
       "     'beginSection': 'abstract',\n",
       "     'endSection': 'abstract'}]},\n",
       "  {'id': '58f89eb270f9fc6f0f00001a',\n",
       "   'body': 'What is the genetic basis of Ohdo syndrome?',\n",
       "   'documents': ['http://www.ncbi.nlm.nih.gov/pubmed/7519949',\n",
       "    'http://www.ncbi.nlm.nih.gov/pubmed/23395478',\n",
       "    'http://www.ncbi.nlm.nih.gov/pubmed/18798845',\n",
       "    'http://www.ncbi.nlm.nih.gov/pubmed/12868473',\n",
       "    'http://www.ncbi.nlm.nih.gov/pubmed/30739122',\n",
       "    'http://www.ncbi.nlm.nih.gov/pubmed/9605288',\n",
       "    'http://www.ncbi.nlm.nih.gov/pubmed/34573309',\n",
       "    'http://www.ncbi.nlm.nih.gov/pubmed/15127758',\n",
       "    'http://www.ncbi.nlm.nih.gov/pubmed/9546834',\n",
       "    'http://www.ncbi.nlm.nih.gov/pubmed/9184251'],\n",
       "   'snippets': [{'document': 'http://www.ncbi.nlm.nih.gov/pubmed/12868473',\n",
       "     'text': 'Ohdo syndrome (MIM 249620) is a multiple malformation syndrome characterized by blepharophimosis, ptosis, dental hypoplasia, hearing impairment and intellectual disability.',\n",
       "     'offsetInBeginSection': 0,\n",
       "     'offsetInEndSection': 172,\n",
       "     'beginSection': 'abstract',\n",
       "     'endSection': 'abstract'},\n",
       "    {'document': 'http://www.ncbi.nlm.nih.gov/pubmed/23395478',\n",
       "     'text': 'The occurrence of three different hemizygous missense mutations in three unrelated families affected by Ohdo syndrome MKB type shows that mutations in MED12 are the underlying cause of this X-linked form of Ohdo syndrome.',\n",
       "     'offsetInBeginSection': 861,\n",
       "     'offsetInEndSection': 1082,\n",
       "     'beginSection': 'abstract',\n",
       "     'endSection': 'abstract'},\n",
       "    {'document': 'http://www.ncbi.nlm.nih.gov/pubmed/9605288',\n",
       "     'text': 'Ohdo blepharophimosis syndrome (OBS) is a multiple congenital anomalies-mental retardation syndrome composed of blepharophimosis, ptosis, dental hypoplasia, partial deafness, and mental retardation.',\n",
       "     'offsetInBeginSection': 0,\n",
       "     'offsetInEndSection': 198,\n",
       "     'beginSection': 'abstract',\n",
       "     'endSection': 'abstract'},\n",
       "    {'document': 'http://www.ncbi.nlm.nih.gov/pubmed/23395478',\n",
       "     'text': 'Ohdo syndrome comprises a heterogeneous group of disorders characterized by intellectual disability (ID) and typical facial features, including blepharophimosis.',\n",
       "     'offsetInBeginSection': 0,\n",
       "     'offsetInEndSection': 161,\n",
       "     'beginSection': 'abstract',\n",
       "     'endSection': 'abstract'},\n",
       "    {'document': 'http://www.ncbi.nlm.nih.gov/pubmed/23395478',\n",
       "     'text': 'Together with the recently described KAT6B mutations resulting in Ohdo syndrome Say/Barber/Biesecker/Young/Simpson type, our findings point to aberrant chromatin modification as being central to the pathogenesis of Ohdo syndrome.',\n",
       "     'offsetInBeginSection': 1083,\n",
       "     'offsetInEndSection': 1312,\n",
       "     'beginSection': 'abstract',\n",
       "     'endSection': 'abstract'},\n",
       "    {'document': 'http://www.ncbi.nlm.nih.gov/pubmed/9184251',\n",
       "     'text': 'We describe a Brazilian girl presenting Ohdo syndrome with cleft palate and diverticula of the bladder.',\n",
       "     'offsetInBeginSection': 0,\n",
       "     'offsetInEndSection': 103,\n",
       "     'beginSection': 'abstract',\n",
       "     'endSection': 'abstract'},\n",
       "    {'document': 'http://www.ncbi.nlm.nih.gov/pubmed/9546834',\n",
       "     'text': 'A mentally retarded girl with congenital blepharophimosis, ptosis, hypoplastic teeth and other traits consistent with Ohdo syndrome is reported.',\n",
       "     'offsetInBeginSection': 0,\n",
       "     'offsetInEndSection': 144,\n",
       "     'beginSection': 'abstract',\n",
       "     'endSection': 'abstract'},\n",
       "    {'document': 'http://www.ncbi.nlm.nih.gov/pubmed/7519949',\n",
       "     'text': 'The Ohdo syndrome is characterized by blepharophimosis, ptosis, abnormal ears, and mental retardation.',\n",
       "     'offsetInBeginSection': 0,\n",
       "     'offsetInEndSection': 102,\n",
       "     'beginSection': 'abstract',\n",
       "     'endSection': 'abstract'},\n",
       "    {'document': 'http://www.ncbi.nlm.nih.gov/pubmed/16700052',\n",
       "     'text': 'Using current nosology, five sporadic patients have Ohdo syndrome, associated with congenital hypothyroidism in two of them (thus also compatible with a diagnosis of Young-Simpson syndrome).',\n",
       "     'offsetInBeginSection': 115,\n",
       "     'offsetInEndSection': 305,\n",
       "     'beginSection': 'abstract',\n",
       "     'endSection': 'abstract'},\n",
       "    {'document': 'http://www.ncbi.nlm.nih.gov/pubmed/26338144',\n",
       "     'text': 'MED12 [MIM *300188] (mediator complex subunit 12) mutations have been linked to numerous XLID syndromes, including Lujan, FG, and Ohdo, and MED12 is included in many XLID panels.',\n",
       "     'offsetInBeginSection': 469,\n",
       "     'offsetInEndSection': 647,\n",
       "     'beginSection': 'abstract',\n",
       "     'endSection': 'abstract'}]},\n",
       "  {'id': '5a6e472ab750ff4455000048',\n",
       "   'body': 'What is the function of the TMEM132 genes?',\n",
       "   'documents': ['http://www.ncbi.nlm.nih.gov/pubmed/29088312',\n",
       "    'http://www.ncbi.nlm.nih.gov/pubmed/33444382',\n",
       "    'http://www.ncbi.nlm.nih.gov/pubmed/35690356',\n",
       "    'http://www.ncbi.nlm.nih.gov/pubmed/33726789',\n",
       "    'http://www.ncbi.nlm.nih.gov/pubmed/31715870',\n",
       "    'http://www.ncbi.nlm.nih.gov/pubmed/28084824',\n",
       "    'http://www.ncbi.nlm.nih.gov/pubmed/20795330',\n",
       "    'http://www.ncbi.nlm.nih.gov/pubmed/34537306',\n",
       "    'http://www.ncbi.nlm.nih.gov/pubmed/20816817',\n",
       "    'http://www.ncbi.nlm.nih.gov/pubmed/32360189'],\n",
       "   'snippets': [{'document': 'http://www.ncbi.nlm.nih.gov/pubmed/20795330',\n",
       "     'text': 'What is the function of the Hox genes?',\n",
       "     'offsetInBeginSection': 0,\n",
       "     'offsetInEndSection': 38,\n",
       "     'beginSection': 'abstract',\n",
       "     'endSection': 'abstract'},\n",
       "    {'document': 'http://www.ncbi.nlm.nih.gov/pubmed/12569411',\n",
       "     'text': 'Efficient RNA interference (RNAi) revealed the function of a cembratriene-ol (CBT-ol) cyclase gene responsible for conversion of geranylgeranyl pyrophosphate to CBT-ols, and verified the function of a P450 gene responsible for conversion of CBT-ols to CBT-diols.',\n",
       "     'offsetInBeginSection': 135,\n",
       "     'offsetInEndSection': 397,\n",
       "     'beginSection': 'abstract',\n",
       "     'endSection': 'abstract'},\n",
       "    {'document': 'http://www.ncbi.nlm.nih.gov/pubmed/12569411',\n",
       "     'text': 'Our results identify the function of a CBT-ol cyclase gene and demonstrate the efficacy and superiority of RNAi for assessing the functions of two trichome-specific genes that encode enzymes having widely different functions.',\n",
       "     'offsetInBeginSection': 1278,\n",
       "     'offsetInEndSection': 1503,\n",
       "     'beginSection': 'abstract',\n",
       "     'endSection': 'abstract'},\n",
       "    {'document': 'http://www.ncbi.nlm.nih.gov/pubmed/29088312',\n",
       "     'text': 'These findings strongly predict a cellular adhesion function for TMEM132 family, connecting the extracellular medium with the intracellular actin cytoskeleton.',\n",
       "     'offsetInBeginSection': 708,\n",
       "     'offsetInEndSection': 867,\n",
       "     'beginSection': 'abstract',\n",
       "     'endSection': 'abstract'},\n",
       "    {'document': 'http://www.ncbi.nlm.nih.gov/pubmed/8173323',\n",
       "     'text': 'In other cases, where gene function was known, targeted mutations have revealed in which cell population, and at what developmental stage, particular genes are first indispensable.',\n",
       "     'offsetInBeginSection': 335,\n",
       "     'offsetInEndSection': 515,\n",
       "     'beginSection': 'abstract',\n",
       "     'endSection': 'abstract'},\n",
       "    {'document': 'http://www.ncbi.nlm.nih.gov/pubmed/12569411',\n",
       "     'text': 'CBT-diols are abundant diterpenes that comprise about 60% and 10% of trichome exudate weight and leaf dry weight, respectively, in Nicotiana tabacum, T.I.',\n",
       "     'offsetInBeginSection': 398,\n",
       "     'offsetInEndSection': 552,\n",
       "     'beginSection': 'abstract',\n",
       "     'endSection': 'abstract'},\n",
       "    {'document': 'http://www.ncbi.nlm.nih.gov/pubmed/12569411',\n",
       "     'text': 'The functions of two key, trichome-expressed genes were assessed using different posttranscriptional gene silencing strategies (PTGS).',\n",
       "     'offsetInBeginSection': 0,\n",
       "     'offsetInEndSection': 134,\n",
       "     'beginSection': 'abstract',\n",
       "     'endSection': 'abstract'},\n",
       "    {'document': 'http://www.ncbi.nlm.nih.gov/pubmed/7579525',\n",
       "     'text': 'Less compelling, but still remarkable, is the conservation of other homeobox gene classes and of regulators of homeotic gene expression and function.',\n",
       "     'offsetInBeginSection': 445,\n",
       "     'offsetInEndSection': 594,\n",
       "     'beginSection': 'abstract',\n",
       "     'endSection': 'abstract'},\n",
       "    {'document': 'http://www.ncbi.nlm.nih.gov/pubmed/16500932',\n",
       "     'text': 'K-medoids or hierarchical clustering, to cluster the genes with known functions.',\n",
       "     'offsetInBeginSection': 654,\n",
       "     'offsetInEndSection': 734,\n",
       "     'beginSection': 'abstract',\n",
       "     'endSection': 'abstract'},\n",
       "    {'document': 'http://www.ncbi.nlm.nih.gov/pubmed/20795330',\n",
       "     'text': 'Reversely, many genes, not belonging to the Hox group, do present a homeotic function.',\n",
       "     'offsetInBeginSection': 728,\n",
       "     'offsetInEndSection': 814,\n",
       "     'beginSection': 'abstract',\n",
       "     'endSection': 'abstract'}]},\n",
       "  {'id': '5a774240faa1ab7d2e000003',\n",
       "   'body': 'What is the relationship of fyn kinase and tau?',\n",
       "   'documents': ['http://www.ncbi.nlm.nih.gov/pubmed/27193083',\n",
       "    'http://www.ncbi.nlm.nih.gov/pubmed/11826099',\n",
       "    'http://www.ncbi.nlm.nih.gov/pubmed/25156556',\n",
       "    'http://www.ncbi.nlm.nih.gov/pubmed/21228179',\n",
       "    'http://www.ncbi.nlm.nih.gov/pubmed/32814048',\n",
       "    'http://www.ncbi.nlm.nih.gov/pubmed/16115884',\n",
       "    'http://www.ncbi.nlm.nih.gov/pubmed/31237563',\n",
       "    'http://www.ncbi.nlm.nih.gov/pubmed/31452242',\n",
       "    'http://www.ncbi.nlm.nih.gov/pubmed/21692989',\n",
       "    'http://www.ncbi.nlm.nih.gov/pubmed/29782321'],\n",
       "   'snippets': [{'document': 'http://www.ncbi.nlm.nih.gov/pubmed/23805846',\n",
       "     'text': 'Treatment with Fyn pathway inhibitors, Fyn kinase inhibitor PP2 and MEK inhibitor U0126, reversed the PrP(C)-induced tau reduction and Aβ oligomer treatment modulated Fyn kinase activity.',\n",
       "     'offsetInBeginSection': 1061,\n",
       "     'offsetInEndSection': 1249,\n",
       "     'beginSection': 'abstract',\n",
       "     'endSection': 'abstract'},\n",
       "    {'document': 'http://www.ncbi.nlm.nih.gov/pubmed/21741124',\n",
       "     'text': 'Fyn kinase phosphorylates tau and exacerbates amyloid beta (Aβ)-mediated synaptic dysfunction.',\n",
       "     'offsetInBeginSection': 0,\n",
       "     'offsetInEndSection': 95,\n",
       "     'beginSection': 'abstract',\n",
       "     'endSection': 'abstract'},\n",
       "    {'document': 'http://www.ncbi.nlm.nih.gov/pubmed/27193083',\n",
       "     'text': 'Fyn also co-localises with tau in a proportion of neurons containing tau tangles in AD and fyn is also a tau kinase.',\n",
       "     'offsetInBeginSection': 754,\n",
       "     'offsetInEndSection': 870,\n",
       "     'beginSection': 'abstract',\n",
       "     'endSection': 'abstract'},\n",
       "    {'document': 'http://www.ncbi.nlm.nih.gov/pubmed/19115405',\n",
       "     'text': 'Fyn protein-tyrosine kinase (Fyn kinase), a member of the Src family, participates in signalling pathways that regulate OLGs/myelin cytoskeletal reorganization.',\n",
       "     'offsetInBeginSection': 510,\n",
       "     'offsetInEndSection': 670,\n",
       "     'beginSection': 'abstract',\n",
       "     'endSection': 'abstract'},\n",
       "    {'document': 'http://www.ncbi.nlm.nih.gov/pubmed/23805846',\n",
       "     'text': 'The results suggested Fyn pathway regulated Aβ-PrP(C)-tau signaling.',\n",
       "     'offsetInBeginSection': 1250,\n",
       "     'offsetInEndSection': 1319,\n",
       "     'beginSection': 'abstract',\n",
       "     'endSection': 'abstract'},\n",
       "    {'document': 'http://www.ncbi.nlm.nih.gov/pubmed/21228179',\n",
       "     'text': 'Recent evidence suggests that microtubule-associated protein tau may mediate amyloid-β peptide (Aβ) toxicity by modulating the tyrosine kinase Fyn.',\n",
       "     'offsetInBeginSection': 143,\n",
       "     'offsetInEndSection': 292,\n",
       "     'beginSection': 'abstract',\n",
       "     'endSection': 'abstract'},\n",
       "    {'document': 'http://www.ncbi.nlm.nih.gov/pubmed/16115884',\n",
       "     'text': 'We have recently shown that tau interacts with the SH3 domain of Fyn, an Src family non-receptor tyrosine kinase, and is tyrosine-phosphorylated by Fyn on Tyr-18.',\n",
       "     'offsetInBeginSection': 180,\n",
       "     'offsetInEndSection': 342,\n",
       "     'beginSection': 'abstract',\n",
       "     'endSection': 'abstract'},\n",
       "    {'document': 'http://www.ncbi.nlm.nih.gov/pubmed/11826099',\n",
       "     'text': 'Because ligation of the cell adhesion molecule F3 on oligodendrocytes leads to activation of Fyn kinase localized in rafts, these findings suggest that recruitment of Tau and Tubulin to activated Fyn kinase in rafts is an important step in the initiation of myelination.',\n",
       "     'offsetInBeginSection': 1390,\n",
       "     'offsetInEndSection': 1660,\n",
       "     'beginSection': 'abstract',\n",
       "     'endSection': 'abstract'},\n",
       "    {'document': 'http://www.ncbi.nlm.nih.gov/pubmed/11826099',\n",
       "     'text': 'Tau interacts with the Fyn SH3 domain whereas alpha-Tubulin binds to the Fyn SH2 and SH3 domains.',\n",
       "     'offsetInBeginSection': 456,\n",
       "     'offsetInEndSection': 553,\n",
       "     'beginSection': 'abstract',\n",
       "     'endSection': 'abstract'},\n",
       "    {'document': 'http://www.ncbi.nlm.nih.gov/pubmed/11826099',\n",
       "     'text': 'Here we demonstrate that Fyn binds to the cytoskeletal proteins Tau and alpha-Tubulin in oligodendrocytes.',\n",
       "     'offsetInBeginSection': 349,\n",
       "     'offsetInEndSection': 455,\n",
       "     'beginSection': 'abstract',\n",
       "     'endSection': 'abstract'}]},\n",
       "  {'id': '5a8866958cb19eca6b000003',\n",
       "   'body': 'Are neurexins localized at pre-synapses?',\n",
       "   'documents': ['http://www.ncbi.nlm.nih.gov/pubmed/34919427',\n",
       "    'http://www.ncbi.nlm.nih.gov/pubmed/33888718',\n",
       "    'http://www.ncbi.nlm.nih.gov/pubmed/24211009',\n",
       "    'http://www.ncbi.nlm.nih.gov/pubmed/17360903',\n",
       "    'http://www.ncbi.nlm.nih.gov/pubmed/26213384',\n",
       "    'http://www.ncbi.nlm.nih.gov/pubmed/22262843',\n",
       "    'http://www.ncbi.nlm.nih.gov/pubmed/19036990',\n",
       "    'http://www.ncbi.nlm.nih.gov/pubmed/16406382',\n",
       "    'http://www.ncbi.nlm.nih.gov/pubmed/17347997',\n",
       "    'http://www.ncbi.nlm.nih.gov/pubmed/12827191'],\n",
       "   'snippets': [{'document': 'http://www.ncbi.nlm.nih.gov/pubmed/15620359',\n",
       "     'text': 'beta-neurexins and neuroligins form a trans-synaptic link at glutamate synapses.',\n",
       "     'offsetInBeginSection': 175,\n",
       "     'offsetInEndSection': 255,\n",
       "     'beginSection': 'abstract',\n",
       "     'endSection': 'abstract'},\n",
       "    {'document': 'http://www.ncbi.nlm.nih.gov/pubmed/12796785',\n",
       "     'text': 'Beta-neurexins are candidate receptors for neuroligin-1, a postsynaptic membrane protein that can trigger synapse formation at axon contacts.',\n",
       "     'offsetInBeginSection': 180,\n",
       "     'offsetInEndSection': 321,\n",
       "     'beginSection': 'abstract',\n",
       "     'endSection': 'abstract'},\n",
       "    {'document': 'http://www.ncbi.nlm.nih.gov/pubmed/27664583',\n",
       "     'text': 'Neurexins and neuroligins are two distinct families of single-pass transmembrane proteins localized at pre- and postsynapses, respectively.',\n",
       "     'offsetInBeginSection': 0,\n",
       "     'offsetInEndSection': 139,\n",
       "     'beginSection': 'abstract',\n",
       "     'endSection': 'abstract'},\n",
       "    {'document': 'http://www.ncbi.nlm.nih.gov/pubmed/12796785',\n",
       "     'text': 'Here we report that neurexins are concentrated at synapses and that purified neuroligin is sufficient to cluster neurexin and to induce presynaptic differentiation.',\n",
       "     'offsetInBeginSection': 322,\n",
       "     'offsetInEndSection': 486,\n",
       "     'beginSection': 'abstract',\n",
       "     'endSection': 'abstract'},\n",
       "    {'document': 'http://www.ncbi.nlm.nih.gov/pubmed/17360903',\n",
       "     'text': 'In this protein complex, postsynaptic neuroligins are thought to interact trans-synaptically with presynaptic neurexins.',\n",
       "     'offsetInBeginSection': 480,\n",
       "     'offsetInEndSection': 600,\n",
       "     'beginSection': 'abstract',\n",
       "     'endSection': 'abstract'},\n",
       "    {'document': 'http://www.ncbi.nlm.nih.gov/pubmed/20471353',\n",
       "     'text': 'Neurexins are presynaptic cell-adhesion molecules that form trans-synaptic complexes with postsynaptic neuroligins.',\n",
       "     'offsetInBeginSection': 0,\n",
       "     'offsetInEndSection': 115,\n",
       "     'beginSection': 'abstract',\n",
       "     'endSection': 'abstract'},\n",
       "    {'document': 'http://www.ncbi.nlm.nih.gov/pubmed/26785044',\n",
       "     'text': 'Several families of neuronal adhesion molecules have been identified such as the neuronal cell adhesion molecules, neurexins and neuroligins, and in particular recently several leucine-rich repeat proteins, e.g., Netrin G-ligands, SLITRKs, and LRRTMs.',\n",
       "     'offsetInBeginSection': 192,\n",
       "     'offsetInEndSection': 443,\n",
       "     'beginSection': 'abstract',\n",
       "     'endSection': 'abstract'},\n",
       "    {'document': 'http://www.ncbi.nlm.nih.gov/pubmed/1621094',\n",
       "     'text': 'Neurexins contain single transmembrane regions and extracellular domains with repeated sequences similar to sequences in laminin A, slit, and agrin, proteins that have been implicated in axon guidance and synaptogenesis.',\n",
       "     'offsetInBeginSection': 554,\n",
       "     'offsetInEndSection': 774,\n",
       "     'beginSection': 'abstract',\n",
       "     'endSection': 'abstract'},\n",
       "    {'document': 'http://www.ncbi.nlm.nih.gov/pubmed/12796785',\n",
       "     'text': 'Neurexins are a large family of proteins that act as neuronal cell-surface receptors.',\n",
       "     'offsetInBeginSection': 0,\n",
       "     'offsetInEndSection': 85,\n",
       "     'beginSection': 'abstract',\n",
       "     'endSection': 'abstract'},\n",
       "    {'document': 'http://www.ncbi.nlm.nih.gov/pubmed/28220838',\n",
       "     'text': 'Neurexins are a diverse family of cell adhesion molecules that localize to presynaptic specializations of CNS neurons.',\n",
       "     'offsetInBeginSection': 0,\n",
       "     'offsetInEndSection': 118,\n",
       "     'beginSection': 'abstract',\n",
       "     'endSection': 'abstract'}]},\n",
       "  {'id': '5a7238d32dc08e987e000009',\n",
       "   'body': 'Which two cotransporters are inhibited by sotagliflozin?',\n",
       "   'documents': ['http://www.ncbi.nlm.nih.gov/pubmed/35817022',\n",
       "    'http://www.ncbi.nlm.nih.gov/pubmed/28899222',\n",
       "    'http://www.ncbi.nlm.nih.gov/pubmed/35292769',\n",
       "    'http://www.ncbi.nlm.nih.gov/pubmed/16446421',\n",
       "    'http://www.ncbi.nlm.nih.gov/pubmed/31335194',\n",
       "    'http://www.ncbi.nlm.nih.gov/pubmed/28387957',\n",
       "    'http://www.ncbi.nlm.nih.gov/pubmed/33200892',\n",
       "    'http://www.ncbi.nlm.nih.gov/pubmed/32928957',\n",
       "    'http://www.ncbi.nlm.nih.gov/pubmed/25759591',\n",
       "    'http://www.ncbi.nlm.nih.gov/pubmed/32618383'],\n",
       "   'snippets': [{'document': 'http://www.ncbi.nlm.nih.gov/pubmed/16446421',\n",
       "     'text': 'This gene family has two major branches with different physiological functions and inverse regulation: K-Cl cotransporters (KCC1-KCC4) mediate cellular Cl- efflux, are inhibited by phosphorylation, and are activated by dephosphorylation; Na-(K)-Cl cotransporters (NCC and NKCC1/2) mediate cellular Cl- influx and are activated by phosphorylation.',\n",
       "     'offsetInBeginSection': 196,\n",
       "     'offsetInEndSection': 542,\n",
       "     'beginSection': 'abstract',\n",
       "     'endSection': 'abstract'},\n",
       "    {'document': 'http://www.ncbi.nlm.nih.gov/pubmed/28811850',\n",
       "     'text': 'SGLT2 inhibitors such as canagliflozin and sotagliflozin (a SGLT1/SGLT2 dual inhibitor) also have a mild or moderate intestinal and renal SGLT1 inhibitory effect because of their relatively weak selectivity for SGLT2 over SGLT1.',\n",
       "     'offsetInBeginSection': 379,\n",
       "     'offsetInEndSection': 607,\n",
       "     'beginSection': 'abstract',\n",
       "     'endSection': 'abstract'},\n",
       "    {'document': 'http://www.ncbi.nlm.nih.gov/pubmed/28872070',\n",
       "     'text': 'The sotagliflozin molecule exhibits two fundamentally different molecular conformations in form 1 {systematic name: (2S,3R,4R,5S,6R)-2-[4-chloro-3-(4-ethoxybenzyl)phenyl]-6-(methylsulfanyl)tetrahydro-2H-pyran-3,4,5-triol, C21H25ClO5S, (I)} and the monohydrate [C21H25ClO5S·H2O, (II)].',\n",
       "     'offsetInBeginSection': 0,\n",
       "     'offsetInEndSection': 285,\n",
       "     'beginSection': 'abstract',\n",
       "     'endSection': 'abstract'},\n",
       "    {'document': 'http://www.ncbi.nlm.nih.gov/pubmed/28899222',\n",
       "     'text': 'We evaluated the safety and efficacy of sotagliflozin, an oral inhibitor of sodium-glucose cotransporters 1 and 2, in combination with insulin treatment in patients with type 1 diabetes.',\n",
       "     'offsetInBeginSection': 120,\n",
       "     'offsetInEndSection': 306,\n",
       "     'beginSection': 'abstract',\n",
       "     'endSection': 'abstract'},\n",
       "    {'document': 'http://www.ncbi.nlm.nih.gov/pubmed/26484403',\n",
       "     'text': 'Phase 2 studies with the SGLT2 inhibitor empagliflozin and the dual SGLT1 and SGLT2 inhibitor sotagliflozin, which acts in the gut and the kidney, have demonstrated reductions in A1C, weight, and glucose variability without an increased incidence of hypoglycemia.',\n",
       "     'offsetInBeginSection': 1187,\n",
       "     'offsetInEndSection': 1450,\n",
       "     'beginSection': 'abstract',\n",
       "     'endSection': 'abstract'},\n",
       "    {'document': 'http://www.ncbi.nlm.nih.gov/pubmed/26049551',\n",
       "     'text': 'OBJECTIVE To assess the safety and efficacy of dual sodium-glucose cotransporter (SGLT) 1 and SGLT2 inhibition with sotagliflozin as adjunct therapy to insulin in type 1 diabetes.',\n",
       "     'offsetInBeginSection': 0,\n",
       "     'offsetInEndSection': 179,\n",
       "     'beginSection': 'abstract',\n",
       "     'endSection': 'abstract'},\n",
       "    {'document': 'http://www.ncbi.nlm.nih.gov/pubmed/25690134',\n",
       "     'text': 'Therefore, sotagliflozin (LX4211) has been developed as a dual inhibitor of SGLT1 and SGLT2.',\n",
       "     'offsetInBeginSection': 576,\n",
       "     'offsetInEndSection': 668,\n",
       "     'beginSection': 'abstract',\n",
       "     'endSection': 'abstract'},\n",
       "    {'document': 'http://www.ncbi.nlm.nih.gov/pubmed/26049551',\n",
       "     'text': 'CONCLUSIONS As adjunct to insulin, dual SGLT1 and SGLT2 inhibition with sotagliflozin improved glycemic control and the CGM profile with bolus insulin dose reduction, weight loss, and no increased hypoglycemia in type 1 diabetes.',\n",
       "     'offsetInBeginSection': 1440,\n",
       "     'offsetInEndSection': 1669,\n",
       "     'beginSection': 'abstract',\n",
       "     'endSection': 'abstract'},\n",
       "    {'document': 'http://www.ncbi.nlm.nih.gov/pubmed/26548423',\n",
       "     'text': 'AREAS COVERED Herein, the authors focus specifically on sotagliflozin (LX4211), the first-in-class dual SGLT1/SGLT2 inhibitor.',\n",
       "     'offsetInBeginSection': 479,\n",
       "     'offsetInEndSection': 605,\n",
       "     'beginSection': 'abstract',\n",
       "     'endSection': 'abstract'},\n",
       "    {'document': 'http://www.ncbi.nlm.nih.gov/pubmed/28811850',\n",
       "     'text': 'These findings suggest that a combination of canagliflozin or sotagliflozin and a DPP4 inhibitor can provide a beneficial effect associated with elevation of circulating active GLP-1 and may serve as a treatment for patients with type 2 diabetes.',\n",
       "     'offsetInBeginSection': 1052,\n",
       "     'offsetInEndSection': 1298,\n",
       "     'beginSection': 'abstract',\n",
       "     'endSection': 'abstract'}]},\n",
       "  {'id': '58f8a08370f9fc6f0f00001b',\n",
       "   'body': 'Which are the main manifestations of Ohdo syndrome?',\n",
       "   'documents': ['http://www.ncbi.nlm.nih.gov/pubmed/15127758',\n",
       "    'http://www.ncbi.nlm.nih.gov/pubmed/8279489',\n",
       "    'http://www.ncbi.nlm.nih.gov/pubmed/23395478',\n",
       "    'http://www.ncbi.nlm.nih.gov/pubmed/7519949',\n",
       "    'http://www.ncbi.nlm.nih.gov/pubmed/29850329',\n",
       "    'http://www.ncbi.nlm.nih.gov/pubmed/12868473',\n",
       "    'http://www.ncbi.nlm.nih.gov/pubmed/30739122',\n",
       "    'http://www.ncbi.nlm.nih.gov/pubmed/9546834',\n",
       "    'http://www.ncbi.nlm.nih.gov/pubmed/16700052',\n",
       "    'http://www.ncbi.nlm.nih.gov/pubmed/9184251'],\n",
       "   'snippets': [{'document': 'http://www.ncbi.nlm.nih.gov/pubmed/12868473',\n",
       "     'text': 'Ohdo syndrome (MIM 249620) is a multiple malformation syndrome characterized by blepharophimosis, ptosis, dental hypoplasia, hearing impairment and intellectual disability.',\n",
       "     'offsetInBeginSection': 0,\n",
       "     'offsetInEndSection': 172,\n",
       "     'beginSection': 'abstract',\n",
       "     'endSection': 'abstract'},\n",
       "    {'document': 'http://www.ncbi.nlm.nih.gov/pubmed/23395478',\n",
       "     'text': 'The occurrence of three different hemizygous missense mutations in three unrelated families affected by Ohdo syndrome MKB type shows that mutations in MED12 are the underlying cause of this X-linked form of Ohdo syndrome.',\n",
       "     'offsetInBeginSection': 861,\n",
       "     'offsetInEndSection': 1082,\n",
       "     'beginSection': 'abstract',\n",
       "     'endSection': 'abstract'},\n",
       "    {'document': 'http://www.ncbi.nlm.nih.gov/pubmed/23395478',\n",
       "     'text': 'Ohdo syndrome comprises a heterogeneous group of disorders characterized by intellectual disability (ID) and typical facial features, including blepharophimosis.',\n",
       "     'offsetInBeginSection': 0,\n",
       "     'offsetInEndSection': 161,\n",
       "     'beginSection': 'abstract',\n",
       "     'endSection': 'abstract'},\n",
       "    {'document': 'http://www.ncbi.nlm.nih.gov/pubmed/9546834',\n",
       "     'text': 'A mentally retarded girl with congenital blepharophimosis, ptosis, hypoplastic teeth and other traits consistent with Ohdo syndrome is reported.',\n",
       "     'offsetInBeginSection': 0,\n",
       "     'offsetInEndSection': 144,\n",
       "     'beginSection': 'abstract',\n",
       "     'endSection': 'abstract'},\n",
       "    {'document': 'http://www.ncbi.nlm.nih.gov/pubmed/7519949',\n",
       "     'text': 'The Ohdo syndrome is characterized by blepharophimosis, ptosis, abnormal ears, and mental retardation.',\n",
       "     'offsetInBeginSection': 0,\n",
       "     'offsetInEndSection': 102,\n",
       "     'beginSection': 'abstract',\n",
       "     'endSection': 'abstract'},\n",
       "    {'document': 'http://www.ncbi.nlm.nih.gov/pubmed/10631927',\n",
       "     'text': 'A mentally retarded girl with congenital blepharophimosis, ptosis, abnormal teeth and other features consistent with Ohdo syndrome is reported.',\n",
       "     'offsetInBeginSection': 0,\n",
       "     'offsetInEndSection': 143,\n",
       "     'beginSection': 'abstract',\n",
       "     'endSection': 'abstract'},\n",
       "    {'document': 'http://www.ncbi.nlm.nih.gov/pubmed/23395478',\n",
       "     'text': 'Together with the recently described KAT6B mutations resulting in Ohdo syndrome Say/Barber/Biesecker/Young/Simpson type, our findings point to aberrant chromatin modification as being central to the pathogenesis of Ohdo syndrome.',\n",
       "     'offsetInBeginSection': 1083,\n",
       "     'offsetInEndSection': 1312,\n",
       "     'beginSection': 'abstract',\n",
       "     'endSection': 'abstract'},\n",
       "    {'document': 'http://www.ncbi.nlm.nih.gov/pubmed/16700052',\n",
       "     'text': 'Using current nosology, five sporadic patients have Ohdo syndrome, associated with congenital hypothyroidism in two of them (thus also compatible with a diagnosis of Young-Simpson syndrome).',\n",
       "     'offsetInBeginSection': 115,\n",
       "     'offsetInEndSection': 305,\n",
       "     'beginSection': 'abstract',\n",
       "     'endSection': 'abstract'},\n",
       "    {'document': 'http://www.ncbi.nlm.nih.gov/pubmed/7519949',\n",
       "     'text': 'This report describes a child with the Ohdo syndrome who, in addition, has microcephaly and growth retardation.',\n",
       "     'offsetInBeginSection': 103,\n",
       "     'offsetInEndSection': 214,\n",
       "     'beginSection': 'abstract',\n",
       "     'endSection': 'abstract'},\n",
       "    {'document': 'http://www.ncbi.nlm.nih.gov/pubmed/9184251',\n",
       "     'text': 'We describe a Brazilian girl presenting Ohdo syndrome with cleft palate and diverticula of the bladder.',\n",
       "     'offsetInBeginSection': 0,\n",
       "     'offsetInEndSection': 103,\n",
       "     'beginSection': 'abstract',\n",
       "     'endSection': 'abstract'}]},\n",
       "  {'id': '5a6e5df6b750ff445500004e',\n",
       "   'body': 'Describe GARLIC (GWAS-based Prediction Toolkit for Connecting Diseases and Cell Types)',\n",
       "   'documents': ['http://www.ncbi.nlm.nih.gov/pubmed/28007912',\n",
       "    'http://www.ncbi.nlm.nih.gov/pubmed/32012148',\n",
       "    'http://www.ncbi.nlm.nih.gov/pubmed/28302177',\n",
       "    'http://www.ncbi.nlm.nih.gov/pubmed/29765977',\n",
       "    'http://www.ncbi.nlm.nih.gov/pubmed/30809253',\n",
       "    'http://www.ncbi.nlm.nih.gov/pubmed/26158728',\n",
       "    'http://www.ncbi.nlm.nih.gov/pubmed/33828297',\n",
       "    'http://www.ncbi.nlm.nih.gov/pubmed/24799394',\n",
       "    'http://www.ncbi.nlm.nih.gov/pubmed/29701762',\n",
       "    'http://www.ncbi.nlm.nih.gov/pubmed/34659337'],\n",
       "   'snippets': [{'document': 'http://www.ncbi.nlm.nih.gov/pubmed/28007912',\n",
       "     'text': 'Based on emerging evidences suggesting that disease-associated SNPs are frequently found within cell type-specific regulatory sequences, here we present GARLIC (GWAS-based Prediction Toolkit for Connecting Diseases and Cell Types), a user-friendly, multi-purpose software with an associated database and online viewer that, using global maps of cis-regulatory elements, can aetiologically connect human diseases with relevant cell types.',\n",
       "     'offsetInBeginSection': 522,\n",
       "     'offsetInEndSection': 959,\n",
       "     'beginSection': 'abstract',\n",
       "     'endSection': 'abstract'},\n",
       "    {'document': 'http://www.ncbi.nlm.nih.gov/pubmed/28036406',\n",
       "     'text': 'Recent heritability analyses have indicated that genome-wide association studies (GWAS) have the potential to improve genetic risk prediction for complex diseases based on polygenic risk score (PRS), a simple modelling technique that can be implemented using summary-level data from the discovery samples.',\n",
       "     'offsetInBeginSection': 0,\n",
       "     'offsetInEndSection': 305,\n",
       "     'beginSection': 'abstract',\n",
       "     'endSection': 'abstract'},\n",
       "    {'document': 'http://www.ncbi.nlm.nih.gov/pubmed/28007912',\n",
       "     'text': 'Genome-wide association studies (GWAS) have emerged as a powerful tool to uncover the genetic basis of human common diseases, which often show a complex, polygenic and multi-factorial aetiology.',\n",
       "     'offsetInBeginSection': 0,\n",
       "     'offsetInEndSection': 194,\n",
       "     'beginSection': 'abstract',\n",
       "     'endSection': 'abstract'},\n",
       "    {'document': 'http://www.ncbi.nlm.nih.gov/pubmed/28598966',\n",
       "     'text': 'PleioPred uses GWAS summary statistics as its input, and jointly models multiple genetically correlated diseases and a variety of external information including linkage disequilibrium and diverse functional annotations to increase the accuracy of risk prediction.',\n",
       "     'offsetInBeginSection': 758,\n",
       "     'offsetInEndSection': 1021,\n",
       "     'beginSection': 'abstract',\n",
       "     'endSection': 'abstract'},\n",
       "    {'document': 'http://www.ncbi.nlm.nih.gov/pubmed/28302177',\n",
       "     'text': 'By connecting large-scale epigenomic profiles to expression quantitative trait loci (eQTLs) in a wide range of human tissues/cell types, we identify critical chromatin features that predict variant regulatory potential.',\n",
       "     'offsetInBeginSection': 138,\n",
       "     'offsetInEndSection': 357,\n",
       "     'beginSection': 'abstract',\n",
       "     'endSection': 'abstract'},\n",
       "    {'document': 'http://www.ncbi.nlm.nih.gov/pubmed/21536720',\n",
       "     'text': 'More generally, we demonstrate that a functional network of human genes provides a valuable statistical framework for prioritizing candidate disease genes, both for candidate gene-based and GWAS-based studies.',\n",
       "     'offsetInBeginSection': 1428,\n",
       "     'offsetInEndSection': 1637,\n",
       "     'beginSection': 'abstract',\n",
       "     'endSection': 'abstract'},\n",
       "    {'document': 'http://www.ncbi.nlm.nih.gov/pubmed/24799394',\n",
       "     'text': 'Bioinformatic integration of transcriptomic data with recent GWAS data identified specific candidate genes and cell types for inflammatory pathologies.',\n",
       "     'offsetInBeginSection': 1698,\n",
       "     'offsetInEndSection': 1849,\n",
       "     'beginSection': 'abstract',\n",
       "     'endSection': 'abstract'},\n",
       "    {'document': 'http://www.ncbi.nlm.nih.gov/pubmed/28598966',\n",
       "     'text': 'In this work, we introduce PleioPred, a principled framework that leverages pleiotropy and functional annotations in genetic risk prediction for complex diseases.',\n",
       "     'offsetInBeginSection': 595,\n",
       "     'offsetInEndSection': 757,\n",
       "     'beginSection': 'abstract',\n",
       "     'endSection': 'abstract'},\n",
       "    {'document': 'http://www.ncbi.nlm.nih.gov/pubmed/19508241',\n",
       "     'text': 'We describe here a method of combining multiple genetic variants for early disease prediction, based on the optimality theory of the likelihood ratio (LR).',\n",
       "     'offsetInBeginSection': 304,\n",
       "     'offsetInEndSection': 459,\n",
       "     'beginSection': 'abstract',\n",
       "     'endSection': 'abstract'},\n",
       "    {'document': 'http://www.ncbi.nlm.nih.gov/pubmed/28240269',\n",
       "     'text': 'Here we describe a GWAS using a highly multiplexed aptamer-based affinity proteomics platform.',\n",
       "     'offsetInBeginSection': 508,\n",
       "     'offsetInEndSection': 602,\n",
       "     'beginSection': 'abstract',\n",
       "     'endSection': 'abstract'}]},\n",
       "  {'id': '5a7d4721faa1ab7d2e000012',\n",
       "   'body': 'What does davunetide do to microtubules?',\n",
       "   'documents': ['http://www.ncbi.nlm.nih.gov/pubmed/21902667',\n",
       "    'http://www.ncbi.nlm.nih.gov/pubmed/23971871',\n",
       "    'http://www.ncbi.nlm.nih.gov/pubmed/22347799',\n",
       "    'http://www.ncbi.nlm.nih.gov/pubmed/24873720',\n",
       "    'http://www.ncbi.nlm.nih.gov/pubmed/24533805',\n",
       "    'http://www.ncbi.nlm.nih.gov/pubmed/23325325',\n",
       "    'http://www.ncbi.nlm.nih.gov/pubmed/28257938',\n",
       "    'http://www.ncbi.nlm.nih.gov/pubmed/3899332',\n",
       "    'http://www.ncbi.nlm.nih.gov/pubmed/2095052',\n",
       "    'http://www.ncbi.nlm.nih.gov/pubmed/9692672'],\n",
       "   'snippets': [{'document': 'http://www.ncbi.nlm.nih.gov/pubmed/20417241',\n",
       "     'text': 'NAP (generic name, davunetide) is an active fragment of activity-dependent neuroprotective protein (ADNP).',\n",
       "     'offsetInBeginSection': 0,\n",
       "     'offsetInEndSection': 106,\n",
       "     'beginSection': 'abstract',\n",
       "     'endSection': 'abstract'},\n",
       "    {'document': 'http://www.ncbi.nlm.nih.gov/pubmed/25955282',\n",
       "     'text': 'The ADNP-EB-binding SIP domain is shared with the ADNP snippet drug candidate, NAPVSIPQ termed NAP (davunetide).',\n",
       "     'offsetInBeginSection': 518,\n",
       "     'offsetInEndSection': 630,\n",
       "     'beginSection': 'abstract',\n",
       "     'endSection': 'abstract'},\n",
       "    {'document': 'http://www.ncbi.nlm.nih.gov/pubmed/21050875',\n",
       "     'text': 'NAP (davunetide) is an active fragment of activity-dependent neuroprotective protein (ADNP).',\n",
       "     'offsetInBeginSection': 0,\n",
       "     'offsetInEndSection': 92,\n",
       "     'beginSection': 'abstract',\n",
       "     'endSection': 'abstract'},\n",
       "    {'document': 'http://www.ncbi.nlm.nih.gov/pubmed/22347799',\n",
       "     'text': 'Davunetide is a novel neuroprotective peptide that is thought to impact neuronal integrity and cell survival through the stabilization of microtubules.',\n",
       "     'offsetInBeginSection': 700,\n",
       "     'offsetInEndSection': 851,\n",
       "     'beginSection': 'abstract',\n",
       "     'endSection': 'abstract'},\n",
       "    {'document': 'http://www.ncbi.nlm.nih.gov/pubmed/21902667',\n",
       "     'text': 'Based on these extensive preclinical results, davunetide (NAP) is now being evaluated in a Phase II/III study of the tauopathy, progressive supranuclear palsy (PSP); (Allon Therapeutics Inc.).',\n",
       "     'offsetInBeginSection': 1515,\n",
       "     'offsetInEndSection': 1707,\n",
       "     'beginSection': 'abstract',\n",
       "     'endSection': 'abstract'},\n",
       "    {'document': 'http://www.ncbi.nlm.nih.gov/pubmed/23971871',\n",
       "     'text': 'Davunetide is the first neuroprotective peptide in its class, and has preclinical evidence for neuroprotective, neurotrophic and cognitive protective properties.',\n",
       "     'offsetInBeginSection': 0,\n",
       "     'offsetInEndSection': 161,\n",
       "     'beginSection': 'abstract',\n",
       "     'endSection': 'abstract'},\n",
       "    {'document': 'http://www.ncbi.nlm.nih.gov/pubmed/21902667',\n",
       "     'text': 'NAP (davunetide), an eight amino acid peptide derived from ADNP partly ameliorated deficits associated with ADNP deficiency.',\n",
       "     'offsetInBeginSection': 583,\n",
       "     'offsetInEndSection': 707,\n",
       "     'beginSection': 'abstract',\n",
       "     'endSection': 'abstract'},\n",
       "    {'document': 'http://www.ncbi.nlm.nih.gov/pubmed/24873720',\n",
       "     'text': 'Because progressive supranuclear palsy (PSP) is linked to tau pathology, davunetide could be a treatment for PSP.',\n",
       "     'offsetInBeginSection': 110,\n",
       "     'offsetInEndSection': 223,\n",
       "     'beginSection': 'abstract',\n",
       "     'endSection': 'abstract'},\n",
       "    {'document': 'http://www.ncbi.nlm.nih.gov/pubmed/23971871',\n",
       "     'text': \"Potential clinical uses of davunetide include neurodegenerative disorders such as Alzheimer's disease (AD), progressive supranuclear palsy (PSP), frontotemporal dementia (FTD) or cognitive impairment in other diseases such as schizophrenia where microtubule structure and function is known to be impaired.\",\n",
       "     'offsetInBeginSection': 321,\n",
       "     'offsetInEndSection': 626,\n",
       "     'beginSection': 'abstract',\n",
       "     'endSection': 'abstract'},\n",
       "    {'document': 'http://www.ncbi.nlm.nih.gov/pubmed/21524250',\n",
       "     'text': 'NAP (davunetide) is an eight amino acid peptide (NAPVSIPQ) that has been shown to provide potent neuroprotection, in vitro and in vivo.',\n",
       "     'offsetInBeginSection': 0,\n",
       "     'offsetInEndSection': 135,\n",
       "     'beginSection': 'abstract',\n",
       "     'endSection': 'abstract'}]},\n",
       "  {'id': '5a886da58cb19eca6b000004',\n",
       "   'body': 'Has Cas9 gene editing the potential to correct inhereted hearing loss?',\n",
       "   'documents': ['http://www.ncbi.nlm.nih.gov/pubmed/25987504',\n",
       "    'http://www.ncbi.nlm.nih.gov/pubmed/33752742',\n",
       "    'http://www.ncbi.nlm.nih.gov/pubmed/32387678',\n",
       "    'http://www.ncbi.nlm.nih.gov/pubmed/32611519',\n",
       "    'http://www.ncbi.nlm.nih.gov/pubmed/30898719',\n",
       "    'http://www.ncbi.nlm.nih.gov/pubmed/34070435',\n",
       "    'http://www.ncbi.nlm.nih.gov/pubmed/32005950',\n",
       "    'http://www.ncbi.nlm.nih.gov/pubmed/35402069',\n",
       "    'http://www.ncbi.nlm.nih.gov/pubmed/31260171',\n",
       "    'http://www.ncbi.nlm.nih.gov/pubmed/35202345'],\n",
       "   'snippets': [{'document': 'http://www.ncbi.nlm.nih.gov/pubmed/25987504',\n",
       "     'text': 'For genetic hearing loss, CRISPR/Cas9 has potential to repair gene mutations by homology-directed-repair (HDR) or to disrupt dominant mutations by NHEJ, which could restore hearing.',\n",
       "     'offsetInBeginSection': 844,\n",
       "     'offsetInEndSection': 1025,\n",
       "     'beginSection': 'abstract',\n",
       "     'endSection': 'abstract'},\n",
       "    {'document': 'http://www.ncbi.nlm.nih.gov/pubmed/25987504',\n",
       "     'text': 'Targeted genome editing mediated by clustered, regularly interspaced, short palindromic repeat (CRISPR)/CRISPR-associated nuclease 9 (Cas9) technology has emerged as one of the most powerful tools to study gene functions, and with potential to treat genetic disorders.',\n",
       "     'offsetInBeginSection': 0,\n",
       "     'offsetInEndSection': 268,\n",
       "     'beginSection': 'abstract',\n",
       "     'endSection': 'abstract'},\n",
       "    {'document': 'http://www.ncbi.nlm.nih.gov/pubmed/28706995',\n",
       "     'text': 'Natural inhibitors of CRISPR-Cas9 enable phages to evade immunity and show promise in controlling Cas9-mediated gene editing in human cells.',\n",
       "     'offsetInBeginSection': 200,\n",
       "     'offsetInEndSection': 340,\n",
       "     'beginSection': 'abstract',\n",
       "     'endSection': 'abstract'},\n",
       "    {'document': 'http://www.ncbi.nlm.nih.gov/pubmed/28706995',\n",
       "     'text': 'CRISPR (clustered regularly interspaced short palindromic repeats)-Cas9 gene editing technology is derived from a microbial adaptive immune system, where bacteriophages are often the intended target.',\n",
       "     'offsetInBeginSection': 0,\n",
       "     'offsetInEndSection': 199,\n",
       "     'beginSection': 'abstract',\n",
       "     'endSection': 'abstract'},\n",
       "    {'document': 'http://www.ncbi.nlm.nih.gov/pubmed/28527117',\n",
       "     'text': 'The clustered regularly interspaced short palindromic repeats (CRISPR)-associated protein 9 (CRISPR-Cas9) system provides a novel genome editing technology that can precisely target a genomic site to disrupt or repair a specific gene.',\n",
       "     'offsetInBeginSection': 0,\n",
       "     'offsetInEndSection': 234,\n",
       "     'beginSection': 'abstract',\n",
       "     'endSection': 'abstract'},\n",
       "    {'document': 'http://www.ncbi.nlm.nih.gov/pubmed/27500183',\n",
       "     'text': 'The CRISPR/Cas9 system is a research hotspot in genome editing and regulation.',\n",
       "     'offsetInBeginSection': 0,\n",
       "     'offsetInEndSection': 78,\n",
       "     'beginSection': 'abstract',\n",
       "     'endSection': 'abstract'},\n",
       "    {'document': 'http://www.ncbi.nlm.nih.gov/pubmed/26817415',\n",
       "     'text': 'The CRISPR/Cas9 system is capable of editing multiple genes through one-step zygote injection.',\n",
       "     'offsetInBeginSection': 0,\n",
       "     'offsetInEndSection': 94,\n",
       "     'beginSection': 'abstract',\n",
       "     'endSection': 'abstract'},\n",
       "    {'document': 'http://www.ncbi.nlm.nih.gov/pubmed/28758991',\n",
       "     'text': 'Recently developed Cas9 variants, novel RNA-guided nucleases and base-editing systems, and DNA-free CRISPR-Cas9 delivery methods now provide great opportunities for plant genome engineering.',\n",
       "     'offsetInBeginSection': 524,\n",
       "     'offsetInEndSection': 714,\n",
       "     'beginSection': 'abstract',\n",
       "     'endSection': 'abstract'},\n",
       "    {'document': 'http://www.ncbi.nlm.nih.gov/pubmed/26829318',\n",
       "     'text': 'The combination of Cas9, guide RNA and repair template DNA can induce precise gene editing and the correction of genetic diseases in adult mammals.',\n",
       "     'offsetInBeginSection': 0,\n",
       "     'offsetInEndSection': 147,\n",
       "     'beginSection': 'abstract',\n",
       "     'endSection': 'abstract'},\n",
       "    {'document': 'http://www.ncbi.nlm.nih.gov/pubmed/28527117',\n",
       "     'text': 'The current review focuses on delivery systems for Cas9 mRNA, Cas9 protein, or vectors encoding the Cas9 gene and corresponding sgRNA.',\n",
       "     'offsetInBeginSection': 934,\n",
       "     'offsetInEndSection': 1068,\n",
       "     'beginSection': 'abstract',\n",
       "     'endSection': 'abstract'}]},\n",
       "  {'id': '5a7345792dc08e987e000019',\n",
       "   'body': 'Describe mechanism of action of Napabucasin.',\n",
       "   'documents': ['http://www.ncbi.nlm.nih.gov/pubmed/32383803',\n",
       "    'http://www.ncbi.nlm.nih.gov/pubmed/33506674',\n",
       "    'http://www.ncbi.nlm.nih.gov/pubmed/29297698',\n",
       "    'http://www.ncbi.nlm.nih.gov/pubmed/30768369',\n",
       "    'http://www.ncbi.nlm.nih.gov/pubmed/33655847',\n",
       "    'http://www.ncbi.nlm.nih.gov/pubmed/33594990',\n",
       "    'http://www.ncbi.nlm.nih.gov/pubmed/33576192',\n",
       "    'http://www.ncbi.nlm.nih.gov/pubmed/30659911',\n",
       "    'http://www.ncbi.nlm.nih.gov/pubmed/33816498',\n",
       "    'http://www.ncbi.nlm.nih.gov/pubmed/33274224'],\n",
       "   'snippets': [{'document': 'http://www.ncbi.nlm.nih.gov/pubmed/11916069',\n",
       "     'text': 'This review will describe what is known about the mechanism of action of angiostatin from the current literature.',\n",
       "     'offsetInBeginSection': 420,\n",
       "     'offsetInEndSection': 533,\n",
       "     'beginSection': 'abstract',\n",
       "     'endSection': 'abstract'},\n",
       "    {'document': 'http://www.ncbi.nlm.nih.gov/pubmed/22174430',\n",
       "     'text': 'The results demonstrate the ability of this model to identify the dual mechanism of action of a glucokinase activator and describe and predict its effects: Estimating a stimulating drug effect on insulin secretion and an inhibiting effect on glucose output resulted in a significantly better model fit than any other combination of effect sites.',\n",
       "     'offsetInBeginSection': 861,\n",
       "     'offsetInEndSection': 1206,\n",
       "     'beginSection': 'abstract',\n",
       "     'endSection': 'abstract'},\n",
       "    {'document': 'http://www.ncbi.nlm.nih.gov/pubmed/23821284',\n",
       "     'text': 'Several methods can be used to elucidate the mechanism of action of an anti-influenza inhibitor.',\n",
       "     'offsetInBeginSection': 413,\n",
       "     'offsetInEndSection': 509,\n",
       "     'beginSection': 'abstract',\n",
       "     'endSection': 'abstract'},\n",
       "    {'document': 'http://www.ncbi.nlm.nih.gov/pubmed/22174430',\n",
       "     'text': \"A glucokinase activator was used as a test compound to evaluate the model's ability to identify a drug's mechanism of action and estimate its effects on glucose and insulin profiles following oral glucose tolerance tests.\",\n",
       "     'offsetInBeginSection': 137,\n",
       "     'offsetInEndSection': 358,\n",
       "     'beginSection': 'abstract',\n",
       "     'endSection': 'abstract'},\n",
       "    {'document': 'http://www.ncbi.nlm.nih.gov/pubmed/23821284',\n",
       "     'text': 'A well-characterized mechanism of action is useful in evaluating potential off-target toxicities (e.g., a viral polymerase inhibitor may be assessed for inhibition of host polymerase) and in designing studies to monitor the development of resistance.',\n",
       "     'offsetInBeginSection': 162,\n",
       "     'offsetInEndSection': 412,\n",
       "     'beginSection': 'abstract',\n",
       "     'endSection': 'abstract'},\n",
       "    {'document': 'http://www.ncbi.nlm.nih.gov/pubmed/22664071',\n",
       "     'text': 'In this review we describe the diverse mechanisms of action of AMPs on protozoan targets and how they can be exploited to treat diseases.',\n",
       "     'offsetInBeginSection': 614,\n",
       "     'offsetInEndSection': 751,\n",
       "     'beginSection': 'abstract',\n",
       "     'endSection': 'abstract'},\n",
       "    {'document': 'http://www.ncbi.nlm.nih.gov/pubmed/11563078',\n",
       "     'text': 'The antitumor activity, cellular metabolism and mechanism of action of the antitumor nucleoside analog, 1-(3-C-ethynyl-beta-D-ribo-pentofuranosyl)cytosine (ECyd) are described.',\n",
       "     'offsetInBeginSection': 0,\n",
       "     'offsetInEndSection': 176,\n",
       "     'beginSection': 'abstract',\n",
       "     'endSection': 'abstract'},\n",
       "    {'document': 'http://www.ncbi.nlm.nih.gov/pubmed/6217819',\n",
       "     'text': 'From this mechanism of action far-reaching perspectives concerning the clinical application of neocarzinostatin are discussed.',\n",
       "     'offsetInBeginSection': 303,\n",
       "     'offsetInEndSection': 429,\n",
       "     'beginSection': 'abstract',\n",
       "     'endSection': 'abstract'},\n",
       "    {'document': 'http://www.ncbi.nlm.nih.gov/pubmed/23821284',\n",
       "     'text': 'The second group of methods establishes the site of action, typically a target protein, and includes genotypic and phenotypic analysis of variants selected under inhibitor pressure.',\n",
       "     'offsetInBeginSection': 751,\n",
       "     'offsetInEndSection': 932,\n",
       "     'beginSection': 'abstract',\n",
       "     'endSection': 'abstract'},\n",
       "    {'document': 'http://www.ncbi.nlm.nih.gov/pubmed/6217819',\n",
       "     'text': 'Special emphasis is given to the development of our understanding of the molecular mechanism of neocarzinostatin action.',\n",
       "     'offsetInBeginSection': 182,\n",
       "     'offsetInEndSection': 302,\n",
       "     'beginSection': 'abstract',\n",
       "     'endSection': 'abstract'}]},\n",
       "  {'id': '590af75d70f9fc6f0f00001c',\n",
       "   'body': 'Which algorithm is used by the UCSC Genome Browser?',\n",
       "   'documents': ['http://www.ncbi.nlm.nih.gov/pubmed/25348212',\n",
       "    'http://www.ncbi.nlm.nih.gov/pubmed/18428780',\n",
       "    'http://www.ncbi.nlm.nih.gov/pubmed/23255150',\n",
       "    'http://www.ncbi.nlm.nih.gov/pubmed/19957273',\n",
       "    'http://www.ncbi.nlm.nih.gov/pubmed/21975940',\n",
       "    'http://www.ncbi.nlm.nih.gov/pubmed/12519945',\n",
       "    'http://www.ncbi.nlm.nih.gov/pubmed/16888346',\n",
       "    'http://www.ncbi.nlm.nih.gov/pubmed/18514479',\n",
       "    'http://www.ncbi.nlm.nih.gov/pubmed/19920125',\n",
       "    'http://www.ncbi.nlm.nih.gov/pubmed/16381898'],\n",
       "   'snippets': [{'document': 'http://www.ncbi.nlm.nih.gov/pubmed/22080555',\n",
       "     'text': 'The UCSC Archaeal Genome Browser (http://archaea.ucsc.edu) offers a graphical web-based resource for exploration and discovery within archaeal and other selected microbial genomes.',\n",
       "     'offsetInBeginSection': 0,\n",
       "     'offsetInEndSection': 180,\n",
       "     'beginSection': 'abstract',\n",
       "     'endSection': 'abstract'},\n",
       "    {'document': 'http://www.ncbi.nlm.nih.gov/pubmed/25766521',\n",
       "     'text': 'CONCLUSIONS The features of RNASeqBrowser: (1) RNASeqBrowser integrates UCSC genome browser and NGS visualization tools such as IGV.',\n",
       "     'offsetInBeginSection': 1300,\n",
       "     'offsetInEndSection': 1432,\n",
       "     'beginSection': 'abstract',\n",
       "     'endSection': 'abstract'},\n",
       "    {'document': 'http://www.ncbi.nlm.nih.gov/pubmed/17993665',\n",
       "     'text': 'The University of California Santa Cruz (UCSC) Genome Bioinformatics group has developed several tools and methodologies in its study of comparative genomics, many of which have been incorporated into the UCSC Genome Browser (http://genome.ucsc.edu), an easy-to-use online tool for browsing genomic data and aligned annotation \"tracks\" in a single window.',\n",
       "     'offsetInBeginSection': 145,\n",
       "     'offsetInEndSection': 500,\n",
       "     'beginSection': 'abstract',\n",
       "     'endSection': 'abstract'},\n",
       "    {'document': 'http://www.ncbi.nlm.nih.gov/pubmed/18428780',\n",
       "     'text': 'The University of California Santa Cruz (UCSC) Genome Browser (genome.ucsc.edu) is a popular Web-based tool for quickly displaying a requested portion of a genome at any scale, accompanied by a series of aligned annotation \"tracks\".',\n",
       "     'offsetInBeginSection': 0,\n",
       "     'offsetInEndSection': 232,\n",
       "     'beginSection': 'abstract',\n",
       "     'endSection': 'abstract'},\n",
       "    {'document': 'http://www.ncbi.nlm.nih.gov/pubmed/25766521',\n",
       "     'text': 'The most widely used visualization tool is the UCSC genome browser that introduced the custom track concept that enabled researchers to simultaneously visualize gene expression at a particular locus from multiple experiments.',\n",
       "     'offsetInBeginSection': 165,\n",
       "     'offsetInEndSection': 390,\n",
       "     'beginSection': 'abstract',\n",
       "     'endSection': 'abstract'},\n",
       "    {'document': 'http://www.ncbi.nlm.nih.gov/pubmed/25348212',\n",
       "     'text': 'Commercial use of GBiB and the Genome Browser requires a license (http://genome.ucsc.edu/license/).',\n",
       "     'offsetInBeginSection': 821,\n",
       "     'offsetInEndSection': 920,\n",
       "     'beginSection': 'abstract',\n",
       "     'endSection': 'abstract'},\n",
       "    {'document': 'http://www.ncbi.nlm.nih.gov/pubmed/19920125',\n",
       "     'text': 'These results are captured in the UCSC Genome Bioinformatics database and download server for visualization and data mining via the UCSC Genome Browser and companion tools (Rhead et al.',\n",
       "     'offsetInBeginSection': 381,\n",
       "     'offsetInEndSection': 566,\n",
       "     'beginSection': 'abstract',\n",
       "     'endSection': 'abstract'},\n",
       "    {'document': 'http://www.ncbi.nlm.nih.gov/pubmed/25348212',\n",
       "     'text': \"UNLABELLED Genome Browser in a Box (GBiB) is a small virtual machine version of the popular University of California Santa Cruz (UCSC) Genome Browser that can be run on a researcher's own computer.\",\n",
       "     'offsetInBeginSection': 0,\n",
       "     'offsetInEndSection': 197,\n",
       "     'beginSection': 'abstract',\n",
       "     'endSection': 'abstract'},\n",
       "    {'document': 'http://www.ncbi.nlm.nih.gov/pubmed/17993665',\n",
       "     'text': 'A related tool, the UCSC Table Browser, provides a simple interface for querying, analyzing, and downloading the data underlying the Genome Browser annotation tracks.',\n",
       "     'offsetInBeginSection': 837,\n",
       "     'offsetInEndSection': 1003,\n",
       "     'beginSection': 'abstract',\n",
       "     'endSection': 'abstract'},\n",
       "    {'document': 'http://www.ncbi.nlm.nih.gov/pubmed/12519945',\n",
       "     'text': 'The Genome Browser Database, browsing tools and downloadable data files can all be found on the UCSC Genome Bioinformatics website (http://genome.ucsc.edu), which also contains links to documentation and related technical information.',\n",
       "     'offsetInBeginSection': 630,\n",
       "     'offsetInEndSection': 864,\n",
       "     'beginSection': 'abstract',\n",
       "     'endSection': 'abstract'}]},\n",
       "  {'id': '5a76056983b0d9ea66000012',\n",
       "   'body': 'Does DDX54 play a role in DNA damage response?',\n",
       "   'documents': ['http://www.ncbi.nlm.nih.gov/pubmed/28596291',\n",
       "    'http://www.ncbi.nlm.nih.gov/pubmed/33968751',\n",
       "    'http://www.ncbi.nlm.nih.gov/pubmed/23239230',\n",
       "    'http://www.ncbi.nlm.nih.gov/pubmed/16799136',\n",
       "    'http://www.ncbi.nlm.nih.gov/pubmed/19575295',\n",
       "    'http://www.ncbi.nlm.nih.gov/pubmed/19228786',\n",
       "    'http://www.ncbi.nlm.nih.gov/pubmed/7568153',\n",
       "    'http://www.ncbi.nlm.nih.gov/pubmed/24586187',\n",
       "    'http://www.ncbi.nlm.nih.gov/pubmed/14500819',\n",
       "    'http://www.ncbi.nlm.nih.gov/pubmed/27022404'],\n",
       "   'snippets': [{'document': 'http://www.ncbi.nlm.nih.gov/pubmed/23239230',\n",
       "     'text': 'These results suggest that Ddx54 protein play an important role in central nervous system myelination, presumably in myelin sheath formation after the differentiation of oligodendrocytes.',\n",
       "     'offsetInBeginSection': 1590,\n",
       "     'offsetInEndSection': 1777,\n",
       "     'beginSection': 'abstract',\n",
       "     'endSection': 'abstract'},\n",
       "    {'document': 'http://www.ncbi.nlm.nih.gov/pubmed/22361354',\n",
       "     'text': 'The deubiquitylation enzyme USP7/HAUSP plays a major role in regulating genome stability and cancer prevention by controlling the key proteins involved in the DNA damage response.',\n",
       "     'offsetInBeginSection': 0,\n",
       "     'offsetInEndSection': 179,\n",
       "     'beginSection': 'abstract',\n",
       "     'endSection': 'abstract'},\n",
       "    {'document': 'http://www.ncbi.nlm.nih.gov/pubmed/28596291',\n",
       "     'text': 'The functional analysis of DDX54, a candidate genotoxic stress responsive RNA helicase, revealed that this protein is an immediate-to-early DDR regulator required for the splicing efficacy of its target IR-induced pre-mRNAs.',\n",
       "     'offsetInBeginSection': 574,\n",
       "     'offsetInEndSection': 798,\n",
       "     'beginSection': 'abstract',\n",
       "     'endSection': 'abstract'},\n",
       "    {'document': 'http://www.ncbi.nlm.nih.gov/pubmed/24795278',\n",
       "     'text': 'Depletion of ATAXIA-TELANGIECTASIA MUTATED (ATM) in mms21-1 enhances its root growth defect phenotype, indicating that ATM and AtMMS21 may play additive roles in DNA damage pathway.',\n",
       "     'offsetInBeginSection': 687,\n",
       "     'offsetInEndSection': 868,\n",
       "     'beginSection': 'abstract',\n",
       "     'endSection': 'abstract'},\n",
       "    {'document': 'http://www.ncbi.nlm.nih.gov/pubmed/27074761',\n",
       "     'text': 'These results suggest that Ect2 plays a role in DNA damage response.',\n",
       "     'offsetInBeginSection': 698,\n",
       "     'offsetInEndSection': 766,\n",
       "     'beginSection': 'abstract',\n",
       "     'endSection': 'abstract'},\n",
       "    {'document': 'http://www.ncbi.nlm.nih.gov/pubmed/19759019',\n",
       "     'text': 'Single-stranded DNA-binding protein 1 (SSB1) plays an important role in the DNA damage response and maintenance of genomic stability.',\n",
       "     'offsetInBeginSection': 0,\n",
       "     'offsetInEndSection': 133,\n",
       "     'beginSection': 'abstract',\n",
       "     'endSection': 'abstract'},\n",
       "    {'document': 'http://www.ncbi.nlm.nih.gov/pubmed/23239230',\n",
       "     'text': \"Immunoblot analysis revealed that Ddx54 knockdown caused a significant decrease in the level of 21.5 kDa MBP isoform and Ddx54, but the amount of Olig2; 2',3'-cyclic nucleotide 3' phosphodiesterase; MAG; three MBP isoforms (14, 17.5, and 18 kDa); and QKI-5, QKI-6, and QKI-7 proteins remained unchanged.\",\n",
       "     'offsetInBeginSection': 1010,\n",
       "     'offsetInEndSection': 1313,\n",
       "     'beginSection': 'abstract',\n",
       "     'endSection': 'abstract'},\n",
       "    {'document': 'http://www.ncbi.nlm.nih.gov/pubmed/16410768',\n",
       "     'text': 'Although mutations in ESS1 or FCP1 caused cells to become quite sensitive to DNA damage, the characteristic pattern of CTD phosphorylation remained unaltered, thereby implying that ESS1 and FCP1 play roles downstream of CTD phosphorylation in response to DNA damage.',\n",
       "     'offsetInBeginSection': 867,\n",
       "     'offsetInEndSection': 1133,\n",
       "     'beginSection': 'abstract',\n",
       "     'endSection': 'abstract'},\n",
       "    {'document': 'http://www.ncbi.nlm.nih.gov/pubmed/28525740',\n",
       "     'text': 'Ubiquitin modification of proteins plays pivotal roles in the cellular response to DNA damage.',\n",
       "     'offsetInBeginSection': 0,\n",
       "     'offsetInEndSection': 94,\n",
       "     'beginSection': 'abstract',\n",
       "     'endSection': 'abstract'},\n",
       "    {'document': 'http://www.ncbi.nlm.nih.gov/pubmed/27022404',\n",
       "     'text': 'The present study suggests that Ddx54 plays crucial role in remyelination.',\n",
       "     'offsetInBeginSection': 1214,\n",
       "     'offsetInEndSection': 1288,\n",
       "     'beginSection': 'abstract',\n",
       "     'endSection': 'abstract'}]},\n",
       "  {'id': '5a7d5033faa1ab7d2e000015',\n",
       "   'body': 'Is davunetide being considered for the treatment of progressive supranuclear palsy?',\n",
       "   'documents': ['http://www.ncbi.nlm.nih.gov/pubmed/23971871',\n",
       "    'http://www.ncbi.nlm.nih.gov/pubmed/21902667',\n",
       "    'http://www.ncbi.nlm.nih.gov/pubmed/22347799',\n",
       "    'http://www.ncbi.nlm.nih.gov/pubmed/26459661',\n",
       "    'http://www.ncbi.nlm.nih.gov/pubmed/24873720',\n",
       "    'http://www.ncbi.nlm.nih.gov/pubmed/6693866',\n",
       "    'http://www.ncbi.nlm.nih.gov/pubmed/14629785',\n",
       "    'http://www.ncbi.nlm.nih.gov/pubmed/12151839',\n",
       "    'http://www.ncbi.nlm.nih.gov/pubmed/30089514',\n",
       "    'http://www.ncbi.nlm.nih.gov/pubmed/31324404'],\n",
       "   'snippets': [{'document': 'http://www.ncbi.nlm.nih.gov/pubmed/24873720',\n",
       "     'text': 'Because progressive supranuclear palsy (PSP) is linked to tau pathology, davunetide could be a treatment for PSP.',\n",
       "     'offsetInBeginSection': 110,\n",
       "     'offsetInEndSection': 223,\n",
       "     'beginSection': 'abstract',\n",
       "     'endSection': 'abstract'},\n",
       "    {'document': 'http://www.ncbi.nlm.nih.gov/pubmed/21902667',\n",
       "     'text': 'Based on these extensive preclinical results, davunetide (NAP) is now being evaluated in a Phase II/III study of the tauopathy, progressive supranuclear palsy (PSP); (Allon Therapeutics Inc.).',\n",
       "     'offsetInBeginSection': 1515,\n",
       "     'offsetInEndSection': 1707,\n",
       "     'beginSection': 'abstract',\n",
       "     'endSection': 'abstract'},\n",
       "    {'document': 'http://www.ncbi.nlm.nih.gov/pubmed/23971871',\n",
       "     'text': \"Potential clinical uses of davunetide include neurodegenerative disorders such as Alzheimer's disease (AD), progressive supranuclear palsy (PSP), frontotemporal dementia (FTD) or cognitive impairment in other diseases such as schizophrenia where microtubule structure and function is known to be impaired.\",\n",
       "     'offsetInBeginSection': 321,\n",
       "     'offsetInEndSection': 626,\n",
       "     'beginSection': 'abstract',\n",
       "     'endSection': 'abstract'},\n",
       "    {'document': 'http://www.ncbi.nlm.nih.gov/pubmed/28436538',\n",
       "     'text': 'BACKGROUND Two recent, randomized, placebo-controlled phase II/III trials (clinicaltrials.gov: NCT01110720, NCT01049399) of davunetide and tideglusib in progressive supranuclear palsy (PSP) generated prospective, 1-year longitudinal datasets of high-resolution T1-weighted three-dimensional MRI.',\n",
       "     'offsetInBeginSection': 0,\n",
       "     'offsetInEndSection': 295,\n",
       "     'beginSection': 'abstract',\n",
       "     'endSection': 'abstract'},\n",
       "    {'document': 'http://www.ncbi.nlm.nih.gov/pubmed/26459661',\n",
       "     'text': \"Progressive supranuclear palsy (PSP) an atypical parkinsonian with a common phenotype comprising early falls, the characteristic slowing of vertical saccades and a frontal syndrome with marked apathy (Richardson's syndrome).\",\n",
       "     'offsetInBeginSection': 0,\n",
       "     'offsetInEndSection': 224,\n",
       "     'beginSection': 'abstract',\n",
       "     'endSection': 'abstract'},\n",
       "    {'document': 'http://www.ncbi.nlm.nih.gov/pubmed/26421389',\n",
       "     'text': 'Multiple system atrophy (MSA), progressive supranuclear palsy (PSP) and corticobasal degeneration (CBD) are commonly summarized under this umbrella term.',\n",
       "     'offsetInBeginSection': 165,\n",
       "     'offsetInEndSection': 318,\n",
       "     'beginSection': 'abstract',\n",
       "     'endSection': 'abstract'},\n",
       "    {'document': 'http://www.ncbi.nlm.nih.gov/pubmed/20678069',\n",
       "     'text': \"An abundance of tau inclusions, in the absence of β-amyloid deposits, defines Pick's disease (frontotemporal lobar degeneration), progressive supranuclear palsy (PSP), corticobasal degeneration (CBD) and other diseases.\",\n",
       "     'offsetInBeginSection': 385,\n",
       "     'offsetInEndSection': 605,\n",
       "     'beginSection': 'abstract',\n",
       "     'endSection': 'abstract'},\n",
       "    {'document': 'http://www.ncbi.nlm.nih.gov/pubmed/22347799',\n",
       "     'text': 'Progressive supranuclear palsy (PSP) is a rare neurodegenerative disease characterized by the accumulation of tau protein aggregates in the basal ganglia, brainstem and cerebral cortex leading to rapid disease progression and death.',\n",
       "     'offsetInBeginSection': 0,\n",
       "     'offsetInEndSection': 232,\n",
       "     'beginSection': 'abstract',\n",
       "     'endSection': 'abstract'},\n",
       "    {'document': 'http://www.ncbi.nlm.nih.gov/pubmed/24873720',\n",
       "     'text': 'INTERPRETATION Davunetide is not an effective treatment for PSP.',\n",
       "     'offsetInBeginSection': 1963,\n",
       "     'offsetInEndSection': 2027,\n",
       "     'beginSection': 'abstract',\n",
       "     'endSection': 'abstract'},\n",
       "    {'document': 'http://www.ncbi.nlm.nih.gov/pubmed/26421389',\n",
       "     'text': 'Recent trials of rasagiline (in MSA), rifampicin (in MSA), tideglusib (in PSP) and davunetide (in PSP) reported negative results.',\n",
       "     'offsetInBeginSection': 746,\n",
       "     'offsetInEndSection': 875,\n",
       "     'beginSection': 'abstract',\n",
       "     'endSection': 'abstract'}]},\n",
       "  {'id': '5a8941c5bc7bade53a000002',\n",
       "   'body': 'Which aminoacid position in the human CREB protein is phosphorylated?',\n",
       "   'documents': ['http://www.ncbi.nlm.nih.gov/pubmed/24445066',\n",
       "    'http://www.ncbi.nlm.nih.gov/pubmed/11782425',\n",
       "    'http://www.ncbi.nlm.nih.gov/pubmed/7606928',\n",
       "    'http://www.ncbi.nlm.nih.gov/pubmed/12703986',\n",
       "    'http://www.ncbi.nlm.nih.gov/pubmed/1480175',\n",
       "    'http://www.ncbi.nlm.nih.gov/pubmed/1532242',\n",
       "    'http://www.ncbi.nlm.nih.gov/pubmed/17449469',\n",
       "    'http://www.ncbi.nlm.nih.gov/pubmed/7554179',\n",
       "    'http://www.ncbi.nlm.nih.gov/pubmed/10848610',\n",
       "    'http://www.ncbi.nlm.nih.gov/pubmed/8754745'],\n",
       "   'snippets': [{'document': 'http://www.ncbi.nlm.nih.gov/pubmed/8065935',\n",
       "     'text': 'The human T-cell leukemia virus type I (HTLV-I) Tax protein increases the DNA binding activity of a number of different host cell transcription factors, including the cyclic AMP response element binding protein (CREB).',\n",
       "     'offsetInBeginSection': 0,\n",
       "     'offsetInEndSection': 218,\n",
       "     'beginSection': 'abstract',\n",
       "     'endSection': 'abstract'},\n",
       "    {'document': 'http://www.ncbi.nlm.nih.gov/pubmed/2136830',\n",
       "     'text': \"The rat and human CREB protein contain the 'leucine zipper' motif.\",\n",
       "     'offsetInBeginSection': 296,\n",
       "     'offsetInEndSection': 362,\n",
       "     'beginSection': 'abstract',\n",
       "     'endSection': 'abstract'},\n",
       "    {'document': 'http://www.ncbi.nlm.nih.gov/pubmed/8627701',\n",
       "     'text': 'Finally, transfection of CREB protein and protein kinase A expression vectors were found to activate Zp in Jurkat cells, suggesting that phosphorylated form of CREB protein can play a determining role in the EBV reactivation process.',\n",
       "     'offsetInBeginSection': 1221,\n",
       "     'offsetInEndSection': 1454,\n",
       "     'beginSection': 'abstract',\n",
       "     'endSection': 'abstract'},\n",
       "    {'document': 'http://www.ncbi.nlm.nih.gov/pubmed/27816995',\n",
       "     'text': 'First, the upregulation of CREB expression that allows sufficient level of activated and phosphorylated protein is the primordial event that promotes the induction of genes of the DNA Damage Response.',\n",
       "     'offsetInBeginSection': 1045,\n",
       "     'offsetInEndSection': 1245,\n",
       "     'beginSection': 'abstract',\n",
       "     'endSection': 'abstract'},\n",
       "    {'document': 'http://www.ncbi.nlm.nih.gov/pubmed/23143030',\n",
       "     'text': 'Our results provide the first evidence that the constitutively phosphorylated transcription factor CREB is involved in the biomineralization process of adult human molar odontoblasts and cementoblasts.',\n",
       "     'offsetInBeginSection': 860,\n",
       "     'offsetInEndSection': 1061,\n",
       "     'beginSection': 'abstract',\n",
       "     'endSection': 'abstract'},\n",
       "    {'document': 'http://www.ncbi.nlm.nih.gov/pubmed/2136830',\n",
       "     'text': 'A 43 kd nuclear phosphoprotein previously identified as the cAMP response element binding (CREB) protein has been shown to bind as a dimer to CRE and activate gene transcription.',\n",
       "     'offsetInBeginSection': 117,\n",
       "     'offsetInEndSection': 295,\n",
       "     'beginSection': 'abstract',\n",
       "     'endSection': 'abstract'},\n",
       "    {'document': 'http://www.ncbi.nlm.nih.gov/pubmed/7554179',\n",
       "     'text': 'CONCLUSIONS We conclude that in the failing and nonfailing human heart, CREB is expressed on the protein and mRNA levels and that CREB is phosphorylated and able to bind to CREs, indicating a functional role of CREB in the human heart.',\n",
       "     'offsetInBeginSection': 1106,\n",
       "     'offsetInEndSection': 1341,\n",
       "     'beginSection': 'abstract',\n",
       "     'endSection': 'abstract'},\n",
       "    {'document': 'http://www.ncbi.nlm.nih.gov/pubmed/8627701',\n",
       "     'text': 'We have recently shown that infection of Epstein-Barr virus (EBV) genome-positive B cells by human herpesvirus 6 (HHV-6) results in the expression of the immediate-early EBV Zebra gene, followed by virus replication (L. Flamand, I. Stefanescu, D. V. Ablashi, and J. Menezes, J. Virol.',\n",
       "     'offsetInBeginSection': 0,\n",
       "     'offsetInEndSection': 284,\n",
       "     'beginSection': 'abstract',\n",
       "     'endSection': 'abstract'},\n",
       "    {'document': 'http://www.ncbi.nlm.nih.gov/pubmed/8627701',\n",
       "     'text': 'Antibodies against CRE-binding (CREB) protein but not against c-Fos or c-Jun were able to supershift the DNA-protein complex, identifying the nature of the transcription factor which binds to ZII as a member of the CREB family of proteins.',\n",
       "     'offsetInBeginSection': 981,\n",
       "     'offsetInEndSection': 1220,\n",
       "     'beginSection': 'abstract',\n",
       "     'endSection': 'abstract'},\n",
       "    {'document': 'http://www.ncbi.nlm.nih.gov/pubmed/1532242',\n",
       "     'text': 'One of the phosphorylated proteins co-migrates with immuno-affinity-purified CREB protein--also phosphorylated in vitro--and competes with the peptide antigen, which proves the specificity of the reaction.',\n",
       "     'offsetInBeginSection': 889,\n",
       "     'offsetInEndSection': 1094,\n",
       "     'beginSection': 'abstract',\n",
       "     'endSection': 'abstract'}]},\n",
       "  {'id': '5a737b483b9d13c70800000b',\n",
       "   'body': 'Which drugs were tested in the KEYNOTE-006 study?',\n",
       "   'documents': ['http://www.ncbi.nlm.nih.gov/pubmed/26846323',\n",
       "    'http://www.ncbi.nlm.nih.gov/pubmed/24493528',\n",
       "    'http://www.ncbi.nlm.nih.gov/pubmed/34571336',\n",
       "    'http://www.ncbi.nlm.nih.gov/pubmed/28822577',\n",
       "    'http://www.ncbi.nlm.nih.gov/pubmed/28987768',\n",
       "    'http://www.ncbi.nlm.nih.gov/pubmed/35359259',\n",
       "    'http://www.ncbi.nlm.nih.gov/pubmed/6913183',\n",
       "    'http://www.ncbi.nlm.nih.gov/pubmed/27896938',\n",
       "    'http://www.ncbi.nlm.nih.gov/pubmed/34922053',\n",
       "    'http://www.ncbi.nlm.nih.gov/pubmed/35050320'],\n",
       "   'snippets': [{'document': 'http://www.ncbi.nlm.nih.gov/pubmed/28964438',\n",
       "     'text': 'The model was parameterized by using data from a head-to-head phase III randomized clinical trial, KEYNOTE-006.',\n",
       "     'offsetInBeginSection': 396,\n",
       "     'offsetInEndSection': 507,\n",
       "     'beginSection': 'abstract',\n",
       "     'endSection': 'abstract'},\n",
       "    {'document': 'http://www.ncbi.nlm.nih.gov/pubmed/27896938',\n",
       "     'text': 'A mixture model was first developed based on an initial dataset from KEYNOTE-001 to describe four patterns of tumor growth and shrinkage.',\n",
       "     'offsetInBeginSection': 245,\n",
       "     'offsetInEndSection': 382,\n",
       "     'beginSection': 'abstract',\n",
       "     'endSection': 'abstract'},\n",
       "    {'document': 'http://www.ncbi.nlm.nih.gov/pubmed/28125365',\n",
       "     'text': 'Clinical data-including progression-free survival and overall survival data spanning a median follow-up time of 15 months, as well as quality of life and adverse event data from the ongoing KEYNOTE-006 trial-and cost data from public sources were used to populate the model.',\n",
       "     'offsetInBeginSection': 1148,\n",
       "     'offsetInEndSection': 1422,\n",
       "     'beginSection': 'abstract',\n",
       "     'endSection': 'abstract'},\n",
       "    {'document': 'http://www.ncbi.nlm.nih.gov/pubmed/28822576',\n",
       "     'text': 'BACKGROUND Interim analyses of the phase 3 KEYNOTE-006 study showed superior overall and progression-free survival of pembrolizumab versus ipilimumab in patients with advanced melanoma.',\n",
       "     'offsetInBeginSection': 0,\n",
       "     'offsetInEndSection': 185,\n",
       "     'beginSection': 'abstract',\n",
       "     'endSection': 'abstract'},\n",
       "    {'document': 'http://www.ncbi.nlm.nih.gov/pubmed/12942788',\n",
       "     'text': 'On the other hand, the percentages of strains susceptible to the cephems tested were 60-90%, which were quite different according to kinds of drugs and species used.',\n",
       "     'offsetInBeginSection': 1803,\n",
       "     'offsetInEndSection': 1968,\n",
       "     'beginSection': 'abstract',\n",
       "     'endSection': 'abstract'},\n",
       "    {'document': 'http://www.ncbi.nlm.nih.gov/pubmed/28987768',\n",
       "     'text': 'OBJECTIVE Report results of patient-reported health-related quality of life (HRQoL) and symptoms from phase III KEYNOTE-006 study of pembrolizumab versus ipilimumab in patients with ipilimumab-naive advanced melanoma.',\n",
       "     'offsetInBeginSection': 0,\n",
       "     'offsetInEndSection': 217,\n",
       "     'beginSection': 'abstract',\n",
       "     'endSection': 'abstract'},\n",
       "    {'document': 'http://www.ncbi.nlm.nih.gov/pubmed/28822576',\n",
       "     'text': 'INTERPRETATION Substantiating the results of the interim analyses of KEYNOTE-006, pembrolizumab continued to provide superior overall survival versus ipilimumab, with no difference between pembrolizumab dosing schedules.',\n",
       "     'offsetInBeginSection': 3079,\n",
       "     'offsetInEndSection': 3299,\n",
       "     'beginSection': 'abstract',\n",
       "     'endSection': 'abstract'},\n",
       "    {'document': 'http://www.ncbi.nlm.nih.gov/pubmed/28125365',\n",
       "     'text': 'The model used Kaplan-Meier estimates of progression-free survival and overall survival from a recent randomized phase 3 study (KEYNOTE-006) that compared pembrolizumab and ipilimumab.',\n",
       "     'offsetInBeginSection': 705,\n",
       "     'offsetInEndSection': 889,\n",
       "     'beginSection': 'abstract',\n",
       "     'endSection': 'abstract'},\n",
       "    {'document': 'http://www.ncbi.nlm.nih.gov/pubmed/27896938',\n",
       "     'text': 'Pembrolizumab is a potent immune-modulating antibody active in advanced melanoma, as demonstrated in the KEYNOTE-001, -002, and -006 studies.',\n",
       "     'offsetInBeginSection': 0,\n",
       "     'offsetInEndSection': 141,\n",
       "     'beginSection': 'abstract',\n",
       "     'endSection': 'abstract'},\n",
       "    {'document': 'http://www.ncbi.nlm.nih.gov/pubmed/28822576',\n",
       "     'text': 'Primary analysis was done on the intention-to-treat population (all randomly assigned patients) and safety analyses were done in the treated population (all randomly assigned patients who received at least one dose of study treatment).',\n",
       "     'offsetInBeginSection': 1740,\n",
       "     'offsetInEndSection': 1975,\n",
       "     'beginSection': 'abstract',\n",
       "     'endSection': 'abstract'}]},\n",
       "  {'id': '590c740d70f9fc6f0f00001d',\n",
       "   'body': 'Which proteins are controlling sterol metabolism in S. cerevisiae?',\n",
       "   'documents': ['http://www.ncbi.nlm.nih.gov/pubmed/32679672',\n",
       "    'http://www.ncbi.nlm.nih.gov/pubmed/11160377',\n",
       "    'http://www.ncbi.nlm.nih.gov/pubmed/29773647',\n",
       "    'http://www.ncbi.nlm.nih.gov/pubmed/8474436',\n",
       "    'http://www.ncbi.nlm.nih.gov/pubmed/32561581',\n",
       "    'http://www.ncbi.nlm.nih.gov/pubmed/7871881',\n",
       "    'http://www.ncbi.nlm.nih.gov/pubmed/24868093',\n",
       "    'http://www.ncbi.nlm.nih.gov/pubmed/7729765',\n",
       "    'http://www.ncbi.nlm.nih.gov/pubmed/31836520',\n",
       "    'http://www.ncbi.nlm.nih.gov/pubmed/28830344'],\n",
       "   'snippets': [{'document': 'http://www.ncbi.nlm.nih.gov/pubmed/8474436',\n",
       "     'text': 'Inhibition of sterol synthesis in S. cerevisiae and S. pombe cells or in cultured human fibroblasts by treatment with the 3-hydroxy-3-methylglutaryl coenzyme A reductase inhibitor lovastatin resulted in elevated levels of squalene synthetase mRNA in all three cell types.',\n",
       "     'offsetInBeginSection': 1274,\n",
       "     'offsetInEndSection': 1545,\n",
       "     'beginSection': 'abstract',\n",
       "     'endSection': 'abstract'},\n",
       "    {'document': 'http://www.ncbi.nlm.nih.gov/pubmed/12006573',\n",
       "     'text': 'In addition, [(3)H]inositol radiolabeling of sterol biosynthesis inhibitor-treated wild type cells and late sterol pathway mutants showed that additional blocks in sterol biosynthesis have profound effects on sphingolipid metabolism, particularly sphingolipid hydroxylation state.',\n",
       "     'offsetInBeginSection': 1600,\n",
       "     'offsetInEndSection': 1880,\n",
       "     'beginSection': 'abstract',\n",
       "     'endSection': 'abstract'},\n",
       "    {'document': 'http://www.ncbi.nlm.nih.gov/pubmed/8474436',\n",
       "     'text': 'Expression of cDNA clones encoding S. pombe or hybrid human-S. cerevisiae squalene synthetases reversed the ergosterol requirement of S. cerevisiae cells bearing ERG9 gene disruptions, showing that these enzymes can functionally replace the S. cerevisiae enzyme.',\n",
       "     'offsetInBeginSection': 1011,\n",
       "     'offsetInEndSection': 1273,\n",
       "     'beginSection': 'abstract',\n",
       "     'endSection': 'abstract'},\n",
       "    {'document': 'http://www.ncbi.nlm.nih.gov/pubmed/20870767',\n",
       "     'text': 'C. burnetii lacks enzymes for de novo cholesterol biosynthesis; however, the organism encodes a eukaryote-like Δ24 sterol reductase homolog, CBU1206.',\n",
       "     'offsetInBeginSection': 501,\n",
       "     'offsetInEndSection': 651,\n",
       "     'beginSection': 'abstract',\n",
       "     'endSection': 'abstract'},\n",
       "    {'document': 'http://www.ncbi.nlm.nih.gov/pubmed/7729765',\n",
       "     'text': 'Sterol synthesis in Saccharomyces cerevisiae was primarily controlled by the growth rate.',\n",
       "     'offsetInBeginSection': 0,\n",
       "     'offsetInEndSection': 89,\n",
       "     'beginSection': 'abstract',\n",
       "     'endSection': 'abstract'},\n",
       "    {'document': 'http://www.ncbi.nlm.nih.gov/pubmed/8474436',\n",
       "     'text': 'Squalene synthetase (farnesyl diphosphate:farnesyl diphosphate farnesyltransferase; EC 2.5.1.21) is thought to represent a major control point of isoprene and sterol biosynthesis in eukaryotes.',\n",
       "     'offsetInBeginSection': 0,\n",
       "     'offsetInEndSection': 193,\n",
       "     'beginSection': 'abstract',\n",
       "     'endSection': 'abstract'},\n",
       "    {'document': 'http://www.ncbi.nlm.nih.gov/pubmed/7729765',\n",
       "     'text': 'The sporulating S. cerevisiae cells contained 3.5% sterols and 1.5% ergosterol of dry matter.',\n",
       "     'offsetInBeginSection': 498,\n",
       "     'offsetInEndSection': 591,\n",
       "     'beginSection': 'abstract',\n",
       "     'endSection': 'abstract'},\n",
       "    {'document': 'http://www.ncbi.nlm.nih.gov/pubmed/20870767',\n",
       "     'text': 'Erg4 is a yeast Δ24 sterol reductase responsible for the final reduction step in ergosterol synthesis.',\n",
       "     'offsetInBeginSection': 1170,\n",
       "     'offsetInEndSection': 1273,\n",
       "     'beginSection': 'abstract',\n",
       "     'endSection': 'abstract'},\n",
       "    {'document': 'http://www.ncbi.nlm.nih.gov/pubmed/7896706',\n",
       "     'text': 'Transformation of an aux30 strain with a replicative vector carrying the wild-type PDX3 gene encoding P(N/M)P oxidase restored wild-type fatty acid, sterol, and cytochrome patterns and suppressed exogenous sterol accumulation.',\n",
       "     'offsetInBeginSection': 894,\n",
       "     'offsetInEndSection': 1120,\n",
       "     'beginSection': 'abstract',\n",
       "     'endSection': 'abstract'},\n",
       "    {'document': 'http://www.ncbi.nlm.nih.gov/pubmed/8743048',\n",
       "     'text': 'Inhibition of biomethylation was observed with fecosterol and ergosterol which suggests that ergosterol may function in wild-type yeast as feedback regulator of sterol biosynthesis.',\n",
       "     'offsetInBeginSection': 435,\n",
       "     'offsetInEndSection': 616,\n",
       "     'beginSection': 'abstract',\n",
       "     'endSection': 'abstract'}]},\n",
       "  {'id': '5a7607f683b0d9ea66000014',\n",
       "   'body': 'Is Drk essential for anesthesia-resistant memory (ARM) in Drosophila?',\n",
       "   'documents': ['http://www.ncbi.nlm.nih.gov/pubmed/28973902',\n",
       "    'http://www.ncbi.nlm.nih.gov/pubmed/35742852',\n",
       "    'http://www.ncbi.nlm.nih.gov/pubmed/19244537',\n",
       "    'http://www.ncbi.nlm.nih.gov/pubmed/28416593',\n",
       "    'http://www.ncbi.nlm.nih.gov/pubmed/21808003',\n",
       "    'http://www.ncbi.nlm.nih.gov/pubmed/35955662',\n",
       "    'http://www.ncbi.nlm.nih.gov/pubmed/10073459',\n",
       "    'http://www.ncbi.nlm.nih.gov/pubmed/24239122',\n",
       "    'http://www.ncbi.nlm.nih.gov/pubmed/14972677',\n",
       "    'http://www.ncbi.nlm.nih.gov/pubmed/27195782'],\n",
       "   'snippets': [{'document': 'http://www.ncbi.nlm.nih.gov/pubmed/21808003',\n",
       "     'text': 'Pavlovian olfactory learning in Drosophila produces two genetically distinct forms of intermediate-term memories: anesthesia-sensitive memory, which requires the amnesiac gene, and anesthesia-resistant memory (ARM), which requires the radish gene.',\n",
       "     'offsetInBeginSection': 0,\n",
       "     'offsetInEndSection': 247,\n",
       "     'beginSection': 'abstract',\n",
       "     'endSection': 'abstract'},\n",
       "    {'document': 'http://www.ncbi.nlm.nih.gov/pubmed/24239122',\n",
       "     'text': 'BACKGROUND Drosophila olfactory aversive conditioning produces two components of intermediate-term memory: anesthesia-sensitive memory (ASM) and anesthesia-resistant memory (ARM).',\n",
       "     'offsetInBeginSection': 0,\n",
       "     'offsetInEndSection': 179,\n",
       "     'beginSection': 'abstract',\n",
       "     'endSection': 'abstract'},\n",
       "    {'document': 'http://www.ncbi.nlm.nih.gov/pubmed/27195782',\n",
       "     'text': 'Associative olfactory memory in Drosophila has two components called labile anesthesia-sensitive memory and consolidated anesthesia-resistant memory (ARM).',\n",
       "     'offsetInBeginSection': 0,\n",
       "     'offsetInEndSection': 155,\n",
       "     'beginSection': 'abstract',\n",
       "     'endSection': 'abstract'},\n",
       "    {'document': 'http://www.ncbi.nlm.nih.gov/pubmed/15143285',\n",
       "     'text': 'Two types of consolidated memory have been described in Drosophila, anesthesia-resistant memory (ARM), a shorter-lived form, and stabilized long-term memory (LTM).',\n",
       "     'offsetInBeginSection': 0,\n",
       "     'offsetInEndSection': 163,\n",
       "     'beginSection': 'abstract',\n",
       "     'endSection': 'abstract'},\n",
       "    {'document': 'http://www.ncbi.nlm.nih.gov/pubmed/14972677',\n",
       "     'text': 'In Drosophila, anesthesia-resistant memory (ARM) and long-term memory (LTM) are genetically distinct forms of long-lasting memory that exist in parallel for at least a day after training.',\n",
       "     'offsetInBeginSection': 198,\n",
       "     'offsetInEndSection': 385,\n",
       "     'beginSection': 'abstract',\n",
       "     'endSection': 'abstract'},\n",
       "    {'document': 'http://www.ncbi.nlm.nih.gov/pubmed/28973902',\n",
       "     'text': 'We present evidence that Drk, the Drosophila ortholog of the adaptor protein Grb2, is essential for ARM within adult mushroom body neurons.',\n",
       "     'offsetInBeginSection': 384,\n",
       "     'offsetInEndSection': 523,\n",
       "     'beginSection': 'abstract',\n",
       "     'endSection': 'abstract'},\n",
       "    {'document': 'http://www.ncbi.nlm.nih.gov/pubmed/10073459',\n",
       "     'text': 'When interpreted in the context of a four-phase model of memory consolidation, the results suggest that 1) cold anesthesia disrupts both short-term memory (STM) and anesthesia-resistant memory (ARM), 2) hypoxia disrupts ARM specifically, 3) both of them leave long-term memory (LTM) intact, and 4) LTM may be independent of availability of STM and ARM in flies.',\n",
       "     'offsetInBeginSection': 745,\n",
       "     'offsetInEndSection': 1106,\n",
       "     'beginSection': 'abstract',\n",
       "     'endSection': 'abstract'},\n",
       "    {'document': 'http://www.ncbi.nlm.nih.gov/pubmed/27466338',\n",
       "     'text': 'Whereas D1 receptors are known to contribute to Drosophila aversive odor learning per se, we here show that D2 receptors are specific for support of a consolidated form of odor memory known as anesthesia-resistant memory.',\n",
       "     'offsetInBeginSection': 269,\n",
       "     'offsetInEndSection': 490,\n",
       "     'beginSection': 'abstract',\n",
       "     'endSection': 'abstract'},\n",
       "    {'document': 'http://www.ncbi.nlm.nih.gov/pubmed/28973902',\n",
       "     'text': 'Anesthesia-resistant memory (ARM) was described decades ago, but the mechanisms that underlie this protein synthesis-independent form of consolidated memory in Drosophila remain poorly understood.',\n",
       "     'offsetInBeginSection': 0,\n",
       "     'offsetInEndSection': 196,\n",
       "     'beginSection': 'abstract',\n",
       "     'endSection': 'abstract'},\n",
       "    {'document': 'http://www.ncbi.nlm.nih.gov/pubmed/10073459',\n",
       "     'text': 'Memory consolidation in Drosophila was investigated using cold anesthesia- and hypoxia-induced amnesia.',\n",
       "     'offsetInBeginSection': 0,\n",
       "     'offsetInEndSection': 103,\n",
       "     'beginSection': 'abstract',\n",
       "     'endSection': 'abstract'}]},\n",
       "  {'id': '5a7d50d0faa1ab7d2e000016',\n",
       "   'body': 'Is ACI-35 a passive vaccine?',\n",
       "   'documents': ['http://www.ncbi.nlm.nih.gov/pubmed/6997374',\n",
       "    'http://www.ncbi.nlm.nih.gov/pubmed/35532913',\n",
       "    'http://www.ncbi.nlm.nih.gov/pubmed/27485083',\n",
       "    'http://www.ncbi.nlm.nih.gov/pubmed/8041130',\n",
       "    'http://www.ncbi.nlm.nih.gov/pubmed/30002420',\n",
       "    'http://www.ncbi.nlm.nih.gov/pubmed/2297200',\n",
       "    'http://www.ncbi.nlm.nih.gov/pubmed/6272472',\n",
       "    'http://www.ncbi.nlm.nih.gov/pubmed/14566994',\n",
       "    'http://www.ncbi.nlm.nih.gov/pubmed/7442127',\n",
       "    'http://www.ncbi.nlm.nih.gov/pubmed/32956742'],\n",
       "   'snippets': [{'document': 'http://www.ncbi.nlm.nih.gov/pubmed/26985884',\n",
       "     'text': 'Non-efficacious preventative vaccine approaches include bivalent recombinant gp120 alone, HIV gene insertion into an Adenovirus 5 (Ad5) virus vector and the DNA prime/Ad5 boost vaccine regimen.',\n",
       "     'offsetInBeginSection': 87,\n",
       "     'offsetInEndSection': 280,\n",
       "     'beginSection': 'abstract',\n",
       "     'endSection': 'abstract'},\n",
       "    {'document': 'http://www.ncbi.nlm.nih.gov/pubmed/27485083',\n",
       "     'text': 'Two active vaccines targeting either nonphosphorylated (AAD-vac1) and phosphorylated tau (ACI-35) have entered Phase I testing.',\n",
       "     'offsetInBeginSection': 392,\n",
       "     'offsetInEndSection': 519,\n",
       "     'beginSection': 'abstract',\n",
       "     'endSection': 'abstract'},\n",
       "    {'document': 'http://www.ncbi.nlm.nih.gov/pubmed/10431138',\n",
       "     'text': 'Current RSV vaccine candidates include RSV fusion protein vaccines, chimeric fusion protein-glycoprotein vaccines, and various live, attenuated RSV vaccines.',\n",
       "     'offsetInBeginSection': 281,\n",
       "     'offsetInEndSection': 438,\n",
       "     'beginSection': 'abstract',\n",
       "     'endSection': 'abstract'},\n",
       "    {'document': 'http://www.ncbi.nlm.nih.gov/pubmed/10431138',\n",
       "     'text': 'Another innovative approach to prevent RSV disease in young infants is maternal immunization with a vaccine such as the purified fusion protein vaccine.',\n",
       "     'offsetInBeginSection': 996,\n",
       "     'offsetInEndSection': 1148,\n",
       "     'beginSection': 'abstract',\n",
       "     'endSection': 'abstract'},\n",
       "    {'document': 'http://www.ncbi.nlm.nih.gov/pubmed/27485083',\n",
       "     'text': \"Pharmacological manipulation of tau protein in Alzheimer's disease included microtubule-stabilizing agents, tau protein kinase inhibitors, tau aggregation inhibitors, active and passive immunotherapies and, more recently, inhibitors of tau acetylation.\",\n",
       "     'offsetInBeginSection': 0,\n",
       "     'offsetInEndSection': 252,\n",
       "     'beginSection': 'abstract',\n",
       "     'endSection': 'abstract'},\n",
       "    {'document': 'http://www.ncbi.nlm.nih.gov/pubmed/8613399',\n",
       "     'text': 'H35L alpha-toxin may be useful as a protective immunogen in S. aureus vaccine studies.',\n",
       "     'offsetInBeginSection': 546,\n",
       "     'offsetInEndSection': 632,\n",
       "     'beginSection': 'abstract',\n",
       "     'endSection': 'abstract'},\n",
       "    {'document': 'http://www.ncbi.nlm.nih.gov/pubmed/10431138',\n",
       "     'text': 'Passive immunization with human polyclonal intravenous immune globulin and humanized monoclonal antibody directed against the conserved fusion protein of RSV prevents severe RSV disease, although not necessarily viral infection.',\n",
       "     'offsetInBeginSection': 588,\n",
       "     'offsetInEndSection': 816,\n",
       "     'beginSection': 'abstract',\n",
       "     'endSection': 'abstract'},\n",
       "    {'document': 'http://www.ncbi.nlm.nih.gov/pubmed/10431138',\n",
       "     'text': 'The humanized RSV monoclonal antibody is licensed for use in premature infants and infants with bronchopulmonary dysplasia and is being evaluated in infants with cardiac disease.',\n",
       "     'offsetInBeginSection': 817,\n",
       "     'offsetInEndSection': 995,\n",
       "     'beginSection': 'abstract',\n",
       "     'endSection': 'abstract'},\n",
       "    {'document': 'http://www.ncbi.nlm.nih.gov/pubmed/10431138',\n",
       "     'text': 'Formalin-inactivated RSV vaccine caused serious disease in some recipients re-exposed to RSV, which slowed vaccine development.',\n",
       "     'offsetInBeginSection': 153,\n",
       "     'offsetInEndSection': 280,\n",
       "     'beginSection': 'abstract',\n",
       "     'endSection': 'abstract'},\n",
       "    {'document': 'http://www.ncbi.nlm.nih.gov/pubmed/20920572',\n",
       "     'text': 'Development of the passive transfer model is intended to support clinical and nonclinical development of the rF1V vaccine.',\n",
       "     'offsetInBeginSection': 236,\n",
       "     'offsetInEndSection': 358,\n",
       "     'beginSection': 'abstract',\n",
       "     'endSection': 'abstract'}]},\n",
       "  {'id': '5a894f6abc7bade53a000004',\n",
       "   'body': 'Which are the effects of ALDH2 deficiency?',\n",
       "   'documents': ['http://www.ncbi.nlm.nih.gov/pubmed/12603834',\n",
       "    'http://www.ncbi.nlm.nih.gov/pubmed/30885430',\n",
       "    'http://www.ncbi.nlm.nih.gov/pubmed/12905081',\n",
       "    'http://www.ncbi.nlm.nih.gov/pubmed/26734919',\n",
       "    'http://www.ncbi.nlm.nih.gov/pubmed/34799722',\n",
       "    'http://www.ncbi.nlm.nih.gov/pubmed/35318866',\n",
       "    'http://www.ncbi.nlm.nih.gov/pubmed/35749303',\n",
       "    'http://www.ncbi.nlm.nih.gov/pubmed/23194305',\n",
       "    'http://www.ncbi.nlm.nih.gov/pubmed/31801381',\n",
       "    'http://www.ncbi.nlm.nih.gov/pubmed/27488451'],\n",
       "   'snippets': [{'document': 'http://www.ncbi.nlm.nih.gov/pubmed/25831092',\n",
       "     'text': 'We also demonstrate that ALDH2 deficiency, proton pump inhibitor (PPI) treatment, and L-cysteine cause independent changes in gastric juice and salivary acetaldehyde levels, indicating that intragastric acetaldehyde is locally regulated by gastric mucosal ADH and ALDH2 enzymes, and by oral microbes colonizing an achlorhydric stomach.',\n",
       "     'offsetInBeginSection': 1287,\n",
       "     'offsetInEndSection': 1622,\n",
       "     'beginSection': 'abstract',\n",
       "     'endSection': 'abstract'},\n",
       "    {'document': 'http://www.ncbi.nlm.nih.gov/pubmed/27488451',\n",
       "     'text': 'ALDH2 deficiency potentiates oxidative stress and AMPK phosphorylation induced by diabetes via post-translational regulation of LKB1.',\n",
       "     'offsetInBeginSection': 1900,\n",
       "     'offsetInEndSection': 2033,\n",
       "     'beginSection': 'abstract',\n",
       "     'endSection': 'abstract'},\n",
       "    {'document': 'http://www.ncbi.nlm.nih.gov/pubmed/25831092',\n",
       "     'text': 'In alcohol drinkers, ALDH2-deficiency is a well-known risk factor for upper aerodigestive tract cancers, i.e., head and neck cancer and esophageal cancer.',\n",
       "     'offsetInBeginSection': 217,\n",
       "     'offsetInEndSection': 371,\n",
       "     'beginSection': 'abstract',\n",
       "     'endSection': 'abstract'},\n",
       "    {'document': 'http://www.ncbi.nlm.nih.gov/pubmed/12905081',\n",
       "     'text': 'The alcohol sensitivity is associated with a genetic deficiency of ALDH2.',\n",
       "     'offsetInBeginSection': 98,\n",
       "     'offsetInEndSection': 171,\n",
       "     'beginSection': 'abstract',\n",
       "     'endSection': 'abstract'},\n",
       "    {'document': 'http://www.ncbi.nlm.nih.gov/pubmed/27488451',\n",
       "     'text': 'Together, our results demonstrate that ALDH2 deficiency and resulting energy metabolism disturbance is a part of pathology of diastolic dysfunction of diabetic hearts, and suggest that patients with ALDH2 mutations are vulnerable to diabetic damage.',\n",
       "     'offsetInBeginSection': 1435,\n",
       "     'offsetInEndSection': 1684,\n",
       "     'beginSection': 'abstract',\n",
       "     'endSection': 'abstract'},\n",
       "    {'document': 'http://www.ncbi.nlm.nih.gov/pubmed/27488451',\n",
       "     'text': 'ALDH2 deficiency triggers decompensation of metabolic reserves and energy metabolism disturbances in early diabetic hearts.',\n",
       "     'offsetInBeginSection': 1776,\n",
       "     'offsetInEndSection': 1899,\n",
       "     'beginSection': 'abstract',\n",
       "     'endSection': 'abstract'},\n",
       "    {'document': 'http://www.ncbi.nlm.nih.gov/pubmed/27488451',\n",
       "     'text': 'KEY MESSAGE ALDH2 deficiency exacerbates diastolic dysfunction in early diabetic hearts.',\n",
       "     'offsetInBeginSection': 1687,\n",
       "     'offsetInEndSection': 1775,\n",
       "     'beginSection': 'abstract',\n",
       "     'endSection': 'abstract'},\n",
       "    {'document': 'http://www.ncbi.nlm.nih.gov/pubmed/26734919',\n",
       "     'text': 'Deficiency of ALDH2 activity has been found prevalently only among people of Mongoloid origin, and the deficiency of ALDH2 prevents them from developing alcohol dependence due to the unpleasant physical effects of the flushing symptom.',\n",
       "     'offsetInBeginSection': 489,\n",
       "     'offsetInEndSection': 724,\n",
       "     'beginSection': 'abstract',\n",
       "     'endSection': 'abstract'},\n",
       "    {'document': 'http://www.ncbi.nlm.nih.gov/pubmed/27186430',\n",
       "     'text': 'Acetaldehyde activated autophagy flux in esophageal keratinocytes where Aldh2 deficiency increased dependence on autophagy to cope with ethanol-induced acetaldehyde-mediated oxidative stress.',\n",
       "     'offsetInBeginSection': 1113,\n",
       "     'offsetInEndSection': 1304,\n",
       "     'beginSection': 'abstract',\n",
       "     'endSection': 'abstract'},\n",
       "    {'document': 'http://www.ncbi.nlm.nih.gov/pubmed/26173414',\n",
       "     'text': 'CONCLUSIONS These data demonstrate that ALDH2 deficiency enhances EtOH-induced disruption of intestinal epithelial tight junctions, barrier dysfunction, and liver damage.',\n",
       "     'offsetInBeginSection': 1992,\n",
       "     'offsetInEndSection': 2162,\n",
       "     'beginSection': 'abstract',\n",
       "     'endSection': 'abstract'}]},\n",
       "  {'id': '5a7604de83b0d9ea66000011',\n",
       "   'body': 'What is mechanism of action of galunisertib?',\n",
       "   'documents': ['http://www.ncbi.nlm.nih.gov/pubmed/28691737',\n",
       "    'http://www.ncbi.nlm.nih.gov/pubmed/32377696',\n",
       "    'http://www.ncbi.nlm.nih.gov/pubmed/20019471',\n",
       "    'http://www.ncbi.nlm.nih.gov/pubmed/1713428',\n",
       "    'http://www.ncbi.nlm.nih.gov/pubmed/31304590',\n",
       "    'http://www.ncbi.nlm.nih.gov/pubmed/26057634',\n",
       "    'http://www.ncbi.nlm.nih.gov/pubmed/26902851',\n",
       "    'http://www.ncbi.nlm.nih.gov/pubmed/32705856',\n",
       "    'http://www.ncbi.nlm.nih.gov/pubmed/29467918',\n",
       "    'http://www.ncbi.nlm.nih.gov/pubmed/32140889'],\n",
       "   'snippets': [{'document': 'http://www.ncbi.nlm.nih.gov/pubmed/27509307',\n",
       "     'text': 'Galunisertib (LY2157299), a selective ATP-mimetic inhibitor of TGF-β receptor I (TGF-βRI), is the only known TGF-β pathway inhibitor.',\n",
       "     'offsetInBeginSection': 0,\n",
       "     'offsetInEndSection': 136,\n",
       "     'beginSection': 'abstract',\n",
       "     'endSection': 'abstract'},\n",
       "    {'document': 'http://www.ncbi.nlm.nih.gov/pubmed/26057634',\n",
       "     'text': 'Galunisertib (LY2157299) is a selective ATP-mimetic inhibitor of TGF-β receptor (TβR)-I activation currently under clinical investigation in hepatocellular carcinoma (HCC) patients.',\n",
       "     'offsetInBeginSection': 0,\n",
       "     'offsetInEndSection': 183,\n",
       "     'beginSection': 'abstract',\n",
       "     'endSection': 'abstract'},\n",
       "    {'document': 'http://www.ncbi.nlm.nih.gov/pubmed/26309397',\n",
       "     'text': 'Galunisertib (LY2157299 monohydrate) is an oral small molecule inhibitor of the TGF-β receptor I kinase that specifically downregulates the phosphorylation of SMAD2, abrogating activation of the canonical pathway.',\n",
       "     'offsetInBeginSection': 482,\n",
       "     'offsetInEndSection': 696,\n",
       "     'beginSection': 'abstract',\n",
       "     'endSection': 'abstract'},\n",
       "    {'document': 'http://www.ncbi.nlm.nih.gov/pubmed/28481241',\n",
       "     'text': 'Galunisertib, a Transforming growth factor-βRI (TGF-βRI) kinase inhibitor, blocks TGF-β-mediated tumor growth in glioblastoma.',\n",
       "     'offsetInBeginSection': 0,\n",
       "     'offsetInEndSection': 129,\n",
       "     'beginSection': 'abstract',\n",
       "     'endSection': 'abstract'},\n",
       "    {'document': 'http://www.ncbi.nlm.nih.gov/pubmed/28691737',\n",
       "     'text': 'Galunisertib, a TGF-β receptor type I kinase inhibitor, is a potential candidate for the treatment of liver fibrosis.',\n",
       "     'offsetInBeginSection': 140,\n",
       "     'offsetInEndSection': 258,\n",
       "     'beginSection': 'abstract',\n",
       "     'endSection': 'abstract'},\n",
       "    {'document': 'http://www.ncbi.nlm.nih.gov/pubmed/28436712',\n",
       "     'text': 'Mechanistic static modeling that incorporated small non-CYP-mediated metabolic clearance and renal clearance components predicted an AUC ratio of 4.7 for the effect of itraconazole, a strong CYP3A4 inhibitor, on galunisertib.',\n",
       "     'offsetInBeginSection': 1168,\n",
       "     'offsetInEndSection': 1393,\n",
       "     'beginSection': 'abstract',\n",
       "     'endSection': 'abstract'},\n",
       "    {'document': 'http://www.ncbi.nlm.nih.gov/pubmed/27756784',\n",
       "     'text': 'CONCLUSIONS Galunisertib suppresses activation of SMAD2 in neuroblastomas and aNK cells, restores NK cytotoxic mechanisms, and increases the efficacy of dinutuximab with aNK cells against neuroblastoma tumors.',\n",
       "     'offsetInBeginSection': 1609,\n",
       "     'offsetInEndSection': 1818,\n",
       "     'beginSection': 'abstract',\n",
       "     'endSection': 'abstract'},\n",
       "    {'document': 'http://www.ncbi.nlm.nih.gov/pubmed/26902851',\n",
       "     'text': 'BACKGROUND The combination of galunisertib, a transforming growth factor (TGF)-β receptor (R)1 kinase inhibitor, and lomustine was found to have antitumor activity in murine models of glioblastoma.',\n",
       "     'offsetInBeginSection': 0,\n",
       "     'offsetInEndSection': 198,\n",
       "     'beginSection': 'abstract',\n",
       "     'endSection': 'abstract'},\n",
       "    {'document': 'http://www.ncbi.nlm.nih.gov/pubmed/26309397',\n",
       "     'text': 'Furthermore, galunisertib has antitumor activity in tumor-bearing animal models such as breast, colon, lung cancers, and hepatocellular carcinoma.',\n",
       "     'offsetInBeginSection': 697,\n",
       "     'offsetInEndSection': 843,\n",
       "     'beginSection': 'abstract',\n",
       "     'endSection': 'abstract'},\n",
       "    {'document': 'http://www.ncbi.nlm.nih.gov/pubmed/26902851',\n",
       "     'text': 'Patients were randomized in a 2:1:1 ratio to galunisertib + lomustine, galunisertib monotherapy, or placebo + lomustine.',\n",
       "     'offsetInBeginSection': 331,\n",
       "     'offsetInEndSection': 451,\n",
       "     'beginSection': 'abstract',\n",
       "     'endSection': 'abstract'}]},\n",
       "  {'id': '590c74d170f9fc6f0f00001e',\n",
       "   'body': 'Which gene is the paralog of yeast UPC2?',\n",
       "   'documents': ['http://www.ncbi.nlm.nih.gov/pubmed/28986257',\n",
       "    'http://www.ncbi.nlm.nih.gov/pubmed/24163365',\n",
       "    'http://www.ncbi.nlm.nih.gov/pubmed/31347760',\n",
       "    'http://www.ncbi.nlm.nih.gov/pubmed/1885560',\n",
       "    'http://www.ncbi.nlm.nih.gov/pubmed/10073572',\n",
       "    'http://www.ncbi.nlm.nih.gov/pubmed/23385756',\n",
       "    'http://www.ncbi.nlm.nih.gov/pubmed/24453983',\n",
       "    'http://www.ncbi.nlm.nih.gov/pubmed/28379181',\n",
       "    'http://www.ncbi.nlm.nih.gov/pubmed/18487346',\n",
       "    'http://www.ncbi.nlm.nih.gov/pubmed/26448198'],\n",
       "   'snippets': [{'document': 'http://www.ncbi.nlm.nih.gov/pubmed/24163365',\n",
       "     'text': 'Yeast studies defined a 7-bp consensus sterol-response element (SRE) common to genes involved in sterol biosynthesis and two transcription factors, Upc2 and Ecm22, which direct transcription of sterol biosynthetic genes.',\n",
       "     'offsetInBeginSection': 166,\n",
       "     'offsetInEndSection': 386,\n",
       "     'beginSection': 'abstract',\n",
       "     'endSection': 'abstract'},\n",
       "    {'document': 'http://www.ncbi.nlm.nih.gov/pubmed/26448198',\n",
       "     'text': 'Ecm22 and Upc2 positively control the expression of FHN1, NPR1, PRR2 and sterol biosynthesis genes.',\n",
       "     'offsetInBeginSection': 456,\n",
       "     'offsetInEndSection': 555,\n",
       "     'beginSection': 'abstract',\n",
       "     'endSection': 'abstract'},\n",
       "    {'document': 'http://www.ncbi.nlm.nih.gov/pubmed/24453983',\n",
       "     'text': 'RNA-seq analysis shows that hypoxic regulation of sterol synthesis genes in Y. lipolytica is predominantly mediated by Upc2.',\n",
       "     'offsetInBeginSection': 1003,\n",
       "     'offsetInEndSection': 1127,\n",
       "     'beginSection': 'abstract',\n",
       "     'endSection': 'abstract'},\n",
       "    {'document': 'http://www.ncbi.nlm.nih.gov/pubmed/24453983',\n",
       "     'text': 'However, in yeasts such as Saccharomyces cerevisiae and Candida albicans sterol synthesis is instead regulated by Upc2, an unrelated transcription factor with a Gal4-type zinc finger.',\n",
       "     'offsetInBeginSection': 221,\n",
       "     'offsetInEndSection': 404,\n",
       "     'beginSection': 'abstract',\n",
       "     'endSection': 'abstract'},\n",
       "    {'document': 'http://www.ncbi.nlm.nih.gov/pubmed/24163365',\n",
       "     'text': 'Recombinant endogenous promoter studies show that the UPC2 anaerobic AR1b elements act in trans to regulate ergosterol gene expression.',\n",
       "     'offsetInBeginSection': 1085,\n",
       "     'offsetInEndSection': 1220,\n",
       "     'beginSection': 'abstract',\n",
       "     'endSection': 'abstract'},\n",
       "    {'document': 'http://www.ncbi.nlm.nih.gov/pubmed/25385116',\n",
       "     'text': 'The pathogenic yeast Candida albicans can develop resistance to azole antifungal drugs by overexpressing ERG11, which encodes the drug target, or the multidrug efflux pumps MDR1 and CDR1/CDR2.',\n",
       "     'offsetInBeginSection': 0,\n",
       "     'offsetInEndSection': 192,\n",
       "     'beginSection': 'abstract',\n",
       "     'endSection': 'abstract'},\n",
       "    {'document': 'http://www.ncbi.nlm.nih.gov/pubmed/1885560',\n",
       "     'text': 'One such factor could be the mammalian equivalent of the gene product of UPC2.',\n",
       "     'offsetInBeginSection': 1215,\n",
       "     'offsetInEndSection': 1293,\n",
       "     'beginSection': 'abstract',\n",
       "     'endSection': 'abstract'},\n",
       "    {'document': 'http://www.ncbi.nlm.nih.gov/pubmed/28986257',\n",
       "     'text': 'Simultaneous deletion of ECM22 and UPC2 as well as mutation of the three Ste12-binding sites in the PRM1 promoter completely abolishes basal and pheromone-induced PRM1 expression, indicating that Ste12 and Ecm22/Upc2 control PRM1 transcription through distinct pathways.',\n",
       "     'offsetInBeginSection': 892,\n",
       "     'offsetInEndSection': 1162,\n",
       "     'beginSection': 'abstract',\n",
       "     'endSection': 'abstract'},\n",
       "    {'document': 'http://www.ncbi.nlm.nih.gov/pubmed/28986257',\n",
       "     'text': 'Ecm22 and Upc2 positively regulate basal expression of PRM1 and PRM4.',\n",
       "     'offsetInBeginSection': 296,\n",
       "     'offsetInEndSection': 365,\n",
       "     'beginSection': 'abstract',\n",
       "     'endSection': 'abstract'},\n",
       "    {'document': 'http://www.ncbi.nlm.nih.gov/pubmed/25385116',\n",
       "     'text': 'The constitutive upregulation of these genes is usually caused by gain-of-function mutations in the zinc cluster transcription factors Upc2, Mrr1, and Tac1, respectively.',\n",
       "     'offsetInBeginSection': 193,\n",
       "     'offsetInEndSection': 363,\n",
       "     'beginSection': 'abstract',\n",
       "     'endSection': 'abstract'}]},\n",
       "  {'id': '5a760c8483b0d9ea66000017',\n",
       "   'body': 'What is the FIRE (Functional Inference of Regulators of Expression) tool?',\n",
       "   'documents': ['http://www.ncbi.nlm.nih.gov/pubmed/28961785',\n",
       "    'http://www.ncbi.nlm.nih.gov/pubmed/28066488',\n",
       "    'http://www.ncbi.nlm.nih.gov/pubmed/34197604',\n",
       "    'http://www.ncbi.nlm.nih.gov/pubmed/18537787',\n",
       "    'http://www.ncbi.nlm.nih.gov/pubmed/34694658',\n",
       "    'http://www.ncbi.nlm.nih.gov/pubmed/30547796',\n",
       "    'http://www.ncbi.nlm.nih.gov/pubmed/36129860',\n",
       "    'http://www.ncbi.nlm.nih.gov/pubmed/33054712',\n",
       "    'http://www.ncbi.nlm.nih.gov/pubmed/33563211',\n",
       "    'http://www.ncbi.nlm.nih.gov/pubmed/19442636'],\n",
       "   'snippets': [{'document': 'http://www.ncbi.nlm.nih.gov/pubmed/28961785',\n",
       "     'text': 'Results We developed FIRE (Functional Inference of Regulators of Expression), a tool to score both noncoding and coding SNVs based on their potential to regulate the expression levels of nearby genes.',\n",
       "     'offsetInBeginSection': 479,\n",
       "     'offsetInEndSection': 679,\n",
       "     'beginSection': 'abstract',\n",
       "     'endSection': 'abstract'},\n",
       "    {'document': 'http://www.ncbi.nlm.nih.gov/pubmed/28066488',\n",
       "     'text': 'We developed the Beacon GRN inference tool to predict GRNs occurring during seed development in Arabidopsis based on a support vector machine (SVM) model.',\n",
       "     'offsetInBeginSection': 528,\n",
       "     'offsetInEndSection': 682,\n",
       "     'beginSection': 'abstract',\n",
       "     'endSection': 'abstract'},\n",
       "    {'document': 'http://www.ncbi.nlm.nih.gov/pubmed/19442636',\n",
       "     'text': 'A recursive model of gene expression allowing for identification of active gene expression control networks with up to two regulators of one target gene is presented.',\n",
       "     'offsetInBeginSection': 457,\n",
       "     'offsetInEndSection': 623,\n",
       "     'beginSection': 'abstract',\n",
       "     'endSection': 'abstract'},\n",
       "    {'document': 'http://www.ncbi.nlm.nih.gov/pubmed/18314574',\n",
       "     'text': 'Expression data from knockout mutants is a powerful tool for gene function inference, permitting observation of the phenotype of a deleted gene on the organismal scale.',\n",
       "     'offsetInBeginSection': 0,\n",
       "     'offsetInEndSection': 168,\n",
       "     'beginSection': 'abstract',\n",
       "     'endSection': 'abstract'},\n",
       "    {'document': 'http://www.ncbi.nlm.nih.gov/pubmed/22759573',\n",
       "     'text': 'RESULTS We propose a new method that combines: a) transcription factors and microRNAs that are predicted to target genes in pathways, with b) microarray expression profiles of microRNAs and mRNAs, in conjunction with c) the known structure of molecular pathways.',\n",
       "     'offsetInBeginSection': 417,\n",
       "     'offsetInEndSection': 679,\n",
       "     'beginSection': 'abstract',\n",
       "     'endSection': 'abstract'},\n",
       "    {'document': 'http://www.ncbi.nlm.nih.gov/pubmed/17493254',\n",
       "     'text': 'Additionally, we show that the location of the regulators in the LeMoNe regulation programs and their conditional entropy may be used to prioritize regulators for functional validation, and that the combination of the bottom-up clustering strategy with the conditional entropy-based assignment of regulators improves the handling of missing or hidden regulators.',\n",
       "     'offsetInBeginSection': 1518,\n",
       "     'offsetInEndSection': 1880,\n",
       "     'beginSection': 'abstract',\n",
       "     'endSection': 'abstract'},\n",
       "    {'document': 'http://www.ncbi.nlm.nih.gov/pubmed/28961785',\n",
       "     'text': 'FIRE scores are also predictive of cis -eQTL SNVs across a variety of tissue types.',\n",
       "     'offsetInBeginSection': 1158,\n",
       "     'offsetInEndSection': 1241,\n",
       "     'beginSection': 'abstract',\n",
       "     'endSection': 'abstract'},\n",
       "    {'document': 'http://www.ncbi.nlm.nih.gov/pubmed/24564496',\n",
       "     'text': 'RESULTS We present the RMaNI (Regulatory Module Network Inference) framework, which supports cancer subtype-specific or condition specific GRN inference and differential network analysis.',\n",
       "     'offsetInBeginSection': 1273,\n",
       "     'offsetInEndSection': 1460,\n",
       "     'beginSection': 'abstract',\n",
       "     'endSection': 'abstract'},\n",
       "    {'document': 'http://www.ncbi.nlm.nih.gov/pubmed/20418949',\n",
       "     'text': 'Such a computational approach, starting from expression data alone, can be helpful in the process of identifying the function of miRNAs by suggesting modules of co-expressed genes in which they play a regulatory role.',\n",
       "     'offsetInBeginSection': 1709,\n",
       "     'offsetInEndSection': 1926,\n",
       "     'beginSection': 'abstract',\n",
       "     'endSection': 'abstract'},\n",
       "    {'document': 'http://www.ncbi.nlm.nih.gov/pubmed/22759573',\n",
       "     'text': 'These elements are integrated into a Bayesian network derived from each pathway that, through probability inference, allows for the prediction of the key regulators in the pathway.',\n",
       "     'offsetInBeginSection': 680,\n",
       "     'offsetInEndSection': 860,\n",
       "     'beginSection': 'abstract',\n",
       "     'endSection': 'abstract'}]},\n",
       "  {'id': '5a7d51dafaa1ab7d2e000017',\n",
       "   'body': \"What is the administration route of IVIG in Alzheimer's disease patients?\",\n",
       "   'documents': ['http://www.ncbi.nlm.nih.gov/pubmed/20595275',\n",
       "    'http://www.ncbi.nlm.nih.gov/pubmed/30452419',\n",
       "    'http://www.ncbi.nlm.nih.gov/pubmed/23264027',\n",
       "    'http://www.ncbi.nlm.nih.gov/pubmed/29948255',\n",
       "    'http://www.ncbi.nlm.nih.gov/pubmed/31318515',\n",
       "    'http://www.ncbi.nlm.nih.gov/pubmed/34260074',\n",
       "    'http://www.ncbi.nlm.nih.gov/pubmed/31908713',\n",
       "    'http://www.ncbi.nlm.nih.gov/pubmed/33878626',\n",
       "    'http://www.ncbi.nlm.nih.gov/pubmed/20577707',\n",
       "    'http://www.ncbi.nlm.nih.gov/pubmed/32556506'],\n",
       "   'snippets': [{'document': 'http://www.ncbi.nlm.nih.gov/pubmed/23735288',\n",
       "     'text': \"Pilot studies with the IVIG preparations Octagam and Gammagard in individuals with mild-to-moderate Alzheimer's disease (AD) suggested stabilization of cognitive functioning in these patients, and a phase II trial with Gammagard reported similar findings.\",\n",
       "     'offsetInBeginSection': 131,\n",
       "     'offsetInEndSection': 386,\n",
       "     'beginSection': 'abstract',\n",
       "     'endSection': 'abstract'},\n",
       "    {'document': 'http://www.ncbi.nlm.nih.gov/pubmed/16998751',\n",
       "     'text': \"Emerging data suggest that IVIg, by suppressing proinflammatory cytokines, may exert a beneficial effect in patients with Alzheimer's disease, postpolio syndrome, chronic pain syndromes, fibrotic disorders and narcolepsy.\",\n",
       "     'offsetInBeginSection': 2199,\n",
       "     'offsetInEndSection': 2420,\n",
       "     'beginSection': 'abstract',\n",
       "     'endSection': 'abstract'},\n",
       "    {'document': 'http://www.ncbi.nlm.nih.gov/pubmed/26330100',\n",
       "     'text': \"The therapeutic effects of intravenous immunoglobulin (IVIG) products were recently studied in Alzheimer's disease (AD) patients.\",\n",
       "     'offsetInBeginSection': 0,\n",
       "     'offsetInEndSection': 129,\n",
       "     'beginSection': 'abstract',\n",
       "     'endSection': 'abstract'},\n",
       "    {'document': 'http://www.ncbi.nlm.nih.gov/pubmed/16998751',\n",
       "     'text': \"The effect of IVIg in a small number of patients with Alzheimer's disease was promising by reducing the ADAS-cog scores, suggesting a reversal of disease progression.\",\n",
       "     'offsetInBeginSection': 1534,\n",
       "     'offsetInEndSection': 1700,\n",
       "     'beginSection': 'abstract',\n",
       "     'endSection': 'abstract'},\n",
       "    {'document': 'http://www.ncbi.nlm.nih.gov/pubmed/21138577',\n",
       "     'text': \"IVIG contains naturally occurring auto-antibodies, including antibodies (Abs) against β-amyloid (Aβ) peptides accumulating in the brains of Alzheimer's disease (AD) patients.\",\n",
       "     'offsetInBeginSection': 211,\n",
       "     'offsetInEndSection': 387,\n",
       "     'beginSection': 'abstract',\n",
       "     'endSection': 'abstract'},\n",
       "    {'document': 'http://www.ncbi.nlm.nih.gov/pubmed/18294736',\n",
       "     'text': \"Intravenous immunoglobulin (IVIg) has been proposed as a potential agent for Alzheimer's disease (AD) immunotherapy because it contains antibodies against beta-amyloid (Abeta).\",\n",
       "     'offsetInBeginSection': 0,\n",
       "     'offsetInEndSection': 176,\n",
       "     'beginSection': 'abstract',\n",
       "     'endSection': 'abstract'},\n",
       "    {'document': 'http://www.ncbi.nlm.nih.gov/pubmed/25392130',\n",
       "     'text': \"The effects of intravenous immunoglobulin (IVIG) products were recently examined in patients with Alzheimer's disease (AD).\",\n",
       "     'offsetInBeginSection': 0,\n",
       "     'offsetInEndSection': 123,\n",
       "     'beginSection': 'abstract',\n",
       "     'endSection': 'abstract'},\n",
       "    {'document': 'http://www.ncbi.nlm.nih.gov/pubmed/25476011',\n",
       "     'text': \"Recent phase II and III studies with intravenous immunoglobulin (IVIG) in patients with Alzheimer's disease (AD) did not find evidence for the slowing of AD progression compared to placebo-treated patients, in contrast to encouraging results in pilot studies.\",\n",
       "     'offsetInBeginSection': 0,\n",
       "     'offsetInEndSection': 259,\n",
       "     'beginSection': 'abstract',\n",
       "     'endSection': 'abstract'},\n",
       "    {'document': 'http://www.ncbi.nlm.nih.gov/pubmed/24517534',\n",
       "     'text': \"Intravenous immunoglobulin (IVIG) contains anti-amyloid-β antibodies as well as antibodies providing immunomodulatory effects that may modify chronic inflammation in Alzheimer's disease.\",\n",
       "     'offsetInBeginSection': 0,\n",
       "     'offsetInEndSection': 187,\n",
       "     'beginSection': 'abstract',\n",
       "     'endSection': 'abstract'},\n",
       "    {'document': 'http://www.ncbi.nlm.nih.gov/pubmed/19620605',\n",
       "     'text': 'OBJECTIVE To compare the incidence of Alzheimer disease and related disorders (ADRD) in patients treated with IV immunoglobulin (IVIg) for non-Alzheimer disease (AD) indications vs untreated controls.',\n",
       "     'offsetInBeginSection': 0,\n",
       "     'offsetInEndSection': 200,\n",
       "     'beginSection': 'abstract',\n",
       "     'endSection': 'abstract'}]},\n",
       "  {'id': '5a89800efcd1d6a10c00000c',\n",
       "   'body': 'Where is the enzyme PM20D1 localized?',\n",
       "   'documents': ['http://www.ncbi.nlm.nih.gov/pubmed/29967167',\n",
       "    'http://www.ncbi.nlm.nih.gov/pubmed/35544855',\n",
       "    'http://www.ncbi.nlm.nih.gov/pubmed/32402239',\n",
       "    'http://www.ncbi.nlm.nih.gov/pubmed/27374330',\n",
       "    'http://www.ncbi.nlm.nih.gov/pubmed/34757919',\n",
       "    'http://www.ncbi.nlm.nih.gov/pubmed/31659023',\n",
       "    'http://www.ncbi.nlm.nih.gov/pubmed/32014019',\n",
       "    'http://www.ncbi.nlm.nih.gov/pubmed/29736028',\n",
       "    'http://www.ncbi.nlm.nih.gov/pubmed/27378359',\n",
       "    'http://www.ncbi.nlm.nih.gov/pubmed/32271712'],\n",
       "   'snippets': [{'document': 'http://www.ncbi.nlm.nih.gov/pubmed/27374330',\n",
       "     'text': 'Here, we identify a secreted enzyme, peptidase M20 domain containing 1 (PM20D1), that is enriched in UCP1(+) versus UCP1(-) adipocytes.',\n",
       "     'offsetInBeginSection': 209,\n",
       "     'offsetInEndSection': 344,\n",
       "     'beginSection': 'abstract',\n",
       "     'endSection': 'abstract'},\n",
       "    {'document': 'http://www.ncbi.nlm.nih.gov/pubmed/27378359',\n",
       "     'text': 'A secreted enzyme, PM20D1, enriched in UCP1+ adipocytes, exhibits catalytic and hydrolytic activity to reversibly form N-acyl amino acids.',\n",
       "     'offsetInBeginSection': 569,\n",
       "     'offsetInEndSection': 707,\n",
       "     'beginSection': 'abstract',\n",
       "     'endSection': 'abstract'},\n",
       "    {'document': 'http://www.ncbi.nlm.nih.gov/pubmed/24166889',\n",
       "     'text': 'Twelve CpG loci (11 genes) showed greater than 10% comparative difference in DNA methylation, including hyper-methylated loci of FAM181A, MRI1, PIWIL1, CHFR, DEFA1, MRPL28, AURKA, and hypo-methylated loci of NALP1L5, MAP8KIP3, ACAT2, and PM20D1 in maternal asthma.',\n",
       "     'offsetInBeginSection': 1118,\n",
       "     'offsetInEndSection': 1382,\n",
       "     'beginSection': 'abstract',\n",
       "     'endSection': 'abstract'},\n",
       "    {'document': 'http://www.ncbi.nlm.nih.gov/pubmed/29143709',\n",
       "     'text': 'Interestingly, acute cold exposure induced browning of porcine sWAT, smaller adipocytes and the upregulated expression of UCP1, PGC1α, PGC1β, C/EBPβ, Cidea, UCP3, CKMT1 and PM20D1.',\n",
       "     'offsetInBeginSection': 667,\n",
       "     'offsetInEndSection': 850,\n",
       "     'beginSection': 'abstract',\n",
       "     'endSection': 'abstract'},\n",
       "    {'document': 'http://www.ncbi.nlm.nih.gov/pubmed/7117251',\n",
       "     'text': 'The four cycle enzymes were constitutively localized in mitochondria, with the exception of the dual localization of the fourth enzyme, 2-methylisocitrate lyase, in mitochondria and cytoplasm, where the lyase may function to supply pyruvate (the end-product of the catabolism of the propionate residue) to various reactions.',\n",
       "     'offsetInBeginSection': 244,\n",
       "     'offsetInEndSection': 568,\n",
       "     'beginSection': 'abstract',\n",
       "     'endSection': 'abstract'},\n",
       "    {'document': 'http://www.ncbi.nlm.nih.gov/pubmed/25855069',\n",
       "     'text': 'Targeted resequencing of the full coding regions of SLC45A3, NUCKS1, RAB7L1, SLC41A1 and PM20D1 was performed in DNA pools from a subset of 387 patient samples.',\n",
       "     'offsetInBeginSection': 593,\n",
       "     'offsetInEndSection': 753,\n",
       "     'beginSection': 'abstract',\n",
       "     'endSection': 'abstract'},\n",
       "    {'document': 'http://www.ncbi.nlm.nih.gov/pubmed/27374330',\n",
       "     'text': 'We\\xa0demonstrate that PM20D1 is a bidirectional enzyme in\\xa0vitro, catalyzing both the condensation of fatty acids and amino acids to generate N-acyl amino acids and also the reverse hydrolytic reaction.',\n",
       "     'offsetInBeginSection': 345,\n",
       "     'offsetInEndSection': 546,\n",
       "     'beginSection': 'abstract',\n",
       "     'endSection': 'abstract'},\n",
       "    {'document': 'http://www.ncbi.nlm.nih.gov/pubmed/9307964',\n",
       "     'text': 'The glycolytic enzymes aldolase and glyceraldehyde-3-phosphate dehydrogenase (GAPDH) are also localized along the sarcomere with a periodic pattern that is indistinguishable from that of GPDH localization.',\n",
       "     'offsetInBeginSection': 378,\n",
       "     'offsetInEndSection': 583,\n",
       "     'beginSection': 'abstract',\n",
       "     'endSection': 'abstract'},\n",
       "    {'document': 'http://www.ncbi.nlm.nih.gov/pubmed/24618023',\n",
       "     'text': 'Although distributed across the genome, the differentially methylated promoters associated with child abuse clustered in genome regions of at least one megabase.',\n",
       "     'offsetInBeginSection': 1328,\n",
       "     'offsetInEndSection': 1489,\n",
       "     'beginSection': 'abstract',\n",
       "     'endSection': 'abstract'},\n",
       "    {'document': 'http://www.ncbi.nlm.nih.gov/pubmed/24618023',\n",
       "     'text': 'Using bisulfite-pyrosequencing, abuse-associated methylation (MeDIP) at the metalloproteinase gene, PM20D1, was validated and then replicated in an additional 27 males.',\n",
       "     'offsetInBeginSection': 985,\n",
       "     'offsetInEndSection': 1153,\n",
       "     'beginSection': 'abstract',\n",
       "     'endSection': 'abstract'}]},\n",
       "  {'id': '5a760ed883b0d9ea66000019',\n",
       "   'body': 'Is dasatinib effective for treatment of glioblastoma?',\n",
       "   'documents': ['http://www.ncbi.nlm.nih.gov/pubmed/19190119',\n",
       "    'http://www.ncbi.nlm.nih.gov/pubmed/34232320',\n",
       "    'http://www.ncbi.nlm.nih.gov/pubmed/22891038',\n",
       "    'http://www.ncbi.nlm.nih.gov/pubmed/31322832',\n",
       "    'http://www.ncbi.nlm.nih.gov/pubmed/32107212',\n",
       "    'http://www.ncbi.nlm.nih.gov/pubmed/19098899',\n",
       "    'http://www.ncbi.nlm.nih.gov/pubmed/23090987',\n",
       "    'http://www.ncbi.nlm.nih.gov/pubmed/21153679',\n",
       "    'http://www.ncbi.nlm.nih.gov/pubmed/23942795',\n",
       "    'http://www.ncbi.nlm.nih.gov/pubmed/21636705'],\n",
       "   'snippets': [{'document': 'http://www.ncbi.nlm.nih.gov/pubmed/25758746',\n",
       "     'text': 'BACKGROUND We conducted a phase II trial to evaluate the efficacy of dasatinib, a multitargeted tyrosine kinase inhibitor, for adults with recurrent glioblastoma (GBM).',\n",
       "     'offsetInBeginSection': 0,\n",
       "     'offsetInEndSection': 168,\n",
       "     'beginSection': 'abstract',\n",
       "     'endSection': 'abstract'},\n",
       "    {'document': 'http://www.ncbi.nlm.nih.gov/pubmed/21226671',\n",
       "     'text': 'Ongoing clinical trials evaluate dasatinib in the treatment of several solid tumours, including gastrointestinal stromal tumours (GIST), prostate cancer, malignant pleural mesothelioma, sarcomas, NSCLC, colorectal cancer, glioblastoma and other haematologic malignancies as multiple myeloma.',\n",
       "     'offsetInBeginSection': 1116,\n",
       "     'offsetInEndSection': 1407,\n",
       "     'beginSection': 'abstract',\n",
       "     'endSection': 'abstract'},\n",
       "    {'document': 'http://www.ncbi.nlm.nih.gov/pubmed/19190119',\n",
       "     'text': 'These results strongly support the clinical use of dasatinib in the treatment of glioblastoma and provide a rationale for combination therapy with dasatinib and temozolomide.',\n",
       "     'offsetInBeginSection': 1605,\n",
       "     'offsetInEndSection': 1779,\n",
       "     'beginSection': 'abstract',\n",
       "     'endSection': 'abstract'},\n",
       "    {'document': 'http://www.ncbi.nlm.nih.gov/pubmed/19190119',\n",
       "     'text': 'BMS-354825 (dasatinib) is an ATP-competitive small-molecule inhibitor effective in treating drug-resistant tumors with mutant BCR-ABL, KIT, and epidermal growth factor receptor by blocking tyrosine phosphorylation sites that are critical in tumorigenesis.',\n",
       "     'offsetInBeginSection': 103,\n",
       "     'offsetInEndSection': 358,\n",
       "     'beginSection': 'abstract',\n",
       "     'endSection': 'abstract'},\n",
       "    {'document': 'http://www.ncbi.nlm.nih.gov/pubmed/21226671',\n",
       "     'text': 'Dasatinib (BMS-354825, Sprycel®) is an oral, multitargeted inhibitor of receptor tyrosine kinases (RTKs), including BCR-ABL fusion protein, stem cell factor receptor (c-KIT), platelet-derived growth factor receptor (PDGFR), and Src family kinases (SFKs).',\n",
       "     'offsetInBeginSection': 0,\n",
       "     'offsetInEndSection': 255,\n",
       "     'beginSection': 'abstract',\n",
       "     'endSection': 'abstract'},\n",
       "    {'document': 'http://www.ncbi.nlm.nih.gov/pubmed/20165690',\n",
       "     'text': '3) Dasatinib is a tyrosine kinase inhibitor with a spectrum of inhibition only partially overlapping that of imatinib and a mechanism of tyrosine kinase inhibition that is different from that of imatinib.',\n",
       "     'offsetInBeginSection': 1276,\n",
       "     'offsetInEndSection': 1480,\n",
       "     'beginSection': 'abstract',\n",
       "     'endSection': 'abstract'},\n",
       "    {'document': 'http://www.ncbi.nlm.nih.gov/pubmed/21226671',\n",
       "     'text': 'In respect of these encouraging studies investigating dasatinib in the treatment of patients with GIST, prostate cancer, multiple myeloma and sarcomas, ongoing phase III clinical trials warrant the drug evaluation as recommended agent for the treatment of these diseases, also in association with chemotherapy or other targeted therapies.',\n",
       "     'offsetInBeginSection': 2061,\n",
       "     'offsetInEndSection': 2399,\n",
       "     'beginSection': 'abstract',\n",
       "     'endSection': 'abstract'},\n",
       "    {'document': 'http://www.ncbi.nlm.nih.gov/pubmed/21226671',\n",
       "     'text': 'Dasatinib is generally well tolerated.',\n",
       "     'offsetInBeginSection': 1583,\n",
       "     'offsetInEndSection': 1621,\n",
       "     'beginSection': 'abstract',\n",
       "     'endSection': 'abstract'},\n",
       "    {'document': 'http://www.ncbi.nlm.nih.gov/pubmed/19098899',\n",
       "     'text': 'Follow-up experiments on the finding that SRC is frequently phosphorylated in glioblastoma cell lines showed that SRC is also activated in primary glioblastoma patient samples and that the SRC inhibitor dasatinib (Sprycel) inhibits viability and cell migration in vitro and tumor growth in vivo.',\n",
       "     'offsetInBeginSection': 436,\n",
       "     'offsetInEndSection': 731,\n",
       "     'beginSection': 'abstract',\n",
       "     'endSection': 'abstract'},\n",
       "    {'document': 'http://www.ncbi.nlm.nih.gov/pubmed/21153679',\n",
       "     'text': 'We explored the efficacy of dasatinib, a SRC, BCR-ABL, c-KIT, EPHA2, and PDGFRβ inhibitor, in patients with recurrent GBM after bevacizumab failure.',\n",
       "     'offsetInBeginSection': 327,\n",
       "     'offsetInEndSection': 476,\n",
       "     'beginSection': 'abstract',\n",
       "     'endSection': 'abstract'}]},\n",
       "  {'id': '5916f14070f9fc6f0f00001f',\n",
       "   'body': 'What is the role of the positive effector of transcription (pet) in the hepatitis B virus?',\n",
       "   'documents': ['http://www.ncbi.nlm.nih.gov/pubmed/35550056',\n",
       "    'http://www.ncbi.nlm.nih.gov/pubmed/27955780',\n",
       "    'http://www.ncbi.nlm.nih.gov/pubmed/27955781',\n",
       "    'http://www.ncbi.nlm.nih.gov/pubmed/27443770',\n",
       "    'http://www.ncbi.nlm.nih.gov/pubmed/33232802',\n",
       "    'http://www.ncbi.nlm.nih.gov/pubmed/33382189',\n",
       "    'http://www.ncbi.nlm.nih.gov/pubmed/28296080',\n",
       "    'http://www.ncbi.nlm.nih.gov/pubmed/29065255',\n",
       "    'http://www.ncbi.nlm.nih.gov/pubmed/31800145',\n",
       "    'http://www.ncbi.nlm.nih.gov/pubmed/20870439'],\n",
       "   'snippets': [{'document': 'http://www.ncbi.nlm.nih.gov/pubmed/18448976',\n",
       "     'text': 'APOBEC3B inhibits hepatitis-B-virus gene transcription, and APOBEC3B and APOBEC3G preferentially mutate the hepatitis-B-virus x gene leading to the truncated hepatitis-B-virus x variants in hepatitis-B-virus-associated liver cancer.',\n",
       "     'offsetInBeginSection': 934,\n",
       "     'offsetInEndSection': 1166,\n",
       "     'beginSection': 'abstract',\n",
       "     'endSection': 'abstract'},\n",
       "    {'document': 'http://www.ncbi.nlm.nih.gov/pubmed/18448976',\n",
       "     'text': 'APOBEC3B, APOBEC3F and APOBEC3G directly inhibit hepatitis-B-virus reverse transcription independently of deaminase activity.',\n",
       "     'offsetInBeginSection': 589,\n",
       "     'offsetInEndSection': 714,\n",
       "     'beginSection': 'abstract',\n",
       "     'endSection': 'abstract'},\n",
       "    {'document': 'http://www.ncbi.nlm.nih.gov/pubmed/9013081',\n",
       "     'text': 'Disruption by P. amarus of hepatitis B virus polymerase activity, mRNA transcription and replication supports its role as an antiviral agent.',\n",
       "     'offsetInBeginSection': 904,\n",
       "     'offsetInEndSection': 1045,\n",
       "     'beginSection': 'abstract',\n",
       "     'endSection': 'abstract'},\n",
       "    {'document': 'http://www.ncbi.nlm.nih.gov/pubmed/26983541',\n",
       "     'text': 'Conversely, silencing the Smc5/6 complex enhances extrachromosomal reporter gene transcription in the absence of HBx, restores replication of an HBx-deficient hepatitis B virus, and rescues wild-type hepatitis B virus in a DDB1-knockdown background.',\n",
       "     'offsetInBeginSection': 722,\n",
       "     'offsetInEndSection': 971,\n",
       "     'beginSection': 'abstract',\n",
       "     'endSection': 'abstract'},\n",
       "    {'document': 'http://www.ncbi.nlm.nih.gov/pubmed/26983541',\n",
       "     'text': 'Hepatitis B virus encodes the regulatory HBx protein whose primary role is to promote transcription of the viral genome, which persists as an extrachromosomal DNA circle in infected cells.',\n",
       "     'offsetInBeginSection': 86,\n",
       "     'offsetInEndSection': 274,\n",
       "     'beginSection': 'abstract',\n",
       "     'endSection': 'abstract'},\n",
       "    {'document': 'http://www.ncbi.nlm.nih.gov/pubmed/9311882',\n",
       "     'text': 'We report the presence of two elements, pet and net, that are required for proper transcription of the duck hepatitis B virus (DHBV).',\n",
       "     'offsetInBeginSection': 0,\n",
       "     'offsetInEndSection': 133,\n",
       "     'beginSection': 'abstract',\n",
       "     'endSection': 'abstract'},\n",
       "    {'document': 'http://www.ncbi.nlm.nih.gov/pubmed/18448976',\n",
       "     'text': 'SUMMARY The interferon-inducible APOBEC3G and the other APOBEC3s restrict hepatitis B virus by cytidine deamination in hepatitis-B-virus minus-strand cDNA and by direct inhibition of hepatitis-B-virus reverse transcriptase.',\n",
       "     'offsetInBeginSection': 1169,\n",
       "     'offsetInEndSection': 1392,\n",
       "     'beginSection': 'abstract',\n",
       "     'endSection': 'abstract'},\n",
       "    {'document': 'http://www.ncbi.nlm.nih.gov/pubmed/18448976',\n",
       "     'text': 'RECENT FINDINGS The cytidine deaminases APOBEC3B, APOBEC3C, APOBEC3F and APOBEC3G deaminate cytidine residues in hepatitis-B-virus minus-strand cDNA, resulting in G to A hypermutated genomes in the serum of hepatitis-B-virus-infected patients.',\n",
       "     'offsetInBeginSection': 345,\n",
       "     'offsetInEndSection': 588,\n",
       "     'beginSection': 'abstract',\n",
       "     'endSection': 'abstract'},\n",
       "    {'document': 'http://www.ncbi.nlm.nih.gov/pubmed/23422505',\n",
       "     'text': 'Hepatitis B virus (HBV) X protein (HBx) plays an important role in HBV pathogenesis by regulating gene expression.',\n",
       "     'offsetInBeginSection': 0,\n",
       "     'offsetInEndSection': 114,\n",
       "     'beginSection': 'abstract',\n",
       "     'endSection': 'abstract'},\n",
       "    {'document': 'http://www.ncbi.nlm.nih.gov/pubmed/8107218',\n",
       "     'text': \"We have found that transcription of the pregenome of an avian hepadnavirus, duck hepatitis B virus (DHBV), is dependent on the presence of a small element in the 5' transcribed region of the pregenome-encoding sequence.\",\n",
       "     'offsetInBeginSection': 0,\n",
       "     'offsetInEndSection': 219,\n",
       "     'beginSection': 'abstract',\n",
       "     'endSection': 'abstract'}]},\n",
       "  {'id': '5a774ce1faa1ab7d2e000006',\n",
       "   'body': 'Is there increased recombination rate in human regulatory domains?',\n",
       "   'documents': ['http://www.ncbi.nlm.nih.gov/pubmed/29058599',\n",
       "    'http://www.ncbi.nlm.nih.gov/pubmed/30865674',\n",
       "    'http://www.ncbi.nlm.nih.gov/pubmed/16231303',\n",
       "    'http://www.ncbi.nlm.nih.gov/pubmed/15988735',\n",
       "    'http://www.ncbi.nlm.nih.gov/pubmed/20395511',\n",
       "    'http://www.ncbi.nlm.nih.gov/pubmed/8845024',\n",
       "    'http://www.ncbi.nlm.nih.gov/pubmed/27503290',\n",
       "    'http://www.ncbi.nlm.nih.gov/pubmed/30617125',\n",
       "    'http://www.ncbi.nlm.nih.gov/pubmed/8627729',\n",
       "    'http://www.ncbi.nlm.nih.gov/pubmed/22264291'],\n",
       "   'snippets': [{'document': 'http://www.ncbi.nlm.nih.gov/pubmed/29058599',\n",
       "     'text': 'This recombination rate\\xa0valley is most pronounced for gene regulatory domains of early embryonic development genes, housekeeping genes, and constitutive regulatory elements, which are known to show increased evolutionary constraint across species.',\n",
       "     'offsetInBeginSection': 863,\n",
       "     'offsetInEndSection': 1111,\n",
       "     'beginSection': 'abstract',\n",
       "     'endSection': 'abstract'},\n",
       "    {'document': 'http://www.ncbi.nlm.nih.gov/pubmed/8845024',\n",
       "     'text': 'The effect of Oct2A depends on the presence of its transactivation domains indicating that Oct2A increase the transcription of genes that increase the rate of V(D)J recombination.',\n",
       "     'offsetInBeginSection': 473,\n",
       "     'offsetInEndSection': 652,\n",
       "     'beginSection': 'abstract',\n",
       "     'endSection': 'abstract'},\n",
       "    {'document': 'http://www.ncbi.nlm.nih.gov/pubmed/29058599',\n",
       "     'text': 'CONCLUSIONS Our results suggest the existence of a recombination rate valley at regulatory domains and provide a potential molecular mechanism to interpret the interplay between genetic and epigenetic variations.',\n",
       "     'offsetInBeginSection': 1459,\n",
       "     'offsetInEndSection': 1671,\n",
       "     'beginSection': 'abstract',\n",
       "     'endSection': 'abstract'},\n",
       "    {'document': 'http://www.ncbi.nlm.nih.gov/pubmed/24225854',\n",
       "     'text': 'The general pattern is similar to that observed in yeast, as well as in positive-regulatory domain zinc finger protein 9-knockout mice, suggesting that recombination initiation described here in Mimulus may reflect ancient and conserved eukaryotic mechanisms.',\n",
       "     'offsetInBeginSection': 896,\n",
       "     'offsetInEndSection': 1155,\n",
       "     'beginSection': 'abstract',\n",
       "     'endSection': 'abstract'},\n",
       "    {'document': 'http://www.ncbi.nlm.nih.gov/pubmed/21949720',\n",
       "     'text': 'However, this result masks significant sex-specific complexity: late replicating domains tend to have high recombination rates in females but low recombination rates in males.',\n",
       "     'offsetInBeginSection': 639,\n",
       "     'offsetInEndSection': 814,\n",
       "     'beginSection': 'abstract',\n",
       "     'endSection': 'abstract'},\n",
       "    {'document': 'http://www.ncbi.nlm.nih.gov/pubmed/8845024',\n",
       "     'text': 'It was found that co-transfection of Oct2A together with an artificial recombination substrate increased the rate of V(D)J recombination by a factor of 3.4 in the fibroblast cell line L4 which had been stably transfected with genomic DNA containing the rag-1 and rag-2 genes and their flanking regulatory sequences.',\n",
       "     'offsetInBeginSection': 89,\n",
       "     'offsetInEndSection': 404,\n",
       "     'beginSection': 'abstract',\n",
       "     'endSection': 'abstract'},\n",
       "    {'document': 'http://www.ncbi.nlm.nih.gov/pubmed/29058599',\n",
       "     'text': 'RESULTS We study the relationship between recombination rate and gene regulatory domains, defined by a gene and its linked control elements.',\n",
       "     'offsetInBeginSection': 330,\n",
       "     'offsetInEndSection': 470,\n",
       "     'beginSection': 'abstract',\n",
       "     'endSection': 'abstract'},\n",
       "    {'document': 'http://www.ncbi.nlm.nih.gov/pubmed/27503290',\n",
       "     'text': 'Present analysis supports the idea that phenotypic divergence of Homo sapiens is driven by the evolution of human-specific genomic regulatory networks via at least two mechanistically distinct pathways of creation of divergent sequences of regulatory DNA: (i) recombination-associated exaptation of the highly conserved ancestral regulatory DNA segments; (ii) human-specific insertions of transposable elements.',\n",
       "     'offsetInBeginSection': 1881,\n",
       "     'offsetInEndSection': 2292,\n",
       "     'beginSection': 'abstract',\n",
       "     'endSection': 'abstract'},\n",
       "    {'document': 'http://www.ncbi.nlm.nih.gov/pubmed/1324834',\n",
       "     'text': \"However, this 'minimal' factor-XII protein displays a marked protease activity and, although lacking five regulatory domains of factor XII, is bound and activated by negative charges and promotes coagulation with high efficiency.\",\n",
       "     'offsetInBeginSection': 1469,\n",
       "     'offsetInEndSection': 1698,\n",
       "     'beginSection': 'abstract',\n",
       "     'endSection': 'abstract'},\n",
       "    {'document': 'http://www.ncbi.nlm.nih.gov/pubmed/29058599',\n",
       "     'text': 'Recombination rate\\xa0valleys show increased DNA methylation, reduced doublestranded break initiation, and increased repair efficiency, specifically in the lineage leading to the germ line.',\n",
       "     'offsetInBeginSection': 1112,\n",
       "     'offsetInEndSection': 1299,\n",
       "     'beginSection': 'abstract',\n",
       "     'endSection': 'abstract'}]},\n",
       "  {'id': '5a7d54adfaa1ab7d2e000019',\n",
       "   'body': \"Has IVIG been tested in clinical trials for the treatment of Alzheimer's disease?\",\n",
       "   'documents': ['http://www.ncbi.nlm.nih.gov/pubmed/24760112',\n",
       "    'http://www.ncbi.nlm.nih.gov/pubmed/20329802',\n",
       "    'http://www.ncbi.nlm.nih.gov/pubmed/19883422',\n",
       "    'http://www.ncbi.nlm.nih.gov/pubmed/20577707',\n",
       "    'http://www.ncbi.nlm.nih.gov/pubmed/30987435',\n",
       "    'http://www.ncbi.nlm.nih.gov/pubmed/18685921',\n",
       "    'http://www.ncbi.nlm.nih.gov/pubmed/26400261',\n",
       "    'http://www.ncbi.nlm.nih.gov/pubmed/25561275',\n",
       "    'http://www.ncbi.nlm.nih.gov/pubmed/21180569',\n",
       "    'http://www.ncbi.nlm.nih.gov/pubmed/1593608'],\n",
       "   'snippets': [{'document': 'http://www.ncbi.nlm.nih.gov/pubmed/28381506',\n",
       "     'text': 'OBJECTIVE We tested biweekly infusions of IV immunoglobulin (IVIg) as a possible treatment for mild to moderate Alzheimer disease (AD) dementia.',\n",
       "     'offsetInBeginSection': 0,\n",
       "     'offsetInEndSection': 144,\n",
       "     'beginSection': 'abstract',\n",
       "     'endSection': 'abstract'},\n",
       "    {'document': 'http://www.ncbi.nlm.nih.gov/pubmed/25561275',\n",
       "     'text': 'Evidence from controlled clinical trials has established IVIg as a first-line therapy for Guillain-Barré syndrome, chronic inflammatory demyelinating polyneuropathy and multifocal motor neuropathy.',\n",
       "     'offsetInBeginSection': 280,\n",
       "     'offsetInEndSection': 478,\n",
       "     'beginSection': 'abstract',\n",
       "     'endSection': 'abstract'},\n",
       "    {'document': 'http://www.ncbi.nlm.nih.gov/pubmed/20329802',\n",
       "     'text': 'Recently, commercially available intravenous immunoglobulins (IVIG) have been used in small pilot trials for the treatment of patients with AD, based on the hypothesis that IVIG contains naturally occurring autoantibodies (nAbs-Abeta) that specifically recognize and block the toxic effects of Abeta.',\n",
       "     'offsetInBeginSection': 460,\n",
       "     'offsetInEndSection': 760,\n",
       "     'beginSection': 'abstract',\n",
       "     'endSection': 'abstract'},\n",
       "    {'document': 'http://www.ncbi.nlm.nih.gov/pubmed/24760112',\n",
       "     'text': \"The human polyclonal IgG antibody preparation known as Intravenous Immunoglobulin (IVIG) has been under study as a potential treatment for Alzheimer's disease (AD) since 2002.\",\n",
       "     'offsetInBeginSection': 0,\n",
       "     'offsetInEndSection': 175,\n",
       "     'beginSection': 'abstract',\n",
       "     'endSection': 'abstract'},\n",
       "    {'document': 'http://www.ncbi.nlm.nih.gov/pubmed/21180569',\n",
       "     'text': 'Although not licensed, randomized controlled trials have also shown IVIg efficacy in other neuroimmunological diseases such as multifocal motor neuropathy (MMN), chronic inflammatory demyelinating neuropathy (CIDP), myasthenia gravis, dermatomyositis, and stiff-person syndrome.',\n",
       "     'offsetInBeginSection': 331,\n",
       "     'offsetInEndSection': 609,\n",
       "     'beginSection': 'abstract',\n",
       "     'endSection': 'abstract'},\n",
       "    {'document': 'http://www.ncbi.nlm.nih.gov/pubmed/19883422',\n",
       "     'text': \"Studies with IVIg in patients with Alzheimer's disease have reported increased plasma anti-Abeta antibody titres associated with decreased Abeta peptide levels in the cerebrospinal fluid following IVIg treatment.\",\n",
       "     'offsetInBeginSection': 899,\n",
       "     'offsetInEndSection': 1111,\n",
       "     'beginSection': 'abstract',\n",
       "     'endSection': 'abstract'},\n",
       "    {'document': 'http://www.ncbi.nlm.nih.gov/pubmed/25561275',\n",
       "     'text': 'IVIg has been tested in some neurodegenerative disorders, but a controlled study in Alzheimer disease yielded disappointing results.',\n",
       "     'offsetInBeginSection': 661,\n",
       "     'offsetInEndSection': 793,\n",
       "     'beginSection': 'abstract',\n",
       "     'endSection': 'abstract'},\n",
       "    {'document': 'http://www.ncbi.nlm.nih.gov/pubmed/24760112',\n",
       "     'text': 'In early stage AD clinical trials, IVIG was found to reduce cognitive decline and increase brain glucose metabolism.',\n",
       "     'offsetInBeginSection': 330,\n",
       "     'offsetInEndSection': 446,\n",
       "     'beginSection': 'abstract',\n",
       "     'endSection': 'abstract'},\n",
       "    {'document': 'http://www.ncbi.nlm.nih.gov/pubmed/25115544',\n",
       "     'text': 'Therefore, our findings suggest that IVIG treatment may represent an important therapeutic agent for clinical trials designed to prevent and delay the onset of neurodegeneration as well as AD pathology.',\n",
       "     'offsetInBeginSection': 1491,\n",
       "     'offsetInEndSection': 1693,\n",
       "     'beginSection': 'abstract',\n",
       "     'endSection': 'abstract'},\n",
       "    {'document': 'http://www.ncbi.nlm.nih.gov/pubmed/18685921',\n",
       "     'text': 'Evidence for the use of IVIg in inflammatory myopathies comes from controlled trials in dermatomyositis (DM) and sporadic-inclusion body myositis (s-IBM).',\n",
       "     'offsetInBeginSection': 97,\n",
       "     'offsetInEndSection': 251,\n",
       "     'beginSection': 'abstract',\n",
       "     'endSection': 'abstract'}]},\n",
       "  {'id': '5a8a9f18fcd1d6a10c00001a',\n",
       "   'body': 'Is NEMO a zinc finger protein?',\n",
       "   'documents': ['http://www.ncbi.nlm.nih.gov/pubmed/21309033',\n",
       "    'http://www.ncbi.nlm.nih.gov/pubmed/19033441',\n",
       "    'http://www.ncbi.nlm.nih.gov/pubmed/12867425',\n",
       "    'http://www.ncbi.nlm.nih.gov/pubmed/26224629',\n",
       "    'http://www.ncbi.nlm.nih.gov/pubmed/16794254',\n",
       "    'http://www.ncbi.nlm.nih.gov/pubmed/16379012',\n",
       "    'http://www.ncbi.nlm.nih.gov/pubmed/18313693',\n",
       "    'http://www.ncbi.nlm.nih.gov/pubmed/24270572',\n",
       "    'http://www.ncbi.nlm.nih.gov/pubmed/28035815',\n",
       "    'http://www.ncbi.nlm.nih.gov/pubmed/23032186'],\n",
       "   'snippets': [{'document': 'http://www.ncbi.nlm.nih.gov/pubmed/28814200',\n",
       "     'text': 'An important regulatory domain of NF-[Formula: see text]B Essential Modulator (NEMO) is a ubiquitin-binding zinc finger, with a tetrahedral CYS3HIS1 zinc-coordinating binding site.',\n",
       "     'offsetInBeginSection': 0,\n",
       "     'offsetInEndSection': 180,\n",
       "     'beginSection': 'abstract',\n",
       "     'endSection': 'abstract'},\n",
       "    {'document': 'http://www.ncbi.nlm.nih.gov/pubmed/24100029',\n",
       "     'text': 'NEMO function is mediated by two distal ubiquitin binding domains located in the regulatory C-terminal domain of the protein: the coiled-coil 2-leucine zipper (CC2-LZ) domain and the zinc finger (ZF) domain.',\n",
       "     'offsetInBeginSection': 136,\n",
       "     'offsetInEndSection': 343,\n",
       "     'beginSection': 'abstract',\n",
       "     'endSection': 'abstract'},\n",
       "    {'document': 'http://www.ncbi.nlm.nih.gov/pubmed/21309033',\n",
       "     'text': 'The covalent attachment of lysine 63-linked polyubiquitin to the zinc-finger domain of IKBKG/NEMO (also known as IKKγ) is necessary for full activation of NF-κB.',\n",
       "     'offsetInBeginSection': 0,\n",
       "     'offsetInEndSection': 163,\n",
       "     'beginSection': 'abstract',\n",
       "     'endSection': 'abstract'},\n",
       "    {'document': 'http://www.ncbi.nlm.nih.gov/pubmed/18313693',\n",
       "     'text': 'The regulatory domain is located in the C-terminal half of NEMO and contains a classical CCHC-type zinc finger (ZF).',\n",
       "     'offsetInBeginSection': 206,\n",
       "     'offsetInEndSection': 322,\n",
       "     'beginSection': 'abstract',\n",
       "     'endSection': 'abstract'},\n",
       "    {'document': 'http://www.ncbi.nlm.nih.gov/pubmed/19033441',\n",
       "     'text': 'Here, we report that the zinc finger (ZF) motif, located in the regulatory C-terminal half of NEMO, forms a specific complex with ubiquitin.',\n",
       "     'offsetInBeginSection': 200,\n",
       "     'offsetInEndSection': 340,\n",
       "     'beginSection': 'abstract',\n",
       "     'endSection': 'abstract'},\n",
       "    {'document': 'http://www.ncbi.nlm.nih.gov/pubmed/19033441',\n",
       "     'text': 'We have investigated the NEMO ZF-ubiquitin interaction and proposed a structural model of the complex based on NMR, fluorescence, and mutagenesis data and on the sequence homology with the polymerase eta ubiquitin-binding zinc finger involved in DNA repair.',\n",
       "     'offsetInBeginSection': 341,\n",
       "     'offsetInEndSection': 598,\n",
       "     'beginSection': 'abstract',\n",
       "     'endSection': 'abstract'},\n",
       "    {'document': 'http://www.ncbi.nlm.nih.gov/pubmed/21309033',\n",
       "     'text': 'Interestingly, DCs from patients with a C417R missense mutation within the zinc finger domain of NEMO in which ubiquitination of NEMO is preserved are also defective in JNK and ERK activity following LPS stimulation.',\n",
       "     'offsetInBeginSection': 743,\n",
       "     'offsetInEndSection': 959,\n",
       "     'beginSection': 'abstract',\n",
       "     'endSection': 'abstract'},\n",
       "    {'document': 'http://www.ncbi.nlm.nih.gov/pubmed/21309033',\n",
       "     'text': 'Nevertheless, the biological function of the NEMO zinc-finger domain in the regulation of mitogen-activated protein kinase (MAPK) activity is poorly understood.',\n",
       "     'offsetInBeginSection': 374,\n",
       "     'offsetInEndSection': 534,\n",
       "     'beginSection': 'abstract',\n",
       "     'endSection': 'abstract'},\n",
       "    {'document': 'http://www.ncbi.nlm.nih.gov/pubmed/16794254',\n",
       "     'text': 'In this report, we investigated the effect of a cysteine-to-arginine mutation (C417R) found in the NEMO zinc finger domain on dendritic cell (DC) function.',\n",
       "     'offsetInBeginSection': 321,\n",
       "     'offsetInEndSection': 476,\n",
       "     'beginSection': 'abstract',\n",
       "     'endSection': 'abstract'},\n",
       "    {'document': 'http://www.ncbi.nlm.nih.gov/pubmed/20345847',\n",
       "     'text': 'Mutations affecting IKKγ have been associated with X-linked hypohidrotic ectodermal dysplasia with immune deficiency (HED-ID), with the majority of these mutations affecting the C-terminal region of the protein where the zinc finger is located.',\n",
       "     'offsetInBeginSection': 612,\n",
       "     'offsetInEndSection': 857,\n",
       "     'beginSection': 'abstract',\n",
       "     'endSection': 'abstract'}]},\n",
       "  {'id': '5a7612b483b0d9ea6600001d',\n",
       "   'body': 'Is enzastaurin effective treatment of glioblastoma?',\n",
       "   'documents': ['http://www.ncbi.nlm.nih.gov/pubmed/16103100',\n",
       "    'http://www.ncbi.nlm.nih.gov/pubmed/20934407',\n",
       "    'http://www.ncbi.nlm.nih.gov/pubmed/20971826',\n",
       "    'http://www.ncbi.nlm.nih.gov/pubmed/22291006',\n",
       "    'http://www.ncbi.nlm.nih.gov/pubmed/20124186',\n",
       "    'http://www.ncbi.nlm.nih.gov/pubmed/19098118',\n",
       "    'http://www.ncbi.nlm.nih.gov/pubmed/25398844',\n",
       "    'http://www.ncbi.nlm.nih.gov/pubmed/20156802',\n",
       "    'http://www.ncbi.nlm.nih.gov/pubmed/21360576',\n",
       "    'http://www.ncbi.nlm.nih.gov/pubmed/21667043'],\n",
       "   'snippets': [{'document': 'http://www.ncbi.nlm.nih.gov/pubmed/22413865',\n",
       "     'text': 'EXPERT OPINION Enzastaurin and cediranib failed in randomized Phase III trials in recurrent glioblastoma, aflibercept in Phase II.',\n",
       "     'offsetInBeginSection': 969,\n",
       "     'offsetInEndSection': 1099,\n",
       "     'beginSection': 'abstract',\n",
       "     'endSection': 'abstract'},\n",
       "    {'document': 'http://www.ncbi.nlm.nih.gov/pubmed/19098118',\n",
       "     'text': 'Enzastaurin is currently in Phase III clinical trials.',\n",
       "     'offsetInBeginSection': 1527,\n",
       "     'offsetInEndSection': 1581,\n",
       "     'beginSection': 'abstract',\n",
       "     'endSection': 'abstract'},\n",
       "    {'document': 'http://www.ncbi.nlm.nih.gov/pubmed/20971826',\n",
       "     'text': 'Herein, we show that enzastaurin treatment impacts signaling throughout the AKT/mTOR pathway leading to hypophosphorylation of 4E-BP1 in cancer cells of diverse lineages (glioblastoma, colon carcinoma, and B-cell lymphoma).',\n",
       "     'offsetInBeginSection': 661,\n",
       "     'offsetInEndSection': 884,\n",
       "     'beginSection': 'abstract',\n",
       "     'endSection': 'abstract'},\n",
       "    {'document': 'http://www.ncbi.nlm.nih.gov/pubmed/20934407',\n",
       "     'text': 'It is currently used in phase II trials for the treatment of colon cancer, refractory glioblastoma and diffuse large B cell lymphoma.',\n",
       "     'offsetInBeginSection': 277,\n",
       "     'offsetInEndSection': 410,\n",
       "     'beginSection': 'abstract',\n",
       "     'endSection': 'abstract'},\n",
       "    {'document': 'http://www.ncbi.nlm.nih.gov/pubmed/20971826',\n",
       "     'text': 'Enzastaurin (LY317615.HCl) is currently in a phase III registration trial for diffuse large B-Cell lymphoma and numerous phase II clinical trials.',\n",
       "     'offsetInBeginSection': 0,\n",
       "     'offsetInEndSection': 146,\n",
       "     'beginSection': 'abstract',\n",
       "     'endSection': 'abstract'},\n",
       "    {'document': 'http://www.ncbi.nlm.nih.gov/pubmed/22413865',\n",
       "     'text': 'Inhibition of angiogenic pathways by small molecules, for example, enzastaurin, or anti-integrin-based approaches, for example, cilengitide, represent alternative strategies.',\n",
       "     'offsetInBeginSection': 792,\n",
       "     'offsetInEndSection': 966,\n",
       "     'beginSection': 'abstract',\n",
       "     'endSection': 'abstract'},\n",
       "    {'document': 'http://www.ncbi.nlm.nih.gov/pubmed/20934407',\n",
       "     'text': 'Enzastaurin is a selective protein kinase Cβ inhibitor which is shown to have direct antitumor effect as well as suppress glycogen synthase kinase-3β (GSK-3β) phosphorylation (resulting in its activation) in both tumor tissues and peripheral blood mononuclear cells (PBMC).',\n",
       "     'offsetInBeginSection': 0,\n",
       "     'offsetInEndSection': 276,\n",
       "     'beginSection': 'abstract',\n",
       "     'endSection': 'abstract'},\n",
       "    {'document': 'http://www.ncbi.nlm.nih.gov/pubmed/22413865',\n",
       "     'text': 'INTRODUCTION Antiangiogenic approaches are currently the dominating experimental therapeutic strategy in glioblastoma.',\n",
       "     'offsetInBeginSection': 0,\n",
       "     'offsetInEndSection': 118,\n",
       "     'beginSection': 'abstract',\n",
       "     'endSection': 'abstract'},\n",
       "    {'document': 'http://www.ncbi.nlm.nih.gov/pubmed/19098118',\n",
       "     'text': 'Simultaneous and sequential treatment regimens with enzastaurin and BCNU delayed tumor growth and increased lifespan in mice bearing subcutaneous or intracranial human T98G glioblastoma multiforme.',\n",
       "     'offsetInBeginSection': 1268,\n",
       "     'offsetInEndSection': 1465,\n",
       "     'beginSection': 'abstract',\n",
       "     'endSection': 'abstract'},\n",
       "    {'document': 'http://www.ncbi.nlm.nih.gov/pubmed/20934407',\n",
       "     'text': 'Treatment of NK cells with GSK-3β-specific inhibitor TDZD-8 prevented enzastaurin-induced inhibition of NK cell cytotoxicity.',\n",
       "     'offsetInBeginSection': 1051,\n",
       "     'offsetInEndSection': 1177,\n",
       "     'beginSection': 'abstract',\n",
       "     'endSection': 'abstract'}]},\n",
       "  {'id': '5925227670f9fc6f0f000020',\n",
       "   'body': 'Which enzymes are responsible for base J creation in Trypanosoma brucei?',\n",
       "   'documents': ['http://www.ncbi.nlm.nih.gov/pubmed/18729733',\n",
       "    'http://www.ncbi.nlm.nih.gov/pubmed/9570833',\n",
       "    'http://www.ncbi.nlm.nih.gov/pubmed/25064607',\n",
       "    'http://www.ncbi.nlm.nih.gov/pubmed/17329373',\n",
       "    'http://www.ncbi.nlm.nih.gov/pubmed/12366829',\n",
       "    'http://www.ncbi.nlm.nih.gov/pubmed/24080031',\n",
       "    'http://www.ncbi.nlm.nih.gov/pubmed/9088991',\n",
       "    'http://www.ncbi.nlm.nih.gov/pubmed/12235375',\n",
       "    'http://www.ncbi.nlm.nih.gov/pubmed/8692684',\n",
       "    'http://www.ncbi.nlm.nih.gov/pubmed/20215442'],\n",
       "   'snippets': [{'document': 'http://www.ncbi.nlm.nih.gov/pubmed/20215442',\n",
       "     'text': 'Base J is a hypermodified DNA base localized primarily to telomeric regions of the genome of Trypanosoma brucei.',\n",
       "     'offsetInBeginSection': 0,\n",
       "     'offsetInEndSection': 112,\n",
       "     'beginSection': 'abstract',\n",
       "     'endSection': 'abstract'},\n",
       "    {'document': 'http://www.ncbi.nlm.nih.gov/pubmed/17706299',\n",
       "     'text': 'Synthesis of the modified thymine base, beta-d-glucosyl-hydroxymethyluracil or J, within telomeric DNA of Trypanosoma brucei correlates with the bloodstream form specific epigenetic silencing of telomeric variant surface glycoprotein genes involved in antigenic variation.',\n",
       "     'offsetInBeginSection': 0,\n",
       "     'offsetInEndSection': 272,\n",
       "     'beginSection': 'abstract',\n",
       "     'endSection': 'abstract'},\n",
       "    {'document': 'http://www.ncbi.nlm.nih.gov/pubmed/12366829',\n",
       "     'text': 'The nuclear DNA of Trypanosoma brucei and other kinetoplastid flagellates contains the unusual base beta-d-glucosyl-hydroxymethyluracil, called J, replacing part of the thymine in repetitive sequences.',\n",
       "     'offsetInBeginSection': 0,\n",
       "     'offsetInEndSection': 201,\n",
       "     'beginSection': 'abstract',\n",
       "     'endSection': 'abstract'},\n",
       "    {'document': 'http://www.ncbi.nlm.nih.gov/pubmed/12235375',\n",
       "     'text': 'In kinetoplastid flagellates such as Trypanosoma brucei, a small percentage of the thymine residues in the nuclear DNA is replaced by the modified base beta-D-glucosyl-hydroxymethyluracil (J), mostly in repetitive sequences like the telomeric GGGTTA repeats.',\n",
       "     'offsetInBeginSection': 0,\n",
       "     'offsetInEndSection': 258,\n",
       "     'beginSection': 'abstract',\n",
       "     'endSection': 'abstract'},\n",
       "    {'document': 'http://www.ncbi.nlm.nih.gov/pubmed/8692684',\n",
       "     'text': 'We have previously shown that nuclear DNA of bloodstream from Trypanosoma brucei contains a novel base beta-glucosyl-hydroxymethyluracil, called J.',\n",
       "     'offsetInBeginSection': 0,\n",
       "     'offsetInEndSection': 147,\n",
       "     'beginSection': 'abstract',\n",
       "     'endSection': 'abstract'},\n",
       "    {'document': 'http://www.ncbi.nlm.nih.gov/pubmed/18729733',\n",
       "     'text': 'In 1993, a new base, beta-d-glucopyranosyloxymethyluracil (base J), was identified in the nuclear DNA of Trypanosoma brucei.',\n",
       "     'offsetInBeginSection': 0,\n",
       "     'offsetInEndSection': 124,\n",
       "     'beginSection': 'abstract',\n",
       "     'endSection': 'abstract'},\n",
       "    {'document': 'http://www.ncbi.nlm.nih.gov/pubmed/25064607',\n",
       "     'text': 'Base J is a DNA modification found in the genome of Trypanosoma brucei and all other kinetoplastids analyzed, where it replaces a small fraction of Ts, mainly in telomeric and chromosome-internal transcription initiation and termination regions.',\n",
       "     'offsetInBeginSection': 0,\n",
       "     'offsetInEndSection': 245,\n",
       "     'beginSection': 'abstract',\n",
       "     'endSection': 'abstract'},\n",
       "    {'document': 'http://www.ncbi.nlm.nih.gov/pubmed/9742081',\n",
       "     'text': 'In Trypanosoma brucei, the majority of J is present in repetitive DNA but the partial replacement of thymine by J also correlates with transcriptional repression of the variant surface glycoprotein (VSG) genes in the telomeric VSG gene expression sites.',\n",
       "     'offsetInBeginSection': 118,\n",
       "     'offsetInEndSection': 371,\n",
       "     'beginSection': 'abstract',\n",
       "     'endSection': 'abstract'},\n",
       "    {'document': 'http://www.ncbi.nlm.nih.gov/pubmed/20215442',\n",
       "     'text': 'This genome-wide analysis revealed an enrichment of base J at regions flanking polymerase II polycistronic transcription units (Pol II PTUs) throughout the T. brucei genome.',\n",
       "     'offsetInBeginSection': 569,\n",
       "     'offsetInEndSection': 742,\n",
       "     'beginSection': 'abstract',\n",
       "     'endSection': 'abstract'},\n",
       "    {'document': 'http://www.ncbi.nlm.nih.gov/pubmed/25064607',\n",
       "     'text': '(Nucleic Acids Res 2013;41:7635) suggested that Tb927.10.6900 encodes the glucosyltransferase (HmdUGT) responsible for converting HOMedU to J in T. brucei.',\n",
       "     'offsetInBeginSection': 642,\n",
       "     'offsetInEndSection': 797,\n",
       "     'beginSection': 'abstract',\n",
       "     'endSection': 'abstract'}]},\n",
       "  {'id': '5a80d6cbfaa1ab7d2e000024',\n",
       "   'body': 'What is the role of Kmt5a in liver?',\n",
       "   'documents': ['http://www.ncbi.nlm.nih.gov/pubmed/31186699',\n",
       "    'http://www.ncbi.nlm.nih.gov/pubmed/33710666',\n",
       "    'http://www.ncbi.nlm.nih.gov/pubmed/36149050',\n",
       "    'http://www.ncbi.nlm.nih.gov/pubmed/34803485',\n",
       "    'http://www.ncbi.nlm.nih.gov/pubmed/35404465',\n",
       "    'http://www.ncbi.nlm.nih.gov/pubmed/28899750',\n",
       "    'http://www.ncbi.nlm.nih.gov/pubmed/34238215',\n",
       "    'http://www.ncbi.nlm.nih.gov/pubmed/33406400',\n",
       "    'http://www.ncbi.nlm.nih.gov/pubmed/33782381',\n",
       "    'http://www.ncbi.nlm.nih.gov/pubmed/33398850'],\n",
       "   'snippets': [{'document': 'http://www.ncbi.nlm.nih.gov/pubmed/23419719',\n",
       "     'text': 'SET8 (also known as PR-Set7/9, SETD8, KMT5A), a member of the SET domain containing methyltransferase family, which specifically catalyzes mono-methylation of K20 on histone H4 (H4K20me1), has been implicated in multiple biological processes, such as gene transcriptional regulation, cell cycle control, genomic integrity maintenance and development.',\n",
       "     'offsetInBeginSection': 0,\n",
       "     'offsetInEndSection': 350,\n",
       "     'beginSection': 'abstract',\n",
       "     'endSection': 'abstract'},\n",
       "    {'document': 'http://www.ncbi.nlm.nih.gov/pubmed/28899750',\n",
       "     'text': 'These results suggest sustained activation of c-MYC and stabilization of KMT5A to result in c-MYC-mediated transcript upregulation and following KMT5A-mediated protein stabilization of PCNA in GST-P+ foci, as well as KDM4A stabilization resulting in slowing down of DNA damage response in these lesions.',\n",
       "     'offsetInBeginSection': 755,\n",
       "     'offsetInEndSection': 1058,\n",
       "     'beginSection': 'abstract',\n",
       "     'endSection': 'abstract'},\n",
       "    {'document': 'http://www.ncbi.nlm.nih.gov/pubmed/23575530',\n",
       "     'text': 'PR-SET7 (also named SET8 or KMT5a) is a sole lysine methyltransferase that catalyzes monomethylation of histone H4 lysine 20 (H4K20me1) in higher eukaryotes.',\n",
       "     'offsetInBeginSection': 0,\n",
       "     'offsetInEndSection': 157,\n",
       "     'beginSection': 'abstract',\n",
       "     'endSection': 'abstract'},\n",
       "    {'document': 'http://www.ncbi.nlm.nih.gov/pubmed/25554733',\n",
       "     'text': 'SETD8 (also known as SET8, PR-SET7, or KMT5A (lysine methyltransferase 5A)) is the only known lysine methyltransferase that catalyzes monomethylation of histone H4 lysine 20 (H4K20).',\n",
       "     'offsetInBeginSection': 0,\n",
       "     'offsetInEndSection': 182,\n",
       "     'beginSection': 'abstract',\n",
       "     'endSection': 'abstract'},\n",
       "    {'document': 'http://www.ncbi.nlm.nih.gov/pubmed/28746875',\n",
       "     'text': 'Here, we show that, in non-dividing hepatic cells, H4K20Me1 is specifically enriched in active gene bodies and dynamically regulated by the antagonistic action of Kmt5a methylase and Kdm7b demethylase.',\n",
       "     'offsetInBeginSection': 140,\n",
       "     'offsetInEndSection': 341,\n",
       "     'beginSection': 'abstract',\n",
       "     'endSection': 'abstract'},\n",
       "    {'document': 'http://www.ncbi.nlm.nih.gov/pubmed/20953199',\n",
       "     'text': 'Here, we show that the onset of licensing in mammalian cells coincides with an increase in histone H4 Lys 20 monomethylation (H4K20me1) at replication origins by the methyltransferase PR-Set7 (also known as Set8 or KMT5A).',\n",
       "     'offsetInBeginSection': 370,\n",
       "     'offsetInEndSection': 592,\n",
       "     'beginSection': 'abstract',\n",
       "     'endSection': 'abstract'},\n",
       "    {'document': 'http://www.ncbi.nlm.nih.gov/pubmed/23410872',\n",
       "     'text': 'In conclusion, β-Catenin plays an important role in regulating the balance between TNF-α and Fas-induced liver injury via its effect on NF-κB.',\n",
       "     'offsetInBeginSection': 587,\n",
       "     'offsetInEndSection': 732,\n",
       "     'beginSection': 'abstract',\n",
       "     'endSection': 'abstract'},\n",
       "    {'document': 'http://www.ncbi.nlm.nih.gov/pubmed/28899750',\n",
       "     'text': 'Our results suggest that repeated hepatocarcinogen treatment of rats causes stabilization of UBE2E2-related ubiquitination target proteins in liver cells to promote carcinogenesis.',\n",
       "     'offsetInBeginSection': 1662,\n",
       "     'offsetInEndSection': 1842,\n",
       "     'beginSection': 'abstract',\n",
       "     'endSection': 'abstract'},\n",
       "    {'document': 'http://www.ncbi.nlm.nih.gov/pubmed/28746875',\n",
       "     'text': 'In liver-specific Kmt5a-deficient mice, reduced levels of H4K20Me1 correlated with reduced RNA Pol II release from promoter-proximal regions.',\n",
       "     'offsetInBeginSection': 342,\n",
       "     'offsetInEndSection': 483,\n",
       "     'beginSection': 'abstract',\n",
       "     'endSection': 'abstract'},\n",
       "    {'document': 'http://www.ncbi.nlm.nih.gov/pubmed/18581285',\n",
       "     'text': 'Indeed, histone lysine methyltransferases KMT5 (Set9), KMT3C (Smyd2), and KMT5A (Set8) methylate p53 at specific C-terminal lysines.',\n",
       "     'offsetInBeginSection': 786,\n",
       "     'offsetInEndSection': 918,\n",
       "     'beginSection': 'abstract',\n",
       "     'endSection': 'abstract'}]},\n",
       "  {'id': '5a7d5ce0faa1ab7d2e00001b',\n",
       "   'body': 'How does increased GDF15 affect body weight?',\n",
       "   'documents': ['http://www.ncbi.nlm.nih.gov/pubmed/33686698',\n",
       "    'http://www.ncbi.nlm.nih.gov/pubmed/35129264',\n",
       "    'http://www.ncbi.nlm.nih.gov/pubmed/36444166',\n",
       "    'http://www.ncbi.nlm.nih.gov/pubmed/32320650',\n",
       "    'http://www.ncbi.nlm.nih.gov/pubmed/36465107',\n",
       "    'http://www.ncbi.nlm.nih.gov/pubmed/31875646',\n",
       "    'http://www.ncbi.nlm.nih.gov/pubmed/36064109',\n",
       "    'http://www.ncbi.nlm.nih.gov/pubmed/35817957',\n",
       "    'http://www.ncbi.nlm.nih.gov/pubmed/30721097',\n",
       "    'http://www.ncbi.nlm.nih.gov/pubmed/34189431'],\n",
       "   'snippets': [{'document': 'http://www.ncbi.nlm.nih.gov/pubmed/28846097',\n",
       "     'text': 'In humans, elevated GDF15 correlates with weight loss, and the administration of GDF15 to mice with obesity reduces body weight, at least in part, by decreasing food intake.',\n",
       "     'offsetInBeginSection': 167,\n",
       "     'offsetInEndSection': 340,\n",
       "     'beginSection': 'abstract',\n",
       "     'endSection': 'abstract'},\n",
       "    {'document': 'http://www.ncbi.nlm.nih.gov/pubmed/27986797',\n",
       "     'text': 'In ob/ob mice, administration of recombinant GDF15 decreased body weight and improved insulin sensitivity, which was attributed to elevated oxidative metabolism and lipid mobilization in the liver, muscle, and adipose tissue.',\n",
       "     'offsetInBeginSection': 817,\n",
       "     'offsetInEndSection': 1042,\n",
       "     'beginSection': 'abstract',\n",
       "     'endSection': 'abstract'},\n",
       "    {'document': 'http://www.ncbi.nlm.nih.gov/pubmed/29046435',\n",
       "     'text': 'Adeno-associated virus-mediated overexpression of GDF15 and recombinant GDF15 treatments reduced food intake and body weight and improved metabolic profiles in various metabolic disease models in mice, rats, and obese cynomolgus monkeys.',\n",
       "     'offsetInBeginSection': 491,\n",
       "     'offsetInEndSection': 728,\n",
       "     'beginSection': 'abstract',\n",
       "     'endSection': 'abstract'},\n",
       "    {'document': 'http://www.ncbi.nlm.nih.gov/pubmed/28846098',\n",
       "     'text': 'A connection between GDF15 and body-weight regulation was initially suggested on the basis of an observation that increasing GDF15 levels in serum correlated with weight loss in individuals with advanced prostate cancer.',\n",
       "     'offsetInBeginSection': 282,\n",
       "     'offsetInEndSection': 502,\n",
       "     'beginSection': 'abstract',\n",
       "     'endSection': 'abstract'},\n",
       "    {'document': 'http://www.ncbi.nlm.nih.gov/pubmed/28953886',\n",
       "     'text': 'GDF15 regulates food intake, energy expenditure and body weight in response to metabolic and toxin-induced stresses; we show that Gfral knockout mice are hyperphagic under stressed conditions and are resistant to chemotherapy-induced anorexia and body weight loss.',\n",
       "     'offsetInBeginSection': 819,\n",
       "     'offsetInEndSection': 1083,\n",
       "     'beginSection': 'abstract',\n",
       "     'endSection': 'abstract'},\n",
       "    {'document': 'http://www.ncbi.nlm.nih.gov/pubmed/27239403',\n",
       "     'text': 'Inhibition of GDF15 biological activity with a specific antibody reversed body weight loss and restored muscle and fat tissue mass in several cachectic animal models regardless of their complex secreted cytokine profile.',\n",
       "     'offsetInBeginSection': 1344,\n",
       "     'offsetInEndSection': 1564,\n",
       "     'beginSection': 'abstract',\n",
       "     'endSection': 'abstract'},\n",
       "    {'document': 'http://www.ncbi.nlm.nih.gov/pubmed/28953886',\n",
       "     'text': 'GDF15 levels increase in response to tissue stress and injury, and elevated levels are associated with body weight loss in numerous chronic human diseases.',\n",
       "     'offsetInBeginSection': 1434,\n",
       "     'offsetInEndSection': 1589,\n",
       "     'beginSection': 'abstract',\n",
       "     'endSection': 'abstract'},\n",
       "    {'document': 'http://www.ncbi.nlm.nih.gov/pubmed/26672741',\n",
       "     'text': 'METHODS We measured body weight, appetite, plasma GDF15, and other inflammatory markers in men with cancer-related weight loss (C-WL, n\\u2009=\\u200958), weight stable patients with cancer (C-WS, n\\u2009=\\u200972), and non-cancer controls (Co, n\\u2009=\\u200959) matched by age and pre-illness body mass index.',\n",
       "     'offsetInBeginSection': 457,\n",
       "     'offsetInEndSection': 747,\n",
       "     'beginSection': 'abstract',\n",
       "     'endSection': 'abstract'},\n",
       "    {'document': 'http://www.ncbi.nlm.nih.gov/pubmed/28846099',\n",
       "     'text': 'Growth differentiation factor 15 (GDF15; also known as MIC-1) is a divergent member of the TGF-β superfamily and is associated with body-weight regulation in humans and rodents.',\n",
       "     'offsetInBeginSection': 0,\n",
       "     'offsetInEndSection': 178,\n",
       "     'beginSection': 'abstract',\n",
       "     'endSection': 'abstract'},\n",
       "    {'document': 'http://www.ncbi.nlm.nih.gov/pubmed/29046435',\n",
       "     'text': 'Furthermore, we discovered that GDF15 delayed gastric emptying, changed food preference, and activated area postrema neurons, confirming a role for GDF15 in the gut-brain axis responsible for the regulation of body energy intake.',\n",
       "     'offsetInBeginSection': 1031,\n",
       "     'offsetInEndSection': 1260,\n",
       "     'beginSection': 'abstract',\n",
       "     'endSection': 'abstract'}]},\n",
       "  {'id': '5a7617b183b0d9ea66000022',\n",
       "   'body': 'What is inhibited by a drug rilotumumab?',\n",
       "   'documents': ['http://www.ncbi.nlm.nih.gov/pubmed/23454250',\n",
       "    'http://www.ncbi.nlm.nih.gov/pubmed/27966237',\n",
       "    'http://www.ncbi.nlm.nih.gov/pubmed/19649990',\n",
       "    'http://www.ncbi.nlm.nih.gov/pubmed/25912961',\n",
       "    'http://www.ncbi.nlm.nih.gov/pubmed/25712685',\n",
       "    'http://www.ncbi.nlm.nih.gov/pubmed/24965569',\n",
       "    'http://www.ncbi.nlm.nih.gov/pubmed/25584489',\n",
       "    'http://www.ncbi.nlm.nih.gov/pubmed/24186235',\n",
       "    'http://www.ncbi.nlm.nih.gov/pubmed/28958504',\n",
       "    'http://www.ncbi.nlm.nih.gov/pubmed/28973403'],\n",
       "   'snippets': [{'document': 'http://www.ncbi.nlm.nih.gov/pubmed/25584489',\n",
       "     'text': 'BACKGROUND Rilotumumab, an investigational, monoclonal antibody, inhibits MET-mediated signalling.',\n",
       "     'offsetInBeginSection': 0,\n",
       "     'offsetInEndSection': 98,\n",
       "     'beginSection': 'abstract',\n",
       "     'endSection': 'abstract'},\n",
       "    {'document': 'http://www.ncbi.nlm.nih.gov/pubmed/24965569',\n",
       "     'text': 'Rilotumumab is a fully human, monoclonal antibody that neutralises HGF.',\n",
       "     'offsetInBeginSection': 114,\n",
       "     'offsetInEndSection': 185,\n",
       "     'beginSection': 'abstract',\n",
       "     'endSection': 'abstract'},\n",
       "    {'document': 'http://www.ncbi.nlm.nih.gov/pubmed/25584489',\n",
       "     'text': 'In a randomized phase 2 trial of rilotumumab±epirubicin/cisplatin/capecitabine in gastric or oesophagogastric junction cancer, patients receiving rilotumumab showed a trend towards improved survival, especially in MET-positive patients, but no clear dose-response relationship was observed.',\n",
       "     'offsetInBeginSection': 99,\n",
       "     'offsetInEndSection': 390,\n",
       "     'beginSection': 'abstract',\n",
       "     'endSection': 'abstract'},\n",
       "    {'document': 'http://www.ncbi.nlm.nih.gov/pubmed/25712685',\n",
       "     'text': 'PURPOSE Rilotumumab is an investigational, fully human monoclonal antibody to hepatocyte growth factor.',\n",
       "     'offsetInBeginSection': 0,\n",
       "     'offsetInEndSection': 103,\n",
       "     'beginSection': 'abstract',\n",
       "     'endSection': 'abstract'},\n",
       "    {'document': 'http://www.ncbi.nlm.nih.gov/pubmed/24965569',\n",
       "     'text': 'We aimed to assess the safety, efficacy, biomarkers, and pharmacokinetics of rilotumumab combined with epirubicin, cisplatin, and capecitabine (ECX) in patients with advanced gastric or oesophagogastric junction cancer.',\n",
       "     'offsetInBeginSection': 186,\n",
       "     'offsetInEndSection': 405,\n",
       "     'beginSection': 'abstract',\n",
       "     'endSection': 'abstract'},\n",
       "    {'document': 'http://www.ncbi.nlm.nih.gov/pubmed/25185191',\n",
       "     'text': 'Patients with gastric or esophagogastric cancer treated with combination chemotherapy and rilotumumab, an anti-HGF monoclonal antibody, had longer progression-free survival than patients treated with chemotherapy alone, according to results from a phase II clinical trial.',\n",
       "     'offsetInBeginSection': 0,\n",
       "     'offsetInEndSection': 272,\n",
       "     'beginSection': 'abstract',\n",
       "     'endSection': 'abstract'},\n",
       "    {'document': 'http://www.ncbi.nlm.nih.gov/pubmed/25712685',\n",
       "     'text': 'In a randomized phase II study, trends toward improved survival were observed with rilotumumab (7.5 or 15 mg/kg) plus epirubicin, cisplatin, and capecitabine (ECX) versus placebo plus ECX in gastric/gastroesophageal junction (GEJ) cancer patients, especially in MET-positive patients.',\n",
       "     'offsetInBeginSection': 104,\n",
       "     'offsetInEndSection': 388,\n",
       "     'beginSection': 'abstract',\n",
       "     'endSection': 'abstract'},\n",
       "    {'document': 'http://www.ncbi.nlm.nih.gov/pubmed/23454250',\n",
       "     'text': 'Rilotumumab is currently being tested in patients with MET-positive, advanced gastric and gastroesophageal cancer.',\n",
       "     'offsetInBeginSection': 1646,\n",
       "     'offsetInEndSection': 1760,\n",
       "     'beginSection': 'abstract',\n",
       "     'endSection': 'abstract'},\n",
       "    {'document': 'http://www.ncbi.nlm.nih.gov/pubmed/28958504',\n",
       "     'text': 'BACKGROUND Rilotumumab is a fully human monoclonal antibody that selectively targets the ligand of the MET receptor, hepatocyte growth factor (HGF).',\n",
       "     'offsetInBeginSection': 0,\n",
       "     'offsetInEndSection': 148,\n",
       "     'beginSection': 'abstract',\n",
       "     'endSection': 'abstract'},\n",
       "    {'document': 'http://www.ncbi.nlm.nih.gov/pubmed/28958504',\n",
       "     'text': 'FINDINGS Between Nov 7, 2012, and Nov 21, 2014, 609 patients were randomly assigned to rilotumumab plus epirubicin, cisplatin, and capecitabine (rilotumumab group; n=304) or placebo plus epirubicin, cisplatin, and capecitabine (placebo group; n=305).',\n",
       "     'offsetInBeginSection': 1780,\n",
       "     'offsetInEndSection': 2030,\n",
       "     'beginSection': 'abstract',\n",
       "     'endSection': 'abstract'}]},\n",
       "  {'id': '593fe5c270f9fc6f0f000021',\n",
       "   'body': 'How many PML isoforms exist in the human genome?',\n",
       "   'documents': ['http://www.ncbi.nlm.nih.gov/pubmed/33598438',\n",
       "    'http://www.ncbi.nlm.nih.gov/pubmed/15107834',\n",
       "    'http://www.ncbi.nlm.nih.gov/pubmed/9558392',\n",
       "    'http://www.ncbi.nlm.nih.gov/pubmed/20664248',\n",
       "    'http://www.ncbi.nlm.nih.gov/pubmed/36098015',\n",
       "    'http://www.ncbi.nlm.nih.gov/pubmed/34888375',\n",
       "    'http://www.ncbi.nlm.nih.gov/pubmed/21092142',\n",
       "    'http://www.ncbi.nlm.nih.gov/pubmed/7920649',\n",
       "    'http://www.ncbi.nlm.nih.gov/pubmed/35325646',\n",
       "    'http://www.ncbi.nlm.nih.gov/pubmed/11861893'],\n",
       "   'snippets': [{'document': 'http://www.ncbi.nlm.nih.gov/pubmed/18509536',\n",
       "     'text': 'Although multiple PML splice variants exist, we demonstrate that the ratio of a subset of cytoplasmic PML isoforms lacking exons 5 & 6 is enriched in cells exposed to herpes simplex virus-1 (HSV-1).',\n",
       "     'offsetInBeginSection': 552,\n",
       "     'offsetInEndSection': 750,\n",
       "     'beginSection': 'abstract',\n",
       "     'endSection': 'abstract'},\n",
       "    {'document': 'http://www.ncbi.nlm.nih.gov/pubmed/21092142',\n",
       "     'text': 'RESULTS Expression of NLS mutated PML isoforms in U2OS cells revealed that PML I targets early endosomes, PML II targets the inner nuclear membrane (partially due to an extra NLS at its C-terminus), and PML III, IV and V target late endosomes/lysosomes.',\n",
       "     'offsetInBeginSection': 826,\n",
       "     'offsetInEndSection': 1079,\n",
       "     'beginSection': 'abstract',\n",
       "     'endSection': 'abstract'},\n",
       "    {'document': 'http://www.ncbi.nlm.nih.gov/pubmed/23135708',\n",
       "     'text': 'Coimmunoprecipitation assays showed that E1A-13S preferentially interacts with only one (PML-II) of at least six nuclear human PML isoforms.',\n",
       "     'offsetInBeginSection': 1029,\n",
       "     'offsetInEndSection': 1169,\n",
       "     'beginSection': 'abstract',\n",
       "     'endSection': 'abstract'},\n",
       "    {'document': 'http://www.ncbi.nlm.nih.gov/pubmed/27860076',\n",
       "     'text': 'Human papillomaviruses (HPVs) target promyelocytic leukemia (PML) nuclear bodies (NBs) during infectious entry and PML protein is important for efficient transcription of incoming viral genome.',\n",
       "     'offsetInBeginSection': 0,\n",
       "     'offsetInEndSection': 193,\n",
       "     'beginSection': 'abstract',\n",
       "     'endSection': 'abstract'},\n",
       "    {'document': 'http://www.ncbi.nlm.nih.gov/pubmed/7535592',\n",
       "     'text': 'The epitope recognized by PG-M3 is species-specific and fixative-resistant and is shared by most PML isoforms and PML/RAR alpha fusion proteins.',\n",
       "     'offsetInBeginSection': 309,\n",
       "     'offsetInEndSection': 453,\n",
       "     'beginSection': 'abstract',\n",
       "     'endSection': 'abstract'},\n",
       "    {'document': 'http://www.ncbi.nlm.nih.gov/pubmed/16778193',\n",
       "     'text': 'Unexpectedly, we found that PML-III, PML-IV, and PML-V are quantitatively minor isoforms compared with PML-I/II and could not confirm the centrosomal targeting of PML-III.',\n",
       "     'offsetInBeginSection': 584,\n",
       "     'offsetInEndSection': 755,\n",
       "     'beginSection': 'abstract',\n",
       "     'endSection': 'abstract'},\n",
       "    {'document': 'http://www.ncbi.nlm.nih.gov/pubmed/24036361',\n",
       "     'text': 'In addition, eIF3K isoform 2 (eIF3K-2) colocalizes to PML bodies, particularly those enriched in PML-I, while eIF3K isoform 1 associates poorly with PML NBs.',\n",
       "     'offsetInBeginSection': 1034,\n",
       "     'offsetInEndSection': 1191,\n",
       "     'beginSection': 'abstract',\n",
       "     'endSection': 'abstract'},\n",
       "    {'document': 'http://www.ncbi.nlm.nih.gov/pubmed/20205709',\n",
       "     'text': 'All isoforms exhibit individual exchange rates at NBs in PML positive cells but PML I, II, III and IV are static at nuclear bodies in PML negative cells, suggesting that these isoforms require additional protein partners for efficient exchange.',\n",
       "     'offsetInBeginSection': 825,\n",
       "     'offsetInEndSection': 1069,\n",
       "     'beginSection': 'abstract',\n",
       "     'endSection': 'abstract'},\n",
       "    {'document': 'http://www.ncbi.nlm.nih.gov/pubmed/24036361',\n",
       "     'text': 'Recruitment of specific cellular proteins to PML NBs is mediated by protein-protein interactions with individual PML isoforms.',\n",
       "     'offsetInBeginSection': 472,\n",
       "     'offsetInEndSection': 598,\n",
       "     'beginSection': 'abstract',\n",
       "     'endSection': 'abstract'},\n",
       "    {'document': 'http://www.ncbi.nlm.nih.gov/pubmed/15107834',\n",
       "     'text': 'These results show separable functions for different PML isoforms that are specifically targeted by the HPV E6 oncoproteins.',\n",
       "     'offsetInBeginSection': 1168,\n",
       "     'offsetInEndSection': 1292,\n",
       "     'beginSection': 'abstract',\n",
       "     'endSection': 'abstract'}]},\n",
       "  {'id': '5a80d965faa1ab7d2e000025',\n",
       "   'body': 'What is metaSPAdes?',\n",
       "   'documents': ['http://www.ncbi.nlm.nih.gov/pubmed/28298430',\n",
       "    'http://www.ncbi.nlm.nih.gov/pubmed/34742232',\n",
       "    'http://www.ncbi.nlm.nih.gov/pubmed/35633679',\n",
       "    'http://www.ncbi.nlm.nih.gov/pubmed/30860572',\n",
       "    'http://www.ncbi.nlm.nih.gov/pubmed/28407798',\n",
       "    'http://www.ncbi.nlm.nih.gov/pubmed/34730411',\n",
       "    'http://www.ncbi.nlm.nih.gov/pubmed/32243090',\n",
       "    'http://www.ncbi.nlm.nih.gov/pubmed/33822878',\n",
       "    'http://www.ncbi.nlm.nih.gov/pubmed/29953874',\n",
       "    'http://www.ncbi.nlm.nih.gov/pubmed/28693474'],\n",
       "   'snippets': [{'document': 'http://www.ncbi.nlm.nih.gov/pubmed/28407798',\n",
       "     'text': 'RESULTS We tested five metagenomic assemblers: Omega, metaSPAdes, IDBA-UD, metaVelvet and MEGAHIT on known and synthetic metagenomic data sets.',\n",
       "     'offsetInBeginSection': 1385,\n",
       "     'offsetInEndSection': 1528,\n",
       "     'beginSection': 'abstract',\n",
       "     'endSection': 'abstract'},\n",
       "    {'document': 'http://www.ncbi.nlm.nih.gov/pubmed/29036597',\n",
       "     'text': 'Motivation We present Faucet, a two-pass streaming algorithm for assembly graph construction.',\n",
       "     'offsetInBeginSection': 0,\n",
       "     'offsetInEndSection': 93,\n",
       "     'beginSection': 'abstract',\n",
       "     'endSection': 'abstract'},\n",
       "    {'document': 'http://www.ncbi.nlm.nih.gov/pubmed/29036597',\n",
       "     'text': 'Contact rshamir@tau.ac.il or eranhalperin@gmail.com.',\n",
       "     'offsetInBeginSection': 1639,\n",
       "     'offsetInEndSection': 1691,\n",
       "     'beginSection': 'abstract',\n",
       "     'endSection': 'abstract'},\n",
       "    {'document': 'http://www.ncbi.nlm.nih.gov/pubmed/28298430',\n",
       "     'text': 'metaSPAdes addresses various challenges of metagenomic assembly by capitalizing on computational ideas that proved to be useful in assemblies of single cells and highly polymorphic diploid genomes.',\n",
       "     'offsetInBeginSection': 366,\n",
       "     'offsetInEndSection': 563,\n",
       "     'beginSection': 'abstract',\n",
       "     'endSection': 'abstract'},\n",
       "    {'document': 'http://www.ncbi.nlm.nih.gov/pubmed/29036597',\n",
       "     'text': 'Faucet used orders of magnitude less time and disk space than the specialized metagenome assemblers MetaSPAdes and Megahit, while also improving on their memory use; this broadly matched performance of other assemblers optimizing resource efficiency-namely, Minia and LightAssembler.',\n",
       "     'offsetInBeginSection': 1030,\n",
       "     'offsetInEndSection': 1313,\n",
       "     'beginSection': 'abstract',\n",
       "     'endSection': 'abstract'},\n",
       "    {'document': 'http://www.ncbi.nlm.nih.gov/pubmed/28693474',\n",
       "     'text': 'The analysis of metagenomic sequences facilitates gene prediction and annotation, and enables the assembly of draft genomes, including uncultured members of a community.',\n",
       "     'offsetInBeginSection': 96,\n",
       "     'offsetInEndSection': 265,\n",
       "     'beginSection': 'abstract',\n",
       "     'endSection': 'abstract'},\n",
       "    {'document': 'http://www.ncbi.nlm.nih.gov/pubmed/29036597',\n",
       "     'text': 'Availability and implementation Faucet is available at https://github.com/Shamir-Lab/Faucet.',\n",
       "     'offsetInBeginSection': 1544,\n",
       "     'offsetInEndSection': 1636,\n",
       "     'beginSection': 'abstract',\n",
       "     'endSection': 'abstract'},\n",
       "    {'document': 'http://www.ncbi.nlm.nih.gov/pubmed/28948103',\n",
       "     'text': 'Here we used in silico mock viral communities to evaluate the viromic sequence-to-ecological-inference pipeline, including (i) read pre-processing and metagenome assembly, (ii) thresholds applied to estimate viral relative abundances based on read mapping to assembled contigs, and (iii) normalization methods applied to the matrix of viral relative abundances for alpha and beta diversity estimates.',\n",
       "     'offsetInBeginSection': 326,\n",
       "     'offsetInEndSection': 726,\n",
       "     'beginSection': 'abstract',\n",
       "     'endSection': 'abstract'},\n",
       "    {'document': 'http://www.ncbi.nlm.nih.gov/pubmed/28948103',\n",
       "     'text': 'BACKGROUND Viral metagenomics (viromics) is increasingly used to obtain uncultivated viral genomes, evaluate community diversity, and assess ecological hypotheses.',\n",
       "     'offsetInBeginSection': 0,\n",
       "     'offsetInEndSection': 163,\n",
       "     'beginSection': 'abstract',\n",
       "     'endSection': 'abstract'},\n",
       "    {'document': 'http://www.ncbi.nlm.nih.gov/pubmed/28407798',\n",
       "     'text': 'Due to the diversity of the microbial communities, strategies developed for aligning human genomes cannot be utilized, and genomes of the microbial species in the community must be assembled de novo.',\n",
       "     'offsetInBeginSection': 360,\n",
       "     'offsetInEndSection': 559,\n",
       "     'beginSection': 'abstract',\n",
       "     'endSection': 'abstract'}]},\n",
       "  {'id': '5a7d6287faa1ab7d2e00001c',\n",
       "   'body': 'Which receptor does GDF15 bind?',\n",
       "   'documents': ['http://www.ncbi.nlm.nih.gov/pubmed/33589633',\n",
       "    'http://www.ncbi.nlm.nih.gov/pubmed/29773900',\n",
       "    'http://www.ncbi.nlm.nih.gov/pubmed/34935522',\n",
       "    'http://www.ncbi.nlm.nih.gov/pubmed/21803025',\n",
       "    'http://www.ncbi.nlm.nih.gov/pubmed/30685336',\n",
       "    'http://www.ncbi.nlm.nih.gov/pubmed/32936319',\n",
       "    'http://www.ncbi.nlm.nih.gov/pubmed/28846097',\n",
       "    'http://www.ncbi.nlm.nih.gov/pubmed/36064109',\n",
       "    'http://www.ncbi.nlm.nih.gov/pubmed/35283407',\n",
       "    'http://www.ncbi.nlm.nih.gov/pubmed/33737080'],\n",
       "   'snippets': [{'document': 'http://www.ncbi.nlm.nih.gov/pubmed/28846097',\n",
       "     'text': 'Furthermore, we find that GDF15 binds with high affinity to GDNF family receptor α-like (GFRAL), a distant relative of receptors for a distinct class of the TGF-β superfamily ligands.',\n",
       "     'offsetInBeginSection': 608,\n",
       "     'offsetInEndSection': 793,\n",
       "     'beginSection': 'abstract',\n",
       "     'endSection': 'abstract'},\n",
       "    {'document': 'http://www.ncbi.nlm.nih.gov/pubmed/28846098',\n",
       "     'text': 'Here we report that GDNF-family receptor α-like (GFRAL), an orphan member of the GFR-α family, is a high-affinity receptor for GDF15.',\n",
       "     'offsetInBeginSection': 889,\n",
       "     'offsetInEndSection': 1024,\n",
       "     'beginSection': 'abstract',\n",
       "     'endSection': 'abstract'},\n",
       "    {'document': 'http://www.ncbi.nlm.nih.gov/pubmed/27093475',\n",
       "     'text': 'Lastly, GDF15 protein bound to the activin receptor-like kinase 1 receptor and promoted airway epithelial senescence via activation of the Smad1 pathway.',\n",
       "     'offsetInBeginSection': 1496,\n",
       "     'offsetInEndSection': 1649,\n",
       "     'beginSection': 'abstract',\n",
       "     'endSection': 'abstract'},\n",
       "    {'document': 'http://www.ncbi.nlm.nih.gov/pubmed/21803025',\n",
       "     'text': 'Further, TGF beta receptor inhibition or Src inhibition blocked GDF15-mediated trastuzumab resistance.',\n",
       "     'offsetInBeginSection': 1457,\n",
       "     'offsetInEndSection': 1559,\n",
       "     'beginSection': 'abstract',\n",
       "     'endSection': 'abstract'},\n",
       "    {'document': 'http://www.ncbi.nlm.nih.gov/pubmed/21803025',\n",
       "     'text': 'Pharmacologic inhibition of TGF beta receptor blocked GDF15-mediated phosphorylation of Src.',\n",
       "     'offsetInBeginSection': 1364,\n",
       "     'offsetInEndSection': 1456,\n",
       "     'beginSection': 'abstract',\n",
       "     'endSection': 'abstract'},\n",
       "    {'document': 'http://www.ncbi.nlm.nih.gov/pubmed/21803025',\n",
       "     'text': 'These results support GDF15-mediated activation of TGF beta receptor-Src-HER2 signaling crosstalk as a novel mechanism of trastuzumab resistance.',\n",
       "     'offsetInBeginSection': 1684,\n",
       "     'offsetInEndSection': 1829,\n",
       "     'beginSection': 'abstract',\n",
       "     'endSection': 'abstract'},\n",
       "    {'document': 'http://www.ncbi.nlm.nih.gov/pubmed/28953886',\n",
       "     'text': 'Here we identify glial cell-derived neurotrophic factor (GDNF) receptor alpha-like (GFRAL) as a brainstem-restricted receptor for growth and differentiation factor 15 (GDF15).',\n",
       "     'offsetInBeginSection': 643,\n",
       "     'offsetInEndSection': 818,\n",
       "     'beginSection': 'abstract',\n",
       "     'endSection': 'abstract'},\n",
       "    {'document': 'http://www.ncbi.nlm.nih.gov/pubmed/24597762',\n",
       "     'text': 'Pharmacological inhibition of the Src-mediated phosphorylation of TGFβR2 (TGFβ receptor 2), not TGFβR1, abrogated the effect of GDF15 on IK amplification and Kv2.1 induction.',\n",
       "     'offsetInBeginSection': 950,\n",
       "     'offsetInEndSection': 1127,\n",
       "     'beginSection': 'abstract',\n",
       "     'endSection': 'abstract'},\n",
       "    {'document': 'http://www.ncbi.nlm.nih.gov/pubmed/28846097',\n",
       "     'text': 'Growth differentiation factor 15 (GDF15), a distant member of the transforming growth factor (TGF)-β family, is a secreted protein that circulates as a 25-kDa dimer.',\n",
       "     'offsetInBeginSection': 0,\n",
       "     'offsetInEndSection': 166,\n",
       "     'beginSection': 'abstract',\n",
       "     'endSection': 'abstract'},\n",
       "    {'document': 'http://www.ncbi.nlm.nih.gov/pubmed/24597762',\n",
       "     'text': 'The results of the present study reveal a novel regulation of Kv2.1 by GDF15 mediated through the TGFβRII-activated Akt/mTOR pathway, which is a previously uncharacterized Smad-independent mechanism of GDF15 signalling.',\n",
       "     'offsetInBeginSection': 1243,\n",
       "     'offsetInEndSection': 1463,\n",
       "     'beginSection': 'abstract',\n",
       "     'endSection': 'abstract'}]},\n",
       "  {'id': '5a76196faacfb9cd4c000001',\n",
       "   'body': 'List the two most important hematological features of the Evans syndrome',\n",
       "   'documents': ['http://www.ncbi.nlm.nih.gov/pubmed/32029698',\n",
       "    'http://www.ncbi.nlm.nih.gov/pubmed/22796025',\n",
       "    'http://www.ncbi.nlm.nih.gov/pubmed/12554529',\n",
       "    'http://www.ncbi.nlm.nih.gov/pubmed/23593767',\n",
       "    'http://www.ncbi.nlm.nih.gov/pubmed/31292991',\n",
       "    'http://www.ncbi.nlm.nih.gov/pubmed/2095900',\n",
       "    'http://www.ncbi.nlm.nih.gov/pubmed/30726488',\n",
       "    'http://www.ncbi.nlm.nih.gov/pubmed/28055149',\n",
       "    'http://www.ncbi.nlm.nih.gov/pubmed/29382497',\n",
       "    'http://www.ncbi.nlm.nih.gov/pubmed/10715388'],\n",
       "   'snippets': [{'document': 'http://www.ncbi.nlm.nih.gov/pubmed/15495242',\n",
       "     'text': \"Rituximab appears safe and modestly effective in a variety of immune-mediated hematologic diseases, including autoimmune hemolytic anemia, chronic immune thrombocytopenia, Evans syndrome, pure red cell aplasia, mixed type II cryoglobulinemia, cold agglutinin disease, and Waldenstrom's macroglobulinemia.\",\n",
       "     'offsetInBeginSection': 548,\n",
       "     'offsetInEndSection': 852,\n",
       "     'beginSection': 'abstract',\n",
       "     'endSection': 'abstract'},\n",
       "    {'document': 'http://www.ncbi.nlm.nih.gov/pubmed/12554529',\n",
       "     'text': 'Evans syndrome refers to a hematological autoimmune disorder with autoimmune hemolytic anemia accompanied by immune thrombocytopenia.',\n",
       "     'offsetInBeginSection': 289,\n",
       "     'offsetInEndSection': 422,\n",
       "     'beginSection': 'abstract',\n",
       "     'endSection': 'abstract'},\n",
       "    {'document': 'http://www.ncbi.nlm.nih.gov/pubmed/2095900',\n",
       "     'text': 'Peripheral blood finding were: anemia in 83.3%, with two cases of hemolytic anemia and positive direct Coombs test, one of them associated with thrombocytopenia (Evans syndrome); leukopenia in 21%, basically due to neutropenia; thrombocytopenia in 33.3%, in one case associated with positive antiplatelet antibodies and with pure megakaryocytic aplasia in others; pancytopenia in 13.5% of cases (8 patients) associated to bone marrow cytophagocytosis in 5 cases (64.5%) and thus suggesting that this might be the major underlying pathogenetic mechanism.',\n",
       "     'offsetInBeginSection': 1213,\n",
       "     'offsetInEndSection': 1766,\n",
       "     'beginSection': 'abstract',\n",
       "     'endSection': 'abstract'},\n",
       "    {'document': 'http://www.ncbi.nlm.nih.gov/pubmed/28055149',\n",
       "     'text': 'We present a rare case of newly diagnosed Evans syndrome associated with lung papillary adenocarcinoma in which the patient showed prompt restoration of blood cell count and long-lasting complete remission of Evans syndrome after lung cancer resection.',\n",
       "     'offsetInBeginSection': 0,\n",
       "     'offsetInEndSection': 252,\n",
       "     'beginSection': 'abstract',\n",
       "     'endSection': 'abstract'},\n",
       "    {'document': 'http://www.ncbi.nlm.nih.gov/pubmed/12554529',\n",
       "     'text': 'Microdeletions of 22q11.2 are the main etiology for DiGeorge syndrome, a disorder characterized by heart defects, immune deficiencies due to aplasia or hypoplasia of the thymus, and hypocalcemia.',\n",
       "     'offsetInBeginSection': 93,\n",
       "     'offsetInEndSection': 288,\n",
       "     'beginSection': 'abstract',\n",
       "     'endSection': 'abstract'},\n",
       "    {'document': 'http://www.ncbi.nlm.nih.gov/pubmed/12554529',\n",
       "     'text': 'One patient with a chromosome 22q11.2 deletion and Evans syndrome is reported in this paper.',\n",
       "     'offsetInBeginSection': 0,\n",
       "     'offsetInEndSection': 92,\n",
       "     'beginSection': 'abstract',\n",
       "     'endSection': 'abstract'},\n",
       "    {'document': 'http://www.ncbi.nlm.nih.gov/pubmed/17179698',\n",
       "     'text': 'Mixed type Evans syndrome is a very rare hematologic disease.',\n",
       "     'offsetInBeginSection': 0,\n",
       "     'offsetInEndSection': 61,\n",
       "     'beginSection': 'abstract',\n",
       "     'endSection': 'abstract'},\n",
       "    {'document': 'http://www.ncbi.nlm.nih.gov/pubmed/21088621',\n",
       "     'text': \"Evans syndrome is a very rare hematologic autoimmune disease, characterized by a direct Coombs' positive hemolytic anemia and immune thrombocytopenic purpura without a known underlying etiology.\",\n",
       "     'offsetInBeginSection': 0,\n",
       "     'offsetInEndSection': 194,\n",
       "     'beginSection': 'abstract',\n",
       "     'endSection': 'abstract'},\n",
       "    {'document': 'http://www.ncbi.nlm.nih.gov/pubmed/12554529',\n",
       "     'text': 'The patient reported herein strengthens the association between the 22q11.2 deletion spectrum and Evans syndrome.',\n",
       "     'offsetInBeginSection': 619,\n",
       "     'offsetInEndSection': 732,\n",
       "     'beginSection': 'abstract',\n",
       "     'endSection': 'abstract'},\n",
       "    {'document': 'http://www.ncbi.nlm.nih.gov/pubmed/17179698',\n",
       "     'text': 'She was diagnosed as having the mixed type Evans syndrome with the clinical features of symptomatic anemia, jaundice and thrombocytopenia.',\n",
       "     'offsetInBeginSection': 349,\n",
       "     'offsetInEndSection': 487,\n",
       "     'beginSection': 'abstract',\n",
       "     'endSection': 'abstract'}]},\n",
       "  {'id': '593fe7f970f9fc6f0f000022',\n",
       "   'body': 'How many of the human PML isoforms are cytosolic?',\n",
       "   'documents': ['http://www.ncbi.nlm.nih.gov/pubmed/15107834',\n",
       "    'http://www.ncbi.nlm.nih.gov/pubmed/33598438',\n",
       "    'http://www.ncbi.nlm.nih.gov/pubmed/34888375',\n",
       "    'http://www.ncbi.nlm.nih.gov/pubmed/35699431',\n",
       "    'http://www.ncbi.nlm.nih.gov/pubmed/23135708',\n",
       "    'http://www.ncbi.nlm.nih.gov/pubmed/32154186',\n",
       "    'http://www.ncbi.nlm.nih.gov/pubmed/20205709',\n",
       "    'http://www.ncbi.nlm.nih.gov/pubmed/7535592',\n",
       "    'http://www.ncbi.nlm.nih.gov/pubmed/16778193',\n",
       "    'http://www.ncbi.nlm.nih.gov/pubmed/9558392'],\n",
       "   'snippets': [{'document': 'http://www.ncbi.nlm.nih.gov/pubmed/23734343',\n",
       "     'text': 'Several PML isoforms are generated from a single PML gene by alternative splicing.',\n",
       "     'offsetInBeginSection': 334,\n",
       "     'offsetInEndSection': 416,\n",
       "     'beginSection': 'abstract',\n",
       "     'endSection': 'abstract'},\n",
       "    {'document': 'http://www.ncbi.nlm.nih.gov/pubmed/23135708',\n",
       "     'text': 'Coimmunoprecipitation assays showed that E1A-13S preferentially interacts with only one (PML-II) of at least six nuclear human PML isoforms.',\n",
       "     'offsetInBeginSection': 1029,\n",
       "     'offsetInEndSection': 1169,\n",
       "     'beginSection': 'abstract',\n",
       "     'endSection': 'abstract'},\n",
       "    {'document': 'http://www.ncbi.nlm.nih.gov/pubmed/21115099',\n",
       "     'text': 'PML is expressed as a family of cytoplasmic and nuclear isoforms (PML I-VII) as a result of alternative splicing.',\n",
       "     'offsetInBeginSection': 540,\n",
       "     'offsetInEndSection': 653,\n",
       "     'beginSection': 'abstract',\n",
       "     'endSection': 'abstract'},\n",
       "    {'document': 'http://www.ncbi.nlm.nih.gov/pubmed/24036361',\n",
       "     'text': 'Recruitment of specific cellular proteins to PML NBs is mediated by protein-protein interactions with individual PML isoforms.',\n",
       "     'offsetInBeginSection': 472,\n",
       "     'offsetInEndSection': 598,\n",
       "     'beginSection': 'abstract',\n",
       "     'endSection': 'abstract'},\n",
       "    {'document': 'http://www.ncbi.nlm.nih.gov/pubmed/16778193',\n",
       "     'text': 'Unexpectedly, we found that PML-III, PML-IV, and PML-V are quantitatively minor isoforms compared with PML-I/II and could not confirm the centrosomal targeting of PML-III.',\n",
       "     'offsetInBeginSection': 584,\n",
       "     'offsetInEndSection': 755,\n",
       "     'beginSection': 'abstract',\n",
       "     'endSection': 'abstract'},\n",
       "    {'document': 'http://www.ncbi.nlm.nih.gov/pubmed/24036361',\n",
       "     'text': 'In addition, eIF3K isoform 2 (eIF3K-2) colocalizes to PML bodies, particularly those enriched in PML-I, while eIF3K isoform 1 associates poorly with PML NBs.',\n",
       "     'offsetInBeginSection': 1034,\n",
       "     'offsetInEndSection': 1191,\n",
       "     'beginSection': 'abstract',\n",
       "     'endSection': 'abstract'},\n",
       "    {'document': 'http://www.ncbi.nlm.nih.gov/pubmed/19279115',\n",
       "     'text': 'Loss of either all PML isoforms or all Sp100 isoforms reduces the opposite constituent ND10 protein, suggesting that various interdependent mechanisms of ND10-based proteins inhibit virus infection at the immediate-early level.',\n",
       "     'offsetInBeginSection': 1454,\n",
       "     'offsetInEndSection': 1681,\n",
       "     'beginSection': 'abstract',\n",
       "     'endSection': 'abstract'},\n",
       "    {'document': 'http://www.ncbi.nlm.nih.gov/pubmed/7535592',\n",
       "     'text': 'The epitope recognized by PG-M3 is species-specific and fixative-resistant and is shared by most PML isoforms and PML/RAR alpha fusion proteins.',\n",
       "     'offsetInBeginSection': 309,\n",
       "     'offsetInEndSection': 453,\n",
       "     'beginSection': 'abstract',\n",
       "     'endSection': 'abstract'},\n",
       "    {'document': 'http://www.ncbi.nlm.nih.gov/pubmed/15107834',\n",
       "     'text': 'These results show separable functions for different PML isoforms that are specifically targeted by the HPV E6 oncoproteins.',\n",
       "     'offsetInBeginSection': 1168,\n",
       "     'offsetInEndSection': 1292,\n",
       "     'beginSection': 'abstract',\n",
       "     'endSection': 'abstract'},\n",
       "    {'document': 'http://www.ncbi.nlm.nih.gov/pubmed/23135708',\n",
       "     'text': 'Here, we report that PML NBs are targeted by the adenoviral (Ad) transactivator protein E1A-13S.',\n",
       "     'offsetInBeginSection': 734,\n",
       "     'offsetInEndSection': 830,\n",
       "     'beginSection': 'abstract',\n",
       "     'endSection': 'abstract'}]},\n",
       "  {'id': '593ff22b70f9fc6f0f000023',\n",
       "   'body': 'How many Groucho-related genes (GRG) are contained in the mouse genome?',\n",
       "   'documents': ['http://www.ncbi.nlm.nih.gov/pubmed/8369224',\n",
       "    'http://www.ncbi.nlm.nih.gov/pubmed/11266540',\n",
       "    'http://www.ncbi.nlm.nih.gov/pubmed/8892234',\n",
       "    'http://www.ncbi.nlm.nih.gov/pubmed/33658226',\n",
       "    'http://www.ncbi.nlm.nih.gov/pubmed/8989517',\n",
       "    'http://www.ncbi.nlm.nih.gov/pubmed/8955148',\n",
       "    'http://www.ncbi.nlm.nih.gov/pubmed/20925119',\n",
       "    'http://www.ncbi.nlm.nih.gov/pubmed/7916324',\n",
       "    'http://www.ncbi.nlm.nih.gov/pubmed/10512199',\n",
       "    'http://www.ncbi.nlm.nih.gov/pubmed/8867791'],\n",
       "   'snippets': [{'document': 'http://www.ncbi.nlm.nih.gov/pubmed/8989517',\n",
       "     'text': 'We have isolated cDNAs representing multiple members of murine groucho homologues, designated Grg for groucho-related genes.',\n",
       "     'offsetInBeginSection': 0,\n",
       "     'offsetInEndSection': 124,\n",
       "     'beginSection': 'abstract',\n",
       "     'endSection': 'abstract'},\n",
       "    {'document': 'http://www.ncbi.nlm.nih.gov/pubmed/10512199',\n",
       "     'text': 'Mammalian Hairy/Enhancer-of-split-like (Hes) proteins interact with transcriptional corepressors encoded by the Groucho-related genes (Grg in mice).',\n",
       "     'offsetInBeginSection': 0,\n",
       "     'offsetInEndSection': 148,\n",
       "     'beginSection': 'abstract',\n",
       "     'endSection': 'abstract'},\n",
       "    {'document': 'http://www.ncbi.nlm.nih.gov/pubmed/8892234',\n",
       "     'text': 'The groucho-related genes (Grg) of the mouse comprise at least four family members.',\n",
       "     'offsetInBeginSection': 0,\n",
       "     'offsetInEndSection': 83,\n",
       "     'beginSection': 'abstract',\n",
       "     'endSection': 'abstract'},\n",
       "    {'document': 'http://www.ncbi.nlm.nih.gov/pubmed/8573724',\n",
       "     'text': 'The Grg gene encodes a 197 amino acid protein homologous to the amino-terminal domain of the product of the groucho gene of the Drosophila Enhancer of split complex.',\n",
       "     'offsetInBeginSection': 0,\n",
       "     'offsetInEndSection': 165,\n",
       "     'beginSection': 'abstract',\n",
       "     'endSection': 'abstract'},\n",
       "    {'document': 'http://www.ncbi.nlm.nih.gov/pubmed/7916324',\n",
       "     'text': 'The Grg gene encodes a 197-amino-acid protein homologous to the amino-terminal domain of the product of the groucho gene of the Drosophila Enhancer of split complex.',\n",
       "     'offsetInBeginSection': 0,\n",
       "     'offsetInEndSection': 165,\n",
       "     'beginSection': 'abstract',\n",
       "     'endSection': 'abstract'},\n",
       "    {'document': 'http://www.ncbi.nlm.nih.gov/pubmed/8369224',\n",
       "     'text': 'Here we describe the cloning and RNA expression analysis of a mouse gene, designated Grg, that is homologous to just the amino-terminal region of the groucho product.',\n",
       "     'offsetInBeginSection': 323,\n",
       "     'offsetInEndSection': 489,\n",
       "     'beginSection': 'abstract',\n",
       "     'endSection': 'abstract'},\n",
       "    {'document': 'http://www.ncbi.nlm.nih.gov/pubmed/11266540',\n",
       "     'text': 'As previously shown for Drosophila Groucho, we show that long Grg proteins interact with histone deacetylase-1.',\n",
       "     'offsetInBeginSection': 1183,\n",
       "     'offsetInEndSection': 1294,\n",
       "     'beginSection': 'abstract',\n",
       "     'endSection': 'abstract'},\n",
       "    {'document': 'http://www.ncbi.nlm.nih.gov/pubmed/11266540',\n",
       "     'text': \"The 'long' Groucho family members containing five domains are repressors of Tcf-mediated transactivation, whereas Grg-5, which only contains the first two domains, acts as a de-repressor.\",\n",
       "     'offsetInBeginSection': 995,\n",
       "     'offsetInEndSection': 1182,\n",
       "     'beginSection': 'abstract',\n",
       "     'endSection': 'abstract'},\n",
       "    {'document': 'http://www.ncbi.nlm.nih.gov/pubmed/8369224',\n",
       "     'text': 'One of these genes, the product of the Enhancer of split m9/10 or groucho transcript, encodes a ubiquitous nuclear protein with homology at the carboxy-terminus to G-protein beta-subunits.',\n",
       "     'offsetInBeginSection': 134,\n",
       "     'offsetInEndSection': 322,\n",
       "     'beginSection': 'abstract',\n",
       "     'endSection': 'abstract'},\n",
       "    {'document': 'http://www.ncbi.nlm.nih.gov/pubmed/12666196',\n",
       "     'text': 'The groucho-related gene (Grg) products modulate the transcriptional response to several extracellular signals, including the Wnts.',\n",
       "     'offsetInBeginSection': 0,\n",
       "     'offsetInEndSection': 131,\n",
       "     'beginSection': 'abstract',\n",
       "     'endSection': 'abstract'}]},\n",
       "  {'id': '59bf823b542ba3824b000001',\n",
       "   'body': \"Does a tonsillectomy affect the patient's voice?\",\n",
       "   'documents': ['http://www.ncbi.nlm.nih.gov/pubmed/26846544',\n",
       "    'http://www.ncbi.nlm.nih.gov/pubmed/21074280',\n",
       "    'http://www.ncbi.nlm.nih.gov/pubmed/31742023',\n",
       "    'http://www.ncbi.nlm.nih.gov/pubmed/33143998',\n",
       "    'http://www.ncbi.nlm.nih.gov/pubmed/32703724',\n",
       "    'http://www.ncbi.nlm.nih.gov/pubmed/28081322',\n",
       "    'http://www.ncbi.nlm.nih.gov/pubmed/18468843',\n",
       "    'http://www.ncbi.nlm.nih.gov/pubmed/22477796',\n",
       "    'http://www.ncbi.nlm.nih.gov/pubmed/18069159',\n",
       "    'http://www.ncbi.nlm.nih.gov/pubmed/19841332'],\n",
       "   'snippets': [{'document': 'http://www.ncbi.nlm.nih.gov/pubmed/21074280',\n",
       "     'text': 'CONCLUSIONS The surgical technique, whether it is cold knife or thermal welding system, does not appear to affect voice and speech in tonsillectomy patients.',\n",
       "     'offsetInBeginSection': 1528,\n",
       "     'offsetInEndSection': 1685,\n",
       "     'beginSection': 'abstract',\n",
       "     'endSection': 'abstract'},\n",
       "    {'document': 'http://www.ncbi.nlm.nih.gov/pubmed/26846544',\n",
       "     'text': 'CONCLUSION Tonsillectomy affects voice performance negatively in adults in short term; however, it does not affect voice performance in long term after surgery.',\n",
       "     'offsetInBeginSection': 1110,\n",
       "     'offsetInEndSection': 1270,\n",
       "     'beginSection': 'abstract',\n",
       "     'endSection': 'abstract'},\n",
       "    {'document': 'http://www.ncbi.nlm.nih.gov/pubmed/21074280',\n",
       "     'text': 'First formant for the vowel /a/ in the cold knife tonsillectomy group and for the vowel /i/ in the thermal welding system tonsillectomy group, second formant for the vowel /u/ in the thermal welding system tonsillectomy group and third formant for the vowel /u/ in the cold knife tonsillectomy group were found to be significantly decreased (p<0.05).',\n",
       "     'offsetInBeginSection': 1175,\n",
       "     'offsetInEndSection': 1525,\n",
       "     'beginSection': 'abstract',\n",
       "     'endSection': 'abstract'},\n",
       "    {'document': 'http://www.ncbi.nlm.nih.gov/pubmed/22242470',\n",
       "     'text': 'Some patients complaint for dry throat, foreign body sensation or voice change after tonsillectomy.',\n",
       "     'offsetInBeginSection': 474,\n",
       "     'offsetInEndSection': 573,\n",
       "     'beginSection': 'abstract',\n",
       "     'endSection': 'abstract'},\n",
       "    {'document': 'http://www.ncbi.nlm.nih.gov/pubmed/25704470',\n",
       "     'text': 'CONCLUSIONS From the aerodynamic point of view, tonsillectomy with or without adenoidectomy plays a positive role in the improvement of voice production.',\n",
       "     'offsetInBeginSection': 834,\n",
       "     'offsetInEndSection': 987,\n",
       "     'beginSection': 'abstract',\n",
       "     'endSection': 'abstract'},\n",
       "    {'document': 'http://www.ncbi.nlm.nih.gov/pubmed/12161728',\n",
       "     'text': 'CONCLUSION Upper airway oeprations can affect acoustics and perception of voice.',\n",
       "     'offsetInBeginSection': 1059,\n",
       "     'offsetInEndSection': 1139,\n",
       "     'beginSection': 'abstract',\n",
       "     'endSection': 'abstract'},\n",
       "    {'document': 'http://www.ncbi.nlm.nih.gov/pubmed/19841332',\n",
       "     'text': 'Tonsillectomy eliminates nasalance and lowers shimmer.',\n",
       "     'offsetInBeginSection': 1144,\n",
       "     'offsetInEndSection': 1198,\n",
       "     'beginSection': 'abstract',\n",
       "     'endSection': 'abstract'},\n",
       "    {'document': 'http://www.ncbi.nlm.nih.gov/pubmed/21074280',\n",
       "     'text': 'OBJECTIVE To compare acoustic, aerodynamic and perceptual voice and speech parameters in thermal welding system tonsillectomy and cold knife tonsillectomy patients in order to determine the impact of operation technique on voice and speech.',\n",
       "     'offsetInBeginSection': 0,\n",
       "     'offsetInEndSection': 240,\n",
       "     'beginSection': 'abstract',\n",
       "     'endSection': 'abstract'},\n",
       "    {'document': 'http://www.ncbi.nlm.nih.gov/pubmed/18468843',\n",
       "     'text': 'These data suggest the reduction of the nasal resonance and highlight the role of tonsillectomy in the improvement of voice and speech quality.',\n",
       "     'offsetInBeginSection': 930,\n",
       "     'offsetInEndSection': 1073,\n",
       "     'beginSection': 'abstract',\n",
       "     'endSection': 'abstract'},\n",
       "    {'document': 'http://www.ncbi.nlm.nih.gov/pubmed/20926254',\n",
       "     'text': \"OBJECTIVES AND HYPOTHESIS Anecdotal evidence suggests that tonsillectomy has no deleterious consequences on a person's voice under normal vocal demand.\",\n",
       "     'offsetInBeginSection': 0,\n",
       "     'offsetInEndSection': 151,\n",
       "     'beginSection': 'abstract',\n",
       "     'endSection': 'abstract'}]},\n",
       "  {'id': '59d09a0cbc32f93e6d000001',\n",
       "   'body': 'What is the difference between ganglion mother cells (GMC) and intermediate neural precursor cells (INP) in Drosophila?',\n",
       "   'documents': ['http://www.ncbi.nlm.nih.gov/pubmed/15704126',\n",
       "    'http://www.ncbi.nlm.nih.gov/pubmed/28325554',\n",
       "    'http://www.ncbi.nlm.nih.gov/pubmed/21996673',\n",
       "    'http://www.ncbi.nlm.nih.gov/pubmed/32117986',\n",
       "    'http://www.ncbi.nlm.nih.gov/pubmed/36123528',\n",
       "    'http://www.ncbi.nlm.nih.gov/pubmed/14973280',\n",
       "    'http://www.ncbi.nlm.nih.gov/pubmed/9192868',\n",
       "    'http://www.ncbi.nlm.nih.gov/pubmed/9486649',\n",
       "    'http://www.ncbi.nlm.nih.gov/pubmed/9403694',\n",
       "    'http://www.ncbi.nlm.nih.gov/pubmed/11688564'],\n",
       "   'snippets': [{'document': 'http://www.ncbi.nlm.nih.gov/pubmed/21996673',\n",
       "     'text': 'While the weaker class exhibits weak axon guidance defect and the mis-migration of neurons, the stronger class causes severe axon guidance defects, mis-migration of neurons and symmetric division of ganglion mother cells (GMC) of the RP2/sib lineage.',\n",
       "     'offsetInBeginSection': 522,\n",
       "     'offsetInEndSection': 772,\n",
       "     'beginSection': 'abstract',\n",
       "     'endSection': 'abstract'},\n",
       "    {'document': 'http://www.ncbi.nlm.nih.gov/pubmed/23376107',\n",
       "     'text': 'Type I neuroblasts produce ganglion mother cells (GMCs) that divide once to produce differentiated progeny, while type II neuroblasts produce self-renewing intermediate neural progenitors (INPs) and thus generate lineages containing many more progeny.',\n",
       "     'offsetInBeginSection': 168,\n",
       "     'offsetInEndSection': 419,\n",
       "     'beginSection': 'abstract',\n",
       "     'endSection': 'abstract'},\n",
       "    {'document': 'http://www.ncbi.nlm.nih.gov/pubmed/29158446',\n",
       "     'text': 'Most brain neuroblasts generate a series of ganglion mother cells (GMCs) that each make two neurons (type I lineage), but sixteen brain neuroblasts generate a series of intermediate neural progenitors (INPs) that each produce 4-6 GMCs and 8-12 neurons (type II lineage).',\n",
       "     'offsetInBeginSection': 101,\n",
       "     'offsetInEndSection': 371,\n",
       "     'beginSection': 'abstract',\n",
       "     'endSection': 'abstract'},\n",
       "    {'document': 'http://www.ncbi.nlm.nih.gov/pubmed/8095484',\n",
       "     'text': 'Our results suggest that the presence of ectopically induced dPOU28/pdm-2 protein in the progeny of GMC-1 is sufficient to cause both of these cells to adopt their parental GMC-1 cell fate, leading to duplication of the RP2 neuron (and its sister cell) on the basis of both immunological and morphological criteria.',\n",
       "     'offsetInBeginSection': 702,\n",
       "     'offsetInEndSection': 1017,\n",
       "     'beginSection': 'abstract',\n",
       "     'endSection': 'abstract'},\n",
       "    {'document': 'http://www.ncbi.nlm.nih.gov/pubmed/8095484',\n",
       "     'text': 'Each of the approximately 25 NBs per hemisegment undergoes repeated asymmetric divisions to produce, on average, 5-10 smaller ganglion mother cells (GMCs); each GMC, in turn, divides to produce two neurons.',\n",
       "     'offsetInBeginSection': 141,\n",
       "     'offsetInEndSection': 347,\n",
       "     'beginSection': 'abstract',\n",
       "     'endSection': 'abstract'},\n",
       "    {'document': 'http://www.ncbi.nlm.nih.gov/pubmed/14973280',\n",
       "     'text': 'In the Drosophila CNS, neuroblasts undergo self-renewing asymmetric divisions, whereas their progeny, ganglion mother cells (GMCs), divide asymmetrically to generate terminal postmitotic neurons.',\n",
       "     'offsetInBeginSection': 0,\n",
       "     'offsetInEndSection': 195,\n",
       "     'beginSection': 'abstract',\n",
       "     'endSection': 'abstract'},\n",
       "    {'document': 'http://www.ncbi.nlm.nih.gov/pubmed/14973280',\n",
       "     'text': 'Our results reveal that regulation of Cyclin E levels, and asymmetric distribution of Cyclin E and other determinants, confer self-renewing asymmetric division potential to precursor cells, and thus define a pathway that regulates such divisions.',\n",
       "     'offsetInBeginSection': 938,\n",
       "     'offsetInEndSection': 1184,\n",
       "     'beginSection': 'abstract',\n",
       "     'endSection': 'abstract'},\n",
       "    {'document': 'http://www.ncbi.nlm.nih.gov/pubmed/25285448',\n",
       "     'text': 'Intermediate neural progenitor cells (INPs) need to avoid differentiation and cell cycle exit while maintaining restricted developmental potential, but mechanisms preventing differentiation and cell cycle exit of INPs are not well understood.',\n",
       "     'offsetInBeginSection': 0,\n",
       "     'offsetInEndSection': 242,\n",
       "     'beginSection': 'abstract',\n",
       "     'endSection': 'abstract'},\n",
       "    {'document': 'http://www.ncbi.nlm.nih.gov/pubmed/25285448',\n",
       "     'text': 'We show that the loss of Btd leads to elimination of mature INPs due to premature differentiation of INPs into terminally dividing ganglion mother cells.',\n",
       "     'offsetInBeginSection': 469,\n",
       "     'offsetInEndSection': 622,\n",
       "     'beginSection': 'abstract',\n",
       "     'endSection': 'abstract'},\n",
       "    {'document': 'http://www.ncbi.nlm.nih.gov/pubmed/15704126',\n",
       "     'text': 'NBs divide asymmetrically to regenerate themselves and produce a secondary precursor cell called a ganglion mother cell (GMC), which divides to produce neurons and glia.',\n",
       "     'offsetInBeginSection': 362,\n",
       "     'offsetInEndSection': 531,\n",
       "     'beginSection': 'abstract',\n",
       "     'endSection': 'abstract'}]},\n",
       "  {'id': '5a003e0a966455904c000001',\n",
       "   'body': 'What is the function of the TFIIS transcriptional factor (Dst1) in yeast?',\n",
       "   'documents': ['http://www.ncbi.nlm.nih.gov/pubmed/17535246',\n",
       "    'http://www.ncbi.nlm.nih.gov/pubmed/18823333',\n",
       "    'http://www.ncbi.nlm.nih.gov/pubmed/16492753',\n",
       "    'http://www.ncbi.nlm.nih.gov/pubmed/15082542',\n",
       "    'http://www.ncbi.nlm.nih.gov/pubmed/28521214',\n",
       "    'http://www.ncbi.nlm.nih.gov/pubmed/18628399',\n",
       "    'http://www.ncbi.nlm.nih.gov/pubmed/10811649',\n",
       "    'http://www.ncbi.nlm.nih.gov/pubmed/22544605',\n",
       "    'http://www.ncbi.nlm.nih.gov/pubmed/15359273',\n",
       "    'http://www.ncbi.nlm.nih.gov/pubmed/21761155'],\n",
       "   'snippets': [{'document': 'http://www.ncbi.nlm.nih.gov/pubmed/15359273',\n",
       "     'text': 'TFIIS, an elongation factor encoded by DST1 in Saccharomyces cerevisiae, stimulates transcript cleavage in arrested RNA polymerase II.',\n",
       "     'offsetInBeginSection': 0,\n",
       "     'offsetInEndSection': 134,\n",
       "     'beginSection': 'abstract',\n",
       "     'endSection': 'abstract'},\n",
       "    {'document': 'http://www.ncbi.nlm.nih.gov/pubmed/28521214',\n",
       "     'text': 'We additionally show that Dst1, a homolog of mammalian transcription elongation factor TFIIS, interferes with NER-dependent repair of AP lesions while suppressing homologous recombination pathway.',\n",
       "     'offsetInBeginSection': 906,\n",
       "     'offsetInEndSection': 1102,\n",
       "     'beginSection': 'abstract',\n",
       "     'endSection': 'abstract'},\n",
       "    {'document': 'http://www.ncbi.nlm.nih.gov/pubmed/18628399',\n",
       "     'text': 'TFIIS is a transcription elongation factor that stimulates transcript cleavage activity of arrested RNA polymerase II (Pol II).',\n",
       "     'offsetInBeginSection': 0,\n",
       "     'offsetInEndSection': 127,\n",
       "     'beginSection': 'abstract',\n",
       "     'endSection': 'abstract'},\n",
       "    {'document': 'http://www.ncbi.nlm.nih.gov/pubmed/17535246',\n",
       "     'text': 'In yeast, S-II is encoded by the DST1 gene.',\n",
       "     'offsetInBeginSection': 385,\n",
       "     'offsetInEndSection': 428,\n",
       "     'beginSection': 'abstract',\n",
       "     'endSection': 'abstract'},\n",
       "    {'document': 'http://www.ncbi.nlm.nih.gov/pubmed/10811649',\n",
       "     'text': 'TFIIS is a transcription elongation factor that consists of three domains.',\n",
       "     'offsetInBeginSection': 0,\n",
       "     'offsetInEndSection': 74,\n",
       "     'beginSection': 'abstract',\n",
       "     'endSection': 'abstract'},\n",
       "    {'document': 'http://www.ncbi.nlm.nih.gov/pubmed/20179968',\n",
       "     'text': \"Our results also indicate that Taf14's YEATS domain is not necessary for complementing the synthetic lethality between TAF14 and the general transcription factor TFIIS (encoded by DST1).\",\n",
       "     'offsetInBeginSection': 1017,\n",
       "     'offsetInEndSection': 1203,\n",
       "     'beginSection': 'abstract',\n",
       "     'endSection': 'abstract'},\n",
       "    {'document': 'http://www.ncbi.nlm.nih.gov/pubmed/17535246',\n",
       "     'text': 'Disruption of the DST1 gene decreased transcriptional fidelity in cells.',\n",
       "     'offsetInBeginSection': 429,\n",
       "     'offsetInEndSection': 501,\n",
       "     'beginSection': 'abstract',\n",
       "     'endSection': 'abstract'},\n",
       "    {'document': 'http://www.ncbi.nlm.nih.gov/pubmed/9712888',\n",
       "     'text': 'The transcriptionally active fragment of the yeast RNA polymerase II transcription elongation factor, TFIIS, comprises a three-helix bundle and a zinc ribbon motif joined by a linker region.',\n",
       "     'offsetInBeginSection': 0,\n",
       "     'offsetInEndSection': 190,\n",
       "     'beginSection': 'abstract',\n",
       "     'endSection': 'abstract'},\n",
       "    {'document': 'http://www.ncbi.nlm.nih.gov/pubmed/16492753',\n",
       "     'text': 'However, deletion of DST1, the gene encoding the yeast homolog of TFIIS, had only a small effect on transcriptional fidelity, as determined by this assay.',\n",
       "     'offsetInBeginSection': 388,\n",
       "     'offsetInEndSection': 542,\n",
       "     'beginSection': 'abstract',\n",
       "     'endSection': 'abstract'},\n",
       "    {'document': 'http://www.ncbi.nlm.nih.gov/pubmed/21761155',\n",
       "     'text': 'A mild but systematic increase in RNA polymerase occupancy and a strict dependency on the transcript cleavage factor TFIIS (Dst1) also suggest a slower rate of translocation or higher probability of transcriptional stalling in this mutation.',\n",
       "     'offsetInBeginSection': 576,\n",
       "     'offsetInEndSection': 817,\n",
       "     'beginSection': 'abstract',\n",
       "     'endSection': 'abstract'}]},\n",
       "  {'id': '5a3566bb966455904c000003',\n",
       "   'body': 'Does TFIIS affect nucleosome positioning?',\n",
       "   'documents': ['http://www.ncbi.nlm.nih.gov/pubmed/29212533',\n",
       "    'http://www.ncbi.nlm.nih.gov/pubmed/12765535',\n",
       "    'http://www.ncbi.nlm.nih.gov/pubmed/21177855',\n",
       "    'http://www.ncbi.nlm.nih.gov/pubmed/22019336',\n",
       "    'http://www.ncbi.nlm.nih.gov/pubmed/35858621',\n",
       "    'http://www.ncbi.nlm.nih.gov/pubmed/19140324',\n",
       "    'http://www.ncbi.nlm.nih.gov/pubmed/8393707',\n",
       "    'http://www.ncbi.nlm.nih.gov/pubmed/33077593',\n",
       "    'http://www.ncbi.nlm.nih.gov/pubmed/21454907',\n",
       "    'http://www.ncbi.nlm.nih.gov/pubmed/3029129'],\n",
       "   'snippets': [{'document': 'http://www.ncbi.nlm.nih.gov/pubmed/19140324',\n",
       "     'text': 'Galactose-induced expression does not affect nucleosome positioning with coding region of NPTII gene.',\n",
       "     'offsetInBeginSection': 1381,\n",
       "     'offsetInEndSection': 1482,\n",
       "     'beginSection': 'abstract',\n",
       "     'endSection': 'abstract'},\n",
       "    {'document': 'http://www.ncbi.nlm.nih.gov/pubmed/24733939',\n",
       "     'text': 'DNA methylation can affect nucleosome positioning and so alter gene expression epigenetically (without changing DNA sequence).',\n",
       "     'offsetInBeginSection': 110,\n",
       "     'offsetInEndSection': 236,\n",
       "     'beginSection': 'abstract',\n",
       "     'endSection': 'abstract'},\n",
       "    {'document': 'http://www.ncbi.nlm.nih.gov/pubmed/15808512',\n",
       "     'text': 'Transcript cleavage factor TFIIS reactivates the backtracked complexes and promotes pol II transcription through the nucleosome.',\n",
       "     'offsetInBeginSection': 813,\n",
       "     'offsetInEndSection': 941,\n",
       "     'beginSection': 'abstract',\n",
       "     'endSection': 'abstract'},\n",
       "    {'document': 'http://www.ncbi.nlm.nih.gov/pubmed/19856965',\n",
       "     'text': 'Interestingly, both H2A.Z and H3.3 affect nucleosome positioning, either creating new positions or altering the relative occupancy of the existing nucleosome position space.',\n",
       "     'offsetInBeginSection': 756,\n",
       "     'offsetInEndSection': 929,\n",
       "     'beginSection': 'abstract',\n",
       "     'endSection': 'abstract'},\n",
       "    {'document': 'http://www.ncbi.nlm.nih.gov/pubmed/23032292',\n",
       "     'text': 'Nucleosome mapping revealed a specific role for Chd1 remodelers in the positioning of nucleosomes in gene coding regions.',\n",
       "     'offsetInBeginSection': 297,\n",
       "     'offsetInEndSection': 418,\n",
       "     'beginSection': 'abstract',\n",
       "     'endSection': 'abstract'},\n",
       "    {'document': 'http://www.ncbi.nlm.nih.gov/pubmed/21177855',\n",
       "     'text': 'We now show that although TFIIF or TFIIS alone is modestly stimulatory for nucleosome traversal, both factors together increase transcription through nucleosomes in a synergistic manner.',\n",
       "     'offsetInBeginSection': 272,\n",
       "     'offsetInEndSection': 458,\n",
       "     'beginSection': 'abstract',\n",
       "     'endSection': 'abstract'},\n",
       "    {'document': 'http://www.ncbi.nlm.nih.gov/pubmed/22019336',\n",
       "     'text': 'Eukaryotic DNA is packaged in nucleosomes.',\n",
       "     'offsetInBeginSection': 0,\n",
       "     'offsetInEndSection': 42,\n",
       "     'beginSection': 'abstract',\n",
       "     'endSection': 'abstract'},\n",
       "    {'document': 'http://www.ncbi.nlm.nih.gov/pubmed/23032292',\n",
       "     'text': 'In this study, we found that deletion of the Schizosaccharomyces pombe Chd1 chromatin remodelers, hrp1 and hrp3, causes strong, genome-wide accumulation of antisense transcripts.',\n",
       "     'offsetInBeginSection': 118,\n",
       "     'offsetInEndSection': 296,\n",
       "     'beginSection': 'abstract',\n",
       "     'endSection': 'abstract'},\n",
       "    {'document': 'http://www.ncbi.nlm.nih.gov/pubmed/21177855',\n",
       "     'text': 'Thus, the nucleosome is not necessarily an insurmountable barrier to transcript elongation by pol II.',\n",
       "     'offsetInBeginSection': 864,\n",
       "     'offsetInEndSection': 965,\n",
       "     'beginSection': 'abstract',\n",
       "     'endSection': 'abstract'},\n",
       "    {'document': 'http://www.ncbi.nlm.nih.gov/pubmed/21177855',\n",
       "     'text': 'We also studied the effect of TFIIF and TFIIS on transcription of nucleosomes containing a Sin mutant histone.',\n",
       "     'offsetInBeginSection': 459,\n",
       "     'offsetInEndSection': 569,\n",
       "     'beginSection': 'abstract',\n",
       "     'endSection': 'abstract'}]},\n",
       "  {'id': '5a37df1c966455904c000004',\n",
       "   'body': 'How does Dst1 knock-out affect transcription in yeast?',\n",
       "   'documents': ['http://www.ncbi.nlm.nih.gov/pubmed/18823333',\n",
       "    'http://www.ncbi.nlm.nih.gov/pubmed/17535246',\n",
       "    'http://www.ncbi.nlm.nih.gov/pubmed/28521214',\n",
       "    'http://www.ncbi.nlm.nih.gov/pubmed/24780862',\n",
       "    'http://www.ncbi.nlm.nih.gov/pubmed/1850099',\n",
       "    'http://www.ncbi.nlm.nih.gov/pubmed/15082542',\n",
       "    'http://www.ncbi.nlm.nih.gov/pubmed/11256609',\n",
       "    'http://www.ncbi.nlm.nih.gov/pubmed/33780447',\n",
       "    'http://www.ncbi.nlm.nih.gov/pubmed/11296232',\n",
       "    'http://www.ncbi.nlm.nih.gov/pubmed/14690608'],\n",
       "   'snippets': [{'document': 'http://www.ncbi.nlm.nih.gov/pubmed/15082542',\n",
       "     'text': 'While TFIIS has a pronounced effect on transcription elongation in vitro, the deletion of DST1 has no major effect on cell viability.',\n",
       "     'offsetInBeginSection': 269,\n",
       "     'offsetInEndSection': 402,\n",
       "     'beginSection': 'abstract',\n",
       "     'endSection': 'abstract'},\n",
       "    {'document': 'http://www.ncbi.nlm.nih.gov/pubmed/15082542',\n",
       "     'text': 'We showed that: (1) dst1 and rpb9 mutants have a synthetic growth defective phenotype when combined with fyv4, gim5, htz1, yal011w, ybr231c, soh1, vps71, and vps72 mutants that is exacerbated during germination or at high salt concentrations; (2) TFIIS and Rpb9 are essential when the cells are challenged with microtubule-destabilizing drugs; (3) among the SDO (synthetic with Dst one), SOH1 shows the strongest genetic interaction with DST1; (4) the presence of multiple copies of TAF14, SUA7, GAL11, RTS1, and TYS1 alleviate the growth phenotype of dst1 soh1 mutants; and (5) SRB5 and SIN4 genetically interact with DST1.',\n",
       "     'offsetInBeginSection': 499,\n",
       "     'offsetInEndSection': 1123,\n",
       "     'beginSection': 'abstract',\n",
       "     'endSection': 'abstract'},\n",
       "    {'document': 'http://www.ncbi.nlm.nih.gov/pubmed/17535246',\n",
       "     'text': 'Also, a DST1 and RPB9 double mutant had more severe transcriptional fidelity defect compared with the DST1 gene deletion mutant, suggesting that Rpb9 maintains transcriptional fidelity via two mechanisms, enhancement of S-II dependent cleavage stimulation and S-II independent function(s).',\n",
       "     'offsetInBeginSection': 997,\n",
       "     'offsetInEndSection': 1286,\n",
       "     'beginSection': 'abstract',\n",
       "     'endSection': 'abstract'},\n",
       "    {'document': 'http://www.ncbi.nlm.nih.gov/pubmed/28521214',\n",
       "     'text': 'We additionally show that Dst1, a homolog of mammalian transcription elongation factor TFIIS, interferes with NER-dependent repair of AP lesions while suppressing homologous recombination pathway.',\n",
       "     'offsetInBeginSection': 906,\n",
       "     'offsetInEndSection': 1102,\n",
       "     'beginSection': 'abstract',\n",
       "     'endSection': 'abstract'},\n",
       "    {'document': 'http://www.ncbi.nlm.nih.gov/pubmed/28521214',\n",
       "     'text': 'Overall, Def1 and Dst1 mediate very different outcomes in response to AP-induced transcription arrest.',\n",
       "     'offsetInBeginSection': 1103,\n",
       "     'offsetInEndSection': 1205,\n",
       "     'beginSection': 'abstract',\n",
       "     'endSection': 'abstract'},\n",
       "    {'document': 'http://www.ncbi.nlm.nih.gov/pubmed/24780862',\n",
       "     'text': 'Yet we find strong genetic interaction of rpb4∆ with mutants in many transcription elongation factors such as Paf1, Spt4, Dst1, Elp3 and Rpb9.',\n",
       "     'offsetInBeginSection': 510,\n",
       "     'offsetInEndSection': 654,\n",
       "     'beginSection': 'abstract',\n",
       "     'endSection': 'abstract'},\n",
       "    {'document': 'http://www.ncbi.nlm.nih.gov/pubmed/19197357',\n",
       "     'text': 'Our data provide evidence that subunits of the SAGA and Ccr4-Not complexes, Mediator, Bre1, Bur2, and Fun12 affect transcription elongation to different extents.',\n",
       "     'offsetInBeginSection': 615,\n",
       "     'offsetInEndSection': 776,\n",
       "     'beginSection': 'abstract',\n",
       "     'endSection': 'abstract'},\n",
       "    {'document': 'http://www.ncbi.nlm.nih.gov/pubmed/18823333',\n",
       "     'text': 'Disruption of the SUB1 gene partially suppressed sensitivity to the transcription elongation inhibitor mycophenolate (MPA) in a dst1 gene deletion mutant.',\n",
       "     'offsetInBeginSection': 545,\n",
       "     'offsetInEndSection': 699,\n",
       "     'beginSection': 'abstract',\n",
       "     'endSection': 'abstract'},\n",
       "    {'document': 'http://www.ncbi.nlm.nih.gov/pubmed/15082542',\n",
       "     'text': 'This stimulatory activity of TFIIS, which is dependent upon Rpb9, facilitates the resumption of transcription elongation when the polymerase stalls or arrests.',\n",
       "     'offsetInBeginSection': 109,\n",
       "     'offsetInEndSection': 268,\n",
       "     'beginSection': 'abstract',\n",
       "     'endSection': 'abstract'},\n",
       "    {'document': 'http://www.ncbi.nlm.nih.gov/pubmed/28521214',\n",
       "     'text': 'Previous reports indicate that Rad26, a yeast homolog of transcription-repair coupling factor CSB, partly mediates strand-specific repair of UV-dimers as well as AP lesions.',\n",
       "     'offsetInBeginSection': 459,\n",
       "     'offsetInEndSection': 632,\n",
       "     'beginSection': 'abstract',\n",
       "     'endSection': 'abstract'}]},\n",
       "  {'id': '5a39453d966455904c000006',\n",
       "   'body': 'Which method for subsampling of NGS reads requires only gene counts?',\n",
       "   'documents': ['http://www.ncbi.nlm.nih.gov/pubmed/25183223',\n",
       "    'http://www.ncbi.nlm.nih.gov/pubmed/23565205',\n",
       "    'http://www.ncbi.nlm.nih.gov/pubmed/35847873',\n",
       "    'http://www.ncbi.nlm.nih.gov/pubmed/28419628',\n",
       "    'http://www.ncbi.nlm.nih.gov/pubmed/26130573',\n",
       "    'http://www.ncbi.nlm.nih.gov/pubmed/33004007',\n",
       "    'http://www.ncbi.nlm.nih.gov/pubmed/32832266',\n",
       "    'http://www.ncbi.nlm.nih.gov/pubmed/24708854',\n",
       "    'http://www.ncbi.nlm.nih.gov/pubmed/23110596',\n",
       "    'http://www.ncbi.nlm.nih.gov/pubmed/26402642'],\n",
       "   'snippets': [{'document': 'http://www.ncbi.nlm.nih.gov/pubmed/28419628',\n",
       "     'text': 'The method consists of constructing an extensive dictionary of HLA alleles, precise mapping of the NGS reads, and calculating a score based on weighted read counts to select the most suitable pair of alleles.',\n",
       "     'offsetInBeginSection': 407,\n",
       "     'offsetInEndSection': 615,\n",
       "     'beginSection': 'abstract',\n",
       "     'endSection': 'abstract'},\n",
       "    {'document': 'http://www.ncbi.nlm.nih.gov/pubmed/23441149',\n",
       "     'text': 'Within this context, NGS produces binomial counts along the genome, i.e., the number of sequenced reads that matches with the SNP of the parental reference strain, which is a proxy for the number of individuals in the offspring that share the SNP with the parent.',\n",
       "     'offsetInBeginSection': 1261,\n",
       "     'offsetInEndSection': 1524,\n",
       "     'beginSection': 'abstract',\n",
       "     'endSection': 'abstract'},\n",
       "    {'document': 'http://www.ncbi.nlm.nih.gov/pubmed/26558903',\n",
       "     'text': 'Here, we developed an in silico method of searching NGS raw sequence reads to detect this mutation, without the need to recalculate sequence alignments or to screen every sample by PCR.',\n",
       "     'offsetInBeginSection': 465,\n",
       "     'offsetInEndSection': 650,\n",
       "     'beginSection': 'abstract',\n",
       "     'endSection': 'abstract'},\n",
       "    {'document': 'http://www.ncbi.nlm.nih.gov/pubmed/26558903',\n",
       "     'text': 'As a discovery cohort, raw NGS reads from 1,847 samples (including custom and whole exome selective capture) were searched in ~1 hour on a local computer cluster, yielding an additional five samples with MAK-Alu insertions and solving two previously unsolved pedigrees.',\n",
       "     'offsetInBeginSection': 1217,\n",
       "     'offsetInEndSection': 1486,\n",
       "     'beginSection': 'abstract',\n",
       "     'endSection': 'abstract'},\n",
       "    {'document': 'http://www.ncbi.nlm.nih.gov/pubmed/25183223',\n",
       "     'text': \"RESULTS We proposed a new method BayesTyping1 to assign HLA alleles for PacBio circular consensus sequencing reads using Bayes' theorem.\",\n",
       "     'offsetInBeginSection': 1051,\n",
       "     'offsetInEndSection': 1187,\n",
       "     'beginSection': 'abstract',\n",
       "     'endSection': 'abstract'},\n",
       "    {'document': 'http://www.ncbi.nlm.nih.gov/pubmed/25183223',\n",
       "     'text': 'CONCLUSIONS The BayesTyping1 method could overcome the problems of HLA typing using PacBio reads, which mostly arise from sequencing errors of PacBio reads and the divergence of HLA genes, to some extent.',\n",
       "     'offsetInBeginSection': 1398,\n",
       "     'offsetInEndSection': 1602,\n",
       "     'beginSection': 'abstract',\n",
       "     'endSection': 'abstract'},\n",
       "    {'document': 'http://www.ncbi.nlm.nih.gov/pubmed/26130573',\n",
       "     'text': 'The fact that NGS reads are generally short makes it challenging to assemble the reads and reconstruct the original genome sequence.',\n",
       "     'offsetInBeginSection': 129,\n",
       "     'offsetInEndSection': 261,\n",
       "     'beginSection': 'abstract',\n",
       "     'endSection': 'abstract'},\n",
       "    {'document': 'http://www.ncbi.nlm.nih.gov/pubmed/25349885',\n",
       "     'text': 'It consists of three separate workflows: (1) the SA_RunStats workflow generates basic statistics about an NGS dataset, including numbers of raw, cleaned, redundant and unique reads, redundancy rate, and a list of unique sequences with length and read count; (2) the SA_Run2Ref workflow estimates the breadth, depth and evenness of genome-wide coverage of the NGS dataset at a nucleotide resolution; and (3) the SA_Run2Run workflow compares two NGS datasets to determine the redundancy (overlapping rate) between the two NGS runs.',\n",
       "     'offsetInBeginSection': 623,\n",
       "     'offsetInEndSection': 1152,\n",
       "     'beginSection': 'abstract',\n",
       "     'endSection': 'abstract'},\n",
       "    {'document': 'http://www.ncbi.nlm.nih.gov/pubmed/25183223',\n",
       "     'text': 'Computer scientists have developed such methods for various NGS platforms, such as Illumina, Roche 454 and Ion Torrent, based on the characteristics of the reads they generate.',\n",
       "     'offsetInBeginSection': 521,\n",
       "     'offsetInEndSection': 697,\n",
       "     'beginSection': 'abstract',\n",
       "     'endSection': 'abstract'},\n",
       "    {'document': 'http://www.ncbi.nlm.nih.gov/pubmed/26130573',\n",
       "     'text': 'For clustering genomes using such NGS data, word-count based alignment-free sequence comparison is a promising approach, but for this approach, the underlying expected word counts are essential.A plausible model for this underlying distribution of word counts is given through modeling the DNA sequence as a Markov chain (MC).',\n",
       "     'offsetInBeginSection': 262,\n",
       "     'offsetInEndSection': 588,\n",
       "     'beginSection': 'abstract',\n",
       "     'endSection': 'abstract'}]},\n",
       "  {'id': '5a3e8683966455904c000007',\n",
       "   'body': 'Which test is used to diagnose colour synesthesia?',\n",
       "   'documents': ['http://www.ncbi.nlm.nih.gov/pubmed/25734257',\n",
       "    'http://www.ncbi.nlm.nih.gov/pubmed/33828189',\n",
       "    'http://www.ncbi.nlm.nih.gov/pubmed/19739904',\n",
       "    'http://www.ncbi.nlm.nih.gov/pubmed/22073035',\n",
       "    'http://www.ncbi.nlm.nih.gov/pubmed/21725382',\n",
       "    'http://www.ncbi.nlm.nih.gov/pubmed/21531581',\n",
       "    'http://www.ncbi.nlm.nih.gov/pubmed/23279836',\n",
       "    'http://www.ncbi.nlm.nih.gov/pubmed/15479673',\n",
       "    'http://www.ncbi.nlm.nih.gov/pubmed/22428428',\n",
       "    'http://www.ncbi.nlm.nih.gov/pubmed/16083418'],\n",
       "   'snippets': [{'document': 'http://www.ncbi.nlm.nih.gov/pubmed/23458658',\n",
       "     'text': 'These include the type of colour space used (e.g., RGB, HSV, CIELUV, CIELAB) and different measures of consistency (e.g., city block and Euclidean distance in colour space).',\n",
       "     'offsetInBeginSection': 413,\n",
       "     'offsetInEndSection': 586,\n",
       "     'beginSection': 'abstract',\n",
       "     'endSection': 'abstract'},\n",
       "    {'document': 'http://www.ncbi.nlm.nih.gov/pubmed/21531581',\n",
       "     'text': 'Synesthesia appears to require full recognition to bind form and colour.',\n",
       "     'offsetInBeginSection': 958,\n",
       "     'offsetInEndSection': 1030,\n",
       "     'beginSection': 'abstract',\n",
       "     'endSection': 'abstract'},\n",
       "    {'document': 'http://www.ncbi.nlm.nih.gov/pubmed/23458658',\n",
       "     'text': 'This study aims to find the most reliable way of diagnosing grapheme-colour synaesthesia based on maximising sensitivity (i.e., ability of a test to identify true synaesthetes) and specificity (i.e., ability of a test to identify true non-synaesthetes).',\n",
       "     'offsetInBeginSection': 587,\n",
       "     'offsetInEndSection': 840,\n",
       "     'beginSection': 'abstract',\n",
       "     'endSection': 'abstract'},\n",
       "    {'document': 'http://www.ncbi.nlm.nih.gov/pubmed/23458658',\n",
       "     'text': 'The most commonly used method for formally assessing grapheme-colour synaesthesia (i.e., experiencing colours in response to letter and/or number stimuli) involves selecting colours from a large colour palette on several occasions and measuring consistency of the colours selected.',\n",
       "     'offsetInBeginSection': 0,\n",
       "     'offsetInEndSection': 281,\n",
       "     'beginSection': 'abstract',\n",
       "     'endSection': 'abstract'},\n",
       "    {'document': 'http://www.ncbi.nlm.nih.gov/pubmed/21531581',\n",
       "     'text': 'Recent research on grapheme-colour synesthesia has focused on whether visual attention is necessary to induce a synesthetic percept.',\n",
       "     'offsetInBeginSection': 0,\n",
       "     'offsetInEndSection': 132,\n",
       "     'beginSection': 'abstract',\n",
       "     'endSection': 'abstract'},\n",
       "    {'document': 'http://www.ncbi.nlm.nih.gov/pubmed/3876538',\n",
       "     'text': 'Clinical tests have three aims: to screen for colour deficiency, to diagnose or classify the type of defect and to grade the severity of the defect.',\n",
       "     'offsetInBeginSection': 238,\n",
       "     'offsetInEndSection': 386,\n",
       "     'beginSection': 'abstract',\n",
       "     'endSection': 'abstract'},\n",
       "    {'document': 'http://www.ncbi.nlm.nih.gov/pubmed/22073035',\n",
       "     'text': 'In colour-grapheme synesthesia, non-coloured graphemes are perceived as being inherently coloured.',\n",
       "     'offsetInBeginSection': 0,\n",
       "     'offsetInEndSection': 98,\n",
       "     'beginSection': 'abstract',\n",
       "     'endSection': 'abstract'},\n",
       "    {'document': 'http://www.ncbi.nlm.nih.gov/pubmed/25734257',\n",
       "     'text': 'We recruited 2847 participants to complete The Synesthesia Battery and found the prevalence of grapheme-colour synesthesia in the general population to be 1.2%.',\n",
       "     'offsetInBeginSection': 696,\n",
       "     'offsetInEndSection': 856,\n",
       "     'beginSection': 'abstract',\n",
       "     'endSection': 'abstract'},\n",
       "    {'document': 'http://www.ncbi.nlm.nih.gov/pubmed/16083418',\n",
       "     'text': 'CONCLUSION We conclude that the Medmont C-100 can be used clinically to diagnose carriers of protan colour vision deficiency.',\n",
       "     'offsetInBeginSection': 1388,\n",
       "     'offsetInEndSection': 1513,\n",
       "     'beginSection': 'abstract',\n",
       "     'endSection': 'abstract'},\n",
       "    {'document': 'http://www.ncbi.nlm.nih.gov/pubmed/19739904',\n",
       "     'text': 'To shed light on this issue, we manipulated the stimulus onset asynchrony (SOA) in a synesthetic colour priming task (i.e., 0 ms, 200 ms, 1,000 ms).',\n",
       "     'offsetInBeginSection': 130,\n",
       "     'offsetInEndSection': 278,\n",
       "     'beginSection': 'abstract',\n",
       "     'endSection': 'abstract'}]},\n",
       "  {'id': '5a43a139966455904c000008',\n",
       "   'body': 'What is measured through the NOMe-Seq methodology?',\n",
       "   'documents': ['http://www.ncbi.nlm.nih.gov/pubmed/31148571',\n",
       "    'http://www.ncbi.nlm.nih.gov/pubmed/28035030',\n",
       "    'http://www.ncbi.nlm.nih.gov/pubmed/29605855',\n",
       "    'http://www.ncbi.nlm.nih.gov/pubmed/31584093',\n",
       "    'http://www.ncbi.nlm.nih.gov/pubmed/26484155',\n",
       "    'http://www.ncbi.nlm.nih.gov/pubmed/32160036',\n",
       "    'http://www.ncbi.nlm.nih.gov/pubmed/27899623',\n",
       "    'http://www.ncbi.nlm.nih.gov/pubmed/29224149',\n",
       "    'http://www.ncbi.nlm.nih.gov/pubmed/22960375',\n",
       "    'http://www.ncbi.nlm.nih.gov/pubmed/28653622'],\n",
       "   'snippets': [{'document': 'http://www.ncbi.nlm.nih.gov/pubmed/27899623',\n",
       "     'text': 'DNaseI-seq and NOMe-seq.',\n",
       "     'offsetInBeginSection': 497,\n",
       "     'offsetInEndSection': 521,\n",
       "     'beginSection': 'abstract',\n",
       "     'endSection': 'abstract'},\n",
       "    {'document': 'http://www.ncbi.nlm.nih.gov/pubmed/28653622',\n",
       "     'text': 'Here I adapted Nucleosome Occupancy and Methylome-sequencing (NOMe-seq) to measure chromatin accessibility and endogenous DNA methylation in single cells (scNOMe-seq).',\n",
       "     'offsetInBeginSection': 219,\n",
       "     'offsetInEndSection': 386,\n",
       "     'beginSection': 'abstract',\n",
       "     'endSection': 'abstract'},\n",
       "    {'document': 'http://www.ncbi.nlm.nih.gov/pubmed/28035030',\n",
       "     'text': 'Recently, Methyltransferase Accessibility Protocol for individual templates-Bisulfite Genome Sequencing (MAPit-BGS) and nucleosome occupancy and methylome sequencing (NOMe-seq) have been developed for simultaneously profiling chromatin accessibility and DNA methylation on single molecules.',\n",
       "     'offsetInBeginSection': 316,\n",
       "     'offsetInEndSection': 606,\n",
       "     'beginSection': 'abstract',\n",
       "     'endSection': 'abstract'},\n",
       "    {'document': 'http://www.ncbi.nlm.nih.gov/pubmed/21835883',\n",
       "     'text': 'Using Nucleosome Occupancy Methylome- Sequencing, NOMe-Seq, a single-molecule, high-resolution nucleosome positioning assay, we demonstrate that active, but not inactive, non-CpG island promoters display a nucleosome-depleted region (NDR) immediately upstream of the transcription start site (TSS).',\n",
       "     'offsetInBeginSection': 783,\n",
       "     'offsetInEndSection': 1081,\n",
       "     'beginSection': 'abstract',\n",
       "     'endSection': 'abstract'},\n",
       "    {'document': 'http://www.ncbi.nlm.nih.gov/pubmed/28222791',\n",
       "     'text': 'We develop a statistical method, epiG, to infer and differentiate between different epi-allelic haplotypes, annotated with CpG methylation status and DNA polymorphisms, from whole-genome bisulfite sequencing data, and nucleosome occupancy from NOMe-seq data.',\n",
       "     'offsetInBeginSection': 203,\n",
       "     'offsetInEndSection': 461,\n",
       "     'beginSection': 'abstract',\n",
       "     'endSection': 'abstract'},\n",
       "    {'document': 'http://www.ncbi.nlm.nih.gov/pubmed/22960375',\n",
       "     'text': 'We have developed a method (NOMe-seq) that uses a GpC methyltransferase (M.CviPI) and next generation sequencing to generate a high resolution footprint of nucleosome positioning genome-wide using less than 1 million cells while retaining endogenous DNA methylation information from the same DNA strand.',\n",
       "     'offsetInBeginSection': 256,\n",
       "     'offsetInEndSection': 559,\n",
       "     'beginSection': 'abstract',\n",
       "     'endSection': 'abstract'},\n",
       "    {'document': 'http://www.ncbi.nlm.nih.gov/pubmed/25747664',\n",
       "     'text': 'The NOMe-seq accessibility assay unexpectedly revealed symmetrical and transcription-independent nucleosomal phasing across active, poised, and inactive genomic elements.',\n",
       "     'offsetInBeginSection': 285,\n",
       "     'offsetInEndSection': 455,\n",
       "     'beginSection': 'abstract',\n",
       "     'endSection': 'abstract'},\n",
       "    {'document': 'http://www.ncbi.nlm.nih.gov/pubmed/28413449',\n",
       "     'text': 'In this study, we make progress toward understanding these conflicting phenomena by implementing a bioinformatics approach that combines MNase-seq and NOMe-seq data and by comprehensively profiling DNA methylation and nucleosome occupancy throughout the human genome.',\n",
       "     'offsetInBeginSection': 477,\n",
       "     'offsetInEndSection': 744,\n",
       "     'beginSection': 'abstract',\n",
       "     'endSection': 'abstract'},\n",
       "    {'document': 'http://www.ncbi.nlm.nih.gov/pubmed/22960375',\n",
       "     'text': 'Importantly, NOMe-seq obtains DNA methylation and nucleosome positioning information from the same DNA molecule, giving the first genome-wide DNA methylation and nucleosome positioning correlation at the single molecule, and thus, single cell level, that can be used to monitor disease progression and response to therapy.',\n",
       "     'offsetInBeginSection': 985,\n",
       "     'offsetInEndSection': 1307,\n",
       "     'beginSection': 'abstract',\n",
       "     'endSection': 'abstract'},\n",
       "    {'document': 'http://www.ncbi.nlm.nih.gov/pubmed/26484155',\n",
       "     'text': 'To address this we used Nucleosome Occupancy and Methylation sequencing (NOMe-seq) to compare the genome-wide DNA methylation and nucleosome occupancy profiles between normal and cancer cell line models of the breast and prostate.',\n",
       "     'offsetInBeginSection': 467,\n",
       "     'offsetInEndSection': 697,\n",
       "     'beginSection': 'abstract',\n",
       "     'endSection': 'abstract'}]},\n",
       "  {'id': '5a43a214966455904c000009',\n",
       "   'body': 'Is DNA methylation correlated with nucleosome occupancy?',\n",
       "   'documents': ['http://www.ncbi.nlm.nih.gov/pubmed/28413449',\n",
       "    'http://www.ncbi.nlm.nih.gov/pubmed/29224149',\n",
       "    'http://www.ncbi.nlm.nih.gov/pubmed/23839233',\n",
       "    'http://www.ncbi.nlm.nih.gov/pubmed/25437056',\n",
       "    'http://www.ncbi.nlm.nih.gov/pubmed/16901084',\n",
       "    'http://www.ncbi.nlm.nih.gov/pubmed/22960375',\n",
       "    'http://www.ncbi.nlm.nih.gov/pubmed/24733939',\n",
       "    'http://www.ncbi.nlm.nih.gov/pubmed/25578963',\n",
       "    'http://www.ncbi.nlm.nih.gov/pubmed/20602769',\n",
       "    'http://www.ncbi.nlm.nih.gov/pubmed/23686312'],\n",
       "   'snippets': [{'document': 'http://www.ncbi.nlm.nih.gov/pubmed/23839233',\n",
       "     'text': 'Importantly, DNA methylation regulated nucleosome occupancy specifically at the -1 positioned nucleosome of MAGEA11.',\n",
       "     'offsetInBeginSection': 890,\n",
       "     'offsetInEndSection': 1006,\n",
       "     'beginSection': 'abstract',\n",
       "     'endSection': 'abstract'},\n",
       "    {'document': 'http://www.ncbi.nlm.nih.gov/pubmed/21835883',\n",
       "     'text': 'Together, these results demonstrate that the epigenetic signatures comprising DNA methylation, histone marks and nucleosome occupancy of non-CpG island promoters are almost identical to CpG island promoters, suggesting that aberrant methylation patterns of non-CpG island promoters may also contribute to tumorigenesis and should therefore be included in analyses of cancer epigenetics.',\n",
       "     'offsetInBeginSection': 1392,\n",
       "     'offsetInEndSection': 1778,\n",
       "     'beginSection': 'abstract',\n",
       "     'endSection': 'abstract'},\n",
       "    {'document': 'http://www.ncbi.nlm.nih.gov/pubmed/28413449',\n",
       "     'text': 'CONCLUSIONS Thus, the relationship between DNA methylation and nucleosome occupancy is influenced by the density of methylated CpG dinucleotides and by other epigenomic components in chromatin.',\n",
       "     'offsetInBeginSection': 1825,\n",
       "     'offsetInEndSection': 2018,\n",
       "     'beginSection': 'abstract',\n",
       "     'endSection': 'abstract'},\n",
       "    {'document': 'http://www.ncbi.nlm.nih.gov/pubmed/28413449',\n",
       "     'text': 'Prominent exceptions to the correlations between methylated CpG density and nucleosome occupancy include CpG islands marked by H3K27me3 and CpG-poor heterochromatin marked by H3K9me3, and these modifications, along with DNA methylation, distinguish the major silencing mechanisms of the human epigenome.',\n",
       "     'offsetInBeginSection': 1519,\n",
       "     'offsetInEndSection': 1822,\n",
       "     'beginSection': 'abstract',\n",
       "     'endSection': 'abstract'},\n",
       "    {'document': 'http://www.ncbi.nlm.nih.gov/pubmed/22960375',\n",
       "     'text': 'DNA methylation and nucleosome positioning work together to generate chromatin structures that regulate gene expression.',\n",
       "     'offsetInBeginSection': 0,\n",
       "     'offsetInEndSection': 120,\n",
       "     'beginSection': 'abstract',\n",
       "     'endSection': 'abstract'},\n",
       "    {'document': 'http://www.ncbi.nlm.nih.gov/pubmed/26484155',\n",
       "     'text': 'DNA methylation and nucleosome positioning are two key mechanisms that contribute to the epigenetic control of gene expression.',\n",
       "     'offsetInBeginSection': 0,\n",
       "     'offsetInEndSection': 127,\n",
       "     'beginSection': 'abstract',\n",
       "     'endSection': 'abstract'},\n",
       "    {'document': 'http://www.ncbi.nlm.nih.gov/pubmed/23839233',\n",
       "     'text': 'Thus, DNA methylation regulates nucleosome occupancy at MAGEA11, and this appears to function cooperatively with sequence-specific transcription factors to regulate gene expression.',\n",
       "     'offsetInBeginSection': 1184,\n",
       "     'offsetInEndSection': 1365,\n",
       "     'beginSection': 'abstract',\n",
       "     'endSection': 'abstract'},\n",
       "    {'document': 'http://www.ncbi.nlm.nih.gov/pubmed/23686312',\n",
       "     'text': 'Promoter CpG island hypermethylation of tumor suppressor genes is an epigenetic hallmark of human cancer commonly associated with nucleosome occupancy and the transcriptional silencing of the neighboring gene.',\n",
       "     'offsetInBeginSection': 0,\n",
       "     'offsetInEndSection': 209,\n",
       "     'beginSection': 'abstract',\n",
       "     'endSection': 'abstract'},\n",
       "    {'document': 'http://www.ncbi.nlm.nih.gov/pubmed/28413449',\n",
       "     'text': 'For example, the methylation levels of DNA flanking CTCF sites are higher in linker DNA than in nucleosomal DNA, while other studies have shown that the nucleosome core is the preferred site of methylation.',\n",
       "     'offsetInBeginSection': 270,\n",
       "     'offsetInEndSection': 476,\n",
       "     'beginSection': 'abstract',\n",
       "     'endSection': 'abstract'},\n",
       "    {'document': 'http://www.ncbi.nlm.nih.gov/pubmed/25437056',\n",
       "     'text': 'Using colorectal adenomas, we investigated nucleosome positioning, DNA methylation, and gene expression in the early stages of gene silencing.',\n",
       "     'offsetInBeginSection': 178,\n",
       "     'offsetInEndSection': 320,\n",
       "     'beginSection': 'abstract',\n",
       "     'endSection': 'abstract'}]},\n",
       "  {'id': '5a43a581966455904c00000a',\n",
       "   'body': 'Which are the properties of mammalian GA-sequences?',\n",
       "   'documents': ['http://www.ncbi.nlm.nih.gov/pubmed/19043592',\n",
       "    'http://www.ncbi.nlm.nih.gov/pubmed/9607333',\n",
       "    'http://www.ncbi.nlm.nih.gov/pubmed/19270754',\n",
       "    'http://www.ncbi.nlm.nih.gov/pubmed/15629459',\n",
       "    'http://www.ncbi.nlm.nih.gov/pubmed/9490799',\n",
       "    'http://www.ncbi.nlm.nih.gov/pubmed/11095670',\n",
       "    'http://www.ncbi.nlm.nih.gov/pubmed/2558055',\n",
       "    'http://www.ncbi.nlm.nih.gov/pubmed/9737876',\n",
       "    'http://www.ncbi.nlm.nih.gov/pubmed/8411199',\n",
       "    'http://www.ncbi.nlm.nih.gov/pubmed/8065256'],\n",
       "   'snippets': [{'document': 'http://www.ncbi.nlm.nih.gov/pubmed/1463824',\n",
       "     'text': 'A wheat gene (A121) encoding a protein with sequence similarity to mammalian cathepsin B is regulated by gibberellic acid (GA) in aleurone layers of germinating grains.',\n",
       "     'offsetInBeginSection': 0,\n",
       "     'offsetInEndSection': 168,\n",
       "     'beginSection': 'abstract',\n",
       "     'endSection': 'abstract'},\n",
       "    {'document': 'http://www.ncbi.nlm.nih.gov/pubmed/6301150',\n",
       "     'text': 'The Gardner (GA) and Snyder-Theilen (ST) isolates of feline sarcoma virus (FeSV) represent genetic recombinants between feline leukemia virus (FeLV) and transformation-specific sequences (v-fes gene) of cat cellular origin.',\n",
       "     'offsetInBeginSection': 0,\n",
       "     'offsetInEndSection': 223,\n",
       "     'beginSection': 'abstract',\n",
       "     'endSection': 'abstract'},\n",
       "    {'document': 'http://www.ncbi.nlm.nih.gov/pubmed/9545369',\n",
       "     'text': 'Other centromeres DNA sequences, including the AAGAG satellite of Drosophila and the mammalian CENP-B box sequence, have the potential of forming intramolecular hairpins stabilised by similar purine.purine interactions.',\n",
       "     'offsetInBeginSection': 1019,\n",
       "     'offsetInEndSection': 1238,\n",
       "     'beginSection': 'abstract',\n",
       "     'endSection': 'abstract'},\n",
       "    {'document': 'http://www.ncbi.nlm.nih.gov/pubmed/2558055',\n",
       "     'text': 'The GAAACG repeats of interferon- and virus-inducible genes, and the GA-rich repeats of HSV1 IE genes confer similar functional properties when appended to the promoter of a heterologous gene.',\n",
       "     'offsetInBeginSection': 754,\n",
       "     'offsetInEndSection': 946,\n",
       "     'beginSection': 'abstract',\n",
       "     'endSection': 'abstract'},\n",
       "    {'document': 'http://www.ncbi.nlm.nih.gov/pubmed/11884146',\n",
       "     'text': 'The third GA module of protein G from the group G streptococcal strain G148 (G148-GA3) and the second GA module of protein PAB from P.magnus strain ALB8 (ALB8-GA) exhibit 59% sequence identity and both fold to form three-helix bundle structures that are very stable against thermal denaturation.',\n",
       "     'offsetInBeginSection': 241,\n",
       "     'offsetInEndSection': 536,\n",
       "     'beginSection': 'abstract',\n",
       "     'endSection': 'abstract'},\n",
       "    {'document': 'http://www.ncbi.nlm.nih.gov/pubmed/19845643',\n",
       "     'text': 'We propose that mammalian TE sequences have specific nucleosome binding properties with regulatory implications for nearby genes, are involved in the phasing of nucleosomes, and recruit epigenetic modifications to function as enhancers; that epigenetic modifications at TE sequences affect the regulation of nearby genes; and that TEs serve as epigenetic boundary elements.',\n",
       "     'offsetInBeginSection': 703,\n",
       "     'offsetInEndSection': 1076,\n",
       "     'beginSection': 'abstract',\n",
       "     'endSection': 'abstract'},\n",
       "    {'document': 'http://www.ncbi.nlm.nih.gov/pubmed/2558055',\n",
       "     'text': 'Stimulation of IE expression by VP16 operates via two cis-regulatory sequences: TAATGARAT, and the purine-rich hexanucleotide sequence GCGGAA.',\n",
       "     'offsetInBeginSection': 169,\n",
       "     'offsetInEndSection': 311,\n",
       "     'beginSection': 'abstract',\n",
       "     'endSection': 'abstract'},\n",
       "    {'document': 'http://www.ncbi.nlm.nih.gov/pubmed/6301150',\n",
       "     'text': 'In the present study, v-fes and v-fps homologous sequences of GA-FeSV, ST-FeSV, and Fujinami sarcoma virus (FSV) are defined and these independently derived transforming genes are shown to correspond to a common cellular genetic locus which has remained highly conserved throughout vertebrate evolution.',\n",
       "     'offsetInBeginSection': 544,\n",
       "     'offsetInEndSection': 847,\n",
       "     'beginSection': 'abstract',\n",
       "     'endSection': 'abstract'},\n",
       "    {'document': 'http://www.ncbi.nlm.nih.gov/pubmed/19270754',\n",
       "     'text': 'Introducing a new method to visualize large stretches of genomic DNA (see Appendix S1) the article reports that most GA-sequences [1] shared chains of tetra-GA-motifs and contained upstream poly(A)-segments.',\n",
       "     'offsetInBeginSection': 0,\n",
       "     'offsetInEndSection': 207,\n",
       "     'beginSection': 'abstract',\n",
       "     'endSection': 'abstract'},\n",
       "    {'document': 'http://www.ncbi.nlm.nih.gov/pubmed/10037452',\n",
       "     'text': 'To discover safe and effective topical skin-lightening agents, we have evaluated alkyl esters of the natural product gentisic acid (GA), which is related to our lead compound methyl gentisate (MG), and four putative tyrosinase inhibitors, utilizing mammalian melanocyte cell cultures and cell-free extracts.',\n",
       "     'offsetInBeginSection': 0,\n",
       "     'offsetInEndSection': 307,\n",
       "     'beginSection': 'abstract',\n",
       "     'endSection': 'abstract'}]},\n",
       "  {'id': '5a43a933966455904c00000b',\n",
       "   'body': 'How may CTCF mediate splicing?',\n",
       "   'documents': ['http://www.ncbi.nlm.nih.gov/pubmed/26711177',\n",
       "    'http://www.ncbi.nlm.nih.gov/pubmed/28525739',\n",
       "    'http://www.ncbi.nlm.nih.gov/pubmed/31831844',\n",
       "    'http://www.ncbi.nlm.nih.gov/pubmed/32213287',\n",
       "    'http://www.ncbi.nlm.nih.gov/pubmed/34181707',\n",
       "    'http://www.ncbi.nlm.nih.gov/pubmed/25934638',\n",
       "    'http://www.ncbi.nlm.nih.gov/pubmed/35454655',\n",
       "    'http://www.ncbi.nlm.nih.gov/pubmed/11507042',\n",
       "    'http://www.ncbi.nlm.nih.gov/pubmed/32816606',\n",
       "    'http://www.ncbi.nlm.nih.gov/pubmed/24657531'],\n",
       "   'snippets': [{'document': 'http://www.ncbi.nlm.nih.gov/pubmed/26711177',\n",
       "     'text': 'Intragenic 5-methylcytosine and CTCF mediate opposing effects on pre-mRNA splicing: CTCF promotes inclusion of weak upstream exons through RNA polymerase II pausing, whereas 5-methylcytosine evicts CTCF, leading to exon exclusion.',\n",
       "     'offsetInBeginSection': 0,\n",
       "     'offsetInEndSection': 230,\n",
       "     'beginSection': 'abstract',\n",
       "     'endSection': 'abstract'},\n",
       "    {'document': 'http://www.ncbi.nlm.nih.gov/pubmed/25934638',\n",
       "     'text': 'In particular, the CCCTC-binding factor (CTCF), the Argonaute protein AGO1, and members of the heterochromatin protein 1 (HP1) family have been implicated in the regulation of splicing associated with chromatin and the elongation of RNAPII.',\n",
       "     'offsetInBeginSection': 293,\n",
       "     'offsetInEndSection': 533,\n",
       "     'beginSection': 'abstract',\n",
       "     'endSection': 'abstract'},\n",
       "    {'document': 'http://www.ncbi.nlm.nih.gov/pubmed/28594324',\n",
       "     'text': 'Surprisingly, conditioning results in new occupancy of BDNF chromatin by DNA insulator protein CCCTC-binding factor (CTCF), which is associated with suppression of splicing in conditioning.',\n",
       "     'offsetInBeginSection': 671,\n",
       "     'offsetInEndSection': 860,\n",
       "     'beginSection': 'abstract',\n",
       "     'endSection': 'abstract'},\n",
       "    {'document': 'http://www.ncbi.nlm.nih.gov/pubmed/25934638',\n",
       "     'text': 'RESULTS Using chromatin immunoprecipitation sequencing (ChIP-Seq) data for CTCF, AGO1, HP1α, H3K27me3, H3K9me2, H3K36me3, RNAPII, total H3 and 5metC and alternative splicing arrays from two cell lines, we have analyzed the combinatorial code of their binding to chromatin in relation to the alternative splicing patterns between two cell lines, MCF7 and MCF10.',\n",
       "     'offsetInBeginSection': 666,\n",
       "     'offsetInEndSection': 1027,\n",
       "     'beginSection': 'abstract',\n",
       "     'endSection': 'abstract'},\n",
       "    {'document': 'http://www.ncbi.nlm.nih.gov/pubmed/24657531',\n",
       "     'text': 'CTCF has a single paralogue, the testes-specific CTCF-like gene (CTCFL)/BORIS.',\n",
       "     'offsetInBeginSection': 253,\n",
       "     'offsetInEndSection': 331,\n",
       "     'beginSection': 'abstract',\n",
       "     'endSection': 'abstract'},\n",
       "    {'document': 'http://www.ncbi.nlm.nih.gov/pubmed/24657531',\n",
       "     'text': 'CTCF is ubiquitously expressed and plays diverse roles in gene regulation, imprinting, insulation, intra/interchromosomal interactions, nuclear compartmentalisation, and alternative splicing.',\n",
       "     'offsetInBeginSection': 61,\n",
       "     'offsetInEndSection': 252,\n",
       "     'beginSection': 'abstract',\n",
       "     'endSection': 'abstract'},\n",
       "    {'document': 'http://www.ncbi.nlm.nih.gov/pubmed/28594324',\n",
       "     'text': 'Knockdown of MeCP2 shows it is instrumental for splicing and inhibits Tet1 and CTCF binding thereby negatively impacting DNA methylation and conditioning-dependent splicing regulation.',\n",
       "     'offsetInBeginSection': 861,\n",
       "     'offsetInEndSection': 1045,\n",
       "     'beginSection': 'abstract',\n",
       "     'endSection': 'abstract'},\n",
       "    {'document': 'http://www.ncbi.nlm.nih.gov/pubmed/26154016',\n",
       "     'text': \"Several DNA viruses, including Kaposi's sarcoma-associated herpesvirus (KSHV), Epstein-Barr virus (EBV) and human papillomavirus (HPV) utilize CTCF to control virus gene expression and many studies have highlighted a role for CTCF in the persistence of these diverse oncogenic viruses.\",\n",
       "     'offsetInBeginSection': 709,\n",
       "     'offsetInEndSection': 994,\n",
       "     'beginSection': 'abstract',\n",
       "     'endSection': 'abstract'},\n",
       "    {'document': 'http://www.ncbi.nlm.nih.gov/pubmed/26711177',\n",
       "     'text': 'Here, we reveal the methylcytosine dioxygenases TET1 and TET2 as active regulators of CTCF-mediated alternative splicing through conversion of 5-methylcytosine to its oxidation derivatives.',\n",
       "     'offsetInBeginSection': 325,\n",
       "     'offsetInEndSection': 514,\n",
       "     'beginSection': 'abstract',\n",
       "     'endSection': 'abstract'},\n",
       "    {'document': 'http://www.ncbi.nlm.nih.gov/pubmed/21964334',\n",
       "     'text': 'Here we provide the first evidence that a DNA-binding protein, CCCTC-binding factor (CTCF), can promote inclusion of weak upstream exons by mediating local RNA polymerase II pausing both in a mammalian model system for alternative splicing, CD45, and genome-wide.',\n",
       "     'offsetInBeginSection': 565,\n",
       "     'offsetInEndSection': 828,\n",
       "     'beginSection': 'abstract',\n",
       "     'endSection': 'abstract'}]},\n",
       "  {'id': '5a43b2d7966455904c00000c',\n",
       "   'body': 'Which are the best methods for the prediction of circular RNA (circRNA)?',\n",
       "   'documents': ['http://www.ncbi.nlm.nih.gov/pubmed/31055837',\n",
       "    'http://www.ncbi.nlm.nih.gov/pubmed/35386433',\n",
       "    'http://www.ncbi.nlm.nih.gov/pubmed/36051691',\n",
       "    'http://www.ncbi.nlm.nih.gov/pubmed/33835443',\n",
       "    'http://www.ncbi.nlm.nih.gov/pubmed/32566642',\n",
       "    'http://www.ncbi.nlm.nih.gov/pubmed/29632808',\n",
       "    'http://www.ncbi.nlm.nih.gov/pubmed/33806945',\n",
       "    'http://www.ncbi.nlm.nih.gov/pubmed/31793982',\n",
       "    'http://www.ncbi.nlm.nih.gov/pubmed/32446243',\n",
       "    'http://www.ncbi.nlm.nih.gov/pubmed/34252942'],\n",
       "   'snippets': [{'document': 'http://www.ncbi.nlm.nih.gov/pubmed/28346469',\n",
       "     'text': 'The emergence of circular RNA (circRNA) provides a new way to study the pathogenesis of human disease.',\n",
       "     'offsetInBeginSection': 194,\n",
       "     'offsetInEndSection': 296,\n",
       "     'beginSection': 'abstract',\n",
       "     'endSection': 'abstract'},\n",
       "    {'document': 'http://www.ncbi.nlm.nih.gov/pubmed/28265491',\n",
       "     'text': 'To expand our understanding of possible roles of circular RNAs, we propose a new pipeline that could fully characterizes candidate circRNA structure from RNAseq data-FUCHS: FUll CHaracterization of circular RNA using RNA-Sequencing.',\n",
       "     'offsetInBeginSection': 743,\n",
       "     'offsetInEndSection': 975,\n",
       "     'beginSection': 'abstract',\n",
       "     'endSection': 'abstract'},\n",
       "    {'document': 'http://www.ncbi.nlm.nih.gov/pubmed/28082450',\n",
       "     'text': 'Aims Circular RNA (circRNA) is a newly validated class of single-stranded RNA, ubiquitously expressed in mammalian tissues and possessing key functions including acting as microRNA sponges and as transcriptional regulators by binding to RNA-binding proteins.',\n",
       "     'offsetInBeginSection': 0,\n",
       "     'offsetInEndSection': 258,\n",
       "     'beginSection': 'abstract',\n",
       "     'endSection': 'abstract'},\n",
       "    {'document': 'http://www.ncbi.nlm.nih.gov/pubmed/29165116',\n",
       "     'text': 'Recently, circular RNA (circRNA), a class of endogenous non-protein coding RNAs that contain a circular loop, was found to exhibit multiple biological effects.',\n",
       "     'offsetInBeginSection': 108,\n",
       "     'offsetInEndSection': 267,\n",
       "     'beginSection': 'abstract',\n",
       "     'endSection': 'abstract'},\n",
       "    {'document': 'http://www.ncbi.nlm.nih.gov/pubmed/26846540',\n",
       "     'text': 'OBJECTIVE To determine the expression of circular RNA (circRNA) in blood corpuscles of pregnant women before 20\\xa0weeks of pregnancy and to create a new model to identify the performance of circRNA combined with protein factors for the early diagnosis of pre-eclampsia (PE).',\n",
       "     'offsetInBeginSection': 0,\n",
       "     'offsetInEndSection': 273,\n",
       "     'beginSection': 'abstract',\n",
       "     'endSection': 'abstract'},\n",
       "    {'document': 'http://www.ncbi.nlm.nih.gov/pubmed/29165116',\n",
       "     'text': 'The circRNA/microRNA interaction was analyzed by starBase prediction software.',\n",
       "     'offsetInBeginSection': 707,\n",
       "     'offsetInEndSection': 785,\n",
       "     'beginSection': 'abstract',\n",
       "     'endSection': 'abstract'},\n",
       "    {'document': 'http://www.ncbi.nlm.nih.gov/pubmed/26846540',\n",
       "     'text': 'METHODS The samples were analysed using a human circRNA microarray in the discovery phase, then the circRNA and the plasma protein factor endoglin (ENG) were validated.',\n",
       "     'offsetInBeginSection': 623,\n",
       "     'offsetInEndSection': 791,\n",
       "     'beginSection': 'abstract',\n",
       "     'endSection': 'abstract'},\n",
       "    {'document': 'http://www.ncbi.nlm.nih.gov/pubmed/26846540',\n",
       "     'text': 'Finally we combined ENG with circRNA to create a new early prediction model for PE.',\n",
       "     'offsetInBeginSection': 792,\n",
       "     'offsetInEndSection': 875,\n",
       "     'beginSection': 'abstract',\n",
       "     'endSection': 'abstract'},\n",
       "    {'document': 'http://www.ncbi.nlm.nih.gov/pubmed/27493192',\n",
       "     'text': 'RESULTS A circRNA prediction software for plants (termed PcircRNA_finder) was developed that is more sensitive in detecting circRNAs than other frequently used programs (such as find_circ and CIRCexplorer), Based on analysis of simulated and real rRNA-/RNAase R RNA-Seq data from Arabidopsis thaliana and rice PcircRNA_finder provides a more comprehensive sensitive, precise prediction method for plants circRNAs.',\n",
       "     'offsetInBeginSection': 337,\n",
       "     'offsetInEndSection': 750,\n",
       "     'beginSection': 'abstract',\n",
       "     'endSection': 'abstract'},\n",
       "    {'document': 'http://www.ncbi.nlm.nih.gov/pubmed/28082450',\n",
       "     'text': 'Finally, we confirmed the expression of selected cardiac circRNA by RT-PCR, Sanger sequencing and single molecule RNA-fluorescence in situ hybridization.',\n",
       "     'offsetInBeginSection': 1301,\n",
       "     'offsetInEndSection': 1454,\n",
       "     'beginSection': 'abstract',\n",
       "     'endSection': 'abstract'}]},\n",
       "  {'id': '5a468785966455904c00000d',\n",
       "   'body': 'Does RNA polymerase II have RNA cleavage activity?',\n",
       "   'documents': ['http://www.ncbi.nlm.nih.gov/pubmed/7503982',\n",
       "    'http://www.ncbi.nlm.nih.gov/pubmed/8312968',\n",
       "    'http://www.ncbi.nlm.nih.gov/pubmed/11586917',\n",
       "    'http://www.ncbi.nlm.nih.gov/pubmed/9712888',\n",
       "    'http://www.ncbi.nlm.nih.gov/pubmed/1379232',\n",
       "    'http://www.ncbi.nlm.nih.gov/pubmed/8692922',\n",
       "    'http://www.ncbi.nlm.nih.gov/pubmed/1371280',\n",
       "    'http://www.ncbi.nlm.nih.gov/pubmed/17535246',\n",
       "    'http://www.ncbi.nlm.nih.gov/pubmed/11259417',\n",
       "    'http://www.ncbi.nlm.nih.gov/pubmed/15837179'],\n",
       "   'snippets': [{'document': 'http://www.ncbi.nlm.nih.gov/pubmed/17535246',\n",
       "     'text': 'Rpb9, a small subunit of RNA polymerase II, enhances the cleavage stimulation activity of S-II.',\n",
       "     'offsetInBeginSection': 149,\n",
       "     'offsetInEndSection': 244,\n",
       "     'beginSection': 'abstract',\n",
       "     'endSection': 'abstract'},\n",
       "    {'document': 'http://www.ncbi.nlm.nih.gov/pubmed/9037112',\n",
       "     'text': 'RNA polymerase II contains a ribonuclease activity which is stimulated by the transcription elongation factor SII.',\n",
       "     'offsetInBeginSection': 0,\n",
       "     'offsetInEndSection': 114,\n",
       "     'beginSection': 'abstract',\n",
       "     'endSection': 'abstract'},\n",
       "    {'document': 'http://www.ncbi.nlm.nih.gov/pubmed/8090778',\n",
       "     'text': 'By site-directed mutagenesis, we have demonstrated that invariant residues Asp-261 and Glu-262 of the nucleic acid-binding TFIIS Zn ribbon are critical for stimulation of both elongation and RNA cleavage activities of RNA polymerase II.',\n",
       "     'offsetInBeginSection': 159,\n",
       "     'offsetInEndSection': 395,\n",
       "     'beginSection': 'abstract',\n",
       "     'endSection': 'abstract'},\n",
       "    {'document': 'http://www.ncbi.nlm.nih.gov/pubmed/7503982',\n",
       "     'text': 'RNA cleavage could serve to move RNA polymerase II away from the transcriptional impediment and/or permit RNA polymerase II multiple attempts at RNA elongation.',\n",
       "     'offsetInBeginSection': 615,\n",
       "     'offsetInEndSection': 775,\n",
       "     'beginSection': 'abstract',\n",
       "     'endSection': 'abstract'},\n",
       "    {'document': 'http://www.ncbi.nlm.nih.gov/pubmed/17535246',\n",
       "     'text': 'The transcription elongation factor S-II, also designated TFIIS, stimulates the nascent transcript cleavage activity intrinsic to RNA polymerase II.',\n",
       "     'offsetInBeginSection': 0,\n",
       "     'offsetInEndSection': 148,\n",
       "     'beginSection': 'abstract',\n",
       "     'endSection': 'abstract'},\n",
       "    {'document': 'http://www.ncbi.nlm.nih.gov/pubmed/8090778',\n",
       "     'text': 'The eukaryotic transcription factor TFIIS enhances elongation and nascent transcript cleavage activities of RNA polymerase II in a stalled elongation complex.',\n",
       "     'offsetInBeginSection': 0,\n",
       "     'offsetInEndSection': 158,\n",
       "     'beginSection': 'abstract',\n",
       "     'endSection': 'abstract'},\n",
       "    {'document': 'http://www.ncbi.nlm.nih.gov/pubmed/1379232',\n",
       "     'text': 'SII is an RNA polymerase II-binding protein that stimulates transcription elongation and also activates nascent transcript cleavage by RNA polymerase II in elongation complexes in vitro (Reines, D. (1992) J. Biol.',\n",
       "     'offsetInBeginSection': 108,\n",
       "     'offsetInEndSection': 321,\n",
       "     'beginSection': 'abstract',\n",
       "     'endSection': 'abstract'},\n",
       "    {'document': 'http://www.ncbi.nlm.nih.gov/pubmed/1371280',\n",
       "     'text': 'It is also possible that the transcript cleavage activity of RNA polymerase II represents a proofreading function of the enzyme.',\n",
       "     'offsetInBeginSection': 947,\n",
       "     'offsetInEndSection': 1075,\n",
       "     'beginSection': 'abstract',\n",
       "     'endSection': 'abstract'},\n",
       "    {'document': 'http://www.ncbi.nlm.nih.gov/pubmed/7503982',\n",
       "     'text': 'Transcription past these impediments requires SII, an RNA polymerase II-binding protein.',\n",
       "     'offsetInBeginSection': 119,\n",
       "     'offsetInEndSection': 207,\n",
       "     'beginSection': 'abstract',\n",
       "     'endSection': 'abstract'},\n",
       "    {'document': 'http://www.ncbi.nlm.nih.gov/pubmed/8312968',\n",
       "     'text': 'This article will describe recent studies of elongation by RNA polymerase II (pol II).',\n",
       "     'offsetInBeginSection': 221,\n",
       "     'offsetInEndSection': 307,\n",
       "     'beginSection': 'abstract',\n",
       "     'endSection': 'abstract'}]},\n",
       "  {'id': '5a4df811966455904c00000e',\n",
       "   'body': 'Which RNA polymerase II subunit carries RNA cleavage activity?',\n",
       "   'documents': ['http://www.ncbi.nlm.nih.gov/pubmed/23847103',\n",
       "    'http://www.ncbi.nlm.nih.gov/pubmed/9150890',\n",
       "    'http://www.ncbi.nlm.nih.gov/pubmed/9869639',\n",
       "    'http://www.ncbi.nlm.nih.gov/pubmed/9002523',\n",
       "    'http://www.ncbi.nlm.nih.gov/pubmed/17535246',\n",
       "    'http://www.ncbi.nlm.nih.gov/pubmed/1748664',\n",
       "    'http://www.ncbi.nlm.nih.gov/pubmed/10405159',\n",
       "    'http://www.ncbi.nlm.nih.gov/pubmed/15359273',\n",
       "    'http://www.ncbi.nlm.nih.gov/pubmed/8537315',\n",
       "    'http://www.ncbi.nlm.nih.gov/pubmed/22396529'],\n",
       "   'snippets': [{'document': 'http://www.ncbi.nlm.nih.gov/pubmed/17535246',\n",
       "     'text': 'Rpb9, a small subunit of RNA polymerase II, enhances the cleavage stimulation activity of S-II.',\n",
       "     'offsetInBeginSection': 149,\n",
       "     'offsetInEndSection': 244,\n",
       "     'beginSection': 'abstract',\n",
       "     'endSection': 'abstract'},\n",
       "    {'document': 'http://www.ncbi.nlm.nih.gov/pubmed/7678416',\n",
       "     'text': 'Involvement of the vaccinia RNA polymerase subunit rpo30 in the transcript-shortening reaction is suggested based on sequence similarity of rpo30 to mammalian protein SII (TFIIS), an extrinsic transcription factor required for nascent RNA cleavage by RNA polymerase II (Reines, D. (1991) J. Biol.',\n",
       "     'offsetInBeginSection': 868,\n",
       "     'offsetInEndSection': 1164,\n",
       "     'beginSection': 'abstract',\n",
       "     'endSection': 'abstract'},\n",
       "    {'document': 'http://www.ncbi.nlm.nih.gov/pubmed/22396529',\n",
       "     'text': 'RNA polymerase (Pol) I contains a 10-subunit catalytic core that is related to the core of Pol II and includes subunit A12.2.',\n",
       "     'offsetInBeginSection': 0,\n",
       "     'offsetInEndSection': 125,\n",
       "     'beginSection': 'abstract',\n",
       "     'endSection': 'abstract'},\n",
       "    {'document': 'http://www.ncbi.nlm.nih.gov/pubmed/23847103',\n",
       "     'text': 'The PA subunit of influenza polymerase carries the endonuclease activity that catalyzes the host mRNA cleavage reaction.',\n",
       "     'offsetInBeginSection': 204,\n",
       "     'offsetInEndSection': 324,\n",
       "     'beginSection': 'abstract',\n",
       "     'endSection': 'abstract'},\n",
       "    {'document': 'http://www.ncbi.nlm.nih.gov/pubmed/21454497',\n",
       "     'text': 'During gene transcription, the RNA polymerase (Pol) active center can catalyze RNA cleavage.',\n",
       "     'offsetInBeginSection': 0,\n",
       "     'offsetInEndSection': 92,\n",
       "     'beginSection': 'abstract',\n",
       "     'endSection': 'abstract'},\n",
       "    {'document': 'http://www.ncbi.nlm.nih.gov/pubmed/21454497',\n",
       "     'text': 'This mechanism is also used by transcription factor IIS, a factor that can bind Pol II and induce strong RNA cleavage.',\n",
       "     'offsetInBeginSection': 697,\n",
       "     'offsetInEndSection': 815,\n",
       "     'beginSection': 'abstract',\n",
       "     'endSection': 'abstract'},\n",
       "    {'document': 'http://www.ncbi.nlm.nih.gov/pubmed/9037112',\n",
       "     'text': 'RNA polymerase II contains a ribonuclease activity which is stimulated by the transcription elongation factor SII.',\n",
       "     'offsetInBeginSection': 0,\n",
       "     'offsetInEndSection': 114,\n",
       "     'beginSection': 'abstract',\n",
       "     'endSection': 'abstract'},\n",
       "    {'document': 'http://www.ncbi.nlm.nih.gov/pubmed/8090778',\n",
       "     'text': 'By site-directed mutagenesis, we have demonstrated that invariant residues Asp-261 and Glu-262 of the nucleic acid-binding TFIIS Zn ribbon are critical for stimulation of both elongation and RNA cleavage activities of RNA polymerase II.',\n",
       "     'offsetInBeginSection': 159,\n",
       "     'offsetInEndSection': 395,\n",
       "     'beginSection': 'abstract',\n",
       "     'endSection': 'abstract'},\n",
       "    {'document': 'http://www.ncbi.nlm.nih.gov/pubmed/17535246',\n",
       "     'text': 'The transcription elongation factor S-II, also designated TFIIS, stimulates the nascent transcript cleavage activity intrinsic to RNA polymerase II.',\n",
       "     'offsetInBeginSection': 0,\n",
       "     'offsetInEndSection': 148,\n",
       "     'beginSection': 'abstract',\n",
       "     'endSection': 'abstract'},\n",
       "    {'document': 'http://www.ncbi.nlm.nih.gov/pubmed/10777522',\n",
       "     'text': \"In the presence of TFS, the cleavage activity of the RNA polymerase truncates the RNA back to position +15 by releasing mainly dinucleotides from the 3'-end of the nascent RNA.\",\n",
       "     'offsetInBeginSection': 600,\n",
       "     'offsetInEndSection': 776,\n",
       "     'beginSection': 'abstract',\n",
       "     'endSection': 'abstract'}]},\n",
       "  {'id': '5a4e1882966455904c00000f',\n",
       "   'body': 'Is there a sequence bias in MNase digestion patterns?',\n",
       "   'documents': ['http://www.ncbi.nlm.nih.gov/pubmed/29212533',\n",
       "    'http://www.ncbi.nlm.nih.gov/pubmed/26080409',\n",
       "    'http://www.ncbi.nlm.nih.gov/pubmed/21206756',\n",
       "    'http://www.ncbi.nlm.nih.gov/pubmed/22559821',\n",
       "    'http://www.ncbi.nlm.nih.gov/pubmed/30304369',\n",
       "    'http://www.ncbi.nlm.nih.gov/pubmed/23458408',\n",
       "    'http://www.ncbi.nlm.nih.gov/pubmed/22183607',\n",
       "    'http://www.ncbi.nlm.nih.gov/pubmed/29893974',\n",
       "    'http://www.ncbi.nlm.nih.gov/pubmed/22310051',\n",
       "    'http://www.ncbi.nlm.nih.gov/pubmed/3097328'],\n",
       "   'snippets': [{'document': 'http://www.ncbi.nlm.nih.gov/pubmed/23458408',\n",
       "     'text': \"Here, we show that the MNase digestion of nucleosomes assembled on a strong nucleosome positioning sequence, Widom's clone 601, releases nucleosome cores whose sizes are strongly affected by the linker DNA sequence.\",\n",
       "     'offsetInBeginSection': 188,\n",
       "     'offsetInEndSection': 403,\n",
       "     'beginSection': 'abstract',\n",
       "     'endSection': 'abstract'},\n",
       "    {'document': 'http://www.ncbi.nlm.nih.gov/pubmed/26080409',\n",
       "     'text': 'In addition, unlike MNase, MPE-Fe(II) cleaves nuclear DNA with little sequence bias.',\n",
       "     'offsetInBeginSection': 1127,\n",
       "     'offsetInEndSection': 1211,\n",
       "     'beginSection': 'abstract',\n",
       "     'endSection': 'abstract'},\n",
       "    {'document': 'http://www.ncbi.nlm.nih.gov/pubmed/29073207',\n",
       "     'text': 'Here, we established a gel-based method to map nucleosome positions in Saccharomyces cerevisiae, using isolated nuclei as the substrate for the histone H4 S47C-site-directed chemical cleavage in parallel with MNase digestion.',\n",
       "     'offsetInBeginSection': 414,\n",
       "     'offsetInEndSection': 639,\n",
       "     'beginSection': 'abstract',\n",
       "     'endSection': 'abstract'},\n",
       "    {'document': 'http://www.ncbi.nlm.nih.gov/pubmed/23458408',\n",
       "     'text': 'We propose that combined MNase/exoIII digestion can be applied to in situ chromatin for unbiased genome-wide mapping of nucleosome positions that is not influenced by DNA sequences at the core/linker junctions.',\n",
       "     'offsetInBeginSection': 1000,\n",
       "     'offsetInEndSection': 1210,\n",
       "     'beginSection': 'abstract',\n",
       "     'endSection': 'abstract'},\n",
       "    {'document': 'http://www.ncbi.nlm.nih.gov/pubmed/23458408',\n",
       "     'text': 'Remarkably, we found that a combined treatment with MNase and exonuclease III (exoIII) overcomes MNase sequence preference producing nucleosomal DNA trimmed symmetrically and precisely at the core/linker junctions regardless of the underlying DNA sequence.',\n",
       "     'offsetInBeginSection': 743,\n",
       "     'offsetInEndSection': 999,\n",
       "     'beginSection': 'abstract',\n",
       "     'endSection': 'abstract'},\n",
       "    {'document': 'http://www.ncbi.nlm.nih.gov/pubmed/29052192',\n",
       "     'text': 'Here we illustrate how to profile nucleosome occupancy at genome-wide scale using micrococcal nuclease (MNase) digestion combined with high throughput Illumina sequencing (MNase-seq).',\n",
       "     'offsetInBeginSection': 228,\n",
       "     'offsetInEndSection': 411,\n",
       "     'beginSection': 'abstract',\n",
       "     'endSection': 'abstract'},\n",
       "    {'document': 'http://www.ncbi.nlm.nih.gov/pubmed/22559821',\n",
       "     'text': 'Signal variation in these simulations reveals an important DNA sampling bias that results from a neighborhood effect of MNase digestion techniques.',\n",
       "     'offsetInBeginSection': 1067,\n",
       "     'offsetInEndSection': 1214,\n",
       "     'beginSection': 'abstract',\n",
       "     'endSection': 'abstract'},\n",
       "    {'document': 'http://www.ncbi.nlm.nih.gov/pubmed/22183607',\n",
       "     'text': 'Short sequence reads (25-36 bp) from ends of mononucleosome-sized DNA generated from MNase digestion of chromatin can be determined using next-generation sequencing techniques.',\n",
       "     'offsetInBeginSection': 286,\n",
       "     'offsetInEndSection': 462,\n",
       "     'beginSection': 'abstract',\n",
       "     'endSection': 'abstract'},\n",
       "    {'document': 'http://www.ncbi.nlm.nih.gov/pubmed/22559821',\n",
       "     'text': 'To determine nucleosome organization genome-wide, DNA remaining from MNase digestion is sequenced using high-throughput sequencing technologies (MNase-seq).',\n",
       "     'offsetInBeginSection': 476,\n",
       "     'offsetInEndSection': 632,\n",
       "     'beginSection': 'abstract',\n",
       "     'endSection': 'abstract'},\n",
       "    {'document': 'http://www.ncbi.nlm.nih.gov/pubmed/1988681',\n",
       "     'text': 'During erythropoiesis, the gene acquires a distinct structure that, upon digestion with micrococcal nuclease (MNase) yields an unusual repeat.',\n",
       "     'offsetInBeginSection': 517,\n",
       "     'offsetInEndSection': 659,\n",
       "     'beginSection': 'abstract',\n",
       "     'endSection': 'abstract'}]},\n",
       "  {'id': '5a4e50b242878bf97d000001',\n",
       "   'body': 'Which topoisomerase is essential in yeast?',\n",
       "   'documents': ['http://www.ncbi.nlm.nih.gov/pubmed/2842762',\n",
       "    'http://www.ncbi.nlm.nih.gov/pubmed/11350066',\n",
       "    'http://www.ncbi.nlm.nih.gov/pubmed/1332607',\n",
       "    'http://www.ncbi.nlm.nih.gov/pubmed/16364307',\n",
       "    'http://www.ncbi.nlm.nih.gov/pubmed/9559802',\n",
       "    'http://www.ncbi.nlm.nih.gov/pubmed/11353773',\n",
       "    'http://www.ncbi.nlm.nih.gov/pubmed/8710863',\n",
       "    'http://www.ncbi.nlm.nih.gov/pubmed/2989818',\n",
       "    'http://www.ncbi.nlm.nih.gov/pubmed/9025779',\n",
       "    'http://www.ncbi.nlm.nih.gov/pubmed/15123716'],\n",
       "   'snippets': [{'document': 'http://www.ncbi.nlm.nih.gov/pubmed/2842762',\n",
       "     'text': 'Since DNA topoisomerase II (EC 5.99.1.3) is an essential enzyme in yeast, heterologous topoisomerase II gene expression in yeast cells can provide a system for analyzing the structure and function of topoisomerase II genes from other species.',\n",
       "     'offsetInBeginSection': 0,\n",
       "     'offsetInEndSection': 242,\n",
       "     'beginSection': 'abstract',\n",
       "     'endSection': 'abstract'},\n",
       "    {'document': 'http://www.ncbi.nlm.nih.gov/pubmed/6323017',\n",
       "     'text': 'Disruption of one copy of the gene in a diploid yeast creates a recessive lethal mutation, indicating that the single DNA topoisomerase II gene of yeast has an essential function.',\n",
       "     'offsetInBeginSection': 687,\n",
       "     'offsetInEndSection': 866,\n",
       "     'beginSection': 'abstract',\n",
       "     'endSection': 'abstract'},\n",
       "    {'document': 'http://www.ncbi.nlm.nih.gov/pubmed/1332607',\n",
       "     'text': 'The gene encoding topoisomerase II in yeast is unique and essential, required for both mitotic and meiotic proliferation.',\n",
       "     'offsetInBeginSection': 0,\n",
       "     'offsetInEndSection': 121,\n",
       "     'beginSection': 'abstract',\n",
       "     'endSection': 'abstract'},\n",
       "    {'document': 'http://www.ncbi.nlm.nih.gov/pubmed/6323017',\n",
       "     'text': 'The gene TOP2 encoding yeast topoisomerase II has been cloned by immunological screening of a yeast genomic library constructed in the phage lambda expression vector, lambda gt11.',\n",
       "     'offsetInBeginSection': 0,\n",
       "     'offsetInEndSection': 179,\n",
       "     'beginSection': 'abstract',\n",
       "     'endSection': 'abstract'},\n",
       "    {'document': 'http://www.ncbi.nlm.nih.gov/pubmed/2989818',\n",
       "     'text': 'Seven top1 (mak1) mutants including gene disruptions are viable, demonstrating that DNA topoisomerase I is not essential for viability in yeast.',\n",
       "     'offsetInBeginSection': 270,\n",
       "     'offsetInEndSection': 414,\n",
       "     'beginSection': 'abstract',\n",
       "     'endSection': 'abstract'},\n",
       "    {'document': 'http://www.ncbi.nlm.nih.gov/pubmed/2840207',\n",
       "     'text': 'Studies with yeast DNA topoisomerase mutants indicate that neither topoisomerase I nor II appears to be essential for transcription by RNA polymerase II.',\n",
       "     'offsetInBeginSection': 0,\n",
       "     'offsetInEndSection': 153,\n",
       "     'beginSection': 'abstract',\n",
       "     'endSection': 'abstract'},\n",
       "    {'document': 'http://www.ncbi.nlm.nih.gov/pubmed/10497270',\n",
       "     'text': 'We have identified a gene in the fission yeast Schizosaccharomyces pombe, designated top3 (+), which shows significant sequence similarity to genes encoding topoisomerase III enzymes in other eukaryotic species.',\n",
       "     'offsetInBeginSection': 254,\n",
       "     'offsetInEndSection': 465,\n",
       "     'beginSection': 'abstract',\n",
       "     'endSection': 'abstract'},\n",
       "    {'document': 'http://www.ncbi.nlm.nih.gov/pubmed/10075939',\n",
       "     'text': \"Yeast cells mutant for TOP3, the gene encoding the evolutionary conserved type I-5' topoisomerase, display a wide range of phenotypes including altered cell cycle, hyper-recombination, abnormal gene expression, poor mating, chromosome instability and absence of sporulation.\",\n",
       "     'offsetInBeginSection': 0,\n",
       "     'offsetInEndSection': 274,\n",
       "     'beginSection': 'abstract',\n",
       "     'endSection': 'abstract'},\n",
       "    {'document': 'http://www.ncbi.nlm.nih.gov/pubmed/2842762',\n",
       "     'text': 'Expression of the functional form of Drosophila topoisomerase II cDNA can complement conditionally lethal, temperature-sensitive mutations in the yeast topoisomerase II gene (TOP2), as well as mutations in which the TOP2 locus was disrupted.',\n",
       "     'offsetInBeginSection': 450,\n",
       "     'offsetInEndSection': 691,\n",
       "     'beginSection': 'abstract',\n",
       "     'endSection': 'abstract'},\n",
       "    {'document': 'http://www.ncbi.nlm.nih.gov/pubmed/2989818',\n",
       "     'text': 'The structural gene for yeast DNA topoisomerase I (TOP1) has been cloned from two yeast genomic plasmid banks.',\n",
       "     'offsetInBeginSection': 0,\n",
       "     'offsetInEndSection': 110,\n",
       "     'beginSection': 'abstract',\n",
       "     'endSection': 'abstract'}]},\n",
       "  {'id': '5a82fc89faa1ab7d2e000028',\n",
       "   'body': 'Which yeast nucleosomes are preferentially marked by H2A.Z?',\n",
       "   'documents': ['http://www.ncbi.nlm.nih.gov/pubmed/30091702',\n",
       "    'http://www.ncbi.nlm.nih.gov/pubmed/24613878',\n",
       "    'http://www.ncbi.nlm.nih.gov/pubmed/17671089',\n",
       "    'http://www.ncbi.nlm.nih.gov/pubmed/32537667',\n",
       "    'http://www.ncbi.nlm.nih.gov/pubmed/32490565',\n",
       "    'http://www.ncbi.nlm.nih.gov/pubmed/21266479',\n",
       "    'http://www.ncbi.nlm.nih.gov/pubmed/22493515',\n",
       "    'http://www.ncbi.nlm.nih.gov/pubmed/20079334',\n",
       "    'http://www.ncbi.nlm.nih.gov/pubmed/16248679',\n",
       "    'http://www.ncbi.nlm.nih.gov/pubmed/32663283'],\n",
       "   'snippets': [{'document': 'http://www.ncbi.nlm.nih.gov/pubmed/21187892',\n",
       "     'text': 'The almost perfect colocalisation of H2A.Z with H3K9ac and H3K4me3 suggests that these marks are preferentially deposited on H2A.Z-containing nucleosomes.',\n",
       "     'offsetInBeginSection': 899,\n",
       "     'offsetInEndSection': 1053,\n",
       "     'beginSection': 'abstract',\n",
       "     'endSection': 'abstract'},\n",
       "    {'document': 'http://www.ncbi.nlm.nih.gov/pubmed/26974124',\n",
       "     'text': 'Histone variant H2A.Z, a universal mark of dynamic nucleosomes flanking gene promoters and enhancers, is incorporated into chromatin by SRCAP (SWR1), an ATP-dependent, multicomponent chromatin-remodeling complex.',\n",
       "     'offsetInBeginSection': 0,\n",
       "     'offsetInEndSection': 212,\n",
       "     'beginSection': 'abstract',\n",
       "     'endSection': 'abstract'},\n",
       "    {'document': 'http://www.ncbi.nlm.nih.gov/pubmed/26974124',\n",
       "     'text': 'Importantly, this domain is essential for deposition of budding yeast H2A.Z in vivo and SRCAP (SWR1)-catalyzed histone H2A.Z replacement in vitro.',\n",
       "     'offsetInBeginSection': 720,\n",
       "     'offsetInEndSection': 866,\n",
       "     'beginSection': 'abstract',\n",
       "     'endSection': 'abstract'},\n",
       "    {'document': 'http://www.ncbi.nlm.nih.gov/pubmed/21266479',\n",
       "     'text': 'On a prototype gene, yeast SUP4, chromatin remodeler RSC and FACT regulate its transcription through novel mechanisms, wherein the two gene-flanking nucleosomes containing H2A.Z, play different roles.',\n",
       "     'offsetInBeginSection': 350,\n",
       "     'offsetInEndSection': 550,\n",
       "     'beginSection': 'abstract',\n",
       "     'endSection': 'abstract'},\n",
       "    {'document': 'http://www.ncbi.nlm.nih.gov/pubmed/26116819',\n",
       "     'text': 'The chromatin remodeler SWR1 mediates site-specific incorporation of H2A.Z by a multi-step histone replacement reaction, evicting histone H2A-H2B from the canonical nucleosome and depositing the H2A.Z-H2B dimer.',\n",
       "     'offsetInBeginSection': 125,\n",
       "     'offsetInEndSection': 336,\n",
       "     'beginSection': 'abstract',\n",
       "     'endSection': 'abstract'},\n",
       "    {'document': 'http://www.ncbi.nlm.nih.gov/pubmed/21266479',\n",
       "     'text': \"Histone variant H2A.Z is found in nucleosomes at the 5'-end of many genes.\",\n",
       "     'offsetInBeginSection': 128,\n",
       "     'offsetInEndSection': 202,\n",
       "     'beginSection': 'abstract',\n",
       "     'endSection': 'abstract'},\n",
       "    {'document': 'http://www.ncbi.nlm.nih.gov/pubmed/24613878',\n",
       "     'text': 'The chromatin deposition of H2A.Z is specifically catalyzed by the yeast chromatin remodeling complex SWR1 and its mammalian counterpart SRCAP.',\n",
       "     'offsetInBeginSection': 60,\n",
       "     'offsetInEndSection': 203,\n",
       "     'beginSection': 'abstract',\n",
       "     'endSection': 'abstract'},\n",
       "    {'document': 'http://www.ncbi.nlm.nih.gov/pubmed/24613878',\n",
       "     'text': 'Anp32e preferentially associates with H2A.Z-H2B dimers rather than H2A-H2B dimers in vitro and in vivo and dissociates non-nucleosomal aggregates formed by DNA and H2A-H2B.',\n",
       "     'offsetInBeginSection': 402,\n",
       "     'offsetInEndSection': 574,\n",
       "     'beginSection': 'abstract',\n",
       "     'endSection': 'abstract'},\n",
       "    {'document': 'http://www.ncbi.nlm.nih.gov/pubmed/18268003',\n",
       "     'text': 'It is marked with the histone variant H2A.Z and H4K16 acetylation in active state.',\n",
       "     'offsetInBeginSection': 846,\n",
       "     'offsetInEndSection': 928,\n",
       "     'beginSection': 'abstract',\n",
       "     'endSection': 'abstract'},\n",
       "    {'document': 'http://www.ncbi.nlm.nih.gov/pubmed/17671089',\n",
       "     'text': 'H2A.Z is deposited at these loci by an ATP-dependent complex, Swr1.com.',\n",
       "     'offsetInBeginSection': 146,\n",
       "     'offsetInEndSection': 217,\n",
       "     'beginSection': 'abstract',\n",
       "     'endSection': 'abstract'}]},\n",
       "  {'id': '5a855585faa1ab7d2e000029',\n",
       "   'body': 'What is the origin of XUT transcripts in yeast?',\n",
       "   'documents': ['http://www.ncbi.nlm.nih.gov/pubmed/26805575',\n",
       "    'http://www.ncbi.nlm.nih.gov/pubmed/28557013',\n",
       "    'http://www.ncbi.nlm.nih.gov/pubmed/30033663',\n",
       "    'http://www.ncbi.nlm.nih.gov/pubmed/18631377',\n",
       "    'http://www.ncbi.nlm.nih.gov/pubmed/16363644',\n",
       "    'http://www.ncbi.nlm.nih.gov/pubmed/15230154',\n",
       "    'http://www.ncbi.nlm.nih.gov/pubmed/21664602',\n",
       "    'http://www.ncbi.nlm.nih.gov/pubmed/12636873',\n",
       "    'http://www.ncbi.nlm.nih.gov/pubmed/30588496',\n",
       "    'http://www.ncbi.nlm.nih.gov/pubmed/9493348'],\n",
       "   'snippets': [{'document': 'http://www.ncbi.nlm.nih.gov/pubmed/21421781',\n",
       "     'text': 'This study reports the first molecular characterization of the annotated XUT genes of Scheffersomyces stipitis and open reading frames from the yeasts Yarrowia lipolytica and Debaryomyces hansenii.',\n",
       "     'offsetInBeginSection': 1041,\n",
       "     'offsetInEndSection': 1238,\n",
       "     'beginSection': 'abstract',\n",
       "     'endSection': 'abstract'},\n",
       "    {'document': 'http://www.ncbi.nlm.nih.gov/pubmed/26184436',\n",
       "     'text': 'Three proteins phylogenetically grouped with proteins from the T7 replisome localize to yeast mitochondria: DNA polymerase γ (Mip1), mitochondrial RNA polymerase (Rpo41), and a single-stranded binding protein (Rim1).',\n",
       "     'offsetInBeginSection': 0,\n",
       "     'offsetInEndSection': 217,\n",
       "     'beginSection': 'abstract',\n",
       "     'endSection': 'abstract'},\n",
       "    {'document': 'http://www.ncbi.nlm.nih.gov/pubmed/20962350',\n",
       "     'text': 'DNA replication origins are licensed in early G(1) phase of the cell cycle where the origin recognition complex (ORC) recruits the minichromosome maintenance (MCM) helicase to origins.',\n",
       "     'offsetInBeginSection': 0,\n",
       "     'offsetInEndSection': 184,\n",
       "     'beginSection': 'abstract',\n",
       "     'endSection': 'abstract'},\n",
       "    {'document': 'http://www.ncbi.nlm.nih.gov/pubmed/26805575',\n",
       "     'text': 'Antisense long non-coding (aslnc)RNAs represent a\\xa0substantial part of eukaryotic transcriptomes that are, in yeast, controlled by the Xrn1 exonuclease.',\n",
       "     'offsetInBeginSection': 0,\n",
       "     'offsetInEndSection': 152,\n",
       "     'beginSection': 'abstract',\n",
       "     'endSection': 'abstract'},\n",
       "    {'document': 'http://www.ncbi.nlm.nih.gov/pubmed/21697827',\n",
       "     'text': 'Furthermore, abolishing H3K4me3 triggers the silencing of other genes with antisense XUTs, supporting a model in which H3K4me3 antagonizes antisense ncRNA repressive activity.',\n",
       "     'offsetInBeginSection': 1465,\n",
       "     'offsetInEndSection': 1640,\n",
       "     'beginSection': 'abstract',\n",
       "     'endSection': 'abstract'},\n",
       "    {'document': 'http://www.ncbi.nlm.nih.gov/pubmed/21697827',\n",
       "     'text': 'Large ncRNAs interact with histone modifiers and are involved in cancer development, X-chromosome inactivation and autosomal gene imprinting.',\n",
       "     'offsetInBeginSection': 143,\n",
       "     'offsetInEndSection': 284,\n",
       "     'beginSection': 'abstract',\n",
       "     'endSection': 'abstract'},\n",
       "    {'document': 'http://www.ncbi.nlm.nih.gov/pubmed/26805575',\n",
       "     'text': 'Indeed, expression of anticomplementary transcripts protects cryptic intergenic lncRNAs from NMD.',\n",
       "     'offsetInBeginSection': 813,\n",
       "     'offsetInEndSection': 910,\n",
       "     'beginSection': 'abstract',\n",
       "     'endSection': 'abstract'},\n",
       "    {'document': 'http://www.ncbi.nlm.nih.gov/pubmed/21697827',\n",
       "     'text': 'Notably, RNAPII chromatin immunoprecipitation followed by DNA sequencing (ChIP-seq) analysis of Xrn1-deficient strains revealed a significant decrease of RNAPII occupancy over 273 genes with antisense XUTs.',\n",
       "     'offsetInBeginSection': 1132,\n",
       "     'offsetInEndSection': 1338,\n",
       "     'beginSection': 'abstract',\n",
       "     'endSection': 'abstract'},\n",
       "    {'document': 'http://www.ncbi.nlm.nih.gov/pubmed/21697827',\n",
       "     'text': 'Here, using strand-specific RNA sequencing (RNA-seq), we identify a novel class of 1,658 Xrn1-sensitive unstable transcripts (XUTs) in which 66% are antisense to open reading frames.',\n",
       "     'offsetInBeginSection': 706,\n",
       "     'offsetInEndSection': 888,\n",
       "     'beginSection': 'abstract',\n",
       "     'endSection': 'abstract'},\n",
       "    {'document': 'http://www.ncbi.nlm.nih.gov/pubmed/12844360',\n",
       "     'text': 'A large fraction of yeast nuclear transcripts known to encode mitochondrial proteins is found in mitochondrial outer-membrane-bound fractions.',\n",
       "     'offsetInBeginSection': 677,\n",
       "     'offsetInEndSection': 819,\n",
       "     'beginSection': 'abstract',\n",
       "     'endSection': 'abstract'}]},\n",
       "  {'id': '5a859184faa1ab7d2e000031',\n",
       "   'body': 'How are cryptic unstable transcripts (CUTs) defined?',\n",
       "   'documents': ['http://www.ncbi.nlm.nih.gov/pubmed/21863483',\n",
       "    'http://www.ncbi.nlm.nih.gov/pubmed/19169244',\n",
       "    'http://www.ncbi.nlm.nih.gov/pubmed/18022358',\n",
       "    'http://www.ncbi.nlm.nih.gov/pubmed/18660821',\n",
       "    'http://www.ncbi.nlm.nih.gov/pubmed/19169243',\n",
       "    'http://www.ncbi.nlm.nih.gov/pubmed/18775327',\n",
       "    'http://www.ncbi.nlm.nih.gov/pubmed/16973436',\n",
       "    'http://www.ncbi.nlm.nih.gov/pubmed/21826286',\n",
       "    'http://www.ncbi.nlm.nih.gov/pubmed/27492286',\n",
       "    'http://www.ncbi.nlm.nih.gov/pubmed/29914874'],\n",
       "   'snippets': [{'document': 'http://www.ncbi.nlm.nih.gov/pubmed/27113450',\n",
       "     'text': 'BACKGROUND Cryptic unstable transcripts (CUTs) are a largely unexplored class of nuclear exosome degraded, non-coding RNAs in budding yeast.',\n",
       "     'offsetInBeginSection': 0,\n",
       "     'offsetInEndSection': 140,\n",
       "     'beginSection': 'abstract',\n",
       "     'endSection': 'abstract'},\n",
       "    {'document': 'http://www.ncbi.nlm.nih.gov/pubmed/18775327',\n",
       "     'text': 'Cryptic unstable transcripts (CUTs) are generated by RNA polymerase II (Pol II) and rapidly degraded after transcription in wild-type yeast cells.',\n",
       "     'offsetInBeginSection': 129,\n",
       "     'offsetInEndSection': 275,\n",
       "     'beginSection': 'abstract',\n",
       "     'endSection': 'abstract'},\n",
       "    {'document': 'http://www.ncbi.nlm.nih.gov/pubmed/18022358',\n",
       "     'text': 'There is extensive transcription throughout the eukaryotic genome resulting in both antisense transcripts from coding regions and cryptic unstable transcripts (CUTs) from intergenic regions.',\n",
       "     'offsetInBeginSection': 0,\n",
       "     'offsetInEndSection': 190,\n",
       "     'beginSection': 'abstract',\n",
       "     'endSection': 'abstract'},\n",
       "    {'document': 'http://www.ncbi.nlm.nih.gov/pubmed/16973436',\n",
       "     'text': 'These cryptic unstable transcripts (CUTs) are rapidly degraded by the nuclear exosome.',\n",
       "     'offsetInBeginSection': 118,\n",
       "     'offsetInEndSection': 204,\n",
       "     'beginSection': 'abstract',\n",
       "     'endSection': 'abstract'},\n",
       "    {'document': 'http://www.ncbi.nlm.nih.gov/pubmed/18316478',\n",
       "     'text': 'Cryptic unstable transcripts (CUTs) are synthesized from intra- and intergenic regions in Saccharomyces cerevisiae and are rapidly degraded by RNA surveillance pathways, but their function(s) remain(s) elusive.',\n",
       "     'offsetInBeginSection': 0,\n",
       "     'offsetInEndSection': 210,\n",
       "     'beginSection': 'abstract',\n",
       "     'endSection': 'abstract'},\n",
       "    {'document': 'http://www.ncbi.nlm.nih.gov/pubmed/22567365',\n",
       "     'text': 'Most of these ncRNAs (ncRNAs) are subject to termination by the Nrd1-dependent pathway and rapid degradation by the nuclear exosome and have been dubbed cryptic unstable transcripts (CUTs).',\n",
       "     'offsetInBeginSection': 189,\n",
       "     'offsetInEndSection': 378,\n",
       "     'beginSection': 'abstract',\n",
       "     'endSection': 'abstract'},\n",
       "    {'document': 'http://www.ncbi.nlm.nih.gov/pubmed/19169244',\n",
       "     'text': 'Cryptic unstable transcripts (CUTs) were recently described as a principal class of RNA polymerase II transcripts in Saccharomyces cerevisiae.',\n",
       "     'offsetInBeginSection': 171,\n",
       "     'offsetInEndSection': 313,\n",
       "     'beginSection': 'abstract',\n",
       "     'endSection': 'abstract'},\n",
       "    {'document': 'http://www.ncbi.nlm.nih.gov/pubmed/18660821',\n",
       "     'text': 'Cryptic unstable transcripts (CUTs) are short, 300-600-nucleotide (nt) RNA polymerase II transcripts that are rapidly degraded by the nuclear RNA exosome in yeast.',\n",
       "     'offsetInBeginSection': 0,\n",
       "     'offsetInEndSection': 163,\n",
       "     'beginSection': 'abstract',\n",
       "     'endSection': 'abstract'},\n",
       "    {'document': 'http://www.ncbi.nlm.nih.gov/pubmed/21863483',\n",
       "     'text': 'Cryptic unstable transcripts (CUTs) have been recently described as a major class of non-coding RNAs.',\n",
       "     'offsetInBeginSection': 0,\n",
       "     'offsetInEndSection': 101,\n",
       "     'beginSection': 'abstract',\n",
       "     'endSection': 'abstract'},\n",
       "    {'document': 'http://www.ncbi.nlm.nih.gov/pubmed/16973437',\n",
       "     'text': 'Cryptic unstable transcripts (CUTs) are widely distributed in the genome of S. cerevisiae.',\n",
       "     'offsetInBeginSection': 0,\n",
       "     'offsetInEndSection': 90,\n",
       "     'beginSection': 'abstract',\n",
       "     'endSection': 'abstract'}]}]}"
      ]
     },
     "execution_count": 19,
     "metadata": {},
     "output_type": "execute_result"
    }
   ],
   "source": [
    "submission"
   ]
  },
  {
   "cell_type": "raw",
   "id": "8e549371",
   "metadata": {},
   "source": [
    "bm25\n",
    "Document Scores [0.18599999999999997, 0.43153159340659336, 0.21292523884970727, 0.11427063492063488, 0.011824938688881879]\n",
    "faiss\n",
    "Document Scores [0.20171428571428568, 0.4139332473082473, 0.22038243131130628, 0.10056031746031742, 0.014037320743226004]\n",
    "Passage Scores [0.21269651172236054, 0.25011684801025924, 0.19239072397187112, 0.16589622913215266, 0.011068641301611446]"
   ]
  },
  {
   "cell_type": "code",
   "execution_count": 95,
   "id": "edeb9550",
   "metadata": {},
   "outputs": [
    {
     "data": {
      "text/plain": [
       "<Axes: ylabel='Density'>"
      ]
     },
     "execution_count": 95,
     "metadata": {},
     "output_type": "execute_result"
    },
    {
     "data": {
      "image/png": "[encoded data removed]",
      "text/plain": [
       "<Figure size 640x480 with 1 Axes>"
      ]
     },
     "metadata": {},
     "output_type": "display_data"
    }
   ],
   "source": [
    "import seaborn as sns\n",
    "\n",
    "sns.distplot(scores)"
   ]
  },
  {
   "cell_type": "code",
   "execution_count": null,
   "id": "2f25e125",
   "metadata": {},
   "outputs": [],
   "source": []
  },
  {
   "cell_type": "code",
   "execution_count": null,
   "id": "107bd293",
   "metadata": {},
   "outputs": [],
   "source": []
  },
  {
   "cell_type": "code",
   "execution_count": null,
   "id": "dc97056d",
   "metadata": {},
   "outputs": [],
   "source": []
  },
  {
   "cell_type": "code",
   "execution_count": null,
   "id": "cbc1f979",
   "metadata": {},
   "outputs": [],
   "source": []
  },
  {
   "cell_type": "code",
   "execution_count": null,
   "id": "7cd61655",
   "metadata": {},
   "outputs": [],
   "source": []
  },
  {
   "cell_type": "code",
   "execution_count": null,
   "id": "31a44354",
   "metadata": {},
   "outputs": [],
   "source": []
  },
  {
   "cell_type": "code",
   "execution_count": null,
   "id": "8729fd71",
   "metadata": {},
   "outputs": [],
   "source": []
  },
  {
   "cell_type": "code",
   "execution_count": null,
   "id": "79e5f858",
   "metadata": {},
   "outputs": [],
   "source": []
  },
  {
   "cell_type": "code",
   "execution_count": null,
   "id": "69c4307a",
   "metadata": {},
   "outputs": [],
   "source": []
  },
  {
   "cell_type": "code",
   "execution_count": null,
   "id": "579cdef2",
   "metadata": {},
   "outputs": [],
   "source": [
    "# create the retriever\n",
    "bm25_retriever = BioASQ_Retriever(document_store = document_store)\n",
    "# create the Query Pipeline\n",
    "pipeline = Pipeline()\n",
    "pipeline.add_node(component=retriever, name=\"Retriever\", inputs=[\"Query\"])\n",
    "prediction = pipeline.run(query=\"covid\", params={\"Retriever\": {\"top_k\": 100}})\n",
    "# predict\n",
    "print([p.id for p in prediction['documents']])"
   ]
  },
  {
   "cell_type": "code",
   "execution_count": 60,
   "id": "c5c56cb8",
   "metadata": {},
   "outputs": [],
   "source": [
    "q = 'what is covid'\n",
    "docs = bm25_retriever.retrieve(q, top_k = 100)"
   ]
  },
  {
   "cell_type": "code",
   "execution_count": 61,
   "id": "9529e018",
   "metadata": {},
   "outputs": [
    {
     "data": {
      "text/plain": [
       "100"
      ]
     },
     "execution_count": 61,
     "metadata": {},
     "output_type": "execute_result"
    }
   ],
   "source": [
    "len(docs)"
   ]
  },
  {
   "cell_type": "code",
   "execution_count": 62,
   "id": "1c5a8c5a",
   "metadata": {},
   "outputs": [
    {
     "data": {
      "application/vnd.jupyter.widget-view+json": {
       "model_id": "c3517860717a406aaee040a48cda125c",
       "version_major": 2,
       "version_minor": 0
      },
      "text/plain": [
       "Writing Documents:   0%|          | 0/100 [00:00<?, ?it/s]"
      ]
     },
     "metadata": {},
     "output_type": "display_data"
    }
   ],
   "source": [
    "faiss_ds.delete_documents()\n",
    "faiss_ds.write_documents(docs)"
   ]
  },
  {
   "cell_type": "code",
   "execution_count": 68,
   "id": "16732bc5",
   "metadata": {},
   "outputs": [
    {
     "name": "stderr",
     "output_type": "stream",
     "text": [
      "The tokenizer class you load from this checkpoint is not the same type as the class this function is called from. It may result in unexpected tokenization. \n",
      "The tokenizer class you load from this checkpoint is 'DPRQuestionEncoderTokenizer'. \n",
      "The class this function is called from is 'DPRContextEncoderTokenizerFast'.\n"
     ]
    },
    {
     "data": {
      "application/vnd.jupyter.widget-view+json": {
       "model_id": "d72ea53f2dad4fd2b02311e8db31efee",
       "version_major": 2,
       "version_minor": 0
      },
      "text/plain": [
       "Updating Embedding:   0%|          | 0/100 [00:00<?, ? docs/s]"
      ]
     },
     "metadata": {},
     "output_type": "display_data"
    },
    {
     "data": {
      "application/vnd.jupyter.widget-view+json": {
       "model_id": "",
       "version_major": 2,
       "version_minor": 0
      },
      "text/plain": [
       "Create embeddings:   0%|          | 0/112 [00:00<?, ? Docs/s]"
      ]
     },
     "metadata": {},
     "output_type": "display_data"
    }
   ],
   "source": [
    "faiss_retriever2 = DensePassageRetriever(\n",
    "    document_store=faiss_ds,\n",
    "    query_embedding_model=\"vblagoje/dpr-question_encoder-single-lfqa-wiki\",\n",
    "    passage_embedding_model=\"vblagoje/dpr-ctx_encoder-single-lfqa-wiki\",\n",
    ")\n",
    "\n",
    "faiss_ds.update_embeddings(faiss_retriever2)"
   ]
  },
  {
   "cell_type": "code",
   "execution_count": 69,
   "id": "59f03255",
   "metadata": {},
   "outputs": [
    {
     "data": {
      "application/vnd.jupyter.widget-view+json": {
       "model_id": "9fa8c89fa7ec443d88d81939b28dde25",
       "version_major": 2,
       "version_minor": 0
      },
      "text/plain": [
       "Updating Embedding:   0%|          | 0/100 [00:00<?, ? docs/s]"
      ]
     },
     "metadata": {},
     "output_type": "display_data"
    },
    {
     "data": {
      "application/vnd.jupyter.widget-view+json": {
       "model_id": "ca5470fb2c21431fb1d80e6c790bdacc",
       "version_major": 2,
       "version_minor": 0
      },
      "text/plain": [
       "Batches:   0%|          | 0/4 [00:00<?, ?it/s]"
      ]
     },
     "metadata": {},
     "output_type": "display_data"
    },
    {
     "ename": "RuntimeError",
     "evalue": "Embedding dimensions of the model (768) don't match the embedding dimensions of the document store (128). Initiate FAISSDocumentStore again with arg embedding_dim=768.",
     "output_type": "error",
     "traceback": [
      "\u001b[0;31m---------------------------------------------------------------------------\u001b[0m",
      "\u001b[0;31mRuntimeError\u001b[0m                              Traceback (most recent call last)",
      "Cell \u001b[0;32mIn[69], line 1\u001b[0m\n\u001b[0;32m----> 1\u001b[0m \u001b[43mfaiss_ds\u001b[49m\u001b[38;5;241;43m.\u001b[39;49m\u001b[43mupdate_embeddings\u001b[49m\u001b[43m(\u001b[49m\u001b[43mfaiss_retriever\u001b[49m\u001b[43m)\u001b[49m\n",
      "File \u001b[0;32m/opt/bioasq/haystack/haystack/document_stores/faiss.py:363\u001b[0m, in \u001b[0;36mFAISSDocumentStore.update_embeddings\u001b[0;34m(self, retriever, index, update_existing_embeddings, filters, batch_size)\u001b[0m\n\u001b[1;32m    361\u001b[0m \u001b[38;5;28;01mfor\u001b[39;00m document_batch \u001b[38;5;129;01min\u001b[39;00m batched_documents:\n\u001b[1;32m    362\u001b[0m     embeddings \u001b[38;5;241m=\u001b[39m retriever\u001b[38;5;241m.\u001b[39membed_documents(document_batch)\n\u001b[0;32m--> 363\u001b[0m     \u001b[38;5;28;43mself\u001b[39;49m\u001b[38;5;241;43m.\u001b[39;49m\u001b[43m_validate_embeddings_shape\u001b[49m\u001b[43m(\u001b[49m\n\u001b[1;32m    364\u001b[0m \u001b[43m        \u001b[49m\u001b[43membeddings\u001b[49m\u001b[38;5;241;43m=\u001b[39;49m\u001b[43membeddings\u001b[49m\u001b[43m,\u001b[49m\u001b[43m \u001b[49m\u001b[43mnum_documents\u001b[49m\u001b[38;5;241;43m=\u001b[39;49m\u001b[38;5;28;43mlen\u001b[39;49m\u001b[43m(\u001b[49m\u001b[43mdocument_batch\u001b[49m\u001b[43m)\u001b[49m\u001b[43m,\u001b[49m\u001b[43m \u001b[49m\u001b[43membedding_dim\u001b[49m\u001b[38;5;241;43m=\u001b[39;49m\u001b[38;5;28;43mself\u001b[39;49m\u001b[38;5;241;43m.\u001b[39;49m\u001b[43membedding_dim\u001b[49m\n\u001b[1;32m    365\u001b[0m \u001b[43m    \u001b[49m\u001b[43m)\u001b[49m\n\u001b[1;32m    367\u001b[0m     \u001b[38;5;28;01mif\u001b[39;00m \u001b[38;5;28mself\u001b[39m\u001b[38;5;241m.\u001b[39msimilarity \u001b[38;5;241m==\u001b[39m \u001b[38;5;124m\"\u001b[39m\u001b[38;5;124mcosine\u001b[39m\u001b[38;5;124m\"\u001b[39m:\n\u001b[1;32m    368\u001b[0m         \u001b[38;5;28mself\u001b[39m\u001b[38;5;241m.\u001b[39mnormalize_embedding(embeddings)\n",
      "File \u001b[0;32m/opt/bioasq/haystack/haystack/document_stores/base.py:717\u001b[0m, in \u001b[0;36mBaseDocumentStore._validate_embeddings_shape\u001b[0;34m(cls, embeddings, num_documents, embedding_dim)\u001b[0m\n\u001b[1;32m    712\u001b[0m     \u001b[38;5;28;01mraise\u001b[39;00m DocumentStoreError(\n\u001b[1;32m    713\u001b[0m         \u001b[38;5;124m\"\u001b[39m\u001b[38;5;124mThe number of embeddings does not match the number of documents: \u001b[39m\u001b[38;5;124m\"\u001b[39m\n\u001b[1;32m    714\u001b[0m         \u001b[38;5;124mf\u001b[39m\u001b[38;5;124m\"\u001b[39m\u001b[38;5;124m(\u001b[39m\u001b[38;5;132;01m{\u001b[39;00mnum_embeddings\u001b[38;5;132;01m}\u001b[39;00m\u001b[38;5;124m != \u001b[39m\u001b[38;5;132;01m{\u001b[39;00mnum_documents\u001b[38;5;132;01m}\u001b[39;00m\u001b[38;5;124m)\u001b[39m\u001b[38;5;124m\"\u001b[39m\n\u001b[1;32m    715\u001b[0m     )\n\u001b[1;32m    716\u001b[0m \u001b[38;5;28;01mif\u001b[39;00m embedding_size \u001b[38;5;241m!=\u001b[39m embedding_dim:\n\u001b[0;32m--> 717\u001b[0m     \u001b[38;5;28;01mraise\u001b[39;00m \u001b[38;5;167;01mRuntimeError\u001b[39;00m(\n\u001b[1;32m    718\u001b[0m         \u001b[38;5;124mf\u001b[39m\u001b[38;5;124m\"\u001b[39m\u001b[38;5;124mEmbedding dimensions of the model (\u001b[39m\u001b[38;5;132;01m{\u001b[39;00membedding_size\u001b[38;5;132;01m}\u001b[39;00m\u001b[38;5;124m) don\u001b[39m\u001b[38;5;124m'\u001b[39m\u001b[38;5;124mt match the embedding dimensions of the document store (\u001b[39m\u001b[38;5;132;01m{\u001b[39;00membedding_dim\u001b[38;5;132;01m}\u001b[39;00m\u001b[38;5;124m). \u001b[39m\u001b[38;5;124m\"\u001b[39m\n\u001b[1;32m    719\u001b[0m         \u001b[38;5;124mf\u001b[39m\u001b[38;5;124m\"\u001b[39m\u001b[38;5;124mInitiate \u001b[39m\u001b[38;5;132;01m{\u001b[39;00m\u001b[38;5;28mcls\u001b[39m\u001b[38;5;241m.\u001b[39m\u001b[38;5;18m__name__\u001b[39m\u001b[38;5;132;01m}\u001b[39;00m\u001b[38;5;124m again with arg embedding_dim=\u001b[39m\u001b[38;5;132;01m{\u001b[39;00membedding_size\u001b[38;5;132;01m}\u001b[39;00m\u001b[38;5;124m.\u001b[39m\u001b[38;5;124m\"\u001b[39m\n\u001b[1;32m    720\u001b[0m     )\n",
      "\u001b[0;31mRuntimeError\u001b[0m: Embedding dimensions of the model (768) don't match the embedding dimensions of the document store (128). Initiate FAISSDocumentStore again with arg embedding_dim=768."
     ]
    }
   ],
   "source": [
    "faiss_ds.update_embeddings(faiss_retriever)"
   ]
  },
  {
   "cell_type": "code",
   "execution_count": 65,
   "id": "8c575eb6",
   "metadata": {},
   "outputs": [
    {
     "data": {
      "text/plain": [
       "100"
      ]
     },
     "execution_count": 65,
     "metadata": {},
     "output_type": "execute_result"
    }
   ],
   "source": [
    "faiss_ds.get_document_count()"
   ]
  },
  {
   "cell_type": "code",
   "execution_count": 66,
   "id": "34a77a80",
   "metadata": {},
   "outputs": [
    {
     "data": {
      "application/vnd.jupyter.widget-view+json": {
       "model_id": "ae66474d83304c3bba464019637a1093",
       "version_major": 2,
       "version_minor": 0
      },
      "text/plain": [
       "Batches:   0%|          | 0/1 [00:00<?, ?it/s]"
      ]
     },
     "metadata": {},
     "output_type": "display_data"
    },
    {
     "ename": "AssertionError",
     "evalue": "",
     "output_type": "error",
     "traceback": [
      "\u001b[0;31m---------------------------------------------------------------------------\u001b[0m",
      "\u001b[0;31mAssertionError\u001b[0m                            Traceback (most recent call last)",
      "Cell \u001b[0;32mIn[66], line 1\u001b[0m\n\u001b[0;32m----> 1\u001b[0m \u001b[43mfaiss_retriever\u001b[49m\u001b[38;5;241;43m.\u001b[39;49m\u001b[43mretrieve\u001b[49m\u001b[43m(\u001b[49m\u001b[43mquery\u001b[49m\u001b[38;5;241;43m=\u001b[39;49m\u001b[43mq\u001b[49m\u001b[43m)\u001b[49m\n",
      "File \u001b[0;32m/opt/bioasq/haystack/haystack/nodes/retriever/dense.py:1664\u001b[0m, in \u001b[0;36mEmbeddingRetriever.retrieve\u001b[0;34m(self, query, filters, top_k, index, headers, scale_score, document_store)\u001b[0m\n\u001b[1;32m   1662\u001b[0m     scale_score \u001b[38;5;241m=\u001b[39m \u001b[38;5;28mself\u001b[39m\u001b[38;5;241m.\u001b[39mscale_score\n\u001b[1;32m   1663\u001b[0m query_emb \u001b[38;5;241m=\u001b[39m \u001b[38;5;28mself\u001b[39m\u001b[38;5;241m.\u001b[39membed_queries(queries\u001b[38;5;241m=\u001b[39m[query])\n\u001b[0;32m-> 1664\u001b[0m documents \u001b[38;5;241m=\u001b[39m \u001b[43mdocument_store\u001b[49m\u001b[38;5;241;43m.\u001b[39;49m\u001b[43mquery_by_embedding\u001b[49m\u001b[43m(\u001b[49m\n\u001b[1;32m   1665\u001b[0m \u001b[43m    \u001b[49m\u001b[43mquery_emb\u001b[49m\u001b[38;5;241;43m=\u001b[39;49m\u001b[43mquery_emb\u001b[49m\u001b[43m[\u001b[49m\u001b[38;5;241;43m0\u001b[39;49m\u001b[43m]\u001b[49m\u001b[43m,\u001b[49m\u001b[43m \u001b[49m\u001b[43mfilters\u001b[49m\u001b[38;5;241;43m=\u001b[39;49m\u001b[43mfilters\u001b[49m\u001b[43m,\u001b[49m\u001b[43m \u001b[49m\u001b[43mtop_k\u001b[49m\u001b[38;5;241;43m=\u001b[39;49m\u001b[43mtop_k\u001b[49m\u001b[43m,\u001b[49m\u001b[43m \u001b[49m\u001b[43mindex\u001b[49m\u001b[38;5;241;43m=\u001b[39;49m\u001b[43mindex\u001b[49m\u001b[43m,\u001b[49m\u001b[43m \u001b[49m\u001b[43mheaders\u001b[49m\u001b[38;5;241;43m=\u001b[39;49m\u001b[43mheaders\u001b[49m\u001b[43m,\u001b[49m\u001b[43m \u001b[49m\u001b[43mscale_score\u001b[49m\u001b[38;5;241;43m=\u001b[39;49m\u001b[43mscale_score\u001b[49m\n\u001b[1;32m   1666\u001b[0m \u001b[43m\u001b[49m\u001b[43m)\u001b[49m\n\u001b[1;32m   1667\u001b[0m \u001b[38;5;28;01mreturn\u001b[39;00m documents\n",
      "File \u001b[0;32m/opt/bioasq/haystack/haystack/document_stores/faiss.py:608\u001b[0m, in \u001b[0;36mFAISSDocumentStore.query_by_embedding\u001b[0;34m(self, query_emb, filters, top_k, index, return_embedding, headers, scale_score)\u001b[0m\n\u001b[1;32m    605\u001b[0m \u001b[38;5;28;01mif\u001b[39;00m \u001b[38;5;28mself\u001b[39m\u001b[38;5;241m.\u001b[39msimilarity \u001b[38;5;241m==\u001b[39m \u001b[38;5;124m\"\u001b[39m\u001b[38;5;124mcosine\u001b[39m\u001b[38;5;124m\"\u001b[39m:\n\u001b[1;32m    606\u001b[0m     \u001b[38;5;28mself\u001b[39m\u001b[38;5;241m.\u001b[39mnormalize_embedding(query_emb)\n\u001b[0;32m--> 608\u001b[0m score_matrix, vector_id_matrix \u001b[38;5;241m=\u001b[39m \u001b[38;5;28;43mself\u001b[39;49m\u001b[38;5;241;43m.\u001b[39;49m\u001b[43mfaiss_indexes\u001b[49m\u001b[43m[\u001b[49m\u001b[43mindex\u001b[49m\u001b[43m]\u001b[49m\u001b[38;5;241;43m.\u001b[39;49m\u001b[43msearch\u001b[49m\u001b[43m(\u001b[49m\u001b[43mquery_emb\u001b[49m\u001b[43m,\u001b[49m\u001b[43m \u001b[49m\u001b[43mtop_k\u001b[49m\u001b[43m)\u001b[49m\n\u001b[1;32m    609\u001b[0m vector_ids_for_query \u001b[38;5;241m=\u001b[39m [\u001b[38;5;28mstr\u001b[39m(vector_id) \u001b[38;5;28;01mfor\u001b[39;00m vector_id \u001b[38;5;129;01min\u001b[39;00m vector_id_matrix[\u001b[38;5;241m0\u001b[39m] \u001b[38;5;28;01mif\u001b[39;00m vector_id \u001b[38;5;241m!=\u001b[39m \u001b[38;5;241m-\u001b[39m\u001b[38;5;241m1\u001b[39m]\n\u001b[1;32m    611\u001b[0m documents \u001b[38;5;241m=\u001b[39m \u001b[38;5;28mself\u001b[39m\u001b[38;5;241m.\u001b[39mget_documents_by_vector_ids(vector_ids_for_query, index\u001b[38;5;241m=\u001b[39mindex)\n",
      "File \u001b[0;32m~/.conda/envs/haystack-py310/lib/python3.10/site-packages/faiss/__init__.py:308\u001b[0m, in \u001b[0;36mhandle_Index.<locals>.replacement_search\u001b[0;34m(self, x, k, D, I)\u001b[0m\n\u001b[1;32m    283\u001b[0m \u001b[38;5;124;03m\"\"\"Find the k nearest neighbors of the set of vectors x in the index.\u001b[39;00m\n\u001b[1;32m    284\u001b[0m \n\u001b[1;32m    285\u001b[0m \u001b[38;5;124;03mParameters\u001b[39;00m\n\u001b[0;32m   (...)\u001b[0m\n\u001b[1;32m    304\u001b[0m \u001b[38;5;124;03m    When not enough results are found, the label is set to -1\u001b[39;00m\n\u001b[1;32m    305\u001b[0m \u001b[38;5;124;03m\"\"\"\u001b[39;00m\n\u001b[1;32m    307\u001b[0m n, d \u001b[38;5;241m=\u001b[39m x\u001b[38;5;241m.\u001b[39mshape\n\u001b[0;32m--> 308\u001b[0m \u001b[38;5;28;01massert\u001b[39;00m d \u001b[38;5;241m==\u001b[39m \u001b[38;5;28mself\u001b[39m\u001b[38;5;241m.\u001b[39md\n\u001b[1;32m    310\u001b[0m \u001b[38;5;28;01massert\u001b[39;00m k \u001b[38;5;241m>\u001b[39m \u001b[38;5;241m0\u001b[39m\n\u001b[1;32m    312\u001b[0m \u001b[38;5;28;01mif\u001b[39;00m D \u001b[38;5;129;01mis\u001b[39;00m \u001b[38;5;28;01mNone\u001b[39;00m:\n",
      "\u001b[0;31mAssertionError\u001b[0m: "
     ]
    }
   ],
   "source": [
    "faiss_retriever.retrieve(query=q)"
   ]
  },
  {
   "cell_type": "code",
   "execution_count": null,
   "id": "ab472ed7",
   "metadata": {},
   "outputs": [],
   "source": []
  },
  {
   "cell_type": "code",
   "execution_count": null,
   "id": "31956730",
   "metadata": {},
   "outputs": [],
   "source": []
  }
 ],
 "metadata": {
  "kernelspec": {
   "display_name": "haystack-py310",
   "language": "python",
   "name": "haystack-py310"
  },
  "language_info": {
   "codemirror_mode": {
    "name": "ipython",
    "version": 3
   },
   "file_extension": ".py",
   "mimetype": "text/x-python",
   "name": "python",
   "nbconvert_exporter": "python",
   "pygments_lexer": "ipython3",
   "version": "3.10.10"
  }
 },
 "nbformat": 4,
 "nbformat_minor": 5
}
