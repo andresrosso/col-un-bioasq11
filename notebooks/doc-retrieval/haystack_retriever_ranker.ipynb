{
 "cells": [
  {
   "cell_type": "code",
   "execution_count": 1,
   "id": "68858912-43d8-4f23-8dc5-0f05ae4aa2b5",
   "metadata": {},
   "outputs": [
    {
     "name": "stdout",
     "output_type": "stream",
     "text": [
      "Home path : /opt/bioasq/col-un-bioasq11\n",
      "Eval path : /opt/bioasq/Evaluation-Measures\n"
     ]
    }
   ],
   "source": [
    "%load_ext autoreload\n",
    "%autoreload 2\n",
    "import os\n",
    "import re\n",
    "import json\n",
    "import copy\n",
    "import sys\n",
    "from tqdm import tqdm\n",
    "from pprint import pprint\n",
    "\n",
    "import matplotlib.pyplot as plt\n",
    "import seaborn as sns\n",
    "\n",
    "import pytrec_eval\n",
    "import numpy as np\n",
    "import pandas as pd\n",
    "from elasticsearch import Elasticsearch\n",
    "from haystack.pipelines import Pipeline\n",
    "from haystack.nodes import BM25Retriever, ElasticsearchRetriever\n",
    "from haystack.document_stores import ElasticsearchDocumentStore\n",
    "from haystack.nodes import BM25Retriever, SentenceTransformersRanker\n",
    "import warnings\n",
    "warnings.filterwarnings('ignore')\n",
    "\n",
    "sys.path.append('../../')\n",
    "import globals\n",
    "from elastic_search_utils import elastic_utils\n",
    "from haystack_utils.retrievers import BioASQ_Retriever\n",
    "import bioasq_eval\n",
    "\n",
    "working_folder = globals.PATH.home + '/data/working_folder'\n",
    "eval_home = globals.PATH.eval_home + '/'\n",
    "gs_google_docs = eval_home + '/examples/aueb_google_docs/aueb_nlp-bioasq6b-submissions/'\n",
    "index_name = globals.BIOASQ.index + 'working_folder'\n",
    "model_id = 'doc_retrieval_test'\n",
    "\n",
    "es = Elasticsearch(globals.ES.server)"
   ]
  },
  {
   "cell_type": "markdown",
   "id": "bc944344-a99a-4b16-8a6e-36d0ec097e48",
   "metadata": {},
   "source": [
    "## Load the test dataset"
   ]
  },
  {
   "cell_type": "code",
   "execution_count": 2,
   "id": "b8cebde7-c381-41c1-931a-d39cc1f8d4b4",
   "metadata": {},
   "outputs": [],
   "source": [
    "#evaluate over aueb documents\n",
    "test_batch_docs = [ #('','8b5_ES_30_full.json')\n",
    "                ('6B1_golden.json', gs_google_docs+'1-aueb-nlp-4.json'),\n",
    "                ('6B2_golden.json', gs_google_docs+'2-aueb-nlp-4.json'),\n",
    "                ('6B3_golden.json', gs_google_docs+'3-aueb-nlp-4.json'),\n",
    "                ('6B4_golden.json', gs_google_docs+'4-aueb-nlp-4.json'),\n",
    "                ('6B5_golden.json', gs_google_docs+'5-aueb-nlp-4.json')\n",
    "               ]"
   ]
  },
  {
   "cell_type": "markdown",
   "id": "28b55672-e980-4295-bc1c-42db330f2b5d",
   "metadata": {},
   "source": [
    "## Create Haystack Document Retrieval Pipeline"
   ]
  },
  {
   "cell_type": "code",
   "execution_count": 5,
   "id": "ff207faf-41db-41c5-aa91-9be5f30b5f49",
   "metadata": {},
   "outputs": [
    {
     "name": "stdout",
     "output_type": "stream",
     "text": [
      "['35805530', '34290652', '33818619', '34622965', '32161968', '32594211', '36260597', '34303669', '32915702', '35144461', '33028754', '34812083', '36040960', '33486531', '36107493', '34266454', '35144622', '36352477', '36062398', '33685285']\n"
     ]
    }
   ],
   "source": [
    "# set document store\n",
    "document_store = ElasticsearchDocumentStore()\n",
    "# create the retriever\n",
    "retriever = BioASQ_Retriever(document_store = document_store)\n",
    "# create the Query Pipeline\n",
    "pipeline = Pipeline()\n",
    "pipeline.add_node(component=retriever, name=\"Retriever\", inputs=[\"Query\"])\n",
    "prediction = pipeline.run(query=\"covid\", params={\"Retriever\": {\"top_k\": 20}})\n",
    "# predict\n",
    "print([p.id for p in prediction['documents']])"
   ]
  },
  {
   "cell_type": "code",
   "execution_count": 11,
   "id": "00cc7cab-3a7d-4d17-a3e1-6ae7e285e2ba",
   "metadata": {},
   "outputs": [
    {
     "name": "stderr",
     "output_type": "stream",
     "text": [
      "100%|█████████████████████████████████████████████████████████████████████████| 100/100 [00:26<00:00,  3.82it/s]\n"
     ]
    },
    {
     "name": "stdout",
     "output_type": "stream",
     "text": [
      "Document Scores [0.18599999999999997, 0.43153159340659336, 0.21292523884970727, 0.11427063492063488, 0.011824938688881879]\n",
      "Passage Scores [0.21269651172236054, 0.25011684801025924, 0.19239072397187112, 0.16589622913215266, 0.011068641301611446]\n"
     ]
    },
    {
     "name": "stderr",
     "output_type": "stream",
     "text": [
      "100%|█████████████████████████████████████████████████████████████████████████| 100/100 [00:27<00:00,  3.64it/s]\n"
     ]
    },
    {
     "name": "stdout",
     "output_type": "stream",
     "text": [
      "Document Scores [0.17499999999999996, 0.41856246566732525, 0.19483745065379593, 0.11053650793650789, 0.009781915786034436]\n",
      "Passage Scores [0.2872636424287026, 0.2146197751178933, 0.18501190236737292, 0.23371072162089984, 0.02310804468883905]\n"
     ]
    },
    {
     "name": "stderr",
     "output_type": "stream",
     "text": [
      "100%|█████████████████████████████████████████████████████████████████████████| 100/100 [00:29<00:00,  3.37it/s]\n"
     ]
    },
    {
     "name": "stdout",
     "output_type": "stream",
     "text": [
      "Document Scores [0.19800000000000006, 0.43640082940539116, 0.2037204740884041, 0.12090436507936503, 0.016996468090491323]\n",
      "Passage Scores [0.26003786059540585, 0.2606508506979361, 0.2298338621471135, 0.23064062571728583, 0.03591235401768035]\n"
     ]
    },
    {
     "name": "stderr",
     "output_type": "stream",
     "text": [
      "100%|█████████████████████████████████████████████████████████████████████████| 100/100 [00:22<00:00,  4.54it/s]\n"
     ]
    },
    {
     "name": "stdout",
     "output_type": "stream",
     "text": [
      "Document Scores [0.13499999999999995, 0.38803580985005126, 0.15696586821137215, 0.0845662698412698, 0.0032919983740153425]\n",
      "Passage Scores [0.17610509220044598, 0.23667781424156625, 0.1646042834423257, 0.14793238638640266, 0.003342406333163496]\n"
     ]
    },
    {
     "name": "stderr",
     "output_type": "stream",
     "text": [
      "100%|█████████████████████████████████████████████████████████████████████████| 100/100 [00:23<00:00,  4.25it/s]\n"
     ]
    },
    {
     "name": "stdout",
     "output_type": "stream",
     "text": [
      "Document Scores [0.11399999999999996, 0.20743502369663358, 0.12324007657666247, 0.06056388888888889, 0.0011357044111332242]\n",
      "Passage Scores [0.14094343345395727, 0.18489952564391401, 0.12852251428873449, 0.10071564146215053, 0.002367187183784851]\n"
     ]
    }
   ],
   "source": [
    "df = pd.DataFrame( columns=('batch', 'Mean precision', 'Recall', 'F-Measure', 'MAP', 'GMAP') )\n",
    "\n",
    "for i, batch_file in enumerate(test_batch_docs):\n",
    "    test_batch_json = json.load(open(batch_file[1]))\n",
    "    for sample in tqdm(test_batch_json['questions'], position=0):\n",
    "        prediction = pipeline.run(query=sample['body'], params={\"Retriever\": {\"top_k\": 10}})\n",
    "        doc_list = [ globals.BIOASQ.doc_relative_url + doc.id for doc in prediction['documents'] ]\n",
    "        sample['documents'] = doc_list[0:10]\n",
    "            \n",
    "    submission = test_batch_json.copy()\n",
    "    submission_file_name =  working_folder + \"/\" + model_id + '_'+batch_file[1].split('/')[-1]\n",
    "    json.dump(submission, open(submission_file_name, 'w'))\n",
    "    docs_score, pass_score = bioasq_eval.get_scores_phaseA(batch_file[0], submission, path_home=eval_home)\n",
    "    print('Document Scores',docs_score)\n",
    "    print('Passage Scores',pass_score)\n",
    "    df.loc[i] = [ batch_file[0].split('.')[0] + '_' + batch_file[1].split('/')[-1].split('.')[0] ] + pass_score\n",
    "\n",
    "df.to_csv(working_folder + \"/\" + model_id+'.csv', index=False)"
   ]
  },
  {
   "cell_type": "markdown",
   "id": "201b3ced-02d7-4ef3-aa14-a57bcc121148",
   "metadata": {},
   "source": [
    "## Add Ranker to PipeLine"
   ]
  },
  {
   "cell_type": "code",
   "execution_count": 5,
   "id": "7364bb6a-eefe-484e-ab5d-a51d897bb75f",
   "metadata": {},
   "outputs": [
    {
     "data": {
      "application/vnd.jupyter.widget-view+json": {
       "model_id": "dce2f89cde274a53a65e444a8fb3a11e",
       "version_major": 2,
       "version_minor": 0
      },
      "text/plain": [
       "Downloading:   0%|          | 0.00/557 [00:00<?, ?B/s]"
      ]
     },
     "metadata": {},
     "output_type": "display_data"
    },
    {
     "data": {
      "application/vnd.jupyter.widget-view+json": {
       "model_id": "a72ec91f9f594e8b8e484d7960dbf692",
       "version_major": 2,
       "version_minor": 0
      },
      "text/plain": [
       "Downloading:   0%|          | 0.00/265M [00:00<?, ?B/s]"
      ]
     },
     "metadata": {},
     "output_type": "display_data"
    },
    {
     "name": "stderr",
     "output_type": "stream",
     "text": [
      "Some weights of DistilBertForSequenceClassification were not initialized from the model checkpoint at sentence-transformers/distilbert-base-nli-stsb-quora-ranking and are newly initialized: ['pre_classifier.weight', 'pre_classifier.bias', 'classifier.weight', 'classifier.bias']\n",
      "You should probably TRAIN this model on a down-stream task to be able to use it for predictions and inference.\n"
     ]
    },
    {
     "data": {
      "application/vnd.jupyter.widget-view+json": {
       "model_id": "4d9e659978124ec98b64ef9b8e752596",
       "version_major": 2,
       "version_minor": 0
      },
      "text/plain": [
       "Downloading:   0%|          | 0.00/507 [00:00<?, ?B/s]"
      ]
     },
     "metadata": {},
     "output_type": "display_data"
    },
    {
     "data": {
      "application/vnd.jupyter.widget-view+json": {
       "model_id": "71e84dc35969468e8fd401931c748737",
       "version_major": 2,
       "version_minor": 0
      },
      "text/plain": [
       "Downloading:   0%|          | 0.00/232k [00:00<?, ?B/s]"
      ]
     },
     "metadata": {},
     "output_type": "display_data"
    },
    {
     "data": {
      "application/vnd.jupyter.widget-view+json": {
       "model_id": "22c2553b186141e190e5094d5dd72734",
       "version_major": 2,
       "version_minor": 0
      },
      "text/plain": [
       "Downloading:   0%|          | 0.00/466k [00:00<?, ?B/s]"
      ]
     },
     "metadata": {},
     "output_type": "display_data"
    },
    {
     "data": {
      "application/vnd.jupyter.widget-view+json": {
       "model_id": "cc2b96f090f94aafb667d3d29cdf6571",
       "version_major": 2,
       "version_minor": 0
      },
      "text/plain": [
       "Downloading:   0%|          | 0.00/112 [00:00<?, ?B/s]"
      ]
     },
     "metadata": {},
     "output_type": "display_data"
    },
    {
     "name": "stdout",
     "output_type": "stream",
     "text": [
      "['33554154', '36416240', '32996452', '33713816', '35760548', '36309479', '33799284', '35837898', '33486531', '33465496']\n"
     ]
    }
   ],
   "source": [
    "# set document store\n",
    "document_store = ElasticsearchDocumentStore()\n",
    "# create the retriever\n",
    "retriever = BioASQ_Retriever(document_store = document_store)\n",
    "\n",
    "# create the Sentence Transformer Ranker\n",
    "#sentence-transformers/distilbert-base-nli-stsb-quora-ranking\n",
    "#ranker = SentenceTransformersRanker(model_name_or_path=\"sentence-transformers/distilbert-base-nli-stsb-quora-ranking\")\n",
    "ranker = SentenceTransformersRanker(model_name_or_path=\"cross-encoder/ms-marco-MiniLM-L-12-v2\")\n",
    "\n",
    "# create the Query Pipeline\n",
    "pipeline = Pipeline()\n",
    "\n",
    "# add bm25 retriever\n",
    "pipeline.add_node(component=retriever, name=\"BM25Retriever\", inputs=[\"Query\"])\n",
    "pipeline.add_node(component=ranker, name=\"Ranker\", inputs=[\"BM25Retriever\"])\n",
    "\n",
    "# run the pipeline\n",
    "prediction = pipeline.run(query=\"covid\", params={\"BM25Retriever\": {\"top_k\": 100}})\n",
    "\n",
    "# predict\n",
    "print([p.id for p in prediction['documents']])"
   ]
  },
  {
   "cell_type": "code",
   "execution_count": null,
   "id": "90391f6a-0b86-486f-9330-07ae28359271",
   "metadata": {},
   "outputs": [
    {
     "name": "stderr",
     "output_type": "stream",
     "text": [
      "100%|█████████████████████████████████████████████████████████████████████████| 100/100 [07:46<00:00,  4.67s/it]\n"
     ]
    },
    {
     "name": "stdout",
     "output_type": "stream",
     "text": [
      "Document Scores [0.03800000000000001, 0.06213529526029525, 0.04019339829940179, 0.013253968253968258, 8.170379645422878e-05]\n",
      "Passage Scores [0.21269651172236054, 0.25011684801025924, 0.19239072397187112, 0.16589622913215266, 0.011068641301611446]\n"
     ]
    },
    {
     "name": "stderr",
     "output_type": "stream",
     "text": [
      "100%|█████████████████████████████████████████████████████████████████████████| 100/100 [07:47<00:00,  4.67s/it]\n"
     ]
    },
    {
     "name": "stdout",
     "output_type": "stream",
     "text": [
      "Document Scores [0.03200000000000001, 0.05930236274098168, 0.032705732439466846, 0.009248015873015873, 7.15549459214587e-05]\n",
      "Passage Scores [0.2872636424287026, 0.2146197751178933, 0.18501190236737292, 0.23371072162089984, 0.02310804468883905]\n"
     ]
    },
    {
     "name": "stderr",
     "output_type": "stream",
     "text": [
      "100%|█████████████████████████████████████████████████████████████████████████| 100/100 [07:42<00:00,  4.62s/it]\n"
     ]
    },
    {
     "name": "stdout",
     "output_type": "stream",
     "text": [
      "Document Scores [0.04699999999999999, 0.06116227591528132, 0.04020937457883919, 0.018455158730158728, 9.838571124953916e-05]\n",
      "Passage Scores [0.26003786059540585, 0.2606508506979361, 0.2298338621471135, 0.23064062571728583, 0.03591235401768035]\n"
     ]
    },
    {
     "name": "stderr",
     "output_type": "stream",
     "text": [
      " 97%|███████████████████████████████████████████████████████████████████████▊  | 97/100 [07:19<00:13,  4.47s/it]"
     ]
    }
   ],
   "source": [
    "df = pd.DataFrame( columns=('batch', 'Mean precision', 'Recall', 'F-Measure', 'MAP', 'GMAP') )\n",
    "\n",
    "for i, batch_file in enumerate(test_batch_docs):\n",
    "    test_batch_json = json.load(open(batch_file[1]))\n",
    "    for sample in tqdm(test_batch_json['questions'], position=0):\n",
    "        prediction = pipeline.run(query=sample['body'], params={\"BM25Retriever\": {\"top_k\": 100}})\n",
    "        doc_list = [ globals.BIOASQ.doc_relative_url + doc.id for doc in prediction['documents'] ]\n",
    "        sample['documents'] = doc_list[0:10]\n",
    "            \n",
    "    submission = test_batch_json.copy()\n",
    "    submission_file_name =  working_folder + \"/\" + model_id + '_'+batch_file[1].split('/')[-1]\n",
    "    json.dump(submission, open(submission_file_name, 'w'))\n",
    "    docs_score, pass_score = bioasq_eval.get_scores_phaseA(batch_file[0], submission, path_home=eval_home)\n",
    "    print('Document Scores',docs_score)\n",
    "    print('Passage Scores',pass_score)\n",
    "    df.loc[i] = [ batch_file[0].split('.')[0] + '_' + batch_file[1].split('/')[-1].split('.')[0] ] + pass_score\n",
    "\n",
    "df.to_csv(working_folder + \"/\" + model_id+'.csv', index=False)"
   ]
  },
  {
   "cell_type": "markdown",
   "id": "a0d04183-b371-4d8c-acb1-158d8a5aa992",
   "metadata": {},
   "source": [
    "## Add Biomedical Ranker to PipeLine"
   ]
  },
  {
   "cell_type": "code",
   "execution_count": 19,
   "id": "5f36063f-4c5c-4647-ae05-c51ca4cfc453",
   "metadata": {},
   "outputs": [
    {
     "name": "stdout",
     "output_type": "stream",
     "text": [
      "['36224705', '34926521', '34206226', '36326380', '33028754', '34567389', '36459751', '33686558', '34290652', '35240494']\n"
     ]
    }
   ],
   "source": [
    "# set document store\n",
    "document_store = ElasticsearchDocumentStore()\n",
    "# create the retriever\n",
    "retriever = BioASQ_Retriever(document_store = document_store)\n",
    "\n",
    "# create the Sentence Transformer Ranker\n",
    "ranker = SentenceTransformersRanker(model_name_or_path=\"cross-encoder/ms-marco-MiniLM-L-12-v2\")\n",
    "\n",
    "# create the Query Pipeline\n",
    "pipeline = Pipeline()\n",
    "\n",
    "# add bm25 retriever\n",
    "pipeline.add_node(component=retriever, name=\"BM25Retriever\", inputs=[\"Query\"])\n",
    "pipeline.add_node(component=ranker, name=\"Ranker\", inputs=[\"BM25Retriever\"])\n",
    "\n",
    "# run the pipeline\n",
    "prediction = pipeline.run(query=\"covid\", params={\"BM25Retriever\": {\"top_k\": 100}})\n",
    "\n",
    "# predict\n",
    "print([p.id for p in prediction['documents']])"
   ]
  },
  {
   "cell_type": "code",
   "execution_count": 9,
   "id": "0129bda2-83ae-46a6-a1f3-809d4f63ccb5",
   "metadata": {},
   "outputs": [
    {
     "data": {
      "application/vnd.jupyter.widget-view+json": {
       "model_id": "a9447b350017437d8ee7224554da216a",
       "version_major": 2,
       "version_minor": 0
      },
      "text/plain": [
       "Downloading:   0%|          | 0.00/571 [00:00<?, ?B/s]"
      ]
     },
     "metadata": {},
     "output_type": "display_data"
    },
    {
     "data": {
      "application/vnd.jupyter.widget-view+json": {
       "model_id": "fd8b767f212d4433a188ead962906e17",
       "version_major": 2,
       "version_minor": 0
      },
      "text/plain": [
       "Downloading:   0%|          | 0.00/496M [00:00<?, ?B/s]"
      ]
     },
     "metadata": {},
     "output_type": "display_data"
    },
    {
     "data": {
      "application/vnd.jupyter.widget-view+json": {
       "model_id": "e2197796f8ca4e66a56bea77a53ffc51",
       "version_major": 2,
       "version_minor": 0
      },
      "text/plain": [
       "Downloading:   0%|          | 0.00/79.0 [00:00<?, ?B/s]"
      ]
     },
     "metadata": {},
     "output_type": "display_data"
    },
    {
     "data": {
      "application/vnd.jupyter.widget-view+json": {
       "model_id": "6d9df49cc04e4ab69df653f0be2189c2",
       "version_major": 2,
       "version_minor": 0
      },
      "text/plain": [
       "Downloading:   0%|          | 0.00/899k [00:00<?, ?B/s]"
      ]
     },
     "metadata": {},
     "output_type": "display_data"
    },
    {
     "data": {
      "application/vnd.jupyter.widget-view+json": {
       "model_id": "bc9d24371420441bb1416f26ec5e1800",
       "version_major": 2,
       "version_minor": 0
      },
      "text/plain": [
       "Downloading:   0%|          | 0.00/456k [00:00<?, ?B/s]"
      ]
     },
     "metadata": {},
     "output_type": "display_data"
    },
    {
     "data": {
      "application/vnd.jupyter.widget-view+json": {
       "model_id": "0873aaf21c6b43c0b68fd3b7bc4b0a9c",
       "version_major": 2,
       "version_minor": 0
      },
      "text/plain": [
       "Downloading:   0%|          | 0.00/772 [00:00<?, ?B/s]"
      ]
     },
     "metadata": {},
     "output_type": "display_data"
    }
   ],
   "source": [
    "from haystack.nodes.reader import FARMReader\n",
    "from haystack.utils import print_answers\n",
    "\n",
    "my_model = \"deepset/roberta-base-squad2\"\n",
    "reader = FARMReader(model_name_or_path=my_model, use_gpu=True)"
   ]
  },
  {
   "cell_type": "code",
   "execution_count": 24,
   "id": "71653cdc-bdd6-49a4-87fc-5ad76fb5ec79",
   "metadata": {},
   "outputs": [
    {
     "data": {
      "application/vnd.jupyter.widget-view+json": {
       "model_id": "a72174fd050f4dbf9dd7ac9a4543ac7d",
       "version_major": 2,
       "version_minor": 0
      },
      "text/plain": [
       "Inferencing Samples:   0%|          | 0/1 [00:00<?, ? Batches/s]"
      ]
     },
     "metadata": {},
     "output_type": "display_data"
    },
    {
     "name": "stdout",
     "output_type": "stream",
     "text": [
      "['30979826', '30340827', '34269473', '34195792', '28368371', '34700328', '35798141', '31545170', '26255844', '32490508']\n"
     ]
    }
   ],
   "source": [
    "# set document store\n",
    "document_store = ElasticsearchDocumentStore()\n",
    "# create the retriever\n",
    "retriever = BioASQ_Retriever(document_store = document_store)\n",
    "\n",
    "# create the Sentence Transformer Ranker\n",
    "ranker = SentenceTransformersRanker(model_name_or_path=\"cross-encoder/ms-marco-MiniLM-L-12-v2\")\n",
    "\n",
    "# create the Query Pipeline\n",
    "pipeline = Pipeline()\n",
    "\n",
    "# add bm25 retriever\n",
    "pipeline.add_node(component=retriever, name=\"BM25Retriever\", inputs=[\"Query\"])\n",
    "pipeline.add_node(component=ranker, name=\"Ranker\", inputs=[\"BM25Retriever\"])\n",
    "pipeline.add_node(component=reader, name=\"Reader\", inputs=[\"Ranker\"])\n",
    "\n",
    "# run the pipeline\n",
    "prediction = pipeline.run(query=\"Which factors drive replisome disassembly during DNA replication termination and mitosis\", params={\"BM25Retriever\": {\"top_k\": 100}})\n",
    "\n",
    "# predict\n",
    "print([p.id for p in prediction['documents']])"
   ]
  },
  {
   "cell_type": "code",
   "execution_count": 25,
   "id": "7e19598a-ed86-4db9-bd1f-7f5151ed2dc8",
   "metadata": {},
   "outputs": [
    {
     "name": "stderr",
     "output_type": "stream",
     "text": [
      "WARNING:root:print_answers received details='minimal', which was not understood. \n",
      "WARNING:root:Valid values are minimum, medium and 'all'. Using 'all'.\n"
     ]
    },
    {
     "name": "stdout",
     "output_type": "stream",
     "text": [
      "\n",
      "Query: Which factors drive replisome disassembly during DNA replication termination and mitosis\n",
      "Answers:\n",
      "[   <Answer {'answer': 'Cullin ubiquitin ligases', 'type': 'extractive', 'score': 0.9014731049537659, 'context': 'Cullin ubiquitin ligases drive replisome disassembly during DNA replication termination. In worm, frog and mouse cells, CUL2LRR1 is required to ubiqui', 'offsets_in_document': [{'start': 0, 'end': 24}], 'offsets_in_context': [{'start': 0, 'end': 24}], 'document_ids': ['34195792'], 'meta': {'title': 'Reconstitution of human CMG helicase ubiquitylation by CUL2LRR1 and multiple E2 enzymes.', 'issue': '478(14)', 'pages': '2825-2842', 'abstract': 'Cullin ubiquitin ligases drive replisome disassembly during DNA replication termination. In worm, frog and mouse cells, CUL2LRR1 is required to ubiquitylate the MCM7 subunit of the CMG helicase. Here, we show that cullin ligases also drive CMG-MCM7 ubiquitylation in human cells, thereby making the helicase into a substrate for the p97 unfoldase. Using purified human proteins, including a panel of E2 ubiquitin-conjugating enzymes, we have reconstituted CMG helicase ubiquitylation, dependent upon neddylated CUL2LRR1. The reaction is highly specific to CMG-MCM7 and requires the LRR1 substrate targeting subunit, since replacement of LRR1 with the alternative CUL2 adaptor VHL switches ubiquitylation from CMG-MCM7 to HIF1. CUL2LRR1 firstly drives monoubiquitylation of CMG-MCM7 by the UBE2D class of E2 enzymes. Subsequently, CUL2LRR1 activates UBE2R1/R2 or UBE2G1/G2 to extend a single K48-linked ubiquitin chain on CMG-MCM7. Thereby, CUL2LRR1 converts CMG into a substrate for p97, which disassembles the ubiquitylated helicase during DNA replication termination.', 'journal': 'The Biochemical journal', 'authors': 'Le|Thanh Thi|TT|;Ainsworth|Johanna|J|;Polo Rivera|Cristian|C|;Macartney|Thomas|T|;Labib|Karim P M|KPM|0000-0001-8861-379X', 'pubdate': '2021', 'pmid': '34195792', 'mesh_terms': 'D000818:Animals; D002460:Cell Line; D003001:Cloning, Molecular; D044842:Cullin Proteins; D004265:DNA Helicases; D006801:Humans; D015151:Immunoblotting; D008239:Lysine; D064168:Minichromosome Maintenance Complex Component 7; D012097:Repressor Proteins; D061987:Sf9 Cells; D018411:Spodoptera; D025801:Ubiquitin; D044763:Ubiquitin-Conjugating Enzymes; D044767:Ubiquitin-Protein Ligases; D054875:Ubiquitination; D000074405:Valosin Containing Protein', 'publication_types': \"D016428:Journal Article; D013485:Research Support, Non-U.S. Gov't\", 'chemical_list': 'C105153:CUL2 protein, human; D044842:Cullin Proteins; C464446:LRR1 protein, human; D012097:Repressor Proteins; D025801:Ubiquitin; D044763:Ubiquitin-Conjugating Enzymes; D044767:Ubiquitin-Protein Ligases; D004265:DNA Helicases; D064168:Minichromosome Maintenance Complex Component 7; D000074405:Valosin Containing Protein; D008239:Lysine', 'keywords': 'CMG helicase; CUL2LRR1; DNA synthesis and repair; cullin ligase; p97; ubiquitins', 'doi': '10.1042/BCJ20210315', 'references': '', 'delete': False, 'affiliations': 'The MRC Protein Phosphorylation and Ubiquitylation Unit, School of Life Sciences, University of Dundee, Dundee DD1 5EH, U.K.;The MRC Protein Phosphorylation and Ubiquitylation Unit, School of Life Sciences, University of Dundee, Dundee DD1 5EH, U.K.;The MRC Protein Phosphorylation and Ubiquitylation Unit, School of Life Sciences, University of Dundee, Dundee DD1 5EH, U.K.;The MRC Protein Phosphorylation and Ubiquitylation Unit, School of Life Sciences, University of Dundee, Dundee DD1 5EH, U.K.;The MRC Protein Phosphorylation and Ubiquitylation Unit, School of Life Sciences, University of Dundee, Dundee DD1 5EH, U.K.', 'pmc': '', 'other_id': '', 'medline_ta': 'Biochem J', 'nlm_unique_id': '2984726R', 'issn_linking': '0264-6021', 'country': 'England'}}>,\n",
      "    <Answer {'answer': 'TRAIP ubiquitin ligase', 'type': 'extractive', 'score': 0.8452216386795044, 'context': 'tode Caenorhabditis elegans as a model system, we show that the TRAIP ubiquitin ligase drives replisome disassembly in response to incomplete DNA repl', 'offsets_in_document': [{'start': 584, 'end': 606}], 'offsets_in_context': [{'start': 64, 'end': 86}], 'document_ids': ['31545170'], 'meta': {'title': 'TRAIP drives replisome disassembly and mitotic DNA repair synthesis at sites of incomplete DNA replication.', 'issue': '8()', 'pages': '', 'abstract': 'The faithful segregation of eukaryotic chromosomes in mitosis requires that the genome be duplicated completely prior to anaphase. However, cells with large genomes sometimes fail to complete replication during interphase and instead enter mitosis with regions of incompletely replicated DNA. These regions are processed in early mitosis via a process known as mitotic DNA repair synthesis (MiDAS), but little is known about how cells switch from conventional DNA replication to MiDAS. Using the early embryo of the nematode Caenorhabditis elegans as a model system, we show that the TRAIP ubiquitin ligase drives replisome disassembly in response to incomplete DNA replication, thereby providing access to replication forks for other factors. Moreover, TRAIP is essential for MiDAS in human cells, and is important in both systems to prevent mitotic segregation errors. Our data indicate that TRAIP is a master regulator of the processing of incomplete DNA replication during mitosis in metazoa.', 'journal': 'eLife', 'authors': 'Sonneville|Remi|R|;Bhowmick|Rahul|R|;Hoffmann|Saskia|S|;Mailand|Niels|N|;Hickson|Ian D|ID|;Labib|Karim|K|0000-0001-8861-379X', 'pubdate': '2019', 'pmid': '31545170', 'mesh_terms': 'D000818:Animals; D017173:Caenorhabditis elegans; D029742:Caenorhabditis elegans Proteins; D002460:Cell Line; D004260:DNA Repair; D004261:DNA Replication; D017353:Gene Deletion; D006801:Humans; D008938:Mitosis; D044767:Ubiquitin-Protein Ligases', 'publication_types': \"D016428:Journal Article; D013485:Research Support, Non-U.S. Gov't\", 'chemical_list': 'D029742:Caenorhabditis elegans Proteins; D044767:Ubiquitin-Protein Ligases; C000656696:trul-1 protein, C elegans', 'keywords': 'C. elegans; DNA replication; TRAIP; chromosomes; fragile site; gene expression; genome stability; human; mitosis; ubiquitin ligase', 'doi': '', 'references': '28368371;9804418;21981920;21317883;26166571;28537574;30849395;25342810;28355556;30979826;26711499;22025633;27462463;28740117;26595769;20978077;22249291;4366476;30842657;25342805;27516545;28620461;11112326;28235849;19141674;26633632;27630194;12747829;27984745;26781088;17927961', 'delete': False, 'affiliations': 'MRC Protein Phosphorylation and Ubiquitylation Unit, School of Life Sciences, University of Dundee, Dundee, United Kingdom.;Department of Cellular and Molecular Medicine, Center for Chromosome Stability, University of Copenhagen, Copenhagen, Denmark.;Novo Nordisk Foundation Center for Protein Research, Faculty of Health and Medical Sciences, University of Copenhagen, Copenhagen, Denmark.;Novo Nordisk Foundation Center for Protein Research, Faculty of Health and Medical Sciences, University of Copenhagen, Copenhagen, Denmark.;Department of Cellular and Molecular Medicine, Center for Chromosome Stability, University of Copenhagen, Copenhagen, Denmark.;MRC Protein Phosphorylation and Ubiquitylation Unit, School of Life Sciences, University of Dundee, Dundee, United Kingdom.', 'pmc': '', 'other_id': '', 'medline_ta': 'Elife', 'nlm_unique_id': '101579614', 'issn_linking': '2050-084X', 'country': 'England'}}>,\n",
      "    <Answer {'answer': 'LRR-MCM interaction', 'type': 'extractive', 'score': 0.7120596766471863, 'context': 'site on CMG, including the MCM3 and MCM5 zinc-finger domains. The LRR-MCM interaction is essential for replisome disassembly and, crucially, is occlud', 'offsets_in_document': [{'start': 1051, 'end': 1070}], 'offsets_in_context': [{'start': 66, 'end': 85}], 'document_ids': ['34700328'], 'meta': {'title': 'A conserved mechanism for regulating replisome disassembly in eukaryotes.', 'issue': '600(7890)', 'pages': '743-747', 'abstract': 'Replisome disassembly is the final step of eukaryotic DNA replication and is triggered by ubiquitylation of the CDC45-MCM-GINS (CMG) replicative helicase1-3. Despite being driven by evolutionarily diverse E3 ubiquitin ligases in different eukaryotes (SCFDia2 in budding yeast1, CUL2LRR1 in metazoa4-7), replisome disassembly is governed by a common regulatory principle, in which ubiquitylation of CMG is suppressed before replication termination, to prevent replication fork collapse. Recent evidence suggests that this suppression is mediated by replication fork DNA8-10. However, it is unknown how SCFDia2 and CUL2LRR1 discriminate terminated from elongating replisomes, to selectively ubiquitylate CMG only after termination. Here we used cryo-electron microscopy to solve high-resolution structures of budding yeast and human replisome-E3 ligase assemblies. Our structures show that the leucine-rich repeat domains of Dia2 and LRR1 are structurally distinct, but bind to a common site on CMG, including the MCM3 and MCM5 zinc-finger domains. The LRR-MCM interaction is essential for replisome disassembly and, crucially, is occluded by the excluded DNA strand at replication forks, establishing the structural basis for the suppression of CMG ubiquitylation before termination. Our results elucidate a conserved mechanism for the regulation of replisome disassembly in eukaryotes, and reveal a previously unanticipated role for DNA in preserving replisome integrity.', 'journal': 'Nature', 'authors': 'Jenkyn-Bedford|Michael|M|http://orcid.org/0000-0003-2335-8278;Jones|Morgan L|ML|http://orcid.org/0000-0003-1948-4925;Baris|Yasemin|Y|;Labib|Karim P M|KPM|;Cannone|Giuseppe|G|;Yeeles|Joseph T P|JTP|http://orcid.org/0000-0002-2255-2119;Deegan|Tom D|TD|http://orcid.org/0000-0001-9639-7636', 'pubdate': '2021', 'pmid': '34700328', 'mesh_terms': 'D020285:Cryoelectron Microscopy; D004247:DNA; D004265:DNA Helicases; D004261:DNA Replication; D056890:Eukaryota; D006801:Humans; D044767:Ubiquitin-Protein Ligases', 'publication_types': \"D016428:Journal Article; D013485:Research Support, Non-U.S. Gov't\", 'chemical_list': 'D004247:DNA; D044767:Ubiquitin-Protein Ligases; D004265:DNA Helicases', 'keywords': '', 'doi': '10.1038/s41586-021-04145-3', 'references': '', 'delete': False, 'affiliations': 'MRC Laboratory of Molecular Biology, Cambridge, UK.;MRC Laboratory of Molecular Biology, Cambridge, UK.;MRC Laboratory of Molecular Biology, Cambridge, UK.;MRC Protein Phosphorylation and Ubiquitylation Unit, Sir James Black Centre, School of Life Sciences, University of Dundee, Dundee, UK.;MRC Laboratory of Molecular Biology, Cambridge, UK.;MRC Laboratory of Molecular Biology, Cambridge, UK. jyeeles@mrc-lmb.cam.ac.uk.;MRC Protein Phosphorylation and Ubiquitylation Unit, Sir James Black Centre, School of Life Sciences, University of Dundee, Dundee, UK. tdeegan@ed.ac.uk.', 'pmc': '', 'other_id': '', 'medline_ta': 'Nature', 'nlm_unique_id': '0410462', 'issn_linking': '0028-0836', 'country': 'England'}}>,\n",
      "    <Answer {'answer': 'polyubiquitylation of one of the replicative helicase subunits (Mcm7) by Cul2LRR1 ubiquitin ligase', 'type': 'extractive', 'score': 0.5987789034843445, 'context': 'S-phase is driven through polyubiquitylation of one of the replicative helicase subunits (Mcm7) by Cul2LRR1 ubiquitin ligase. Interestingly, upon inhi', 'offsets_in_document': [{'start': 168, 'end': 266}], 'offsets_in_context': [{'start': 26, 'end': 124}], 'document_ids': ['30979826'], 'meta': {'title': 'Mitotic replisome disassembly depends on TRAIP ubiquitin ligase activity.', 'issue': '2(2)', 'pages': '', 'abstract': 'We have shown previously that the process of replication machinery (replisome) disassembly at the termination of DNA replication forks in the S-phase is driven through polyubiquitylation of one of the replicative helicase subunits (Mcm7) by Cul2LRR1 ubiquitin ligase. Interestingly, upon inhibition of this pathway in Caenorhabditis elegans embryos, the replisomes retained on chromatin were unloaded in the subsequent mitosis. Here, we show that this mitotic replisome disassembly pathway exists in Xenopus laevis egg extract and we determine the first elements of its regulation. The mitotic disassembly pathway depends on the formation of K6- and K63-linked ubiquitin chains on Mcm7 by TRAIP ubiquitin ligase and the activity of p97/VCP protein segregase. Unlike in lower eukaryotes, however, it does not require SUMO modifications. Importantly, we also show that this process can remove all replisomes from mitotic chromatin, including stalled ones, which indicates a wide application for this pathway over being just a \"backup\" for terminated replisomes. Finally, we characterise the composition of the replisome retained on chromatin until mitosis.', 'journal': 'Life science alliance', 'authors': 'Priego Moreno|Sara|S|;Jones|Rebecca M|RM|;Poovathumkadavil|Divyasree|D|;Scaramuzza|Shaun|S|;Gambus|Agnieszka|A|0000-0002-4648-0332', 'pubdate': '2019', 'pmid': '30979826', 'mesh_terms': 'D000818:Animals; D016590:Aphidicolin; D002110:Caffeine; D002843:Chromatin; D016213:Cyclins; D003517:Cyclopentanes; D004261:DNA Replication; D005260:Female; D008297:Male; D064168:Minichromosome Maintenance Complex Component 7; D008938:Mitosis; D010063:Ovum; D011743:Pyrimidines; D025841:Small Ubiquitin-Related Modifier Proteins; D013094:Spermatozoa; D044763:Ubiquitin-Conjugating Enzymes; D044767:Ubiquitin-Protein Ligases; D054875:Ubiquitination; D000074405:Valosin Containing Protein; D029867:Xenopus Proteins; D014982:Xenopus laevis', 'publication_types': \"D016428:Journal Article; D013485:Research Support, Non-U.S. Gov't\", 'chemical_list': 'D002843:Chromatin; D016213:Cyclins; D003517:Cyclopentanes; D011743:Pyrimidines; D025841:Small Ubiquitin-Related Modifier Proteins; D029867:Xenopus Proteins; D016590:Aphidicolin; D002110:Caffeine; D044763:Ubiquitin-Conjugating Enzymes; D044767:Ubiquitin-Protein Ligases; C509836:Mcm7 protein, Xenopus; D064168:Minichromosome Maintenance Complex Component 7; D000074405:Valosin Containing Protein; C539933:pevonedistat', 'keywords': '', 'doi': '10.26508/lsa.201900390', 'references': '8799842;16531994;21282109;26711499;16798881;18042044;26322582;21068752;22694940;26595769;17544371;23446422;26781088;2564315;18514518;24795279;28368371;11585805;25342810;19151749;27323329;26093298;17825564;28355556;23410753;22298039;29467282;26369285;21925316;27462463;22521908;9104814;25335891;30842657;21048783;25342805;17178859;28208741;24553286;27516545;28620461;21799892;18775313;26633632;24440776;17927961;24813613;26820530', 'delete': False, 'affiliations': 'Institute for Cancer and Genomic Sciences, College of Medical and Dental Sciences, University of Birmingham, Birmingham, UK.;Institute for Cancer and Genomic Sciences, College of Medical and Dental Sciences, University of Birmingham, Birmingham, UK.;Institute for Cancer and Genomic Sciences, College of Medical and Dental Sciences, University of Birmingham, Birmingham, UK.;Institute for Cancer and Genomic Sciences, College of Medical and Dental Sciences, University of Birmingham, Birmingham, UK.;Institute for Cancer and Genomic Sciences, College of Medical and Dental Sciences, University of Birmingham, Birmingham, UK a.gambus@bham.ac.uk.', 'pmc': '', 'other_id': '', 'medline_ta': 'Life Sci Alliance', 'nlm_unique_id': '101728869', 'issn_linking': '2575-1077', 'country': 'United States'}}>,\n",
      "    <Answer {'answer': 'CRL-dependent poly-ubiquitylation of Mcm7 and p97 segregase', 'type': 'extractive', 'score': 0.4138580560684204, 'context': 'during replication termination is mediated by CRL-dependent poly-ubiquitylation of Mcm7 and p97 segregase. The replisome also disassembles at stalled ', 'offsets_in_document': [{'start': 86, 'end': 145}], 'offsets_in_context': [{'start': 46, 'end': 105}], 'document_ids': ['30340827'], 'meta': {'title': 'Mitotic entry drives replisome disassembly at stalled replication forks.', 'issue': '506(1)', 'pages': '108-113', 'abstract': 'The disassembly of eukaryotic replisome during replication termination is mediated by CRL-dependent poly-ubiquitylation of Mcm7 and p97 segregase. The replisome also disassembles at stalled or collapsed replication forks under certain stress conditions, but the underlying mechanism is poorly understood. Here, we discovered a novel pathway driving stepwise disassembly of the replisome at stalled replication forks after forced entry into M-phase using Xenopus egg extracts. This pathway was dependent on M-CDK activity and K48- and K63-linked poly-ubiquitylation but not on CRL and p97, which is different from known pathways. Furthermore, this pathway could not disassemble converged replisomes whose Mcm7 subunit had been poly-ubiquitylated without p97. These results suggest that there is a distinctive pathway for replisome disassembly when stalled replication forks persist into M-phase.', 'journal': 'Biochemical and biophysical research communications', 'authors': 'Hashimoto|Yoshitami|Y|;Tanaka|Hirofumi|H|', 'pubdate': '2018', 'pmid': '30340827', 'mesh_terms': 'D000071450:ATP Binding Cassette Transporter, Subfamily B, Member 3; D048868:Adaptor Proteins, Signal Transducing; D000818:Animals; D018797:Cell Cycle Proteins; D000071877:Checkpoint Kinase 1; D002843:Chromatin; D004261:DNA Replication; D064168:Minichromosome Maintenance Complex Component 7; D008938:Mitosis; D011485:Protein Binding; D054875:Ubiquitination; D000074405:Valosin Containing Protein; D029867:Xenopus Proteins; D014982:Xenopus laevis; D015053:Zygote', 'publication_types': \"D016428:Journal Article; D013485:Research Support, Non-U.S. Gov't\", 'chemical_list': 'D000071450:ATP Binding Cassette Transporter, Subfamily B, Member 3; D048868:Adaptor Proteins, Signal Transducing; C416368:CLSPN protein, Xenopus; C502211:Cdc45 protein, Xenopus; D018797:Cell Cycle Proteins; D002843:Chromatin; C489515:TAP2 protein, Xenopus; D029867:Xenopus Proteins; D000071877:Checkpoint Kinase 1; C000605875:Chek1 protein, Xenopus; C509836:Mcm7 protein, Xenopus; D064168:Minichromosome Maintenance Complex Component 7; D000074405:Valosin Containing Protein', 'keywords': 'CDK; CMG complex; Replisome; Ubiquitylation; Xenopus egg extract; p97/VCP/Cdc48', 'doi': '10.1016/j.bbrc.2018.10.064', 'references': '', 'delete': False, 'affiliations': 'School of Life Sciences, Tokyo University of Pharmacy and Life Sciences, 1432-1 Horinouchi, Hachioji, Tokyo, 192-0392, Japan. Electronic address: hashimo@toyaku.ac.jp.;School of Life Sciences, Tokyo University of Pharmacy and Life Sciences, 1432-1 Horinouchi, Hachioji, Tokyo, 192-0392, Japan.', 'pmc': '', 'other_id': '', 'medline_ta': 'Biochem Biophys Res Commun', 'nlm_unique_id': '0372516', 'issn_linking': '0006-291X', 'country': 'United States'}}>,\n",
      "    <Answer {'answer': 'molecular mechanisms', 'type': 'extractive', 'score': 0.4106212258338928, 'context': ' years however, researchers have also focused on deciphering the molecular mechanisms underlying the disassembly of the replicative helicase during te', 'offsets_in_document': [{'start': 487, 'end': 507}], 'offsets_in_context': [{'start': 65, 'end': 85}], 'document_ids': ['32490508'], 'meta': {'title': 'Mechanisms of eukaryotic replisome disassembly.', 'issue': '48(3)', 'pages': '823-836', 'abstract': 'DNA replication is a complex process that needs to be executed accurately before cell division in order to maintain genome integrity. DNA replication is divided into three main stages: initiation, elongation and termination. One of the key events during initiation is the assembly of the replicative helicase at origins of replication, and this mechanism has been very well described over the last decades. In the last six years however, researchers have also focused on deciphering the molecular mechanisms underlying the disassembly of the replicative helicase during termination. Similar to replisome assembly, the mechanism of replisome disassembly is strictly regulated and well conserved throughout evolution, although its complexity increases in higher eukaryotes. While budding yeast rely on just one pathway for replisome disassembly in S phase, higher eukaryotes evolved an additional mitotic pathway over and above the default S phase specific pathway. Moreover, replisome disassembly has been recently found to be a key event prior to the repair of certain DNA lesions, such as under-replicated DNA in mitosis and inter-strand cross-links (ICLs) in S phase. Although replisome disassembly in human cells has not been characterised yet, they possess all of the factors involved in these pathways in model organisms, and de-regulation of many of them are known to contribute to tumorigenesis and other pathological conditions.', 'journal': 'Biochemical Society transactions', 'authors': 'Moreno|Sara Priego|SP|;Gambus|Agnieszka|A|', 'pubdate': '2020', 'pmid': '32490508', 'mesh_terms': 'D000818:Animals; D017173:Caenorhabditis elegans; D002453:Cell Cycle; D018797:Cell Cycle Proteins; D002470:Cell Survival; D004247:DNA; D004261:DNA Replication; D016678:Genome; D006801:Humans; D064168:Minichromosome Maintenance Complex Component 7; D008938:Mitosis; D009369:Neoplasms; D025941:Protein Interaction Mapping; D018741:Replication Origin; D016196:S Phase; D012441:Saccharomyces cerevisiae; D004718:Saccharomycetales; D025801:Ubiquitin; D044767:Ubiquitin-Protein Ligases; D054875:Ubiquitination; D014982:Xenopus laevis', 'publication_types': 'D016428:Journal Article; D016454:Review', 'chemical_list': 'D018797:Cell Cycle Proteins; D025801:Ubiquitin; D004247:DNA; D044767:Ubiquitin-Protein Ligases; C101624:MCM7 protein, human; D064168:Minichromosome Maintenance Complex Component 7', 'keywords': 'Cullin2-LRR1; TRAIP; genome integrity; p97; replisome disassembly; ubiquitylation', 'doi': '10.1042/BST20190363', 'references': '28368371;19910535;31545170;30675527;25739503;25835602;26255844;25957489;27555051;27075410;31200185;26866665;21981920;19913425;19965384;28537574;16531994;29530982;31509741;21317883;30850330;30849395;25342810;30804506;28355556;29357058;30979826;26711499;25643322;24267891;28301743;16487579;26322582;30700044;19896182;27565346;28451587;19465922;27462463;28740117;27200082;31249135;28886337;29357065;29123070;16421250;26595769;30842657;27086594;31249134;25342805;24553286;29924986;27516545;28620461;16751663;29489749;28235849;27644328;28739890;21719678;26633632;30647138;18805090;27649880;26121093;24726325', 'delete': False, 'affiliations': 'The Salk Institute for Biological Studies, 10010 N Torrey Pines Rd, La Jolla, CA 92037, U.S.A.;Institute for Cancer and Genomic Sciences, College of Medical and Dental Sciences, University of Birmingham, Edgbaston, Birmingham B15 2TT, U.K.', 'pmc': '', 'other_id': '', 'medline_ta': 'Biochem Soc Trans', 'nlm_unique_id': '7506897', 'issn_linking': '0300-5127', 'country': 'England'}}>,\n",
      "    <Answer {'answer': 'cullin-RING ubiquitin ligase CUL-2LRR-1 drives ubiquitylation of the CMG helicase', 'type': 'extractive', 'score': 0.4068673253059387, 'context': 'ation termination. In metazoa, the cullin-RING ubiquitin ligase CUL-2LRR-1 drives ubiquitylation of the CMG helicase, leading to replisome disassembly', 'offsets_in_document': [{'start': 101, 'end': 182}], 'offsets_in_context': [{'start': 35, 'end': 116}], 'document_ids': ['34269473'], 'meta': {'title': 'TIMELESS-TIPIN and UBXN-3 promote replisome disassembly during DNA replication termination in Caenorhabditis elegans.', 'issue': '40(17)', 'pages': 'e108053', 'abstract': 'The eukaryotic replisome is rapidly disassembled during DNA replication termination. In metazoa, the cullin-RING ubiquitin ligase CUL-2LRR-1 drives ubiquitylation of the CMG helicase, leading to replisome disassembly by the p97/CDC-48 \"unfoldase\". Here, we combine in\\xa0vitro reconstitution with in\\xa0vivo studies in Caenorhabditis elegans embryos, to show that the replisome-associated TIMELESS-TIPIN complex is required for CUL-2LRR-1 recruitment and efficient CMG helicase ubiquitylation. Aided by TIMELESS-TIPIN, CUL-2LRR-1 directs a suite of ubiquitylation enzymes to ubiquitylate the MCM-7 subunit of CMG. Subsequently, the UBXN-3 adaptor protein directly stimulates the disassembly of ubiquitylated CMG by CDC-48_UFD-1_NPL-4. We show that UBXN-3 is important in\\xa0vivo for replisome disassembly in the absence of TIMELESS-TIPIN. Correspondingly, co-depletion of UBXN-3 and TIMELESS causes profound synthetic lethality. Since the human orthologue of UBXN-3, FAF1, is a candidate tumour suppressor, these findings suggest that manipulation of CMG disassembly might be applicable to future strategies for treating human cancer.', 'journal': 'The EMBO journal', 'authors': 'Xia|Yisui|Y|0000-0002-5576-2147;Fujisawa|Ryo|R|0000-0003-1985-1668;Deegan|Tom D|TD|0000-0001-9639-7636;Sonneville|Remi|R|0000-0002-2149-2652;Labib|Karim P M|KPM|0000-0001-8861-379X', 'pubdate': '2021', 'pmid': '34269473', 'mesh_terms': 'D000818:Animals; D017173:Caenorhabditis elegans; D029742:Caenorhabditis elegans Proteins; D002352:Carrier Proteins; D044842:Cullin Proteins; D004261:DNA Replication; D004259:DNA-Directed DNA Polymerase; D009097:Multienzyme Complexes; D000072020:Synthetic Lethal Mutations', 'publication_types': \"D016428:Journal Article; D013485:Research Support, Non-U.S. Gov't\", 'chemical_list': 'D029742:Caenorhabditis elegans Proteins; D002352:Carrier Proteins; D044842:Cullin Proteins; D009097:Multienzyme Complexes; C400537:TIM-1 protein, C elegans; C000608562:UBXN-3 protein, C elegans; C107915:DNA synthesome; D004259:DNA-Directed DNA Polymerase', 'keywords': 'CDC-48; CMG helicase; CUL-2LRR-1; DNA replication termination; TIMELESS-TIPIN; UBXN-3', 'doi': '10.15252/embj.2021108053', 'references': '21645854;21981920;31509741;28355556;32305021;25739503;27565338;20977550;28368371;25342810;28475898;30849395;26842564;33536622;31545170;34269473;32943574;30979826;31868589;28301743;28512218;32705708;17296725;27384026;32369734;26322582;27565346;27015313;10587644;19597341;10834843;28525741;33166393;31249135;32179092;32804080;30796221;33484638;28375744;12783801;20978077;16137625;25342805;8670823;29357060;31898220;26255844;27716483;30952443;22537386;31419624;32004468;33160249;28235849;10421634;32051583;33402676;19805627', 'delete': False, 'affiliations': 'The MRC Protein Phosphorylation and Ubiquitylation Unit, School of Life Sciences, University of Dundee, Dundee, UK.;The MRC Protein Phosphorylation and Ubiquitylation Unit, School of Life Sciences, University of Dundee, Dundee, UK.;The MRC Protein Phosphorylation and Ubiquitylation Unit, School of Life Sciences, University of Dundee, Dundee, UK.;The MRC Protein Phosphorylation and Ubiquitylation Unit, School of Life Sciences, University of Dundee, Dundee, UK.;The MRC Protein Phosphorylation and Ubiquitylation Unit, School of Life Sciences, University of Dundee, Dundee, UK.', 'pmc': '', 'other_id': '', 'medline_ta': 'EMBO J', 'nlm_unique_id': '8208664', 'issn_linking': '0261-4189', 'country': 'England'}}>,\n",
      "    <Answer {'answer': 'formation of K6- and K63-linked ubiquitin chains on Mcm7 by TRAIP ubiquitin ligase and the activity of p97/VCP protein segregase', 'type': 'extractive', 'score': 0.3846079111099243, 'context': 'nds on the formation of K6- and K63-linked ubiquitin chains on Mcm7 by TRAIP ubiquitin ligase and the activity of p97/VCP protein segregase. Unlike in', 'offsets_in_document': [{'start': 629, 'end': 757}], 'offsets_in_context': [{'start': 11, 'end': 139}], 'document_ids': ['30979826'], 'meta': {'title': 'Mitotic replisome disassembly depends on TRAIP ubiquitin ligase activity.', 'issue': '2(2)', 'pages': '', 'abstract': 'We have shown previously that the process of replication machinery (replisome) disassembly at the termination of DNA replication forks in the S-phase is driven through polyubiquitylation of one of the replicative helicase subunits (Mcm7) by Cul2LRR1 ubiquitin ligase. Interestingly, upon inhibition of this pathway in Caenorhabditis elegans embryos, the replisomes retained on chromatin were unloaded in the subsequent mitosis. Here, we show that this mitotic replisome disassembly pathway exists in Xenopus laevis egg extract and we determine the first elements of its regulation. The mitotic disassembly pathway depends on the formation of K6- and K63-linked ubiquitin chains on Mcm7 by TRAIP ubiquitin ligase and the activity of p97/VCP protein segregase. Unlike in lower eukaryotes, however, it does not require SUMO modifications. Importantly, we also show that this process can remove all replisomes from mitotic chromatin, including stalled ones, which indicates a wide application for this pathway over being just a \"backup\" for terminated replisomes. Finally, we characterise the composition of the replisome retained on chromatin until mitosis.', 'journal': 'Life science alliance', 'authors': 'Priego Moreno|Sara|S|;Jones|Rebecca M|RM|;Poovathumkadavil|Divyasree|D|;Scaramuzza|Shaun|S|;Gambus|Agnieszka|A|0000-0002-4648-0332', 'pubdate': '2019', 'pmid': '30979826', 'mesh_terms': 'D000818:Animals; D016590:Aphidicolin; D002110:Caffeine; D002843:Chromatin; D016213:Cyclins; D003517:Cyclopentanes; D004261:DNA Replication; D005260:Female; D008297:Male; D064168:Minichromosome Maintenance Complex Component 7; D008938:Mitosis; D010063:Ovum; D011743:Pyrimidines; D025841:Small Ubiquitin-Related Modifier Proteins; D013094:Spermatozoa; D044763:Ubiquitin-Conjugating Enzymes; D044767:Ubiquitin-Protein Ligases; D054875:Ubiquitination; D000074405:Valosin Containing Protein; D029867:Xenopus Proteins; D014982:Xenopus laevis', 'publication_types': \"D016428:Journal Article; D013485:Research Support, Non-U.S. Gov't\", 'chemical_list': 'D002843:Chromatin; D016213:Cyclins; D003517:Cyclopentanes; D011743:Pyrimidines; D025841:Small Ubiquitin-Related Modifier Proteins; D029867:Xenopus Proteins; D016590:Aphidicolin; D002110:Caffeine; D044763:Ubiquitin-Conjugating Enzymes; D044767:Ubiquitin-Protein Ligases; C509836:Mcm7 protein, Xenopus; D064168:Minichromosome Maintenance Complex Component 7; D000074405:Valosin Containing Protein; C539933:pevonedistat', 'keywords': '', 'doi': '10.26508/lsa.201900390', 'references': '8799842;16531994;21282109;26711499;16798881;18042044;26322582;21068752;22694940;26595769;17544371;23446422;26781088;2564315;18514518;24795279;28368371;11585805;25342810;19151749;27323329;26093298;17825564;28355556;23410753;22298039;29467282;26369285;21925316;27462463;22521908;9104814;25335891;30842657;21048783;25342805;17178859;28208741;24553286;27516545;28620461;21799892;18775313;26633632;24440776;17927961;24813613;26820530', 'delete': False, 'affiliations': 'Institute for Cancer and Genomic Sciences, College of Medical and Dental Sciences, University of Birmingham, Birmingham, UK.;Institute for Cancer and Genomic Sciences, College of Medical and Dental Sciences, University of Birmingham, Birmingham, UK.;Institute for Cancer and Genomic Sciences, College of Medical and Dental Sciences, University of Birmingham, Birmingham, UK.;Institute for Cancer and Genomic Sciences, College of Medical and Dental Sciences, University of Birmingham, Birmingham, UK.;Institute for Cancer and Genomic Sciences, College of Medical and Dental Sciences, University of Birmingham, Birmingham, UK a.gambus@bham.ac.uk.', 'pmc': '', 'other_id': '', 'medline_ta': 'Life Sci Alliance', 'nlm_unique_id': '101728869', 'issn_linking': '2575-1077', 'country': 'United States'}}>,\n",
      "    <Answer {'answer': 'F-box protein Dia2', 'type': 'extractive', 'score': 0.31823834776878357, 'context': 'ation termination but is poorly understood. In budding yeast, the F-box protein Dia2 drives ubiquitylation of the CMG helicase at the end of replicati', 'offsets_in_document': [{'start': 230, 'end': 248}], 'offsets_in_context': [{'start': 66, 'end': 84}], 'document_ids': ['26255844'], 'meta': {'title': 'Tethering of SCF(Dia2) to the Replisome Promotes Efficient Ubiquitylation and Disassembly of the CMG Helicase.', 'issue': '25(17)', 'pages': '2254-9', 'abstract': 'Disassembly of the Cdc45-MCM-GINS (CMG) DNA helicase, which unwinds the parental DNA duplex at eukaryotic replication forks, is the key regulated step during replication termination but is poorly understood. In budding yeast, the F-box protein Dia2 drives ubiquitylation of the CMG helicase at the end of replication, leading to a disassembly pathway that requires the Cdc48 segregase. The substrate-binding domain of Dia2 comprises leucine-rich repeats, but Dia2 also has a TPR domain at its amino terminus that interacts with the Ctf4 and Mrc1 subunits of the replisome progression complex, which assembles around the CMG helicase at replication forks. Previous studies suggested two disparate roles for the TPR domain of Dia2, either mediating replisome-specific degradation of Mrc1 and Ctf4 or else tethering SCF(Dia2) (SCF [Skp1/cullin/F-box protein]) to the replisome to increase its local concentration at replication forks. Here, we show that SCF(Dia2) does not mediate replisome-specific degradation of Mrc1 and Ctf4, either during normal S phase or in response to replication stress. Instead, the tethering of SCF(Dia2) to the replisome progression complex increases the efficiency of ubiquitylation of the Mcm7 subunit of CMG, both in vitro and in vivo. Correspondingly, loss of tethering reduces the efficiency of CMG disassembly in vivo and is synthetic lethal in combination with a disassembly-defective allele of CDC48. Residual ubiquitylation of Mcm7 in dia2-ΔTPR cells is still CMG specific, highlighting the complex regulation of the final stages of chromosome replication, about which much still remains to be learned.', 'journal': 'Current biology : CB', 'authors': 'Maculins|Timurs|T|;Nkosi|Pedro Junior|PJ|;Nishikawa|Hiroko|H|;Labib|Karim|K|', 'pubdate': '2015', 'pmid': '26255844', 'mesh_terms': 'D004261:DNA Replication; D004271:DNA, Fungal; D004268:DNA-Binding Proteins; D044783:F-Box Proteins; D064168:Minichromosome Maintenance Complex Component 7; D016196:S Phase; D012441:Saccharomyces cerevisiae; D029701:Saccharomyces cerevisiae Proteins; D054875:Ubiquitination', 'publication_types': \"D016428:Journal Article; D013485:Research Support, Non-U.S. Gov't\", 'chemical_list': 'C078338:CTF4 protein, S cerevisiae; D004271:DNA, Fungal; D004268:DNA-Binding Proteins; C495983:Dia2 protein, S cerevisiae; D044783:F-Box Proteins; D029701:Saccharomyces cerevisiae Proteins; C491088:MCM7 protein, S cerevisiae; D064168:Minichromosome Maintenance Complex Component 7', 'keywords': '', 'doi': '', 'references': '20724597;20647475;25342805;25342810;25400145;12769855;11809834;25391904;4579463;4618856;16487579;16421250;16531994;16751663;19913425;19910927;25342784', 'delete': False, 'affiliations': 'Cancer Research UK Manchester Institute, University of Manchester, Wilmslow Road, Manchester M20 4BX, UK.;MRC Protein Phosphorylation and Ubiquitylation Unit, Sir James Black Centre, College of Life Sciences, University of Dundee, Dow Street, Dundee DD1 5EH, UK.;Cancer Research UK Manchester Institute, University of Manchester, Wilmslow Road, Manchester M20 4BX, UK.;MRC Protein Phosphorylation and Ubiquitylation Unit, Sir James Black Centre, College of Life Sciences, University of Dundee, Dow Street, Dundee DD1 5EH, UK. Electronic address: kpmlabib@dundee.ac.uk.', 'pmc': '', 'other_id': '', 'medline_ta': 'Curr Biol', 'nlm_unique_id': '9107782', 'issn_linking': '0960-9822', 'country': 'England'}}>,\n",
      "    <Answer {'answer': 'under-replicated DNA in mitosis and inter-strand cross-links (ICLs) in S phase', 'type': 'extractive', 'score': 0.2701443135738373, 'context': 'air of certain DNA lesions, such as under-replicated DNA in mitosis and inter-strand cross-links (ICLs) in S phase. Although replisome disassembly in ', 'offsets_in_document': [{'start': 1090, 'end': 1168}], 'offsets_in_context': [{'start': 36, 'end': 114}], 'document_ids': ['32490508'], 'meta': {'title': 'Mechanisms of eukaryotic replisome disassembly.', 'issue': '48(3)', 'pages': '823-836', 'abstract': 'DNA replication is a complex process that needs to be executed accurately before cell division in order to maintain genome integrity. DNA replication is divided into three main stages: initiation, elongation and termination. One of the key events during initiation is the assembly of the replicative helicase at origins of replication, and this mechanism has been very well described over the last decades. In the last six years however, researchers have also focused on deciphering the molecular mechanisms underlying the disassembly of the replicative helicase during termination. Similar to replisome assembly, the mechanism of replisome disassembly is strictly regulated and well conserved throughout evolution, although its complexity increases in higher eukaryotes. While budding yeast rely on just one pathway for replisome disassembly in S phase, higher eukaryotes evolved an additional mitotic pathway over and above the default S phase specific pathway. Moreover, replisome disassembly has been recently found to be a key event prior to the repair of certain DNA lesions, such as under-replicated DNA in mitosis and inter-strand cross-links (ICLs) in S phase. Although replisome disassembly in human cells has not been characterised yet, they possess all of the factors involved in these pathways in model organisms, and de-regulation of many of them are known to contribute to tumorigenesis and other pathological conditions.', 'journal': 'Biochemical Society transactions', 'authors': 'Moreno|Sara Priego|SP|;Gambus|Agnieszka|A|', 'pubdate': '2020', 'pmid': '32490508', 'mesh_terms': 'D000818:Animals; D017173:Caenorhabditis elegans; D002453:Cell Cycle; D018797:Cell Cycle Proteins; D002470:Cell Survival; D004247:DNA; D004261:DNA Replication; D016678:Genome; D006801:Humans; D064168:Minichromosome Maintenance Complex Component 7; D008938:Mitosis; D009369:Neoplasms; D025941:Protein Interaction Mapping; D018741:Replication Origin; D016196:S Phase; D012441:Saccharomyces cerevisiae; D004718:Saccharomycetales; D025801:Ubiquitin; D044767:Ubiquitin-Protein Ligases; D054875:Ubiquitination; D014982:Xenopus laevis', 'publication_types': 'D016428:Journal Article; D016454:Review', 'chemical_list': 'D018797:Cell Cycle Proteins; D025801:Ubiquitin; D004247:DNA; D044767:Ubiquitin-Protein Ligases; C101624:MCM7 protein, human; D064168:Minichromosome Maintenance Complex Component 7', 'keywords': 'Cullin2-LRR1; TRAIP; genome integrity; p97; replisome disassembly; ubiquitylation', 'doi': '10.1042/BST20190363', 'references': '28368371;19910535;31545170;30675527;25739503;25835602;26255844;25957489;27555051;27075410;31200185;26866665;21981920;19913425;19965384;28537574;16531994;29530982;31509741;21317883;30850330;30849395;25342810;30804506;28355556;29357058;30979826;26711499;25643322;24267891;28301743;16487579;26322582;30700044;19896182;27565346;28451587;19465922;27462463;28740117;27200082;31249135;28886337;29357065;29123070;16421250;26595769;30842657;27086594;31249134;25342805;24553286;29924986;27516545;28620461;16751663;29489749;28235849;27644328;28739890;21719678;26633632;30647138;18805090;27649880;26121093;24726325', 'delete': False, 'affiliations': 'The Salk Institute for Biological Studies, 10010 N Torrey Pines Rd, La Jolla, CA 92037, U.S.A.;Institute for Cancer and Genomic Sciences, College of Medical and Dental Sciences, University of Birmingham, Edgbaston, Birmingham B15 2TT, U.K.', 'pmc': '', 'other_id': '', 'medline_ta': 'Biochem Soc Trans', 'nlm_unique_id': '7506897', 'issn_linking': '0300-5127', 'country': 'England'}}>]\n"
     ]
    }
   ],
   "source": [
    "print_answers(prediction, details=\"minimal\")"
   ]
  },
  {
   "cell_type": "code",
   "execution_count": null,
   "id": "48770f7d-a8af-429c-a542-f023699b0e4e",
   "metadata": {},
   "outputs": [],
   "source": []
  },
  {
   "cell_type": "code",
   "execution_count": null,
   "id": "edb040b4-eb61-4e16-8cab-7f64ddf054d7",
   "metadata": {},
   "outputs": [],
   "source": []
  },
  {
   "cell_type": "code",
   "execution_count": null,
   "id": "37ac9a29-dc08-41a8-a5be-15610f1359f2",
   "metadata": {},
   "outputs": [],
   "source": []
  },
  {
   "cell_type": "code",
   "execution_count": null,
   "id": "5e830079-3399-4b3a-ab37-efac0ac75bc6",
   "metadata": {},
   "outputs": [],
   "source": [
    "\"\"\"\n",
    ":param answer: The answer string. If there's no possible answer (aka \"no_answer\" or \"is_impossible) this will be an empty string.\n",
    "    :param type: One of (\"generative\", \"extractive\", \"other\"): Whether this answer comes from an extractive model\n",
    "                 (i.e. we can locate an exact answer string in one of the documents) or from a generative model\n",
    "                 (i.e. no pointer to a specific document, no offsets ...).\n",
    "    :param score: The relevance score of the Answer determined by a model (e.g. Reader or Generator).\n",
    "                  In the range of [0,1], where 1 means extremely relevant.\n",
    "    :param context: The related content that was used to create the answer (i.e. a text passage, part of a table, image ...)\n",
    "    :param offsets_in_document: List of `Span` objects with start and end positions of the answer **in the\n",
    "                                document** (as stored in the document store).\n",
    "                                For extractive QA: Character where answer starts => `Answer.offsets_in_document[0].start\n",
    "                                For TableQA: Cell where the answer starts (counted from top left to bottom right of table) => `Answer.offsets_in_document[0].start\n",
    "                                (Note that in TableQA there can be multiple cell ranges that are relevant for the answer, thus there can be multiple `Spans` here)\n",
    "    :param offsets_in_context: List of `Span` objects with start and end positions of the answer **in the\n",
    "                                context** (i.e. the surrounding text/table of a certain window size).\n",
    "                                For extractive QA: Character where answer starts => `Answer.offsets_in_document[0].start\n",
    "                                For TableQA: Cell where the answer starts (counted from top left to bottom right of table) => `Answer.offsets_in_document[0].start\n",
    "                                (Note that in TableQA there can be multiple cell ranges that are relevant for the answer, thus there can be multiple `Spans` here)\n",
    "    :param document_ids: IDs of the documents the answer came from (if any).\n",
    "                                For extractive QA, this will be a list of length 1.\n",
    "                                For generative QA, this will be a list of length > 0.\n",
    "    :param meta: Dict that can be used to associate any kind of custom meta data with the answer.\n",
    "                 In extractive QA, this will carry the meta data of the document where the answer was found.\n",
    "\"\"\""
   ]
  },
  {
   "cell_type": "code",
   "execution_count": null,
   "id": "94dd629a-2be3-4d96-a711-768f018a31d4",
   "metadata": {},
   "outputs": [],
   "source": [
    "\n",
    "class BioASQ_Reader(BaseReader):\n",
    "    \"\"\"\n",
    "    Extractive Question Answering interfase using the FARM framework (https://github.com/deepset-ai/FARM).\n",
    "    \"\"\"\n",
    "    \n",
    "    \n",
    "    def __init__(\n",
    "        self,\n",
    "        model_name_or_path: str,\n",
    "        model_version: Optional[str] = None,\n",
    "        return_no_answer: bool = False,\n",
    "        use_gpu: bool = True,\n",
    "        top_k: int = 10,\n",
    "        use_confidence_scores: bool = True,\n",
    "        confidence_threshold: Optional[float] = None\n",
    "    ):\n",
    "        \"\"\"\n",
    "        :param model_name_or_path: Directory of a saved model or the name of a public model e.g. 'bert-base-cased',\n",
    "        'deepset/bert-base-cased-squad2', 'deepset/bert-base-cased-squad2', 'distilbert-base-uncased-distilled-squad'.\n",
    "        See https://huggingface.co/models for full list of available models.\n",
    "        :param model_version: The version of model to use.\n",
    "        :param use_gpu: Whether to use GPUs or the CPU. Falls back on CPU if no GPU is available.\n",
    "        :param return_no_answer: Whether to include no_answer predictions in the results.\n",
    "        :param top_k: The maximum number of answers to return\n",
    "        :param use_confidence_scores: Determines the type of score that is used for ranking a predicted answer.\n",
    "        :param confidence_threshold: Filters out predictions below confidence_threshold. Value should be between 0 and 1. Disabled by default.\n",
    "        \"\"\"\n",
    "        super().__init__()\n",
    "\n",
    "        self.return_no_answers = return_no_answer\n",
    "        self.top_k = top_k\n",
    "        self.use_confidence_scores = use_confidence_scores\n",
    "        self.confidence_threshold = confidence_threshold\n",
    "        self.model_name_or_path = model_name_or_path  \n",
    "    \n",
    "\n",
    "    def predict(self, query: str, documents: List[Document], top_k: Optional[int] = None):\n",
    "        \"\"\"\n",
    "        Use loaded QA model to find answers for a query in the supplied list of Document.\n",
    "        Returns dictionaries containing answers sorted by (desc.) score.\n",
    "        Example:\n",
    "        ```python\n",
    "        {\n",
    "            'query': 'Who is the father of Arya Stark?',\n",
    "            'answers':[Answer(\n",
    "                         'answer': 'Eddard,',\n",
    "                         'context': \"She travels with her father, Eddard, to King's Landing when he is\",\n",
    "                         'score': 0.9787139466668613,\n",
    "                         'offsets_in_context': [Span(start=29, end=35],\n",
    "                         'offsets_in_context': [Span(start=347, end=353],\n",
    "                         'document_id': '88d1ed769d003939d3a0d28034464ab2'\n",
    "                         ),...\n",
    "                      ]\n",
    "        }\n",
    "         ```\n",
    "        :param query: Query string\n",
    "        :param documents: List of Document in which to search for the answer\n",
    "        :param top_k: The maximum number of answers to return\n",
    "        :return: Dict containing query and answers\n",
    "        \"\"\"\n",
    "        if top_k is None:\n",
    "            top_k = self.top_k\n",
    "        # convert input to FARM format\n",
    "        inputs = []\n",
    "        for doc in documents:\n",
    "            cur = QAInput(doc_text=doc.content, questions=Question(text=query, uid=doc.id))\n",
    "            inputs.append(cur)\n",
    "\n",
    "        # get answers from QA model\n",
    "        predictions = self.inferencer.inference_from_objects(\n",
    "            objects=inputs, return_json=False, multiprocessing_chunksize=1\n",
    "        )\n",
    "        # Deduplicate same answers resulting from Document split overlap\n",
    "        predictions = self._deduplicate_predictions(predictions, documents)\n",
    "        # assemble answers from all the different documents & format them.\n",
    "        answers, max_no_ans_gap = self._extract_answers_of_predictions(predictions, top_k)\n",
    "        # TODO: potentially simplify return here to List[Answer] and handle no_ans_gap differently\n",
    "        result = {\"query\": query, \"no_ans_gap\": max_no_ans_gap, \"answers\": answers}\n",
    "\n",
    "        return result\n",
    "    \n",
    "    \n",
    "    def predict_batch(\n",
    "        self,\n",
    "        queries: List[str],\n",
    "        documents: Union[List[Document], List[List[Document]]],\n",
    "        top_k: Optional[int] = None,\n",
    "        batch_size: Optional[int] = None,\n",
    "    ):\n",
    "        return []"
   ]
  }
 ],
 "metadata": {
  "kernelspec": {
   "display_name": "haystack-py310",
   "language": "python",
   "name": "haystack-py310"
  },
  "language_info": {
   "codemirror_mode": {
    "name": "ipython",
    "version": 3
   },
   "file_extension": ".py",
   "mimetype": "text/x-python",
   "name": "python",
   "nbconvert_exporter": "python",
   "pygments_lexer": "ipython3",
   "version": "3.10.10"
  }
 },
 "nbformat": 4,
 "nbformat_minor": 5
}
