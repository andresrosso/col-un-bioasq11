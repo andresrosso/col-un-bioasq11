{
 "cells": [
  {
   "cell_type": "code",
   "execution_count": 10,
   "id": "a423e1b3",
   "metadata": {},
   "outputs": [
    {
     "name": "stdout",
     "output_type": "stream",
     "text": [
      "2023-05-10 15:19:50 - Loading Corpus...\n"
     ]
    },
    {
     "data": {
      "application/vnd.jupyter.widget-view+json": {
       "model_id": "bf5dedf60e7f40b8993b98c40d4f5283",
       "version_major": 2,
       "version_minor": 0
      },
      "text/plain": [
       "  0%|          | 0/21873 [00:00<?, ?it/s]"
      ]
     },
     "metadata": {},
     "output_type": "display_data"
    },
    {
     "name": "stdout",
     "output_type": "stream",
     "text": [
      "2023-05-10 15:19:50 - Loaded 21873 TRAIN Documents.\n",
      "2023-05-10 15:19:50 - Doc Example: {'text': 'Hirschsprung disease (HSCR), or congenital intestinal aganglionosis, is a common hereditary disorder causing intestinal obstruction, thereby showing considerable phenotypic variation in conjunction with complex inheritance. Moreover, phenotypic assessment of the disease has been complicated since a subset of the observed mutations is also associated with several additional syndromic anomalies. Coding sequence mutations in e.g. RET, GDNF, EDNRB, EDN3, and SOX10 lead to long-segment (L-HSCR) as well as syndromic HSCR but fail to explain the transmission of the much more common short-segment form (S-HSCR). Furthermore, mutations in the RET gene are responsible for approximately half of the familial and some sporadic cases, strongly suggesting, on the one hand, the importance of non-coding variations and, on the other hand, that additional genes involved in the development of the enteric nervous system still await their discovery. For almost all of the identified HSCR genes incomplete penetrance of the HSCR phenotype has been reported, probably due to modifier loci. Therefore, HSCR has become a model for a complex oligo-/polygenic disorder in which the relationship between different genes creating a non-mendelian inheritance pattern still remains to be elucidated.', 'title': 'Hirschsprung, RET-SOX and beyond: the challenge of examining non-mendelian traits (Review).'}\n",
      "2023-05-10 15:19:50 - Loading Queries...\n",
      "2023-05-10 15:19:50 - Loaded 2251 TRAIN Queries.\n",
      "2023-05-10 15:19:50 - Query Example: Is Hirschsprung disease a mendelian or a multifactorial disorder?\n"
     ]
    }
   ],
   "source": [
    "from beir import util, LoggingHandler\n",
    "\n",
    "from beir.datasets.data_loader import GenericDataLoader\n",
    "from beir.retrieval.evaluation import EvaluateRetrieval\n",
    "from beir.retrieval.search.lexical import BM25Search as BM25\n",
    "from beir.reranking.models import CrossEncoder\n",
    "from operator import itemgetter\n",
    "import datetime\n",
    "import random\n",
    "\n",
    "import logging\n",
    "import pathlib, os, sys\n",
    "\n",
    "sys.path.append('../../')\n",
    "import globals\n",
    "from elastic_search_utils import elastic_utils\n",
    "import bioasq_eval\n",
    "from elasticsearch import Elasticsearch\n",
    "\n",
    "es = Elasticsearch(globals.ES.server)\n",
    "\n",
    "#### Just some code to print debug information to stdout\n",
    "logging.basicConfig(format='%(asctime)s - %(message)s',\n",
    "                    datefmt='%Y-%m-%d %H:%M:%S',\n",
    "                    level=logging.INFO,\n",
    "                    handlers=[LoggingHandler()])\n",
    "#### /print debug information to stdout\n",
    "\n",
    "bioasq_beir_home = f'{globals.PATH.home}/data/bioasq_beir/taskb_6_7'\n",
    "\n",
    "\n",
    "#### Just some code to print debug information to stdout\n",
    "logging.basicConfig(format='%(asctime)s - %(message)s',\n",
    "                    datefmt='%Y-%m-%d %H:%M:%S',\n",
    "                    level=logging.INFO,\n",
    "                    handlers=[LoggingHandler()])\n",
    "#### /print debug information to stdout\n",
    "\n",
    "sys.path.insert(0, bioasq_beir_home)\n",
    "\n",
    "corpus, queries, qrels = GenericDataLoader(bioasq_beir_home).load(split=\"train\")\n",
    "#pip install beir"
   ]
  },
  {
   "cell_type": "code",
   "execution_count": 12,
   "id": "19f3a11f",
   "metadata": {},
   "outputs": [
    {
     "name": "stdout",
     "output_type": "stream",
     "text": [
      "2023-05-10 15:24:42 - Activating Elasticsearch....\n",
      "2023-05-10 15:24:42 - Elastic Search Credentials: {'hostname': 'http://localhost:9200', 'index_name': 'pubmed2023-old', 'keys': {'title': 'title', 'body': 'txt'}, 'timeout': 100, 'retry_on_timeout': True, 'maxsize': 24, 'number_of_shards': 'default', 'language': 'english'}\n",
      "2023-05-10 15:24:42 - Deleting previous Elasticsearch-Index named - pubmed2023-old\n"
     ]
    },
    {
     "name": "stderr",
     "output_type": "stream",
     "text": [
      "/home/andresr/.conda/envs/haystack-py310/lib/python3.10/site-packages/elasticsearch/connection/base.py:190: ElasticsearchDeprecationWarning: Elasticsearch built-in security features are not enabled. Without authentication, your cluster could be accessible to anyone. See https://www.elastic.co/guide/en/elasticsearch/reference/7.17/security-minimal-setup.html to enable security.\n",
      "  warnings.warn(message, category=ElasticsearchDeprecationWarning)\n"
     ]
    },
    {
     "name": "stdout",
     "output_type": "stream",
     "text": [
      "2023-05-10 15:24:44 - Creating fresh Elasticsearch-Index named - pubmed2023-old\n"
     ]
    }
   ],
   "source": [
    "#### Provide parameters for Elasticsearch\n",
    "hostname = globals.ES.server\n",
    "index_name = globals.ES.index\n",
    "model = BM25(index_name=index_name, hostname=hostname)\n",
    "bm25 = EvaluateRetrieval(model)"
   ]
  },
  {
   "cell_type": "code",
   "execution_count": null,
   "id": "a715b625",
   "metadata": {},
   "outputs": [],
   "source": []
  }
 ],
 "metadata": {
  "kernelspec": {
   "display_name": "haystack-py310",
   "language": "python",
   "name": "haystack-py310"
  },
  "language_info": {
   "codemirror_mode": {
    "name": "ipython",
    "version": 3
   },
   "file_extension": ".py",
   "mimetype": "text/x-python",
   "name": "python",
   "nbconvert_exporter": "python",
   "pygments_lexer": "ipython3",
   "version": "3.10.10"
  }
 },
 "nbformat": 4,
 "nbformat_minor": 5
}
