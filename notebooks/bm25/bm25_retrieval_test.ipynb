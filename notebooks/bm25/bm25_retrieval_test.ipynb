{
 "cells": [
  {
   "cell_type": "markdown",
   "id": "d1e9ce4c-a696-4bae-9591-5918421a043f",
   "metadata": {},
   "source": [
    "# Test retrieval from BM25\n",
    "This notebook uses BM25 to retrieve a series of candidates usable for next models or even, snippet retrieval directly."
   ]
  },
  {
   "cell_type": "markdown",
   "id": "20f93f69-05e2-4efb-91fd-1dbbf6f10fa7",
   "metadata": {},
   "source": [
    "## Imports"
   ]
  },
  {
   "cell_type": "code",
   "execution_count": 1,
   "id": "8a06692e-04c7-4a45-8f85-0ace2fddb8a4",
   "metadata": {},
   "outputs": [],
   "source": [
    "%load_ext autoreload\n",
    "%autoreload 2\n",
    "\n",
    "import copy\n",
    "import logging\n",
    "from pprint import pprint\n",
    "\n",
    "logger = logging.getLogger(__name__)\n",
    "logger.setLevel(logging.INFO)\n",
    "\n",
    "from src.cemb_bm25 import centroid_retrieval\n",
    "from src.elastic_search_utils.elastic_utils import load_json, save_json"
   ]
  },
  {
   "cell_type": "code",
   "execution_count": 2,
   "id": "138682f5-3f53-4e3d-bc7f-4cfe19517655",
   "metadata": {},
   "outputs": [
    {
     "name": "stdout",
     "output_type": "stream",
     "text": [
      "/datasets/anaconda3/envs/tf2.8/bin/python\n"
     ]
    }
   ],
   "source": [
    "!which python"
   ]
  },
  {
   "cell_type": "markdown",
   "id": "49547b6e-b03d-4c29-a86c-d4db50c7a8ee",
   "metadata": {},
   "source": [
    "## Params"
   ]
  },
  {
   "cell_type": "code",
   "execution_count": 3,
   "id": "3e9b7ba8-4f63-4e99-a3f7-e1453937458b",
   "metadata": {},
   "outputs": [],
   "source": [
    "BM25_QUESTIONS = '/datasets/johan_tests_original_format/test_docs_10b-testset4.json'"
   ]
  },
  {
   "cell_type": "code",
   "execution_count": 4,
   "id": "167fb9dd-38f8-4794-8882-8e2f389cc763",
   "metadata": {},
   "outputs": [],
   "source": [
    "LOADING_FOLDER = '/datasets/johan_tests_original_format/merged_training_docs'\n",
    "\n",
    "LOADING_ABSTRACT_W2V_PATH = f'{LOADING_FOLDER}/Bio_Word2Vec_doc_abstract_model_10b_train.bin'\n",
    "LOADING_TITLE_W2V_PATH = f'{LOADING_FOLDER}/Bio_Word2Vec_doc_title_model_10b_train.bin'\n",
    "LOADING_QUESTION_W2V_PATH = f'{LOADING_FOLDER}/Bio_Word2Vec_doc_question_model_10b_train.bin'"
   ]
  },
  {
   "cell_type": "markdown",
   "id": "e9618f7c-ccb7-43a3-b572-f1288bb2af19",
   "metadata": {},
   "source": [
    "## Saving directions"
   ]
  },
  {
   "cell_type": "code",
   "execution_count": 5,
   "id": "7a4fc623-f474-4c09-a8d1-143901bc6ae4",
   "metadata": {},
   "outputs": [],
   "source": [
    "SAVING_FOLDER = '/datasets/johan_tests_original_format/merged_training_docs'\n",
    "\n",
    "SAVING_ORIGINAL_PATH = f'{SAVING_FOLDER}/test_original_10b-testset4.json'\n",
    "SAVING_TOKENS_PATH = f'{SAVING_FOLDER}/test_tokens_10b-testset4.json'\n",
    "SAVING_ENTITY_PATH = f'{SAVING_FOLDER}/test_entity_10b-testset4.json'"
   ]
  },
  {
   "cell_type": "markdown",
   "id": "a6a9b72d-dac6-4d8a-9cbf-4b90746a9d27",
   "metadata": {},
   "source": [
    "## Constants"
   ]
  },
  {
   "cell_type": "code",
   "execution_count": 6,
   "id": "978605c1-d1e6-4d2a-bc27-ca1ef067872e",
   "metadata": {},
   "outputs": [],
   "source": [
    "questions = load_json(BM25_QUESTIONS)"
   ]
  },
  {
   "cell_type": "markdown",
   "id": "b44cdb78-3bd0-4622-8d56-9f4019762c97",
   "metadata": {},
   "source": [
    "## Extracting unique document info\n",
    "Only documents with abstract will be kept.\n",
    "\n",
    "One dict cleaned-tokenized, another only cleaned."
   ]
  },
  {
   "cell_type": "code",
   "execution_count": 7,
   "id": "dc96a21d-cc1f-4f4a-80dc-e2ea47e15a29",
   "metadata": {},
   "outputs": [
    {
     "name": "stderr",
     "output_type": "stream",
     "text": [
      "Extracting unique doc info: 100%|███████████████████████████████████████████████████████████████████████████████████████████████████████████████████████████████████████████████| 90/90 [00:00<00:00, 34345.13it/s]\n"
     ]
    }
   ],
   "source": [
    "unique_docs = centroid_retrieval.extract_unique_doc_info(\n",
    "    questions=questions['questions']\n",
    ")"
   ]
  },
  {
   "cell_type": "markdown",
   "id": "f24e0aab-8c88-403c-84e6-d7fb7876cbff",
   "metadata": {},
   "source": [
    "## Extracting tokens for valid documents"
   ]
  },
  {
   "cell_type": "code",
   "execution_count": 8,
   "id": "cf6dcc51-30d7-4d21-a150-e123e1ec49be",
   "metadata": {},
   "outputs": [
    {
     "name": "stderr",
     "output_type": "stream",
     "text": [
      "[Parallel(n_jobs=16)]: Using backend LokyBackend with 16 concurrent workers.\n",
      "[Parallel(n_jobs=16)]: Done   9 tasks      | elapsed:    4.7s\n",
      "[Parallel(n_jobs=16)]: Done  18 tasks      | elapsed:    4.7s\n",
      "[Parallel(n_jobs=16)]: Done  29 tasks      | elapsed:    4.8s\n",
      "[Parallel(n_jobs=16)]: Batch computation too fast (0.1810s.) Setting batch_size=2.\n",
      "[Parallel(n_jobs=16)]: Done  40 tasks      | elapsed:    4.8s\n",
      "[Parallel(n_jobs=16)]: Done  53 tasks      | elapsed:    4.8s\n",
      "[Parallel(n_jobs=16)]: Done  66 tasks      | elapsed:    4.8s\n",
      "[Parallel(n_jobs=16)]: Batch computation too fast (0.0286s.) Setting batch_size=4.\n",
      "[Parallel(n_jobs=16)]: Done  91 tasks      | elapsed:    4.8s\n",
      "[Parallel(n_jobs=16)]: Done 120 tasks      | elapsed:    4.8s\n",
      "[Parallel(n_jobs=16)]: Batch computation too fast (0.0346s.) Setting batch_size=8.\n",
      "[Parallel(n_jobs=16)]: Done 160 tasks      | elapsed:    4.9s\n",
      "[Parallel(n_jobs=16)]: Done 225 tasks      | elapsed:    4.9s\n",
      "[Parallel(n_jobs=16)]: Batch computation too fast (0.0641s.) Setting batch_size=16.\n",
      "[Parallel(n_jobs=16)]: Done 312 tasks      | elapsed:    4.9s\n",
      "[Parallel(n_jobs=16)]: Done 464 tasks      | elapsed:    5.0s\n",
      "[Parallel(n_jobs=16)]: Batch computation too fast (0.1073s.) Setting batch_size=32.\n",
      "[Parallel(n_jobs=16)]: Done 736 tasks      | elapsed:    5.1s\n",
      "[Parallel(n_jobs=16)]: Batch computation too fast (0.1121s.) Setting batch_size=64.\n",
      "[Parallel(n_jobs=16)]: Done 1104 tasks      | elapsed:    5.2s\n",
      "[Parallel(n_jobs=16)]: Done 1840 tasks      | elapsed:    5.3s\n",
      "[Parallel(n_jobs=16)]: Done 3088 tasks      | elapsed:    5.5s\n",
      "[Parallel(n_jobs=16)]: Done 4688 tasks      | elapsed:    5.9s\n",
      "[Parallel(n_jobs=16)]: Done 5462 tasks      | elapsed:    6.0s\n",
      "[Parallel(n_jobs=16)]: Done 6069 tasks      | elapsed:    6.1s\n",
      "[Parallel(n_jobs=16)]: Done 6440 tasks      | elapsed:    6.1s\n",
      "[Parallel(n_jobs=16)]: Done 6585 tasks      | elapsed:    6.1s\n",
      "[Parallel(n_jobs=16)]: Done 6730 tasks      | elapsed:    6.1s\n",
      "[Parallel(n_jobs=16)]: Done 6885 tasks      | elapsed:    6.2s\n",
      "[Parallel(n_jobs=16)]: Done 7098 out of 7098 | elapsed:    6.2s finished\n"
     ]
    }
   ],
   "source": [
    "tokenized_unique_docs = centroid_retrieval.docs_to_tokens(\n",
    "    unique_docs=unique_docs,\n",
    "    n_jobs=16\n",
    ")"
   ]
  },
  {
   "cell_type": "markdown",
   "id": "06642171-1bfc-4300-8114-6e87dd9784bb",
   "metadata": {},
   "source": [
    "## Extracting entities for valid documents"
   ]
  },
  {
   "cell_type": "code",
   "execution_count": 9,
   "id": "7b2c797b-3d94-42e1-903d-0d1bd76a7c2c",
   "metadata": {},
   "outputs": [
    {
     "name": "stderr",
     "output_type": "stream",
     "text": [
      "[Parallel(n_jobs=16)]: Using backend LokyBackend with 16 concurrent workers.\n",
      "[Parallel(n_jobs=16)]: Batch computation too fast (0.0692s.) Setting batch_size=2.\n",
      "[Parallel(n_jobs=16)]: Done   9 tasks      | elapsed:    0.2s\n",
      "[Parallel(n_jobs=16)]: Done  18 tasks      | elapsed:    0.3s\n",
      "[Parallel(n_jobs=16)]: Done  29 tasks      | elapsed:    0.4s\n",
      "[Parallel(n_jobs=16)]: Done  48 tasks      | elapsed:    0.8s\n",
      "[Parallel(n_jobs=16)]: Done  74 tasks      | elapsed:    1.1s\n",
      "[Parallel(n_jobs=16)]: Done 100 tasks      | elapsed:    1.4s\n",
      "[Parallel(n_jobs=16)]: Done 130 tasks      | elapsed:    1.7s\n",
      "[Parallel(n_jobs=16)]: Done 160 tasks      | elapsed:    2.0s\n",
      "[Parallel(n_jobs=16)]: Done 194 tasks      | elapsed:    2.4s\n",
      "[Parallel(n_jobs=16)]: Done 228 tasks      | elapsed:    2.9s\n",
      "[Parallel(n_jobs=16)]: Done 266 tasks      | elapsed:    3.4s\n",
      "[Parallel(n_jobs=16)]: Done 304 tasks      | elapsed:    3.9s\n",
      "[Parallel(n_jobs=16)]: Done 346 tasks      | elapsed:    4.4s\n",
      "[Parallel(n_jobs=16)]: Done 388 tasks      | elapsed:    4.9s\n",
      "[Parallel(n_jobs=16)]: Done 434 tasks      | elapsed:    5.3s\n",
      "[Parallel(n_jobs=16)]: Done 480 tasks      | elapsed:    5.8s\n",
      "[Parallel(n_jobs=16)]: Done 530 tasks      | elapsed:    6.3s\n",
      "[Parallel(n_jobs=16)]: Done 580 tasks      | elapsed:    6.8s\n",
      "[Parallel(n_jobs=16)]: Done 634 tasks      | elapsed:    7.3s\n",
      "[Parallel(n_jobs=16)]: Done 688 tasks      | elapsed:    7.7s\n",
      "[Parallel(n_jobs=16)]: Done 746 tasks      | elapsed:    8.2s\n",
      "[Parallel(n_jobs=16)]: Done 804 tasks      | elapsed:    8.7s\n",
      "[Parallel(n_jobs=16)]: Done 866 tasks      | elapsed:    9.3s\n",
      "[Parallel(n_jobs=16)]: Done 928 tasks      | elapsed:   10.0s\n",
      "[Parallel(n_jobs=16)]: Done 994 tasks      | elapsed:   10.6s\n",
      "[Parallel(n_jobs=16)]: Done 1060 tasks      | elapsed:   11.1s\n",
      "[Parallel(n_jobs=16)]: Done 1130 tasks      | elapsed:   11.7s\n",
      "[Parallel(n_jobs=16)]: Done 1200 tasks      | elapsed:   12.3s\n",
      "[Parallel(n_jobs=16)]: Done 1274 tasks      | elapsed:   13.1s\n",
      "[Parallel(n_jobs=16)]: Done 1348 tasks      | elapsed:   13.8s\n",
      "[Parallel(n_jobs=16)]: Done 1426 tasks      | elapsed:   14.4s\n",
      "[Parallel(n_jobs=16)]: Done 1504 tasks      | elapsed:   15.4s\n",
      "[Parallel(n_jobs=16)]: Done 1586 tasks      | elapsed:   16.0s\n",
      "[Parallel(n_jobs=16)]: Done 1668 tasks      | elapsed:   16.8s\n",
      "[Parallel(n_jobs=16)]: Done 1754 tasks      | elapsed:   17.7s\n",
      "[Parallel(n_jobs=16)]: Done 1840 tasks      | elapsed:   18.5s\n",
      "[Parallel(n_jobs=16)]: Done 1930 tasks      | elapsed:   19.3s\n",
      "[Parallel(n_jobs=16)]: Done 2020 tasks      | elapsed:   19.9s\n",
      "[Parallel(n_jobs=16)]: Done 2114 tasks      | elapsed:   20.8s\n",
      "[Parallel(n_jobs=16)]: Done 2208 tasks      | elapsed:   21.7s\n",
      "[Parallel(n_jobs=16)]: Done 2306 tasks      | elapsed:   22.7s\n",
      "[Parallel(n_jobs=16)]: Done 2404 tasks      | elapsed:   23.7s\n",
      "[Parallel(n_jobs=16)]: Done 2506 tasks      | elapsed:   24.6s\n",
      "[Parallel(n_jobs=16)]: Done 2608 tasks      | elapsed:   25.6s\n",
      "[Parallel(n_jobs=16)]: Done 2714 tasks      | elapsed:   26.4s\n",
      "[Parallel(n_jobs=16)]: Done 2820 tasks      | elapsed:   27.7s\n",
      "[Parallel(n_jobs=16)]: Done 2930 tasks      | elapsed:   28.6s\n",
      "[Parallel(n_jobs=16)]: Done 3040 tasks      | elapsed:   29.6s\n",
      "[Parallel(n_jobs=16)]: Done 3154 tasks      | elapsed:   30.6s\n",
      "[Parallel(n_jobs=16)]: Done 3268 tasks      | elapsed:   32.0s\n",
      "[Parallel(n_jobs=16)]: Done 3386 tasks      | elapsed:   32.9s\n",
      "[Parallel(n_jobs=16)]: Done 3504 tasks      | elapsed:   34.0s\n",
      "[Parallel(n_jobs=16)]: Done 3626 tasks      | elapsed:   35.2s\n",
      "[Parallel(n_jobs=16)]: Done 3748 tasks      | elapsed:   36.4s\n",
      "[Parallel(n_jobs=16)]: Done 3874 tasks      | elapsed:   37.8s\n",
      "[Parallel(n_jobs=16)]: Done 4000 tasks      | elapsed:   38.9s\n",
      "[Parallel(n_jobs=16)]: Done 4130 tasks      | elapsed:   40.2s\n",
      "[Parallel(n_jobs=16)]: Done 4260 tasks      | elapsed:   41.7s\n",
      "[Parallel(n_jobs=16)]: Done 4394 tasks      | elapsed:   42.9s\n",
      "[Parallel(n_jobs=16)]: Done 4528 tasks      | elapsed:   44.1s\n",
      "[Parallel(n_jobs=16)]: Done 4666 tasks      | elapsed:   45.5s\n",
      "[Parallel(n_jobs=16)]: Done 4804 tasks      | elapsed:   46.9s\n",
      "[Parallel(n_jobs=16)]: Done 4946 tasks      | elapsed:   48.1s\n",
      "[Parallel(n_jobs=16)]: Done 5088 tasks      | elapsed:   49.4s\n",
      "[Parallel(n_jobs=16)]: Done 5234 tasks      | elapsed:   50.8s\n",
      "[Parallel(n_jobs=16)]: Done 5380 tasks      | elapsed:   52.3s\n",
      "[Parallel(n_jobs=16)]: Done 5530 tasks      | elapsed:   53.9s\n",
      "[Parallel(n_jobs=16)]: Done 5680 tasks      | elapsed:   55.3s\n",
      "[Parallel(n_jobs=16)]: Done 5834 tasks      | elapsed:   56.6s\n",
      "[Parallel(n_jobs=16)]: Done 5988 tasks      | elapsed:   58.1s\n",
      "[Parallel(n_jobs=16)]: Done 6146 tasks      | elapsed:   59.4s\n",
      "[Parallel(n_jobs=16)]: Done 6304 tasks      | elapsed:  1.0min\n",
      "[Parallel(n_jobs=16)]: Done 6466 tasks      | elapsed:  1.0min\n",
      "[Parallel(n_jobs=16)]: Done 6628 tasks      | elapsed:  1.1min\n",
      "[Parallel(n_jobs=16)]: Done 6794 tasks      | elapsed:  1.1min\n",
      "[Parallel(n_jobs=16)]: Done 6960 tasks      | elapsed:  1.1min\n",
      "[Parallel(n_jobs=16)]: Done 7067 out of 7098 | elapsed:  1.1min remaining:    0.3s\n",
      "[Parallel(n_jobs=16)]: Done 7098 out of 7098 | elapsed:  1.1min finished\n"
     ]
    }
   ],
   "source": [
    "entitized_unique_docs = centroid_retrieval.docs_to_entities(\n",
    "    unique_docs=unique_docs,\n",
    "    n_jobs=16\n",
    ")"
   ]
  },
  {
   "cell_type": "markdown",
   "id": "2cab8c72-e405-4301-baa9-d34250c5d506",
   "metadata": {
    "tags": []
   },
   "source": [
    "## Tokenize question body and replace documents with tokenized documents"
   ]
  },
  {
   "cell_type": "code",
   "execution_count": 10,
   "id": "48874d39-4265-465b-8358-793f6260cebe",
   "metadata": {},
   "outputs": [
    {
     "name": "stderr",
     "output_type": "stream",
     "text": [
      "Selecting useful documents: 100%|████████████████████████████████████████████████████████████████████████████████████████████████████████████████████████████████████████████████| 90/90 [00:00<00:00, 4331.47it/s]\n"
     ]
    }
   ],
   "source": [
    "tokenized_questions, question_solving_doc_ids = centroid_retrieval.select_questions_useful_documents(\n",
    "    questions=questions['questions'],\n",
    "    unique_docs=tokenized_unique_docs\n",
    ")"
   ]
  },
  {
   "cell_type": "code",
   "execution_count": 11,
   "id": "013e5ab0-5b56-4996-ae84-1525fcdf4c8b",
   "metadata": {},
   "outputs": [],
   "source": [
    "tokenized_questions = {'questions': tokenized_questions}"
   ]
  },
  {
   "cell_type": "markdown",
   "id": "58877ddf-3a4e-43ac-abc0-6ac8c057aca3",
   "metadata": {},
   "source": [
    "## (Graph entity dict) Tokenize question body and replace documents with entity extracted documents"
   ]
  },
  {
   "cell_type": "code",
   "execution_count": 12,
   "id": "f13c39b6-685a-4c10-8f03-216272ca79c9",
   "metadata": {},
   "outputs": [
    {
     "name": "stderr",
     "output_type": "stream",
     "text": [
      "Selecting useful documents: 100%|████████████████████████████████████████████████████████████████████████████████████████████████████████████████████████████████████████████████| 90/90 [00:00<00:00, 4224.44it/s]\n"
     ]
    }
   ],
   "source": [
    "graph_questions, question_solving_doc_ids = centroid_retrieval.select_questions_useful_documents(\n",
    "    questions=questions['questions'],\n",
    "    unique_docs=entitized_unique_docs\n",
    ")"
   ]
  },
  {
   "cell_type": "code",
   "execution_count": 13,
   "id": "1efe0b24-e970-436f-92f7-5cb4a25d25da",
   "metadata": {},
   "outputs": [],
   "source": [
    "graph_questions = {'questions': graph_questions}"
   ]
  },
  {
   "cell_type": "markdown",
   "id": "aab486ae-53f0-4dcb-bf7e-38fdd2e7d86e",
   "metadata": {},
   "source": [
    "## Extracting unique tokenized abstracts and titles for word2vec"
   ]
  },
  {
   "cell_type": "code",
   "execution_count": 14,
   "id": "a502a63e-68ee-4432-b879-6ffa34cea734",
   "metadata": {},
   "outputs": [],
   "source": [
    "unique_abstract_tokens, unique_title_tokens = centroid_retrieval.extract_unique_titles_and_abstracts(\n",
    "    tokenized_unique_docs=tokenized_unique_docs,\n",
    "    question_solving_doc_ids=question_solving_doc_ids\n",
    ")"
   ]
  },
  {
   "cell_type": "code",
   "execution_count": 15,
   "id": "e6e402c2-189c-4ac8-a3d4-e7c68dcbaf66",
   "metadata": {},
   "outputs": [
    {
     "data": {
      "text/plain": [
       "(7098, 7098)"
      ]
     },
     "execution_count": 15,
     "metadata": {},
     "output_type": "execute_result"
    }
   ],
   "source": [
    "len(unique_abstract_tokens), len(unique_title_tokens)"
   ]
  },
  {
   "cell_type": "code",
   "execution_count": 16,
   "id": "158d1de4-a2e3-4872-83ba-d6f558a5e57b",
   "metadata": {},
   "outputs": [
    {
     "data": {
      "text/plain": [
       "(165, 11)"
      ]
     },
     "execution_count": 16,
     "metadata": {},
     "output_type": "execute_result"
    }
   ],
   "source": [
    "len(list(unique_abstract_tokens.values())[0]), len(list(unique_title_tokens.values())[0])"
   ]
  },
  {
   "cell_type": "markdown",
   "id": "f96ef20a-931f-466c-b1f8-0b57f666f862",
   "metadata": {},
   "source": [
    "## Extracting unique tokenized questions for word2vec"
   ]
  },
  {
   "cell_type": "code",
   "execution_count": 17,
   "id": "c064bb00-ca79-4d64-8474-a634ec4a79bb",
   "metadata": {},
   "outputs": [],
   "source": [
    "unique_question_tokens = centroid_retrieval.extract_unique_questions(\n",
    "    tokenized_questions['questions']\n",
    ")"
   ]
  },
  {
   "cell_type": "code",
   "execution_count": 18,
   "id": "714c4e0b-0f21-4f7f-bbb5-068e10b2dc86",
   "metadata": {},
   "outputs": [
    {
     "data": {
      "text/plain": [
       "90"
      ]
     },
     "execution_count": 18,
     "metadata": {},
     "output_type": "execute_result"
    }
   ],
   "source": [
    "len(unique_question_tokens)"
   ]
  },
  {
   "cell_type": "code",
   "execution_count": 19,
   "id": "713f0f9f-4e13-4604-803f-58cfa4e12b40",
   "metadata": {},
   "outputs": [
    {
     "data": {
      "text/plain": [
       "10"
      ]
     },
     "execution_count": 19,
     "metadata": {},
     "output_type": "execute_result"
    }
   ],
   "source": [
    "len(list(unique_question_tokens.values())[0])"
   ]
  },
  {
   "cell_type": "markdown",
   "id": "91c49699-8900-4d63-8f0b-1b9b66816c26",
   "metadata": {
    "tags": []
   },
   "source": [
    "## Sorting scores in descending fashion\n",
    "### Making question_scores artificial dict"
   ]
  },
  {
   "cell_type": "code",
   "execution_count": 20,
   "id": "ae7edb00-a53c-4d8f-ab97-19e01885265d",
   "metadata": {},
   "outputs": [],
   "source": [
    "question_scores = {\n",
    "    question['id']: {\n",
    "        doc['id']: doc['score']\n",
    "        for doc in question['documents']\n",
    "    }\n",
    "    for question in tokenized_questions['questions']\n",
    "}"
   ]
  },
  {
   "cell_type": "markdown",
   "id": "8b9993e6-9a2a-42a6-8d8a-042d4e5938e0",
   "metadata": {},
   "source": [
    "### Original dict (for Andres model)"
   ]
  },
  {
   "cell_type": "code",
   "execution_count": 21,
   "id": "ec8fd662-b6b4-4999-a216-6e488e79764c",
   "metadata": {},
   "outputs": [
    {
     "name": "stderr",
     "output_type": "stream",
     "text": [
      "Updating dictionary with centroid scores: 100%|█████████████████████████████████████████████████████████████████████████████████████████████████████████████████████████████████| 90/90 [00:00<00:00, 15588.99it/s]\n"
     ]
    }
   ],
   "source": [
    "centroid_retrieval.update_question_scores_from_raw_data(\n",
    "    raw_questions=questions['questions'],\n",
    "    question_scores=question_scores\n",
    ")"
   ]
  },
  {
   "cell_type": "markdown",
   "id": "8e791d39-64ac-4e77-a2eb-4a1b8dae4289",
   "metadata": {},
   "source": [
    "### Tokenized dict"
   ]
  },
  {
   "cell_type": "code",
   "execution_count": 22,
   "id": "7e37f0ed-f135-4d26-bbf6-fe1fe6501ef8",
   "metadata": {},
   "outputs": [
    {
     "name": "stderr",
     "output_type": "stream",
     "text": [
      "Updating dictionary with centroid scores: 100%|█████████████████████████████████████████████████████████████████████████████████████████████████████████████████████████████████| 90/90 [00:00<00:00, 26201.66it/s]\n"
     ]
    }
   ],
   "source": [
    "centroid_retrieval.update_question_scores(\n",
    "    raw_questions=tokenized_questions['questions'],\n",
    "    question_scores=question_scores\n",
    ")"
   ]
  },
  {
   "cell_type": "markdown",
   "id": "36a2d657-d410-4b85-9e80-ee40ade8da59",
   "metadata": {},
   "source": [
    "### Graph dict (only tokens and entities)"
   ]
  },
  {
   "cell_type": "code",
   "execution_count": 23,
   "id": "bdde0588-1de7-4c96-be1b-509d62242b5c",
   "metadata": {},
   "outputs": [
    {
     "name": "stderr",
     "output_type": "stream",
     "text": [
      "Updating dictionary with centroid scores: 100%|█████████████████████████████████████████████████████████████████████████████████████████████████████████████████████████████████| 90/90 [00:00<00:00, 19111.35it/s]\n"
     ]
    }
   ],
   "source": [
    "centroid_retrieval.update_question_scores(\n",
    "    raw_questions=graph_questions['questions'],\n",
    "    question_scores=question_scores\n",
    ")"
   ]
  },
  {
   "cell_type": "markdown",
   "id": "9d7c36e3-4ea7-4389-ac30-dfc8e286757e",
   "metadata": {},
   "source": [
    "## Saving into disk"
   ]
  },
  {
   "cell_type": "code",
   "execution_count": 24,
   "id": "dfe39800-c1a0-4d5c-8fea-8442ad0dabdd",
   "metadata": {},
   "outputs": [],
   "source": [
    "save_json(questions, SAVING_ORIGINAL_PATH)"
   ]
  },
  {
   "cell_type": "code",
   "execution_count": 25,
   "id": "4325024c-917a-4323-8820-d26d0cc5e018",
   "metadata": {},
   "outputs": [],
   "source": [
    "save_json(tokenized_questions, SAVING_TOKENS_PATH)"
   ]
  },
  {
   "cell_type": "code",
   "execution_count": 26,
   "id": "8f453cb1-6446-4b89-bc11-fe90ad46de2e",
   "metadata": {},
   "outputs": [],
   "source": [
    "save_json(graph_questions, SAVING_ENTITY_PATH)"
   ]
  },
  {
   "cell_type": "code",
   "execution_count": 27,
   "id": "92b33e78-f66b-4846-9a94-dfb5287bdff6",
   "metadata": {},
   "outputs": [
    {
     "data": {
      "text/plain": [
       "dict_keys(['id', 'score', 'title', 'abstract', 'mesh_terms', 'origin'])"
      ]
     },
     "execution_count": 27,
     "metadata": {},
     "output_type": "execute_result"
    }
   ],
   "source": [
    "questions['questions'][0]['documents'][0].keys()"
   ]
  }
 ],
 "metadata": {
  "kernelspec": {
   "display_name": "Python [conda env:tf2.8] *",
   "language": "python",
   "name": "conda-env-tf2.8-py"
  },
  "language_info": {
   "codemirror_mode": {
    "name": "ipython",
    "version": 3
   },
   "file_extension": ".py",
   "mimetype": "text/x-python",
   "name": "python",
   "nbconvert_exporter": "python",
   "pygments_lexer": "ipython3",
   "version": "3.9.7"
  }
 },
 "nbformat": 4,
 "nbformat_minor": 5
}
