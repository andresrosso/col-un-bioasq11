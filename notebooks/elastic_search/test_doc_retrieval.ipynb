{
 "cells": [
  {
   "cell_type": "markdown",
   "id": "6ebea225-7e23-4abd-a8ee-97847df7a621",
   "metadata": {
    "tags": []
   },
   "source": [
    "## Imports"
   ]
  },
  {
   "cell_type": "code",
   "execution_count": 3,
   "id": "7abc2f09-455d-40ab-8c2a-9c2c7030937b",
   "metadata": {},
   "outputs": [
    {
     "name": "stdout",
     "output_type": "stream",
     "text": [
      "The autoreload extension is already loaded. To reload it, use:\n",
      "  %reload_ext autoreload\n",
      "Home path : /opt/bioasq/col-un-bioasq11\n",
      "Eval path : /opt/bioasq/Evaluation-Measures\n"
     ]
    }
   ],
   "source": [
    "%load_ext autoreload\n",
    "%autoreload 2\n",
    "import os\n",
    "import re\n",
    "import json\n",
    "import copy\n",
    "import sys\n",
    "from tqdm import tqdm\n",
    "from pprint import pprint\n",
    "\n",
    "import matplotlib.pyplot as plt\n",
    "import seaborn as sns\n",
    "\n",
    "import pytrec_eval\n",
    "import numpy as np\n",
    "import pandas as pd\n",
    "from elasticsearch import Elasticsearch\n",
    "\n",
    "\n",
    "sys.path.append('../../')\n",
    "import globals\n",
    "from elastic_search_utils import elastic_utils"
   ]
  },
  {
   "cell_type": "markdown",
   "id": "3802a738-3019-4039-a683-a8b00c13bf42",
   "metadata": {},
   "source": [
    "## Params"
   ]
  },
  {
   "cell_type": "code",
   "execution_count": 4,
   "id": "38b6fa68-583d-4b47-b7e7-2563f858571d",
   "metadata": {},
   "outputs": [],
   "source": [
    "ELASTIC_SERVER = \"http://localhost:9200\"\n",
    "QUESTIONS_PATH = \"../../data/raw/training11b.json\"\n",
    "N_ANSWERS = 100\n",
    "SEARCH_FIELDS = ['title', 'abstract', 'mesh_terms']\n",
    "SEARCH_INDEX = 'pubmed2023-old'\n",
    "\n",
    "SAVING_PATH_TEST = '/opt/bioasq/tmp/test_docs_11b.json'"
   ]
  },
  {
   "cell_type": "markdown",
   "id": "f449d7b6-c364-4f48-8e62-118840875aa0",
   "metadata": {},
   "source": [
    "## Constants"
   ]
  },
  {
   "cell_type": "code",
   "execution_count": 5,
   "id": "f7e7fd3d-9ef3-4191-893b-c1077f04fde6",
   "metadata": {},
   "outputs": [],
   "source": [
    "es = Elasticsearch(ELASTIC_SERVER)"
   ]
  },
  {
   "cell_type": "code",
   "execution_count": 6,
   "id": "ef7dcba1-c171-4462-9d61-90c44e07ed45",
   "metadata": {},
   "outputs": [],
   "source": [
    "questions = elastic_utils.load_questions(QUESTIONS_PATH)"
   ]
  },
  {
   "cell_type": "markdown",
   "id": "2676f14b-9c82-45d9-98b8-f0ec16abc9a8",
   "metadata": {},
   "source": [
    "## Making answers for test\n",
    "\n",
    "### Single answer example"
   ]
  },
  {
   "cell_type": "code",
   "execution_count": 7,
   "id": "b2b934e1-2722-4b1c-98ca-c8cbfa8f9548",
   "metadata": {},
   "outputs": [
    {
     "ename": "NotFoundError",
     "evalue": "NotFoundError(404, 'index_not_found_exception', 'no such index [pubmed2023-old]', pubmed2023-old, index_or_alias)",
     "output_type": "error",
     "traceback": [
      "\u001b[0;31m---------------------------------------------------------------------------\u001b[0m",
      "\u001b[0;31mNotFoundError\u001b[0m                             Traceback (most recent call last)",
      "Cell \u001b[0;32mIn[7], line 2\u001b[0m\n\u001b[1;32m      1\u001b[0m \u001b[38;5;66;03m# search_doc_by_query -is an alias of method- ask_single_question \u001b[39;00m\n\u001b[0;32m----> 2\u001b[0m sample_answers \u001b[38;5;241m=\u001b[39m \u001b[43melastic_utils\u001b[49m\u001b[38;5;241;43m.\u001b[39;49m\u001b[43msearch_doc_by_query\u001b[49m\u001b[43m(\u001b[49m\n\u001b[1;32m      3\u001b[0m \u001b[43m    \u001b[49m\u001b[43mquestion\u001b[49m\u001b[38;5;241;43m=\u001b[39;49m\u001b[43mquestions\u001b[49m\u001b[43m[\u001b[49m\u001b[38;5;241;43m0\u001b[39;49m\u001b[43m]\u001b[49m\u001b[43m,\u001b[49m\n\u001b[1;32m      4\u001b[0m \u001b[43m    \u001b[49m\u001b[43mfields\u001b[49m\u001b[38;5;241;43m=\u001b[39;49m\u001b[43mSEARCH_FIELDS\u001b[49m\u001b[43m,\u001b[49m\n\u001b[1;32m      5\u001b[0m \u001b[43m    \u001b[49m\u001b[43msize\u001b[49m\u001b[38;5;241;43m=\u001b[39;49m\u001b[43mN_ANSWERS\u001b[49m\u001b[43m,\u001b[49m\n\u001b[1;32m      6\u001b[0m \u001b[43m    \u001b[49m\u001b[43mes_client\u001b[49m\u001b[38;5;241;43m=\u001b[39;49m\u001b[43mes\u001b[49m\u001b[43m,\u001b[49m\n\u001b[1;32m      7\u001b[0m \u001b[43m    \u001b[49m\u001b[43mindex\u001b[49m\u001b[38;5;241;43m=\u001b[39;49m\u001b[43mSEARCH_INDEX\u001b[49m\n\u001b[1;32m      8\u001b[0m \u001b[43m)\u001b[49m\n",
      "File \u001b[0;32m/opt/bioasq/col-un-bioasq11/src/elastic_search_utils/elastic_utils.py:163\u001b[0m, in \u001b[0;36mask_single_question\u001b[0;34m(question, fields, size, es_client, index)\u001b[0m\n\u001b[1;32m    150\u001b[0m str_question \u001b[38;5;241m=\u001b[39m \\\n\u001b[1;32m    151\u001b[0m     question[\u001b[38;5;124m'\u001b[39m\u001b[38;5;124mbody\u001b[39m\u001b[38;5;124m'\u001b[39m] \u001b[38;5;28;01mif\u001b[39;00m \u001b[38;5;28misinstance\u001b[39m(question, \u001b[38;5;28mdict\u001b[39m) \u001b[38;5;28;01melse\u001b[39;00m question\n\u001b[1;32m    152\u001b[0m body \u001b[38;5;241m=\u001b[39m {\n\u001b[1;32m    153\u001b[0m     \u001b[38;5;124m\"\u001b[39m\u001b[38;5;124mfrom\u001b[39m\u001b[38;5;124m\"\u001b[39m: \u001b[38;5;241m0\u001b[39m,\n\u001b[1;32m    154\u001b[0m     \u001b[38;5;124m\"\u001b[39m\u001b[38;5;124msize\u001b[39m\u001b[38;5;124m\"\u001b[39m: size,\n\u001b[0;32m   (...)\u001b[0m\n\u001b[1;32m    160\u001b[0m     }\n\u001b[1;32m    161\u001b[0m }\n\u001b[1;32m    162\u001b[0m response \u001b[38;5;241m=\u001b[39m \u001b[38;5;28mdict\u001b[39m(\n\u001b[0;32m--> 163\u001b[0m     \u001b[43mes_client\u001b[49m\u001b[38;5;241;43m.\u001b[39;49m\u001b[43msearch\u001b[49m\u001b[43m(\u001b[49m\n\u001b[1;32m    164\u001b[0m \u001b[43m        \u001b[49m\u001b[43mindex\u001b[49m\u001b[38;5;241;43m=\u001b[39;49m\u001b[43mindex\u001b[49m\u001b[43m,\u001b[49m\n\u001b[1;32m    165\u001b[0m \u001b[43m        \u001b[49m\u001b[43mbody\u001b[49m\u001b[38;5;241;43m=\u001b[39;49m\u001b[43mbody\u001b[49m\n\u001b[1;32m    166\u001b[0m \u001b[43m    \u001b[49m\u001b[43m)\u001b[49m\n\u001b[1;32m    167\u001b[0m \n\u001b[1;32m    168\u001b[0m )\n\u001b[1;32m    169\u001b[0m \u001b[38;5;28;01mreturn\u001b[39;00m response\n",
      "File \u001b[0;32m~/.conda/envs/haystack/lib/python3.11/site-packages/elasticsearch/_sync/client/utils.py:414\u001b[0m, in \u001b[0;36m_rewrite_parameters.<locals>.wrapper.<locals>.wrapped\u001b[0;34m(*args, **kwargs)\u001b[0m\n\u001b[1;32m    411\u001b[0m         \u001b[38;5;28;01mexcept\u001b[39;00m \u001b[38;5;167;01mKeyError\u001b[39;00m:\n\u001b[1;32m    412\u001b[0m             \u001b[38;5;28;01mpass\u001b[39;00m\n\u001b[0;32m--> 414\u001b[0m \u001b[38;5;28;01mreturn\u001b[39;00m \u001b[43mapi\u001b[49m\u001b[43m(\u001b[49m\u001b[38;5;241;43m*\u001b[39;49m\u001b[43margs\u001b[49m\u001b[43m,\u001b[49m\u001b[43m \u001b[49m\u001b[38;5;241;43m*\u001b[39;49m\u001b[38;5;241;43m*\u001b[39;49m\u001b[43mkwargs\u001b[49m\u001b[43m)\u001b[49m\n",
      "File \u001b[0;32m~/.conda/envs/haystack/lib/python3.11/site-packages/elasticsearch/_sync/client/__init__.py:3798\u001b[0m, in \u001b[0;36mElasticsearch.search\u001b[0;34m(self, index, aggregations, aggs, allow_no_indices, allow_partial_search_results, analyze_wildcard, analyzer, batched_reduce_size, ccs_minimize_roundtrips, collapse, default_operator, df, docvalue_fields, error_trace, expand_wildcards, explain, ext, fields, filter_path, from_, highlight, human, ignore_throttled, ignore_unavailable, indices_boost, knn, lenient, max_concurrent_shard_requests, min_compatible_shard_node, min_score, pit, post_filter, pre_filter_shard_size, preference, pretty, profile, q, query, request_cache, rescore, rest_total_hits_as_int, routing, runtime_mappings, script_fields, scroll, search_after, search_type, seq_no_primary_term, size, slice, sort, source, source_excludes, source_includes, stats, stored_fields, suggest, suggest_field, suggest_mode, suggest_size, suggest_text, terminate_after, timeout, track_scores, track_total_hits, typed_keys, version)\u001b[0m\n\u001b[1;32m   3796\u001b[0m \u001b[38;5;28;01mif\u001b[39;00m __body \u001b[38;5;129;01mis\u001b[39;00m \u001b[38;5;129;01mnot\u001b[39;00m \u001b[38;5;28;01mNone\u001b[39;00m:\n\u001b[1;32m   3797\u001b[0m     __headers[\u001b[38;5;124m\"\u001b[39m\u001b[38;5;124mcontent-type\u001b[39m\u001b[38;5;124m\"\u001b[39m] \u001b[38;5;241m=\u001b[39m \u001b[38;5;124m\"\u001b[39m\u001b[38;5;124mapplication/json\u001b[39m\u001b[38;5;124m\"\u001b[39m\n\u001b[0;32m-> 3798\u001b[0m \u001b[38;5;28;01mreturn\u001b[39;00m \u001b[38;5;28;43mself\u001b[39;49m\u001b[38;5;241;43m.\u001b[39;49m\u001b[43mperform_request\u001b[49m\u001b[43m(\u001b[49m\u001b[43m  \u001b[49m\u001b[38;5;66;43;03m# type: ignore[return-value]\u001b[39;49;00m\n\u001b[1;32m   3799\u001b[0m \u001b[43m    \u001b[49m\u001b[38;5;124;43m\"\u001b[39;49m\u001b[38;5;124;43mPOST\u001b[39;49m\u001b[38;5;124;43m\"\u001b[39;49m\u001b[43m,\u001b[49m\u001b[43m \u001b[49m\u001b[43m__path\u001b[49m\u001b[43m,\u001b[49m\u001b[43m \u001b[49m\u001b[43mparams\u001b[49m\u001b[38;5;241;43m=\u001b[39;49m\u001b[43m__query\u001b[49m\u001b[43m,\u001b[49m\u001b[43m \u001b[49m\u001b[43mheaders\u001b[49m\u001b[38;5;241;43m=\u001b[39;49m\u001b[43m__headers\u001b[49m\u001b[43m,\u001b[49m\u001b[43m \u001b[49m\u001b[43mbody\u001b[49m\u001b[38;5;241;43m=\u001b[39;49m\u001b[43m__body\u001b[49m\n\u001b[1;32m   3800\u001b[0m \u001b[43m\u001b[49m\u001b[43m)\u001b[49m\n",
      "File \u001b[0;32m~/.conda/envs/haystack/lib/python3.11/site-packages/elasticsearch/_sync/client/_base.py:320\u001b[0m, in \u001b[0;36mBaseClient.perform_request\u001b[0;34m(self, method, path, params, headers, body)\u001b[0m\n\u001b[1;32m    317\u001b[0m         \u001b[38;5;28;01mexcept\u001b[39;00m (\u001b[38;5;167;01mValueError\u001b[39;00m, \u001b[38;5;167;01mKeyError\u001b[39;00m, \u001b[38;5;167;01mTypeError\u001b[39;00m):\n\u001b[1;32m    318\u001b[0m             \u001b[38;5;28;01mpass\u001b[39;00m\n\u001b[0;32m--> 320\u001b[0m     \u001b[38;5;28;01mraise\u001b[39;00m HTTP_EXCEPTIONS\u001b[38;5;241m.\u001b[39mget(meta\u001b[38;5;241m.\u001b[39mstatus, ApiError)(\n\u001b[1;32m    321\u001b[0m         message\u001b[38;5;241m=\u001b[39mmessage, meta\u001b[38;5;241m=\u001b[39mmeta, body\u001b[38;5;241m=\u001b[39mresp_body\n\u001b[1;32m    322\u001b[0m     )\n\u001b[1;32m    324\u001b[0m \u001b[38;5;66;03m# 'X-Elastic-Product: Elasticsearch' should be on every 2XX response.\u001b[39;00m\n\u001b[1;32m    325\u001b[0m \u001b[38;5;28;01mif\u001b[39;00m \u001b[38;5;129;01mnot\u001b[39;00m \u001b[38;5;28mself\u001b[39m\u001b[38;5;241m.\u001b[39m_verified_elasticsearch:\n\u001b[1;32m    326\u001b[0m     \u001b[38;5;66;03m# If the header is set we mark the server as verified.\u001b[39;00m\n",
      "\u001b[0;31mNotFoundError\u001b[0m: NotFoundError(404, 'index_not_found_exception', 'no such index [pubmed2023-old]', pubmed2023-old, index_or_alias)"
     ]
    }
   ],
   "source": [
    "# search_doc_by_query -is an alias of method- ask_single_question \n",
    "sample_answers = elastic_utils.search_doc_by_query(\n",
    "    question=questions[0],\n",
    "    fields=SEARCH_FIELDS,\n",
    "    size=N_ANSWERS,\n",
    "    es_client=es,\n",
    "    index=SEARCH_INDEX\n",
    ")"
   ]
  },
  {
   "cell_type": "code",
   "execution_count": 8,
   "id": "52b3a917",
   "metadata": {},
   "outputs": [
    {
     "ename": "NameError",
     "evalue": "name 'sample_answers' is not defined",
     "output_type": "error",
     "traceback": [
      "\u001b[0;31m---------------------------------------------------------------------------\u001b[0m",
      "\u001b[0;31mNameError\u001b[0m                                 Traceback (most recent call last)",
      "Cell \u001b[0;32mIn[8], line 1\u001b[0m\n\u001b[0;32m----> 1\u001b[0m \u001b[38;5;28mprint\u001b[39m(elastic_utils\u001b[38;5;241m.\u001b[39mextract_title_abstract_mesh_terms(\u001b[43msample_answers\u001b[49m))\n",
      "\u001b[0;31mNameError\u001b[0m: name 'sample_answers' is not defined"
     ]
    }
   ],
   "source": [
    "print(elastic_utils.extract_title_abstract_mesh_terms(sample_answers))"
   ]
  },
  {
   "cell_type": "code",
   "execution_count": 7,
   "id": "114c1e29-5f56-4b0a-a709-ae3f6974479b",
   "metadata": {},
   "outputs": [
    {
     "data": {
      "text/plain": [
       "dict_keys(['took', 'timed_out', '_shards', 'hits'])"
      ]
     },
     "execution_count": 7,
     "metadata": {},
     "output_type": "execute_result"
    }
   ],
   "source": [
    "sample_answers.keys()"
   ]
  },
  {
   "cell_type": "code",
   "execution_count": 8,
   "id": "a10ddb19-c45f-49f5-9ecc-d409e6c85dd9",
   "metadata": {},
   "outputs": [
    {
     "name": "stdout",
     "output_type": "stream",
     "text": [
      "{'_id': '15858239',\n",
      " '_ignored': ['abstract.keyword'],\n",
      " '_index': 'pubmed2023-old',\n",
      " '_score': 34.125973,\n",
      " '_source': {'abstract': 'Hirschsprung disease is a congenital disorder with '\n",
      "                         'the incidence of 1 per 5000 live births, '\n",
      "                         'characterized by the absence of intestinal ganglion '\n",
      "                         'cells. In the etiology of Hirschsprung disease '\n",
      "                         'various genes play a role; these are: RET, EDNRB, '\n",
      "                         'GDNF, EDN3 and SOX10, NTN3, ECE1, Mutations in these '\n",
      "                         'genes may result in dominant, recessive or '\n",
      "                         'multifactorial patterns of inheritance. Diverse '\n",
      "                         'models of inheritance, co-existence of numerous '\n",
      "                         'genetic disorders and detection of numerous '\n",
      "                         'chromosomal aberrations together with involvement of '\n",
      "                         'various genes confirm the genetic heterogeneity of '\n",
      "                         'Hirschsprung disease. Hirschsprung disease might '\n",
      "                         'well serve as a model for many complex disorders in '\n",
      "                         'which the search for responsible genes has only just '\n",
      "                         'been initiated. It seems that the most important '\n",
      "                         'role in its genetic etiology plays the RET gene, '\n",
      "                         'which is involved in the etiology of at least four '\n",
      "                         'diseases. This review focuses on recent advances of '\n",
      "                         'the importance of RET gene in the etiology of '\n",
      "                         'Hirschsprung disease.',\n",
      "             'affiliations': 'Katedra Patofizjologii, Akademia Medyczna, '\n",
      "                             'Marcinkowskiego 1, 50-368 Wrocław, Poland. '\n",
      "                             'smigiel@patfiz.am.wroc.pl',\n",
      "             'authors': 'Smigiel|Robert|R|;Patkowski|Dariusz|D|;Slezak|Ryszard|R|;Czernik|Jerzy|J|;Sasiadek|Maria|M|',\n",
      "             'chemical_list': 'D009414:Nerve Growth Factors; '\n",
      "                              'D051096:Proto-Oncogene Proteins c-ret',\n",
      "             'country': 'Poland',\n",
      "             'delete': False,\n",
      "             'doi': '',\n",
      "             'issn_linking': '',\n",
      "             'issue': '8(3 Pt 2)',\n",
      "             'journal': 'Medycyna wieku rozwojowego',\n",
      "             'keywords': '',\n",
      "             'medline_ta': 'Med Wieku Rozwoj',\n",
      "             'mesh_terms': 'D002869:Chromosome Aberrations; '\n",
      "                           'D006627:Hirschsprung Disease; D006801:Humans; '\n",
      "                           'D007231:Infant, Newborn; D009154:Mutation; '\n",
      "                           'D009414:Nerve Growth Factors; '\n",
      "                           'D011110:Polymorphism, Genetic; '\n",
      "                           'D051096:Proto-Oncogene Proteins c-ret',\n",
      "             'nlm_unique_id': '100928610',\n",
      "             'other_id': '',\n",
      "             'pages': '663-75',\n",
      "             'pmc': '',\n",
      "             'pmid': '15858239',\n",
      "             'pubdate': '2004',\n",
      "             'publication_types': 'D004740:English Abstract; D016428:Journal '\n",
      "                                  'Article; D016454:Review',\n",
      "             'references': '',\n",
      "             'title': '[The role of ret gene in the pathogenesis of '\n",
      "                      'Hirschsprung disease].'},\n",
      " '_type': '_doc'}\n"
     ]
    }
   ],
   "source": [
    "pprint(sample_answers['hits']['hits'][0])"
   ]
  },
  {
   "cell_type": "code",
   "execution_count": 13,
   "id": "35a6c76e-d682-4cb3-89d3-eb917b6ecc54",
   "metadata": {},
   "outputs": [],
   "source": [
    "single_metrics = elastic_utils.answers_to_id_metric(\n",
    "    sample_answers\n",
    ")"
   ]
  },
  {
   "cell_type": "code",
   "execution_count": 14,
   "id": "a3597b9e-f25d-4e4f-90c2-29a01e350bf4",
   "metadata": {},
   "outputs": [
    {
     "data": {
      "text/plain": [
       "{'d15858239': 0.34125973000000004,\n",
       " 'd11106284': 0.3304699,\n",
       " 'd15829955': 0.32477596,\n",
       " 'd3578280': 0.32177456,\n",
       " 'd10893883': 0.31766972,\n",
       " 'd23283078': 0.31185501,\n",
       " 'd6650562': 0.31127289999999996,\n",
       " 'd17965226': 0.30465504,\n",
       " 'd16965318': 0.29992252,\n",
       " 'd30954460': 0.29147903,\n",
       " 'd23465774': 0.28968151,\n",
       " 'd28532160': 0.2871134,\n",
       " 'd22891492': 0.28372358,\n",
       " 'd22475248': 0.28174885,\n",
       " 'd9600737': 0.27842356,\n",
       " 'd11484199': 0.27693056,\n",
       " 'd12239580': 0.27302563,\n",
       " 'd11694544': 0.27269922,\n",
       " 'd25323865': 0.27267227,\n",
       " 'd10370906': 0.27205265,\n",
       " 'd27639057': 0.27019136,\n",
       " 'd8877363': 0.27014254,\n",
       " 'd16986122': 0.26979127999999997,\n",
       " 'd2213441': 0.26783308,\n",
       " 'd9465697': 0.26710867,\n",
       " 'd27370713': 0.26708973,\n",
       " 'd9174404': 0.26617102,\n",
       " 'd655638': 0.26497941999999997,\n",
       " 'd30924549': 0.2646232,\n",
       " 'd2335126': 0.26378609999999997,\n",
       " 'd33768880': 0.26362247,\n",
       " 'd29677472': 0.26322865,\n",
       " 'd18472352': 0.26273043,\n",
       " 'd35080777': 0.26265852,\n",
       " 'd7634536': 0.26157421,\n",
       " 'd23842858': 0.26141833999999997,\n",
       " 'd20813343': 0.26130392,\n",
       " 'd9754625': 0.26030391999999997,\n",
       " 'd15224652': 0.25816511,\n",
       " 'd12699256': 0.25790082999999997,\n",
       " 'd155240': 0.25682556,\n",
       " 'd26465815': 0.2566426,\n",
       " 'd11949952': 0.25637754,\n",
       " 'd20347786': 0.25529797,\n",
       " 'd9090527': 0.2552763,\n",
       " 'd28855933': 0.25521059,\n",
       " 'd29018668': 0.25437183,\n",
       " 'd31313802': 0.2540347,\n",
       " 'd26228106': 0.25398676,\n",
       " 'd33557656': 0.25384840000000003,\n",
       " 'd34761251': 0.25368057,\n",
       " 'd33151932': 0.25367832,\n",
       " 'd11108911': 0.25301899,\n",
       " 'd10555607': 0.25256317,\n",
       " 'd11567139': 0.25206442,\n",
       " 'd22307701': 0.25188452,\n",
       " 'd28980249': 0.25188452,\n",
       " 'd10407683': 0.25150105,\n",
       " 'd3051535': 0.25137228,\n",
       " 'd10395219': 0.25056366,\n",
       " 'd24791127': 0.2503644,\n",
       " 'd12963895': 0.25027920000000003,\n",
       " 'd31666091': 0.25019894,\n",
       " 'd12189494': 0.24981348,\n",
       " 'd14689098': 0.2495436,\n",
       " 'd30539919': 0.24868877,\n",
       " 'd33545193': 0.2486016,\n",
       " 'd20110328': 0.24820925,\n",
       " 'd28154902': 0.24699522000000002,\n",
       " 'd17210849': 0.24678888000000002,\n",
       " 'd23114583': 0.24612535000000002,\n",
       " 'd2339688': 0.24595938,\n",
       " 'd29926078': 0.2456518,\n",
       " 'd35443634': 0.24518764,\n",
       " 'd30616633': 0.24518764,\n",
       " 'd9359036': 0.24408512000000002,\n",
       " 'd34325834': 0.24372746,\n",
       " 'd17031234': 0.24338482,\n",
       " 'd36308391': 0.24322712,\n",
       " 'd22584707': 0.24319586,\n",
       " 'd23799632': 0.24282944,\n",
       " 'd23528997': 0.24279514,\n",
       " 'd28544110': 0.24244171,\n",
       " 'd16037257': 0.24160238,\n",
       " 'd21330345': 0.24148544000000002,\n",
       " 'd16416773': 0.24121534,\n",
       " 'd35694443': 0.24102715,\n",
       " 'd15099278': 0.24069098,\n",
       " 'd24577265': 0.2405919,\n",
       " 'd1168275': 0.24045082,\n",
       " 'd7783764': 0.24039074,\n",
       " 'd34566951': 0.2401439,\n",
       " 'd30345200': 0.23874016,\n",
       " 'd1536730': 0.23870339999999998,\n",
       " 'd27987238': 0.23852688,\n",
       " 'd23427518': 0.23763217999999997,\n",
       " 'd15617541': 0.23759180000000002,\n",
       " 'd20945983': 0.23756008,\n",
       " 'd20851255': 0.23750416000000002,\n",
       " 'd23899067': 0.23741678}"
      ]
     },
     "execution_count": 14,
     "metadata": {},
     "output_type": "execute_result"
    }
   ],
   "source": [
    "single_metrics"
   ]
  },
  {
   "cell_type": "markdown",
   "id": "139ebdaa-da50-4070-8d5f-fa0f843cfcf6",
   "metadata": {},
   "source": [
    "## Multiple question answering"
   ]
  },
  {
   "cell_type": "code",
   "execution_count": 11,
   "id": "e9c3365f-f2de-49e6-976b-965b7a385ab5",
   "metadata": {},
   "outputs": [
    {
     "name": "stderr",
     "output_type": "stream",
     "text": [
      "Extracting docs from elastic search: 100%|██████████████████████████████████████████████████████████████████████████████████████| 30/30 [00:14<00:00,  2.11it/s]"
     ]
    },
    {
     "name": "stdout",
     "output_type": "stream",
     "text": [
      "CPU times: user 139 ms, sys: 47.3 ms, total: 186 ms\n",
      "Wall time: 14.2 s\n"
     ]
    },
    {
     "name": "stderr",
     "output_type": "stream",
     "text": [
      "\n"
     ]
    }
   ],
   "source": [
    "%%time\n",
    "# search_docs_by_query_set -is an alias of method- ask_several_questions \n",
    "multiple_ans = elastic_utils.search_docs_by_query_set(\n",
    "    questions=questions[0:30],\n",
    "    fields=SEARCH_FIELDS,\n",
    "    size=N_ANSWERS,\n",
    "    es_client=es,\n",
    "    index=SEARCH_INDEX\n",
    ")"
   ]
  },
  {
   "cell_type": "markdown",
   "id": "59d434fa-9d65-4234-80f6-818ec1e74d22",
   "metadata": {},
   "source": [
    "## Saving dicts"
   ]
  },
  {
   "cell_type": "code",
   "execution_count": 20,
   "id": "f3db7e13-1bde-473d-a97c-c3716eb2e35b",
   "metadata": {},
   "outputs": [],
   "source": [
    "elastic_utils.save_json(multiple_ans, SAVING_PATH_TEST)"
   ]
  },
  {
   "cell_type": "markdown",
   "id": "c313e11f-0fb6-4892-9a44-9b5a6cc34bff",
   "metadata": {},
   "source": [
    "## Compare read with saved json"
   ]
  },
  {
   "cell_type": "code",
   "execution_count": 21,
   "id": "a3178184-78c4-45b9-97fd-b63e5514fcc0",
   "metadata": {},
   "outputs": [],
   "source": [
    "multiple_ans_read = elastic_utils.load_json(SAVING_PATH_TEST)"
   ]
  },
  {
   "cell_type": "code",
   "execution_count": 22,
   "id": "08acf387-82f5-4e00-8505-26ae74a0f86a",
   "metadata": {
    "tags": []
   },
   "outputs": [],
   "source": [
    "lens_docs = []\n",
    "weird_questions = []\n",
    "for result in multiple_ans:\n",
    "    result_id = list(result.keys())[0]\n",
    "    len_docs = len(result[result_id]['documents'].keys())\n",
    "    if len_docs < N_ANSWERS:\n",
    "        print(result_id, len_docs)\n",
    "        weird_questions.append(result_id)\n",
    "        lens_docs.append(len_docs)"
   ]
  },
  {
   "cell_type": "code",
   "execution_count": 23,
   "id": "f465e9dd-a157-4eb2-9f14-97ce3da8cdb9",
   "metadata": {},
   "outputs": [
    {
     "data": {
      "text/plain": [
       "(0, 0)"
      ]
     },
     "execution_count": 23,
     "metadata": {},
     "output_type": "execute_result"
    }
   ],
   "source": [
    "cleaned_weird_questions = [\n",
    "    weird_question.replace('q','') for weird_question in weird_questions\n",
    "]\n",
    "\n",
    "weird_og_questions = [\n",
    "    question for question in questions\n",
    "    if question['id'] in cleaned_weird_questions\n",
    "]\n",
    "len(weird_og_questions), len(cleaned_weird_questions)"
   ]
  },
  {
   "cell_type": "markdown",
   "id": "3b5e69dc-576a-46be-90c8-78a506fd7dce",
   "metadata": {},
   "source": [
    "## Flattening documents"
   ]
  },
  {
   "cell_type": "code",
   "execution_count": 24,
   "id": "1e2a7f30-3afa-487d-96a7-647bf97dbef8",
   "metadata": {},
   "outputs": [],
   "source": [
    "multiple_ans_dict = {}\n",
    "for ans in multiple_ans:\n",
    "    raw_key = list(ans.keys())[0].replace('q','')\n",
    "    multiple_ans_dict[raw_key] = list(ans.values())[0]"
   ]
  },
  {
   "cell_type": "code",
   "execution_count": 25,
   "id": "b8d76ad1-7ebb-4a23-87a0-3b0a46d22154",
   "metadata": {},
   "outputs": [],
   "source": [
    "questions_answers = elastic_utils.load_json(QUESTIONS_PATH)"
   ]
  },
  {
   "cell_type": "code",
   "execution_count": 27,
   "id": "100630e2-488d-492e-8b84-0b99d808a510",
   "metadata": {
    "tags": []
   },
   "outputs": [],
   "source": [
    "for question in questions_answers['questions']:\n",
    "    question_id = question['id']\n",
    "    question_documents = multiple_ans_dict[question_id]['documents']\n",
    "    doc_responses = [\n",
    "        {\n",
    "            'id': document_id.replace('d', ''),\n",
    "            'abstract': document_info['abstract'],\n",
    "            'title': document_info['title'],\n",
    "            'score': document_info['score'],\n",
    "            'mesh_terms': document_info['mesh_terms']\n",
    "        }\n",
    "        for document_id, document_info in question_documents.items()\n",
    "    ]\n",
    "    sorted_doc_responses = sorted(doc_responses, key=lambda x:x['score'], reverse=True)\n",
    "    question['documents'] = sorted_doc_responses\n",
    "    break"
   ]
  },
  {
   "cell_type": "code",
   "execution_count": 28,
   "id": "08db6ab6-143d-4620-9088-009bc0b200a0",
   "metadata": {
    "tags": []
   },
   "outputs": [],
   "source": [
    "with open('test_answers_10b_testset2.json', 'w') as ans_file:\n",
    "    json.dump(questions_answers, ans_file)"
   ]
  },
  {
   "cell_type": "code",
   "execution_count": 29,
   "id": "646697a4-2147-4223-9208-115ec5ac5ada",
   "metadata": {},
   "outputs": [
    {
     "name": "stdout",
     "output_type": "stream",
     "text": [
      "dict_keys(['body', 'documents', 'ideal_answer', 'concepts', 'type', 'id', 'snippets'])\n",
      "100\n",
      "dict_keys(['id', 'abstract', 'title', 'score', 'mesh_terms'])\n",
      "\n",
      "\n",
      "dict_keys(['body', 'documents', 'triples', 'ideal_answer', 'exact_answer', 'concepts', 'type', 'id', 'snippets'])\n",
      "100\n",
      "dict_keys(['id', 'abstract', 'title', 'score', 'mesh_terms'])\n",
      "\n",
      "\n",
      "dict_keys(['body', 'documents', 'ideal_answer', 'exact_answer', 'type', 'id', 'snippets'])\n",
      "100\n",
      "dict_keys(['id', 'abstract', 'title', 'score', 'mesh_terms'])\n",
      "\n",
      "\n",
      "dict_keys(['body', 'documents', 'ideal_answer', 'exact_answer', 'concepts', 'type', 'id', 'snippets'])\n",
      "100\n",
      "dict_keys(['id', 'abstract', 'title', 'score', 'mesh_terms'])\n",
      "\n",
      "\n",
      "dict_keys(['body', 'documents', 'ideal_answer', 'exact_answer', 'concepts', 'type', 'id', 'snippets'])\n",
      "100\n",
      "dict_keys(['id', 'abstract', 'title', 'score', 'mesh_terms'])\n",
      "\n",
      "\n",
      "dict_keys(['body', 'documents', 'ideal_answer', 'exact_answer', 'concepts', 'type', 'id', 'snippets'])\n",
      "100\n",
      "dict_keys(['id', 'abstract', 'title', 'score', 'mesh_terms'])\n",
      "\n",
      "\n",
      "dict_keys(['body', 'documents', 'ideal_answer', 'exact_answer', 'concepts', 'type', 'id', 'snippets'])\n",
      "100\n",
      "dict_keys(['id', 'abstract', 'title', 'score', 'mesh_terms'])\n",
      "\n",
      "\n",
      "dict_keys(['body', 'documents', 'ideal_answer', 'exact_answer', 'concepts', 'type', 'id', 'snippets'])\n",
      "100\n",
      "dict_keys(['id', 'abstract', 'title', 'score', 'mesh_terms'])\n",
      "\n",
      "\n",
      "dict_keys(['body', 'documents', 'triples', 'ideal_answer', 'exact_answer', 'concepts', 'type', 'id', 'snippets'])\n",
      "100\n",
      "dict_keys(['id', 'abstract', 'title', 'score', 'mesh_terms'])\n",
      "\n",
      "\n",
      "dict_keys(['body', 'documents', 'ideal_answer', 'exact_answer', 'type', 'id', 'snippets'])\n",
      "100\n",
      "dict_keys(['id', 'abstract', 'title', 'score', 'mesh_terms'])\n",
      "\n",
      "\n",
      "dict_keys(['body', 'documents', 'ideal_answer', 'exact_answer', 'type', 'id', 'snippets'])\n",
      "100\n",
      "dict_keys(['id', 'abstract', 'title', 'score', 'mesh_terms'])\n",
      "\n",
      "\n",
      "dict_keys(['body', 'documents', 'ideal_answer', 'exact_answer', 'type', 'id', 'snippets'])\n",
      "100\n",
      "dict_keys(['id', 'abstract', 'title', 'score', 'mesh_terms'])\n",
      "\n",
      "\n",
      "dict_keys(['body', 'documents', 'ideal_answer', 'exact_answer', 'type', 'id', 'snippets'])\n",
      "100\n",
      "dict_keys(['id', 'abstract', 'title', 'score', 'mesh_terms'])\n",
      "\n",
      "\n",
      "dict_keys(['body', 'documents', 'ideal_answer', 'exact_answer', 'concepts', 'type', 'id', 'snippets'])\n",
      "100\n",
      "dict_keys(['id', 'abstract', 'title', 'score', 'mesh_terms'])\n",
      "\n",
      "\n",
      "dict_keys(['body', 'documents', 'ideal_answer', 'exact_answer', 'concepts', 'type', 'id', 'snippets'])\n",
      "100\n",
      "dict_keys(['id', 'abstract', 'title', 'score', 'mesh_terms'])\n",
      "\n",
      "\n",
      "dict_keys(['body', 'documents', 'ideal_answer', 'exact_answer', 'concepts', 'type', 'id', 'snippets'])\n",
      "100\n",
      "dict_keys(['id', 'abstract', 'title', 'score', 'mesh_terms'])\n",
      "\n",
      "\n",
      "dict_keys(['body', 'documents', 'ideal_answer', 'exact_answer', 'type', 'id', 'snippets'])\n",
      "100\n",
      "dict_keys(['id', 'abstract', 'title', 'score', 'mesh_terms'])\n",
      "\n",
      "\n",
      "dict_keys(['body', 'documents', 'ideal_answer', 'concepts', 'type', 'id', 'snippets'])\n",
      "100\n",
      "dict_keys(['id', 'abstract', 'title', 'score', 'mesh_terms'])\n",
      "\n",
      "\n",
      "dict_keys(['body', 'documents', 'triples', 'ideal_answer', 'exact_answer', 'concepts', 'type', 'id', 'snippets'])\n",
      "100\n",
      "dict_keys(['id', 'abstract', 'title', 'score', 'mesh_terms'])\n",
      "\n",
      "\n",
      "dict_keys(['body', 'documents', 'ideal_answer', 'exact_answer', 'type', 'id', 'snippets'])\n",
      "100\n",
      "dict_keys(['id', 'abstract', 'title', 'score', 'mesh_terms'])\n",
      "\n",
      "\n",
      "dict_keys(['body', 'documents', 'ideal_answer', 'concepts', 'type', 'id', 'snippets'])\n",
      "100\n",
      "dict_keys(['id', 'abstract', 'title', 'score', 'mesh_terms'])\n",
      "\n",
      "\n",
      "dict_keys(['body', 'documents', 'triples', 'ideal_answer', 'exact_answer', 'concepts', 'type', 'id', 'snippets'])\n",
      "100\n",
      "dict_keys(['id', 'abstract', 'title', 'score', 'mesh_terms'])\n",
      "\n",
      "\n",
      "dict_keys(['body', 'documents', 'ideal_answer', 'exact_answer', 'type', 'id', 'snippets'])\n",
      "100\n",
      "dict_keys(['id', 'abstract', 'title', 'score', 'mesh_terms'])\n",
      "\n",
      "\n",
      "dict_keys(['body', 'documents', 'ideal_answer', 'exact_answer', 'concepts', 'type', 'id', 'snippets'])\n",
      "100\n",
      "dict_keys(['id', 'abstract', 'title', 'score', 'mesh_terms'])\n",
      "\n",
      "\n",
      "dict_keys(['body', 'documents', 'ideal_answer', 'exact_answer', 'concepts', 'type', 'id', 'snippets'])\n",
      "100\n",
      "dict_keys(['id', 'abstract', 'title', 'score', 'mesh_terms'])\n",
      "\n",
      "\n",
      "dict_keys(['body', 'documents', 'ideal_answer', 'exact_answer', 'concepts', 'type', 'id', 'snippets'])\n",
      "100\n",
      "dict_keys(['id', 'abstract', 'title', 'score', 'mesh_terms'])\n",
      "\n",
      "\n",
      "dict_keys(['body', 'documents', 'ideal_answer', 'exact_answer', 'concepts', 'type', 'id', 'snippets'])\n",
      "100\n",
      "dict_keys(['id', 'abstract', 'title', 'score', 'mesh_terms'])\n",
      "\n",
      "\n",
      "dict_keys(['body', 'documents', 'ideal_answer', 'concepts', 'type', 'id', 'snippets'])\n",
      "100\n",
      "dict_keys(['id', 'abstract', 'title', 'score', 'mesh_terms'])\n",
      "\n",
      "\n",
      "dict_keys(['body', 'documents', 'ideal_answer', 'exact_answer', 'concepts', 'type', 'id', 'snippets'])\n",
      "100\n",
      "dict_keys(['id', 'abstract', 'title', 'score', 'mesh_terms'])\n",
      "\n",
      "\n",
      "dict_keys(['body', 'documents', 'ideal_answer', 'exact_answer', 'concepts', 'type', 'id', 'snippets'])\n",
      "100\n",
      "dict_keys(['id', 'abstract', 'title', 'score', 'mesh_terms'])\n",
      "\n",
      "\n",
      "dict_keys(['body', 'documents', 'ideal_answer', 'exact_answer', 'concepts', 'type', 'id', 'snippets'])\n",
      "6\n"
     ]
    },
    {
     "ename": "AttributeError",
     "evalue": "'str' object has no attribute 'keys'",
     "output_type": "error",
     "traceback": [
      "\u001b[0;31m---------------------------------------------------------------------------\u001b[0m",
      "\u001b[0;31mAttributeError\u001b[0m                            Traceback (most recent call last)",
      "Cell \u001b[0;32mIn[29], line 4\u001b[0m\n\u001b[1;32m      2\u001b[0m \u001b[38;5;28mprint\u001b[39m(q\u001b[38;5;241m.\u001b[39mkeys())\n\u001b[1;32m      3\u001b[0m \u001b[38;5;28mprint\u001b[39m(\u001b[38;5;28mlen\u001b[39m(q[\u001b[38;5;124m'\u001b[39m\u001b[38;5;124mdocuments\u001b[39m\u001b[38;5;124m'\u001b[39m]))\n\u001b[0;32m----> 4\u001b[0m \u001b[38;5;28mprint\u001b[39m(\u001b[43mq\u001b[49m\u001b[43m[\u001b[49m\u001b[38;5;124;43m'\u001b[39;49m\u001b[38;5;124;43mdocuments\u001b[39;49m\u001b[38;5;124;43m'\u001b[39;49m\u001b[43m]\u001b[49m\u001b[43m[\u001b[49m\u001b[38;5;241;43m0\u001b[39;49m\u001b[43m]\u001b[49m\u001b[38;5;241;43m.\u001b[39;49m\u001b[43mkeys\u001b[49m())\n\u001b[1;32m      5\u001b[0m \u001b[38;5;28mprint\u001b[39m(\u001b[38;5;124m'\u001b[39m\u001b[38;5;130;01m\\n\u001b[39;00m\u001b[38;5;124m'\u001b[39m)\n",
      "\u001b[0;31mAttributeError\u001b[0m: 'str' object has no attribute 'keys'"
     ]
    }
   ],
   "source": [
    "for q in questions_answers['questions']:\n",
    "    print(q.keys())\n",
    "    print(len(q['documents']))\n",
    "    print(q['documents'][0].keys())\n",
    "    print('\\n')"
   ]
  },
  {
   "cell_type": "code",
   "execution_count": null,
   "id": "882a5f44-23c7-4958-a28c-99fee7d31e90",
   "metadata": {},
   "outputs": [],
   "source": []
  }
 ],
 "metadata": {
  "kernelspec": {
   "display_name": "haystack",
   "language": "python",
   "name": "haystack"
  },
  "language_info": {
   "codemirror_mode": {
    "name": "ipython",
    "version": 3
   },
   "file_extension": ".py",
   "mimetype": "text/x-python",
   "name": "python",
   "nbconvert_exporter": "python",
   "pygments_lexer": "ipython3",
   "version": "3.11.0"
  }
 },
 "nbformat": 4,
 "nbformat_minor": 5
}
