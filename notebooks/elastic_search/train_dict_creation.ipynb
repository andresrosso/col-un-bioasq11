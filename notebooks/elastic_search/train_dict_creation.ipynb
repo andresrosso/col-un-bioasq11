{
 "cells": [
  {
   "cell_type": "markdown",
   "id": "ed69f2a4-b28d-4c95-9d48-fd0473342e82",
   "metadata": {},
   "source": [
    "## Imports"
   ]
  },
  {
   "cell_type": "code",
   "execution_count": 1,
   "id": "7abc2f09-455d-40ab-8c2a-9c2c7030937b",
   "metadata": {},
   "outputs": [],
   "source": [
    "%load_ext autoreload\n",
    "%autoreload 2\n",
    "import os\n",
    "import re\n",
    "import json\n",
    "import sys\n",
    "from tqdm import tqdm\n",
    "from pprint import pprint\n",
    "\n",
    "import matplotlib.pyplot as plt\n",
    "import seaborn as sns\n",
    "\n",
    "import pytrec_eval\n",
    "import numpy as np\n",
    "import pandas as pd\n",
    "from elasticsearch import Elasticsearch\n",
    "\n",
    "from src.elastic_search_utils import elastic_utils"
   ]
  },
  {
   "cell_type": "code",
   "execution_count": 2,
   "id": "79a2af05-6f72-402e-accf-62e92ad60213",
   "metadata": {
    "tags": []
   },
   "outputs": [
    {
     "data": {
      "text/plain": [
       "{'d33811342': {'score': 1,\n",
       "  'title': \"Testing children with COVID-19 symptoms: what are parents' intentions?\",\n",
       "  'abstract': '',\n",
       "  'mesh_terms': ['D000293:Adolescent',\n",
       "   'D001315:Australia',\n",
       "   'D000086382:COVID-19',\n",
       "   'D000086742:COVID-19 Testing',\n",
       "   'D002648:Child',\n",
       "   'D002675:Child, Preschool',\n",
       "   'D006801:Humans',\n",
       "   'D033182:Intention',\n",
       "   'D010290:Parents',\n",
       "   'D000086402:SARS-CoV-2']}}"
      ]
     },
     "execution_count": 2,
     "metadata": {},
     "output_type": "execute_result"
    }
   ],
   "source": [
    "elastic_utils.ask_single_doc_id('d33811342')"
   ]
  },
  {
   "cell_type": "code",
   "execution_count": 3,
   "id": "1283eade-ed75-471a-bed4-ddfa327adc33",
   "metadata": {
    "tags": []
   },
   "outputs": [
    {
     "data": {
      "text/plain": [
       "{'documents': {'d33811342': {'score': 0.23228241,\n",
       "   'title': \"Testing children with COVID-19 symptoms: what are parents' intentions?\",\n",
       "   'abstract': '',\n",
       "   'mesh_terms': ['D000293:Adolescent',\n",
       "    'D001315:Australia',\n",
       "    'D000086382:COVID-19',\n",
       "    'D000086742:COVID-19 Testing',\n",
       "    'D002648:Child',\n",
       "    'D002675:Child, Preschool',\n",
       "    'D006801:Humans',\n",
       "    'D033182:Intention',\n",
       "    'D010290:Parents',\n",
       "    'D000086402:SARS-CoV-2']},\n",
       "  'd33492244': {'score': 0.21754705000000002,\n",
       "   'title': \"Parkinson's Disease and the COVID-19 Pandemic.\",\n",
       "   'abstract': \"Studies focusing on the relationship between severe acute respiratory syndrome coronavirus 2 (SARS-CoV-2), coronavirus disease 2019 (COVID-19), and Parkinson's disease (PD) have provided conflicting results. We review the literature to investigate: 1) Are PD patients at higher risk for contracting COVID-19 and are there specific contributing factors to that risk? 2) How does COVID-19 affect PD symptoms? 3) How does COVID-19 present in PD patients? 4) What are the outcomes in PD patients who contract COVID-19? 5) What is the impact of COVID-19 on PD care? 6) Does COVID-19 increase the risk of developing PD? A literature search was performed from 1979 to 2020 using the terms: 'Parkinson's disease' and 'parkinsonism' combined with: 'COVID-19'; 'SARS-CoV-2' and 'coronavirus'. It does not appear that PD is a specific risk factor for COVID-19. There is evidence for direct/indirect effects of SARS-CoV-2 on motor/non-motor symptoms of PD. Although many PD patients present with typical COVID-19 symptoms, some present atypically with isolated worsening of parkinsonian symptoms, requiring increased anti-PD therapy and having worse outcomes. Mortality data on PD patients with COVID-19 is inconclusive (ranging from 5.2%to 100%). Patients with advanced PD appear to be particularly vulnerable. Single cases of acute hypokinetic-rigid syndrome have been described but no other convincing data has been reported. The rapidity with which COVID-19 has swept across the globe has favored the proliferation of studies which lack scientific rigor and the PD literature has not been immune. A coordinated effort is required to assimilate data and answer these questions in larger PD cohorts.\",\n",
       "   'mesh_terms': ['D000978:Antiparkinson Agents',\n",
       "    'D000086382:COVID-19',\n",
       "    'D006801:Humans',\n",
       "    'D009026:Mortality',\n",
       "    'D058873:Pandemics',\n",
       "    'D010300:Parkinson Disease',\n",
       "    'D012307:Risk Factors']},\n",
       "  'd33081864': {'score': 0.2145722,\n",
       "   'title': 'Obsessive-compulsive disorder-contamination fears, features, and treatment: novel smartphone therapies in light of global mental health and pandemics (COVID-19).',\n",
       "   'abstract': 'This review aims to shed light on the symptoms of obsessive-compulsive disorder (OCD) with a focus on contamination fears. In addition, we will briefly review the current therapies for OCD and detail what their limitations are. A key focus will be on discussing how smartphone solutions may provide approaches to novel treatments, especially when considering global mental health and the challenges imposed by rural environments and limited resources; as well as restrictions imposed by world-wide pandemics such as COVID-19. In brief, research that questions this review will seek to address include: (1) What are the symptoms of contamination-related OCD? (2) How effective are current OCD therapies and what are their limitations? (3) How can novel technologies help mitigate challenges imposed by global mental health and pandemics/COVID-19.',\n",
       "   'mesh_terms': ['']},\n",
       "  'd33089388': {'score': 0.21294208999999997,\n",
       "   'title': 'Lung ultrasound findings in pediatric patients with COVID-19.',\n",
       "   'abstract': 'During the pandemic caused by the novel coronavirus (COVID-19), lung ultrasound has been used to diagnose and monitor respiratory condition. The aim of the study was to describe lung ultrasound findings in children with a COVID-19 infection. Patients younger than 18\\xa0years old and positive for COVID-19, admitted to pediatric tertiary referral hospital were included. They were divided into two groups depending on the presence of respiratory symptoms. Lung ultrasound results were categorized into four degrees according to Soldati et al. score (J Ultrasound Med 39:1-7, 2020) and it was also described the presence and type of consolidation. Sixteen patients were recruited. The median age was 11\\xa0years old (IQR 2.8-12). Four children (25%) required admission to the intensive care unit. Six patients (37.5%) presented with respiratory symptoms. Most of them showed S.score of 2 and subpleural consolidations were observed in four cases (66.6%). Ten patients (62.5%) presented with non-respiratory symptoms, lung ultrasound showed S.score from 0 to 2. Three (30%) were diagnosed of multisystem inflammatory syndrome and lung ultrasounds showed S.score of 2 with bilateral pleural effusion.Conclusions: Children with COVID-19 and respiratory symptoms mostly showed a S.score of 2 and 3 with subpleural consolidations, upon the lung ultrasound assessment. What is Known: • Lung ultrasound is a useful tool for monitoring patients with respiratory symptoms in both adults and children. Lung ultrasounds are altered in adult patients with COVID-19. What is New: • Lung ultrasound might improve COVID-19 assessment, it could be a useful tool to diagnose and monitor patients throughout the COVID-19 pandemic. Even COVID-19 patients with non-respiratory symptoms have lung alterations that are visible on lung ultrasound.',\n",
       "   'mesh_terms': ['D000293:Adolescent',\n",
       "    'D000086382:COVID-19',\n",
       "    'D002648:Child',\n",
       "    'D002675:Child, Preschool',\n",
       "    'D005260:Female',\n",
       "    'D006801:Humans',\n",
       "    'D007223:Infant',\n",
       "    'D007231:Infant, Newborn',\n",
       "    'D008168:Lung',\n",
       "    'D008297:Male',\n",
       "    'D011446:Prospective Studies',\n",
       "    'D012720:Severity of Illness Index',\n",
       "    'D014463:Ultrasonography']},\n",
       "  'd34718282': {'score': 0.21277318999999997,\n",
       "   'title': 'Overview of Symptoms of Ongoing Symptomatic and Post-COVID-19 Patients Who Were Reffered to Pulmonary Rehabilitation - First Single-Centre Experience in Croatia.',\n",
       "   'abstract': 'BACKGROUND\\nCoronavirus-2 pandemic has changed the functioning of health systems worldwide. It is not yet fully known which symptoms of the disease are most commonly presented in patients referred for pulmonary rehabilitation. Our aim was to investigate the profile of patients referred for pulmonary rehabilitation; what symptoms they had during the acute phase of the disease and what symptoms were still present at the start of pulmonary rehabilitation.\\n\\n\\nSUBJECTS AND METHODS\\nStudy included ongoing symptomatic and post-COVID patients who attended standard, in person pulmonary rehabilitation program. Patients had COVID-19 disease at least four weeks before attending pulmonary rehabilitation. Patients completed questionnaires of self-reported somatic deficits during acute and post-COVID-19 stage as well as questionnaires regarding their psychological symptoms. Pulmonary function test, expiratory and inspiratory muscle strenght, hand grip strenght and six-minute walk test was performed prior and after pulmonary rehabilitation.\\n\\n\\nRESULTS\\nStudy included 63 patients (32 male, 31 female), with mean age of 52.9 years. During acute COVID-19, majority of patients complained of fatigue, cough, dyspnea, myalgia and headache. More than 85% of patients reported pulmonary deficits during ongoing symptomatic and post-COVID-19 stage. Emotional distress and anxiety levels were significantly elevated in acute stage, while depression, anger and the need for help was not significantly elevated. All reported symptoms were significantly reduced in post-COVID-19 stage. There was statistically significant difference in six-minute walk distance, inspiratory and expiratory muscle strenght and hand grip strenght between first and final testing.\\n\\n\\nCONCLUSIONS\\nResults of our study are similar with previous studies, the most common symptoms during acute phase were fatigue, cough and dyspnea and fatigue and respiratory problems during ongoing symptomatic and post-COVID stage. Emotional distress diminishes signifiacantly in post-COVID stage. Further larger studies are needed to clarify which acute disease symptoms are predominant in patients referred to pulmonary rehabilitation and cause prolongued discomfort.',\n",
       "   'mesh_terms': ['D000086382:COVID-19',\n",
       "    'D017523:Croatia',\n",
       "    'D005260:Female',\n",
       "    'D018737:Hand Strength',\n",
       "    'D006801:Humans',\n",
       "    'D008297:Male',\n",
       "    'D008875:Middle Aged',\n",
       "    'D058873:Pandemics',\n",
       "    'D000086402:SARS-CoV-2']},\n",
       "  'd33734079': {'score': 0.21256311,\n",
       "   'title': '[Diagnostic approach and evaluation of hospitalized patients with COVID-19].',\n",
       "   'abstract': 'COVID-19 is the infectious disease caused by coronavirus SARS-CoV-2. The most common symptoms of COVID-19 are dry cough, tiredness and fever. Most patients recover from COVID-19 within a few weeks, but some patients have symptoms lasting for weeks or even months after recovery from acute illness, such as fatigue, shortness of breath and cough. This is a review of what we currently know about the clinical disease and its severity as well as which diagnostic strategies are recommended during and after hospital admission.',\n",
       "   'mesh_terms': ['D000086382:COVID-19',\n",
       "    'D017934:Coronavirus',\n",
       "    'D018352:Coronavirus Infections',\n",
       "    'D006801:Humans',\n",
       "    'D011379:Prognosis',\n",
       "    'D000086402:SARS-CoV-2']},\n",
       "  'd32348545': {'score': 0.20941723,\n",
       "   'title': 'Classification of the cutaneous manifestations of COVID-19: a rapid prospective nationwide consensus study in Spain with 375 cases.',\n",
       "   'abstract': 'BACKGROUND\\nThe cutaneous manifestations of COVID-19 disease are poorly characterized.\\n\\n\\nOBJECTIVES\\nTo describe the cutaneous manifestations of COVID-19 disease and to relate them to other clinical findings.\\n\\n\\nMETHODS\\nWe carried out a nationwide case collection survey of images and clinical data. Using a consensus we described five clinical patterns. We later described the association of these patterns with patient demographics, the timing in relation to symptoms of the disease, the severity and the prognosis.\\n\\n\\nRESULTS\\nThe lesions may be classified as acral areas of erythema with vesicles or pustules (pseudo-chilblain) (19%), other vesicular eruptions (9%), urticarial lesions (19%), maculopapular eruptions (47%) and livedo or necrosis (6%). Vesicular eruptions appear early in the course of the disease (15% before other symptoms). The pseudo-chilblain pattern frequently appears late in the evolution of the COVID-19 disease (59% after other symptoms), while the rest tend to appear with other symptoms of COVID-19. The severity of COVID-19 shows a gradient from less severe disease in acral lesions to more severe in the latter groups. The results are similar for confirmed and suspected cases, in terms of both clinical and epidemiological findings. Alternative diagnoses are discussed but seem unlikely for the most specific patterns (pseudo-chilblain and vesicular).\\n\\n\\nCONCLUSIONS\\nWe provide a description of the cutaneous manifestations associated with COVID-19 infection. These may help clinicians approach patients with the disease and recognize cases presenting with few symptoms. What is already known about this topic? Previous descriptions of cutaneous manifestations of COVID-19 were case reports and mostly lacked illustrations. What does this study add? We describe a large, representative sample of patients with unexplained skin manifestations and a diagnosis of COVID-19, using a consensus method to define morphological patterns associated with COVID-19. We describe five clinical patterns associated with different patient demographics, timing and prognosis, and provide illustrations of these patterns to allow for easy recognition.',\n",
       "   'mesh_terms': ['D000293:Adolescent',\n",
       "    'D000328:Adult',\n",
       "    'D000368:Aged',\n",
       "    'D000369:Aged, 80 and over',\n",
       "    'D000073640:Betacoronavirus',\n",
       "    'D000086382:COVID-19',\n",
       "    'D002648:Child',\n",
       "    'D032921:Consensus',\n",
       "    'D018352:Coronavirus Infections',\n",
       "    'D000072085:Dermatologists',\n",
       "    'D005260:Female',\n",
       "    'D006801:Humans',\n",
       "    'D008297:Male',\n",
       "    'D008875:Middle Aged',\n",
       "    'D058873:Pandemics',\n",
       "    'D011024:Pneumonia, Viral',\n",
       "    'D011379:Prognosis',\n",
       "    'D011446:Prospective Studies',\n",
       "    'D000086402:SARS-CoV-2',\n",
       "    'D017193:Skin Diseases, Viral',\n",
       "    'D013030:Spain',\n",
       "    'D011795:Surveys and Questionnaires',\n",
       "    'D009626:Terminology as Topic',\n",
       "    'D013997:Time Factors',\n",
       "    'D055815:Young Adult']},\n",
       "  'd34037180': {'score': 0.20929646999999998,\n",
       "   'title': 'Symptomatic manifestations of the disease caused by coronavirus (COVID-19) in adults: systematic review.',\n",
       "   'abstract': 'OBJECTIVE\\nTo identify symptoms of COVID-19 in adults in the scientific literature.\\n\\n\\nMETHOD\\nSystematic review of studies published from December 1, 2019 to April 21, 2020 from the Scopus, Web of Science and PubMed databases, in order to answer the following research question: \"What are the symptoms caused by COVID-19 in adults?\" using the keywords \"Symptoms\", \"Clinical Manifestations\", \"Coronavirus\", \"COVID-19\".\\n\\n\\nRESULTS\\nOf the total 105 references, 13 references that addressed the symptoms of COVID-19 were selected. Fever and normal or dry cough were symptoms present in all studies.\\n\\n\\nCONCLUSION\\nThe symptoms identified in adult patients were fever, normal or dry cough, headache, pharyngalgia, dyspnea, diarrhea, myalgia, vomiting, sputum or expectoration, anxiety or chest pain, fatigue, nausea, anorexia, abdominal pain, rhinorrhea, runny nose or nasal congestion, dizziness, chills, systemic pain, mental confusion, hemoptysis, asthma, taste disorder, smell disorder, belching and tachycardia.',\n",
       "   'mesh_terms': ['D000328:Adult',\n",
       "    'D000086382:COVID-19',\n",
       "    'D003371:Cough',\n",
       "    'D003430:Cross-Sectional Studies',\n",
       "    'D003967:Diarrhea',\n",
       "    'D004417:Dyspnea',\n",
       "    'D005221:Fatigue',\n",
       "    'D005334:Fever',\n",
       "    'D006801:Humans',\n",
       "    'D008875:Middle Aged',\n",
       "    'D063189:Symptom Assessment']},\n",
       "  'd34726085': {'score': 0.20718998,\n",
       "   'title': 'What are the recommendations for returning athletes who have experienced long term COVID-19 symptoms?',\n",
       "   'abstract': 'Currently, there is limited research reporting the symptoms of long COVID among athletes, and the recommendations for athletes returning to competition/training who have experienced long COVID symptoms. Therefore, the aim of this systematic review is to synthesise the recommendations for returning athletes who have experienced long COVID symptoms. The protocol was registered in PROSPERO under CRD42021265939. Two authors searched the electronic databases PubMed, Embase, Scopus, the Cochrane Library, Web of Science, CINAHL, PsycINFO, and SPORTDiscus from August 2019-July 2021. Search terms included words related to \"long COVID\", \"athlete\" and \"return\". Data extraction was completed for each study by two independent investigators for: (1) first author name; (2) year of publication; (3) journal; (4) Definition of athlete (i.e. elite or non-elite) (5) Recommendations reported. A total of 220 records were found. Following title and abstract screening, 61 studies were eligible for full text screening. Overall, no studies, commentaries, editorials or reviews provided specific recommendations for \"long COVID\" defined as COVID-19 signs and symptoms lasting for over 4\\u2009weeks as a result of COVID-19 infection. In addition, we found no studies which reported symptoms of athletes suffering from long COVID. Despite the lack of evidence, we did find eight separate professional recommendations for managing \"long-term effects\" and \"ongoing\" or \"prolonged\" symptoms and COVID-19 complications among athletes. Practitioners should be aware of both mental and physical symptoms of long COVID, and additional considerations may be required for athletes who have undergone intensive care. The present review provides a list of recommendations based on existing literature that may be followed and implemented for returning athletes.Key MessagesFurther research, including longitudinal research of athletes who have tested positive for COVID-19, is required to develop evidenced-based guidelines for athletes with ongoing COVID-19 symptoms.Prior to returning to play after COVID-19 infection, a thorough medical history, physical and psychological examination should be conducted by a medical professional.Athletes should continue to monitor and record their own physical and psychological markers of health.',\n",
       "   'mesh_terms': ['D056352:Athletes',\n",
       "    'D054874:Athletic Performance',\n",
       "    'D000086382:COVID-19',\n",
       "    'D006801:Humans']},\n",
       "  'd33581830': {'score': 0.20698463,\n",
       "   'title': 'A novel computational method for assigning weights of importance to symptoms of COVID-19 patients.',\n",
       "   'abstract': 'BACKGROUND AND OBJECTIVE\\nThe novel coronavirus disease 2019 (COVID-19) is considered a pandemic by the World Health Organization (WHO). As of April 3, 2020, there were 1,009,625 reported confirmed cases, and 51,737 reported deaths. Doctors have been faced with a myriad of patients who present with many different symptoms. This raises two important questions. What are the common symptoms, and what are their relative importance?\\n\\n\\nMETHODS\\nA non-structured and incomplete COVID-19 dataset of 14,251 confirmed cases was preprocessed. This produced a complete and organized COVID-19 dataset of 738 confirmed cases. Six different feature selection algorithms were then applied to this new dataset. Five of these algorithms have been proposed earlier in the literature. The sixth is a novel algorithm being proposed by the authors, called Variance Based Feature Weighting (VBFW), which not only ranks the symptoms (based on their importance) but also assigns a quantitative importance measure to each symptom.\\n\\n\\nRESULTS\\nFor our COVID-19 dataset, the five different feature selection algorithms provided different rankings for the most important top-five symptoms. They even selected different symptoms for inclusion within the top five. This is because each of the five algorithms ranks the symptoms based on different data characteristics. Each of these algorithms has advantages and disadvantages. However, when all these five rankings were aggregated (using two different aggregating methods) they produced two identical rankings of the five most important COVID-19 symptoms. Starting from the most important to least important, they were: Fever/Cough, Fatigue, Sore Throat, and Shortness of Breath. (Fever and cough were ranked equally in both aggregations.) Meanwhile, the sixth novel Variance Based Feature Weighting algorithm, chose the same top five symptoms, but ranked fever much higher than cough, based on its quantitative importance measures for each of those symptoms (Fever - 75 %, Cough - 39.8 %, Fatigue - 16.5 %, Sore Throat - 10.8 %, and Shortness of Breath - 6.6 %). Moreover, the proposed VBFW method achieved an accuracy of 92.1 % when used to build a one-class SVM model, and an NDCG@5 of 100 %.\\n\\n\\nCONCLUSIONS\\nBased on the dataset, and the feature selection algorithms employed here, symptoms of Fever, Cough, Fatigue, Sore Throat and Shortness of Breath are important symptoms of COVID-19. The VBFW algorithm also indicates that Fever and Cough symptoms were especially indicative of COVID-19, for the confirmed cases that are documented in our database.',\n",
       "   'mesh_terms': ['D000465:Algorithms',\n",
       "    'D000086382:COVID-19',\n",
       "    'D019295:Computational Biology',\n",
       "    'D003371:Cough',\n",
       "    'D004417:Dyspnea',\n",
       "    'D005221:Fatigue',\n",
       "    'D005334:Fever',\n",
       "    'D006801:Humans',\n",
       "    'D058873:Pandemics',\n",
       "    'D010612:Pharyngitis',\n",
       "    'D000086402:SARS-CoV-2']}}}"
      ]
     },
     "execution_count": 3,
     "metadata": {},
     "output_type": "execute_result"
    }
   ],
   "source": [
    "elastic_utils.get_single_question_metrics('what are the symptoms of Covid?')"
   ]
  },
  {
   "cell_type": "markdown",
   "id": "c1fd0004-7abf-4c52-838b-fc3399298e69",
   "metadata": {},
   "source": [
    "## Params"
   ]
  },
  {
   "cell_type": "code",
   "execution_count": 4,
   "id": "38b6fa68-583d-4b47-b7e7-2563f858571d",
   "metadata": {},
   "outputs": [],
   "source": [
    "ELASTIC_SERVER = \"http://localhost:9200\"\n",
    "QUESTIONS_PATH = \"/home/azuluagac/DR_tests/training9b.json\"\n",
    "N_ANSWERS = 100\n",
    "SEARCH_FIELDS = ['title', 'abstract', 'mesh_terms']\n",
    "SEARCH_INDEX = 'pubmed2022_index_full'\n",
    "\n",
    "SAVING_PATH_TRAINING = '/datasets/johan_tests/training_docs.json'\n",
    "SAVING_PATH_ASKED = '/datasets/johan_tests/queried_docs.json'"
   ]
  },
  {
   "cell_type": "markdown",
   "id": "8d17afcd-50fc-4c71-8b74-44cb2e0b2a1b",
   "metadata": {},
   "source": [
    "## Constants"
   ]
  },
  {
   "cell_type": "code",
   "execution_count": 5,
   "id": "f7e7fd3d-9ef3-4191-893b-c1077f04fde6",
   "metadata": {},
   "outputs": [],
   "source": [
    "es = Elasticsearch(ELASTIC_SERVER)"
   ]
  },
  {
   "cell_type": "code",
   "execution_count": 6,
   "id": "ef7dcba1-c171-4462-9d61-90c44e07ed45",
   "metadata": {},
   "outputs": [],
   "source": [
    "questions = elastic_utils.load_questions(QUESTIONS_PATH)"
   ]
  },
  {
   "cell_type": "code",
   "execution_count": 7,
   "id": "de442ef7-ed19-4924-ab59-1d42e08bce9e",
   "metadata": {},
   "outputs": [],
   "source": [
    "count_docs = [len(question['documents']) for question in questions]"
   ]
  },
  {
   "cell_type": "code",
   "execution_count": 8,
   "id": "1b4cebdf-95de-4ad3-ac70-d781bedac5ad",
   "metadata": {},
   "outputs": [
    {
     "data": {
      "text/plain": [
       "count    3743.000000\n",
       "mean        9.426930\n",
       "std         9.927285\n",
       "min         1.000000\n",
       "25%         3.000000\n",
       "50%         7.000000\n",
       "75%        13.000000\n",
       "max       157.000000\n",
       "dtype: float64"
      ]
     },
     "execution_count": 8,
     "metadata": {},
     "output_type": "execute_result"
    }
   ],
   "source": [
    "pd.Series(count_docs).describe()"
   ]
  },
  {
   "cell_type": "code",
   "execution_count": 9,
   "id": "f387e1b4-ebfe-47d3-860f-0576d742dbb7",
   "metadata": {},
   "outputs": [
    {
     "data": {
      "text/plain": [
       "21.0"
      ]
     },
     "execution_count": 9,
     "metadata": {},
     "output_type": "execute_result"
    }
   ],
   "source": [
    "pd.Series(count_docs).quantile(0.90)"
   ]
  },
  {
   "cell_type": "code",
   "execution_count": 10,
   "id": "638bc66e-7e2a-4a48-ab25-6d451b1e5d72",
   "metadata": {},
   "outputs": [
    {
     "name": "stderr",
     "output_type": "stream",
     "text": [
      "/datasets/anaconda3/envs/tf2.8/lib/python3.9/site-packages/seaborn/distributions.py:2619: FutureWarning: `distplot` is a deprecated function and will be removed in a future version. Please adapt your code to use either `displot` (a figure-level function with similar flexibility) or `histplot` (an axes-level function for histograms).\n",
      "  warnings.warn(msg, FutureWarning)\n"
     ]
    },
    {
     "data": {
      "text/plain": [
       "<AxesSubplot:ylabel='Density'>"
      ]
     },
     "execution_count": 10,
     "metadata": {},
     "output_type": "execute_result"
    },
    {
     "data": {
      "image/png": "[encoded data removed]",
      "text/plain": [
       "<Figure size 432x288 with 1 Axes>"
      ]
     },
     "metadata": {
      "needs_background": "light"
     },
     "output_type": "display_data"
    }
   ],
   "source": [
    "sns.distplot(count_docs)"
   ]
  },
  {
   "cell_type": "markdown",
   "id": "30436e1a-2e71-4d52-9a93-3735901aea1f",
   "metadata": {},
   "source": [
    "## Making gold standard\n",
    "### Making base gold standard dict"
   ]
  },
  {
   "cell_type": "code",
   "execution_count": 11,
   "id": "411a6bb3-12f3-4fd4-a54d-75681729d49f",
   "metadata": {},
   "outputs": [
    {
     "name": "stderr",
     "output_type": "stream",
     "text": [
      "Making base gold standard: 100%|████████| 3743/3743 [00:00<00:00, 231706.59it/s]\n"
     ]
    }
   ],
   "source": [
    "gold_standard = elastic_utils.make_gold_standard(questions)"
   ]
  },
  {
   "cell_type": "markdown",
   "id": "55c6b4e4-4e46-4ae2-b161-3216b1aaafe9",
   "metadata": {
    "tags": []
   },
   "source": [
    "## Extracting abstracts and titles from question documents \n",
    "### Unique documents"
   ]
  },
  {
   "cell_type": "code",
   "execution_count": 12,
   "id": "ef50b8af-0c6e-4531-bc15-7e030f7b3f91",
   "metadata": {},
   "outputs": [
    {
     "name": "stderr",
     "output_type": "stream",
     "text": [
      "Document id extraction: 100%|███████████| 3743/3743 [00:00<00:00, 308191.60it/s]\n"
     ]
    },
    {
     "data": {
      "text/plain": [
       "35285"
      ]
     },
     "execution_count": 12,
     "metadata": {},
     "output_type": "execute_result"
    }
   ],
   "source": [
    "unique_documents = elastic_utils.extract_all_document_ids(\n",
    "    questions\n",
    ")\n",
    "len(unique_documents)"
   ]
  },
  {
   "cell_type": "markdown",
   "id": "3c73e19b-6b46-4971-ba8f-23f3d3e436f9",
   "metadata": {
    "tags": []
   },
   "source": [
    "### Querying documents "
   ]
  },
  {
   "cell_type": "code",
   "execution_count": 13,
   "id": "2f839d7d-6e0f-4d61-8454-18a0d2358289",
   "metadata": {},
   "outputs": [
    {
     "name": "stderr",
     "output_type": "stream",
     "text": [
      "Querying training document ids: 100%|████| 35285/35285 [02:19<00:00, 252.60it/s]\n"
     ]
    }
   ],
   "source": [
    "doc_ans = elastic_utils.ask_all_doc_id(unique_documents, SEARCH_FIELDS, es, SEARCH_INDEX)"
   ]
  },
  {
   "cell_type": "code",
   "execution_count": 14,
   "id": "770d24a9-8c33-45fa-9385-3c57f2cd682e",
   "metadata": {},
   "outputs": [
    {
     "name": "stdout",
     "output_type": "stream",
     "text": [
      "WTF\n"
     ]
    }
   ],
   "source": [
    "print('WTF')"
   ]
  },
  {
   "cell_type": "markdown",
   "id": "5387f068-0a9a-4ea8-bd83-7e30d053fb96",
   "metadata": {},
   "source": [
    "### Changing gold standard to have document info"
   ]
  },
  {
   "cell_type": "code",
   "execution_count": 15,
   "id": "7a229e60-df6f-4d9c-aed5-6feb6621cc36",
   "metadata": {},
   "outputs": [
    {
     "name": "stderr",
     "output_type": "stream",
     "text": [
      "Adding doc info to gold standard: 100%|█| 3743/3743 [00:00<00:00, 450132.75it/s]\n"
     ]
    }
   ],
   "source": [
    "elastic_utils.add_doc_info_to_gold_standard(gold_standard, doc_ans)"
   ]
  },
  {
   "cell_type": "markdown",
   "id": "5a479c57-3e32-4370-a3df-593122340d87",
   "metadata": {},
   "source": [
    "## Making answers for training\n",
    "\n",
    "### Single answer example"
   ]
  },
  {
   "cell_type": "code",
   "execution_count": 16,
   "id": "b2b934e1-2722-4b1c-98ca-c8cbfa8f9548",
   "metadata": {},
   "outputs": [],
   "source": [
    "sample_answers = elastic_utils.ask_single_question(\n",
    "    question=questions[0],\n",
    "    fields=SEARCH_FIELDS,\n",
    "    size=N_ANSWERS,\n",
    "    es_client=es,\n",
    "    index=SEARCH_INDEX\n",
    ")"
   ]
  },
  {
   "cell_type": "code",
   "execution_count": 17,
   "id": "114c1e29-5f56-4b0a-a709-ae3f6974479b",
   "metadata": {},
   "outputs": [
    {
     "data": {
      "text/plain": [
       "dict_keys(['took', 'timed_out', '_shards', 'hits'])"
      ]
     },
     "execution_count": 17,
     "metadata": {},
     "output_type": "execute_result"
    }
   ],
   "source": [
    "sample_answers.keys()"
   ]
  },
  {
   "cell_type": "code",
   "execution_count": 18,
   "id": "a10ddb19-c45f-49f5-9ecc-d409e6c85dd9",
   "metadata": {},
   "outputs": [
    {
     "name": "stdout",
     "output_type": "stream",
     "text": [
      "{'_id': 'iqv2sn8B1o02LKX0RqIC',\n",
      " '_ignored': ['abstract.keyword'],\n",
      " '_index': 'pubmed2022_index_full',\n",
      " '_score': 34.236095,\n",
      " '_source': {'abstract': 'Hirschsprung disease is a congenital disorder with '\n",
      "                         'the incidence of 1 per 5000 live births, '\n",
      "                         'characterized by the absence of intestinal ganglion '\n",
      "                         'cells. In the etiology of Hirschsprung disease '\n",
      "                         'various genes play a role; these are: RET, EDNRB, '\n",
      "                         'GDNF, EDN3 and SOX10, NTN3, ECE1, Mutations in these '\n",
      "                         'genes may result in dominant, recessive or '\n",
      "                         'multifactorial patterns of inheritance. Diverse '\n",
      "                         'models of inheritance, co-existence of numerous '\n",
      "                         'genetic disorders and detection of numerous '\n",
      "                         'chromosomal aberrations together with involvement of '\n",
      "                         'various genes confirm the genetic heterogeneity of '\n",
      "                         'Hirschsprung disease. Hirschsprung disease might '\n",
      "                         'well serve as a model for many complex disorders in '\n",
      "                         'which the search for responsible genes has only just '\n",
      "                         'been initiated. It seems that the most important '\n",
      "                         'role in its genetic etiology plays the RET gene, '\n",
      "                         'which is involved in the etiology of at least four '\n",
      "                         'diseases. This review focuses on recent advances of '\n",
      "                         'the importance of RET gene in the etiology of '\n",
      "                         'Hirschsprung disease.',\n",
      "             'affiliations': 'Katedra Patofizjologii, Akademia Medyczna, '\n",
      "                             'Marcinkowskiego 1, 50-368 Wrocław, Poland. '\n",
      "                             'smigiel@patfiz.am.wroc.pl',\n",
      "             'authors': 'Smigiel|Robert|R|;Patkowski|Dariusz|D|;Slezak|Ryszard|R|;Czernik|Jerzy|J|;Sasiadek|Maria|M|',\n",
      "             'chemical_list': 'D009414:Nerve Growth Factors; '\n",
      "                              'D051096:Proto-Oncogene Proteins c-ret',\n",
      "             'country': 'Poland',\n",
      "             'delete': False,\n",
      "             'doi': '',\n",
      "             'issn_linking': '',\n",
      "             'issue': '8(3 Pt 2)',\n",
      "             'journal': 'Medycyna wieku rozwojowego',\n",
      "             'keywords': '',\n",
      "             'medline_ta': 'Med Wieku Rozwoj',\n",
      "             'mesh_terms': 'D002869:Chromosome Aberrations; '\n",
      "                           'D006627:Hirschsprung Disease; D006801:Humans; '\n",
      "                           'D007231:Infant, Newborn; D009154:Mutation; '\n",
      "                           'D009414:Nerve Growth Factors; '\n",
      "                           'D011110:Polymorphism, Genetic; '\n",
      "                           'D051096:Proto-Oncogene Proteins c-ret',\n",
      "             'nlm_unique_id': '100928610',\n",
      "             'other_id': '',\n",
      "             'pages': '663-75',\n",
      "             'pmc': '',\n",
      "             'pmid': '15858239',\n",
      "             'pubdate': '2004',\n",
      "             'publication_types': 'D004740:English Abstract; D016428:Journal '\n",
      "                                  'Article; D016454:Review',\n",
      "             'references': '',\n",
      "             'title': '[The role of ret gene in the pathogenesis of '\n",
      "                      'Hirschsprung disease].'}}\n"
     ]
    }
   ],
   "source": [
    "pprint(sample_answers['hits']['hits'][0])"
   ]
  },
  {
   "cell_type": "code",
   "execution_count": 19,
   "id": "35a6c76e-d682-4cb3-89d3-eb917b6ecc54",
   "metadata": {},
   "outputs": [],
   "source": [
    "single_metrics = elastic_utils.answers_to_id_metric(\n",
    "    sample_answers\n",
    ")"
   ]
  },
  {
   "cell_type": "code",
   "execution_count": 20,
   "id": "a3597b9e-f25d-4e4f-90c2-29a01e350bf4",
   "metadata": {},
   "outputs": [
    {
     "data": {
      "text/plain": [
       "{'d15858239': 0.34236095,\n",
       " 'd11106284': 0.33183098,\n",
       " 'd3578280': 0.32416817000000003,\n",
       " 'd10893883': 0.31942066,\n",
       " 'd30954460': 0.29275568,\n",
       " 'd23465774': 0.29030823,\n",
       " 'd22475248': 0.28305304,\n",
       " 'd9600737': 0.27977608,\n",
       " 'd12239580': 0.2739651,\n",
       " 'd8877363': 0.27115635,\n",
       " 'd27639057': 0.27113972000000003,\n",
       " 'd16986122': 0.27096252,\n",
       " 'd27370713': 0.26820717,\n",
       " 'd9465697': 0.26786556,\n",
       " 'd9174404': 0.26709528,\n",
       " 'd30924549': 0.26574312,\n",
       " 'd33768880': 0.26484543,\n",
       " 'd29677472': 0.26441075999999997,\n",
       " 'd18472352': 0.26373466,\n",
       " 'd7634536': 0.26270704,\n",
       " 'd12699256': 0.25905737,\n",
       " 'd155240': 0.25807156,\n",
       " 'd11949952': 0.25774113,\n",
       " 'd9090527': 0.25615469999999996,\n",
       " 'd28855933': 0.25602615,\n",
       " 'd29018668': 0.25559172,\n",
       " 'd26228106': 0.2547941,\n",
       " 'd31313802': 0.25457567000000003,\n",
       " 'd11108911': 0.2541384,\n",
       " 'd33151932': 0.25409756,\n",
       " 'd22307701': 0.25337666999999997,\n",
       " 'd10407683': 0.25251139,\n",
       " 'd10395219': 0.25162148,\n",
       " 'd3051535': 0.25158342,\n",
       " 'd31666091': 0.25097816,\n",
       " 'd14689098': 0.25064047,\n",
       " 'd12189494': 0.25058514,\n",
       " 'd12963895': 0.25017510000000004,\n",
       " 'd29926078': 0.24892782,\n",
       " 'd17210849': 0.24817486,\n",
       " 'd34566951': 0.24722149999999998,\n",
       " 'd21330345': 0.24476472999999999,\n",
       " 'd22584707': 0.244314,\n",
       " 'd17031234': 0.2438427,\n",
       " 'd15099278': 0.24213450000000003,\n",
       " 'd1168275': 0.24190952,\n",
       " 'd16037257': 0.24128793999999998,\n",
       " 'd15617541': 0.24090979999999998,\n",
       " 'd7783764': 0.24026056,\n",
       " 'd20851255': 0.23993288,\n",
       " 'd27987238': 0.23945688,\n",
       " 'd23427518': 0.23855243999999998,\n",
       " 'd23899067': 0.2383847,\n",
       " 'd28180937': 0.2383133,\n",
       " 'd124238': 0.23771187000000002,\n",
       " 'd29654647': 0.23751362,\n",
       " 'd30031151': 0.23673485,\n",
       " 'd19943343': 0.23619423,\n",
       " 'd30935730': 0.23602489999999998,\n",
       " 'd9638819': 0.23579360000000002,\n",
       " 'd9820449': 0.23565865,\n",
       " 'd20027720': 0.23524096,\n",
       " 'd31609069': 0.23519548,\n",
       " 'd23917331': 0.2347325,\n",
       " 'd11391344': 0.23451319999999998,\n",
       " 'd34422713': 0.23436535,\n",
       " 'd9634657': 0.23406147,\n",
       " 'd20395971': 0.23399809000000002,\n",
       " 'd29212617': 0.23364632,\n",
       " 'd23463159': 0.232682,\n",
       " 'd17999358': 0.23150463,\n",
       " 'd14603835': 0.23111282,\n",
       " 'd27249847': 0.23110191,\n",
       " 'd19019295': 0.23002409000000001,\n",
       " 'd18970938': 0.2299918,\n",
       " 'd22574178': 0.2294864,\n",
       " 'd10792313': 0.22942132999999998,\n",
       " 'd19556619': 0.22929323000000001,\n",
       " 'd11208731': 0.22922419000000002,\n",
       " 'd17706508': 0.22833303000000002,\n",
       " 'd18406241': 0.22792549999999998,\n",
       " 'd8316925': 0.22791176,\n",
       " 'd3138254': 0.22783398,\n",
       " 'd21108062': 0.22760982999999999,\n",
       " 'd7807311': 0.22727699999999998,\n",
       " 'd31695228': 0.22712765000000001,\n",
       " 'd34630269': 0.22676767,\n",
       " 'd30723964': 0.22670912000000001,\n",
       " 'd11891681': 0.22667427,\n",
       " 'd30217742': 0.22655483,\n",
       " 'd159391': 0.22626766,\n",
       " 'd16038282': 0.22576103,\n",
       " 'd24267509': 0.22549591,\n",
       " 'd22935219': 0.22539363999999998,\n",
       " 'd21641840': 0.22469245999999998,\n",
       " 'd33997095': 0.22467245,\n",
       " 'd21777851': 0.22457794,\n",
       " 'd8791480': 0.22404548999999999,\n",
       " 'd12827915': 0.22394655,\n",
       " 'd31201486': 0.22391306}"
      ]
     },
     "execution_count": 20,
     "metadata": {},
     "output_type": "execute_result"
    }
   ],
   "source": [
    "single_metrics"
   ]
  },
  {
   "cell_type": "markdown",
   "id": "9bd932fd-181e-431b-bb2f-37ec35733cc8",
   "metadata": {},
   "source": [
    "### Multiple question answering"
   ]
  },
  {
   "cell_type": "code",
   "execution_count": null,
   "id": "f807ea48-f37e-4975-a6d8-251747a23898",
   "metadata": {},
   "outputs": [
    {
     "name": "stderr",
     "output_type": "stream",
     "text": [
      "Extracting docs from elastic search:  10%|▎  | 361/3743 [01:30<16:19,  3.45it/s]"
     ]
    }
   ],
   "source": [
    "%%time\n",
    "multiple_ans = elastic_utils.ask_several_questions(\n",
    "    questions=questions,\n",
    "    fields=SEARCH_FIELDS,\n",
    "    size=N_ANSWERS,\n",
    "    es_client=es,\n",
    "    index=SEARCH_INDEX\n",
    ")"
   ]
  },
  {
   "cell_type": "markdown",
   "id": "03ec9347-039d-487b-9a5d-f3c4f53438c5",
   "metadata": {},
   "source": [
    "## Saving dicts"
   ]
  },
  {
   "cell_type": "code",
   "execution_count": null,
   "id": "46599b11-9e19-461a-abb7-4519983c33ed",
   "metadata": {},
   "outputs": [],
   "source": [
    "elastic_utils.save_json(gold_standard, SAVING_PATH_TRAINING)\n",
    "elastic_utils.save_json(multiple_ans, SAVING_PATH_ASKED)"
   ]
  }
 ],
 "metadata": {
  "kernelspec": {
   "display_name": "Python 3 (ipykernel)",
   "language": "python",
   "name": "python3"
  },
  "language_info": {
   "codemirror_mode": {
    "name": "ipython",
    "version": 3
   },
   "file_extension": ".py",
   "mimetype": "text/x-python",
   "name": "python",
   "nbconvert_exporter": "python",
   "pygments_lexer": "ipython3",
   "version": "3.9.7"
  }
 },
 "nbformat": 4,
 "nbformat_minor": 5
}
