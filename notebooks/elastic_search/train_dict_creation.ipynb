{
 "cells": [
  {
   "cell_type": "markdown",
   "id": "ed69f2a4-b28d-4c95-9d48-fd0473342e82",
   "metadata": {
    "tags": []
   },
   "source": [
    "## Imports"
   ]
  },
  {
   "cell_type": "code",
   "execution_count": 1,
   "id": "7abc2f09-455d-40ab-8c2a-9c2c7030937b",
   "metadata": {},
   "outputs": [],
   "source": [
    "%load_ext autoreload\n",
    "%autoreload 2\n",
    "import os\n",
    "import re\n",
    "import json\n",
    "import sys\n",
    "from tqdm import tqdm\n",
    "from pprint import pprint\n",
    "\n",
    "import matplotlib.pyplot as plt\n",
    "import seaborn as sns\n",
    "\n",
    "import pytrec_eval\n",
    "import numpy as np\n",
    "import pandas as pd\n",
    "from elasticsearch import Elasticsearch\n",
    "\n",
    "from src.elastic_search_utils import elastic_utils"
   ]
  },
  {
   "cell_type": "markdown",
   "id": "c1fd0004-7abf-4c52-838b-fc3399298e69",
   "metadata": {},
   "source": [
    "## Params"
   ]
  },
  {
   "cell_type": "code",
   "execution_count": 2,
   "id": "38b6fa68-583d-4b47-b7e7-2563f858571d",
   "metadata": {},
   "outputs": [],
   "source": [
    "ELASTIC_SERVER = \"http://localhost:9200\"\n",
    "QUESTIONS_PATH = \"/home/azuluagac/DR_tests/training10b.json\"\n",
    "N_ANSWERS = 100\n",
    "SEARCH_FIELDS = ['title', 'abstract', 'mesh_terms']\n",
    "SEARCH_INDEX = 'pubmed2022'\n",
    "\n",
    "SAVING_PATH_TRAINING = '/datasets/johan_tests_original_format/training_docs_10b.json'\n",
    "SAVING_PATH_ASKED = '/datasets/johan_tests_original_format/queried_docs_10b.json'"
   ]
  },
  {
   "cell_type": "markdown",
   "id": "8d17afcd-50fc-4c71-8b74-44cb2e0b2a1b",
   "metadata": {},
   "source": [
    "## Constants"
   ]
  },
  {
   "cell_type": "code",
   "execution_count": 3,
   "id": "f7e7fd3d-9ef3-4191-893b-c1077f04fde6",
   "metadata": {},
   "outputs": [],
   "source": [
    "es = Elasticsearch(ELASTIC_SERVER)"
   ]
  },
  {
   "cell_type": "code",
   "execution_count": 4,
   "id": "ef7dcba1-c171-4462-9d61-90c44e07ed45",
   "metadata": {},
   "outputs": [],
   "source": [
    "questions = elastic_utils.load_json(QUESTIONS_PATH)"
   ]
  },
  {
   "cell_type": "code",
   "execution_count": 5,
   "id": "50f2ad86-692f-4b3d-a09e-a644dc7b5225",
   "metadata": {},
   "outputs": [
    {
     "data": {
      "text/plain": [
       "dict_keys(['questions'])"
      ]
     },
     "execution_count": 5,
     "metadata": {},
     "output_type": "execute_result"
    }
   ],
   "source": [
    "questions.keys()"
   ]
  },
  {
   "cell_type": "code",
   "execution_count": 6,
   "id": "b1ed8a0d-4dfd-4e7d-8c8e-f8a302af213c",
   "metadata": {
    "tags": []
   },
   "outputs": [
    {
     "name": "stdout",
     "output_type": "stream",
     "text": [
      "{'body': 'List signaling molecules (ligands) that interact with the receptor '\n",
      "         'EGFR?',\n",
      " 'concepts': ['http://amigo.geneontology.org/cgi-bin/amigo/term_details?term=GO:0005154',\n",
      "              'http://www.uniprot.org/uniprot/EGFR_HUMAN',\n",
      "              'http://amigo.geneontology.org/cgi-bin/amigo/term_details?term=GO:0005488',\n",
      "              'http://amigo.geneontology.org/cgi-bin/amigo/term_details?term=GO:0042058',\n",
      "              'http://www.nlm.nih.gov/cgi/mesh/2015/MB_cgi?field=uid&exact=Find+Exact+Term&term=D018773',\n",
      "              'http://www.nlm.nih.gov/cgi/mesh/2015/MB_cgi?field=uid&exact=Find+Exact+Term&term=D008024',\n",
      "              'http://amigo.geneontology.org/cgi-bin/amigo/term_details?term=GO:0045741',\n",
      "              'http://amigo.geneontology.org/cgi-bin/amigo/term_details?term=GO:0007173',\n",
      "              'http://amigo.geneontology.org/cgi-bin/amigo/term_details?term=GO:0005006',\n",
      "              'http://amigo.geneontology.org/cgi-bin/amigo/term_details?term=GO:0007175',\n",
      "              'http://amigo.geneontology.org/cgi-bin/amigo/term_details?term=GO:0007176',\n",
      "              'http://www.uniprot.org/uniprot/EGFR_CHICK'],\n",
      " 'documents': ['http://www.ncbi.nlm.nih.gov/pubmed/23959273',\n",
      "               'http://www.ncbi.nlm.nih.gov/pubmed/21514161',\n",
      "               'http://www.ncbi.nlm.nih.gov/pubmed/23212918',\n",
      "               'http://www.ncbi.nlm.nih.gov/pubmed/23888072',\n",
      "               'http://www.ncbi.nlm.nih.gov/pubmed/23821377',\n",
      "               'http://www.ncbi.nlm.nih.gov/pubmed/23099994',\n",
      "               'http://www.ncbi.nlm.nih.gov/pubmed/22260327',\n",
      "               'http://www.ncbi.nlm.nih.gov/pubmed/24204699',\n",
      "               'http://www.ncbi.nlm.nih.gov/pubmed/24323361',\n",
      "               'http://www.ncbi.nlm.nih.gov/pubmed/23089711',\n",
      "               'http://www.ncbi.nlm.nih.gov/pubmed/23399900',\n",
      "               'http://www.ncbi.nlm.nih.gov/pubmed/23382875',\n",
      "               'http://www.ncbi.nlm.nih.gov/pubmed/23729230',\n",
      "               'http://www.ncbi.nlm.nih.gov/pubmed/23787814',\n",
      "               'http://www.ncbi.nlm.nih.gov/pubmed/24124521',\n",
      "               'http://www.ncbi.nlm.nih.gov/pubmed/22247333'],\n",
      " 'exact_answer': [['epidermal growth factor'],\n",
      "                  ['betacellulin'],\n",
      "                  ['epiregulin'],\n",
      "                  ['heparin-binding epidermal growth factor'],\n",
      "                  ['transforming growth factor-α'],\n",
      "                  ['amphiregulin'],\n",
      "                  ['epigen']],\n",
      " 'id': '55046d5ff8aee20f27000007',\n",
      " 'ideal_answer': ['The 7 known EGFR ligands  are: epidermal growth factor '\n",
      "                  '(EGF), betacellulin (BTC), epiregulin (EPR), '\n",
      "                  'heparin-binding EGF (HB-EGF), transforming growth factor-α '\n",
      "                  '[TGF-α], amphiregulin (AREG) and epigen (EPG).'],\n",
      " 'snippets': [{'beginSection': 'abstract',\n",
      "               'document': 'http://www.ncbi.nlm.nih.gov/pubmed/24323361',\n",
      "               'endSection': 'abstract',\n",
      "               'offsetInBeginSection': 1085,\n",
      "               'offsetInEndSection': 1199,\n",
      "               'text': 'the epidermal growth factor receptor (EGFR) ligands, '\n",
      "                       'such as epidermal growth factor (EGF) and amphiregulin '\n",
      "                       '(AREG)'},\n",
      "              {'beginSection': 'abstract',\n",
      "               'document': 'http://www.ncbi.nlm.nih.gov/pubmed/24124521',\n",
      "               'endSection': 'abstract',\n",
      "               'offsetInBeginSection': 1139,\n",
      "               'offsetInEndSection': 1247,\n",
      "               'text': ' EGFR ligands epidermal growth factor (EGF), '\n",
      "                       'amphiregulin (AREG) and transforming growth factor '\n",
      "                       'alpha (TGFα)'},\n",
      "              {'beginSection': 'abstract',\n",
      "               'document': 'http://www.ncbi.nlm.nih.gov/pubmed/23959273',\n",
      "               'endSection': 'abstract',\n",
      "               'offsetInBeginSection': 72,\n",
      "               'offsetInEndSection': 97,\n",
      "               'text': ' EGFR and its ligand EGF '},\n",
      "              {'beginSection': 'abstract',\n",
      "               'document': 'http://www.ncbi.nlm.nih.gov/pubmed/23888072',\n",
      "               'endSection': 'abstract',\n",
      "               'offsetInBeginSection': 903,\n",
      "               'offsetInEndSection': 1058,\n",
      "               'text': 'Among EGFR ligands, heparin-binding EGF-like growth '\n",
      "                       'factor, TGF-α and Betacellulin (BTC) are produced in '\n",
      "                       'the tumor microenvironment of FDC-S at RNA level. '},\n",
      "              {'beginSection': 'abstract',\n",
      "               'document': 'http://www.ncbi.nlm.nih.gov/pubmed/23821377',\n",
      "               'endSection': 'abstract',\n",
      "               'offsetInBeginSection': 322,\n",
      "               'offsetInEndSection': 493,\n",
      "               'text': '. Plasma amphiregulin (AR), epidermal growth factor '\n",
      "                       '(EGF), transforming growth factor-α, and heparin '\n",
      "                       'binding-EGF were assessed by ELISA in 45 '\n",
      "                       'chemorefractory mCRC patients'},\n",
      "              {'beginSection': 'abstract',\n",
      "               'document': 'http://www.ncbi.nlm.nih.gov/pubmed/23787814',\n",
      "               'endSection': 'abstract',\n",
      "               'offsetInBeginSection': 346,\n",
      "               'offsetInEndSection': 414,\n",
      "               'text': 'Among EGFR ligands, heparin-binding epidermal growth '\n",
      "                       'factor (HB-EGF)'},\n",
      "              {'beginSection': 'abstract',\n",
      "               'document': 'http://www.ncbi.nlm.nih.gov/pubmed/23729230',\n",
      "               'endSection': 'abstract',\n",
      "               'offsetInBeginSection': 357,\n",
      "               'offsetInEndSection': 521,\n",
      "               'text': ' Of the six known EGFR ligands, transforming growth '\n",
      "                       'factor alpha (TGFα) was expressed more highly in '\n",
      "                       'triple-negative breast tumors than in tumors of other '\n",
      "                       'subtypes.'},\n",
      "              {'beginSection': 'abstract',\n",
      "               'document': 'http://www.ncbi.nlm.nih.gov/pubmed/23399900',\n",
      "               'endSection': 'abstract',\n",
      "               'offsetInBeginSection': 781,\n",
      "               'offsetInEndSection': 923,\n",
      "               'text': 'the 7 known EGFR ligands (EGF, betacellulin, '\n",
      "                       'epiregulin, heparin-binding EGF, transforming growth '\n",
      "                       'factor-α [TGF-α], amphiregulin, and epigen) '},\n",
      "              {'beginSection': 'abstract',\n",
      "               'document': 'http://www.ncbi.nlm.nih.gov/pubmed/23382875',\n",
      "               'endSection': 'abstract',\n",
      "               'offsetInBeginSection': 1393,\n",
      "               'offsetInEndSection': 1472,\n",
      "               'text': 'EGFR ligands based on the two affinity classes: '\n",
      "                       'EGF>HB-EGF>TGF-α>BTC>EPR>EPG>AR'},\n",
      "              {'beginSection': 'abstract',\n",
      "               'document': 'http://www.ncbi.nlm.nih.gov/pubmed/23212918',\n",
      "               'endSection': 'abstract',\n",
      "               'offsetInBeginSection': 197,\n",
      "               'offsetInEndSection': 320,\n",
      "               'text': 'In this article, however, we demonstrate that PEPD '\n",
      "                       'directly binds to and activates epidermal growth '\n",
      "                       'factor receptor (EGFR),'},\n",
      "              {'beginSection': 'abstract',\n",
      "               'document': 'http://www.ncbi.nlm.nih.gov/pubmed/23099994',\n",
      "               'endSection': 'abstract',\n",
      "               'offsetInBeginSection': 1559,\n",
      "               'offsetInEndSection': 1607,\n",
      "               'text': 'four EGFR ligands (AR, HB-EGF, TGF-α, and EREG) '},\n",
      "              {'beginSection': 'abstract',\n",
      "               'document': 'http://www.ncbi.nlm.nih.gov/pubmed/22260327',\n",
      "               'endSection': 'abstract',\n",
      "               'offsetInBeginSection': 0,\n",
      "               'offsetInEndSection': 87,\n",
      "               'text': 'Epidermal growth factor (EGF) family peptides are '\n",
      "                       'ligands for the EGF receptor (EGFR). '},\n",
      "              {'beginSection': 'abstract',\n",
      "               'document': 'http://www.ncbi.nlm.nih.gov/pubmed/22260327',\n",
      "               'endSection': 'abstract',\n",
      "               'offsetInBeginSection': 240,\n",
      "               'offsetInEndSection': 490,\n",
      "               'text': 'oluble amphiregulin (AR), transforming growth factor '\n",
      "                       'alpha (TGFα), neuregulin 2 beta, and epigen stimulate '\n",
      "                       'greater EGFR coupling to cell proliferation and DNA '\n",
      "                       'synthesis than do EGF, betacellulin, heparin-binding '\n",
      "                       'EGF-like growth factor, and epiregulin'},\n",
      "              {'beginSection': 'abstract',\n",
      "               'document': 'http://www.ncbi.nlm.nih.gov/pubmed/22247333',\n",
      "               'endSection': 'abstract',\n",
      "               'offsetInBeginSection': 387,\n",
      "               'offsetInEndSection': 563,\n",
      "               'text': 'Here, we demonstrate that histamine releases 2 EGFR '\n",
      "                       'ligands, amphiregulin and heparin-binding epidermal '\n",
      "                       'growth factor-like growth factor (HB-EGF), from airway '\n",
      "                       'epithelial cells.'},\n",
      "              {'beginSection': 'abstract',\n",
      "               'document': 'http://www.ncbi.nlm.nih.gov/pubmed/21514161',\n",
      "               'endSection': 'abstract',\n",
      "               'offsetInBeginSection': 72,\n",
      "               'offsetInEndSection': 231,\n",
      "               'text': 'mammalian EGFR ligands including EGF, TGF-α (TGFα), '\n",
      "                       'amphiregulin (AREG), heparin-binding EGF-like growth '\n",
      "                       'factor (HB-EGF), betacellulin, epiregulin, and '\n",
      "                       'epigen.'}],\n",
      " 'triples': [{'o': 'http://linkedlifedata.com/resource/#_5139515837300022',\n",
      "              'p': 'http://purl.uniprot.org/core/encodedBy',\n",
      "              's': 'http://purl.uniprot.org/uniprot/Q9QX70'},\n",
      "             {'o': 'Egfr',\n",
      "              'p': 'http://www.w3.org/2004/02/skos/core#prefLabel',\n",
      "              's': 'http://linkedlifedata.com/resource/#_5139515837300022'},\n",
      "             {'o': 'http://purl.uniprot.org/uniprot/Q9QX70',\n",
      "              'p': 'http://www.w3.org/2004/02/skos/core#exactMatch',\n",
      "              's': 'http://purl.uniprot.org/intact/EBI-1256812'},\n",
      "             {'o': 'Egfr',\n",
      "              'p': 'http://www.w3.org/2000/01/rdf-schema#label',\n",
      "              's': 'http://purl.uniprot.org/intact/EBI-1256812'}],\n",
      " 'type': 'list'}\n"
     ]
    }
   ],
   "source": [
    "pprint(questions['questions'][1])"
   ]
  },
  {
   "cell_type": "code",
   "execution_count": 7,
   "id": "de442ef7-ed19-4924-ab59-1d42e08bce9e",
   "metadata": {},
   "outputs": [],
   "source": [
    "count_docs = [len(question['documents']) for question in questions['questions']]"
   ]
  },
  {
   "cell_type": "code",
   "execution_count": 8,
   "id": "1b4cebdf-95de-4ad3-ac70-d781bedac5ad",
   "metadata": {},
   "outputs": [
    {
     "data": {
      "text/plain": [
       "count    4234.000000\n",
       "mean        9.219650\n",
       "std         9.789827\n",
       "min         1.000000\n",
       "25%         2.000000\n",
       "50%         6.000000\n",
       "75%        13.000000\n",
       "max       157.000000\n",
       "dtype: float64"
      ]
     },
     "execution_count": 8,
     "metadata": {},
     "output_type": "execute_result"
    }
   ],
   "source": [
    "pd.Series(count_docs).describe()"
   ]
  },
  {
   "cell_type": "code",
   "execution_count": 9,
   "id": "f387e1b4-ebfe-47d3-860f-0576d742dbb7",
   "metadata": {},
   "outputs": [
    {
     "data": {
      "text/plain": [
       "21.0"
      ]
     },
     "execution_count": 9,
     "metadata": {},
     "output_type": "execute_result"
    }
   ],
   "source": [
    "pd.Series(count_docs).quantile(0.90)"
   ]
  },
  {
   "cell_type": "code",
   "execution_count": 10,
   "id": "638bc66e-7e2a-4a48-ab25-6d451b1e5d72",
   "metadata": {},
   "outputs": [
    {
     "name": "stderr",
     "output_type": "stream",
     "text": [
      "/datasets/anaconda3/envs/tf2.8/lib/python3.9/site-packages/seaborn/distributions.py:2619: FutureWarning: `distplot` is a deprecated function and will be removed in a future version. Please adapt your code to use either `displot` (a figure-level function with similar flexibility) or `histplot` (an axes-level function for histograms).\n",
      "  warnings.warn(msg, FutureWarning)\n"
     ]
    },
    {
     "data": {
      "text/plain": [
       "<AxesSubplot:ylabel='Density'>"
      ]
     },
     "execution_count": 10,
     "metadata": {},
     "output_type": "execute_result"
    },
    {
     "data": {
      "image/png": "[encoded data removed]",
      "text/plain": [
       "<Figure size 432x288 with 1 Axes>"
      ]
     },
     "metadata": {
      "needs_background": "light"
     },
     "output_type": "display_data"
    }
   ],
   "source": [
    "sns.distplot(count_docs)"
   ]
  },
  {
   "cell_type": "markdown",
   "id": "30436e1a-2e71-4d52-9a93-3735901aea1f",
   "metadata": {},
   "source": [
    "## Making gold standard\n",
    "### Making base gold standard dict"
   ]
  },
  {
   "cell_type": "code",
   "execution_count": 11,
   "id": "815026d3-9a58-4b05-9911-1c350ae972d5",
   "metadata": {},
   "outputs": [
    {
     "name": "stderr",
     "output_type": "stream",
     "text": [
      "Making base gold standard: 100%|████████| 4234/4234 [00:00<00:00, 297256.25it/s]\n"
     ]
    }
   ],
   "source": [
    "gold_standard = elastic_utils.make_gold_standard(questions)"
   ]
  },
  {
   "cell_type": "markdown",
   "id": "55c6b4e4-4e46-4ae2-b161-3216b1aaafe9",
   "metadata": {
    "tags": []
   },
   "source": [
    "## Extracting abstracts and titles from question documents \n",
    "### Unique documents"
   ]
  },
  {
   "cell_type": "code",
   "execution_count": 12,
   "id": "ef50b8af-0c6e-4531-bc15-7e030f7b3f91",
   "metadata": {},
   "outputs": [
    {
     "name": "stderr",
     "output_type": "stream",
     "text": [
      "Document id extraction: 100%|███████████| 4234/4234 [00:00<00:00, 443601.11it/s]\n"
     ]
    },
    {
     "data": {
      "text/plain": [
       "36844"
      ]
     },
     "execution_count": 12,
     "metadata": {},
     "output_type": "execute_result"
    }
   ],
   "source": [
    "unique_documents = elastic_utils.extract_all_document_ids(\n",
    "    questions\n",
    ")\n",
    "len(unique_documents)"
   ]
  },
  {
   "cell_type": "code",
   "execution_count": 13,
   "id": "eaa334d3-1a66-4e14-8411-9bf8211d19df",
   "metadata": {},
   "outputs": [
    {
     "data": {
      "text/plain": [
       "'25303625'"
      ]
     },
     "execution_count": 13,
     "metadata": {},
     "output_type": "execute_result"
    }
   ],
   "source": [
    "unique_documents[0]"
   ]
  },
  {
   "cell_type": "markdown",
   "id": "3c73e19b-6b46-4971-ba8f-23f3d3e436f9",
   "metadata": {
    "tags": []
   },
   "source": [
    "### Querying documents "
   ]
  },
  {
   "cell_type": "code",
   "execution_count": 14,
   "id": "2f839d7d-6e0f-4d61-8454-18a0d2358289",
   "metadata": {},
   "outputs": [
    {
     "name": "stderr",
     "output_type": "stream",
     "text": [
      "Querying training document ids: 100%|████| 36844/36844 [02:35<00:00, 237.69it/s]\n"
     ]
    }
   ],
   "source": [
    "doc_ans = elastic_utils.ask_all_doc_id(unique_documents, SEARCH_FIELDS, es, SEARCH_INDEX)"
   ]
  },
  {
   "cell_type": "markdown",
   "id": "5387f068-0a9a-4ea8-bd83-7e30d053fb96",
   "metadata": {},
   "source": [
    "### Changing gold standard to have document info"
   ]
  },
  {
   "cell_type": "code",
   "execution_count": 15,
   "id": "7a229e60-df6f-4d9c-aed5-6feb6621cc36",
   "metadata": {},
   "outputs": [
    {
     "name": "stderr",
     "output_type": "stream",
     "text": [
      "Adding doc info to gold standard: 100%|██| 4234/4234 [00:00<00:00, 10966.10it/s]\n"
     ]
    }
   ],
   "source": [
    "elastic_utils.add_doc_info_to_gold_standard(gold_standard, doc_ans)"
   ]
  },
  {
   "cell_type": "code",
   "execution_count": 16,
   "id": "1a546588-5348-456a-bc44-e6d7b0b45fea",
   "metadata": {
    "tags": []
   },
   "outputs": [
    {
     "data": {
      "text/plain": [
       "[{'score': 1,\n",
       "  'title': '[The role of ret gene in the pathogenesis of Hirschsprung disease].',\n",
       "  'abstract': 'Hirschsprung disease is a congenital disorder with the incidence of 1 per 5000 live births, characterized by the absence of intestinal ganglion cells. In the etiology of Hirschsprung disease various genes play a role; these are: RET, EDNRB, GDNF, EDN3 and SOX10, NTN3, ECE1, Mutations in these genes may result in dominant, recessive or multifactorial patterns of inheritance. Diverse models of inheritance, co-existence of numerous genetic disorders and detection of numerous chromosomal aberrations together with involvement of various genes confirm the genetic heterogeneity of Hirschsprung disease. Hirschsprung disease might well serve as a model for many complex disorders in which the search for responsible genes has only just been initiated. It seems that the most important role in its genetic etiology plays the RET gene, which is involved in the etiology of at least four diseases. This review focuses on recent advances of the importance of RET gene in the etiology of Hirschsprung disease.',\n",
       "  'mesh_terms': ['D002869:Chromosome Aberrations',\n",
       "   'D006627:Hirschsprung Disease',\n",
       "   'D006801:Humans',\n",
       "   'D007231:Infant, Newborn',\n",
       "   'D009154:Mutation',\n",
       "   'D009414:Nerve Growth Factors',\n",
       "   'D011110:Polymorphism, Genetic',\n",
       "   'D051096:Proto-Oncogene Proteins c-ret'],\n",
       "  'id': '15858239'},\n",
       " {'score': 1,\n",
       "  'title': 'Differential contributions of rare and common, coding and noncoding Ret mutations to multifactorial Hirschsprung disease liability.',\n",
       "  'abstract': 'The major gene for Hirschsprung disease (HSCR) encodes the receptor tyrosine kinase RET. In a study of 690 European- and 192 Chinese-descent probands and their parents or controls, we demonstrate the ubiquity of a >4-fold susceptibility from a C-->T allele (rs2435357: p = 3.9 x 10(-43) in European ancestry; p = 1.1 x 10(-21) in Chinese samples) that probably arose once within the intronic RET enhancer MCS+9.7. With in vitro assays, we now show that the T variant disrupts a SOX10 binding site within MCS+9.7 that compromises RET transactivation. The T allele, with a control frequency of 20%-30%/47% and case frequency of 54%-62%/88% in European/Chinese-ancestry individuals, is involved in all forms of HSCR. It is marginally associated with proband gender (p = 0.13) and significantly so with length of aganglionosis (p = 7.6 x 10(-5)) and familiality (p = 6.2 x 10(-4)). The enhancer variant is more frequent in the common forms of male, short-segment, and simplex families whereas multiple, rare, coding mutations are the norm in the less common and more severe forms of female, long-segment, and multiplex families. The T variant also increases penetrance in patients with rare RET coding mutations. Thus, both rare and common mutations, individually and together, make contributions to the risk of HSCR. The distribution of RET variants in diverse HSCR patients suggests a \"cellular-recessive\" genetic model where both RET alleles\\' function is compromised. The RET allelic series, and its genotype-phenotype correlations, shows that success in variant identification in complex disorders may strongly depend on which patients are studied.',\n",
       "  'mesh_terms': ['D044466:Asians',\n",
       "   'D001483:Base Sequence',\n",
       "   'D016022:Case-Control Studies',\n",
       "   'D004742:Enhancer Elements, Genetic',\n",
       "   'D005260:Female',\n",
       "   'D005787:Gene Frequency',\n",
       "   'D055106:Genome-Wide Association Study',\n",
       "   'D006239:Haplotypes',\n",
       "   'D006627:Hirschsprung Disease',\n",
       "   'D006801:Humans',\n",
       "   'D008297:Male',\n",
       "   'D009154:Mutation',\n",
       "   'D019683:Penetrance',\n",
       "   'D020641:Polymorphism, Single Nucleotide',\n",
       "   'D011485:Protein Binding',\n",
       "   'D051096:Proto-Oncogene Proteins c-ret',\n",
       "   'D055757:SOXE Transcription Factors',\n",
       "   'D012737:Sex Factors',\n",
       "   'D015533:Transcriptional Activation',\n",
       "   'D044465:Whites'],\n",
       "  'id': '20598273'},\n",
       " {'score': 1,\n",
       "  'title': 'Hirschsprung disease: etiologic implications of unsuccessful prenatal diagnosis.',\n",
       "  'abstract': \"We describe an infant with Hirschsprung disease (congenital aganglionosis of the intestine) involving the colon and terminal ileum. Midtrimester prenatal diagnosis of this disorder in this infant was attempted utilizing amniotic fluid disaccharidase analyses, ultrasound, and amniography. Decreased disaccharidase activities in amniotic fluid have been reported previously in association with other forms of intestinal obstruction. At 15 weeks' gestation, normal amniotic fluid disaccharidase levels were obtained. Serial ultrasound evaluations did not indicate any pathology, and the results from amniography were inconclusive. The implication of the normal disaccharidase values is that Hirschsprung disease may in some cases result from degeneration of intestinal ganglia after 16 weeks' gestation rather than from faulty migration of neural crest cells. The inheritance of Hirschsprung disease is generally consistent with sex-modified multifactorial inheritance with a lower threshold of expression in males. The case we report has a family history of three affected first- and second-degree relatives. Autosomal dominance with variable expressivity is a possible explanation in this family.\",\n",
       "  'mesh_terms': ['D000653:Amniotic Fluid',\n",
       "   'D004186:Disaccharidases',\n",
       "   'D005260:Female',\n",
       "   'D005865:Gestational Age',\n",
       "   'D006627:Hirschsprung Disease',\n",
       "   'D006801:Humans',\n",
       "   'D007231:Infant, Newborn',\n",
       "   'D007422:Intestines',\n",
       "   'D008297:Male',\n",
       "   'D011247:Pregnancy',\n",
       "   'D011296:Prenatal Diagnosis'],\n",
       "  'id': '6650562'},\n",
       " {'score': 1,\n",
       "  'title': 'Hirschsprung, RET-SOX and beyond: the challenge of examining non-mendelian traits (Review).',\n",
       "  'abstract': 'Hirschsprung disease (HSCR), or congenital intestinal aganglionosis, is a common hereditary disorder causing intestinal obstruction, thereby showing considerable phenotypic variation in conjunction with complex inheritance. Moreover, phenotypic assessment of the disease has been complicated since a subset of the observed mutations is also associated with several additional syndromic anomalies. Coding sequence mutations in e.g. RET, GDNF, EDNRB, EDN3, and SOX10 lead to long-segment (L-HSCR) as well as syndromic HSCR but fail to explain the transmission of the much more common short-segment form (S-HSCR). Furthermore, mutations in the RET gene are responsible for approximately half of the familial and some sporadic cases, strongly suggesting, on the one hand, the importance of non-coding variations and, on the other hand, that additional genes involved in the development of the enteric nervous system still await their discovery. For almost all of the identified HSCR genes incomplete penetrance of the HSCR phenotype has been reported, probably due to modifier loci. Therefore, HSCR has become a model for a complex oligo-/polygenic disorder in which the relationship between different genes creating a non-mendelian inheritance pattern still remains to be elucidated.',\n",
       "  'mesh_terms': ['D004268:DNA-Binding Proteins',\n",
       "   'D051100:Glial Cell Line-Derived Neurotrophic Factor',\n",
       "   'D006609:High Mobility Group Proteins',\n",
       "   'D006627:Hirschsprung Disease',\n",
       "   'D006801:Humans',\n",
       "   'D020412:Multifactorial Inheritance',\n",
       "   'D009414:Nerve Growth Factors',\n",
       "   'D015513:Oncogene Proteins',\n",
       "   'D051096:Proto-Oncogene Proteins c-ret',\n",
       "   'D020794:Receptor Protein-Tyrosine Kinases',\n",
       "   'D044023:Receptor, Endothelin B',\n",
       "   'D017466:Receptors, Endothelin',\n",
       "   'D055757:SOXE Transcription Factors',\n",
       "   'D014157:Transcription Factors'],\n",
       "  'id': '12239580'},\n",
       " {'score': 1,\n",
       "  'title': 'Comprehensive analysis of RET common and rare variants in a series of Spanish Hirschsprung patients confirms a synergistic effect of both kinds of events.',\n",
       "  'abstract': 'BACKGROUND\\nRET is the major gene associated to Hirschsprung disease (HSCR) with differential contributions of its rare and common, coding and noncoding mutations to the multifactorial nature of this pathology. In the present study, we have performed a comprehensive study of our HSCR series evaluating the involvement of both RET rare variants (RVs) and common variants (CVs) in the context of the disease.\\n\\n\\nMETHODS\\nRET mutational screening was performed by dHPLC and direct sequencing for the identification of RVs. In addition Taqman technology was applied for the genotyping of 3 RET CVs previously associated to HSCR, including a variant lying in an enhancer domain within RET intron 1 (rs2435357). Statistical analyses were performed using the SPSS v.17.0 to analyze the distribution of the variants.\\n\\n\\nRESULTS\\nOur results confirm the strongest association to HSCR for the \"enhancer\" variant, and demonstrate a significantly higher impact of it in male versus female patients. Integration of the RET RVs and CVs analysis showed that in 91.66% of cases with both kinds of mutational events, the enhancer allele is in trans with the allele bearing the RET RV.\\n\\n\\nCONCLUSIONS\\nA gender effect exists on both the transmission and distribution of rare coding and common HSCR causing mutations. In addition, these RET CVs and RVs seem to act in a synergistic way leading to HSCR phenotype.',\n",
       "  'mesh_terms': ['D000483:Alleles',\n",
       "   'D016022:Case-Control Studies',\n",
       "   'D004252:DNA Mutational Analysis',\n",
       "   'D004742:Enhancer Elements, Genetic',\n",
       "   'D005091:Exons',\n",
       "   'D005260:Female',\n",
       "   'D005787:Gene Frequency',\n",
       "   'D056726:Genetic Association Studies',\n",
       "   'D005816:Genetic Complementation Test',\n",
       "   'D014644:Genetic Variation',\n",
       "   'D018095:Germ-Line Mutation',\n",
       "   'D006627:Hirschsprung Disease',\n",
       "   'D006801:Humans',\n",
       "   'D007438:Introns',\n",
       "   'D008297:Male',\n",
       "   'D009154:Mutation',\n",
       "   'D020641:Polymorphism, Single Nucleotide',\n",
       "   'D051096:Proto-Oncogene Proteins c-ret',\n",
       "   'D012727:Sex Characteristics',\n",
       "   'D013030:Spain'],\n",
       "  'id': '21995290'},\n",
       " {'score': 1,\n",
       "  'title': \"Chromosomal and related Mendelian syndromes associated with Hirschsprung's disease.\",\n",
       "  'abstract': \"Hirschsprung's disease (HSCR) is a fairly frequent cause of intestinal obstruction in children. It is characterized as a sex-linked heterogonous disorder with variable severity and incomplete penetrance giving rise to a variable pattern of inheritance. Although Hirschsprung's disease occurs as an isolated phenotype in at least 70% of cases, it is not infrequently associated with a number of congenital abnormalities and associated syndromes, demonstrating a spectrum of congenital anomalies. Certain of these syndromic phenotypes have been linked to distinct genetic sites, indicating underlying genetic associations of the disease and probable gene-gene interaction, in its pathogenesis. These associations with HSCR include Down's syndrome and other chromosomal anomalies, Waardenburg syndrome and other Dominant sensorineural deafness, the Congenital Central Hypoventilation and Mowat-Wilson and other brain-related syndromes, as well as the MEN2 and other tumour associations. A number of other autosomal recessive syndromes include the Shah-Waardenburg, the Bardet-Biedl and Cartilage-hair hypoplasia, Goldberg-Shprintzen syndromes and other syndromes related to cholesterol and fat metabolism among others. The genetics of Hirschsprung's disease are highly complex with the majority of known genetic sites relating to the main susceptibility pathways (RET an EDNRB). Non-syndromic non-familial, short-segment HSCR appears to represent a non-Mendelian condition with variable expression and sex-dependent penetrance. Syndromic and familial forms, on the other hand, have complex patterns of inheritance and being reported as autosomal dominant, recessive and polygenic patterns of inheritance. The phenotypic variability and incomplete penetrance observed in Hirschsprung's disease could also be explained by the involvement of modifier genes, especially in its syndromic forms. In this review, we look at the chromosomal and Mendelian associations and their underlying signalling pathways, to obtain a better understanding of the pathogenetic mechanisms involved in developing aganglionosis of the distal bowel.\",\n",
       "  'mesh_terms': ['D002648:Child',\n",
       "   'D025063:Chromosome Disorders',\n",
       "   'D004314:Down Syndrome',\n",
       "   'D006627:Hirschsprung Disease',\n",
       "   'D006801:Humans',\n",
       "   'D040582:Inheritance Patterns',\n",
       "   'D013577:Syndrome'],\n",
       "  'id': '23001136'},\n",
       " {'score': 1,\n",
       "  'title': \"Studying the genetics of Hirschsprung's disease: unraveling an oligogenic disorder.\",\n",
       "  'abstract': \"Hirschsprung's disease is characterized by the absence of ganglion cells in the myenteric and submucosal plexuses of the gastrointestinal tract. Genetic dissection was successful as nine genes and four loci for Hirschsprung's disease susceptibility were identified. Different approaches were used to find these loci such as classical linkage in large families, identity by descent mapping in an inbred kindred, candidate gene approaches based on naturally occurring mutant mice models, and finally the use of model-free linkage and association analyzes. In this study, we review the identification of genes and loci involved in the non-syndromic common form and syndromic Mendelian forms of Hirschsprung's disease. The majority of the identified genes are related to Mendelian syndromic forms of Hirschsprung's disease. The non-Mendelian inheritance of sporadic non-syndromic Hirschsprung's disease proved to be complex; involvement of multiple loci was demonstrated in a multiplicative model. We discuss the practical implications of the elucidation of genes associated with Hirschsprung's disease susceptibility for genetic counseling. Finally, we speculate on possible strategies to identify new genes for Hirschsprung's disease.\",\n",
       "  'mesh_terms': ['D005192:Family Health',\n",
       "   'D020022:Genetic Predisposition to Disease',\n",
       "   'D005823:Genetics',\n",
       "   'D006627:Hirschsprung Disease',\n",
       "   'D006801:Humans',\n",
       "   'D040582:Inheritance Patterns',\n",
       "   'D020412:Multifactorial Inheritance'],\n",
       "  'id': '15617541'},\n",
       " {'score': 1,\n",
       "  'title': 'Germline mutations of the RET ligand GDNF are not sufficient to cause Hirschsprung disease.',\n",
       "  'abstract': 'Hirschsprung disease (HSCR, aganglionic megacolon) is a common congenital malformation leading to bowel obstruction, with an incidence of 1/5,000 live births. It is characterized by the absence of intrinsic ganglion cells in the myenteric and submucosal plexuses along variable lengths of the gastrointestinal tract. As enteric neurons are derived from the vagal neural crest, HSCR is regarded as a neurocristopathy. On the basis of a skewed sex-ratio (M/F = 4/1) and a risk to relatives much higher than the incidence in the general population, HSCR has long been regarded as a sex-modified multifactorial disorder. Accordingly, segregation analysis suggested an incompletely penetrant dominant inheritance in HSCR families with aganglionosis extending beyond the sigmoid colon. We and others have mapped a dominant gene for HSCR to chromosome 10q11.2 and have ascribed the disease to mutations in the RET proto-oncogene. However, the lack of genotype-phenotype correlation, the low penetrance and the sex-dependent effect of RET mutations supported the existence of one or more modifier gene(s) in familial HSCR. In addition, thus far, RET mutations only accounted for 50% and 15-20% of familial and sporadic HSCR patients, respectively. RET encodes a tyrosine kinase receptor whose ligand was unknown. Recently, the Glial cell line-derived neurotrophic factor (GDNF) has been identified to be a ligand for RET. Moreover, Gdnf-/- knockout mutant mice display congenital intestinal aganglionosis and renal agenesis, a phenotype very similar to the Ret-/- mouse. These data prompted us to hypothesize that mutations of the gene encoding GDNF could either cause or modulate the HSCR phenotype in some cases.',\n",
       "  'mesh_terms': ['D029721:Drosophila Proteins',\n",
       "   'D005260:Female',\n",
       "   'D018095:Germ-Line Mutation',\n",
       "   'D051100:Glial Cell Line-Derived Neurotrophic Factor',\n",
       "   'D051097:Glial Cell Line-Derived Neurotrophic Factor Receptors',\n",
       "   'D006627:Hirschsprung Disease',\n",
       "   'D006801:Humans',\n",
       "   'D008297:Male',\n",
       "   'D009414:Nerve Growth Factors',\n",
       "   'D009419:Nerve Tissue Proteins',\n",
       "   'D010375:Pedigree',\n",
       "   'D010641:Phenotype',\n",
       "   'D018807:Polymorphism, Single-Stranded Conformational',\n",
       "   'D000090063:Proto-Oncogene Mas',\n",
       "   'D011518:Proto-Oncogene Proteins',\n",
       "   'D051096:Proto-Oncogene Proteins c-ret',\n",
       "   'D020794:Receptor Protein-Tyrosine Kinases',\n",
       "   'D017422:Sequence Analysis, DNA'],\n",
       "  'id': '8896569'},\n",
       " {'score': 1,\n",
       "  'title': 'A common sex-dependent mutation in a RET enhancer underlies Hirschsprung disease risk.',\n",
       "  'abstract': 'The identification of common variants that contribute to the genesis of human inherited disorders remains a significant challenge. Hirschsprung disease (HSCR) is a multifactorial, non-mendelian disorder in which rare high-penetrance coding sequence mutations in the receptor tyrosine kinase RET contribute to risk in combination with mutations at other genes. We have used family-based association studies to identify a disease interval, and integrated this with comparative and functional genomic analysis to prioritize conserved and functional elements within which mutations can be sought. We now show that a common non-coding RET variant within a conserved enhancer-like sequence in intron 1 is significantly associated with HSCR susceptibility and makes a 20-fold greater contribution to risk than rare alleles do. This mutation reduces in vitro enhancer activity markedly, has low penetrance, has different genetic effects in males and females, and explains several features of the complex inheritance pattern of HSCR. Thus, common low-penetrance variants, identified by association studies, can underlie both common and rare diseases.',\n",
       "  'mesh_terms': ['D000818:Animals',\n",
       "   'D004742:Enhancer Elements, Genetic',\n",
       "   'D005260:Female',\n",
       "   'D005787:Gene Frequency',\n",
       "   'D020022:Genetic Predisposition to Disease',\n",
       "   'D023281:Genomics',\n",
       "   'D006239:Haplotypes',\n",
       "   'D006627:Hirschsprung Disease',\n",
       "   'D006801:Humans',\n",
       "   'D015810:Linkage Disequilibrium',\n",
       "   'D008297:Male',\n",
       "   'D051379:Mice',\n",
       "   'D008969:Molecular Sequence Data',\n",
       "   'D009154:Mutation',\n",
       "   'D020641:Polymorphism, Single Nucleotide',\n",
       "   'D011518:Proto-Oncogene Proteins',\n",
       "   'D051096:Proto-Oncogene Proteins c-ret',\n",
       "   'D020794:Receptor Protein-Tyrosine Kinases',\n",
       "   'D012727:Sex Characteristics'],\n",
       "  'id': '15829955'}]"
      ]
     },
     "execution_count": 16,
     "metadata": {},
     "output_type": "execute_result"
    }
   ],
   "source": [
    "gold_standard['questions'][0]['documents']"
   ]
  },
  {
   "cell_type": "markdown",
   "id": "5a479c57-3e32-4370-a3df-593122340d87",
   "metadata": {},
   "source": [
    "## Making answers for training\n",
    "\n",
    "### Single answer example"
   ]
  },
  {
   "cell_type": "code",
   "execution_count": 17,
   "id": "b2b934e1-2722-4b1c-98ca-c8cbfa8f9548",
   "metadata": {},
   "outputs": [],
   "source": [
    "sample_answers = elastic_utils.ask_single_question(\n",
    "    question=questions['questions'][0],\n",
    "    fields=SEARCH_FIELDS,\n",
    "    size=N_ANSWERS,\n",
    "    es_client=es,\n",
    "    index=SEARCH_INDEX\n",
    ")"
   ]
  },
  {
   "cell_type": "code",
   "execution_count": 18,
   "id": "114c1e29-5f56-4b0a-a709-ae3f6974479b",
   "metadata": {},
   "outputs": [
    {
     "data": {
      "text/plain": [
       "dict_keys(['took', 'timed_out', '_shards', 'hits'])"
      ]
     },
     "execution_count": 18,
     "metadata": {},
     "output_type": "execute_result"
    }
   ],
   "source": [
    "sample_answers.keys()"
   ]
  },
  {
   "cell_type": "code",
   "execution_count": 19,
   "id": "a10ddb19-c45f-49f5-9ecc-d409e6c85dd9",
   "metadata": {
    "tags": []
   },
   "outputs": [
    {
     "name": "stdout",
     "output_type": "stream",
     "text": [
      "{'_id': '15858239',\n",
      " '_ignored': ['abstract.keyword'],\n",
      " '_index': 'pubmed2022',\n",
      " '_score': 34.143726,\n",
      " '_source': {'abstract': 'Hirschsprung disease is a congenital disorder with '\n",
      "                         'the incidence of 1 per 5000 live births, '\n",
      "                         'characterized by the absence of intestinal ganglion '\n",
      "                         'cells. In the etiology of Hirschsprung disease '\n",
      "                         'various genes play a role; these are: RET, EDNRB, '\n",
      "                         'GDNF, EDN3 and SOX10, NTN3, ECE1, Mutations in these '\n",
      "                         'genes may result in dominant, recessive or '\n",
      "                         'multifactorial patterns of inheritance. Diverse '\n",
      "                         'models of inheritance, co-existence of numerous '\n",
      "                         'genetic disorders and detection of numerous '\n",
      "                         'chromosomal aberrations together with involvement of '\n",
      "                         'various genes confirm the genetic heterogeneity of '\n",
      "                         'Hirschsprung disease. Hirschsprung disease might '\n",
      "                         'well serve as a model for many complex disorders in '\n",
      "                         'which the search for responsible genes has only just '\n",
      "                         'been initiated. It seems that the most important '\n",
      "                         'role in its genetic etiology plays the RET gene, '\n",
      "                         'which is involved in the etiology of at least four '\n",
      "                         'diseases. This review focuses on recent advances of '\n",
      "                         'the importance of RET gene in the etiology of '\n",
      "                         'Hirschsprung disease.',\n",
      "             'affiliations': 'Katedra Patofizjologii, Akademia Medyczna, '\n",
      "                             'Marcinkowskiego 1, 50-368 Wrocław, Poland. '\n",
      "                             'smigiel@patfiz.am.wroc.pl',\n",
      "             'authors': 'Smigiel|Robert|R|;Patkowski|Dariusz|D|;Slezak|Ryszard|R|;Czernik|Jerzy|J|;Sasiadek|Maria|M|',\n",
      "             'chemical_list': 'D009414:Nerve Growth Factors; '\n",
      "                              'D051096:Proto-Oncogene Proteins c-ret',\n",
      "             'country': 'Poland',\n",
      "             'delete': False,\n",
      "             'doi': '',\n",
      "             'issn_linking': '',\n",
      "             'issue': '8(3 Pt 2)',\n",
      "             'journal': 'Medycyna wieku rozwojowego',\n",
      "             'keywords': '',\n",
      "             'medline_ta': 'Med Wieku Rozwoj',\n",
      "             'mesh_terms': 'D002869:Chromosome Aberrations; '\n",
      "                           'D006627:Hirschsprung Disease; D006801:Humans; '\n",
      "                           'D007231:Infant, Newborn; D009154:Mutation; '\n",
      "                           'D009414:Nerve Growth Factors; '\n",
      "                           'D011110:Polymorphism, Genetic; '\n",
      "                           'D051096:Proto-Oncogene Proteins c-ret',\n",
      "             'nlm_unique_id': '100928610',\n",
      "             'other_id': '',\n",
      "             'pages': '663-75',\n",
      "             'pmc': '',\n",
      "             'pmid': '15858239',\n",
      "             'pubdate': '2004',\n",
      "             'publication_types': 'D004740:English Abstract; D016428:Journal '\n",
      "                                  'Article; D016454:Review',\n",
      "             'references': '',\n",
      "             'title': '[The role of ret gene in the pathogenesis of '\n",
      "                      'Hirschsprung disease].'}}\n"
     ]
    }
   ],
   "source": [
    "pprint(sample_answers['hits']['hits'][0])"
   ]
  },
  {
   "cell_type": "code",
   "execution_count": 20,
   "id": "35a6c76e-d682-4cb3-89d3-eb917b6ecc54",
   "metadata": {},
   "outputs": [],
   "source": [
    "single_metrics = elastic_utils.answers_to_id_metric(\n",
    "    sample_answers\n",
    ")"
   ]
  },
  {
   "cell_type": "code",
   "execution_count": 21,
   "id": "a3597b9e-f25d-4e4f-90c2-29a01e350bf4",
   "metadata": {},
   "outputs": [
    {
     "data": {
      "text/plain": [
       "{'d15858239': 0.34143726,\n",
       " 'd11106284': 0.33106223999999995,\n",
       " 'd15829955': 0.32537327,\n",
       " 'd3578280': 0.32393295,\n",
       " 'd10893883': 0.31908827,\n",
       " 'd23283078': 0.312285,\n",
       " 'd6650562': 0.31145254,\n",
       " 'd17965226': 0.30543957,\n",
       " 'd16965318': 0.30125772,\n",
       " 'd30954460': 0.29256327,\n",
       " 'd23465774': 0.28976727,\n",
       " 'd28532160': 0.28851507000000004,\n",
       " 'd22891492': 0.28407928,\n",
       " 'd22475248': 0.282052,\n",
       " 'd9600737': 0.27873352,\n",
       " 'd11484199': 0.27714079,\n",
       " 'd25323865': 0.27472507,\n",
       " 'd12239580': 0.27348313999999996,\n",
       " 'd11694544': 0.27273454999999996,\n",
       " 'd10370906': 0.27234911,\n",
       " 'd16986122': 0.2703926,\n",
       " 'd27639057': 0.27033857,\n",
       " 'd8877363': 0.27023663,\n",
       " 'd27370713': 0.26766922,\n",
       " 'd9465697': 0.26717371,\n",
       " 'd9174404': 0.26621836,\n",
       " 'd655638': 0.26599741,\n",
       " 'd2213441': 0.26574902,\n",
       " 'd2335126': 0.26498626999999997,\n",
       " 'd30924549': 0.2647775,\n",
       " 'd29677472': 0.26425327,\n",
       " 'd33768880': 0.26388521,\n",
       " 'd18472352': 0.26359203000000003,\n",
       " 'd7634536': 0.2617741,\n",
       " 'd20813343': 0.26154926,\n",
       " 'd23842858': 0.26150429,\n",
       " 'd9754625': 0.26125122,\n",
       " 'd15224652': 0.2592218,\n",
       " 'd12699256': 0.25885609,\n",
       " 'd155240': 0.25787218,\n",
       " 'd11949952': 0.25749363,\n",
       " 'd26465815': 0.25678867,\n",
       " 'd20347786': 0.25636002,\n",
       " 'd29018668': 0.25540344000000004,\n",
       " 'd9090527': 0.25527246000000003,\n",
       " 'd28855933': 0.25520286999999997,\n",
       " 'd31313802': 0.25409773,\n",
       " 'd11108911': 0.25399477000000004,\n",
       " 'd26228106': 0.25398413000000003,\n",
       " 'd33151932': 0.25367363,\n",
       " 'd33557656': 0.25353218,\n",
       " 'd22307701': 0.25311167,\n",
       " 'd28980249': 0.25311167,\n",
       " 'd11567139': 0.25302036,\n",
       " 'd10555607': 0.25255852,\n",
       " 'd10407683': 0.25164019,\n",
       " 'd3051535': 0.25157326,\n",
       " 'd10395219': 0.25145594,\n",
       " 'd31666091': 0.25056305,\n",
       " 'd24791127': 0.2505562,\n",
       " 'd14689098': 0.25052136999999997,\n",
       " 'd12963895': 0.25028196,\n",
       " 'd12189494': 0.24980543,\n",
       " 'd33545193': 0.24875503999999998,\n",
       " 'd23114583': 0.2485831,\n",
       " 'd20110328': 0.24834276,\n",
       " 'd29926078': 0.24825302000000002,\n",
       " 'd17210849': 0.24797256,\n",
       " 'd2339688': 0.24717341999999998,\n",
       " 'd28154902': 0.2470693,\n",
       " 'd30539919': 0.24695442,\n",
       " 'd34566951': 0.24593565,\n",
       " 'd30616633': 0.24485487,\n",
       " 'd9359036': 0.2440946,\n",
       " 'd21330345': 0.24408481999999998,\n",
       " 'd16416773': 0.2435464,\n",
       " 'd17031234': 0.24340520000000002,\n",
       " 'd22584707': 0.2433255,\n",
       " 'd23528997': 0.24307962,\n",
       " 'd23799632': 0.24287251999999998,\n",
       " 'd28544110': 0.24245792000000002,\n",
       " 'd15099278': 0.24194133999999998,\n",
       " 'd1168275': 0.24166811,\n",
       " 'd16037257': 0.2413268,\n",
       " 'd24577265': 0.24067163,\n",
       " 'd7783764': 0.24035717,\n",
       " 'd15617541': 0.23992059999999998,\n",
       " 'd1536730': 0.23936462,\n",
       " 'd27987238': 0.23932577,\n",
       " 'd20851255': 0.23930481,\n",
       " 'd30345200': 0.23888004,\n",
       " 'd20945983': 0.23869379999999998,\n",
       " 'd28541025': 0.23802876,\n",
       " 'd23427518': 0.23775696,\n",
       " 'd7132989': 0.23767567,\n",
       " 'd124238': 0.23752008,\n",
       " 'd23899067': 0.23746223,\n",
       " 'd28180937': 0.23739176,\n",
       " 'd29654647': 0.23708288,\n",
       " 'd19943343': 0.23590260000000002}"
      ]
     },
     "execution_count": 21,
     "metadata": {},
     "output_type": "execute_result"
    }
   ],
   "source": [
    "single_metrics"
   ]
  },
  {
   "cell_type": "markdown",
   "id": "9bd932fd-181e-431b-bb2f-37ec35733cc8",
   "metadata": {},
   "source": [
    "### Multiple question answering"
   ]
  },
  {
   "cell_type": "code",
   "execution_count": 22,
   "id": "f807ea48-f37e-4975-a6d8-251747a23898",
   "metadata": {},
   "outputs": [
    {
     "name": "stderr",
     "output_type": "stream",
     "text": [
      "Extracting docs from elastic search: 100%|██| 4234/4234 [27:32<00:00,  2.56it/s]"
     ]
    },
    {
     "name": "stdout",
     "output_type": "stream",
     "text": [
      "CPU times: user 1min 9s, sys: 2.91 s, total: 1min 12s\n",
      "Wall time: 27min 32s\n"
     ]
    },
    {
     "name": "stderr",
     "output_type": "stream",
     "text": [
      "\n"
     ]
    }
   ],
   "source": [
    "%%time\n",
    "multiple_ans = elastic_utils.ask_several_questions(\n",
    "    questions=questions['questions'],\n",
    "    fields=SEARCH_FIELDS,\n",
    "    size=N_ANSWERS,\n",
    "    es_client=es,\n",
    "    index=SEARCH_INDEX\n",
    ")"
   ]
  },
  {
   "cell_type": "code",
   "execution_count": 26,
   "id": "e946b6e0-2196-4861-8f37-50565c17630b",
   "metadata": {
    "tags": []
   },
   "outputs": [
    {
     "data": {
      "text/plain": [
       "100"
      ]
     },
     "execution_count": 26,
     "metadata": {},
     "output_type": "execute_result"
    }
   ],
   "source": [
    "len(multiple_ans['questions'][0]['documents'])"
   ]
  },
  {
   "cell_type": "markdown",
   "id": "03ec9347-039d-487b-9a5d-f3c4f53438c5",
   "metadata": {},
   "source": [
    "## Saving dicts"
   ]
  },
  {
   "cell_type": "code",
   "execution_count": 27,
   "id": "46599b11-9e19-461a-abb7-4519983c33ed",
   "metadata": {},
   "outputs": [],
   "source": [
    "elastic_utils.save_json(gold_standard, SAVING_PATH_TRAINING)\n",
    "elastic_utils.save_json(multiple_ans, SAVING_PATH_ASKED)"
   ]
  },
  {
   "cell_type": "markdown",
   "id": "ea5aa3f9-5a80-4ee6-8a29-e16a4ab7bd7e",
   "metadata": {},
   "source": [
    "## Compare read with saved json"
   ]
  },
  {
   "cell_type": "code",
   "execution_count": 29,
   "id": "c424d341-7c46-441f-a1eb-8f0c016491ca",
   "metadata": {},
   "outputs": [],
   "source": [
    "gold_standard_read = elastic_utils.load_json(SAVING_PATH_TRAINING)"
   ]
  },
  {
   "cell_type": "code",
   "execution_count": 30,
   "id": "a3178184-78c4-45b9-97fd-b63e5514fcc0",
   "metadata": {},
   "outputs": [],
   "source": [
    "multiple_ans_read = elastic_utils.load_json(SAVING_PATH_ASKED)"
   ]
  },
  {
   "cell_type": "code",
   "execution_count": 31,
   "id": "08acf387-82f5-4e00-8505-26ae74a0f86a",
   "metadata": {
    "tags": []
   },
   "outputs": [],
   "source": [
    "lens_docs = []\n",
    "weird_questions = []\n",
    "for result in multiple_ans['questions']:\n",
    "    len_docs = len(result['documents'])\n",
    "    if len_docs < N_ANSWERS:\n",
    "        print(result_id, len_docs)\n",
    "        weird_questions.append(result_id)\n",
    "        lens_docs.append(len_docs)"
   ]
  },
  {
   "cell_type": "code",
   "execution_count": 34,
   "id": "f465e9dd-a157-4eb2-9f14-97ce3da8cdb9",
   "metadata": {},
   "outputs": [
    {
     "data": {
      "text/plain": [
       "(0, 0)"
      ]
     },
     "execution_count": 34,
     "metadata": {},
     "output_type": "execute_result"
    }
   ],
   "source": [
    "cleaned_weird_questions = [\n",
    "    weird_question.replace('q','') for weird_question in weird_questions\n",
    "]\n",
    "\n",
    "weird_og_questions = [\n",
    "    question for question in questions['questions']\n",
    "    if question['id'] in cleaned_weird_questions\n",
    "]\n",
    "len(weird_og_questions), len(cleaned_weird_questions)"
   ]
  },
  {
   "cell_type": "code",
   "execution_count": 35,
   "id": "3af6295b-4c4a-4131-950a-ce98598fa7e6",
   "metadata": {},
   "outputs": [
    {
     "data": {
      "text/plain": [
       "Series([], dtype: int64)"
      ]
     },
     "execution_count": 35,
     "metadata": {},
     "output_type": "execute_result"
    }
   ],
   "source": [
    "pd.value_counts(lens_docs)"
   ]
  },
  {
   "cell_type": "code",
   "execution_count": 36,
   "id": "07566fd7-4e57-4437-95f7-73dcf9415d9a",
   "metadata": {},
   "outputs": [
    {
     "name": "stderr",
     "output_type": "stream",
     "text": [
      "Extracting docs from elastic search: 0it [00:00, ?it/s]\n"
     ]
    }
   ],
   "source": [
    "weird_ans = elastic_utils.ask_several_questions(\n",
    "    questions=weird_og_questions,\n",
    "    fields=SEARCH_FIELDS,\n",
    "    size=N_ANSWERS,\n",
    "    es_client=es,\n",
    "    index=SEARCH_INDEX\n",
    ")"
   ]
  },
  {
   "cell_type": "code",
   "execution_count": 40,
   "id": "72a040db-a2b4-40be-9f45-e37c0e56d072",
   "metadata": {},
   "outputs": [
    {
     "data": {
      "text/plain": [
       "{'questions': []}"
      ]
     },
     "execution_count": 40,
     "metadata": {},
     "output_type": "execute_result"
    }
   ],
   "source": [
    "weird_ans"
   ]
  },
  {
   "cell_type": "code",
   "execution_count": 41,
   "id": "0a05ee4c-86f0-449e-b435-153c3edb1fdd",
   "metadata": {},
   "outputs": [
    {
     "data": {
      "text/plain": [
       "0"
      ]
     },
     "execution_count": 41,
     "metadata": {},
     "output_type": "execute_result"
    }
   ],
   "source": [
    "lens_docs = []\n",
    "weird_questions = []\n",
    "for result in weird_ans['questions']:\n",
    "    len_docs = len(result['documents'])\n",
    "    if len_docs < N_ANSWERS:\n",
    "        print(result_id, len_docs)\n",
    "        weird_questions.append(result_id)\n",
    "        lens_docs.append(len_docs)\n",
    "len(lens_docs)"
   ]
  },
  {
   "cell_type": "code",
   "execution_count": 42,
   "id": "b417060e-8502-4a26-945e-0bc523a8f31c",
   "metadata": {},
   "outputs": [
    {
     "ename": "IndexError",
     "evalue": "list index out of range",
     "output_type": "error",
     "traceback": [
      "\u001b[0;31m---------------------------------------------------------------------------\u001b[0m",
      "\u001b[0;31mIndexError\u001b[0m                                Traceback (most recent call last)",
      "Input \u001b[0;32mIn [42]\u001b[0m, in \u001b[0;36m<cell line: 1>\u001b[0;34m()\u001b[0m\n\u001b[1;32m      1\u001b[0m raw_single_answers \u001b[38;5;241m=\u001b[39m elastic_utils\u001b[38;5;241m.\u001b[39mask_single_question(\n\u001b[0;32m----> 2\u001b[0m     \u001b[43mweird_og_questions\u001b[49m\u001b[43m[\u001b[49m\u001b[38;5;241;43m0\u001b[39;49m\u001b[43m]\u001b[49m,\n\u001b[1;32m      3\u001b[0m     fields\u001b[38;5;241m=\u001b[39mSEARCH_FIELDS,\n\u001b[1;32m      4\u001b[0m     size\u001b[38;5;241m=\u001b[39mN_ANSWERS,\n\u001b[1;32m      5\u001b[0m     es_client\u001b[38;5;241m=\u001b[39mes,\n\u001b[1;32m      6\u001b[0m     index\u001b[38;5;241m=\u001b[39mSEARCH_INDEX\n\u001b[1;32m      7\u001b[0m )\n",
      "\u001b[0;31mIndexError\u001b[0m: list index out of range"
     ]
    }
   ],
   "source": [
    "raw_single_answers = elastic_utils.ask_single_question(\n",
    "    weird_og_questions[0],\n",
    "    fields=SEARCH_FIELDS,\n",
    "    size=N_ANSWERS,\n",
    "    es_client=es,\n",
    "    index=SEARCH_INDEX\n",
    ")"
   ]
  },
  {
   "cell_type": "markdown",
   "id": "9de8545b-217b-43c1-9543-0a35909133cf",
   "metadata": {},
   "source": [
    "## Testing fast usage wrappers for elastic queries"
   ]
  },
  {
   "cell_type": "code",
   "execution_count": 43,
   "id": "79a2af05-6f72-402e-accf-62e92ad60213",
   "metadata": {
    "tags": []
   },
   "outputs": [
    {
     "data": {
      "text/plain": [
       "{'d33811342': {'score': 1,\n",
       "  'title': \"Testing children with COVID-19 symptoms: what are parents' intentions?\",\n",
       "  'abstract': '',\n",
       "  'mesh_terms': ['D000293:Adolescent',\n",
       "   'D001315:Australia',\n",
       "   'D000086382:COVID-19',\n",
       "   'D000086742:COVID-19 Testing',\n",
       "   'D002648:Child',\n",
       "   'D002675:Child, Preschool',\n",
       "   'D006801:Humans',\n",
       "   'D033182:Intention',\n",
       "   'D010290:Parents',\n",
       "   'D000086402:SARS-CoV-2']}}"
      ]
     },
     "execution_count": 43,
     "metadata": {},
     "output_type": "execute_result"
    }
   ],
   "source": [
    "elastic_utils.ask_single_doc_id('d33811342')"
   ]
  },
  {
   "cell_type": "code",
   "execution_count": 44,
   "id": "1283eade-ed75-471a-bed4-ddfa327adc33",
   "metadata": {
    "tags": []
   },
   "outputs": [
    {
     "data": {
      "text/plain": [
       "[{'id': '33811342',\n",
       "  'score': 0.23215975,\n",
       "  'title': \"Testing children with COVID-19 symptoms: what are parents' intentions?\",\n",
       "  'abstract': '',\n",
       "  'mesh_terms': ['D000293:Adolescent',\n",
       "   'D001315:Australia',\n",
       "   'D000086382:COVID-19',\n",
       "   'D000086742:COVID-19 Testing',\n",
       "   'D002648:Child',\n",
       "   'D002675:Child, Preschool',\n",
       "   'D006801:Humans',\n",
       "   'D033182:Intention',\n",
       "   'D010290:Parents',\n",
       "   'D000086402:SARS-CoV-2']},\n",
       " {'id': '34478600',\n",
       "  'score': 0.22763786,\n",
       "  'title': \"What are the factors that affect post COVID 1st month's continuing symptoms?\",\n",
       "  'abstract': 'AIM\\nThe aim of our research was to investigate retrospectively the relationship between the symptoms and general characteristics, initial laboratory values and treatments in patients who had COVID-19 and who applied to the chest diseases outpatient clinic for control after 1\\xa0month.\\n\\n\\nMETHOD\\nThree hundred fifteen patients who were diagnosed with COVID-19 and applied to the chest diseases outpatient clinic between May 2020 and August 2020 for control in the 1st month were included in the study. Patient information was collected from the hospital information system and the e-pulse system.\\n\\n\\nRESULTS\\nFemales accounted for 50.2% of our patients and their mean age was 47.9\\xa0±\\xa014.8 (19-88) years. About 14.3% (n: 45) of the individuals were 65\\xa0years of age and older, 20.6% (n: 65) of our patients were smoking and 70.2% (n: 221) of our patients were treated at home. A total of 133 patients had at least one comorbid disease. The patients most frequently reported cough, dyspnoea, weakness, myalgia and diarrhoea. The most common symptoms were cough, dyspnoea, weakness and myalgia in the 1st month. Initial D-dimer, initial CRP and the values of platelet, D dimer and CRP in the 1st month were detected to be higher in patients with persistent symptoms when the laboratory values of patients whose symptoms continue after 1\\xa0month were examined. It was determined that the symptoms had persisted in patients who had been hospitalised, had dual therapy, had comorbid diseases and had more common pathologies in their pulmonary imaging.\\n\\n\\nCONCLUSION\\nSymptoms may persist for a long time in hospitalised patients, in patients with COVID-19-related pneumonia and concomitant chronic diseases and in patients with high D-dimer and high CRP at the time of admission. Patients are informed that their symptoms may last for a long time, unnecessary hospital admissions can be avoided.',\n",
       "  'mesh_terms': ['D000328:Adult',\n",
       "   'D000086382:COVID-19',\n",
       "   'D004417:Dyspnea',\n",
       "   'D005260:Female',\n",
       "   'D006760:Hospitalization',\n",
       "   'D006801:Humans',\n",
       "   'D008875:Middle Aged',\n",
       "   'D012189:Retrospective Studies',\n",
       "   'D000086402:SARS-CoV-2']},\n",
       " {'id': '32468413',\n",
       "  'score': 0.21994923,\n",
       "  'title': 'The COVID-19 pandemic: is our medicine still evidence-based?',\n",
       "  'abstract': 'There is no randomized controlled trial that demonstrated the efficacy of antiviral therapy against COVID-19 yet. However, physicians are prescribing different drugs to a large part of COVID-19 population in the hope they will cure them. This does not reflect the evidence-based medicine approach. What we need is more evidence-based knowledge about what routine care practices we should to apply to ameliorate symptoms of patients and fight COVID-19 pathology.',\n",
       "  'mesh_terms': ['D000998:Antiviral Agents',\n",
       "   'D035843:Biomedical Research',\n",
       "   'D000086382:COVID-19',\n",
       "   'D019317:Evidence-Based Medicine',\n",
       "   'D006801:Humans',\n",
       "   'D064887:Observational Studies as Topic',\n",
       "   'D058873:Pandemics',\n",
       "   'D016032:Randomized Controlled Trials as Topic',\n",
       "   'D000086402:SARS-CoV-2',\n",
       "   'D016896:Treatment Outcome']},\n",
       " {'id': '33248159',\n",
       "  'score': 0.21888542,\n",
       "  'title': 'What can we learn from brain autopsies in COVID-19?',\n",
       "  'abstract': 'Severe acute respiratory syndrome coronavirus 2 (SARS-CoV-2) is the causative agent of coronavirus disease 2019 (COVID-19) for which there have been over 50 million confirmed cases and 1.2 million deaths globally. While many SARS-CoV-2 infected individuals are asymptomatic or experience respiratory symptoms, extrapulmonary manifestations, including neurological symptoms and conditions, are increasingly recognized. There remains no clear understanding of the mechanisms that underlie neurological symptoms in COVID-19 and whether SARS-CoV-2 has the potential for neuroinvasion in humans. In this minireview, we discuss what is known from human autopsies in fatal COVID-19, including highlighting studies that investigate for the presence of SARS-CoV-2 in brain and olfactory tissue, and summarize the neuropathological consequences of infection. Incorporating microscopic and molecular findings from brain tissue into what we know about clinical disease will inform best practice management guidance and direct research priorities as it relates to neurological morbidity from COVID-19.',\n",
       "  'mesh_terms': ['D001344:Autopsy',\n",
       "   'D001921:Brain',\n",
       "   'D000086382:COVID-19',\n",
       "   'D006801:Humans',\n",
       "   'D020133:Reverse Transcriptase Polymerase Chain Reaction',\n",
       "   'D000086402:SARS-CoV-2']},\n",
       " {'id': '33492244',\n",
       "  'score': 0.21811708,\n",
       "  'title': \"Parkinson's Disease and the COVID-19 Pandemic.\",\n",
       "  'abstract': \"Studies focusing on the relationship between severe acute respiratory syndrome coronavirus 2 (SARS-CoV-2), coronavirus disease 2019 (COVID-19), and Parkinson's disease (PD) have provided conflicting results. We review the literature to investigate: 1) Are PD patients at higher risk for contracting COVID-19 and are there specific contributing factors to that risk? 2) How does COVID-19 affect PD symptoms? 3) How does COVID-19 present in PD patients? 4) What are the outcomes in PD patients who contract COVID-19? 5) What is the impact of COVID-19 on PD care? 6) Does COVID-19 increase the risk of developing PD? A literature search was performed from 1979 to 2020 using the terms: 'Parkinson's disease' and 'parkinsonism' combined with: 'COVID-19'; 'SARS-CoV-2' and 'coronavirus'. It does not appear that PD is a specific risk factor for COVID-19. There is evidence for direct/indirect effects of SARS-CoV-2 on motor/non-motor symptoms of PD. Although many PD patients present with typical COVID-19 symptoms, some present atypically with isolated worsening of parkinsonian symptoms, requiring increased anti-PD therapy and having worse outcomes. Mortality data on PD patients with COVID-19 is inconclusive (ranging from 5.2%to 100%). Patients with advanced PD appear to be particularly vulnerable. Single cases of acute hypokinetic-rigid syndrome have been described but no other convincing data has been reported. The rapidity with which COVID-19 has swept across the globe has favored the proliferation of studies which lack scientific rigor and the PD literature has not been immune. A coordinated effort is required to assimilate data and answer these questions in larger PD cohorts.\",\n",
       "  'mesh_terms': ['D000978:Antiparkinson Agents',\n",
       "   'D000086382:COVID-19',\n",
       "   'D006801:Humans',\n",
       "   'D009026:Mortality',\n",
       "   'D058873:Pandemics',\n",
       "   'D010300:Parkinson Disease',\n",
       "   'D012307:Risk Factors']},\n",
       " {'id': '34385205',\n",
       "  'score': 0.21511707000000002,\n",
       "  'title': 'Post-COVID-19 multisystem inflammatory syndrome in children.',\n",
       "  'abstract': 'QUESTION\\nThe effect of acute coronavirus disease 2019 (COVID-19) on morbidity and mortality in children has been relatively small. If a child presents to my office with persistent fever and systemic hyperinflammation but no known exposure to COVID-19, how likely are they to have multisystem inflammatory syndrome in children (MIS-C)? What is currently known about MIS-C and what is the prognosis for children affected by it?\\n\\n\\nANSWER\\nAmid the COVID-19 pandemic, the emergence of a novel condition presents yet another challenge to clinicians, public health professionals, and the pediatric population. Multisystem inflammatory syndrome in children is a rare but potentially severe condition seen in children with evidence of COVID-19 approximately 2 to 6 weeks before symptom onset. Common signs and symptoms include persistent fever, systemic hyperinflammation, gastrointestinal symptoms (eg, abdominal pain, vomiting, diarrhea), mucocutaneous changes (eg, rash, conjunctivitis), headache, or cardiac dysfunction. As many children present as asymptomatic or with mild symptoms of COVID-19, the development of MIS-C can seem sudden and surprising to families and providers. Although children with MIS-C usually require hospitalization, the outcomes are largely favourable with prompt recognition and intense therapy.',\n",
       "  'mesh_terms': ['D000086382:COVID-19',\n",
       "   'D002648:Child',\n",
       "   'D006801:Humans',\n",
       "   'D058873:Pandemics',\n",
       "   'D000086402:SARS-CoV-2',\n",
       "   'D018746:Systemic Inflammatory Response Syndrome']},\n",
       " {'id': '33081864',\n",
       "  'score': 0.21498901,\n",
       "  'title': 'Obsessive-compulsive disorder-contamination fears, features, and treatment: novel smartphone therapies in light of global mental health and pandemics (COVID-19).',\n",
       "  'abstract': 'This review aims to shed light on the symptoms of obsessive-compulsive disorder (OCD) with a focus on contamination fears. In addition, we will briefly review the current therapies for OCD and detail what their limitations are. A key focus will be on discussing how smartphone solutions may provide approaches to novel treatments, especially when considering global mental health and the challenges imposed by rural environments and limited resources; as well as restrictions imposed by world-wide pandemics such as COVID-19. In brief, research that questions this review will seek to address include: (1) What are the symptoms of contamination-related OCD? (2) How effective are current OCD therapies and what are their limitations? (3) How can novel technologies help mitigate challenges imposed by global mental health and pandemics/COVID-19.',\n",
       "  'mesh_terms': ['']},\n",
       " {'id': '33089388',\n",
       "  'score': 0.21349176,\n",
       "  'title': 'Lung ultrasound findings in pediatric patients with COVID-19.',\n",
       "  'abstract': 'During the pandemic caused by the novel coronavirus (COVID-19), lung ultrasound has been used to diagnose and monitor respiratory condition. The aim of the study was to describe lung ultrasound findings in children with a COVID-19 infection. Patients younger than 18\\xa0years old and positive for COVID-19, admitted to pediatric tertiary referral hospital were included. They were divided into two groups depending on the presence of respiratory symptoms. Lung ultrasound results were categorized into four degrees according to Soldati et al. score (J Ultrasound Med 39:1-7, 2020) and it was also described the presence and type of consolidation. Sixteen patients were recruited. The median age was 11\\xa0years old (IQR 2.8-12). Four children (25%) required admission to the intensive care unit. Six patients (37.5%) presented with respiratory symptoms. Most of them showed S.score of 2 and subpleural consolidations were observed in four cases (66.6%). Ten patients (62.5%) presented with non-respiratory symptoms, lung ultrasound showed S.score from 0 to 2. Three (30%) were diagnosed of multisystem inflammatory syndrome and lung ultrasounds showed S.score of 2 with bilateral pleural effusion.Conclusions: Children with COVID-19 and respiratory symptoms mostly showed a S.score of 2 and 3 with subpleural consolidations, upon the lung ultrasound assessment. What is Known: • Lung ultrasound is a useful tool for monitoring patients with respiratory symptoms in both adults and children. Lung ultrasounds are altered in adult patients with COVID-19. What is New: • Lung ultrasound might improve COVID-19 assessment, it could be a useful tool to diagnose and monitor patients throughout the COVID-19 pandemic. Even COVID-19 patients with non-respiratory symptoms have lung alterations that are visible on lung ultrasound.',\n",
       "  'mesh_terms': ['D000293:Adolescent',\n",
       "   'D000086382:COVID-19',\n",
       "   'D002648:Child',\n",
       "   'D002675:Child, Preschool',\n",
       "   'D005260:Female',\n",
       "   'D006801:Humans',\n",
       "   'D007223:Infant',\n",
       "   'D007231:Infant, Newborn',\n",
       "   'D008168:Lung',\n",
       "   'D008297:Male',\n",
       "   'D011446:Prospective Studies',\n",
       "   'D012720:Severity of Illness Index',\n",
       "   'D014463:Ultrasonography']},\n",
       " {'id': '34718282',\n",
       "  'score': 0.21331358,\n",
       "  'title': 'Overview of Symptoms of Ongoing Symptomatic and Post-COVID-19 Patients Who Were Reffered to Pulmonary Rehabilitation - First Single-Centre Experience in Croatia.',\n",
       "  'abstract': 'BACKGROUND\\nCoronavirus-2 pandemic has changed the functioning of health systems worldwide. It is not yet fully known which symptoms of the disease are most commonly presented in patients referred for pulmonary rehabilitation. Our aim was to investigate the profile of patients referred for pulmonary rehabilitation; what symptoms they had during the acute phase of the disease and what symptoms were still present at the start of pulmonary rehabilitation.\\n\\n\\nSUBJECTS AND METHODS\\nStudy included ongoing symptomatic and post-COVID patients who attended standard, in person pulmonary rehabilitation program. Patients had COVID-19 disease at least four weeks before attending pulmonary rehabilitation. Patients completed questionnaires of self-reported somatic deficits during acute and post-COVID-19 stage as well as questionnaires regarding their psychological symptoms. Pulmonary function test, expiratory and inspiratory muscle strenght, hand grip strenght and six-minute walk test was performed prior and after pulmonary rehabilitation.\\n\\n\\nRESULTS\\nStudy included 63 patients (32 male, 31 female), with mean age of 52.9 years. During acute COVID-19, majority of patients complained of fatigue, cough, dyspnea, myalgia and headache. More than 85% of patients reported pulmonary deficits during ongoing symptomatic and post-COVID-19 stage. Emotional distress and anxiety levels were significantly elevated in acute stage, while depression, anger and the need for help was not significantly elevated. All reported symptoms were significantly reduced in post-COVID-19 stage. There was statistically significant difference in six-minute walk distance, inspiratory and expiratory muscle strenght and hand grip strenght between first and final testing.\\n\\n\\nCONCLUSIONS\\nResults of our study are similar with previous studies, the most common symptoms during acute phase were fatigue, cough and dyspnea and fatigue and respiratory problems during ongoing symptomatic and post-COVID stage. Emotional distress diminishes signifiacantly in post-COVID stage. Further larger studies are needed to clarify which acute disease symptoms are predominant in patients referred to pulmonary rehabilitation and cause prolongued discomfort.',\n",
       "  'mesh_terms': ['D000086382:COVID-19',\n",
       "   'D017523:Croatia',\n",
       "   'D005260:Female',\n",
       "   'D018737:Hand Strength',\n",
       "   'D006801:Humans',\n",
       "   'D008297:Male',\n",
       "   'D008875:Middle Aged',\n",
       "   'D058873:Pandemics',\n",
       "   'D000086402:SARS-CoV-2']},\n",
       " {'id': '33734079',\n",
       "  'score': 0.21304853,\n",
       "  'title': '[Diagnostic approach and evaluation of hospitalized patients with COVID-19].',\n",
       "  'abstract': 'COVID-19 is the infectious disease caused by coronavirus SARS-CoV-2. The most common symptoms of COVID-19 are dry cough, tiredness and fever. Most patients recover from COVID-19 within a few weeks, but some patients have symptoms lasting for weeks or even months after recovery from acute illness, such as fatigue, shortness of breath and cough. This is a review of what we currently know about the clinical disease and its severity as well as which diagnostic strategies are recommended during and after hospital admission.',\n",
       "  'mesh_terms': ['D000086382:COVID-19',\n",
       "   'D017934:Coronavirus',\n",
       "   'D018352:Coronavirus Infections',\n",
       "   'D006801:Humans',\n",
       "   'D011379:Prognosis',\n",
       "   'D000086402:SARS-CoV-2']}]"
      ]
     },
     "execution_count": 44,
     "metadata": {},
     "output_type": "execute_result"
    }
   ],
   "source": [
    "elastic_utils.get_single_question_metrics('what are the symptoms of Covid?')"
   ]
  },
  {
   "cell_type": "code",
   "execution_count": null,
   "id": "c0d95dae-fe5c-4891-b22d-a1cb55e966c5",
   "metadata": {},
   "outputs": [],
   "source": []
  }
 ],
 "metadata": {
  "kernelspec": {
   "display_name": "Python 3 (ipykernel)",
   "language": "python",
   "name": "python3"
  },
  "language_info": {
   "codemirror_mode": {
    "name": "ipython",
    "version": 3
   },
   "file_extension": ".py",
   "mimetype": "text/x-python",
   "name": "python",
   "nbconvert_exporter": "python",
   "pygments_lexer": "ipython3",
   "version": "3.9.7"
  }
 },
 "nbformat": 4,
 "nbformat_minor": 5
}
