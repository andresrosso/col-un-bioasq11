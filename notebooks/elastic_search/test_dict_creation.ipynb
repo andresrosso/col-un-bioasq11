{
 "cells": [
  {
   "cell_type": "markdown",
   "id": "6ebea225-7e23-4abd-a8ee-97847df7a621",
   "metadata": {
    "tags": []
   },
   "source": [
    "## Imports"
   ]
  },
  {
   "cell_type": "code",
   "execution_count": 1,
   "id": "7abc2f09-455d-40ab-8c2a-9c2c7030937b",
   "metadata": {},
   "outputs": [],
   "source": [
    "%load_ext autoreload\n",
    "%autoreload 2\n",
    "import os\n",
    "import re\n",
    "import json\n",
    "import copy\n",
    "import sys\n",
    "from tqdm import tqdm\n",
    "from pprint import pprint\n",
    "\n",
    "import matplotlib.pyplot as plt\n",
    "import seaborn as sns\n",
    "\n",
    "import pytrec_eval\n",
    "import numpy as np\n",
    "import pandas as pd\n",
    "from elasticsearch import Elasticsearch\n",
    "\n",
    "from src.elastic_search_utils import elastic_utils"
   ]
  },
  {
   "cell_type": "markdown",
   "id": "3802a738-3019-4039-a683-a8b00c13bf42",
   "metadata": {},
   "source": [
    "## Params"
   ]
  },
  {
   "cell_type": "code",
   "execution_count": 6,
   "id": "38b6fa68-583d-4b47-b7e7-2563f858571d",
   "metadata": {},
   "outputs": [],
   "source": [
    "ELASTIC_SERVER = \"http://localhost:9200\"\n",
    "QUESTIONS_PATH = \"BioASQ-task10bPhaseA-testset2\"\n",
    "N_ANSWERS = 100\n",
    "SEARCH_FIELDS = ['title', 'abstract', 'mesh_terms']\n",
    "SEARCH_INDEX = 'pubmed2022'\n",
    "\n",
    "SAVING_PATH_TEST = '/datasets/johan_tests_original_format/test_docs_10b.json'"
   ]
  },
  {
   "cell_type": "markdown",
   "id": "f449d7b6-c364-4f48-8e62-118840875aa0",
   "metadata": {},
   "source": [
    "## Constants"
   ]
  },
  {
   "cell_type": "code",
   "execution_count": 7,
   "id": "f7e7fd3d-9ef3-4191-893b-c1077f04fde6",
   "metadata": {},
   "outputs": [],
   "source": [
    "es = Elasticsearch(ELASTIC_SERVER)"
   ]
  },
  {
   "cell_type": "code",
   "execution_count": 9,
   "id": "ef7dcba1-c171-4462-9d61-90c44e07ed45",
   "metadata": {},
   "outputs": [],
   "source": [
    "questions = elastic_utils.load_json(QUESTIONS_PATH)"
   ]
  },
  {
   "cell_type": "markdown",
   "id": "2676f14b-9c82-45d9-98b8-f0ec16abc9a8",
   "metadata": {},
   "source": [
    "## Making answers for test\n",
    "\n",
    "### Single answer example"
   ]
  },
  {
   "cell_type": "code",
   "execution_count": 11,
   "id": "b2b934e1-2722-4b1c-98ca-c8cbfa8f9548",
   "metadata": {},
   "outputs": [],
   "source": [
    "sample_answers = elastic_utils.ask_single_question(\n",
    "    question=questions['questions'][0],\n",
    "    fields=SEARCH_FIELDS,\n",
    "    size=N_ANSWERS,\n",
    "    es_client=es,\n",
    "    index=SEARCH_INDEX\n",
    ")"
   ]
  },
  {
   "cell_type": "code",
   "execution_count": 12,
   "id": "114c1e29-5f56-4b0a-a709-ae3f6974479b",
   "metadata": {},
   "outputs": [
    {
     "data": {
      "text/plain": [
       "dict_keys(['took', 'timed_out', '_shards', 'hits'])"
      ]
     },
     "execution_count": 12,
     "metadata": {},
     "output_type": "execute_result"
    }
   ],
   "source": [
    "sample_answers.keys()"
   ]
  },
  {
   "cell_type": "code",
   "execution_count": 13,
   "id": "a10ddb19-c45f-49f5-9ecc-d409e6c85dd9",
   "metadata": {},
   "outputs": [
    {
     "name": "stdout",
     "output_type": "stream",
     "text": [
      "{'_id': '34210339',\n",
      " '_ignored': ['affiliations.keyword', 'abstract.keyword', 'references.keyword'],\n",
      " '_index': 'pubmed2022',\n",
      " '_score': 54.144127,\n",
      " '_source': {'abstract': 'BACKGROUND\\n'\n",
      "                         'Primary ciliary dyskinesia (PCD) is a rare, highly '\n",
      "                         'heterogeneous genetic disorder involving the '\n",
      "                         'impairment of motile cilia. With no single gold '\n",
      "                         'standard for PCD diagnosis and complicated '\n",
      "                         'multiorgan dysfunction, the diagnosis of PCD can be '\n",
      "                         'difficult in clinical settings. Some methods for '\n",
      "                         'diagnosis, such as nasal nitric oxide measurement '\n",
      "                         'and digital high-speed video microscopy with ciliary '\n",
      "                         'beat pattern analysis, can be expensive or '\n",
      "                         'unavailable. To confirm PCD diagnosis, we used a '\n",
      "                         'strategy combining assessment of typical symptoms '\n",
      "                         'with whole-exome sequencing (WES) and/or low-pass '\n",
      "                         'whole-genome sequencing (WGS) as an unbiased '\n",
      "                         'detection tool to identify known pathogenic '\n",
      "                         'mutations, novel variations, and copy number '\n",
      "                         'variations.\\n'\n",
      "                         '\\n'\n",
      "                         '\\n'\n",
      "                         'RESULTS\\n'\n",
      "                         'A total of 26 individuals of Chinese origin with a '\n",
      "                         'confirmed PCD diagnosis aged 13 to 61\\xa0years '\n",
      "                         '(median age, 24.5\\xa0years) were included. Biallelic '\n",
      "                         'pathogenic mutations were identified in 19 of the 26 '\n",
      "                         'patients, including 8 recorded HGMD mutations and 24 '\n",
      "                         'novel mutations. The detection rate reached 73.1%. '\n",
      "                         'DNAH5 was the most frequently mutated gene, and '\n",
      "                         'c.8383C\\u2009>\\u2009T was the most common mutated '\n",
      "                         'variant, but it is relatively rare in PCD patients '\n",
      "                         'from other ethnic groups.\\n'\n",
      "                         '\\n'\n",
      "                         '\\n'\n",
      "                         'CONCLUSION\\n'\n",
      "                         'This study demonstrates the practical clinical '\n",
      "                         'utility of combining WES and low-pass WGS as a '\n",
      "                         'no-bias detecting tool in adult patients with PCD, '\n",
      "                         'showing a clinical characteristics and genetic '\n",
      "                         'spectrum of Chinese PCD patients.',\n",
      "             'affiliations': 'McKusick-Zhang Center for Genetic Medicine, '\n",
      "                             'State Key Laboratory of Medical Molecular '\n",
      "                             'Biology, Institute of Basic Medical Sciences, '\n",
      "                             'Chinese Academy of Medical Sciences and Peking '\n",
      "                             'Union Medical College, Beijing, 100005, '\n",
      "                             'China.;Department of Pulmonary and Critical Care '\n",
      "                             'Medicine, State Key Laboratory of Complex Severe '\n",
      "                             'and Rare Diseases, Peking Union Medical College '\n",
      "                             'Hospital, Chinese Academy of Medical Sciences '\n",
      "                             'and Peking Union Medical College, Beijing, '\n",
      "                             '100730, China.;McKusick-Zhang Center for Genetic '\n",
      "                             'Medicine, State Key Laboratory of Medical '\n",
      "                             'Molecular Biology, Institute of Basic Medical '\n",
      "                             'Sciences, Chinese Academy of Medical Sciences '\n",
      "                             'and Peking Union Medical College, Beijing, '\n",
      "                             '100005, China.;Department of Pulmonary and '\n",
      "                             'Critical Care Medicine, State Key Laboratory of '\n",
      "                             'Complex Severe and Rare Diseases, Peking Union '\n",
      "                             'Medical College Hospital, Chinese Academy of '\n",
      "                             'Medical Sciences and Peking Union Medical '\n",
      "                             'College, Beijing, 100730, China.;McKusick-Zhang '\n",
      "                             'Center for Genetic Medicine, State Key '\n",
      "                             'Laboratory of Medical Molecular Biology, '\n",
      "                             'Institute of Basic Medical Sciences, Chinese '\n",
      "                             'Academy of Medical Sciences and Peking Union '\n",
      "                             'Medical College, Beijing, 100005, China. '\n",
      "                             'ypliu@ibms.pumc.edu.cn.;Department of Pulmonary '\n",
      "                             'and Critical Care Medicine, State Key Laboratory '\n",
      "                             'of Complex Severe and Rare Diseases, Peking '\n",
      "                             'Union Medical College Hospital, Chinese Academy '\n",
      "                             'of Medical Sciences and Peking Union Medical '\n",
      "                             'College, Beijing, 100730, China. '\n",
      "                             'xinlun_t@sina.com.;Department of Pulmonary and '\n",
      "                             'Critical Care Medicine, The First Affiliated '\n",
      "                             'Hospital of Guangxi Medical University, Nanning, '\n",
      "                             'China.;Department of Pulmonary and Critical Care '\n",
      "                             'Medicine, State Key Laboratory of Complex Severe '\n",
      "                             'and Rare Diseases, Peking Union Medical College '\n",
      "                             'Hospital, Chinese Academy of Medical Sciences '\n",
      "                             'and Peking Union Medical College, Beijing, '\n",
      "                             '100730, China.;McKusick-Zhang Center for Genetic '\n",
      "                             'Medicine, State Key Laboratory of Medical '\n",
      "                             'Molecular Biology, Institute of Basic Medical '\n",
      "                             'Sciences, Chinese Academy of Medical Sciences '\n",
      "                             'and Peking Union Medical College, Beijing, '\n",
      "                             '100005, China.',\n",
      "             'authors': 'Zhao|Xinyue|X|;Bian|Chun|C|;Liu|Keqiang|K|;Xu|Wenshuai|W|;Liu|Yaping|Y|0000-0002-1076-9046;Tian|Xinlun|X|;Bai|Jing|J|;Xu|Kai-Feng|KF|;Zhang|Xue|X|',\n",
      "             'chemical_list': '',\n",
      "             'country': 'England',\n",
      "             'delete': False,\n",
      "             'doi': '10.1186/s13023-021-01840-2',\n",
      "             'issn_linking': '1750-1172',\n",
      "             'issue': '16(1)',\n",
      "             'journal': 'Orphanet journal of rare diseases',\n",
      "             'keywords': 'Chinese origin; Clinical characteristics; Genetic '\n",
      "                         'spectrum; Primary ciliary dyskinesia',\n",
      "             'medline_ta': 'Orphanet J Rare Dis',\n",
      "             'mesh_terms': 'D000328:Adult; D002681:China; D002923:Cilia; '\n",
      "                           'D002925:Ciliary Motility Disorders; D056915:DNA '\n",
      "                           'Copy Number Variations; D006801:Humans; '\n",
      "                           'D007619:Kartagener Syndrome; D009154:Mutation; '\n",
      "                           'D000073359:Whole Exome Sequencing; D055815:Young '\n",
      "                           'Adult',\n",
      "             'nlm_unique_id': '101266602',\n",
      "             'other_id': '',\n",
      "             'pages': '293',\n",
      "             'pmc': '',\n",
      "             'pmid': '34210339',\n",
      "             'pubdate': '2021',\n",
      "             'publication_types': 'D016428:Journal Article; D013485:Research '\n",
      "                                  \"Support, Non-U.S. Gov't\",\n",
      "             'references': '29905515;23991085;28654725;19357118;26917608;26582918;26909801;30826306;26139845;28199173;31650533;19451168;26476603;30061371;27535533;32784514;18022865;20601685;22184204;24747639;20676075;28132688;28649564;29446766;25927852;32502479;31469207;29800551;18832364;32851324;22585873;28349240;24487276;26432245;20354512;27836958;23354437;29408869;27492829;29145629;10592173;29363216;19505943;33447612;33577779;26527516;31313529;19561590;16627867;29112736;32188719',\n",
      "             'title': 'Clinical characteristics and genetic spectrum of 26 '\n",
      "                      'individuals of Chinese origin with primary ciliary '\n",
      "                      'dyskinesia.'}}\n"
     ]
    }
   ],
   "source": [
    "pprint(sample_answers['hits']['hits'][0])"
   ]
  },
  {
   "cell_type": "code",
   "execution_count": 14,
   "id": "35a6c76e-d682-4cb3-89d3-eb917b6ecc54",
   "metadata": {},
   "outputs": [],
   "source": [
    "single_metrics = elastic_utils.answers_to_id_metric(\n",
    "    sample_answers\n",
    ")"
   ]
  },
  {
   "cell_type": "code",
   "execution_count": 15,
   "id": "a3597b9e-f25d-4e4f-90c2-29a01e350bf4",
   "metadata": {},
   "outputs": [
    {
     "data": {
      "text/plain": [
       "{'d34210339': 0.54144127,\n",
       " 'd34556108': 0.52635494,\n",
       " 'd26139845': 0.5255413999999999,\n",
       " 'd34851034': 0.52400833,\n",
       " 'd28922056': 0.52183327,\n",
       " 'd24203976': 0.5125139999999999,\n",
       " 'd31549486': 0.5117185599999999,\n",
       " 'd33966302': 0.50468178,\n",
       " 'd25351953': 0.5006802,\n",
       " 'd28801648': 0.49738144,\n",
       " 'd27081490': 0.49153587000000004,\n",
       " 'd31960620': 0.4877663,\n",
       " 'd19953662': 0.4843753,\n",
       " 'd28925796': 0.48149549999999997,\n",
       " 'd27349973': 0.48120193,\n",
       " 'd23292041': 0.48022038,\n",
       " 'd21907944': 0.47773613,\n",
       " 'd18975248': 0.47729736,\n",
       " 'd24963453': 0.47428127000000003,\n",
       " 'd24586956': 0.47253956,\n",
       " 'd34445527': 0.47140823,\n",
       " 'd30209139': 0.46870766,\n",
       " 'd33447612': 0.4676977,\n",
       " 'd9387968': 0.46215575999999997,\n",
       " 'd18201450': 0.46018692,\n",
       " 'd20480745': 0.4601353,\n",
       " 'd32367404': 0.45992935,\n",
       " 'd10738019': 0.45864075,\n",
       " 'd30004251': 0.45864075,\n",
       " 'd17601719': 0.45793255,\n",
       " 'd33233428': 0.45682727999999995,\n",
       " 'd22903970': 0.4560006,\n",
       " 'd23261302': 0.4556147,\n",
       " 'd31636325': 0.45479748000000003,\n",
       " 'd23798057': 0.45444443,\n",
       " 'd31271036': 0.45436160000000003,\n",
       " 'd21926394': 0.45323837,\n",
       " 'd32414360': 0.45263504,\n",
       " 'd20616212': 0.45259926,\n",
       " 'd22384920': 0.45157519999999995,\n",
       " 'd15222957': 0.45150764000000004,\n",
       " 'd34815526': 0.45143869999999997,\n",
       " 'd9487775': 0.45107235,\n",
       " 'd33243178': 0.45098595,\n",
       " 'd27486783': 0.45068424,\n",
       " 'd20537282': 0.45053482,\n",
       " 'd15328681': 0.45022118,\n",
       " 'd25619595': 0.44999866,\n",
       " 'd24459089': 0.44807470000000005,\n",
       " 'd26176524': 0.44790398000000003,\n",
       " 'd28494707': 0.44771102999999995,\n",
       " 'd31186518': 0.44726433,\n",
       " 'd34405951': 0.44719036,\n",
       " 'd34441298': 0.44685650000000005,\n",
       " 'd31469207': 0.44625294,\n",
       " 'd31430425': 0.44513256,\n",
       " 'd21684128': 0.44417713,\n",
       " 'd31443223': 0.44310844000000005,\n",
       " 'd32185794': 0.44278170000000006,\n",
       " 'd12431173': 0.44185833,\n",
       " 'd33719352': 0.4411937,\n",
       " 'd31479451': 0.44111049999999996,\n",
       " 'd11603792': 0.43933487,\n",
       " 'd27625868': 0.43913179999999996,\n",
       " 'd33670432': 0.43753487,\n",
       " 'd17059358': 0.43666805,\n",
       " 'd31835165': 0.43665356000000005,\n",
       " 'd18383332': 0.43658369999999996,\n",
       " 'd30916986': 0.43609684000000004,\n",
       " 'd27779714': 0.43599499999999997,\n",
       " 'd24192704': 0.4345329,\n",
       " 'd27113985': 0.43443570000000004,\n",
       " 'd26545972': 0.43402348,\n",
       " 'd24498942': 0.43395344,\n",
       " 'd22135026': 0.43343346,\n",
       " 'd17634184': 0.43288826,\n",
       " 'd15628808': 0.4322569,\n",
       " 'd9817179': 0.43139256000000004,\n",
       " 'd19921128': 0.43118286,\n",
       " 'd17646235': 0.430233,\n",
       " 'd12907369': 0.43019363,\n",
       " 'd24568568': 0.42994970000000005,\n",
       " 'd34359383': 0.4298136,\n",
       " 'd33279757': 0.42970592,\n",
       " 'd11079202': 0.42953569999999996,\n",
       " 'd33635012': 0.42933243,\n",
       " 'd19648518': 0.42917521999999997,\n",
       " 'd24753481': 0.4291087,\n",
       " 'd21475513': 0.4281178,\n",
       " 'd32988999': 0.42760765,\n",
       " 'd26909801': 0.42716278,\n",
       " 'd24742509': 0.4267204,\n",
       " 'd28894478': 0.42660159999999997,\n",
       " 'd22777640': 0.42640186,\n",
       " 'd29456554': 0.42637645999999996,\n",
       " 'd7596016': 0.4260569,\n",
       " 'd14656747': 0.42550503,\n",
       " 'd23527195': 0.42540398,\n",
       " 'd11405523': 0.42518036000000003,\n",
       " 'd30691261': 0.4251377}"
      ]
     },
     "execution_count": 15,
     "metadata": {},
     "output_type": "execute_result"
    }
   ],
   "source": [
    "single_metrics"
   ]
  },
  {
   "cell_type": "markdown",
   "id": "139ebdaa-da50-4070-8d5f-fa0f843cfcf6",
   "metadata": {},
   "source": [
    "## Multiple question answering"
   ]
  },
  {
   "cell_type": "code",
   "execution_count": 16,
   "id": "e9c3365f-f2de-49e6-976b-965b7a385ab5",
   "metadata": {},
   "outputs": [
    {
     "name": "stderr",
     "output_type": "stream",
     "text": [
      "Extracting docs from elastic search: 100%|██████| 90/90 [00:29<00:00,  3.03it/s]"
     ]
    },
    {
     "name": "stdout",
     "output_type": "stream",
     "text": [
      "CPU times: user 1.68 s, sys: 73.1 ms, total: 1.75 s\n",
      "Wall time: 29.7 s\n"
     ]
    },
    {
     "name": "stderr",
     "output_type": "stream",
     "text": [
      "\n"
     ]
    }
   ],
   "source": [
    "%%time\n",
    "multiple_ans = elastic_utils.ask_several_questions(\n",
    "    questions=questions['questions'],\n",
    "    fields=SEARCH_FIELDS,\n",
    "    size=N_ANSWERS,\n",
    "    es_client=es,\n",
    "    index=SEARCH_INDEX\n",
    ")"
   ]
  },
  {
   "cell_type": "code",
   "execution_count": null,
   "id": "8e47344e-064c-4dbf-8f9a-a5689352bbe0",
   "metadata": {},
   "outputs": [],
   "source": []
  },
  {
   "cell_type": "markdown",
   "id": "59d434fa-9d65-4234-80f6-818ec1e74d22",
   "metadata": {},
   "source": [
    "## Saving dicts"
   ]
  },
  {
   "cell_type": "code",
   "execution_count": 17,
   "id": "f3db7e13-1bde-473d-a97c-c3716eb2e35b",
   "metadata": {},
   "outputs": [],
   "source": [
    "elastic_utils.save_json(multiple_ans, SAVING_PATH_TEST)"
   ]
  },
  {
   "cell_type": "markdown",
   "id": "c313e11f-0fb6-4892-9a44-9b5a6cc34bff",
   "metadata": {},
   "source": [
    "## Compare read with saved json"
   ]
  },
  {
   "cell_type": "code",
   "execution_count": 18,
   "id": "a3178184-78c4-45b9-97fd-b63e5514fcc0",
   "metadata": {},
   "outputs": [],
   "source": [
    "multiple_ans_read = elastic_utils.load_json(SAVING_PATH_TEST)"
   ]
  },
  {
   "cell_type": "code",
   "execution_count": 19,
   "id": "08acf387-82f5-4e00-8505-26ae74a0f86a",
   "metadata": {
    "tags": []
   },
   "outputs": [],
   "source": [
    "lens_docs = []\n",
    "weird_questions = []\n",
    "for result in multiple_ans['questions']:\n",
    "    len_docs = len(result['documents'])\n",
    "    if len_docs < N_ANSWERS:\n",
    "        print(result_id, len_docs)\n",
    "        weird_questions.append(result_id)\n",
    "        lens_docs.append(len_docs)"
   ]
  },
  {
   "cell_type": "code",
   "execution_count": 23,
   "id": "f465e9dd-a157-4eb2-9f14-97ce3da8cdb9",
   "metadata": {},
   "outputs": [
    {
     "data": {
      "text/plain": [
       "(0, 0)"
      ]
     },
     "execution_count": 23,
     "metadata": {},
     "output_type": "execute_result"
    }
   ],
   "source": [
    "cleaned_weird_questions = [\n",
    "    weird_question for weird_question in weird_questions\n",
    "]\n",
    "\n",
    "weird_og_questions = [\n",
    "    question for question in questions['questions']\n",
    "    if question['id'] in cleaned_weird_questions\n",
    "]\n",
    "len(weird_og_questions), len(cleaned_weird_questions)"
   ]
  },
  {
   "cell_type": "code",
   "execution_count": null,
   "id": "84e5796b-f254-49b2-b90c-edc57eee6a07",
   "metadata": {},
   "outputs": [],
   "source": []
  }
 ],
 "metadata": {
  "kernelspec": {
   "display_name": "Python 3 (ipykernel)",
   "language": "python",
   "name": "python3"
  },
  "language_info": {
   "codemirror_mode": {
    "name": "ipython",
    "version": 3
   },
   "file_extension": ".py",
   "mimetype": "text/x-python",
   "name": "python",
   "nbconvert_exporter": "python",
   "pygments_lexer": "ipython3",
   "version": "3.9.7"
  }
 },
 "nbformat": 4,
 "nbformat_minor": 5
}
