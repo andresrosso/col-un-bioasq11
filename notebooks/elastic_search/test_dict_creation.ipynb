{
 "cells": [
  {
   "cell_type": "markdown",
   "id": "6ebea225-7e23-4abd-a8ee-97847df7a621",
   "metadata": {
    "tags": []
   },
   "source": [
    "## Imports"
   ]
  },
  {
   "cell_type": "code",
   "execution_count": 1,
   "id": "7abc2f09-455d-40ab-8c2a-9c2c7030937b",
   "metadata": {},
   "outputs": [],
   "source": [
    "%load_ext autoreload\n",
    "%autoreload 2\n",
    "import os\n",
    "import re\n",
    "import json\n",
    "import copy\n",
    "import sys\n",
    "from tqdm import tqdm\n",
    "from pprint import pprint\n",
    "\n",
    "import matplotlib.pyplot as plt\n",
    "import seaborn as sns\n",
    "\n",
    "import pytrec_eval\n",
    "import numpy as np\n",
    "import pandas as pd\n",
    "from elasticsearch import Elasticsearch\n",
    "\n",
    "from src.elastic_search_utils import elastic_utils"
   ]
  },
  {
   "cell_type": "markdown",
   "id": "3802a738-3019-4039-a683-a8b00c13bf42",
   "metadata": {},
   "source": [
    "## Params"
   ]
  },
  {
   "cell_type": "code",
   "execution_count": 11,
   "id": "38b6fa68-583d-4b47-b7e7-2563f858571d",
   "metadata": {},
   "outputs": [],
   "source": [
    "ELASTIC_SERVER = \"http://localhost:9200\"\n",
    "QUESTIONS_PATH = \"BioASQ-task10bPhaseA-testset4\"\n",
    "N_ANSWERS = 100\n",
    "SEARCH_FIELDS = ['title', 'abstract', 'mesh_terms']\n",
    "SEARCH_INDEX = 'pubmed2022'\n",
    "\n",
    "SAVING_PATH_TEST = '/datasets/johan_tests_original_format/test_docs_10b-testset4.json'"
   ]
  },
  {
   "cell_type": "markdown",
   "id": "f449d7b6-c364-4f48-8e62-118840875aa0",
   "metadata": {},
   "source": [
    "## Constants"
   ]
  },
  {
   "cell_type": "code",
   "execution_count": 3,
   "id": "f7e7fd3d-9ef3-4191-893b-c1077f04fde6",
   "metadata": {},
   "outputs": [],
   "source": [
    "es = Elasticsearch(ELASTIC_SERVER)"
   ]
  },
  {
   "cell_type": "code",
   "execution_count": 4,
   "id": "ef7dcba1-c171-4462-9d61-90c44e07ed45",
   "metadata": {},
   "outputs": [],
   "source": [
    "questions = elastic_utils.load_json(QUESTIONS_PATH)"
   ]
  },
  {
   "cell_type": "markdown",
   "id": "2676f14b-9c82-45d9-98b8-f0ec16abc9a8",
   "metadata": {},
   "source": [
    "## Making answers for test\n",
    "\n",
    "### Single answer example"
   ]
  },
  {
   "cell_type": "code",
   "execution_count": 5,
   "id": "b2b934e1-2722-4b1c-98ca-c8cbfa8f9548",
   "metadata": {},
   "outputs": [],
   "source": [
    "sample_answers = elastic_utils.ask_single_question(\n",
    "    question=questions['questions'][0],\n",
    "    fields=SEARCH_FIELDS,\n",
    "    size=N_ANSWERS,\n",
    "    es_client=es,\n",
    "    index=SEARCH_INDEX\n",
    ")"
   ]
  },
  {
   "cell_type": "code",
   "execution_count": 6,
   "id": "114c1e29-5f56-4b0a-a709-ae3f6974479b",
   "metadata": {},
   "outputs": [
    {
     "data": {
      "text/plain": [
       "dict_keys(['took', 'timed_out', '_shards', 'hits'])"
      ]
     },
     "execution_count": 6,
     "metadata": {},
     "output_type": "execute_result"
    }
   ],
   "source": [
    "sample_answers.keys()"
   ]
  },
  {
   "cell_type": "code",
   "execution_count": 7,
   "id": "a10ddb19-c45f-49f5-9ecc-d409e6c85dd9",
   "metadata": {},
   "outputs": [
    {
     "name": "stdout",
     "output_type": "stream",
     "text": [
      "{'_id': '33594368',\n",
      " '_ignored': ['authors.keyword', 'abstract.keyword', 'references.keyword'],\n",
      " '_index': 'pubmed2022',\n",
      " '_score': 47.579323,\n",
      " '_source': {'abstract': 'Olfaction relies on a coordinated partnership '\n",
      "                         'between odorant flow and neuronal communication. '\n",
      "                         'Disruption in our ability to detect odors, or '\n",
      "                         'anosmia, has emerged as a hallmark symptom of '\n",
      "                         'infection with SARS-CoV-2, yet the mechanism behind '\n",
      "                         'this abrupt sensory deficit remains elusive. Here, '\n",
      "                         'using molecular evaluation of human olfactory '\n",
      "                         'epithelium (OE) from subjects succumbing to COVID-19 '\n",
      "                         'and a hamster model of SARS-CoV-2 infection, we '\n",
      "                         'discovered widespread downregulation of olfactory '\n",
      "                         'receptors (ORs) as well as key components of their '\n",
      "                         'signaling pathway. OR downregulation likely '\n",
      "                         'represents a non-cell autonomous effect, since '\n",
      "                         'SARS-CoV-2 detection in OSNs is extremely rare both '\n",
      "                         'in human and hamster OEs. A likely explanation for '\n",
      "                         'the reduction of OR transcription is the striking '\n",
      "                         'reorganization of nuclear architecture observed in '\n",
      "                         'the OSN lineage, which disrupts multi-chromosomal '\n",
      "                         'compartments regulating OR expression in humans and '\n",
      "                         'hamsters. Our experiments uncover a novel molecular '\n",
      "                         'mechanism by which a virus with a very selective '\n",
      "                         'tropism can elicit persistent transcriptional '\n",
      "                         'changes in cells that evade it, contributing to the '\n",
      "                         'severity of COVID-19.',\n",
      "             'affiliations': '',\n",
      "             'authors': 'Zazhytska|Marianna|M|;Kodra|Albana|A|;Hoagland|Daisy '\n",
      "                        'A|DA|;Fullard|John '\n",
      "                        'F|JF|;Shayya|Hani|H|;Omer|Arina|A|;Firestein|Stuart|S|;Gong|Qizhi|Q|;Canoll|Peter '\n",
      "                        'D|PD|;Goldman|James '\n",
      "                        'E|JE|;Roussos|Panos|P|;tenOever|Benjamin '\n",
      "                        'R|BR|;Overdevest|Jonathan B|JB|;Lomvardas|Stavros|S|',\n",
      "             'chemical_list': '',\n",
      "             'country': 'United States',\n",
      "             'delete': False,\n",
      "             'doi': '10.1101/2021.02.09.430314',\n",
      "             'issn_linking': '',\n",
      "             'issue': '',\n",
      "             'journal': 'bioRxiv : the preprint server for biology',\n",
      "             'keywords': '',\n",
      "             'medline_ta': 'bioRxiv',\n",
      "             'mesh_terms': '',\n",
      "             'nlm_unique_id': '101680187',\n",
      "             'other_id': '',\n",
      "             'pages': '',\n",
      "             'pmc': '',\n",
      "             'pmid': '33594368',\n",
      "             'pubdate': '2021',\n",
      "             'publication_types': 'D000076942:Preprint',\n",
      "             'references': '33082293;32914699;32817004;32931552;31523027;32571934;8893025;11055432;25417106;32462701;32640192;32622375;16261133;20147558;20537285;28336562;32357210;29428417;30626972;32379417;18614013;32369429;32408338;16374708;33257876;23637188;33577760;32937591;32629042;15550249;23141535;32447049;28671686;23926254',\n",
      "             'title': 'Disruption of nuclear architecture as a cause of '\n",
      "                      'COVID-19 induced anosmia.'}}\n"
     ]
    }
   ],
   "source": [
    "pprint(sample_answers['hits']['hits'][0])"
   ]
  },
  {
   "cell_type": "code",
   "execution_count": 8,
   "id": "35a6c76e-d682-4cb3-89d3-eb917b6ecc54",
   "metadata": {},
   "outputs": [],
   "source": [
    "single_metrics = elastic_utils.answers_to_id_metric(\n",
    "    sample_answers\n",
    ")"
   ]
  },
  {
   "cell_type": "code",
   "execution_count": 9,
   "id": "a3597b9e-f25d-4e4f-90c2-29a01e350bf4",
   "metadata": {},
   "outputs": [
    {
     "data": {
      "text/plain": [
       "{'d33594368': 0.47579323,\n",
       " 'd34587819': 0.40223915,\n",
       " 'd33965353': 0.3832602,\n",
       " 'd32563019': 0.36767302999999996,\n",
       " 'd34099977': 0.36702877,\n",
       " 'd34660038': 0.36552288,\n",
       " 'd33074449': 0.36334187,\n",
       " 'd32802540': 0.35423897,\n",
       " 'd34302637': 0.35409904,\n",
       " 'd32523929': 0.354047,\n",
       " 'd32837939': 0.35323790000000005,\n",
       " 'd33295221': 0.34813552999999997,\n",
       " 'd32776905': 0.34550262,\n",
       " 'd34853850': 0.34461124,\n",
       " 'd34609841': 0.34454437,\n",
       " 'd32756107': 0.34424312999999995,\n",
       " 'd32652405': 0.34412975,\n",
       " 'd34075562': 0.34321228,\n",
       " 'd34548231': 0.3414032,\n",
       " 'd32277751': 0.34126506999999995,\n",
       " 'd34166652': 0.34111870000000005,\n",
       " 'd34884216': 0.34085476,\n",
       " 'd33824716': 0.34032623,\n",
       " 'd32556089': 0.3354148,\n",
       " 'd33399169': 0.33458687,\n",
       " 'd34178610': 0.334538,\n",
       " 'd32909060': 0.33405994,\n",
       " 'd32305563': 0.33319466,\n",
       " 'd33868972': 0.3329877,\n",
       " 'd32447496': 0.33261401999999995,\n",
       " 'd32466862': 0.33250698,\n",
       " 'd32587994': 0.33249873999999996,\n",
       " 'd32930820': 0.33155926,\n",
       " 'd34103823': 0.33132874,\n",
       " 'd32587902': 0.33115375999999996,\n",
       " 'd34298605': 0.33083733000000004,\n",
       " 'd32340555': 0.32985844,\n",
       " 'd33552295': 0.3297929,\n",
       " 'd33132007': 0.32607647,\n",
       " 'd32366195': 0.32510983000000004,\n",
       " 'd32366160': 0.32467976,\n",
       " 'd32935915': 0.3243609,\n",
       " 'd33248797': 0.3230218,\n",
       " 'd33152573': 0.32249310000000003,\n",
       " 'd33417259': 0.3210413,\n",
       " 'd33954852': 0.31995152,\n",
       " 'd33422806': 0.3197495,\n",
       " 'd32344276': 0.31937208,\n",
       " 'd34381391': 0.31933565,\n",
       " 'd33550782': 0.31908663,\n",
       " 'd32974228': 0.31762957,\n",
       " 'd32556781': 0.31749183999999997,\n",
       " 'd33437562': 0.31744335,\n",
       " 'd33474926': 0.31734781,\n",
       " 'd32771635': 0.31664885000000004,\n",
       " 'd32436441': 0.3164169,\n",
       " 'd33415060': 0.31614656,\n",
       " 'd32673476': 0.31606802,\n",
       " 'd34321155': 0.31582548,\n",
       " 'd33799139': 0.31565613,\n",
       " 'd33709945': 0.31489408,\n",
       " 'd32812014': 0.31486729,\n",
       " 'd32269598': 0.31472546,\n",
       " 'd33146035': 0.3146025,\n",
       " 'd32587887': 0.31374379999999996,\n",
       " 'd33166988': 0.31351251999999996,\n",
       " 'd33349441': 0.31248705,\n",
       " 'd32507123': 0.31234442,\n",
       " 'd33662859': 0.31182656999999997,\n",
       " 'd33504752': 0.31048378,\n",
       " 'd32306118': 0.31047610999999997,\n",
       " 'd33723017': 0.31043724,\n",
       " 'd32502645': 0.31025846,\n",
       " 'd34407648': 0.31018362,\n",
       " 'd33140926': 0.30993538,\n",
       " 'd32352450': 0.309902,\n",
       " 'd32530816': 0.30987507000000003,\n",
       " 'd34304141': 0.3098434,\n",
       " 'd34278212': 0.30983713,\n",
       " 'd32383370': 0.3090983,\n",
       " 'd33568424': 0.30902273,\n",
       " 'd33839489': 0.30824404,\n",
       " 'd34075369': 0.30786518,\n",
       " 'd32708872': 0.30744246000000003,\n",
       " 'd34810059': 0.3073314,\n",
       " 'd33813917': 0.30716682,\n",
       " 'd34204362': 0.30692366,\n",
       " 'd32775188': 0.30684265,\n",
       " 'd32513096': 0.30659142,\n",
       " 'd33078575': 0.3065423,\n",
       " 'd32801800': 0.30641231999999996,\n",
       " 'd32817939': 0.30640484,\n",
       " 'd32935097': 0.30607668,\n",
       " 'd32515379': 0.30589828,\n",
       " 'd33068628': 0.30582884,\n",
       " 'd32855190': 0.30581318,\n",
       " 'd32483687': 0.30524336,\n",
       " 'd33614925': 0.30503355,\n",
       " 'd32762282': 0.30497202,\n",
       " 'd33731971': 0.30469051}"
      ]
     },
     "execution_count": 9,
     "metadata": {},
     "output_type": "execute_result"
    }
   ],
   "source": [
    "single_metrics"
   ]
  },
  {
   "cell_type": "markdown",
   "id": "139ebdaa-da50-4070-8d5f-fa0f843cfcf6",
   "metadata": {},
   "source": [
    "## Multiple question answering"
   ]
  },
  {
   "cell_type": "code",
   "execution_count": 10,
   "id": "e9c3365f-f2de-49e6-976b-965b7a385ab5",
   "metadata": {},
   "outputs": [
    {
     "name": "stderr",
     "output_type": "stream",
     "text": [
      "Extracting docs from elastic search: 100%|█████████████████████████████████████████████████████████████████████████████████████████████████████████████████████████████████████████| 90/90 [01:16<00:00,  1.18it/s]"
     ]
    },
    {
     "name": "stdout",
     "output_type": "stream",
     "text": [
      "CPU times: user 991 ms, sys: 51.6 ms, total: 1.04 s\n",
      "Wall time: 1min 16s\n"
     ]
    },
    {
     "name": "stderr",
     "output_type": "stream",
     "text": [
      "\n"
     ]
    }
   ],
   "source": [
    "%%time\n",
    "multiple_ans = elastic_utils.ask_several_questions(\n",
    "    questions=questions['questions'],\n",
    "    fields=SEARCH_FIELDS,\n",
    "    size=N_ANSWERS,\n",
    "    es_client=es,\n",
    "    index=SEARCH_INDEX\n",
    ")"
   ]
  },
  {
   "cell_type": "code",
   "execution_count": null,
   "id": "8e47344e-064c-4dbf-8f9a-a5689352bbe0",
   "metadata": {},
   "outputs": [],
   "source": []
  },
  {
   "cell_type": "markdown",
   "id": "59d434fa-9d65-4234-80f6-818ec1e74d22",
   "metadata": {},
   "source": [
    "## Saving dicts"
   ]
  },
  {
   "cell_type": "code",
   "execution_count": 12,
   "id": "f3db7e13-1bde-473d-a97c-c3716eb2e35b",
   "metadata": {},
   "outputs": [],
   "source": [
    "elastic_utils.save_json(multiple_ans, SAVING_PATH_TEST)"
   ]
  },
  {
   "cell_type": "markdown",
   "id": "c313e11f-0fb6-4892-9a44-9b5a6cc34bff",
   "metadata": {},
   "source": [
    "## Compare read with saved json"
   ]
  },
  {
   "cell_type": "code",
   "execution_count": 13,
   "id": "a3178184-78c4-45b9-97fd-b63e5514fcc0",
   "metadata": {},
   "outputs": [],
   "source": [
    "multiple_ans_read = elastic_utils.load_json(SAVING_PATH_TEST)"
   ]
  },
  {
   "cell_type": "code",
   "execution_count": 14,
   "id": "08acf387-82f5-4e00-8505-26ae74a0f86a",
   "metadata": {
    "tags": []
   },
   "outputs": [],
   "source": [
    "lens_docs = []\n",
    "weird_questions = []\n",
    "for result in multiple_ans['questions']:\n",
    "    len_docs = len(result['documents'])\n",
    "    if len_docs < N_ANSWERS:\n",
    "        print(result_id, len_docs)\n",
    "        weird_questions.append(result_id)\n",
    "        lens_docs.append(len_docs)"
   ]
  },
  {
   "cell_type": "code",
   "execution_count": 15,
   "id": "f465e9dd-a157-4eb2-9f14-97ce3da8cdb9",
   "metadata": {},
   "outputs": [
    {
     "data": {
      "text/plain": [
       "(0, 0)"
      ]
     },
     "execution_count": 15,
     "metadata": {},
     "output_type": "execute_result"
    }
   ],
   "source": [
    "cleaned_weird_questions = [\n",
    "    weird_question for weird_question in weird_questions\n",
    "]\n",
    "\n",
    "weird_og_questions = [\n",
    "    question for question in questions['questions']\n",
    "    if question['id'] in cleaned_weird_questions\n",
    "]\n",
    "len(weird_og_questions), len(cleaned_weird_questions)"
   ]
  },
  {
   "cell_type": "code",
   "execution_count": null,
   "id": "84e5796b-f254-49b2-b90c-edc57eee6a07",
   "metadata": {},
   "outputs": [],
   "source": []
  }
 ],
 "metadata": {
  "kernelspec": {
   "display_name": "Python 3 (ipykernel)",
   "language": "python",
   "name": "python3"
  },
  "language_info": {
   "codemirror_mode": {
    "name": "ipython",
    "version": 3
   },
   "file_extension": ".py",
   "mimetype": "text/x-python",
   "name": "python",
   "nbconvert_exporter": "python",
   "pygments_lexer": "ipython3",
   "version": "3.9.7"
  }
 },
 "nbformat": 4,
 "nbformat_minor": 5
}
