{
 "cells": [
  {
   "cell_type": "markdown",
   "id": "6ebea225-7e23-4abd-a8ee-97847df7a621",
   "metadata": {
    "tags": []
   },
   "source": [
    "## Imports"
   ]
  },
  {
   "cell_type": "code",
   "execution_count": 1,
   "id": "7abc2f09-455d-40ab-8c2a-9c2c7030937b",
   "metadata": {},
   "outputs": [],
   "source": [
    "%load_ext autoreload\n",
    "%autoreload 2\n",
    "import os\n",
    "import re\n",
    "import json\n",
    "import copy\n",
    "import sys\n",
    "from tqdm import tqdm\n",
    "from pprint import pprint\n",
    "\n",
    "import matplotlib.pyplot as plt\n",
    "import seaborn as sns\n",
    "\n",
    "import pytrec_eval\n",
    "import numpy as np\n",
    "import pandas as pd\n",
    "from elasticsearch import Elasticsearch\n",
    "\n",
    "from src.elastic_search_utils import elastic_utils"
   ]
  },
  {
   "cell_type": "markdown",
   "id": "3802a738-3019-4039-a683-a8b00c13bf42",
   "metadata": {},
   "source": [
    "## Params"
   ]
  },
  {
   "cell_type": "code",
   "execution_count": 2,
   "id": "38b6fa68-583d-4b47-b7e7-2563f858571d",
   "metadata": {},
   "outputs": [],
   "source": [
    "ELASTIC_SERVER = \"http://localhost:9200\"\n",
    "QUESTIONS_PATH = \"BioASQ-task10bPhaseA-testset5\"\n",
    "N_ANSWERS = 100\n",
    "SEARCH_FIELDS = ['title', 'abstract', 'mesh_terms']\n",
    "SEARCH_INDEX = 'pubmed2022'\n",
    "\n",
    "SAVING_PATH_TEST = '/datasets/johan_tests_original_format/test_docs_10b-testset5.json'"
   ]
  },
  {
   "cell_type": "markdown",
   "id": "f449d7b6-c364-4f48-8e62-118840875aa0",
   "metadata": {},
   "source": [
    "## Constants"
   ]
  },
  {
   "cell_type": "code",
   "execution_count": 3,
   "id": "f7e7fd3d-9ef3-4191-893b-c1077f04fde6",
   "metadata": {},
   "outputs": [],
   "source": [
    "es = Elasticsearch(ELASTIC_SERVER)"
   ]
  },
  {
   "cell_type": "code",
   "execution_count": 4,
   "id": "ef7dcba1-c171-4462-9d61-90c44e07ed45",
   "metadata": {},
   "outputs": [],
   "source": [
    "questions = elastic_utils.load_json(QUESTIONS_PATH)"
   ]
  },
  {
   "cell_type": "markdown",
   "id": "2676f14b-9c82-45d9-98b8-f0ec16abc9a8",
   "metadata": {},
   "source": [
    "## Making answers for test\n",
    "\n",
    "### Single answer example"
   ]
  },
  {
   "cell_type": "code",
   "execution_count": 5,
   "id": "b2b934e1-2722-4b1c-98ca-c8cbfa8f9548",
   "metadata": {},
   "outputs": [],
   "source": [
    "sample_answers = elastic_utils.ask_single_question(\n",
    "    question=questions['questions'][0],\n",
    "    fields=SEARCH_FIELDS,\n",
    "    size=N_ANSWERS,\n",
    "    es_client=es,\n",
    "    index=SEARCH_INDEX\n",
    ")"
   ]
  },
  {
   "cell_type": "code",
   "execution_count": 6,
   "id": "114c1e29-5f56-4b0a-a709-ae3f6974479b",
   "metadata": {},
   "outputs": [
    {
     "data": {
      "text/plain": [
       "dict_keys(['took', 'timed_out', '_shards', 'hits'])"
      ]
     },
     "execution_count": 6,
     "metadata": {},
     "output_type": "execute_result"
    }
   ],
   "source": [
    "sample_answers.keys()"
   ]
  },
  {
   "cell_type": "code",
   "execution_count": 7,
   "id": "a10ddb19-c45f-49f5-9ecc-d409e6c85dd9",
   "metadata": {},
   "outputs": [
    {
     "name": "stdout",
     "output_type": "stream",
     "text": [
      "{'_id': '34638130',\n",
      " '_ignored': ['affiliations.keyword', 'authors.keyword', 'abstract.keyword'],\n",
      " '_index': 'pubmed2022',\n",
      " '_score': 43.2665,\n",
      " '_source': {'abstract': 'Myelodysplastic syndromes (MDS) represent a '\n",
      "                         'heterogeneous group of clonal hematopoietic '\n",
      "                         'stem-cell disorders characterized by ineffective '\n",
      "                         'hematopoiesis leading to peripheral cytopenias and '\n",
      "                         'in a substantial proportion of cases to acute '\n",
      "                         'myeloid leukemia. The deletion of the long arm of '\n",
      "                         'chromosome 11, del(11q), is a rare but recurrent '\n",
      "                         'clonal event in MDS. Here, we detail the largest '\n",
      "                         'series of 113 cases of MDS and myelodysplastic '\n",
      "                         'syndromes/myeloproliferative neoplasms (MDS/MPN) '\n",
      "                         'harboring a del(11q) analyzed at clinical, '\n",
      "                         'cytological, cytogenetic and molecular levels. '\n",
      "                         'Female predominance, a survival prognosis similar to '\n",
      "                         'other MDS, a low monocyte count and '\n",
      "                         'dysmegakaryopoiesis were the specific clinical and '\n",
      "                         'cytological features of del(11q) MDS. In most cases, '\n",
      "                         'del(11q) was isolated, primary and interstitial '\n",
      "                         'encompassing the 11q22-23 region containing ATM, '\n",
      "                         'KMT2A and CBL genes. The common deleted region at '\n",
      "                         '11q23.2 is centered on an intergenic region between '\n",
      "                         'CADM1 (also known as TSLC1, Tumour Suppressor in '\n",
      "                         'Lung Cancer 1) and NXPE2. CADM1 was expressed in all '\n",
      "                         'myeloid cells analyzed in contrast to NXPE2. At the '\n",
      "                         'functional level, the deletion of Cadm1 in murine '\n",
      "                         'Lineage-Sca1+Kit+ cells modifies the lymphoid to '\n",
      "                         'myeloid ratio in bone marrow although not altering '\n",
      "                         'their multi-lineage hematopoietic reconstitution '\n",
      "                         'potential after syngenic transplantation. Together '\n",
      "                         'with the frequent simultaneous deletions of KMT2A, '\n",
      "                         'ATM and CBL and mutations of ASXL1, SF3B1 and CBL, '\n",
      "                         'we show that CADM1 may be important in the '\n",
      "                         'physiopathology of the del(11q) MDS, extending its '\n",
      "                         'role as tumor-suppressor gene from solid tumors to '\n",
      "                         'hematopoietic malignancies.',\n",
      "             'affiliations': 'CHU Timone Enfants, Marseille, France.;Cancer '\n",
      "                             'Research Center of Toulouse, Toulouse, '\n",
      "                             'France.;CHU de la Guadeloupe, Pointe à Pitre, '\n",
      "                             'Guadeloupe.;Institut Universitaire du Cancer de '\n",
      "                             'Toulouse-Oncopole, Toulouse, France.;Centre de '\n",
      "                             'Recherches en Cancérologie de Toulouse (CRCT), '\n",
      "                             'Toulouse, France.;CHU Toulouse, Toulouse, '\n",
      "                             'France.;University hospital of Toulouse, '\n",
      "                             'university of Toulouse 3, Center of Research on '\n",
      "                             'Cancer of Toulouse, Toulouse, France.;CEA '\n",
      "                             'Fontenay-Aux-Roses, Fontenay-aux-Roses, '\n",
      "                             'France.;University hospital of Toulouse, '\n",
      "                             'university of Toulouse 3, Center of Research on '\n",
      "                             'Cancer of Toulouse, Toulouse, France.;Centre de '\n",
      "                             'Recherches en Cancérologie de Toulouse (CRCT), '\n",
      "                             'Toulouse, France.;University hospital of '\n",
      "                             'Toulouse, university of Toulouse 3, Center of '\n",
      "                             'Research on Cancer of Toulouse.;UMR1037 CRCT '\n",
      "                             'Toulouse, Toulouse, France.;Sanger Institute, '\n",
      "                             'Cambridge, United Kingdom.;Institute for '\n",
      "                             'Frontier Life and Medical Sciences, Kyoto '\n",
      "                             'University, Kyoto, Japan.;University of '\n",
      "                             'Cambridge & Wellcome Sanger Institute, '\n",
      "                             'Cambridge, United Kingdom.;UMC-St Radboud, '\n",
      "                             'Nijmegen, Netherlands.;University of Muenster, '\n",
      "                             'Münster, Germany.;Institut Cochin, Université de '\n",
      "                             'Paris, Inserm U1016, CNRS UMR8104, Paris, '\n",
      "                             'France.;Centre of Human Genetics, University '\n",
      "                             'Hospitals Leuven, Leuven, Belgium, Leuven, '\n",
      "                             'Belgium.;Laboratoire de Genetique, Tours, '\n",
      "                             'France, TOURS, France.;CHU Bordeaux, Pessac, '\n",
      "                             'France.;Laboratoire de Cytogenetique '\n",
      "                             'Hematologique, Aix-Marseille University, '\n",
      "                             'Marseille, France.;CHRU Besançon, Besançon, '\n",
      "                             \"France.;Laboratoire d'Hematologie, Strasbourg, \"\n",
      "                             'France.;Institut Paoli Calmettes, Marseille, '\n",
      "                             'France.;CHU GRENOBLE ALPES, Grenoble, '\n",
      "                             'France.;CHU Toulouse, Toulouse, France.;KU '\n",
      "                             'Leuven and University Hospitals, Leuven, '\n",
      "                             'Belgium.;University hospital of Dijon, DIJON, '\n",
      "                             'France.;Belgian Cancer Registry, Brussels, '\n",
      "                             'Belgium.;Hôpital Necker Enfants M, PARIS, '\n",
      "                             'France.;Centre Hospitalier Universitaire Angers, '\n",
      "                             'Angers, France.;Laboratoire de Cytogénétique, '\n",
      "                             'CHU de Nantes, Nantes, France.;IUC Oncopole, '\n",
      "                             'Toulouse, France.;Centre Hospitalier Mignot, '\n",
      "                             'Versailles, France.;hospices civils de Lyon, '\n",
      "                             'France, Pierre Benite, France.;Centre Henri '\n",
      "                             'Becquerel, rouen, France.;CHU-Hopital Avicenne, '\n",
      "                             'Bobigny, France.;Université de Paris, AP-HP, '\n",
      "                             'Paris, France.;centre de Recherches en '\n",
      "                             'cancérologie de Toulouse, Toulouse cedex 1, '\n",
      "                             'France.;University hospital of Toulouse, '\n",
      "                             'university of Toulouse 3, Center of Research on '\n",
      "                             'Cancer of Toulouse, Toulouse, France.',\n",
      "             'authors': 'Lafage-Pochitaloff|Marina|M|;Gerby|Bastien|B|;Baccini|Véronique|V|0000-0003-3913-7664;Largeaud|Laetitia|L|0000-0001-5341-5427;Fregona|Vincent|V|;Prade|Nais|N|;Juvin|Pierre-Yves|PY|;Jamrog|Laura '\n",
      "                        'Audrey|LA|0000-0003-2288-0806;Bories|Pierre|P|;Hébrard|Sylvie|S|;Lagarde|Stéphanie|S|;Mansat-De '\n",
      "                        'Mas|Veronique|V|;Dovey|Oliver '\n",
      "                        'M|OM|;Yusa|Kosuke|K|0000-0002-3442-021X;Vassiliou|George '\n",
      "                        'S|GS|0000-0003-4337-8022;Jansen|Joop '\n",
      "                        'H|JH|;Tekath|Tobias|T|0000-0002-9315-5452;Rombaut|David|D|0000-0001-8910-0945;Ameye|Geneviève|G|0000-0002-5838-2879;Barin|Carole|C|;Bidet|Audrey|A|;Boudjarane|John|J|;Collonge-Rame|Marie-Agnès|MA|;Gervais|Carine|C|;Ittel|Antoine|A|0000-0001-5067-575X;Lefebvre|Christine|C|;Luquet|Isabelle|I|;Michaux|Lucienne|L|0000-0002-8357-7942;Nadal|Nathalie|N|;Antoine-Poirel|Hélène|H|0000-0002-0712-5127;Radford-Weiss|Isabelle|I|;Ribourtout|Benedicte|B|;Richebourg|Steven|S|;Struski|Stephanie|S|;Terré|Christine|C|;Tigaud|Isabelle|I|;Penther|Dominique|D|;Eclache|Virginie|V|;Fontenay|Michaela|M|;Broccardo|Cyril|C|0000-0003-3016-6549;Delabesse|Eric|E|0000-0002-0928-0753',\n",
      "             'chemical_list': '',\n",
      "             'country': 'United States',\n",
      "             'delete': False,\n",
      "             'doi': '10.1182/bloodadvances.2021005311',\n",
      "             'issn_linking': '2473-9529',\n",
      "             'issue': '',\n",
      "             'journal': 'Blood advances',\n",
      "             'keywords': '',\n",
      "             'medline_ta': 'Blood Adv',\n",
      "             'mesh_terms': '',\n",
      "             'nlm_unique_id': '101698425',\n",
      "             'other_id': '',\n",
      "             'pages': '',\n",
      "             'pmc': '',\n",
      "             'pmid': '34638130',\n",
      "             'pubdate': '2021',\n",
      "             'publication_types': 'D016428:Journal Article',\n",
      "             'references': '',\n",
      "             'title': 'The CADM1 tumor suppressor gene is a major candidate '\n",
      "                      'gene in MDS with deletion of the long arm of chromosome '\n",
      "                      '11.'}}\n"
     ]
    }
   ],
   "source": [
    "pprint(sample_answers['hits']['hits'][0])"
   ]
  },
  {
   "cell_type": "code",
   "execution_count": 8,
   "id": "35a6c76e-d682-4cb3-89d3-eb917b6ecc54",
   "metadata": {},
   "outputs": [],
   "source": [
    "single_metrics = elastic_utils.answers_to_id_metric(\n",
    "    sample_answers\n",
    ")"
   ]
  },
  {
   "cell_type": "code",
   "execution_count": 9,
   "id": "a3597b9e-f25d-4e4f-90c2-29a01e350bf4",
   "metadata": {},
   "outputs": [
    {
     "data": {
      "text/plain": [
       "{'d34638130': 0.432665,\n",
       " 'd32300432': 0.37429108,\n",
       " 'd30045276': 0.33879723,\n",
       " 'd26117058': 0.3328591,\n",
       " 'd28321349': 0.32828,\n",
       " 'd25765789': 0.32749413,\n",
       " 'd26080752': 0.3271573,\n",
       " 'd15475079': 0.32644047,\n",
       " 'd23314345': 0.3231128,\n",
       " 'd32513619': 0.3213364,\n",
       " 'd20359629': 0.32110245,\n",
       " 'd34129017': 0.3200952,\n",
       " 'd29903757': 0.31980633,\n",
       " 'd28119848': 0.31952208,\n",
       " 'd33080073': 0.31862005,\n",
       " 'd20670271': 0.31782923,\n",
       " 'd32134844': 0.31765875,\n",
       " 'd20924036': 0.31706507,\n",
       " 'd17017876': 0.31636517999999997,\n",
       " 'd30858933': 0.31614256,\n",
       " 'd22928125': 0.31469234,\n",
       " 'd21380700': 0.31316994000000004,\n",
       " 'd31712933': 0.31248992999999997,\n",
       " 'd14717237': 0.31242393,\n",
       " 'd10489166': 0.312147,\n",
       " 'd23453286': 0.31202106,\n",
       " 'd31808894': 0.31196066,\n",
       " 'd33221503': 0.31168543,\n",
       " 'd9723026': 0.31167646,\n",
       " 'd23029178': 0.31124617,\n",
       " 'd25229970': 0.31112831,\n",
       " 'd21867648': 0.31059265,\n",
       " 'd9118602': 0.310531,\n",
       " 'd31559387': 0.31046972,\n",
       " 'd25159121': 0.31043491,\n",
       " 'd29776423': 0.31039362,\n",
       " 'd12592323': 0.3103933,\n",
       " 'd30854142': 0.31025811999999997,\n",
       " 'd33738439': 0.31002977000000004,\n",
       " 'd10568013': 0.30993786,\n",
       " 'd28934515': 0.30984278,\n",
       " 'd19758507': 0.30947279,\n",
       " 'd9031069': 0.30931383,\n",
       " 'd16610077': 0.30916317,\n",
       " 'd29854799': 0.30906365999999996,\n",
       " 'd18179968': 0.30866493,\n",
       " 'd24387124': 0.3085715,\n",
       " 'd9352802': 0.30851144999999996,\n",
       " 'd28348147': 0.30837982,\n",
       " 'd25932002': 0.30833935,\n",
       " 'd17965511': 0.30821936,\n",
       " 'd11421290': 0.30794138,\n",
       " 'd30595928': 0.30740932,\n",
       " 'd16111531': 0.30735554,\n",
       " 'd9476375': 0.30673082,\n",
       " 'd31779976': 0.30669214,\n",
       " 'd32089214': 0.30640594,\n",
       " 'd32041395': 0.30620893,\n",
       " 'd34179724': 0.30614698,\n",
       " 'd24754962': 0.3060519,\n",
       " 'd27982317': 0.30567858000000003,\n",
       " 'd23896060': 0.30561535,\n",
       " 'd32000075': 0.30548313,\n",
       " 'd29893006': 0.3051622,\n",
       " 'd22739204': 0.30499218,\n",
       " 'd25664843': 0.30466997,\n",
       " 'd10654444': 0.30459568000000004,\n",
       " 'd26424313': 0.3045228,\n",
       " 'd32089218': 0.30441313000000003,\n",
       " 'd24225749': 0.30427332,\n",
       " 'd23998614': 0.30427074,\n",
       " 'd17493336': 0.30414862,\n",
       " 'd27790283': 0.30414705000000003,\n",
       " 'd32211288': 0.30409557,\n",
       " 'd32140893': 0.30391531,\n",
       " 'd21331167': 0.30378914,\n",
       " 'd27264517': 0.30357605,\n",
       " 'd22147895': 0.30330849,\n",
       " 'd27521324': 0.30315163,\n",
       " 'd10402176': 0.30307793,\n",
       " 'd20723337': 0.30277864,\n",
       " 'd10972231': 0.30262592,\n",
       " 'd10794265': 0.30261293,\n",
       " 'd1486290': 0.30252829,\n",
       " 'd16099505': 0.30211908,\n",
       " 'd23912822': 0.30195795000000003,\n",
       " 'd31977035': 0.30182423,\n",
       " 'd20528751': 0.30165232,\n",
       " 'd33654519': 0.30154408,\n",
       " 'd28826860': 0.30148678,\n",
       " 'd21681928': 0.30139408,\n",
       " 'd9078298': 0.3013497,\n",
       " 'd32319417': 0.30111591,\n",
       " 'd34540199': 0.30072720000000003,\n",
       " 'd29036968': 0.3003827,\n",
       " 'd16759774': 0.3003671,\n",
       " 'd31484889': 0.30027334,\n",
       " 'd27863760': 0.30005177,\n",
       " 'd27241746': 0.29985989,\n",
       " 'd15929101': 0.29985325}"
      ]
     },
     "execution_count": 9,
     "metadata": {},
     "output_type": "execute_result"
    }
   ],
   "source": [
    "single_metrics"
   ]
  },
  {
   "cell_type": "markdown",
   "id": "139ebdaa-da50-4070-8d5f-fa0f843cfcf6",
   "metadata": {},
   "source": [
    "## Multiple question answering"
   ]
  },
  {
   "cell_type": "code",
   "execution_count": 10,
   "id": "e9c3365f-f2de-49e6-976b-965b7a385ab5",
   "metadata": {},
   "outputs": [
    {
     "name": "stderr",
     "output_type": "stream",
     "text": [
      "Extracting docs from elastic search: 100%|█████████████████████████████████████████████████████████████████████████████████████████████████████████████████████████████████████████| 90/90 [01:06<00:00,  1.36it/s]"
     ]
    },
    {
     "name": "stdout",
     "output_type": "stream",
     "text": [
      "CPU times: user 1.73 s, sys: 91.6 ms, total: 1.82 s\n",
      "Wall time: 1min 6s\n"
     ]
    },
    {
     "name": "stderr",
     "output_type": "stream",
     "text": [
      "\n"
     ]
    }
   ],
   "source": [
    "%%time\n",
    "multiple_ans = elastic_utils.ask_several_questions(\n",
    "    questions=questions['questions'],\n",
    "    fields=SEARCH_FIELDS,\n",
    "    size=N_ANSWERS,\n",
    "    es_client=es,\n",
    "    index=SEARCH_INDEX\n",
    ")"
   ]
  },
  {
   "cell_type": "code",
   "execution_count": null,
   "id": "8e47344e-064c-4dbf-8f9a-a5689352bbe0",
   "metadata": {},
   "outputs": [],
   "source": []
  },
  {
   "cell_type": "markdown",
   "id": "59d434fa-9d65-4234-80f6-818ec1e74d22",
   "metadata": {},
   "source": [
    "## Saving dicts"
   ]
  },
  {
   "cell_type": "code",
   "execution_count": 12,
   "id": "f3db7e13-1bde-473d-a97c-c3716eb2e35b",
   "metadata": {},
   "outputs": [],
   "source": [
    "elastic_utils.save_json(multiple_ans, SAVING_PATH_TEST)"
   ]
  },
  {
   "cell_type": "markdown",
   "id": "c313e11f-0fb6-4892-9a44-9b5a6cc34bff",
   "metadata": {},
   "source": [
    "## Compare read with saved json"
   ]
  },
  {
   "cell_type": "code",
   "execution_count": 13,
   "id": "a3178184-78c4-45b9-97fd-b63e5514fcc0",
   "metadata": {},
   "outputs": [],
   "source": [
    "multiple_ans_read = elastic_utils.load_json(SAVING_PATH_TEST)"
   ]
  },
  {
   "cell_type": "code",
   "execution_count": 14,
   "id": "08acf387-82f5-4e00-8505-26ae74a0f86a",
   "metadata": {
    "tags": []
   },
   "outputs": [],
   "source": [
    "lens_docs = []\n",
    "weird_questions = []\n",
    "for result in multiple_ans['questions']:\n",
    "    len_docs = len(result['documents'])\n",
    "    if len_docs < N_ANSWERS:\n",
    "        print(result_id, len_docs)\n",
    "        weird_questions.append(result_id)\n",
    "        lens_docs.append(len_docs)"
   ]
  },
  {
   "cell_type": "code",
   "execution_count": 15,
   "id": "f465e9dd-a157-4eb2-9f14-97ce3da8cdb9",
   "metadata": {},
   "outputs": [
    {
     "data": {
      "text/plain": [
       "(0, 0)"
      ]
     },
     "execution_count": 15,
     "metadata": {},
     "output_type": "execute_result"
    }
   ],
   "source": [
    "cleaned_weird_questions = [\n",
    "    weird_question for weird_question in weird_questions\n",
    "]\n",
    "\n",
    "weird_og_questions = [\n",
    "    question for question in questions['questions']\n",
    "    if question['id'] in cleaned_weird_questions\n",
    "]\n",
    "len(weird_og_questions), len(cleaned_weird_questions)"
   ]
  },
  {
   "cell_type": "code",
   "execution_count": null,
   "id": "84e5796b-f254-49b2-b90c-edc57eee6a07",
   "metadata": {},
   "outputs": [],
   "source": []
  }
 ],
 "metadata": {
  "kernelspec": {
   "display_name": "Python 3 (ipykernel)",
   "language": "python",
   "name": "python3"
  },
  "language_info": {
   "codemirror_mode": {
    "name": "ipython",
    "version": 3
   },
   "file_extension": ".py",
   "mimetype": "text/x-python",
   "name": "python",
   "nbconvert_exporter": "python",
   "pygments_lexer": "ipython3",
   "version": "3.9.7"
  }
 },
 "nbformat": 4,
 "nbformat_minor": 5
}
