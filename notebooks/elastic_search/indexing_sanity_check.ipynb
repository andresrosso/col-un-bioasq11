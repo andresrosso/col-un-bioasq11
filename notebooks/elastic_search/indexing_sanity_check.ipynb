{
 "cells": [
  {
   "cell_type": "markdown",
   "id": "43099d53-56cb-4773-95f6-3cb75a8be246",
   "metadata": {},
   "source": [
    "## Imports"
   ]
  },
  {
   "cell_type": "code",
   "execution_count": 1,
   "id": "72227959-9834-4fcc-b2f9-1949488ed040",
   "metadata": {},
   "outputs": [],
   "source": [
    "import json\n",
    "import itertools\n",
    "from elasticsearch import Elasticsearch\n",
    "from tqdm import tqdm\n",
    "\n",
    "from src.elastic_search_utils import elastic_utils"
   ]
  },
  {
   "cell_type": "markdown",
   "id": "d39d8ad9-0b11-4b64-99c6-2533b0283064",
   "metadata": {},
   "source": [
    "## Es client"
   ]
  },
  {
   "cell_type": "code",
   "execution_count": 2,
   "id": "2e1455eb-d840-436c-97c8-5618975a4420",
   "metadata": {},
   "outputs": [],
   "source": [
    "es = Elasticsearch(\"http://localhost:9200\")"
   ]
  },
  {
   "cell_type": "markdown",
   "id": "9274dc1b-eb8c-4522-a734-c2a22d7be6ae",
   "metadata": {},
   "source": [
    "## Result load"
   ]
  },
  {
   "cell_type": "code",
   "execution_count": 3,
   "id": "d0a7a596-fdb6-46d6-b2ac-bd6f18973755",
   "metadata": {},
   "outputs": [],
   "source": [
    "#results = elastic_utils.load_json('/datasets/johan_tests/queried_docs.json')\n",
    "results = elastic_utils.load_json('/datasets/johan_tests/training_docs.json')"
   ]
  },
  {
   "cell_type": "markdown",
   "id": "77c1f737-7143-4b7e-a88e-58c246274a50",
   "metadata": {},
   "source": [
    "## Debug functions"
   ]
  },
  {
   "cell_type": "code",
   "execution_count": 4,
   "id": "a1c1e42b-b566-4b02-9c66-0d0dad1ebb2e",
   "metadata": {},
   "outputs": [],
   "source": [
    "def find_all_single_docs(document_test):\n",
    "    documents = list(document_test.values())[0]['documents']\n",
    "    return [doc_id for doc_id, doc_data in documents.items()]"
   ]
  },
  {
   "cell_type": "code",
   "execution_count": 5,
   "id": "2868a2eb-e70e-4129-b559-42c2e5a96a51",
   "metadata": {},
   "outputs": [],
   "source": [
    "def find_failed_single_docs(document_test):\n",
    "    documents = list(document_test.values())[0]['documents']\n",
    "    return [doc_id for doc_id, doc_data in documents.items() if doc_data == 'failed']"
   ]
  },
  {
   "cell_type": "code",
   "execution_count": 6,
   "id": "0cc7ad27-abe6-4952-be96-ee82ad506c0d",
   "metadata": {},
   "outputs": [],
   "source": [
    "def find_no_abstract_single_docs(document_test):\n",
    "    documents = list(document_test.values())[0]['documents']\n",
    "    empty_abstract_docs = []\n",
    "    for doc_id, doc_data in documents.items():\n",
    "        if isinstance(doc_data, str):\n",
    "            continue\n",
    "        elif (doc_data['abstract'] == '') or (doc_data['abstract'] is None):\n",
    "            empty_abstract_docs.append(doc_id)\n",
    "            \n",
    "    return empty_abstract_docs"
   ]
  },
  {
   "cell_type": "markdown",
   "id": "ab7a6e19-c756-4d11-a925-5962061d5a5a",
   "metadata": {},
   "source": [
    "## Listing failed document ids"
   ]
  },
  {
   "cell_type": "code",
   "execution_count": 7,
   "id": "1095f196-aa37-4b1a-8ed3-1f92349dfa77",
   "metadata": {},
   "outputs": [],
   "source": [
    "all_docs =  set(list(itertools.chain.from_iterable(\n",
    "    find_all_single_docs(result) for result in results\n",
    ")))"
   ]
  },
  {
   "cell_type": "code",
   "execution_count": 8,
   "id": "e3b70d4d-aac4-404e-8d8e-e075432fd476",
   "metadata": {},
   "outputs": [],
   "source": [
    "failed_docs =  set(list(itertools.chain.from_iterable(\n",
    "    find_failed_single_docs(result) for result in results\n",
    ")))"
   ]
  },
  {
   "cell_type": "code",
   "execution_count": 9,
   "id": "f4850ac8-bc60-4a8f-9440-6ec3f7825c64",
   "metadata": {},
   "outputs": [],
   "source": [
    "no_abs_docs = set(list(itertools.chain.from_iterable(\n",
    "    find_no_abstract_single_docs(result) for result in results\n",
    ")))"
   ]
  },
  {
   "cell_type": "markdown",
   "id": "8734713b-f9b9-4b76-b06e-b86a8865c44d",
   "metadata": {},
   "source": [
    "## Review over failed id stats"
   ]
  },
  {
   "cell_type": "code",
   "execution_count": 10,
   "id": "ce934ef4-8d9b-4308-96f8-4f67c76962be",
   "metadata": {},
   "outputs": [
    {
     "data": {
      "text/plain": [
       "set()"
      ]
     },
     "execution_count": 10,
     "metadata": {},
     "output_type": "execute_result"
    }
   ],
   "source": [
    "failed_docs - all_docs"
   ]
  },
  {
   "cell_type": "code",
   "execution_count": 11,
   "id": "659726ee-1a72-41b9-b973-c255461520f8",
   "metadata": {},
   "outputs": [
    {
     "data": {
      "text/plain": [
       "(12926, 33330, 0.3878187818781878)"
      ]
     },
     "execution_count": 11,
     "metadata": {},
     "output_type": "execute_result"
    }
   ],
   "source": [
    "len(failed_docs), len(all_docs), len(failed_docs)/len(all_docs)"
   ]
  },
  {
   "cell_type": "code",
   "execution_count": 12,
   "id": "91c56575-042c-4fbe-8a69-c66789f112c5",
   "metadata": {},
   "outputs": [
    {
     "data": {
      "text/plain": [
       "set()"
      ]
     },
     "execution_count": 12,
     "metadata": {},
     "output_type": "execute_result"
    }
   ],
   "source": [
    "no_abs_docs - all_docs"
   ]
  },
  {
   "cell_type": "code",
   "execution_count": 13,
   "id": "7474015d-f7e6-4b86-a1d6-afa9aaa04c1f",
   "metadata": {},
   "outputs": [
    {
     "data": {
      "text/plain": [
       "(29, 33330, 0.0008700870087008701)"
      ]
     },
     "execution_count": 13,
     "metadata": {},
     "output_type": "execute_result"
    }
   ],
   "source": [
    "len(no_abs_docs), len(all_docs), len(no_abs_docs)/len(all_docs)"
   ]
  },
  {
   "cell_type": "markdown",
   "id": "a97f3e24-8abb-400a-aa43-d1f4eb2d5258",
   "metadata": {},
   "source": [
    "## Checking if non found files in index were by elastic utils fault or indexing"
   ]
  },
  {
   "cell_type": "code",
   "execution_count": 14,
   "id": "859bc2b5-c2ae-4b36-bdf8-33a2c25b3494",
   "metadata": {
    "tags": []
   },
   "outputs": [
    {
     "name": "stderr",
     "output_type": "stream",
     "text": [
      "Check fail:   0%|                                     | 0/12926 [00:00<?, ?it/s]/tmp/ipykernel_171218/44122741.py:7: DeprecationWarning: The 'body' parameter is deprecated and will be removed in a future version. Instead use individual parameters.\n",
      "  es.search(index = 'pubmed2022_index_full', body=body)\n",
      "Check fail: 100%|████████████████████████| 12926/12926 [00:37<00:00, 344.22it/s]\n"
     ]
    }
   ],
   "source": [
    "my_fails = []\n",
    "index_fails = []\n",
    "for doc in tqdm(list(failed_docs), desc='Check fail'):\n",
    "    doc_id = doc.replace('d', '')\n",
    "    body={\"query\": {\"match\": {\"pmid\" : doc_id}}}\n",
    "    resp = dict(\n",
    "        es.search(index = 'pubmed2022_index_full', body=body)\n",
    "    )\n",
    "    if len(resp['hits']['hits']) == 0:\n",
    "        index_fails.append(doc)\n",
    "    else:\n",
    "        my_fails.append(doc)\n"
   ]
  },
  {
   "cell_type": "code",
   "execution_count": 15,
   "id": "a58758f6-0fc0-4341-bbda-c8f5ee735df3",
   "metadata": {},
   "outputs": [
    {
     "data": {
      "text/plain": [
       "0"
      ]
     },
     "execution_count": 15,
     "metadata": {},
     "output_type": "execute_result"
    }
   ],
   "source": [
    "len(my_fails)"
   ]
  },
  {
   "cell_type": "code",
   "execution_count": 16,
   "id": "1cf4b253-c47b-4af3-8581-9f02f1d8046a",
   "metadata": {},
   "outputs": [
    {
     "data": {
      "text/plain": [
       "12926"
      ]
     },
     "execution_count": 16,
     "metadata": {},
     "output_type": "execute_result"
    }
   ],
   "source": [
    "len(index_fails)"
   ]
  },
  {
   "cell_type": "code",
   "execution_count": null,
   "id": "aa201893-c504-46e1-8c7d-b2c75b2637d4",
   "metadata": {},
   "outputs": [],
   "source": []
  }
 ],
 "metadata": {
  "kernelspec": {
   "display_name": "Python 3 (ipykernel)",
   "language": "python",
   "name": "python3"
  },
  "language_info": {
   "codemirror_mode": {
    "name": "ipython",
    "version": 3
   },
   "file_extension": ".py",
   "mimetype": "text/x-python",
   "name": "python",
   "nbconvert_exporter": "python",
   "pygments_lexer": "ipython3",
   "version": "3.9.7"
  }
 },
 "nbformat": 4,
 "nbformat_minor": 5
}
