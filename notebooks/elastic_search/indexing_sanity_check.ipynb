{
 "cells": [
  {
   "cell_type": "markdown",
   "id": "43099d53-56cb-4773-95f6-3cb75a8be246",
   "metadata": {},
   "source": [
    "## Imports"
   ]
  },
  {
   "cell_type": "code",
   "execution_count": 3,
   "id": "72227959-9834-4fcc-b2f9-1949488ed040",
   "metadata": {},
   "outputs": [
    {
     "name": "stdout",
     "output_type": "stream",
     "text": [
      "Home path : /opt/bioasq/col-un-bioasq11\n",
      "Eval path : /opt/bioasq/Evaluation-Measures\n"
     ]
    }
   ],
   "source": [
    "import json\n",
    "import itertools\n",
    "from elasticsearch import Elasticsearch\n",
    "from tqdm import tqdm\n",
    "import sys\n",
    "\n",
    "sys.path.append('../../')\n",
    "import globals\n",
    "from src.elastic_search_utils import elastic_utils"
   ]
  },
  {
   "cell_type": "markdown",
   "id": "d39d8ad9-0b11-4b64-99c6-2533b0283064",
   "metadata": {},
   "source": [
    "## Es client"
   ]
  },
  {
   "cell_type": "code",
   "execution_count": 4,
   "id": "2e1455eb-d840-436c-97c8-5618975a4420",
   "metadata": {},
   "outputs": [],
   "source": [
    "es = Elasticsearch(\"http://localhost:9200\")"
   ]
  },
  {
   "cell_type": "markdown",
   "id": "9274dc1b-eb8c-4522-a734-c2a22d7be6ae",
   "metadata": {},
   "source": [
    "## Result load"
   ]
  },
  {
   "cell_type": "code",
   "execution_count": 9,
   "id": "d0a7a596-fdb6-46d6-b2ac-bd6f18973755",
   "metadata": {},
   "outputs": [],
   "source": [
    "results = elastic_utils.load_json('../../data/raw/training11b.json')\n",
    "#results = elastic_utils.load_json('/datasets/johan_tests/queried_docs_10b.json')"
   ]
  },
  {
   "cell_type": "markdown",
   "id": "77c1f737-7143-4b7e-a88e-58c246274a50",
   "metadata": {},
   "source": [
    "## Debug functions"
   ]
  },
  {
   "cell_type": "code",
   "execution_count": 10,
   "id": "a1c1e42b-b566-4b02-9c66-0d0dad1ebb2e",
   "metadata": {},
   "outputs": [],
   "source": [
    "def find_all_single_docs(document_test):\n",
    "    documents = list(document_test.values())[0]['documents']\n",
    "    return [doc_id for doc_id, doc_data in documents.items()]"
   ]
  },
  {
   "cell_type": "code",
   "execution_count": 11,
   "id": "2868a2eb-e70e-4129-b559-42c2e5a96a51",
   "metadata": {},
   "outputs": [],
   "source": [
    "def find_failed_single_docs(document_test):\n",
    "    documents = list(document_test.values())[0]['documents']\n",
    "    return [doc_id for doc_id, doc_data in documents.items() if doc_data == 'failed']"
   ]
  },
  {
   "cell_type": "code",
   "execution_count": 12,
   "id": "0cc7ad27-abe6-4952-be96-ee82ad506c0d",
   "metadata": {},
   "outputs": [],
   "source": [
    "def find_no_abstract_single_docs(document_test):\n",
    "    documents = list(document_test.values())[0]['documents']\n",
    "    empty_abstract_docs = []\n",
    "    for doc_id, doc_data in documents.items():\n",
    "        if isinstance(doc_data, str):\n",
    "            continue\n",
    "        elif (doc_data['abstract'] == '') or (doc_data['abstract'] is None):\n",
    "            empty_abstract_docs.append(doc_id)\n",
    "            \n",
    "    return empty_abstract_docs"
   ]
  },
  {
   "cell_type": "markdown",
   "id": "ab7a6e19-c756-4d11-a925-5962061d5a5a",
   "metadata": {},
   "source": [
    "## Listing failed document ids"
   ]
  },
  {
   "cell_type": "code",
   "execution_count": null,
   "id": "1095f196-aa37-4b1a-8ed3-1f92349dfa77",
   "metadata": {},
   "outputs": [],
   "source": [
    "all_docs =  set(list(itertools.chain.from_iterable(\n",
    "    find_all_single_docs(result) for result in results\n",
    ")))"
   ]
  },
  {
   "cell_type": "code",
   "execution_count": 9,
   "id": "e3b70d4d-aac4-404e-8d8e-e075432fd476",
   "metadata": {},
   "outputs": [],
   "source": [
    "failed_docs =  set(list(itertools.chain.from_iterable(\n",
    "    find_failed_single_docs(result) for result in results\n",
    ")))"
   ]
  },
  {
   "cell_type": "code",
   "execution_count": 10,
   "id": "f4850ac8-bc60-4a8f-9440-6ec3f7825c64",
   "metadata": {},
   "outputs": [],
   "source": [
    "no_abs_docs = set(list(itertools.chain.from_iterable(\n",
    "    find_no_abstract_single_docs(result) for result in results\n",
    ")))"
   ]
  },
  {
   "cell_type": "markdown",
   "id": "8734713b-f9b9-4b76-b06e-b86a8865c44d",
   "metadata": {},
   "source": [
    "## Review over failed id stats"
   ]
  },
  {
   "cell_type": "code",
   "execution_count": 11,
   "id": "ce934ef4-8d9b-4308-96f8-4f67c76962be",
   "metadata": {},
   "outputs": [
    {
     "data": {
      "text/plain": [
       "set()"
      ]
     },
     "execution_count": 11,
     "metadata": {},
     "output_type": "execute_result"
    }
   ],
   "source": [
    "failed_docs - all_docs"
   ]
  },
  {
   "cell_type": "code",
   "execution_count": 12,
   "id": "659726ee-1a72-41b9-b973-c255461520f8",
   "metadata": {},
   "outputs": [
    {
     "data": {
      "text/plain": [
       "(54, 36844, 0.0014656389099989143)"
      ]
     },
     "execution_count": 12,
     "metadata": {},
     "output_type": "execute_result"
    }
   ],
   "source": [
    "len(failed_docs), len(all_docs), len(failed_docs)/len(all_docs)"
   ]
  },
  {
   "cell_type": "code",
   "execution_count": 13,
   "id": "91c56575-042c-4fbe-8a69-c66789f112c5",
   "metadata": {},
   "outputs": [
    {
     "data": {
      "text/plain": [
       "set()"
      ]
     },
     "execution_count": 13,
     "metadata": {},
     "output_type": "execute_result"
    }
   ],
   "source": [
    "no_abs_docs - all_docs"
   ]
  },
  {
   "cell_type": "code",
   "execution_count": 14,
   "id": "7474015d-f7e6-4b86-a1d6-afa9aaa04c1f",
   "metadata": {},
   "outputs": [
    {
     "data": {
      "text/plain": [
       "(47, 36844, 0.001275648680924981)"
      ]
     },
     "execution_count": 14,
     "metadata": {},
     "output_type": "execute_result"
    }
   ],
   "source": [
    "len(no_abs_docs), len(all_docs), len(no_abs_docs)/len(all_docs)"
   ]
  },
  {
   "cell_type": "markdown",
   "id": "a97f3e24-8abb-400a-aa43-d1f4eb2d5258",
   "metadata": {},
   "source": [
    "## Checking if non found files in index were by elastic utils fault or indexing"
   ]
  },
  {
   "cell_type": "code",
   "execution_count": 15,
   "id": "859bc2b5-c2ae-4b36-bdf8-33a2c25b3494",
   "metadata": {
    "tags": []
   },
   "outputs": [
    {
     "name": "stderr",
     "output_type": "stream",
     "text": [
      "Check fail:   0%|                                        | 0/54 [00:00<?, ?it/s]/tmp/ipykernel_189705/802005234.py:7: DeprecationWarning: The 'body' parameter is deprecated and will be removed in a future version. Instead use individual parameters.\n",
      "  es.search(index = 'pubmed2022', body=body)\n",
      "Check fail: 100%|██████████████████████████████| 54/54 [00:00<00:00, 169.03it/s]\n"
     ]
    }
   ],
   "source": [
    "my_fails = []\n",
    "index_fails = []\n",
    "for doc in tqdm(list(failed_docs), desc='Check fail'):\n",
    "    doc_id = doc.replace('d', '')\n",
    "    body={\"query\": {\"match\": {\"pmid\" : doc_id}}}\n",
    "    resp = dict(\n",
    "        es.search(index = 'pubmed2023-old', body=body)\n",
    "    )\n",
    "    if len(resp['hits']['hits']) == 0:\n",
    "        index_fails.append(doc)\n",
    "    else:\n",
    "        my_fails.append(doc)"
   ]
  },
  {
   "cell_type": "code",
   "execution_count": 16,
   "id": "a58758f6-0fc0-4341-bbda-c8f5ee735df3",
   "metadata": {},
   "outputs": [
    {
     "data": {
      "text/plain": [
       "0"
      ]
     },
     "execution_count": 16,
     "metadata": {},
     "output_type": "execute_result"
    }
   ],
   "source": [
    "len(my_fails)"
   ]
  },
  {
   "cell_type": "code",
   "execution_count": 17,
   "id": "1cf4b253-c47b-4af3-8581-9f02f1d8046a",
   "metadata": {},
   "outputs": [
    {
     "data": {
      "text/plain": [
       "54"
      ]
     },
     "execution_count": 17,
     "metadata": {},
     "output_type": "execute_result"
    }
   ],
   "source": [
    "len(index_fails)"
   ]
  },
  {
   "cell_type": "code",
   "execution_count": 18,
   "id": "cd06fd8e-069c-4e81-804b-b115ade6a037",
   "metadata": {},
   "outputs": [
    {
     "data": {
      "text/plain": [
       "['d24305403',\n",
       " 'd21473027',\n",
       " 'd20301293',\n",
       " 'd26989023',\n",
       " 'd20301416',\n",
       " 'd20301331',\n",
       " 'd24305278',\n",
       " 'd23658991',\n",
       " 'd21952424',\n",
       " 'd20301308',\n",
       " 'd23104528',\n",
       " 'd29934319',\n",
       " 'd27924029',\n",
       " 'd29676625',\n",
       " 'd27940438',\n",
       " 'd23304742',\n",
       " 'd22787616',\n",
       " 'd20641567',\n",
       " 'd20301510',\n",
       " 'd21473029',\n",
       " 'd25383801',\n",
       " 'd22550943',\n",
       " 'd22787626',\n",
       " 'd21250223',\n",
       " 'd20301494',\n",
       " 'd22129433',\n",
       " 'd20301454',\n",
       " 'd20301427',\n",
       " 'd23833797',\n",
       " 'd33097476',\n",
       " 'd29653952',\n",
       " 'd20301779',\n",
       " 'd20007090',\n",
       " 'd24212220',\n",
       " 'd27399455',\n",
       " 'd23986914',\n",
       " 'd20301585',\n",
       " 'd20301577',\n",
       " 'd25064957',\n",
       " 'd20301628',\n",
       " 'd22855961',\n",
       " 'd27399411',\n",
       " 'd24144986',\n",
       " 'd20301466',\n",
       " 'd20301588',\n",
       " 'd20301462',\n",
       " 'd20639591',\n",
       " 'd20301420',\n",
       " 'd30242068',\n",
       " 'd27742610',\n",
       " 'd25401082',\n",
       " 'd21249951',\n",
       " 'd21413253',\n",
       " 'd23890950']"
      ]
     },
     "execution_count": 18,
     "metadata": {},
     "output_type": "execute_result"
    }
   ],
   "source": [
    "index_fails"
   ]
  },
  {
   "cell_type": "code",
   "execution_count": 19,
   "id": "79b51cce-0429-4dde-bf25-23d9cbf506b6",
   "metadata": {},
   "outputs": [
    {
     "data": {
      "text/plain": [
       "{'d10525005',\n",
       " 'd10590441',\n",
       " 'd11169342',\n",
       " 'd11339660',\n",
       " 'd11428324',\n",
       " 'd11864366',\n",
       " 'd14663844',\n",
       " 'd15332726',\n",
       " 'd15719064',\n",
       " 'd15783264',\n",
       " 'd16451554',\n",
       " 'd16477543',\n",
       " 'd16570042',\n",
       " 'd16804530',\n",
       " 'd16971728',\n",
       " 'd17315395',\n",
       " 'd17364293',\n",
       " 'd17462970',\n",
       " 'd17703631',\n",
       " 'd18422033',\n",
       " 'd18577682',\n",
       " 'd18941554',\n",
       " 'd19119983',\n",
       " 'd19809570',\n",
       " 'd20431548',\n",
       " 'd20671410',\n",
       " 'd21284896',\n",
       " 'd21445329',\n",
       " 'd21772710',\n",
       " 'd21897718',\n",
       " 'd21915623',\n",
       " 'd22375228',\n",
       " 'd22527824',\n",
       " 'd23255116',\n",
       " 'd23376948',\n",
       " 'd23455231',\n",
       " 'd23599675',\n",
       " 'd23741179',\n",
       " 'd23776883',\n",
       " 'd24132372',\n",
       " 'd24163818',\n",
       " 'd24401652',\n",
       " 'd2819350',\n",
       " 'd33201862',\n",
       " 'd4936649',\n",
       " 'd7474061',\n",
       " 'd9664617'}"
      ]
     },
     "execution_count": 19,
     "metadata": {},
     "output_type": "execute_result"
    }
   ],
   "source": [
    "no_abs_docs"
   ]
  },
  {
   "cell_type": "code",
   "execution_count": null,
   "id": "dc25683d-86ca-4f99-befd-15860267ffa0",
   "metadata": {},
   "outputs": [],
   "source": []
  }
 ],
 "metadata": {
  "kernelspec": {
   "display_name": "Python 3 (ipykernel)",
   "language": "python",
   "name": "python3"
  },
  "language_info": {
   "codemirror_mode": {
    "name": "ipython",
    "version": 3
   },
   "file_extension": ".py",
   "mimetype": "text/x-python",
   "name": "python",
   "nbconvert_exporter": "python",
   "pygments_lexer": "ipython3",
   "version": "3.11.0"
  }
 },
 "nbformat": 4,
 "nbformat_minor": 5
}
