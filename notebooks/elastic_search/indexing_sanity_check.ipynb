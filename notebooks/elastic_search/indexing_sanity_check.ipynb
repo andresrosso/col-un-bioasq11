{
 "cells": [
  {
   "cell_type": "markdown",
   "id": "43099d53-56cb-4773-95f6-3cb75a8be246",
   "metadata": {},
   "source": [
    "## Imports"
   ]
  },
  {
   "cell_type": "code",
   "execution_count": 1,
   "id": "72227959-9834-4fcc-b2f9-1949488ed040",
   "metadata": {},
   "outputs": [],
   "source": [
    "import json\n",
    "import itertools\n",
    "from elasticsearch import Elasticsearch\n",
    "from tqdm import tqdm\n",
    "\n",
    "from src.elastic_search_utils import elastic_utils"
   ]
  },
  {
   "cell_type": "markdown",
   "id": "d39d8ad9-0b11-4b64-99c6-2533b0283064",
   "metadata": {},
   "source": [
    "## Es client"
   ]
  },
  {
   "cell_type": "code",
   "execution_count": 2,
   "id": "2e1455eb-d840-436c-97c8-5618975a4420",
   "metadata": {},
   "outputs": [],
   "source": [
    "es = Elasticsearch(\"http://localhost:9200\")"
   ]
  },
  {
   "cell_type": "markdown",
   "id": "9274dc1b-eb8c-4522-a734-c2a22d7be6ae",
   "metadata": {},
   "source": [
    "## Result load"
   ]
  },
  {
   "cell_type": "code",
   "execution_count": 3,
   "id": "d0a7a596-fdb6-46d6-b2ac-bd6f18973755",
   "metadata": {},
   "outputs": [],
   "source": [
    "results = elastic_utils.load_json('/datasets/johan_tests/training_docs_10b.json')\n",
    "#results = elastic_utils.load_json('/datasets/johan_tests/queried_docs_10b.json')"
   ]
  },
  {
   "cell_type": "code",
   "execution_count": 4,
   "id": "ef52979d-17bd-401c-a0ea-03e4ef2a2476",
   "metadata": {
    "tags": []
   },
   "outputs": [
    {
     "data": {
      "text/plain": [
       "{'q55031181e9bde69634000014': {'question': 'Is Hirschsprung disease a mendelian or a multifactorial disorder?',\n",
       "  'documents': {'d15858239': {'score': 1,\n",
       "    'title': '[The role of ret gene in the pathogenesis of Hirschsprung disease].',\n",
       "    'abstract': 'Hirschsprung disease is a congenital disorder with the incidence of 1 per 5000 live births, characterized by the absence of intestinal ganglion cells. In the etiology of Hirschsprung disease various genes play a role; these are: RET, EDNRB, GDNF, EDN3 and SOX10, NTN3, ECE1, Mutations in these genes may result in dominant, recessive or multifactorial patterns of inheritance. Diverse models of inheritance, co-existence of numerous genetic disorders and detection of numerous chromosomal aberrations together with involvement of various genes confirm the genetic heterogeneity of Hirschsprung disease. Hirschsprung disease might well serve as a model for many complex disorders in which the search for responsible genes has only just been initiated. It seems that the most important role in its genetic etiology plays the RET gene, which is involved in the etiology of at least four diseases. This review focuses on recent advances of the importance of RET gene in the etiology of Hirschsprung disease.',\n",
       "    'mesh_terms': ['D002869:Chromosome Aberrations',\n",
       "     'D006627:Hirschsprung Disease',\n",
       "     'D006801:Humans',\n",
       "     'D007231:Infant, Newborn',\n",
       "     'D009154:Mutation',\n",
       "     'D009414:Nerve Growth Factors',\n",
       "     'D011110:Polymorphism, Genetic',\n",
       "     'D051096:Proto-Oncogene Proteins c-ret']},\n",
       "   'd20598273': {'score': 1,\n",
       "    'title': 'Differential contributions of rare and common, coding and noncoding Ret mutations to multifactorial Hirschsprung disease liability.',\n",
       "    'abstract': 'The major gene for Hirschsprung disease (HSCR) encodes the receptor tyrosine kinase RET. In a study of 690 European- and 192 Chinese-descent probands and their parents or controls, we demonstrate the ubiquity of a >4-fold susceptibility from a C-->T allele (rs2435357: p = 3.9 x 10(-43) in European ancestry; p = 1.1 x 10(-21) in Chinese samples) that probably arose once within the intronic RET enhancer MCS+9.7. With in vitro assays, we now show that the T variant disrupts a SOX10 binding site within MCS+9.7 that compromises RET transactivation. The T allele, with a control frequency of 20%-30%/47% and case frequency of 54%-62%/88% in European/Chinese-ancestry individuals, is involved in all forms of HSCR. It is marginally associated with proband gender (p = 0.13) and significantly so with length of aganglionosis (p = 7.6 x 10(-5)) and familiality (p = 6.2 x 10(-4)). The enhancer variant is more frequent in the common forms of male, short-segment, and simplex families whereas multiple, rare, coding mutations are the norm in the less common and more severe forms of female, long-segment, and multiplex families. The T variant also increases penetrance in patients with rare RET coding mutations. Thus, both rare and common mutations, individually and together, make contributions to the risk of HSCR. The distribution of RET variants in diverse HSCR patients suggests a \"cellular-recessive\" genetic model where both RET alleles\\' function is compromised. The RET allelic series, and its genotype-phenotype correlations, shows that success in variant identification in complex disorders may strongly depend on which patients are studied.',\n",
       "    'mesh_terms': ['D044466:Asians',\n",
       "     'D001483:Base Sequence',\n",
       "     'D016022:Case-Control Studies',\n",
       "     'D004742:Enhancer Elements, Genetic',\n",
       "     'D005260:Female',\n",
       "     'D005787:Gene Frequency',\n",
       "     'D055106:Genome-Wide Association Study',\n",
       "     'D006239:Haplotypes',\n",
       "     'D006627:Hirschsprung Disease',\n",
       "     'D006801:Humans',\n",
       "     'D008297:Male',\n",
       "     'D009154:Mutation',\n",
       "     'D019683:Penetrance',\n",
       "     'D020641:Polymorphism, Single Nucleotide',\n",
       "     'D011485:Protein Binding',\n",
       "     'D051096:Proto-Oncogene Proteins c-ret',\n",
       "     'D055757:SOXE Transcription Factors',\n",
       "     'D012737:Sex Factors',\n",
       "     'D015533:Transcriptional Activation',\n",
       "     'D044465:Whites']},\n",
       "   'd6650562': {'score': 1,\n",
       "    'title': 'Hirschsprung disease: etiologic implications of unsuccessful prenatal diagnosis.',\n",
       "    'abstract': \"We describe an infant with Hirschsprung disease (congenital aganglionosis of the intestine) involving the colon and terminal ileum. Midtrimester prenatal diagnosis of this disorder in this infant was attempted utilizing amniotic fluid disaccharidase analyses, ultrasound, and amniography. Decreased disaccharidase activities in amniotic fluid have been reported previously in association with other forms of intestinal obstruction. At 15 weeks' gestation, normal amniotic fluid disaccharidase levels were obtained. Serial ultrasound evaluations did not indicate any pathology, and the results from amniography were inconclusive. The implication of the normal disaccharidase values is that Hirschsprung disease may in some cases result from degeneration of intestinal ganglia after 16 weeks' gestation rather than from faulty migration of neural crest cells. The inheritance of Hirschsprung disease is generally consistent with sex-modified multifactorial inheritance with a lower threshold of expression in males. The case we report has a family history of three affected first- and second-degree relatives. Autosomal dominance with variable expressivity is a possible explanation in this family.\",\n",
       "    'mesh_terms': ['D000653:Amniotic Fluid',\n",
       "     'D004186:Disaccharidases',\n",
       "     'D005260:Female',\n",
       "     'D005865:Gestational Age',\n",
       "     'D006627:Hirschsprung Disease',\n",
       "     'D006801:Humans',\n",
       "     'D007231:Infant, Newborn',\n",
       "     'D007422:Intestines',\n",
       "     'D008297:Male',\n",
       "     'D011247:Pregnancy',\n",
       "     'D011296:Prenatal Diagnosis']},\n",
       "   'd12239580': {'score': 1,\n",
       "    'title': 'Hirschsprung, RET-SOX and beyond: the challenge of examining non-mendelian traits (Review).',\n",
       "    'abstract': 'Hirschsprung disease (HSCR), or congenital intestinal aganglionosis, is a common hereditary disorder causing intestinal obstruction, thereby showing considerable phenotypic variation in conjunction with complex inheritance. Moreover, phenotypic assessment of the disease has been complicated since a subset of the observed mutations is also associated with several additional syndromic anomalies. Coding sequence mutations in e.g. RET, GDNF, EDNRB, EDN3, and SOX10 lead to long-segment (L-HSCR) as well as syndromic HSCR but fail to explain the transmission of the much more common short-segment form (S-HSCR). Furthermore, mutations in the RET gene are responsible for approximately half of the familial and some sporadic cases, strongly suggesting, on the one hand, the importance of non-coding variations and, on the other hand, that additional genes involved in the development of the enteric nervous system still await their discovery. For almost all of the identified HSCR genes incomplete penetrance of the HSCR phenotype has been reported, probably due to modifier loci. Therefore, HSCR has become a model for a complex oligo-/polygenic disorder in which the relationship between different genes creating a non-mendelian inheritance pattern still remains to be elucidated.',\n",
       "    'mesh_terms': ['D004268:DNA-Binding Proteins',\n",
       "     'D051100:Glial Cell Line-Derived Neurotrophic Factor',\n",
       "     'D006609:High Mobility Group Proteins',\n",
       "     'D006627:Hirschsprung Disease',\n",
       "     'D006801:Humans',\n",
       "     'D020412:Multifactorial Inheritance',\n",
       "     'D009414:Nerve Growth Factors',\n",
       "     'D015513:Oncogene Proteins',\n",
       "     'D051096:Proto-Oncogene Proteins c-ret',\n",
       "     'D020794:Receptor Protein-Tyrosine Kinases',\n",
       "     'D044023:Receptor, Endothelin B',\n",
       "     'D017466:Receptors, Endothelin',\n",
       "     'D055757:SOXE Transcription Factors',\n",
       "     'D014157:Transcription Factors']},\n",
       "   'd21995290': {'score': 1,\n",
       "    'title': 'Comprehensive analysis of RET common and rare variants in a series of Spanish Hirschsprung patients confirms a synergistic effect of both kinds of events.',\n",
       "    'abstract': 'BACKGROUND\\nRET is the major gene associated to Hirschsprung disease (HSCR) with differential contributions of its rare and common, coding and noncoding mutations to the multifactorial nature of this pathology. In the present study, we have performed a comprehensive study of our HSCR series evaluating the involvement of both RET rare variants (RVs) and common variants (CVs) in the context of the disease.\\n\\n\\nMETHODS\\nRET mutational screening was performed by dHPLC and direct sequencing for the identification of RVs. In addition Taqman technology was applied for the genotyping of 3 RET CVs previously associated to HSCR, including a variant lying in an enhancer domain within RET intron 1 (rs2435357). Statistical analyses were performed using the SPSS v.17.0 to analyze the distribution of the variants.\\n\\n\\nRESULTS\\nOur results confirm the strongest association to HSCR for the \"enhancer\" variant, and demonstrate a significantly higher impact of it in male versus female patients. Integration of the RET RVs and CVs analysis showed that in 91.66% of cases with both kinds of mutational events, the enhancer allele is in trans with the allele bearing the RET RV.\\n\\n\\nCONCLUSIONS\\nA gender effect exists on both the transmission and distribution of rare coding and common HSCR causing mutations. In addition, these RET CVs and RVs seem to act in a synergistic way leading to HSCR phenotype.',\n",
       "    'mesh_terms': ['D000483:Alleles',\n",
       "     'D016022:Case-Control Studies',\n",
       "     'D004252:DNA Mutational Analysis',\n",
       "     'D004742:Enhancer Elements, Genetic',\n",
       "     'D005091:Exons',\n",
       "     'D005260:Female',\n",
       "     'D005787:Gene Frequency',\n",
       "     'D056726:Genetic Association Studies',\n",
       "     'D005816:Genetic Complementation Test',\n",
       "     'D014644:Genetic Variation',\n",
       "     'D018095:Germ-Line Mutation',\n",
       "     'D006627:Hirschsprung Disease',\n",
       "     'D006801:Humans',\n",
       "     'D007438:Introns',\n",
       "     'D008297:Male',\n",
       "     'D009154:Mutation',\n",
       "     'D020641:Polymorphism, Single Nucleotide',\n",
       "     'D051096:Proto-Oncogene Proteins c-ret',\n",
       "     'D012727:Sex Characteristics',\n",
       "     'D013030:Spain']},\n",
       "   'd23001136': {'score': 1,\n",
       "    'title': \"Chromosomal and related Mendelian syndromes associated with Hirschsprung's disease.\",\n",
       "    'abstract': \"Hirschsprung's disease (HSCR) is a fairly frequent cause of intestinal obstruction in children. It is characterized as a sex-linked heterogonous disorder with variable severity and incomplete penetrance giving rise to a variable pattern of inheritance. Although Hirschsprung's disease occurs as an isolated phenotype in at least 70% of cases, it is not infrequently associated with a number of congenital abnormalities and associated syndromes, demonstrating a spectrum of congenital anomalies. Certain of these syndromic phenotypes have been linked to distinct genetic sites, indicating underlying genetic associations of the disease and probable gene-gene interaction, in its pathogenesis. These associations with HSCR include Down's syndrome and other chromosomal anomalies, Waardenburg syndrome and other Dominant sensorineural deafness, the Congenital Central Hypoventilation and Mowat-Wilson and other brain-related syndromes, as well as the MEN2 and other tumour associations. A number of other autosomal recessive syndromes include the Shah-Waardenburg, the Bardet-Biedl and Cartilage-hair hypoplasia, Goldberg-Shprintzen syndromes and other syndromes related to cholesterol and fat metabolism among others. The genetics of Hirschsprung's disease are highly complex with the majority of known genetic sites relating to the main susceptibility pathways (RET an EDNRB). Non-syndromic non-familial, short-segment HSCR appears to represent a non-Mendelian condition with variable expression and sex-dependent penetrance. Syndromic and familial forms, on the other hand, have complex patterns of inheritance and being reported as autosomal dominant, recessive and polygenic patterns of inheritance. The phenotypic variability and incomplete penetrance observed in Hirschsprung's disease could also be explained by the involvement of modifier genes, especially in its syndromic forms. In this review, we look at the chromosomal and Mendelian associations and their underlying signalling pathways, to obtain a better understanding of the pathogenetic mechanisms involved in developing aganglionosis of the distal bowel.\",\n",
       "    'mesh_terms': ['D002648:Child',\n",
       "     'D025063:Chromosome Disorders',\n",
       "     'D004314:Down Syndrome',\n",
       "     'D006627:Hirschsprung Disease',\n",
       "     'D006801:Humans',\n",
       "     'D040582:Inheritance Patterns',\n",
       "     'D013577:Syndrome']},\n",
       "   'd15617541': {'score': 1,\n",
       "    'title': \"Studying the genetics of Hirschsprung's disease: unraveling an oligogenic disorder.\",\n",
       "    'abstract': \"Hirschsprung's disease is characterized by the absence of ganglion cells in the myenteric and submucosal plexuses of the gastrointestinal tract. Genetic dissection was successful as nine genes and four loci for Hirschsprung's disease susceptibility were identified. Different approaches were used to find these loci such as classical linkage in large families, identity by descent mapping in an inbred kindred, candidate gene approaches based on naturally occurring mutant mice models, and finally the use of model-free linkage and association analyzes. In this study, we review the identification of genes and loci involved in the non-syndromic common form and syndromic Mendelian forms of Hirschsprung's disease. The majority of the identified genes are related to Mendelian syndromic forms of Hirschsprung's disease. The non-Mendelian inheritance of sporadic non-syndromic Hirschsprung's disease proved to be complex; involvement of multiple loci was demonstrated in a multiplicative model. We discuss the practical implications of the elucidation of genes associated with Hirschsprung's disease susceptibility for genetic counseling. Finally, we speculate on possible strategies to identify new genes for Hirschsprung's disease.\",\n",
       "    'mesh_terms': ['D005192:Family Health',\n",
       "     'D020022:Genetic Predisposition to Disease',\n",
       "     'D005823:Genetics',\n",
       "     'D006627:Hirschsprung Disease',\n",
       "     'D006801:Humans',\n",
       "     'D040582:Inheritance Patterns',\n",
       "     'D020412:Multifactorial Inheritance']},\n",
       "   'd8896569': {'score': 1,\n",
       "    'title': 'Germline mutations of the RET ligand GDNF are not sufficient to cause Hirschsprung disease.',\n",
       "    'abstract': 'Hirschsprung disease (HSCR, aganglionic megacolon) is a common congenital malformation leading to bowel obstruction, with an incidence of 1/5,000 live births. It is characterized by the absence of intrinsic ganglion cells in the myenteric and submucosal plexuses along variable lengths of the gastrointestinal tract. As enteric neurons are derived from the vagal neural crest, HSCR is regarded as a neurocristopathy. On the basis of a skewed sex-ratio (M/F = 4/1) and a risk to relatives much higher than the incidence in the general population, HSCR has long been regarded as a sex-modified multifactorial disorder. Accordingly, segregation analysis suggested an incompletely penetrant dominant inheritance in HSCR families with aganglionosis extending beyond the sigmoid colon. We and others have mapped a dominant gene for HSCR to chromosome 10q11.2 and have ascribed the disease to mutations in the RET proto-oncogene. However, the lack of genotype-phenotype correlation, the low penetrance and the sex-dependent effect of RET mutations supported the existence of one or more modifier gene(s) in familial HSCR. In addition, thus far, RET mutations only accounted for 50% and 15-20% of familial and sporadic HSCR patients, respectively. RET encodes a tyrosine kinase receptor whose ligand was unknown. Recently, the Glial cell line-derived neurotrophic factor (GDNF) has been identified to be a ligand for RET. Moreover, Gdnf-/- knockout mutant mice display congenital intestinal aganglionosis and renal agenesis, a phenotype very similar to the Ret-/- mouse. These data prompted us to hypothesize that mutations of the gene encoding GDNF could either cause or modulate the HSCR phenotype in some cases.',\n",
       "    'mesh_terms': ['D029721:Drosophila Proteins',\n",
       "     'D005260:Female',\n",
       "     'D018095:Germ-Line Mutation',\n",
       "     'D051100:Glial Cell Line-Derived Neurotrophic Factor',\n",
       "     'D051097:Glial Cell Line-Derived Neurotrophic Factor Receptors',\n",
       "     'D006627:Hirschsprung Disease',\n",
       "     'D006801:Humans',\n",
       "     'D008297:Male',\n",
       "     'D009414:Nerve Growth Factors',\n",
       "     'D009419:Nerve Tissue Proteins',\n",
       "     'D010375:Pedigree',\n",
       "     'D010641:Phenotype',\n",
       "     'D018807:Polymorphism, Single-Stranded Conformational',\n",
       "     'D000090063:Proto-Oncogene Mas',\n",
       "     'D011518:Proto-Oncogene Proteins',\n",
       "     'D051096:Proto-Oncogene Proteins c-ret',\n",
       "     'D020794:Receptor Protein-Tyrosine Kinases',\n",
       "     'D017422:Sequence Analysis, DNA']},\n",
       "   'd15829955': {'score': 1,\n",
       "    'title': 'A common sex-dependent mutation in a RET enhancer underlies Hirschsprung disease risk.',\n",
       "    'abstract': 'The identification of common variants that contribute to the genesis of human inherited disorders remains a significant challenge. Hirschsprung disease (HSCR) is a multifactorial, non-mendelian disorder in which rare high-penetrance coding sequence mutations in the receptor tyrosine kinase RET contribute to risk in combination with mutations at other genes. We have used family-based association studies to identify a disease interval, and integrated this with comparative and functional genomic analysis to prioritize conserved and functional elements within which mutations can be sought. We now show that a common non-coding RET variant within a conserved enhancer-like sequence in intron 1 is significantly associated with HSCR susceptibility and makes a 20-fold greater contribution to risk than rare alleles do. This mutation reduces in vitro enhancer activity markedly, has low penetrance, has different genetic effects in males and females, and explains several features of the complex inheritance pattern of HSCR. Thus, common low-penetrance variants, identified by association studies, can underlie both common and rare diseases.',\n",
       "    'mesh_terms': ['D000818:Animals',\n",
       "     'D004742:Enhancer Elements, Genetic',\n",
       "     'D005260:Female',\n",
       "     'D005787:Gene Frequency',\n",
       "     'D020022:Genetic Predisposition to Disease',\n",
       "     'D023281:Genomics',\n",
       "     'D006239:Haplotypes',\n",
       "     'D006627:Hirschsprung Disease',\n",
       "     'D006801:Humans',\n",
       "     'D015810:Linkage Disequilibrium',\n",
       "     'D008297:Male',\n",
       "     'D051379:Mice',\n",
       "     'D008969:Molecular Sequence Data',\n",
       "     'D009154:Mutation',\n",
       "     'D020641:Polymorphism, Single Nucleotide',\n",
       "     'D011518:Proto-Oncogene Proteins',\n",
       "     'D051096:Proto-Oncogene Proteins c-ret',\n",
       "     'D020794:Receptor Protein-Tyrosine Kinases',\n",
       "     'D012727:Sex Characteristics']}}}}"
      ]
     },
     "execution_count": 4,
     "metadata": {},
     "output_type": "execute_result"
    }
   ],
   "source": [
    "results[0]"
   ]
  },
  {
   "cell_type": "markdown",
   "id": "77c1f737-7143-4b7e-a88e-58c246274a50",
   "metadata": {},
   "source": [
    "## Debug functions"
   ]
  },
  {
   "cell_type": "code",
   "execution_count": 5,
   "id": "a1c1e42b-b566-4b02-9c66-0d0dad1ebb2e",
   "metadata": {},
   "outputs": [],
   "source": [
    "def find_all_single_docs(document_test):\n",
    "    documents = list(document_test.values())[0]['documents']\n",
    "    return [doc_id for doc_id, doc_data in documents.items()]"
   ]
  },
  {
   "cell_type": "code",
   "execution_count": 6,
   "id": "2868a2eb-e70e-4129-b559-42c2e5a96a51",
   "metadata": {},
   "outputs": [],
   "source": [
    "def find_failed_single_docs(document_test):\n",
    "    documents = list(document_test.values())[0]['documents']\n",
    "    return [doc_id for doc_id, doc_data in documents.items() if doc_data == 'failed']"
   ]
  },
  {
   "cell_type": "code",
   "execution_count": 7,
   "id": "0cc7ad27-abe6-4952-be96-ee82ad506c0d",
   "metadata": {},
   "outputs": [],
   "source": [
    "def find_no_abstract_single_docs(document_test):\n",
    "    documents = list(document_test.values())[0]['documents']\n",
    "    empty_abstract_docs = []\n",
    "    for doc_id, doc_data in documents.items():\n",
    "        if isinstance(doc_data, str):\n",
    "            continue\n",
    "        elif (doc_data['abstract'] == '') or (doc_data['abstract'] is None):\n",
    "            empty_abstract_docs.append(doc_id)\n",
    "            \n",
    "    return empty_abstract_docs"
   ]
  },
  {
   "cell_type": "markdown",
   "id": "ab7a6e19-c756-4d11-a925-5962061d5a5a",
   "metadata": {},
   "source": [
    "## Listing failed document ids"
   ]
  },
  {
   "cell_type": "code",
   "execution_count": 8,
   "id": "1095f196-aa37-4b1a-8ed3-1f92349dfa77",
   "metadata": {},
   "outputs": [],
   "source": [
    "all_docs =  set(list(itertools.chain.from_iterable(\n",
    "    find_all_single_docs(result) for result in results\n",
    ")))"
   ]
  },
  {
   "cell_type": "code",
   "execution_count": 9,
   "id": "e3b70d4d-aac4-404e-8d8e-e075432fd476",
   "metadata": {},
   "outputs": [],
   "source": [
    "failed_docs =  set(list(itertools.chain.from_iterable(\n",
    "    find_failed_single_docs(result) for result in results\n",
    ")))"
   ]
  },
  {
   "cell_type": "code",
   "execution_count": 10,
   "id": "f4850ac8-bc60-4a8f-9440-6ec3f7825c64",
   "metadata": {},
   "outputs": [],
   "source": [
    "no_abs_docs = set(list(itertools.chain.from_iterable(\n",
    "    find_no_abstract_single_docs(result) for result in results\n",
    ")))"
   ]
  },
  {
   "cell_type": "markdown",
   "id": "8734713b-f9b9-4b76-b06e-b86a8865c44d",
   "metadata": {},
   "source": [
    "## Review over failed id stats"
   ]
  },
  {
   "cell_type": "code",
   "execution_count": 11,
   "id": "ce934ef4-8d9b-4308-96f8-4f67c76962be",
   "metadata": {},
   "outputs": [
    {
     "data": {
      "text/plain": [
       "set()"
      ]
     },
     "execution_count": 11,
     "metadata": {},
     "output_type": "execute_result"
    }
   ],
   "source": [
    "failed_docs - all_docs"
   ]
  },
  {
   "cell_type": "code",
   "execution_count": 12,
   "id": "659726ee-1a72-41b9-b973-c255461520f8",
   "metadata": {},
   "outputs": [
    {
     "data": {
      "text/plain": [
       "(54, 36844, 0.0014656389099989143)"
      ]
     },
     "execution_count": 12,
     "metadata": {},
     "output_type": "execute_result"
    }
   ],
   "source": [
    "len(failed_docs), len(all_docs), len(failed_docs)/len(all_docs)"
   ]
  },
  {
   "cell_type": "code",
   "execution_count": 13,
   "id": "91c56575-042c-4fbe-8a69-c66789f112c5",
   "metadata": {},
   "outputs": [
    {
     "data": {
      "text/plain": [
       "set()"
      ]
     },
     "execution_count": 13,
     "metadata": {},
     "output_type": "execute_result"
    }
   ],
   "source": [
    "no_abs_docs - all_docs"
   ]
  },
  {
   "cell_type": "code",
   "execution_count": 14,
   "id": "7474015d-f7e6-4b86-a1d6-afa9aaa04c1f",
   "metadata": {},
   "outputs": [
    {
     "data": {
      "text/plain": [
       "(47, 36844, 0.001275648680924981)"
      ]
     },
     "execution_count": 14,
     "metadata": {},
     "output_type": "execute_result"
    }
   ],
   "source": [
    "len(no_abs_docs), len(all_docs), len(no_abs_docs)/len(all_docs)"
   ]
  },
  {
   "cell_type": "markdown",
   "id": "a97f3e24-8abb-400a-aa43-d1f4eb2d5258",
   "metadata": {},
   "source": [
    "## Checking if non found files in index were by elastic utils fault or indexing"
   ]
  },
  {
   "cell_type": "code",
   "execution_count": 15,
   "id": "859bc2b5-c2ae-4b36-bdf8-33a2c25b3494",
   "metadata": {
    "tags": []
   },
   "outputs": [
    {
     "name": "stderr",
     "output_type": "stream",
     "text": [
      "Check fail:   0%|                                        | 0/54 [00:00<?, ?it/s]/tmp/ipykernel_189705/802005234.py:7: DeprecationWarning: The 'body' parameter is deprecated and will be removed in a future version. Instead use individual parameters.\n",
      "  es.search(index = 'pubmed2022', body=body)\n",
      "Check fail: 100%|██████████████████████████████| 54/54 [00:00<00:00, 169.03it/s]\n"
     ]
    }
   ],
   "source": [
    "my_fails = []\n",
    "index_fails = []\n",
    "for doc in tqdm(list(failed_docs), desc='Check fail'):\n",
    "    doc_id = doc.replace('d', '')\n",
    "    body={\"query\": {\"match\": {\"pmid\" : doc_id}}}\n",
    "    resp = dict(\n",
    "        es.search(index = 'pubmed2023-old', body=body)\n",
    "    )\n",
    "    if len(resp['hits']['hits']) == 0:\n",
    "        index_fails.append(doc)\n",
    "    else:\n",
    "        my_fails.append(doc)"
   ]
  },
  {
   "cell_type": "code",
   "execution_count": 16,
   "id": "a58758f6-0fc0-4341-bbda-c8f5ee735df3",
   "metadata": {},
   "outputs": [
    {
     "data": {
      "text/plain": [
       "0"
      ]
     },
     "execution_count": 16,
     "metadata": {},
     "output_type": "execute_result"
    }
   ],
   "source": [
    "len(my_fails)"
   ]
  },
  {
   "cell_type": "code",
   "execution_count": 17,
   "id": "1cf4b253-c47b-4af3-8581-9f02f1d8046a",
   "metadata": {},
   "outputs": [
    {
     "data": {
      "text/plain": [
       "54"
      ]
     },
     "execution_count": 17,
     "metadata": {},
     "output_type": "execute_result"
    }
   ],
   "source": [
    "len(index_fails)"
   ]
  },
  {
   "cell_type": "code",
   "execution_count": 18,
   "id": "cd06fd8e-069c-4e81-804b-b115ade6a037",
   "metadata": {},
   "outputs": [
    {
     "data": {
      "text/plain": [
       "['d24305403',\n",
       " 'd21473027',\n",
       " 'd20301293',\n",
       " 'd26989023',\n",
       " 'd20301416',\n",
       " 'd20301331',\n",
       " 'd24305278',\n",
       " 'd23658991',\n",
       " 'd21952424',\n",
       " 'd20301308',\n",
       " 'd23104528',\n",
       " 'd29934319',\n",
       " 'd27924029',\n",
       " 'd29676625',\n",
       " 'd27940438',\n",
       " 'd23304742',\n",
       " 'd22787616',\n",
       " 'd20641567',\n",
       " 'd20301510',\n",
       " 'd21473029',\n",
       " 'd25383801',\n",
       " 'd22550943',\n",
       " 'd22787626',\n",
       " 'd21250223',\n",
       " 'd20301494',\n",
       " 'd22129433',\n",
       " 'd20301454',\n",
       " 'd20301427',\n",
       " 'd23833797',\n",
       " 'd33097476',\n",
       " 'd29653952',\n",
       " 'd20301779',\n",
       " 'd20007090',\n",
       " 'd24212220',\n",
       " 'd27399455',\n",
       " 'd23986914',\n",
       " 'd20301585',\n",
       " 'd20301577',\n",
       " 'd25064957',\n",
       " 'd20301628',\n",
       " 'd22855961',\n",
       " 'd27399411',\n",
       " 'd24144986',\n",
       " 'd20301466',\n",
       " 'd20301588',\n",
       " 'd20301462',\n",
       " 'd20639591',\n",
       " 'd20301420',\n",
       " 'd30242068',\n",
       " 'd27742610',\n",
       " 'd25401082',\n",
       " 'd21249951',\n",
       " 'd21413253',\n",
       " 'd23890950']"
      ]
     },
     "execution_count": 18,
     "metadata": {},
     "output_type": "execute_result"
    }
   ],
   "source": [
    "index_fails"
   ]
  },
  {
   "cell_type": "code",
   "execution_count": 19,
   "id": "79b51cce-0429-4dde-bf25-23d9cbf506b6",
   "metadata": {},
   "outputs": [
    {
     "data": {
      "text/plain": [
       "{'d10525005',\n",
       " 'd10590441',\n",
       " 'd11169342',\n",
       " 'd11339660',\n",
       " 'd11428324',\n",
       " 'd11864366',\n",
       " 'd14663844',\n",
       " 'd15332726',\n",
       " 'd15719064',\n",
       " 'd15783264',\n",
       " 'd16451554',\n",
       " 'd16477543',\n",
       " 'd16570042',\n",
       " 'd16804530',\n",
       " 'd16971728',\n",
       " 'd17315395',\n",
       " 'd17364293',\n",
       " 'd17462970',\n",
       " 'd17703631',\n",
       " 'd18422033',\n",
       " 'd18577682',\n",
       " 'd18941554',\n",
       " 'd19119983',\n",
       " 'd19809570',\n",
       " 'd20431548',\n",
       " 'd20671410',\n",
       " 'd21284896',\n",
       " 'd21445329',\n",
       " 'd21772710',\n",
       " 'd21897718',\n",
       " 'd21915623',\n",
       " 'd22375228',\n",
       " 'd22527824',\n",
       " 'd23255116',\n",
       " 'd23376948',\n",
       " 'd23455231',\n",
       " 'd23599675',\n",
       " 'd23741179',\n",
       " 'd23776883',\n",
       " 'd24132372',\n",
       " 'd24163818',\n",
       " 'd24401652',\n",
       " 'd2819350',\n",
       " 'd33201862',\n",
       " 'd4936649',\n",
       " 'd7474061',\n",
       " 'd9664617'}"
      ]
     },
     "execution_count": 19,
     "metadata": {},
     "output_type": "execute_result"
    }
   ],
   "source": [
    "no_abs_docs"
   ]
  },
  {
   "cell_type": "code",
   "execution_count": null,
   "id": "dc25683d-86ca-4f99-befd-15860267ffa0",
   "metadata": {},
   "outputs": [],
   "source": []
  }
 ],
 "metadata": {
  "kernelspec": {
   "display_name": "Python 3 (ipykernel)",
   "language": "python",
   "name": "python3"
  },
  "language_info": {
   "codemirror_mode": {
    "name": "ipython",
    "version": 3
   },
   "file_extension": ".py",
   "mimetype": "text/x-python",
   "name": "python",
   "nbconvert_exporter": "python",
   "pygments_lexer": "ipython3",
   "version": "3.9.2"
  }
 },
 "nbformat": 4,
 "nbformat_minor": 5
}
