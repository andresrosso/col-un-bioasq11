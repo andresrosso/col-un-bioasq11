{
 "cells": [
  {
   "cell_type": "markdown",
   "id": "404e87e7-c66a-446e-93e4-36ec1d9a7593",
   "metadata": {},
   "source": [
    "## Imports"
   ]
  },
  {
   "cell_type": "code",
   "execution_count": 1,
   "id": "719c8535-c297-4b3b-8cac-333da5f5e73b",
   "metadata": {},
   "outputs": [],
   "source": [
    "%load_ext autoreload\n",
    "%autoreload 2\n",
    "\n",
    "import pandas as pd\n",
    "\n",
    "from src.graphs.graph_loader import GraphDataset"
   ]
  },
  {
   "cell_type": "markdown",
   "id": "2f0e6565-e22b-4682-ace2-4ff879dc853d",
   "metadata": {},
   "source": [
    "## Params"
   ]
  },
  {
   "cell_type": "code",
   "execution_count": 2,
   "id": "ce29e047-bf37-462a-a449-792c3d1f4719",
   "metadata": {},
   "outputs": [],
   "source": [
    "LOAD_FOLDER = '/datasets/johan_tests_original_format_graphs_bm25/'\\\n",
    "    'similarity_shape_100_20__score_threshold_006__similarity_relevance_07/testset4'"
   ]
  },
  {
   "cell_type": "code",
   "execution_count": 3,
   "id": "d4113f23-6fcd-4a2a-bdec-d6ac231fcdea",
   "metadata": {},
   "outputs": [],
   "source": [
    "BATCH_SIZE = 3"
   ]
  },
  {
   "cell_type": "code",
   "execution_count": 4,
   "id": "e5aa4667-c9c8-44a4-93b8-d84b1ae16cba",
   "metadata": {},
   "outputs": [],
   "source": [
    "VAL_PERCENTAGE = 0.15\n",
    "TEST_PERCENTAGE = 0.15"
   ]
  },
  {
   "cell_type": "code",
   "execution_count": 5,
   "id": "05025972-6ea3-4c05-82c4-e73821a0eae9",
   "metadata": {},
   "outputs": [],
   "source": [
    "RELEVANCE_THRESHOLD = 10"
   ]
  },
  {
   "cell_type": "code",
   "execution_count": 6,
   "id": "a5104c46-ec63-4974-bc96-759705322167",
   "metadata": {},
   "outputs": [],
   "source": [
    "RANDOM_STATE = 42"
   ]
  },
  {
   "cell_type": "markdown",
   "id": "6d7fdd06-8d9e-467c-b239-87f0b9160932",
   "metadata": {},
   "source": [
    "## Constants"
   ]
  },
  {
   "cell_type": "code",
   "execution_count": 7,
   "id": "bcd849b8-faa3-48fd-a353-675f0e5f7f2a",
   "metadata": {},
   "outputs": [],
   "source": [
    "dataset = GraphDataset(\n",
    "    dataset_path=LOAD_FOLDER,\n",
    "    batch_size=BATCH_SIZE,\n",
    "    val_percentage=VAL_PERCENTAGE,\n",
    "    test_percentage=TEST_PERCENTAGE,\n",
    "    random_state=RANDOM_STATE,\n",
    "    score_threshold=RELEVANCE_THRESHOLD\n",
    ")"
   ]
  },
  {
   "cell_type": "code",
   "execution_count": 8,
   "id": "a38fc973-30fa-4bbe-a2b4-c9c532274614",
   "metadata": {},
   "outputs": [
    {
     "data": {
      "text/plain": [
       "count    7615.000000\n",
       "mean        0.262584\n",
       "std         0.076001\n",
       "min         0.112368\n",
       "25%         0.211094\n",
       "50%         0.248193\n",
       "75%         0.309416\n",
       "max         0.632337\n",
       "Name: score, dtype: float64"
      ]
     },
     "execution_count": 8,
     "metadata": {},
     "output_type": "execute_result"
    }
   ],
   "source": [
    "dataset.metadata[\n",
    "    dataset.metadata['origin'] != 'original'\n",
    "]['score'].describe()"
   ]
  },
  {
   "cell_type": "code",
   "execution_count": 9,
   "id": "94e163fc-c25f-431d-bbe6-80e3a67c4e46",
   "metadata": {},
   "outputs": [
    {
     "data": {
      "text/plain": [
       "<AxesSubplot:ylabel='Frequency'>"
      ]
     },
     "execution_count": 9,
     "metadata": {},
     "output_type": "execute_result"
    },
    {
     "data": {
      "image/png": "[encoded data removed]",
      "text/plain": [
       "<Figure size 432x288 with 1 Axes>"
      ]
     },
     "metadata": {
      "needs_background": "light"
     },
     "output_type": "display_data"
    }
   ],
   "source": [
    "dataset.metadata[\n",
    "    dataset.metadata['origin'] != 'original'\n",
    "]['score'].plot(kind='hist', bins=60)"
   ]
  },
  {
   "cell_type": "code",
   "execution_count": 10,
   "id": "86ed6369-f592-4a2d-8059-58986553684d",
   "metadata": {},
   "outputs": [
    {
     "data": {
      "text/plain": [
       "0.32266704"
      ]
     },
     "execution_count": 10,
     "metadata": {},
     "output_type": "execute_result"
    }
   ],
   "source": [
    "dataset.metadata[\n",
    "    dataset.metadata['origin'] != 'original'\n",
    "]['score'].quantile(0.8)"
   ]
  },
  {
   "cell_type": "code",
   "execution_count": 19,
   "id": "8d54f86f-f71d-4cb5-a6cf-4455623813cb",
   "metadata": {},
   "outputs": [
    {
     "name": "stdout",
     "output_type": "stream",
     "text": [
      "********************\n",
      "62\n",
      "train 0.0    4591\n",
      "1.0     620\n",
      "Name: label, dtype: int64\n",
      "********************\n",
      "14\n",
      "val 0.0    1088\n",
      "1.0     140\n",
      "Name: label, dtype: int64\n",
      "********************\n",
      "14\n",
      "test 0.0    1036\n",
      "1.0     140\n",
      "Name: label, dtype: int64\n"
     ]
    }
   ],
   "source": [
    "for split,df in dataset.splits.items():\n",
    "    print('*' * 20)\n",
    "    print(df['question_id'].nunique())\n",
    "    print(split, df['label'].value_counts())\n"
   ]
  },
  {
   "cell_type": "code",
   "execution_count": 12,
   "id": "08254f99-f79a-4152-bbc2-ac6ee4fd8d5b",
   "metadata": {},
   "outputs": [
    {
     "name": "stdout",
     "output_type": "stream",
     "text": [
      "DataBatch(x=[300, 20], edge_index=[2, 29290], y=[3], batch=[300], ptr=[4])\n"
     ]
    }
   ],
   "source": [
    "train_batch_generator = dataset.get_batch('train')\n",
    "for i, b in enumerate(train_batch_generator):\n",
    "    print(b)\n",
    "    break"
   ]
  },
  {
   "cell_type": "code",
   "execution_count": 13,
   "id": "027fdde3-1061-41de-950b-e95beb2a22e1",
   "metadata": {},
   "outputs": [
    {
     "name": "stdout",
     "output_type": "stream",
     "text": [
      "DataBatch(x=[300, 20], edge_index=[2, 29439], y=[3], batch=[300], ptr=[4])\n"
     ]
    }
   ],
   "source": [
    "val_batch_generator = dataset.get_batch('val')\n",
    "for i, b in enumerate(val_batch_generator):\n",
    "    print(b)\n",
    "    break"
   ]
  },
  {
   "cell_type": "code",
   "execution_count": 14,
   "id": "049bb595-370f-4bda-a6d9-1c21881f7746",
   "metadata": {},
   "outputs": [
    {
     "name": "stdout",
     "output_type": "stream",
     "text": [
      "DataBatch(x=[300, 20], edge_index=[2, 29298], y=[3], batch=[300], ptr=[4])\n"
     ]
    }
   ],
   "source": [
    "test_batch_generator = dataset.get_batch('test')\n",
    "for i, b in enumerate(test_batch_generator):\n",
    "    print(b)\n",
    "    break"
   ]
  }
 ],
 "metadata": {
  "kernelspec": {
   "display_name": "torch1.9 [conda env:torch1.9]",
   "language": "python",
   "name": "conda-env-torch1.9-torch1.9"
  },
  "language_info": {
   "codemirror_mode": {
    "name": "ipython",
    "version": 3
   },
   "file_extension": ".py",
   "mimetype": "text/x-python",
   "name": "python",
   "nbconvert_exporter": "python",
   "pygments_lexer": "ipython3",
   "version": "3.9.7"
  }
 },
 "nbformat": 4,
 "nbformat_minor": 5
}
