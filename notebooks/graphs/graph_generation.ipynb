{
 "cells": [
  {
   "cell_type": "markdown",
   "id": "dbd28360-16c6-4ac8-9635-2059e3dbadba",
   "metadata": {},
   "source": [
    "## Imports"
   ]
  },
  {
   "cell_type": "code",
   "execution_count": 1,
   "id": "aedf86e5-01c0-4491-a9ee-78738241f11f",
   "metadata": {},
   "outputs": [],
   "source": [
    "%load_ext autoreload\n",
    "%autoreload 2\n",
    "\n",
    "from src.elastic_search_utils.elastic_utils import load_json, save_json\n",
    "from src.cemb_bm25.centroid_retrieval import load_bio_w2vec_model\n",
    "from src.graphs import graphs_embedding"
   ]
  },
  {
   "cell_type": "markdown",
   "id": "8b5d25c1-0272-4e5b-94b0-5dd4581d4e38",
   "metadata": {},
   "source": [
    "## Parameters"
   ]
  },
  {
   "cell_type": "code",
   "execution_count": 2,
   "id": "3ebbb652-1ebe-4d7f-b864-50c3e65891f8",
   "metadata": {},
   "outputs": [],
   "source": [
    "# Cleaned dictionary path\n",
    "ENTITY_DICTIONARY = '/datasets/johan_tests_original_format_centroid/merged_training_docs/test_entity_10b-testset3.json'\n",
    "\n",
    "# Data nature (training-test)\n",
    "DATA_NATURE = 'test'"
   ]
  },
  {
   "cell_type": "code",
   "execution_count": 3,
   "id": "79592430-ebf1-417e-8b33-403d6612a8ee",
   "metadata": {},
   "outputs": [],
   "source": [
    "LOADING_FOLDER = '/datasets/johan_tests_original_format_centroid/merged_training_docs'\n",
    "\n",
    "LOADING_ABSTRACT_W2V_PATH = f'{LOADING_FOLDER}/Bio_Word2Vec_doc_abstract_model_10b_train.bin'\n",
    "LOADING_TITLE_W2V_PATH = f'{LOADING_FOLDER}/Bio_Word2Vec_doc_title_model_10b_train.bin'\n",
    "LOADING_QUESTION_W2V_PATH = f'{LOADING_FOLDER}/Bio_Word2Vec_doc_question_model_10b_train.bin'"
   ]
  },
  {
   "cell_type": "code",
   "execution_count": 4,
   "id": "88c725da-dabd-4087-9383-27e61b575db4",
   "metadata": {},
   "outputs": [],
   "source": [
    "BASE_SAVING_FOLDER = '/datasets/johan_tests_original_format_graphs'"
   ]
  },
  {
   "cell_type": "code",
   "execution_count": 5,
   "id": "8df6995c-0793-4b03-b6b9-bfaad1b7ac2d",
   "metadata": {},
   "outputs": [],
   "source": [
    "# Max number of documents in graph\n",
    "MAX_DOCUMENTS_GRAPH = 100\n",
    "\n",
    "# Max entities in graph\n",
    "MAX_ENTITIES_GRAPH = 20\n",
    "\n",
    "# similarity matrix size\n",
    "SIMILARITY_SHAPE = (MAX_DOCUMENTS_GRAPH, MAX_ENTITIES_GRAPH)"
   ]
  },
  {
   "cell_type": "code",
   "execution_count": 6,
   "id": "157843be-fc7a-448b-b9e0-bd08fee9ba29",
   "metadata": {},
   "outputs": [],
   "source": [
    "# Threshold for relevance of documents\n",
    "SCORE_THRESHOLD = 0.06"
   ]
  },
  {
   "cell_type": "code",
   "execution_count": 7,
   "id": "065468de-78d8-4712-a675-289848752298",
   "metadata": {},
   "outputs": [],
   "source": [
    "# defined value for relevance\n",
    "SIMILARITY_RELEVANCE = 0.7"
   ]
  },
  {
   "cell_type": "code",
   "execution_count": 8,
   "id": "8abcb903-f344-4870-a75b-a81adf65ea01",
   "metadata": {},
   "outputs": [
    {
     "data": {
      "text/plain": [
       "'/datasets/johan_tests_original_format_graphs/similarity_shape_100_20__score_threshold_006__similarity_relevance_07/test'"
      ]
     },
     "execution_count": 8,
     "metadata": {},
     "output_type": "execute_result"
    }
   ],
   "source": [
    "SAVING_FOLDER = (\n",
    "    f'{BASE_SAVING_FOLDER}/' +\n",
    "    f'similarity_shape_{MAX_DOCUMENTS_GRAPH}_{MAX_ENTITIES_GRAPH}__' +\n",
    "    f'score_threshold_{SCORE_THRESHOLD}__' +\n",
    "    f'similarity_relevance_{SIMILARITY_RELEVANCE}/{DATA_NATURE}'\n",
    ").replace('.','')\n",
    "SAVING_FOLDER"
   ]
  },
  {
   "cell_type": "markdown",
   "id": "ba2163bb-8316-4814-bba7-53a0b4814dbe",
   "metadata": {},
   "source": [
    "## Constants"
   ]
  },
  {
   "cell_type": "code",
   "execution_count": 9,
   "id": "6454084e-c302-4cbe-a3d5-e02654b943e6",
   "metadata": {},
   "outputs": [],
   "source": [
    "questions = load_json(ENTITY_DICTIONARY)"
   ]
  },
  {
   "cell_type": "code",
   "execution_count": 10,
   "id": "11294856-cd15-4d2c-975a-714554728d75",
   "metadata": {},
   "outputs": [],
   "source": [
    "question_w2vec_model = load_bio_w2vec_model(LOADING_QUESTION_W2V_PATH)"
   ]
  },
  {
   "cell_type": "code",
   "execution_count": 11,
   "id": "de675832-fac9-463c-a1df-6c2420c8aaf6",
   "metadata": {},
   "outputs": [],
   "source": [
    "abstract_w2vec_model = load_bio_w2vec_model(LOADING_ABSTRACT_W2V_PATH)"
   ]
  },
  {
   "cell_type": "code",
   "execution_count": 12,
   "id": "2a3e3d52-96a0-4a84-a36b-8be24751b880",
   "metadata": {},
   "outputs": [],
   "source": [
    "title_w2vec_model = load_bio_w2vec_model(LOADING_TITLE_W2V_PATH)"
   ]
  },
  {
   "cell_type": "code",
   "execution_count": 13,
   "id": "2c30c26c-bdf3-4ff6-9797-3c465fbedb1a",
   "metadata": {},
   "outputs": [],
   "source": [
    "models = {\n",
    "    'question': question_w2vec_model,\n",
    "    'abstract': abstract_w2vec_model,\n",
    "    'title': title_w2vec_model\n",
    "}"
   ]
  },
  {
   "cell_type": "markdown",
   "id": "564ff6b5-fda2-426d-bb33-aed962457acd",
   "metadata": {},
   "source": [
    "### Saving graphs to saving folder"
   ]
  },
  {
   "cell_type": "code",
   "execution_count": 14,
   "id": "154667b1-9dfe-4519-a298-796412b2c860",
   "metadata": {},
   "outputs": [
    {
     "name": "stderr",
     "output_type": "stream",
     "text": [
      "Storing question graphs to /datasets/johan_tests_original_format_graphs/similarity_shape_100_20__score_threshold_006__similarity_relevance_07/test: 100%|██████████████████████████| 90/90 [01:08<00:00,  1.31it/s]\n"
     ]
    }
   ],
   "source": [
    "graphs_embedding.make_all_question_graphs(\n",
    "    questions=questions,\n",
    "    score_threshold=SCORE_THRESHOLD,\n",
    "    similarity_relevance=SIMILARITY_RELEVANCE,\n",
    "    similarity_shape=SIMILARITY_SHAPE,\n",
    "    models=models,\n",
    "    saving_path=SAVING_FOLDER\n",
    ")"
   ]
  },
  {
   "cell_type": "code",
   "execution_count": null,
   "id": "99e1d1c7-1c50-4efc-8704-d77cc58ccde6",
   "metadata": {},
   "outputs": [],
   "source": []
  },
  {
   "cell_type": "code",
   "execution_count": null,
   "id": "c0b8212a-6ca8-4b3d-9b30-36cb3505cfbf",
   "metadata": {},
   "outputs": [],
   "source": []
  }
 ],
 "metadata": {
  "kernelspec": {
   "display_name": "torch1.9 [conda env:torch1.9]",
   "language": "python",
   "name": "conda-env-torch1.9-torch1.9"
  },
  "language_info": {
   "codemirror_mode": {
    "name": "ipython",
    "version": 3
   },
   "file_extension": ".py",
   "mimetype": "text/x-python",
   "name": "python",
   "nbconvert_exporter": "python",
   "pygments_lexer": "ipython3",
   "version": "3.9.7"
  }
 },
 "nbformat": 4,
 "nbformat_minor": 5
}
