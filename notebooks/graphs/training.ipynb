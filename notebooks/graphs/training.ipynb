{
 "cells": [
  {
   "cell_type": "markdown",
   "id": "690e73e9-a2cd-40e5-b400-e797348fdaa2",
   "metadata": {},
   "source": [
    "## Imports"
   ]
  },
  {
   "cell_type": "code",
   "execution_count": 1,
   "id": "20053f25-8b86-4a42-b04a-064abe8d5917",
   "metadata": {},
   "outputs": [],
   "source": [
    "%load_ext autoreload\n",
    "%autoreload 2\n",
    "\n",
    "import torch\n",
    "import pandas as pd\n",
    "import numpy as np\n",
    "from tqdm import tqdm\n",
    "import torch.nn.functional as F\n",
    "\n",
    "from sklearn.utils.class_weight import compute_class_weight\n",
    "from sklearn.metrics import recall_score, precision_score\n",
    "\n",
    "from src.models.model import GraphClassifier\n",
    "from src.graphs.graph_loader import GraphDataset\n",
    "from src.elastic_search_utils.elastic_utils import save_json"
   ]
  },
  {
   "cell_type": "markdown",
   "id": "be5acee8-c612-4e68-9ea9-9bb808f33027",
   "metadata": {},
   "source": [
    "## Params"
   ]
  },
  {
   "cell_type": "code",
   "execution_count": 2,
   "id": "65069a42-bb36-40b1-9261-3b37f7ace712",
   "metadata": {},
   "outputs": [],
   "source": [
    "LOAD_FOLDER = '/datasets/johan_tests_original_format_graphs/similarity_shape_100_20__score_threshold_006__similarity_relevance_07/training'"
   ]
  },
  {
   "cell_type": "code",
   "execution_count": 3,
   "id": "d0e1f9d9-3217-4b8a-ae50-72be1117997d",
   "metadata": {},
   "outputs": [],
   "source": [
    "SAVING_FOLDER = '/datasets/johan_tests_models/v1'"
   ]
  },
  {
   "cell_type": "code",
   "execution_count": 4,
   "id": "c7985f9c-e1a2-404f-acd1-a4f352e49ded",
   "metadata": {},
   "outputs": [],
   "source": [
    "SAVING_MODEL_PATH = f'{SAVING_FOLDER}/model.pth'\n",
    "SAVING_METRICS_PATH = f'{SAVING_FOLDER}/metrics.json'"
   ]
  },
  {
   "cell_type": "markdown",
   "id": "74f41924-7e50-456b-99d7-ee5bbe2bee60",
   "metadata": {},
   "source": [
    "## Dataset params"
   ]
  },
  {
   "cell_type": "code",
   "execution_count": 5,
   "id": "da4249fb-c80d-48ad-9510-8cdada25f226",
   "metadata": {},
   "outputs": [],
   "source": [
    "BATCH_SIZE = 64"
   ]
  },
  {
   "cell_type": "code",
   "execution_count": 6,
   "id": "d4735dc2-baee-4638-9c83-132ed68e5d7a",
   "metadata": {},
   "outputs": [],
   "source": [
    "VAL_PERCENTAGE = 0.15\n",
    "TEST_PERCENTAGE = 0.15"
   ]
  },
  {
   "cell_type": "code",
   "execution_count": 7,
   "id": "771215af-1870-4070-9e10-01c9f2ea9524",
   "metadata": {},
   "outputs": [],
   "source": [
    "RELEVANCE_THRESHOLD = 0.04  # Keep 20% of elastic most relevant"
   ]
  },
  {
   "cell_type": "code",
   "execution_count": 8,
   "id": "10f9fd91-9a7d-4bc8-baff-ee4ca62e8095",
   "metadata": {},
   "outputs": [],
   "source": [
    "RANDOM_STATE = 42"
   ]
  },
  {
   "cell_type": "code",
   "execution_count": 9,
   "id": "7a0d5370-2aec-499d-b7a2-4d52d688632e",
   "metadata": {},
   "outputs": [
    {
     "data": {
      "text/plain": [
       "<torch._C.Generator at 0x7fd0840c8950>"
      ]
     },
     "execution_count": 9,
     "metadata": {},
     "output_type": "execute_result"
    }
   ],
   "source": [
    "torch.manual_seed(RANDOM_STATE)"
   ]
  },
  {
   "cell_type": "markdown",
   "id": "3c6ef1c2-cbe9-4fab-9ba4-02f7575c9aa2",
   "metadata": {},
   "source": [
    "## Model params"
   ]
  },
  {
   "cell_type": "code",
   "execution_count": 10,
   "id": "cda78824-93f7-4dff-bc0d-770c1dd8a285",
   "metadata": {},
   "outputs": [],
   "source": [
    "INPUT_DIM = 20\n",
    "NODES_PER_GRAPH = 100\n",
    "HIDDEN_CHANNELS = 16\n",
    "OUTPUT_DIM = 2  # N_CLASSES\n",
    "DROPOUT = 0.5"
   ]
  },
  {
   "cell_type": "code",
   "execution_count": 11,
   "id": "dbf0d5fe-eda1-4cb3-88e4-a0dae6338ee2",
   "metadata": {},
   "outputs": [],
   "source": [
    "DEVICE = torch.device('cuda')"
   ]
  },
  {
   "cell_type": "code",
   "execution_count": 12,
   "id": "49c2c473-6127-45d9-afa2-2bf1f3fc0a96",
   "metadata": {},
   "outputs": [],
   "source": [
    "EPOCHS = 100"
   ]
  },
  {
   "cell_type": "markdown",
   "id": "0113000d-1a53-4d17-94f1-bf8d250f84f4",
   "metadata": {},
   "source": [
    "## Constants"
   ]
  },
  {
   "cell_type": "code",
   "execution_count": 13,
   "id": "8f5a8993-7b93-4d8d-91e7-2462ac9b3e7b",
   "metadata": {},
   "outputs": [],
   "source": [
    "dataset = GraphDataset(\n",
    "    dataset_path=LOAD_FOLDER,\n",
    "    batch_size=BATCH_SIZE,\n",
    "    val_percentage=VAL_PERCENTAGE,\n",
    "    test_percentage=TEST_PERCENTAGE,\n",
    "    random_state=RANDOM_STATE,\n",
    "    score_threshold=RELEVANCE_THRESHOLD\n",
    ")"
   ]
  },
  {
   "cell_type": "code",
   "execution_count": 14,
   "id": "6ec89230-fb58-43fc-ae1a-6fde5b2f7e0e",
   "metadata": {},
   "outputs": [],
   "source": [
    "model = GraphClassifier(\n",
    "    input_dims=INPUT_DIM,\n",
    "    nodes_per_graph=NODES_PER_GRAPH,\n",
    "    hidden_channels=HIDDEN_CHANNELS,\n",
    "    output_dim=OUTPUT_DIM,\n",
    "    dropout=DROPOUT\n",
    ")\n",
    "\n",
    "model = model.to(DEVICE)"
   ]
  },
  {
   "cell_type": "code",
   "execution_count": 15,
   "id": "cacfc877-a1fd-445b-8636-17f1520c4edc",
   "metadata": {},
   "outputs": [
    {
     "data": {
      "text/plain": [
       "tensor([0.7232, 1.6202], device='cuda:0')"
      ]
     },
     "execution_count": 15,
     "metadata": {},
     "output_type": "execute_result"
    }
   ],
   "source": [
    "flat_labels = dataset.metadata['label'].tolist()\n",
    "\n",
    "class_weights = compute_class_weight(\n",
    "    'balanced', classes=[0,1], y=flat_labels\n",
    ")\n",
    "class_weights = torch.FloatTensor(class_weights)\n",
    "\n",
    "# MU = 12\n",
    "# class_weights = torch.FloatTensor([  # GDOT WEIGHTS\n",
    "#     np.log((MU*7173.0/5886.0) + 1),\n",
    "#     np.log((MU*7173.0/1287.0) + 1)\n",
    "# ])\n",
    "class_weights = class_weights.to(DEVICE)\n",
    "class_weights"
   ]
  },
  {
   "cell_type": "code",
   "execution_count": 16,
   "id": "fcb6e55d-5c95-462b-a7b9-09d158d90e19",
   "metadata": {},
   "outputs": [],
   "source": [
    "criterion = torch.nn.NLLLoss(\n",
    "    weight=class_weights\n",
    ")\n",
    "criterion = criterion.to(DEVICE)"
   ]
  },
  {
   "cell_type": "code",
   "execution_count": 17,
   "id": "98ba41f1-e4ea-42a6-9d7c-a0e1fbd925fe",
   "metadata": {},
   "outputs": [],
   "source": [
    "optimizer = torch.optim.Adam(model.parameters(), lr=0.0001, weight_decay=5e-3)"
   ]
  },
  {
   "cell_type": "code",
   "execution_count": null,
   "id": "2386bfa6-7333-4386-8d50-1e56ccb279b4",
   "metadata": {},
   "outputs": [],
   "source": []
  },
  {
   "cell_type": "markdown",
   "id": "c4b0b4ab-2d50-45f2-a4c7-d2614d43d673",
   "metadata": {},
   "source": [
    "## Training loop"
   ]
  },
  {
   "cell_type": "code",
   "execution_count": 18,
   "id": "affb1677-8ffb-42e9-83f8-496a7012c59a",
   "metadata": {
    "scrolled": true,
    "tags": []
   },
   "outputs": [
    {
     "name": "stderr",
     "output_type": "stream",
     "text": [
      "loss = 0.6931470632553101: : 4290it [11:01,  6.48it/s]\n"
     ]
    },
    {
     "name": "stdout",
     "output_type": "stream",
     "text": [
      "EPOCH LOSS: 0.6932861921253738\n"
     ]
    },
    {
     "name": "stderr",
     "output_type": "stream",
     "text": [
      "loss = inf: 908it [01:55,  7.86it/s]\n",
      "/datasets/anaconda3/envs/torch1.9/lib/python3.9/site-packages/sklearn/metrics/_classification.py:1248: UndefinedMetricWarning: Precision is ill-defined and being set to 0.0 due to no predicted samples. Use `zero_division` parameter to control this behavior.\n",
      "  _warn_prf(average, modifier, msg_start, len(result))\n"
     ]
    },
    {
     "name": "stdout",
     "output_type": "stream",
     "text": [
      "Value counts 0    58068\n",
      "dtype: int64\n",
      "Recall 0.0\n",
      "Precision 0.0\n",
      "Accuracy: 0.7018\n"
     ]
    },
    {
     "name": "stderr",
     "output_type": "stream",
     "text": [
      "loss = 0.6931470632553101: : 4290it [11:30,  6.22it/s]\n"
     ]
    },
    {
     "name": "stdout",
     "output_type": "stream",
     "text": [
      "EPOCH LOSS: 0.6931470574198902\n"
     ]
    },
    {
     "name": "stderr",
     "output_type": "stream",
     "text": [
      "loss = inf: 908it [01:58,  7.64it/s]\n",
      "/datasets/anaconda3/envs/torch1.9/lib/python3.9/site-packages/sklearn/metrics/_classification.py:1248: UndefinedMetricWarning: Precision is ill-defined and being set to 0.0 due to no predicted samples. Use `zero_division` parameter to control this behavior.\n",
      "  _warn_prf(average, modifier, msg_start, len(result))\n"
     ]
    },
    {
     "name": "stdout",
     "output_type": "stream",
     "text": [
      "Value counts 0    58068\n",
      "dtype: int64\n",
      "Recall 0.0\n",
      "Precision 0.0\n",
      "Accuracy: 0.7018\n"
     ]
    },
    {
     "name": "stderr",
     "output_type": "stream",
     "text": [
      "loss = 0.6931470632553101: : 239it [00:39,  6.06it/s]\n"
     ]
    },
    {
     "ename": "KeyboardInterrupt",
     "evalue": "",
     "output_type": "error",
     "traceback": [
      "\u001b[0;31m---------------------------------------------------------------------------\u001b[0m",
      "\u001b[0;31mKeyboardInterrupt\u001b[0m                         Traceback (most recent call last)",
      "\u001b[0;32m/tmp/ipykernel_369301/3292639714.py\u001b[0m in \u001b[0;36m<module>\u001b[0;34m\u001b[0m\n\u001b[1;32m     11\u001b[0m \u001b[0;34m\u001b[0m\u001b[0m\n\u001b[1;32m     12\u001b[0m     \u001b[0mepoch_loss\u001b[0m \u001b[0;34m=\u001b[0m \u001b[0;36m0\u001b[0m\u001b[0;34m\u001b[0m\u001b[0;34m\u001b[0m\u001b[0m\n\u001b[0;32m---> 13\u001b[0;31m     \u001b[0;32mfor\u001b[0m \u001b[0mn_batch\u001b[0m\u001b[0;34m,\u001b[0m \u001b[0mbatch\u001b[0m \u001b[0;32min\u001b[0m \u001b[0menumerate\u001b[0m\u001b[0;34m(\u001b[0m\u001b[0mbatch_pbar\u001b[0m\u001b[0;34m)\u001b[0m\u001b[0;34m:\u001b[0m\u001b[0;34m\u001b[0m\u001b[0;34m\u001b[0m\u001b[0m\n\u001b[0m\u001b[1;32m     14\u001b[0m         \u001b[0mbatch\u001b[0m \u001b[0;34m=\u001b[0m \u001b[0mbatch\u001b[0m\u001b[0;34m.\u001b[0m\u001b[0mto\u001b[0m\u001b[0;34m(\u001b[0m\u001b[0mDEVICE\u001b[0m\u001b[0;34m)\u001b[0m\u001b[0;34m\u001b[0m\u001b[0;34m\u001b[0m\u001b[0m\n\u001b[1;32m     15\u001b[0m         \u001b[0moptimizer\u001b[0m\u001b[0;34m.\u001b[0m\u001b[0mstep\u001b[0m\u001b[0;34m(\u001b[0m\u001b[0;34m)\u001b[0m\u001b[0;34m\u001b[0m\u001b[0;34m\u001b[0m\u001b[0m\n",
      "\u001b[0;32m/datasets/anaconda3/envs/torch1.9/lib/python3.9/site-packages/tqdm/std.py\u001b[0m in \u001b[0;36m__iter__\u001b[0;34m(self)\u001b[0m\n\u001b[1;32m   1178\u001b[0m \u001b[0;34m\u001b[0m\u001b[0m\n\u001b[1;32m   1179\u001b[0m         \u001b[0;32mtry\u001b[0m\u001b[0;34m:\u001b[0m\u001b[0;34m\u001b[0m\u001b[0;34m\u001b[0m\u001b[0m\n\u001b[0;32m-> 1180\u001b[0;31m             \u001b[0;32mfor\u001b[0m \u001b[0mobj\u001b[0m \u001b[0;32min\u001b[0m \u001b[0miterable\u001b[0m\u001b[0;34m:\u001b[0m\u001b[0;34m\u001b[0m\u001b[0;34m\u001b[0m\u001b[0m\n\u001b[0m\u001b[1;32m   1181\u001b[0m                 \u001b[0;32myield\u001b[0m \u001b[0mobj\u001b[0m\u001b[0;34m\u001b[0m\u001b[0;34m\u001b[0m\u001b[0m\n\u001b[1;32m   1182\u001b[0m                 \u001b[0;31m# Update and possibly print the progressbar.\u001b[0m\u001b[0;34m\u001b[0m\u001b[0;34m\u001b[0m\u001b[0m\n",
      "\u001b[0;32m~/Documentos/bioASQ2022/repo/col-un-bioasq10/src/graphs/graph_loader.py\u001b[0m in \u001b[0;36mget_batch\u001b[0;34m(self, split_type)\u001b[0m\n\u001b[1;32m    161\u001b[0m                 batch_graphs = self.__get_batch_graphs(\n\u001b[1;32m    162\u001b[0m                     \u001b[0mbatch_paths\u001b[0m\u001b[0;34m\u001b[0m\u001b[0;34m\u001b[0m\u001b[0m\n\u001b[0;32m--> 163\u001b[0;31m                 )\n\u001b[0m\u001b[1;32m    164\u001b[0m \u001b[0;34m\u001b[0m\u001b[0m\n\u001b[1;32m    165\u001b[0m                 \u001b[0;32myield\u001b[0m \u001b[0mbatch_graphs\u001b[0m\u001b[0;34m\u001b[0m\u001b[0;34m\u001b[0m\u001b[0m\n",
      "\u001b[0;32m~/Documentos/bioASQ2022/repo/col-un-bioasq10/src/graphs/graph_loader.py\u001b[0m in \u001b[0;36m__get_batch_graphs\u001b[0;34m(self, batch_paths)\u001b[0m\n\u001b[1;32m    127\u001b[0m         \u001b[0mgraphs\u001b[0m \u001b[0;34m=\u001b[0m \u001b[0;34m[\u001b[0m\u001b[0;34m]\u001b[0m\u001b[0;34m\u001b[0m\u001b[0;34m\u001b[0m\u001b[0m\n\u001b[1;32m    128\u001b[0m         \u001b[0;32mfor\u001b[0m \u001b[0mpath\u001b[0m \u001b[0;32min\u001b[0m \u001b[0mbatch_paths\u001b[0m\u001b[0;34m:\u001b[0m\u001b[0;34m\u001b[0m\u001b[0;34m\u001b[0m\u001b[0m\n\u001b[0;32m--> 129\u001b[0;31m             example_graph = self.__get_example_graph(\n\u001b[0m\u001b[1;32m    130\u001b[0m                 \u001b[0mpath\u001b[0m\u001b[0;34m\u001b[0m\u001b[0;34m\u001b[0m\u001b[0m\n\u001b[1;32m    131\u001b[0m             )\n",
      "\u001b[0;32m~/Documentos/bioASQ2022/repo/col-un-bioasq10/src/graphs/graph_loader.py\u001b[0m in \u001b[0;36m__get_example_graph\u001b[0;34m(self, path)\u001b[0m\n\u001b[1;32m    114\u001b[0m \u001b[0;34m\u001b[0m\u001b[0m\n\u001b[1;32m    115\u001b[0m     \u001b[0;32mdef\u001b[0m \u001b[0m__get_example_graph\u001b[0m\u001b[0;34m(\u001b[0m\u001b[0mself\u001b[0m\u001b[0;34m,\u001b[0m \u001b[0mpath\u001b[0m\u001b[0;34m)\u001b[0m\u001b[0;34m:\u001b[0m\u001b[0;34m\u001b[0m\u001b[0;34m\u001b[0m\u001b[0m\n\u001b[0;32m--> 116\u001b[0;31m         \u001b[0mraw_graph\u001b[0m \u001b[0;34m=\u001b[0m \u001b[0mload_json\u001b[0m\u001b[0;34m(\u001b[0m\u001b[0mpath\u001b[0m\u001b[0;34m)\u001b[0m\u001b[0;34m\u001b[0m\u001b[0;34m\u001b[0m\u001b[0m\n\u001b[0m\u001b[1;32m    117\u001b[0m         raw_graph['label'] = self.__relabel_document(\n\u001b[1;32m    118\u001b[0m             \u001b[0mraw_graph\u001b[0m\u001b[0;34m,\u001b[0m \u001b[0mself\u001b[0m\u001b[0;34m.\u001b[0m\u001b[0mscore_threshold\u001b[0m\u001b[0;34m\u001b[0m\u001b[0;34m\u001b[0m\u001b[0m\n",
      "\u001b[0;32m~/Documentos/bioASQ2022/repo/col-un-bioasq10/src/elastic_search_utils/elastic_utils.py\u001b[0m in \u001b[0;36mload_json\u001b[0;34m(path)\u001b[0m\n\u001b[1;32m     20\u001b[0m \u001b[0;32mdef\u001b[0m \u001b[0mload_json\u001b[0m\u001b[0;34m(\u001b[0m\u001b[0mpath\u001b[0m\u001b[0;34m)\u001b[0m\u001b[0;34m:\u001b[0m\u001b[0;34m\u001b[0m\u001b[0;34m\u001b[0m\u001b[0m\n\u001b[1;32m     21\u001b[0m     \u001b[0;32mwith\u001b[0m \u001b[0mopen\u001b[0m\u001b[0;34m(\u001b[0m\u001b[0mpath\u001b[0m\u001b[0;34m,\u001b[0m \u001b[0;34m'r'\u001b[0m\u001b[0;34m)\u001b[0m \u001b[0;32mas\u001b[0m \u001b[0mfile\u001b[0m\u001b[0;34m:\u001b[0m\u001b[0;34m\u001b[0m\u001b[0;34m\u001b[0m\u001b[0m\n\u001b[0;32m---> 22\u001b[0;31m         \u001b[0;32mreturn\u001b[0m \u001b[0mjson\u001b[0m\u001b[0;34m.\u001b[0m\u001b[0mload\u001b[0m\u001b[0;34m(\u001b[0m\u001b[0mfile\u001b[0m\u001b[0;34m)\u001b[0m\u001b[0;34m\u001b[0m\u001b[0;34m\u001b[0m\u001b[0m\n\u001b[0m\u001b[1;32m     23\u001b[0m \u001b[0;34m\u001b[0m\u001b[0m\n\u001b[1;32m     24\u001b[0m \u001b[0;32mdef\u001b[0m \u001b[0msave_json\u001b[0m\u001b[0;34m(\u001b[0m\u001b[0mdata\u001b[0m\u001b[0;34m,\u001b[0m \u001b[0mpath\u001b[0m\u001b[0;34m)\u001b[0m\u001b[0;34m:\u001b[0m\u001b[0;34m\u001b[0m\u001b[0;34m\u001b[0m\u001b[0m\n",
      "\u001b[0;32m/datasets/anaconda3/envs/torch1.9/lib/python3.9/json/__init__.py\u001b[0m in \u001b[0;36mload\u001b[0;34m(fp, cls, object_hook, parse_float, parse_int, parse_constant, object_pairs_hook, **kw)\u001b[0m\n\u001b[1;32m    291\u001b[0m     \u001b[0mkwarg\u001b[0m\u001b[0;34m;\u001b[0m \u001b[0motherwise\u001b[0m\u001b[0;31m \u001b[0m\u001b[0;31m`\u001b[0m\u001b[0;31m`\u001b[0m\u001b[0mJSONDecoder\u001b[0m\u001b[0;31m`\u001b[0m\u001b[0;31m`\u001b[0m \u001b[0;32mis\u001b[0m \u001b[0mused\u001b[0m\u001b[0;34m.\u001b[0m\u001b[0;34m\u001b[0m\u001b[0;34m\u001b[0m\u001b[0m\n\u001b[1;32m    292\u001b[0m     \"\"\"\n\u001b[0;32m--> 293\u001b[0;31m     return loads(fp.read(),\n\u001b[0m\u001b[1;32m    294\u001b[0m         \u001b[0mcls\u001b[0m\u001b[0;34m=\u001b[0m\u001b[0mcls\u001b[0m\u001b[0;34m,\u001b[0m \u001b[0mobject_hook\u001b[0m\u001b[0;34m=\u001b[0m\u001b[0mobject_hook\u001b[0m\u001b[0;34m,\u001b[0m\u001b[0;34m\u001b[0m\u001b[0;34m\u001b[0m\u001b[0m\n\u001b[1;32m    295\u001b[0m         \u001b[0mparse_float\u001b[0m\u001b[0;34m=\u001b[0m\u001b[0mparse_float\u001b[0m\u001b[0;34m,\u001b[0m \u001b[0mparse_int\u001b[0m\u001b[0;34m=\u001b[0m\u001b[0mparse_int\u001b[0m\u001b[0;34m,\u001b[0m\u001b[0;34m\u001b[0m\u001b[0;34m\u001b[0m\u001b[0m\n",
      "\u001b[0;32m/datasets/anaconda3/envs/torch1.9/lib/python3.9/json/__init__.py\u001b[0m in \u001b[0;36mloads\u001b[0;34m(s, cls, object_hook, parse_float, parse_int, parse_constant, object_pairs_hook, **kw)\u001b[0m\n\u001b[1;32m    344\u001b[0m             \u001b[0mparse_int\u001b[0m \u001b[0;32mis\u001b[0m \u001b[0;32mNone\u001b[0m \u001b[0;32mand\u001b[0m \u001b[0mparse_float\u001b[0m \u001b[0;32mis\u001b[0m \u001b[0;32mNone\u001b[0m \u001b[0;32mand\u001b[0m\u001b[0;34m\u001b[0m\u001b[0;34m\u001b[0m\u001b[0m\n\u001b[1;32m    345\u001b[0m             parse_constant is None and object_pairs_hook is None and not kw):\n\u001b[0;32m--> 346\u001b[0;31m         \u001b[0;32mreturn\u001b[0m \u001b[0m_default_decoder\u001b[0m\u001b[0;34m.\u001b[0m\u001b[0mdecode\u001b[0m\u001b[0;34m(\u001b[0m\u001b[0ms\u001b[0m\u001b[0;34m)\u001b[0m\u001b[0;34m\u001b[0m\u001b[0;34m\u001b[0m\u001b[0m\n\u001b[0m\u001b[1;32m    347\u001b[0m     \u001b[0;32mif\u001b[0m \u001b[0mcls\u001b[0m \u001b[0;32mis\u001b[0m \u001b[0;32mNone\u001b[0m\u001b[0;34m:\u001b[0m\u001b[0;34m\u001b[0m\u001b[0;34m\u001b[0m\u001b[0m\n\u001b[1;32m    348\u001b[0m         \u001b[0mcls\u001b[0m \u001b[0;34m=\u001b[0m \u001b[0mJSONDecoder\u001b[0m\u001b[0;34m\u001b[0m\u001b[0;34m\u001b[0m\u001b[0m\n",
      "\u001b[0;32m/datasets/anaconda3/envs/torch1.9/lib/python3.9/json/decoder.py\u001b[0m in \u001b[0;36mdecode\u001b[0;34m(self, s, _w)\u001b[0m\n\u001b[1;32m    335\u001b[0m \u001b[0;34m\u001b[0m\u001b[0m\n\u001b[1;32m    336\u001b[0m         \"\"\"\n\u001b[0;32m--> 337\u001b[0;31m         \u001b[0mobj\u001b[0m\u001b[0;34m,\u001b[0m \u001b[0mend\u001b[0m \u001b[0;34m=\u001b[0m \u001b[0mself\u001b[0m\u001b[0;34m.\u001b[0m\u001b[0mraw_decode\u001b[0m\u001b[0;34m(\u001b[0m\u001b[0ms\u001b[0m\u001b[0;34m,\u001b[0m \u001b[0midx\u001b[0m\u001b[0;34m=\u001b[0m\u001b[0m_w\u001b[0m\u001b[0;34m(\u001b[0m\u001b[0ms\u001b[0m\u001b[0;34m,\u001b[0m \u001b[0;36m0\u001b[0m\u001b[0;34m)\u001b[0m\u001b[0;34m.\u001b[0m\u001b[0mend\u001b[0m\u001b[0;34m(\u001b[0m\u001b[0;34m)\u001b[0m\u001b[0;34m)\u001b[0m\u001b[0;34m\u001b[0m\u001b[0;34m\u001b[0m\u001b[0m\n\u001b[0m\u001b[1;32m    338\u001b[0m         \u001b[0mend\u001b[0m \u001b[0;34m=\u001b[0m \u001b[0m_w\u001b[0m\u001b[0;34m(\u001b[0m\u001b[0ms\u001b[0m\u001b[0;34m,\u001b[0m \u001b[0mend\u001b[0m\u001b[0;34m)\u001b[0m\u001b[0;34m.\u001b[0m\u001b[0mend\u001b[0m\u001b[0;34m(\u001b[0m\u001b[0;34m)\u001b[0m\u001b[0;34m\u001b[0m\u001b[0;34m\u001b[0m\u001b[0m\n\u001b[1;32m    339\u001b[0m         \u001b[0;32mif\u001b[0m \u001b[0mend\u001b[0m \u001b[0;34m!=\u001b[0m \u001b[0mlen\u001b[0m\u001b[0;34m(\u001b[0m\u001b[0ms\u001b[0m\u001b[0;34m)\u001b[0m\u001b[0;34m:\u001b[0m\u001b[0;34m\u001b[0m\u001b[0;34m\u001b[0m\u001b[0m\n",
      "\u001b[0;32m/datasets/anaconda3/envs/torch1.9/lib/python3.9/json/decoder.py\u001b[0m in \u001b[0;36mraw_decode\u001b[0;34m(self, s, idx)\u001b[0m\n\u001b[1;32m    351\u001b[0m         \"\"\"\n\u001b[1;32m    352\u001b[0m         \u001b[0;32mtry\u001b[0m\u001b[0;34m:\u001b[0m\u001b[0;34m\u001b[0m\u001b[0;34m\u001b[0m\u001b[0m\n\u001b[0;32m--> 353\u001b[0;31m             \u001b[0mobj\u001b[0m\u001b[0;34m,\u001b[0m \u001b[0mend\u001b[0m \u001b[0;34m=\u001b[0m \u001b[0mself\u001b[0m\u001b[0;34m.\u001b[0m\u001b[0mscan_once\u001b[0m\u001b[0;34m(\u001b[0m\u001b[0ms\u001b[0m\u001b[0;34m,\u001b[0m \u001b[0midx\u001b[0m\u001b[0;34m)\u001b[0m\u001b[0;34m\u001b[0m\u001b[0;34m\u001b[0m\u001b[0m\n\u001b[0m\u001b[1;32m    354\u001b[0m         \u001b[0;32mexcept\u001b[0m \u001b[0mStopIteration\u001b[0m \u001b[0;32mas\u001b[0m \u001b[0merr\u001b[0m\u001b[0;34m:\u001b[0m\u001b[0;34m\u001b[0m\u001b[0;34m\u001b[0m\u001b[0m\n\u001b[1;32m    355\u001b[0m             \u001b[0;32mraise\u001b[0m \u001b[0mJSONDecodeError\u001b[0m\u001b[0;34m(\u001b[0m\u001b[0;34m\"Expecting value\"\u001b[0m\u001b[0;34m,\u001b[0m \u001b[0ms\u001b[0m\u001b[0;34m,\u001b[0m \u001b[0merr\u001b[0m\u001b[0;34m.\u001b[0m\u001b[0mvalue\u001b[0m\u001b[0;34m)\u001b[0m \u001b[0;32mfrom\u001b[0m \u001b[0;32mNone\u001b[0m\u001b[0;34m\u001b[0m\u001b[0;34m\u001b[0m\u001b[0m\n",
      "\u001b[0;31mKeyboardInterrupt\u001b[0m: "
     ]
    }
   ],
   "source": [
    "losses = []\n",
    "accurracies = []\n",
    "recalls = []\n",
    "precisions = []\n",
    "for epoch in range(EPOCHS):\n",
    "    model.train()\n",
    "    batch_pbar = tqdm(\n",
    "        dataset.get_batch('train'),\n",
    "        desc='loss = inf'\n",
    "    )\n",
    "\n",
    "    epoch_loss = 0\n",
    "    for n_batch, batch in enumerate(batch_pbar):\n",
    "        batch = batch.to(DEVICE)\n",
    "        optimizer.step()\n",
    "        out = model(batch).float()\n",
    "        batch_weights = torch.where(\n",
    "            batch.y == 0.0,\n",
    "            class_weights[0],\n",
    "            class_weights[1]\n",
    "        )\n",
    "        batch_y_test = batch.y #F.one_hot(batch.y, OUTPUT_DIM).float()\n",
    "\n",
    "        loss = criterion(out, batch_y_test)\n",
    "        loss.backward()\n",
    "        optimizer.zero_grad()\n",
    "        batch.to('cpu')\n",
    "        batch_pbar.set_description(f\"loss = {loss}\")\n",
    "        epoch_loss += loss.to('cpu').tolist()\n",
    "        # FIXME JUST FOR MEMORY CLEANING\n",
    "        del out\n",
    "        del batch_weights\n",
    "        del batch_y_test\n",
    "        torch.cuda.empty_cache()\n",
    "        \n",
    "    epoch_loss = epoch_loss/(n_batch + 1)\n",
    "    losses.append(epoch_loss)\n",
    "    print(f'EPOCH LOSS: {epoch_loss}')\n",
    "    model.eval()\n",
    "    y_val = []\n",
    "    y_pred = []\n",
    "    batch_pbar_val = tqdm(\n",
    "        dataset.get_batch('val'),\n",
    "        desc='loss = inf'\n",
    "    )\n",
    "    for test_batch in batch_pbar_val:\n",
    "        test_batch = test_batch.to(DEVICE)\n",
    "        out_test = model(test_batch)\n",
    "        test_gold = F.one_hot(test_batch.y, OUTPUT_DIM).float()\n",
    "        y_val.append(test_gold.tolist())\n",
    "        y_pred.append(out_test.tolist())\n",
    "        test_batch.to('cpu')\n",
    "        del out_test\n",
    "        del test_gold\n",
    "        torch.cuda.empty_cache()\n",
    "    y_val = np.concatenate(y_val)\n",
    "    y_pred = np.concatenate(y_pred)\n",
    "\n",
    "    correct = (y_val.argmax(axis=1) == y_pred.argmax(axis=1)).sum().item()\n",
    "    acc = int(correct) / len(y_val)\n",
    "    recall = recall_score(\n",
    "        y_val.argmax(axis=1), y_pred.argmax(axis=1), average='binary'\n",
    "    )\n",
    "    precision = precision_score(\n",
    "        y_val.argmax(axis=1), y_pred.argmax(axis=1), average='binary'\n",
    "    )\n",
    "    accurracies.append(acc)\n",
    "    recalls.append(recall)\n",
    "    precisions.append(precision)\n",
    "    print(\"Value counts\", pd.value_counts(np.array(y_pred.argmax(axis=1))))\n",
    "    print(\"Recall\", recall)\n",
    "    print(\"Precision\", precision)\n",
    "    print(f'Accuracy: {acc:.4f}')"
   ]
  },
  {
   "cell_type": "code",
   "execution_count": 19,
   "id": "5c8aebe4-7aba-42da-9efa-c4246c3ab8a6",
   "metadata": {},
   "outputs": [],
   "source": [
    "time_series = {\n",
    "    'loss': losses,\n",
    "    'accuracy': accurracies,\n",
    "    'recall': recalls,\n",
    "    'precision': precisions\n",
    "}"
   ]
  },
  {
   "cell_type": "code",
   "execution_count": 20,
   "id": "f591624b-f6bb-4828-9fbc-3d0de52e0c1d",
   "metadata": {},
   "outputs": [],
   "source": [
    "save_json(time_series, SAVING_METRICS_PATH)"
   ]
  },
  {
   "cell_type": "code",
   "execution_count": 21,
   "id": "c4f8ff10-a3af-4c99-9b62-bc7d254a2335",
   "metadata": {},
   "outputs": [],
   "source": [
    "torch.save(model.state_dict(), SAVING_MODEL_PATH)"
   ]
  },
  {
   "cell_type": "markdown",
   "id": "cac1bb8d-c61c-4b89-bdbb-2e8b69c4695d",
   "metadata": {},
   "source": [
    "## Test load model"
   ]
  },
  {
   "cell_type": "code",
   "execution_count": 22,
   "id": "22b22c46-c869-45c7-9e83-afbf42520157",
   "metadata": {},
   "outputs": [],
   "source": [
    "model = GraphClassifier(\n",
    "    input_dims=INPUT_DIM,\n",
    "    nodes_per_graph=NODES_PER_GRAPH,\n",
    "    hidden_channels=HIDDEN_CHANNELS,\n",
    "    output_dim=OUTPUT_DIM,\n",
    "    dropout=DROPOUT\n",
    ")\n",
    "\n",
    "model = model.to(DEVICE)"
   ]
  },
  {
   "cell_type": "code",
   "execution_count": 23,
   "id": "04c43b70-28a9-45e7-8f84-2de0694acb31",
   "metadata": {},
   "outputs": [
    {
     "data": {
      "text/plain": [
       "<All keys matched successfully>"
      ]
     },
     "execution_count": 23,
     "metadata": {},
     "output_type": "execute_result"
    }
   ],
   "source": [
    "model.load_state_dict(torch.load(SAVING_MODEL_PATH))"
   ]
  },
  {
   "cell_type": "code",
   "execution_count": 30,
   "id": "34387157-8f7d-4de0-8d22-59ede004e317",
   "metadata": {},
   "outputs": [
    {
     "name": "stderr",
     "output_type": "stream",
     "text": [
      "loss = inf: 908it [01:16, 11.88it/s]"
     ]
    },
    {
     "name": "stdout",
     "output_type": "stream",
     "text": [
      "Value counts 0    58068\n",
      "dtype: int64\n",
      "Recall 0.0\n",
      "Precision 0.0\n",
      "Accuracy: 0.7018\n"
     ]
    },
    {
     "name": "stderr",
     "output_type": "stream",
     "text": [
      "\n",
      "/datasets/anaconda3/envs/torch1.9/lib/python3.9/site-packages/sklearn/metrics/_classification.py:1248: UndefinedMetricWarning: Precision is ill-defined and being set to 0.0 due to no predicted samples. Use `zero_division` parameter to control this behavior.\n",
      "  _warn_prf(average, modifier, msg_start, len(result))\n"
     ]
    }
   ],
   "source": [
    "model.eval()\n",
    "y_val = []\n",
    "y_pred = []\n",
    "batch_pbar_val = tqdm(\n",
    "    dataset.get_batch('val'),\n",
    "    desc='loss = inf'\n",
    ")\n",
    "for test_batch in batch_pbar_val:\n",
    "    test_batch = test_batch.to(DEVICE)\n",
    "    out_test = model(test_batch)\n",
    "    test_gold = F.one_hot(test_batch.y, OUTPUT_DIM).float()\n",
    "    y_val.append(test_gold.tolist())\n",
    "    y_pred.append(out_test.tolist())\n",
    "    test_batch.to('cpu')\n",
    "    del out_test\n",
    "    del test_gold\n",
    "    torch.cuda.empty_cache()\n",
    "y_val = np.concatenate(y_val)\n",
    "y_pred = np.concatenate(y_pred)\n",
    "\n",
    "correct = (y_val.argmax(axis=1) == y_pred.argmax(axis=1)).sum().item()\n",
    "acc = int(correct) / len(y_val)\n",
    "recall = recall_score(\n",
    "    y_val.argmax(axis=1), y_pred.argmax(axis=1), average='binary'\n",
    ")\n",
    "precision = precision_score(\n",
    "    y_val.argmax(axis=1), y_pred.argmax(axis=1), average='binary'\n",
    ")\n",
    "accurracies.append(acc)\n",
    "recalls.append(recall)\n",
    "precisions.append(precision)\n",
    "print(\"Value counts\", pd.value_counts(np.array(y_pred.argmax(axis=1))))\n",
    "print(\"Recall\", recall)\n",
    "print(\"Precision\", precision)\n",
    "print(f'Accuracy: {acc:.4f}')"
   ]
  },
  {
   "cell_type": "code",
   "execution_count": null,
   "id": "599af808-4982-4d03-b6f4-3cb08acb1730",
   "metadata": {},
   "outputs": [],
   "source": []
  }
 ],
 "metadata": {
  "kernelspec": {
   "display_name": "torch1.9 [conda env:torch1.9]",
   "language": "python",
   "name": "conda-env-torch1.9-torch1.9"
  },
  "language_info": {
   "codemirror_mode": {
    "name": "ipython",
    "version": 3
   },
   "file_extension": ".py",
   "mimetype": "text/x-python",
   "name": "python",
   "nbconvert_exporter": "python",
   "pygments_lexer": "ipython3",
   "version": "3.9.7"
  }
 },
 "nbformat": 4,
 "nbformat_minor": 5
}
