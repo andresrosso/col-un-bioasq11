{
 "cells": [
  {
   "cell_type": "markdown",
   "id": "40d47fb1-1799-48df-a3f4-b692041f9539",
   "metadata": {},
   "source": [
    "## Imports"
   ]
  },
  {
   "cell_type": "code",
   "execution_count": 1,
   "id": "2643e502-45d2-4eb2-91ac-1f8b8d665661",
   "metadata": {},
   "outputs": [],
   "source": [
    "%load_ext autoreload\n",
    "%autoreload 2\n",
    "\n",
    "import torch\n",
    "import pandas as pd\n",
    "import numpy as np\n",
    "from tqdm import tqdm\n",
    "import torch.nn.functional as F\n",
    "\n",
    "from sklearn.utils.class_weight import compute_class_weight\n",
    "from sklearn.metrics import recall_score\n",
    "\n",
    "from src.models.model import GraphClassifier\n",
    "from src.graphs.graph_loader import GraphDataset\n",
    "from src.elastic_search_utils.elastic_utils import save_json, load_json"
   ]
  },
  {
   "cell_type": "markdown",
   "id": "da80183c-b5b2-4966-a2aa-71c5ebe2414c",
   "metadata": {},
   "source": [
    "## Params"
   ]
  },
  {
   "cell_type": "code",
   "execution_count": 2,
   "id": "a72cbdb1-7c17-4ac3-8f44-309b6b2a797a",
   "metadata": {},
   "outputs": [],
   "source": [
    "TEST_FILE_NAME = 'test_original_10b-testset4.json'"
   ]
  },
  {
   "cell_type": "code",
   "execution_count": 3,
   "id": "c4d3151c-461f-4553-ae88-b16de806b2ac",
   "metadata": {},
   "outputs": [],
   "source": [
    "LOAD_FOLDER = '/datasets/johan_tests_original_format_graphs/similarity_shape_100_20__score_threshold_006__similarity_relevance_07/testset4/'"
   ]
  },
  {
   "cell_type": "code",
   "execution_count": 4,
   "id": "429a9aa0-8eb0-432d-9402-c2a1a5c29750",
   "metadata": {},
   "outputs": [],
   "source": [
    "LOAD_QUESTIONS_FOLDER = '/datasets/johan_tests_original_format_centroid/merged_training_docs'\n",
    "LOAD_QUESTIONS = f'{LOAD_QUESTIONS_FOLDER}/{TEST_FILE_NAME}'"
   ]
  },
  {
   "cell_type": "code",
   "execution_count": 5,
   "id": "509a78f0-a7de-4fdd-b071-77c3441e9e1f",
   "metadata": {},
   "outputs": [],
   "source": [
    "LOAD_MODEL_PATH = '/datasets/johan_tests_models/v1/model.pth'"
   ]
  },
  {
   "cell_type": "code",
   "execution_count": 6,
   "id": "61e4b58c-b6b8-49d4-961f-6868953ea18b",
   "metadata": {},
   "outputs": [],
   "source": [
    "SAVING_FOLDER = '/datasets/johan_tests_original_format_graphs/similarity_shape_100_20__score_threshold_006__similarity_relevance_07'\n",
    "SAVING_PATH = f'{SAVING_FOLDER}/{TEST_FILE_NAME}'"
   ]
  },
  {
   "cell_type": "markdown",
   "id": "7c7819f3-6d50-4965-a6b2-d7a0bf423a30",
   "metadata": {},
   "source": [
    "## Dataset params"
   ]
  },
  {
   "cell_type": "code",
   "execution_count": 7,
   "id": "c56c8449-2dc2-4f2d-9315-6565b2b03a5b",
   "metadata": {},
   "outputs": [],
   "source": [
    "BATCH_SIZE = 64"
   ]
  },
  {
   "cell_type": "code",
   "execution_count": 8,
   "id": "4896c1af-2f5e-4f50-a493-f506de530a83",
   "metadata": {},
   "outputs": [],
   "source": [
    "VAL_PERCENTAGE = 0.15\n",
    "TEST_PERCENTAGE = 0.15"
   ]
  },
  {
   "cell_type": "code",
   "execution_count": 9,
   "id": "2a685785-376d-438e-a73e-d1e6cde82527",
   "metadata": {},
   "outputs": [],
   "source": [
    "RELEVANCE_THRESHOLD = 0.04"
   ]
  },
  {
   "cell_type": "code",
   "execution_count": 10,
   "id": "7ac73dae-e225-4ba9-a83d-cce6a6a2acdd",
   "metadata": {},
   "outputs": [],
   "source": [
    "RANDOM_STATE = 42"
   ]
  },
  {
   "cell_type": "code",
   "execution_count": 11,
   "id": "9239b332-fd27-4bd1-ad03-a14b2feba67f",
   "metadata": {},
   "outputs": [
    {
     "data": {
      "text/plain": [
       "<torch._C.Generator at 0x7f2adc13e950>"
      ]
     },
     "execution_count": 11,
     "metadata": {},
     "output_type": "execute_result"
    }
   ],
   "source": [
    "torch.manual_seed(RANDOM_STATE)"
   ]
  },
  {
   "cell_type": "markdown",
   "id": "eaac659a-b9d0-4cb2-ab8c-a214d1eac390",
   "metadata": {},
   "source": [
    "## Model params"
   ]
  },
  {
   "cell_type": "code",
   "execution_count": 12,
   "id": "4f9c1994-a76a-4a10-a820-4d522806d032",
   "metadata": {},
   "outputs": [],
   "source": [
    "INPUT_DIM = 20\n",
    "NODES_PER_GRAPH = 100\n",
    "HIDDEN_CHANNELS = 16\n",
    "OUTPUT_DIM = 2  # N_CLASSES\n",
    "DROPOUT = 0.5"
   ]
  },
  {
   "cell_type": "code",
   "execution_count": 13,
   "id": "565f0bc7-4302-4c6b-a068-54d94fd6eef8",
   "metadata": {},
   "outputs": [],
   "source": [
    "DEVICE = torch.device('cuda')"
   ]
  },
  {
   "cell_type": "code",
   "execution_count": 14,
   "id": "1b12ceab-5c0c-49c3-9cad-6ede4e5b421e",
   "metadata": {},
   "outputs": [],
   "source": [
    "EPOCHS = 100"
   ]
  },
  {
   "cell_type": "markdown",
   "id": "efb8d731-fde8-4f56-b49e-2af47a10faa7",
   "metadata": {},
   "source": [
    "## Constants"
   ]
  },
  {
   "cell_type": "code",
   "execution_count": 15,
   "id": "6ff27419-c76d-4841-83a8-cb42551f52ca",
   "metadata": {},
   "outputs": [],
   "source": [
    "questions = load_json(LOAD_QUESTIONS)"
   ]
  },
  {
   "cell_type": "code",
   "execution_count": 16,
   "id": "9084b81a-94cc-4723-b3df-aa67bf20f0ea",
   "metadata": {},
   "outputs": [],
   "source": [
    "dataset = GraphDataset(\n",
    "    dataset_path=LOAD_FOLDER,\n",
    "    batch_size=BATCH_SIZE,\n",
    "    val_percentage=VAL_PERCENTAGE,\n",
    "    test_percentage=TEST_PERCENTAGE,\n",
    "    random_state=RANDOM_STATE,\n",
    "    score_threshold=RELEVANCE_THRESHOLD\n",
    ")"
   ]
  },
  {
   "cell_type": "code",
   "execution_count": 17,
   "id": "d269abf9-616e-40fd-a032-035e5d888005",
   "metadata": {},
   "outputs": [],
   "source": [
    "model = GraphClassifier(\n",
    "    input_dims=INPUT_DIM,\n",
    "    nodes_per_graph=NODES_PER_GRAPH,\n",
    "    hidden_channels=HIDDEN_CHANNELS,\n",
    "    output_dim=OUTPUT_DIM,\n",
    "    dropout=DROPOUT\n",
    ")\n",
    "\n",
    "model = model.to(DEVICE)"
   ]
  },
  {
   "cell_type": "code",
   "execution_count": 18,
   "id": "6c9db5b6-b2c3-4d0b-99b1-d0f4f09381c6",
   "metadata": {},
   "outputs": [
    {
     "data": {
      "text/plain": [
       "<All keys matched successfully>"
      ]
     },
     "execution_count": 18,
     "metadata": {},
     "output_type": "execute_result"
    }
   ],
   "source": [
    "model.load_state_dict(torch.load(LOAD_MODEL_PATH))"
   ]
  },
  {
   "cell_type": "code",
   "execution_count": 19,
   "id": "89f14484-c6cc-4e8f-9085-c659a0f50cab",
   "metadata": {},
   "outputs": [],
   "source": [
    "flat_labels = dataset.metadata['label'].tolist()\n",
    "class_weights = compute_class_weight(\n",
    "    'balanced', classes=[0,1], y=flat_labels\n",
    ")\n",
    "class_weights = torch.FloatTensor(class_weights)\n",
    "class_weights = class_weights.to(DEVICE)"
   ]
  },
  {
   "cell_type": "code",
   "execution_count": 20,
   "id": "9e3b9f21-c92b-474b-8c9d-089136c26891",
   "metadata": {},
   "outputs": [],
   "source": [
    "criterion = torch.nn.CrossEntropyLoss(\n",
    "    weight=class_weights\n",
    ")\n",
    "criterion = criterion.to(DEVICE)"
   ]
  },
  {
   "cell_type": "code",
   "execution_count": 21,
   "id": "7c7d3b23-5411-49ef-9eaf-54534de91011",
   "metadata": {},
   "outputs": [],
   "source": [
    "optimizer = torch.optim.Adam(model.parameters(), lr=0.0001, weight_decay=5e-3)"
   ]
  },
  {
   "cell_type": "markdown",
   "id": "15782e66-5b68-4306-baae-1832163fe231",
   "metadata": {},
   "source": [
    "## Prediction loop"
   ]
  },
  {
   "cell_type": "code",
   "execution_count": 22,
   "id": "49d9326d-f37b-4830-bb81-28ceb672f82d",
   "metadata": {},
   "outputs": [
    {
     "name": "stderr",
     "output_type": "stream",
     "text": [
      "loss = inf: 119it [00:09, 12.35it/s]\n"
     ]
    }
   ],
   "source": [
    "y_pred = []\n",
    "batch_pbar_val = tqdm(\n",
    "    dataset.get_batch(),\n",
    "    desc='loss = inf'\n",
    ")\n",
    "for test_batch in batch_pbar_val:\n",
    "    test_batch = test_batch.to(DEVICE)\n",
    "    out_test = model(test_batch)\n",
    "    y_pred.append(out_test.tolist())\n",
    "    test_batch.to('cpu')\n",
    "    del out_test\n",
    "    torch.cuda.empty_cache()\n",
    "y_pred = np.concatenate(y_pred)"
   ]
  },
  {
   "cell_type": "code",
   "execution_count": 23,
   "id": "1b0448fe-017a-4b01-8d94-320c82ca57b7",
   "metadata": {},
   "outputs": [],
   "source": [
    "dataset.metadata['is_relevant'] = y_pred.argmax(axis=1)"
   ]
  },
  {
   "cell_type": "markdown",
   "id": "47d74c85-58c6-4d88-a6bd-174aad990f76",
   "metadata": {},
   "source": [
    "### Dictionary for fast removal of documents"
   ]
  },
  {
   "cell_type": "code",
   "execution_count": 24,
   "id": "c0c61be1-cc29-485d-803c-00181da3f27d",
   "metadata": {},
   "outputs": [],
   "source": [
    "relevant_documents = {}\n",
    "for question, relevant_documents in dataset.metadata[\n",
    "    dataset.metadata['is_relevant'] == 1\n",
    "].groupby('question_id'):\n",
    "    relevant_documents[question] = relevant_documents['document_id'].unique()"
   ]
  },
  {
   "cell_type": "markdown",
   "id": "03c38dde-1ebc-4f3e-8e49-bad0319ddde0",
   "metadata": {},
   "source": [
    "## Removing irrelevant documents from question dict"
   ]
  },
  {
   "cell_type": "code",
   "execution_count": 25,
   "id": "c77f4ecc-5288-4afa-93be-5ff32dc81908",
   "metadata": {},
   "outputs": [],
   "source": [
    "for question in questions['questions']:\n",
    "    if question['id'] in relevant_documents.keys():\n",
    "        relevant_documents = [\n",
    "            document for document in question['documents']\n",
    "            if document['id'] in relevant_documents[\n",
    "                question['id']\n",
    "            ]\n",
    "        ]\n",
    "        question['documents'] = relevant_documents\n",
    "    else:\n",
    "        continue"
   ]
  },
  {
   "cell_type": "markdown",
   "id": "a2cd30cf-74e2-41aa-b8c9-5ac3adafb201",
   "metadata": {},
   "source": [
    "## Saving to disk"
   ]
  },
  {
   "cell_type": "code",
   "execution_count": 26,
   "id": "b0d174b5-0c88-4778-aeee-1bb9d3c34dbf",
   "metadata": {},
   "outputs": [],
   "source": [
    "save_json(questions, SAVING_PATH)"
   ]
  }
 ],
 "metadata": {
  "kernelspec": {
   "display_name": "torch1.9 [conda env:torch1.9]",
   "language": "python",
   "name": "conda-env-torch1.9-torch1.9"
  },
  "language_info": {
   "codemirror_mode": {
    "name": "ipython",
    "version": 3
   },
   "file_extension": ".py",
   "mimetype": "text/x-python",
   "name": "python",
   "nbconvert_exporter": "python",
   "pygments_lexer": "ipython3",
   "version": "3.9.7"
  }
 },
 "nbformat": 4,
 "nbformat_minor": 5
}
