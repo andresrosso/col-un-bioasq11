{
 "cells": [
  {
   "cell_type": "markdown",
   "id": "59e83f1b-582e-4140-8276-deff67db28bd",
   "metadata": {},
   "source": [
    "# Training from merged origin\n",
    "Here documents obtained with retrieval and bm25 two document origins are merged into a single dictionary of question-documents in the original bioASQ format:\n",
    "- CEMB+BM25 generated from original training documents.\n",
    "- CEMB+BM25 generated from elastic documents extracted for training questions.\n",
    "\n",
    "## Imports"
   ]
  },
  {
   "cell_type": "code",
   "execution_count": 37,
   "id": "5d6fe241-a452-4582-9fa2-7cc182be11fe",
   "metadata": {},
   "outputs": [
    {
     "name": "stdout",
     "output_type": "stream",
     "text": [
      "The autoreload extension is already loaded. To reload it, use:\n",
      "  %reload_ext autoreload\n"
     ]
    }
   ],
   "source": [
    "%load_ext autoreload\n",
    "%autoreload 2\n",
    "\n",
    "import logging\n",
    "from pprint import pprint\n",
    "\n",
    "import pandas as pd\n",
    "import matplotlib.pyplot as plt\n",
    "\n",
    "logger = logging.getLogger(__name__)\n",
    "logger.setLevel(logging.INFO)\n",
    "\n",
    "from src.cemb_bm25 import centroid_retrieval\n",
    "from src.elastic_search_utils.elastic_utils import load_json, save_json"
   ]
  },
  {
   "cell_type": "markdown",
   "id": "174d49b6-e95f-4cc3-9a0d-de272610f3b5",
   "metadata": {},
   "source": [
    "## Params"
   ]
  },
  {
   "cell_type": "code",
   "execution_count": 38,
   "id": "7ee2bddc-ed8d-4000-a9ba-f552c3cb85c3",
   "metadata": {},
   "outputs": [],
   "source": [
    "LOADING_ORIGINAL_DOCUMENTS_PATH = '/datasets/johan_tests_original_format/training_docs_10b.json'\n",
    "LOADING_QUERIED_DOCUMENTS_PATH = '/datasets/johan_tests_original_format/queried_docs_10b.json'\n",
    "\n",
    "ABSTRACT_WEIGHT = 0.7\n",
    "TITLE_WEIGHT = 0.3"
   ]
  },
  {
   "cell_type": "markdown",
   "id": "b59f7426-4d5c-492e-aa03-0a89089526c8",
   "metadata": {},
   "source": [
    "## Saving directions"
   ]
  },
  {
   "cell_type": "code",
   "execution_count": 3,
   "id": "7a4fc623-f474-4c09-a8d1-143901bc6ae4",
   "metadata": {},
   "outputs": [],
   "source": [
    "SAVING_FOLDER = '/datasets/johan_tests_original_format_centroid/merged_training_docs/'\n",
    "\n",
    "SAVING_ABSTRACT_W2V_PATH = f'{SAVING_FOLDER}/Bio_Word2Vec_doc_abstract_model_10b_train.bin'\n",
    "SAVING_TITLE_W2V_PATH = f'{SAVING_FOLDER}/Bio_Word2Vec_doc_title_model_10b_train.bin'\n",
    "SAVING_QUESTION_W2V_PATH = f'{SAVING_FOLDER}/Bio_Word2Vec_doc_question_model_10b_train.bin'\n",
    "\n",
    "SAVING_ORIGINAL_PATH = f'{SAVING_FOLDER}/training_original_10b.json'\n",
    "SAVING_TOKENS_PATH = f'{SAVING_FOLDER}/training_tokens_10b.json'\n",
    "SAVING_CLEANED_PATH = f'{SAVING_FOLDER}/training_cleaned_10b.json'"
   ]
  },
  {
   "cell_type": "markdown",
   "id": "ca6b1151-702a-4416-b2fd-98216b3067aa",
   "metadata": {},
   "source": [
    "## Constants"
   ]
  },
  {
   "cell_type": "code",
   "execution_count": 4,
   "id": "a31b7949-8d14-4617-a5b9-d6cb7db9548d",
   "metadata": {},
   "outputs": [],
   "source": [
    "original_questions = load_json(LOADING_ORIGINAL_DOCUMENTS_PATH)"
   ]
  },
  {
   "cell_type": "code",
   "execution_count": 5,
   "id": "3cf01189-c42a-4af5-b8c4-1e1fc88f83cc",
   "metadata": {},
   "outputs": [],
   "source": [
    "queried_questions = load_json(LOADING_QUERIED_DOCUMENTS_PATH)"
   ]
  },
  {
   "cell_type": "markdown",
   "id": "4f74f1a6-6aad-4e67-9d87-4451afb31546",
   "metadata": {},
   "source": [
    "## Merging origins into single dictionary"
   ]
  },
  {
   "cell_type": "code",
   "execution_count": 6,
   "id": "87e59410-c393-42c5-b851-c02e3b297aa0",
   "metadata": {},
   "outputs": [
    {
     "name": "stderr",
     "output_type": "stream",
     "text": [
      "merging dictionaries: 4234it [00:03, 1151.55it/s]\n"
     ]
    }
   ],
   "source": [
    "merged_questions = centroid_retrieval.merge_origins(\n",
    "    original_questions['questions'],\n",
    "    queried_questions['questions']\n",
    ")"
   ]
  },
  {
   "cell_type": "markdown",
   "id": "c8635905-fd93-42ff-9960-476e15001772",
   "metadata": {
    "tags": []
   },
   "source": [
    "## Extracting tokens for valid documents\n",
    "Only documents with abstract will be kept.\n",
    "\n",
    "One dict cleaned-tokenized, another only cleaned."
   ]
  },
  {
   "cell_type": "code",
   "execution_count": 7,
   "id": "832a6c44-6673-4e76-8e64-90d9977a34d8",
   "metadata": {},
   "outputs": [
    {
     "name": "stderr",
     "output_type": "stream",
     "text": [
      "Extracting unique doc info: 100%|███████████| 4234/4234 [02:55<00:00, 24.11it/s]\n"
     ]
    }
   ],
   "source": [
    "tokenized_unique_docs, cleaned_unique_docs = centroid_retrieval.extract_unique_doc_info(\n",
    "    questions=merged_questions['questions']\n",
    ")"
   ]
  },
  {
   "cell_type": "markdown",
   "id": "e8234805-7146-443c-a088-087ecb64c455",
   "metadata": {
    "tags": []
   },
   "source": [
    "## Tokenize question body and replace documents with tokenized documents"
   ]
  },
  {
   "cell_type": "code",
   "execution_count": 8,
   "id": "3cdd6071-77ef-4f9b-a398-53d2d4de2ac4",
   "metadata": {},
   "outputs": [
    {
     "name": "stderr",
     "output_type": "stream",
     "text": [
      "Selecting useful documents: 100%|██████████| 4234/4234 [00:27<00:00, 156.25it/s]\n"
     ]
    }
   ],
   "source": [
    "tokenized_questions, question_solving_doc_ids = centroid_retrieval.select_questions_useful_documents(\n",
    "    questions=merged_questions['questions'],\n",
    "    unique_docs=tokenized_unique_docs,\n",
    "    use_tokens=True\n",
    ")"
   ]
  },
  {
   "cell_type": "code",
   "execution_count": 9,
   "id": "f16f1358-3113-4210-a557-592ed480fe7e",
   "metadata": {},
   "outputs": [],
   "source": [
    "tokenized_questions = {'questions': tokenized_questions}"
   ]
  },
  {
   "cell_type": "markdown",
   "id": "906f15e5-e76c-4e3a-a589-b6d788da5f51",
   "metadata": {},
   "source": [
    "## Clean question body and replace documents with cleaned documents"
   ]
  },
  {
   "cell_type": "code",
   "execution_count": 10,
   "id": "e051d19c-79e0-4f36-be23-26138db27480",
   "metadata": {},
   "outputs": [
    {
     "name": "stderr",
     "output_type": "stream",
     "text": [
      "Selecting useful documents: 100%|██████████| 4234/4234 [00:26<00:00, 159.99it/s]\n"
     ]
    }
   ],
   "source": [
    "cleaned_questions, _ = centroid_retrieval.select_questions_useful_documents(\n",
    "    questions=merged_questions['questions'],\n",
    "    unique_docs=cleaned_unique_docs,\n",
    "    use_tokens=False\n",
    ")"
   ]
  },
  {
   "cell_type": "code",
   "execution_count": 11,
   "id": "de129ec6-6605-48cd-b6a0-ffc54e4de4d9",
   "metadata": {},
   "outputs": [],
   "source": [
    "cleaned_questions = {'questions': cleaned_questions}"
   ]
  },
  {
   "cell_type": "markdown",
   "id": "3379874a-040d-4ac1-8bd2-772a4ac4520c",
   "metadata": {},
   "source": [
    "## Extracting unique tokenized abstracts and titles for word2vec"
   ]
  },
  {
   "cell_type": "code",
   "execution_count": 12,
   "id": "6380bc40-4bb9-4cd5-b1c6-44c5546f47d8",
   "metadata": {},
   "outputs": [],
   "source": [
    "unique_abstract_tokens, unique_title_tokens = centroid_retrieval.extract_unique_titles_and_abstracts(\n",
    "    tokenized_unique_docs=tokenized_unique_docs,\n",
    "    question_solving_doc_ids=question_solving_doc_ids\n",
    ")"
   ]
  },
  {
   "cell_type": "code",
   "execution_count": 13,
   "id": "e0213926-c5e2-4a1b-9aaf-af4fb96a60f5",
   "metadata": {},
   "outputs": [
    {
     "data": {
      "text/plain": [
       "(324189, 324189)"
      ]
     },
     "execution_count": 13,
     "metadata": {},
     "output_type": "execute_result"
    }
   ],
   "source": [
    "len(unique_abstract_tokens), len(unique_title_tokens)"
   ]
  },
  {
   "cell_type": "code",
   "execution_count": 14,
   "id": "2daa71fb-e46e-48a2-a58e-b4adefb4498b",
   "metadata": {},
   "outputs": [
    {
     "data": {
      "text/plain": [
       "(152, 11)"
      ]
     },
     "execution_count": 14,
     "metadata": {},
     "output_type": "execute_result"
    }
   ],
   "source": [
    "len(list(unique_abstract_tokens.values())[0]), len(list(unique_title_tokens.values())[0])"
   ]
  },
  {
   "cell_type": "markdown",
   "id": "e8a7fc0c-184e-49c4-a6cf-e976d54f0be6",
   "metadata": {},
   "source": [
    "## Extracting unique tokenized questions for word2vec"
   ]
  },
  {
   "cell_type": "code",
   "execution_count": 15,
   "id": "6de02423-cc60-4957-a6b6-7eefb589673a",
   "metadata": {},
   "outputs": [],
   "source": [
    "unique_question_tokens = centroid_retrieval.extract_unique_questions(\n",
    "    tokenized_questions['questions']\n",
    ")"
   ]
  },
  {
   "cell_type": "code",
   "execution_count": 16,
   "id": "2dc6a333-f304-43e2-8194-96c94b60acac",
   "metadata": {},
   "outputs": [
    {
     "data": {
      "text/plain": [
       "4234"
      ]
     },
     "execution_count": 16,
     "metadata": {},
     "output_type": "execute_result"
    }
   ],
   "source": [
    "len(unique_question_tokens)"
   ]
  },
  {
   "cell_type": "code",
   "execution_count": 17,
   "id": "8f369bf0-b65c-4dac-be56-a593c4cf20c8",
   "metadata": {},
   "outputs": [
    {
     "data": {
      "text/plain": [
       "9"
      ]
     },
     "execution_count": 17,
     "metadata": {},
     "output_type": "execute_result"
    }
   ],
   "source": [
    "len(list(unique_question_tokens.values())[0])"
   ]
  },
  {
   "cell_type": "markdown",
   "id": "91d624c7-3fd5-4785-8d1d-2b1039347ceb",
   "metadata": {},
   "source": [
    "## Making fit models w2vec models for questions, titles and abstracts"
   ]
  },
  {
   "cell_type": "code",
   "execution_count": 18,
   "id": "d9bc4c6c-4b8d-41db-bff7-fd57830b2473",
   "metadata": {},
   "outputs": [
    {
     "name": "stdout",
     "output_type": "stream",
     "text": [
      "Word2Vec vocabulary length: 6671\n"
     ]
    }
   ],
   "source": [
    "question_w2vec_model, question_w2vec_vocab = centroid_retrieval.fit_bio_w2vec(unique_question_tokens.values())"
   ]
  },
  {
   "cell_type": "code",
   "execution_count": 19,
   "id": "8624a898-aac1-4f48-bce4-244e5a31cd9f",
   "metadata": {},
   "outputs": [
    {
     "name": "stdout",
     "output_type": "stream",
     "text": [
      "Word2Vec vocabulary length: 517721\n"
     ]
    }
   ],
   "source": [
    "abstract_w2vec_model, abstract_w2vec_vocab = centroid_retrieval.fit_bio_w2vec(unique_abstract_tokens.values())"
   ]
  },
  {
   "cell_type": "code",
   "execution_count": 20,
   "id": "5a70df4b-e4fd-41ff-b96a-9576339ce00a",
   "metadata": {},
   "outputs": [
    {
     "name": "stdout",
     "output_type": "stream",
     "text": [
      "Word2Vec vocabulary length: 135807\n"
     ]
    }
   ],
   "source": [
    "title_w2vec_model, title_w2vec_vocab = centroid_retrieval.fit_bio_w2vec(unique_title_tokens.values())"
   ]
  },
  {
   "cell_type": "markdown",
   "id": "8e3af605-5b11-4361-a34c-52182b2c9774",
   "metadata": {},
   "source": [
    "## Saving models into disk"
   ]
  },
  {
   "cell_type": "code",
   "execution_count": 21,
   "id": "edbf5a69-5dc6-4f59-a92c-53f781fb1d34",
   "metadata": {},
   "outputs": [],
   "source": [
    "question_w2vec_model.save(SAVING_QUESTION_W2V_PATH)"
   ]
  },
  {
   "cell_type": "code",
   "execution_count": 22,
   "id": "48d47b16-552b-4ca9-a6b2-bd89a96bbfed",
   "metadata": {},
   "outputs": [],
   "source": [
    "abstract_w2vec_model.save(SAVING_ABSTRACT_W2V_PATH)"
   ]
  },
  {
   "cell_type": "code",
   "execution_count": 23,
   "id": "fc55647a-0812-42ec-88ed-da6029fa45a2",
   "metadata": {},
   "outputs": [],
   "source": [
    "title_w2vec_model.save(SAVING_TITLE_W2V_PATH)"
   ]
  },
  {
   "cell_type": "markdown",
   "id": "3d484d22-5e85-44ea-b4a7-f9f6409b21e1",
   "metadata": {},
   "source": [
    "## Calculating centroids"
   ]
  },
  {
   "cell_type": "code",
   "execution_count": 24,
   "id": "e815dcf0-f176-45d5-88b1-84604d206f04",
   "metadata": {},
   "outputs": [
    {
     "name": "stderr",
     "output_type": "stream",
     "text": [
      "Extracting centroids: 100%|██████████████| 4234/4234 [00:00<00:00, 47951.21it/s]\n"
     ]
    }
   ],
   "source": [
    "question_centroids = centroid_retrieval.calculate_centroids(\n",
    "    text_tokens=unique_question_tokens,\n",
    "    model=question_w2vec_model,\n",
    "    vocab=question_w2vec_vocab\n",
    ")"
   ]
  },
  {
   "cell_type": "code",
   "execution_count": 25,
   "id": "b04650cd-b218-47ba-8605-f4756e71af30",
   "metadata": {},
   "outputs": [
    {
     "name": "stderr",
     "output_type": "stream",
     "text": [
      "Extracting centroids: 100%|███████████| 324189/324189 [01:01<00:00, 5233.99it/s]\n"
     ]
    }
   ],
   "source": [
    "abstract_centroids = centroid_retrieval.calculate_centroids(\n",
    "    text_tokens=unique_abstract_tokens,\n",
    "    model=abstract_w2vec_model,\n",
    "    vocab=abstract_w2vec_vocab\n",
    ")"
   ]
  },
  {
   "cell_type": "code",
   "execution_count": 26,
   "id": "9facd2e7-2fae-4ff8-84ee-cfe3bbfbb942",
   "metadata": {},
   "outputs": [
    {
     "name": "stderr",
     "output_type": "stream",
     "text": [
      "Extracting centroids:   1%|▏           | 4133/324189 [00:00<00:07, 41324.52it/s]/datasets/anaconda3/envs/tf2.8/lib/python3.9/site-packages/numpy/core/fromnumeric.py:3440: RuntimeWarning: Mean of empty slice.\n",
      "  return _methods._mean(a, axis=axis, dtype=dtype,\n",
      "/datasets/anaconda3/envs/tf2.8/lib/python3.9/site-packages/numpy/core/_methods.py:189: RuntimeWarning: invalid value encountered in double_scalars\n",
      "  ret = ret.dtype.type(ret / rcount)\n",
      "Extracting centroids: 100%|██████████| 324189/324189 [00:08<00:00, 40424.36it/s]\n"
     ]
    }
   ],
   "source": [
    "title_centroids = centroid_retrieval.calculate_centroids(\n",
    "    text_tokens=unique_title_tokens,\n",
    "    model=title_w2vec_model,\n",
    "    vocab=title_w2vec_vocab\n",
    ")"
   ]
  },
  {
   "cell_type": "markdown",
   "id": "b8fc18d5-dfe6-44e3-b499-ab748251643c",
   "metadata": {},
   "source": [
    "## Calculating question cosine similarities to answers"
   ]
  },
  {
   "cell_type": "code",
   "execution_count": 27,
   "id": "2dcb2a6a-ceb7-4e67-8e21-01a9ff672bcf",
   "metadata": {},
   "outputs": [
    {
     "name": "stderr",
     "output_type": "stream",
     "text": [
      "Calculating cosine similarity: 100%|███████| 4234/4234 [00:06<00:00, 689.62it/s]\n"
     ]
    }
   ],
   "source": [
    "question_similarities = centroid_retrieval.calculate_question_answer_similarity(\n",
    "    tokenized_questions=tokenized_questions['questions'],\n",
    "    question_centroids=question_centroids,\n",
    "    abstract_centroids=abstract_centroids,\n",
    "    title_centroids=title_centroids\n",
    ")"
   ]
  },
  {
   "cell_type": "markdown",
   "id": "726c1885-601d-4e1e-aa67-210864f55351",
   "metadata": {},
   "source": [
    "## Calculating document scores for questions"
   ]
  },
  {
   "cell_type": "code",
   "execution_count": 28,
   "id": "b2ae4b6a-8875-404f-9fbe-449be059c53a",
   "metadata": {},
   "outputs": [
    {
     "name": "stderr",
     "output_type": "stream",
     "text": [
      "Calculating centroid distance: 100%|██████| 4234/4234 [00:00<00:00, 4731.94it/s]\n"
     ]
    }
   ],
   "source": [
    "question_scores = centroid_retrieval.calculate_centroid_score(\n",
    "    questions_similarities=question_similarities['questions'],\n",
    "    abstract_weight=ABSTRACT_WEIGHT,\n",
    "    title_weight=TITLE_WEIGHT\n",
    ")"
   ]
  },
  {
   "cell_type": "markdown",
   "id": "0f686d87-cc77-4ab2-a45a-1ed49b99c1dd",
   "metadata": {},
   "source": [
    "## Selecting useful documents only from original question dictionaries\n",
    "### Original dict (for Andres model)"
   ]
  },
  {
   "cell_type": "code",
   "execution_count": 29,
   "id": "ec8fd662-b6b4-4999-a216-6e488e79764c",
   "metadata": {},
   "outputs": [
    {
     "name": "stderr",
     "output_type": "stream",
     "text": [
      "Updating dictionary with centroid scores: 100%|█| 4234/4234 [00:00<00:00, 14871.\n"
     ]
    }
   ],
   "source": [
    "centroid_retrieval.update_question_scores_from_raw_data(\n",
    "    raw_questions=merged_questions['questions'],\n",
    "    question_scores=question_scores\n",
    ")"
   ]
  },
  {
   "cell_type": "code",
   "execution_count": 30,
   "id": "7e37f0ed-f135-4d26-bbf6-fe1fe6501ef8",
   "metadata": {},
   "outputs": [
    {
     "name": "stderr",
     "output_type": "stream",
     "text": [
      "Updating dictionary with centroid scores: 100%|█| 4234/4234 [00:00<00:00, 17596.\n"
     ]
    }
   ],
   "source": [
    "centroid_retrieval.update_question_scores(\n",
    "    raw_questions=tokenized_questions['questions'],\n",
    "    question_scores=question_scores\n",
    ")"
   ]
  },
  {
   "cell_type": "code",
   "execution_count": 31,
   "id": "bdde0588-1de7-4c96-be1b-509d62242b5c",
   "metadata": {},
   "outputs": [
    {
     "name": "stderr",
     "output_type": "stream",
     "text": [
      "Updating dictionary with centroid scores: 100%|█| 4234/4234 [00:00<00:00, 17216.\n"
     ]
    }
   ],
   "source": [
    "centroid_retrieval.update_question_scores(\n",
    "    raw_questions=cleaned_questions['questions'],\n",
    "    question_scores=question_scores\n",
    ")"
   ]
  },
  {
   "cell_type": "markdown",
   "id": "da7233a9-43d2-427f-b8c3-403b71f64c5b",
   "metadata": {},
   "source": [
    "## Saving into disk"
   ]
  },
  {
   "cell_type": "code",
   "execution_count": 32,
   "id": "dfe39800-c1a0-4d5c-8fea-8442ad0dabdd",
   "metadata": {},
   "outputs": [],
   "source": [
    "save_json(merged_questions, SAVING_ORIGINAL_PATH)"
   ]
  },
  {
   "cell_type": "code",
   "execution_count": 33,
   "id": "4325024c-917a-4323-8820-d26d0cc5e018",
   "metadata": {},
   "outputs": [],
   "source": [
    "save_json(tokenized_questions, SAVING_TOKENS_PATH)"
   ]
  },
  {
   "cell_type": "code",
   "execution_count": 34,
   "id": "8f453cb1-6446-4b89-bc11-fe90ad46de2e",
   "metadata": {},
   "outputs": [],
   "source": [
    "save_json(cleaned_questions, SAVING_CLEANED_PATH)"
   ]
  },
  {
   "cell_type": "markdown",
   "id": "ed711d91-8b1a-42b4-a967-f72363ead277",
   "metadata": {},
   "source": [
    "## Plotting distribution of number of documents"
   ]
  },
  {
   "cell_type": "code",
   "execution_count": 35,
   "id": "d98bc3e4-9244-4235-b1ee-a5470f5836fe",
   "metadata": {},
   "outputs": [],
   "source": [
    "len_docs = [len(question['documents']) for question in merged_questions['questions']]"
   ]
  },
  {
   "cell_type": "code",
   "execution_count": 36,
   "id": "e9791b2e-377a-4a6e-ae79-60d6492a53c8",
   "metadata": {},
   "outputs": [
    {
     "data": {
      "text/plain": [
       "<AxesSubplot:>"
      ]
     },
     "execution_count": 36,
     "metadata": {},
     "output_type": "execute_result"
    },
    {
     "data": {
      "image/png": "[encoded data removed]",
      "text/plain": [
       "<Figure size 1080x720 with 1 Axes>"
      ]
     },
     "metadata": {
      "needs_background": "light"
     },
     "output_type": "display_data"
    }
   ],
   "source": [
    "pd.value_counts(len_docs).sort_index().plot(kind='bar', figsize=(15,10))"
   ]
  },
  {
   "cell_type": "code",
   "execution_count": null,
   "id": "66a4ceab-8053-4676-9284-916bf3f87077",
   "metadata": {},
   "outputs": [],
   "source": []
  }
 ],
 "metadata": {
  "kernelspec": {
   "display_name": "Python 3 (ipykernel)",
   "language": "python",
   "name": "python3"
  },
  "language_info": {
   "codemirror_mode": {
    "name": "ipython",
    "version": 3
   },
   "file_extension": ".py",
   "mimetype": "text/x-python",
   "name": "python",
   "nbconvert_exporter": "python",
   "pygments_lexer": "ipython3",
   "version": "3.9.7"
  }
 },
 "nbformat": 4,
 "nbformat_minor": 5
}
