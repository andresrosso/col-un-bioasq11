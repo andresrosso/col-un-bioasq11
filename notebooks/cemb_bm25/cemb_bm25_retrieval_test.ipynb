{
 "cells": [
  {
   "cell_type": "markdown",
   "id": "d1e9ce4c-a696-4bae-9591-5918421a043f",
   "metadata": {},
   "source": [
    "# Test retrieval from centroid + BM25\n",
    "This notebook uses the script for centroid retrieval parting from BM25 to retrieve a series of candidates usable for next models or even, snippet retrieval directly."
   ]
  },
  {
   "cell_type": "markdown",
   "id": "20f93f69-05e2-4efb-91fd-1dbbf6f10fa7",
   "metadata": {},
   "source": [
    "## Imports"
   ]
  },
  {
   "cell_type": "code",
   "execution_count": 1,
   "id": "8a06692e-04c7-4a45-8f85-0ace2fddb8a4",
   "metadata": {},
   "outputs": [],
   "source": [
    "%load_ext autoreload\n",
    "%autoreload 2\n",
    "\n",
    "import logging\n",
    "from pprint import pprint\n",
    "\n",
    "logger = logging.getLogger(__name__)\n",
    "logger.setLevel(logging.INFO)\n",
    "\n",
    "from src.cemb_bm25 import centroid_retrieval\n",
    "from src.elastic_search_utils.elastic_utils import load_json, save_json"
   ]
  },
  {
   "cell_type": "markdown",
   "id": "49547b6e-b03d-4c29-a86c-d4db50c7a8ee",
   "metadata": {},
   "source": [
    "## Params"
   ]
  },
  {
   "cell_type": "code",
   "execution_count": 2,
   "id": "3e9b7ba8-4f63-4e99-a3f7-e1453937458b",
   "metadata": {},
   "outputs": [],
   "source": [
    "BM25_QUESTIONS = '/datasets/johan_tests_original_format/test_docs_10b.json'\n",
    "\n",
    "ABSTRACT_WEIGHT = 0.7\n",
    "TITLE_WEIGHT = 0.3"
   ]
  },
  {
   "cell_type": "code",
   "execution_count": 3,
   "id": "167fb9dd-38f8-4794-8882-8e2f389cc763",
   "metadata": {},
   "outputs": [],
   "source": [
    "LOADING_FOLDER = '/datasets/johan_tests_original_format_centroid/queried_training_docs'\n",
    "\n",
    "LOADING_ABSTRACT_W2V_PATH = f'{LOADING_FOLDER}/Bio_Word2Vec_doc_abstract_model_10b_train.bin'\n",
    "LOADING_TITLE_W2V_PATH = f'{LOADING_FOLDER}/Bio_Word2Vec_doc_title_model_10b_train.bin'\n",
    "LOADING_QUESTION_W2V_PATH = f'{LOADING_FOLDER}/Bio_Word2Vec_doc_question_model_10b_train.bin'"
   ]
  },
  {
   "cell_type": "markdown",
   "id": "e9618f7c-ccb7-43a3-b572-f1288bb2af19",
   "metadata": {},
   "source": [
    "## Saving directions"
   ]
  },
  {
   "cell_type": "code",
   "execution_count": 4,
   "id": "7a4fc623-f474-4c09-a8d1-143901bc6ae4",
   "metadata": {},
   "outputs": [],
   "source": [
    "SAVING_FOLDER = '/datasets/johan_tests_original_format_centroid/queried_training_docs'\n",
    "\n",
    "SAVING_ORIGINAL_PATH = f'{SAVING_FOLDER}/test_original_10b.json'\n",
    "SAVING_TOKENS_PATH = f'{SAVING_FOLDER}/test_tokens_10b.json'\n",
    "SAVING_CLEANED_PATH = f'{SAVING_FOLDER}/test_cleaned_10b.json'"
   ]
  },
  {
   "cell_type": "markdown",
   "id": "a6a9b72d-dac6-4d8a-9cbf-4b90746a9d27",
   "metadata": {},
   "source": [
    "## Constants"
   ]
  },
  {
   "cell_type": "code",
   "execution_count": 5,
   "id": "978605c1-d1e6-4d2a-bc27-ca1ef067872e",
   "metadata": {},
   "outputs": [],
   "source": [
    "questions = load_json(BM25_QUESTIONS)"
   ]
  },
  {
   "cell_type": "markdown",
   "id": "f24e0aab-8c88-403c-84e6-d7fb7876cbff",
   "metadata": {},
   "source": [
    "## Extracting tokens for valid documents\n",
    "Only documents with abstract will be kept.\n",
    "\n",
    "One dict cleaned-tokenized, another only cleaned."
   ]
  },
  {
   "cell_type": "code",
   "execution_count": 6,
   "id": "cf6dcc51-30d7-4d21-a150-e123e1ec49be",
   "metadata": {},
   "outputs": [
    {
     "name": "stderr",
     "output_type": "stream",
     "text": [
      "Extracting unique doc info: 100%|███████████████| 90/90 [00:04<00:00, 22.44it/s]\n"
     ]
    }
   ],
   "source": [
    "tokenized_unique_docs, cleaned_unique_docs = centroid_retrieval.extract_unique_doc_info(\n",
    "    questions=questions['questions']\n",
    ")"
   ]
  },
  {
   "cell_type": "markdown",
   "id": "2cab8c72-e405-4301-baa9-d34250c5d506",
   "metadata": {
    "tags": []
   },
   "source": [
    "## Tokenize question body and replace documents with tokenized documents"
   ]
  },
  {
   "cell_type": "code",
   "execution_count": 7,
   "id": "48874d39-4265-465b-8358-793f6260cebe",
   "metadata": {},
   "outputs": [
    {
     "name": "stderr",
     "output_type": "stream",
     "text": [
      "Selecting useful documents: 100%|█████████████| 90/90 [00:00<00:00, 5965.92it/s]\n"
     ]
    }
   ],
   "source": [
    "tokenized_questions, question_solving_doc_ids = centroid_retrieval.select_questions_useful_documents(\n",
    "    questions=questions['questions'],\n",
    "    unique_docs=tokenized_unique_docs,\n",
    "    use_tokens=True\n",
    ")"
   ]
  },
  {
   "cell_type": "code",
   "execution_count": 8,
   "id": "013e5ab0-5b56-4996-ae84-1525fcdf4c8b",
   "metadata": {},
   "outputs": [],
   "source": [
    "tokenized_questions = {'questions': tokenized_questions}"
   ]
  },
  {
   "cell_type": "markdown",
   "id": "35701861-6075-4678-aa1f-6ce7174cbbc4",
   "metadata": {},
   "source": [
    "## Clean question body and replace documents with cleaned documents"
   ]
  },
  {
   "cell_type": "code",
   "execution_count": 9,
   "id": "c7785ac6-6f43-4282-9697-aee448d501e3",
   "metadata": {},
   "outputs": [
    {
     "name": "stderr",
     "output_type": "stream",
     "text": [
      "Selecting useful documents: 100%|█████████████| 90/90 [00:00<00:00, 7629.86it/s]\n"
     ]
    }
   ],
   "source": [
    "cleaned_questions, _ = centroid_retrieval.select_questions_useful_documents(\n",
    "    questions=questions['questions'],\n",
    "    unique_docs=cleaned_unique_docs,\n",
    "    use_tokens=False\n",
    ")"
   ]
  },
  {
   "cell_type": "code",
   "execution_count": 10,
   "id": "28ffd11a-b014-4415-b87a-793a226ea493",
   "metadata": {},
   "outputs": [],
   "source": [
    "cleaned_questions = {'questions': cleaned_questions}"
   ]
  },
  {
   "cell_type": "markdown",
   "id": "aab486ae-53f0-4dcb-bf7e-38fdd2e7d86e",
   "metadata": {},
   "source": [
    "## Extracting unique tokenized abstracts and titles for word2vec"
   ]
  },
  {
   "cell_type": "code",
   "execution_count": 11,
   "id": "a502a63e-68ee-4432-b879-6ffa34cea734",
   "metadata": {},
   "outputs": [],
   "source": [
    "unique_abstract_tokens, unique_title_tokens = centroid_retrieval.extract_unique_titles_and_abstracts(\n",
    "    tokenized_unique_docs=tokenized_unique_docs,\n",
    "    question_solving_doc_ids=question_solving_doc_ids\n",
    ")"
   ]
  },
  {
   "cell_type": "code",
   "execution_count": 12,
   "id": "e6e402c2-189c-4ac8-a3d4-e7c68dcbaf66",
   "metadata": {},
   "outputs": [
    {
     "data": {
      "text/plain": [
       "(7477, 7477)"
      ]
     },
     "execution_count": 12,
     "metadata": {},
     "output_type": "execute_result"
    }
   ],
   "source": [
    "len(unique_abstract_tokens), len(unique_title_tokens)"
   ]
  },
  {
   "cell_type": "code",
   "execution_count": 13,
   "id": "158d1de4-a2e3-4872-83ba-d6f558a5e57b",
   "metadata": {},
   "outputs": [
    {
     "data": {
      "text/plain": [
       "(207, 14)"
      ]
     },
     "execution_count": 13,
     "metadata": {},
     "output_type": "execute_result"
    }
   ],
   "source": [
    "len(list(unique_abstract_tokens.values())[0]), len(list(unique_title_tokens.values())[0])"
   ]
  },
  {
   "cell_type": "markdown",
   "id": "f96ef20a-931f-466c-b1f8-0b57f666f862",
   "metadata": {},
   "source": [
    "## Extracting unique tokenized questions for word2vec"
   ]
  },
  {
   "cell_type": "code",
   "execution_count": 14,
   "id": "c064bb00-ca79-4d64-8474-a634ec4a79bb",
   "metadata": {},
   "outputs": [],
   "source": [
    "unique_question_tokens = centroid_retrieval.extract_unique_questions(\n",
    "    tokenized_questions['questions']\n",
    ")"
   ]
  },
  {
   "cell_type": "code",
   "execution_count": 15,
   "id": "714c4e0b-0f21-4f7f-bbb5-068e10b2dc86",
   "metadata": {},
   "outputs": [
    {
     "data": {
      "text/plain": [
       "90"
      ]
     },
     "execution_count": 15,
     "metadata": {},
     "output_type": "execute_result"
    }
   ],
   "source": [
    "len(unique_question_tokens)"
   ]
  },
  {
   "cell_type": "code",
   "execution_count": 16,
   "id": "713f0f9f-4e13-4604-803f-58cfa4e12b40",
   "metadata": {},
   "outputs": [
    {
     "data": {
      "text/plain": [
       "15"
      ]
     },
     "execution_count": 16,
     "metadata": {},
     "output_type": "execute_result"
    }
   ],
   "source": [
    "len(list(unique_question_tokens.values())[0])"
   ]
  },
  {
   "cell_type": "markdown",
   "id": "6e503a2c-3fd7-422d-b454-69898924aa3e",
   "metadata": {},
   "source": [
    "## Loading models w2vec models for questions, titles and abstracts"
   ]
  },
  {
   "cell_type": "code",
   "execution_count": 17,
   "id": "6bd31c3e-7a66-45eb-ae6c-0b68b068fcf4",
   "metadata": {},
   "outputs": [],
   "source": [
    "question_w2vec_model = centroid_retrieval.load_bio_w2vec_model(LOADING_QUESTION_W2V_PATH)"
   ]
  },
  {
   "cell_type": "code",
   "execution_count": 18,
   "id": "3a3b9cae-0508-4227-97d2-0e6d999f3ade",
   "metadata": {},
   "outputs": [],
   "source": [
    "abstract_w2vec_model = centroid_retrieval.load_bio_w2vec_model(LOADING_ABSTRACT_W2V_PATH)"
   ]
  },
  {
   "cell_type": "code",
   "execution_count": 19,
   "id": "33823e07-82f2-413e-939e-5017002a6d22",
   "metadata": {},
   "outputs": [],
   "source": [
    "title_w2vec_model = centroid_retrieval.load_bio_w2vec_model(LOADING_TITLE_W2V_PATH)"
   ]
  },
  {
   "cell_type": "markdown",
   "id": "d40ce527-26a0-4439-b4b8-dbeb1d5d7984",
   "metadata": {},
   "source": [
    "## Calculating centroids"
   ]
  },
  {
   "cell_type": "code",
   "execution_count": 20,
   "id": "4ce68b90-2204-4feb-903f-1bdc933c69f6",
   "metadata": {},
   "outputs": [
    {
     "name": "stderr",
     "output_type": "stream",
     "text": [
      "Extracting centroids: 100%|██████████████████| 90/90 [00:00<00:00, 30795.18it/s]\n"
     ]
    }
   ],
   "source": [
    "question_centroids = centroid_retrieval.calculate_centroids_test(\n",
    "    text_tokens=unique_question_tokens,\n",
    "    model=question_w2vec_model\n",
    ")"
   ]
  },
  {
   "cell_type": "code",
   "execution_count": 21,
   "id": "5d033e34-a32c-4345-97c2-02c5cb24fb45",
   "metadata": {},
   "outputs": [
    {
     "name": "stderr",
     "output_type": "stream",
     "text": [
      "Extracting centroids: 100%|███████████████| 7477/7477 [00:01<00:00, 4921.83it/s]\n"
     ]
    }
   ],
   "source": [
    "abstract_centroids = centroid_retrieval.calculate_centroids_test(\n",
    "    text_tokens=unique_abstract_tokens,\n",
    "    model=abstract_w2vec_model\n",
    ")"
   ]
  },
  {
   "cell_type": "code",
   "execution_count": 22,
   "id": "acffbac0-f9bf-4734-8181-521062516f18",
   "metadata": {},
   "outputs": [
    {
     "name": "stderr",
     "output_type": "stream",
     "text": [
      "Extracting centroids: 100%|██████████████| 7477/7477 [00:00<00:00, 38293.37it/s]\n"
     ]
    }
   ],
   "source": [
    "title_centroids = centroid_retrieval.calculate_centroids_test(\n",
    "    text_tokens=unique_title_tokens,\n",
    "    model=title_w2vec_model\n",
    ")"
   ]
  },
  {
   "cell_type": "markdown",
   "id": "ed330439-e913-4419-9ef2-e1bf5a44758b",
   "metadata": {},
   "source": [
    "## Calculating question cosine similarities to answers"
   ]
  },
  {
   "cell_type": "code",
   "execution_count": 23,
   "id": "faf7707c-8c70-4a48-8533-991b448dcdb1",
   "metadata": {},
   "outputs": [
    {
     "name": "stderr",
     "output_type": "stream",
     "text": [
      "Calculating cosine similarity:   0%|                     | 0/90 [00:00<?, ?it/s]/home/jodrodriguezpo/Documentos/bioASQ2022/repo/col-un-bioasq10/src/cemb_bm25/centroid_retrieval.py:146: RuntimeWarning: invalid value encountered in double_scalars\n",
      "  cosine_similarity = projection / normalization\n",
      "Calculating cosine similarity: 100%|███████████| 90/90 [00:00<00:00, 529.54it/s]\n"
     ]
    }
   ],
   "source": [
    "question_similarities = centroid_retrieval.calculate_question_answer_similarity(\n",
    "    tokenized_questions=tokenized_questions['questions'],\n",
    "    question_centroids=question_centroids,\n",
    "    abstract_centroids=abstract_centroids,\n",
    "    title_centroids=title_centroids\n",
    ")"
   ]
  },
  {
   "cell_type": "markdown",
   "id": "8cffc36c-ccce-4082-8d2d-ebf7552fe0d6",
   "metadata": {},
   "source": [
    "## Calculating document scores for questions"
   ]
  },
  {
   "cell_type": "code",
   "execution_count": 24,
   "id": "6c4fdfad-af3b-4c01-9e09-82eaa0ced44e",
   "metadata": {},
   "outputs": [
    {
     "name": "stderr",
     "output_type": "stream",
     "text": [
      "Calculating centroid distance: 100%|█████████| 90/90 [00:00<00:00, 14448.72it/s]\n"
     ]
    }
   ],
   "source": [
    "question_scores = centroid_retrieval.calculate_centroid_score(\n",
    "    questions_similarities=question_similarities['questions'],\n",
    "    abstract_weight=ABSTRACT_WEIGHT,\n",
    "    title_weight=TITLE_WEIGHT\n",
    ")"
   ]
  },
  {
   "cell_type": "markdown",
   "id": "52c1d075-766e-44dc-ab79-d808195bab22",
   "metadata": {},
   "source": [
    "## Selecting useful documents only from original question dictionaries\n",
    "### Original dict (for Andres model)"
   ]
  },
  {
   "cell_type": "code",
   "execution_count": 25,
   "id": "ec8fd662-b6b4-4999-a216-6e488e79764c",
   "metadata": {},
   "outputs": [
    {
     "name": "stderr",
     "output_type": "stream",
     "text": [
      "Updating dictionary with centroid scores: 100%|█| 90/90 [00:00<00:00, 24142.19it\n"
     ]
    }
   ],
   "source": [
    "centroid_retrieval.update_question_scores_from_raw_data(\n",
    "    raw_questions=questions['questions'],\n",
    "    question_scores=question_scores\n",
    ")"
   ]
  },
  {
   "cell_type": "code",
   "execution_count": 26,
   "id": "7e37f0ed-f135-4d26-bbf6-fe1fe6501ef8",
   "metadata": {},
   "outputs": [
    {
     "name": "stderr",
     "output_type": "stream",
     "text": [
      "Updating dictionary with centroid scores: 100%|█| 90/90 [00:00<00:00, 22513.71it\n"
     ]
    }
   ],
   "source": [
    "centroid_retrieval.update_question_scores_from_raw_data(\n",
    "    raw_questions=tokenized_questions['questions'],\n",
    "    question_scores=question_scores\n",
    ")"
   ]
  },
  {
   "cell_type": "code",
   "execution_count": 27,
   "id": "bdde0588-1de7-4c96-be1b-509d62242b5c",
   "metadata": {},
   "outputs": [
    {
     "name": "stderr",
     "output_type": "stream",
     "text": [
      "Updating dictionary with centroid scores: 100%|█| 90/90 [00:00<00:00, 18506.10it\n"
     ]
    }
   ],
   "source": [
    "centroid_retrieval.update_question_scores_from_raw_data(\n",
    "    raw_questions=cleaned_questions['questions'],\n",
    "    question_scores=question_scores\n",
    ")"
   ]
  },
  {
   "cell_type": "markdown",
   "id": "9d7c36e3-4ea7-4389-ac30-dfc8e286757e",
   "metadata": {},
   "source": [
    "## Saving into disk"
   ]
  },
  {
   "cell_type": "code",
   "execution_count": 28,
   "id": "dfe39800-c1a0-4d5c-8fea-8442ad0dabdd",
   "metadata": {},
   "outputs": [],
   "source": [
    "save_json(questions, SAVING_ORIGINAL_PATH)"
   ]
  },
  {
   "cell_type": "code",
   "execution_count": 29,
   "id": "4325024c-917a-4323-8820-d26d0cc5e018",
   "metadata": {},
   "outputs": [],
   "source": [
    "save_json(tokenized_questions, SAVING_TOKENS_PATH)"
   ]
  },
  {
   "cell_type": "code",
   "execution_count": 30,
   "id": "8f453cb1-6446-4b89-bc11-fe90ad46de2e",
   "metadata": {},
   "outputs": [],
   "source": [
    "save_json(cleaned_questions, SAVING_CLEANED_PATH)"
   ]
  },
  {
   "cell_type": "code",
   "execution_count": null,
   "id": "a08b7477-eb78-4943-a9c2-b4e0994551be",
   "metadata": {},
   "outputs": [],
   "source": []
  }
 ],
 "metadata": {
  "kernelspec": {
   "display_name": "Python 3 (ipykernel)",
   "language": "python",
   "name": "python3"
  },
  "language_info": {
   "codemirror_mode": {
    "name": "ipython",
    "version": 3
   },
   "file_extension": ".py",
   "mimetype": "text/x-python",
   "name": "python",
   "nbconvert_exporter": "python",
   "pygments_lexer": "ipython3",
   "version": "3.9.7"
  }
 },
 "nbformat": 4,
 "nbformat_minor": 5
}
