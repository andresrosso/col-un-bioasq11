{
 "cells": [
  {
   "cell_type": "code",
   "execution_count": 1,
   "id": "3019e841",
   "metadata": {},
   "outputs": [],
   "source": [
    "import json"
   ]
  },
  {
   "cell_type": "code",
   "execution_count": 9,
   "id": "22aaec8a",
   "metadata": {},
   "outputs": [],
   "source": [
    "name = 'BioASQ-task11bPhaseA-testset3_model_bm25_ranker_reader_covid_ans_score_0_4_sentence_sim.json'\n",
    "js = json.load(open(name, 'r'))"
   ]
  },
  {
   "cell_type": "code",
   "execution_count": 10,
   "id": "71f2c367",
   "metadata": {},
   "outputs": [],
   "source": [
    "for q in js['questions']:\n",
    "    for s in q['snippets']:\n",
    "        s['beginSection'] = s['beginSection'][0] "
   ]
  },
  {
   "cell_type": "code",
   "execution_count": 12,
   "id": "0624d6f2",
   "metadata": {},
   "outputs": [],
   "source": [
    "with open(name, \"w\") as outfile:\n",
    "    json.dump(js, outfile, indent=2)"
   ]
  },
  {
   "cell_type": "code",
   "execution_count": null,
   "id": "486d889e",
   "metadata": {},
   "outputs": [],
   "source": []
  }
 ],
 "metadata": {
  "kernelspec": {
   "display_name": "haystack-py310",
   "language": "python",
   "name": "haystack-py310"
  },
  "language_info": {
   "codemirror_mode": {
    "name": "ipython",
    "version": 3
   },
   "file_extension": ".py",
   "mimetype": "text/x-python",
   "name": "python",
   "nbconvert_exporter": "python",
   "pygments_lexer": "ipython3",
   "version": "3.10.10"
  }
 },
 "nbformat": 4,
 "nbformat_minor": 5
}
